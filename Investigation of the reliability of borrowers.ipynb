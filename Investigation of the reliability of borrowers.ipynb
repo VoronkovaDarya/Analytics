{
 "cells": [
  {
   "cell_type": "markdown",
   "id": "287810fb",
   "metadata": {},
   "source": [
    "# Исследование надежности заемщиков."
   ]
  },
  {
   "cell_type": "markdown",
   "id": "e0bf8c4f",
   "metadata": {},
   "source": [
    "Задача:\n",
    "Необходимо найти зависимости и определить, влияет ли семейное положение и количество детей клиента на факт погашения кредита в срок. Входные данные от банка — статистика о платёжеспособности клиентов."
   ]
  },
  {
   "cell_type": "markdown",
   "id": "a80baef0",
   "metadata": {},
   "source": [
    "### Шаг 1. Обзор данных"
   ]
  },
  {
   "cell_type": "code",
   "execution_count": 2,
   "id": "3ace33aa",
   "metadata": {},
   "outputs": [],
   "source": [
    "import pandas as pd"
   ]
  },
  {
   "cell_type": "code",
   "execution_count": 3,
   "id": "3896b519",
   "metadata": {},
   "outputs": [
    {
     "name": "stdout",
     "output_type": "stream",
     "text": [
      "<class 'pandas.core.frame.DataFrame'>\n",
      "RangeIndex: 21525 entries, 0 to 21524\n",
      "Data columns (total 12 columns):\n",
      " #   Column            Non-Null Count  Dtype  \n",
      "---  ------            --------------  -----  \n",
      " 0   children          21525 non-null  int64  \n",
      " 1   days_employed     19351 non-null  float64\n",
      " 2   dob_years         21525 non-null  int64  \n",
      " 3   education         21525 non-null  object \n",
      " 4   education_id      21525 non-null  int64  \n",
      " 5   family_status     21525 non-null  object \n",
      " 6   family_status_id  21525 non-null  int64  \n",
      " 7   gender            21525 non-null  object \n",
      " 8   income_type       21525 non-null  object \n",
      " 9   debt              21525 non-null  int64  \n",
      " 10  total_income      19351 non-null  float64\n",
      " 11  purpose           21525 non-null  object \n",
      "dtypes: float64(2), int64(5), object(5)\n",
      "memory usage: 2.0+ MB\n"
     ]
    },
    {
     "data": {
      "text/html": [
       "<div>\n",
       "<style scoped>\n",
       "    .dataframe tbody tr th:only-of-type {\n",
       "        vertical-align: middle;\n",
       "    }\n",
       "\n",
       "    .dataframe tbody tr th {\n",
       "        vertical-align: top;\n",
       "    }\n",
       "\n",
       "    .dataframe thead th {\n",
       "        text-align: right;\n",
       "    }\n",
       "</style>\n",
       "<table border=\"1\" class=\"dataframe\">\n",
       "  <thead>\n",
       "    <tr style=\"text-align: right;\">\n",
       "      <th></th>\n",
       "      <th>children</th>\n",
       "      <th>days_employed</th>\n",
       "      <th>dob_years</th>\n",
       "      <th>education</th>\n",
       "      <th>education_id</th>\n",
       "      <th>family_status</th>\n",
       "      <th>family_status_id</th>\n",
       "      <th>gender</th>\n",
       "      <th>income_type</th>\n",
       "      <th>debt</th>\n",
       "      <th>total_income</th>\n",
       "      <th>purpose</th>\n",
       "    </tr>\n",
       "  </thead>\n",
       "  <tbody>\n",
       "    <tr>\n",
       "      <th>0</th>\n",
       "      <td>1</td>\n",
       "      <td>-8437.673028</td>\n",
       "      <td>42</td>\n",
       "      <td>высшее</td>\n",
       "      <td>0</td>\n",
       "      <td>женат / замужем</td>\n",
       "      <td>0</td>\n",
       "      <td>F</td>\n",
       "      <td>сотрудник</td>\n",
       "      <td>0</td>\n",
       "      <td>253875.639453</td>\n",
       "      <td>покупка жилья</td>\n",
       "    </tr>\n",
       "    <tr>\n",
       "      <th>1</th>\n",
       "      <td>1</td>\n",
       "      <td>-4024.803754</td>\n",
       "      <td>36</td>\n",
       "      <td>среднее</td>\n",
       "      <td>1</td>\n",
       "      <td>женат / замужем</td>\n",
       "      <td>0</td>\n",
       "      <td>F</td>\n",
       "      <td>сотрудник</td>\n",
       "      <td>0</td>\n",
       "      <td>112080.014102</td>\n",
       "      <td>приобретение автомобиля</td>\n",
       "    </tr>\n",
       "    <tr>\n",
       "      <th>2</th>\n",
       "      <td>0</td>\n",
       "      <td>-5623.422610</td>\n",
       "      <td>33</td>\n",
       "      <td>Среднее</td>\n",
       "      <td>1</td>\n",
       "      <td>женат / замужем</td>\n",
       "      <td>0</td>\n",
       "      <td>M</td>\n",
       "      <td>сотрудник</td>\n",
       "      <td>0</td>\n",
       "      <td>145885.952297</td>\n",
       "      <td>покупка жилья</td>\n",
       "    </tr>\n",
       "    <tr>\n",
       "      <th>3</th>\n",
       "      <td>3</td>\n",
       "      <td>-4124.747207</td>\n",
       "      <td>32</td>\n",
       "      <td>среднее</td>\n",
       "      <td>1</td>\n",
       "      <td>женат / замужем</td>\n",
       "      <td>0</td>\n",
       "      <td>M</td>\n",
       "      <td>сотрудник</td>\n",
       "      <td>0</td>\n",
       "      <td>267628.550329</td>\n",
       "      <td>дополнительное образование</td>\n",
       "    </tr>\n",
       "    <tr>\n",
       "      <th>4</th>\n",
       "      <td>0</td>\n",
       "      <td>340266.072047</td>\n",
       "      <td>53</td>\n",
       "      <td>среднее</td>\n",
       "      <td>1</td>\n",
       "      <td>гражданский брак</td>\n",
       "      <td>1</td>\n",
       "      <td>F</td>\n",
       "      <td>пенсионер</td>\n",
       "      <td>0</td>\n",
       "      <td>158616.077870</td>\n",
       "      <td>сыграть свадьбу</td>\n",
       "    </tr>\n",
       "    <tr>\n",
       "      <th>5</th>\n",
       "      <td>0</td>\n",
       "      <td>-926.185831</td>\n",
       "      <td>27</td>\n",
       "      <td>высшее</td>\n",
       "      <td>0</td>\n",
       "      <td>гражданский брак</td>\n",
       "      <td>1</td>\n",
       "      <td>M</td>\n",
       "      <td>компаньон</td>\n",
       "      <td>0</td>\n",
       "      <td>255763.565419</td>\n",
       "      <td>покупка жилья</td>\n",
       "    </tr>\n",
       "    <tr>\n",
       "      <th>6</th>\n",
       "      <td>0</td>\n",
       "      <td>-2879.202052</td>\n",
       "      <td>43</td>\n",
       "      <td>высшее</td>\n",
       "      <td>0</td>\n",
       "      <td>женат / замужем</td>\n",
       "      <td>0</td>\n",
       "      <td>F</td>\n",
       "      <td>компаньон</td>\n",
       "      <td>0</td>\n",
       "      <td>240525.971920</td>\n",
       "      <td>операции с жильем</td>\n",
       "    </tr>\n",
       "    <tr>\n",
       "      <th>7</th>\n",
       "      <td>0</td>\n",
       "      <td>-152.779569</td>\n",
       "      <td>50</td>\n",
       "      <td>СРЕДНЕЕ</td>\n",
       "      <td>1</td>\n",
       "      <td>женат / замужем</td>\n",
       "      <td>0</td>\n",
       "      <td>M</td>\n",
       "      <td>сотрудник</td>\n",
       "      <td>0</td>\n",
       "      <td>135823.934197</td>\n",
       "      <td>образование</td>\n",
       "    </tr>\n",
       "    <tr>\n",
       "      <th>8</th>\n",
       "      <td>2</td>\n",
       "      <td>-6929.865299</td>\n",
       "      <td>35</td>\n",
       "      <td>ВЫСШЕЕ</td>\n",
       "      <td>0</td>\n",
       "      <td>гражданский брак</td>\n",
       "      <td>1</td>\n",
       "      <td>F</td>\n",
       "      <td>сотрудник</td>\n",
       "      <td>0</td>\n",
       "      <td>95856.832424</td>\n",
       "      <td>на проведение свадьбы</td>\n",
       "    </tr>\n",
       "    <tr>\n",
       "      <th>9</th>\n",
       "      <td>0</td>\n",
       "      <td>-2188.756445</td>\n",
       "      <td>41</td>\n",
       "      <td>среднее</td>\n",
       "      <td>1</td>\n",
       "      <td>женат / замужем</td>\n",
       "      <td>0</td>\n",
       "      <td>M</td>\n",
       "      <td>сотрудник</td>\n",
       "      <td>0</td>\n",
       "      <td>144425.938277</td>\n",
       "      <td>покупка жилья для семьи</td>\n",
       "    </tr>\n",
       "  </tbody>\n",
       "</table>\n",
       "</div>"
      ],
      "text/plain": [
       "   children  days_employed  dob_years education  education_id  \\\n",
       "0         1   -8437.673028         42    высшее             0   \n",
       "1         1   -4024.803754         36   среднее             1   \n",
       "2         0   -5623.422610         33   Среднее             1   \n",
       "3         3   -4124.747207         32   среднее             1   \n",
       "4         0  340266.072047         53   среднее             1   \n",
       "5         0    -926.185831         27    высшее             0   \n",
       "6         0   -2879.202052         43    высшее             0   \n",
       "7         0    -152.779569         50   СРЕДНЕЕ             1   \n",
       "8         2   -6929.865299         35    ВЫСШЕЕ             0   \n",
       "9         0   -2188.756445         41   среднее             1   \n",
       "\n",
       "      family_status  family_status_id gender income_type  debt   total_income  \\\n",
       "0   женат / замужем                 0      F   сотрудник     0  253875.639453   \n",
       "1   женат / замужем                 0      F   сотрудник     0  112080.014102   \n",
       "2   женат / замужем                 0      M   сотрудник     0  145885.952297   \n",
       "3   женат / замужем                 0      M   сотрудник     0  267628.550329   \n",
       "4  гражданский брак                 1      F   пенсионер     0  158616.077870   \n",
       "5  гражданский брак                 1      M   компаньон     0  255763.565419   \n",
       "6   женат / замужем                 0      F   компаньон     0  240525.971920   \n",
       "7   женат / замужем                 0      M   сотрудник     0  135823.934197   \n",
       "8  гражданский брак                 1      F   сотрудник     0   95856.832424   \n",
       "9   женат / замужем                 0      M   сотрудник     0  144425.938277   \n",
       "\n",
       "                      purpose  \n",
       "0               покупка жилья  \n",
       "1     приобретение автомобиля  \n",
       "2               покупка жилья  \n",
       "3  дополнительное образование  \n",
       "4             сыграть свадьбу  \n",
       "5               покупка жилья  \n",
       "6           операции с жильем  \n",
       "7                 образование  \n",
       "8       на проведение свадьбы  \n",
       "9     покупка жилья для семьи  "
      ]
     },
     "metadata": {},
     "output_type": "display_data"
    },
    {
     "data": {
      "text/plain": [
       "children               0\n",
       "days_employed       2174\n",
       "dob_years              0\n",
       "education              0\n",
       "education_id           0\n",
       "family_status          0\n",
       "family_status_id       0\n",
       "gender                 0\n",
       "income_type            0\n",
       "debt                   0\n",
       "total_income        2174\n",
       "purpose                0\n",
       "dtype: int64"
      ]
     },
     "metadata": {},
     "output_type": "display_data"
    },
    {
     "data": {
      "text/plain": [
       "54"
      ]
     },
     "metadata": {},
     "output_type": "display_data"
    }
   ],
   "source": [
    "df = pd.read_csv('/datasets/data.csv')\n",
    "df.info() # Общий обзор таблицы\n",
    "display(df.head(10)) # Вывод первых десяти строк таблицы\n",
    "display(df.isna().sum()) # Обзор на наличие пропусков в данных\n",
    "display(df.duplicated().sum()) # Обзор на наличие дубликатов в данных"
   ]
  },
  {
   "cell_type": "markdown",
   "id": "e1c7dea2",
   "metadata": {},
   "source": [
    "12 столбцов с 21525 строк данных, два из которых выделяются по меньшему количеству значений.\n",
    "По предварительной оценке видно:\n",
    "- в двух столбцах 'days_employed' и 'total_income' присутствуют пропуски в данных в количестве 2174.\n",
    "- есть наличие 54 строк-дубликатов.\n",
    "- столбец 'total_income' хранит данные о сумме доходов клиентов, а значит формат данных должен быть числовым, при том целочисленным (с округлением до рубля).\n",
    "- неверный регистр записи данных.\n",
    "- присутствуют отрицательные значения, несоответствующие смысловому значению данных столбца, так же следует провести более детальный осмотр на наличие других аномалий в данных."
   ]
  },
  {
   "cell_type": "markdown",
   "id": "58dd866d",
   "metadata": {},
   "source": [
    "### Шаг 2.1 Заполнение пропусков"
   ]
  },
  {
   "cell_type": "code",
   "execution_count": 4,
   "id": "a1007b35",
   "metadata": {},
   "outputs": [
    {
     "data": {
      "text/plain": [
       "children            0\n",
       "days_employed       0\n",
       "dob_years           0\n",
       "education           0\n",
       "education_id        0\n",
       "family_status       0\n",
       "family_status_id    0\n",
       "gender              0\n",
       "income_type         0\n",
       "debt                0\n",
       "total_income        0\n",
       "purpose             0\n",
       "dtype: int64"
      ]
     },
     "execution_count": 4,
     "metadata": {},
     "output_type": "execute_result"
    }
   ],
   "source": [
    "days_median = df['days_employed'].median()\n",
    "total_median = df['total_income'].median()\n",
    "df['days_employed'] = df['days_employed'].fillna(days_median)\n",
    "df['total_income'] = df['total_income'].fillna(total_median)\n",
    "df.isna().sum() # Контрольный вывод на проверку отсутствия пропусков"
   ]
  },
  {
   "cell_type": "markdown",
   "id": "6803d04a",
   "metadata": {},
   "source": [
    "1. Используем функцию isna() для поиска пропущенных значений и применяем его ко всему датафрэйму, а функцией sum() находим их общее количество по каждому из 12-ти столбцов (df.isna().sum()). Результатом является следующие данные: в двух столбцах 'days_employed' и 'total_income' было найдено 2174 пропуска, это 11.23% от общего количества (общее число значений в каждом из двух столбцов составляет 19351).\n",
    "2. Скорее пропуски несут естественный характер. Все пропущенные значения в двух столбцах относятся к одним и тем же людям, то есть строки и их количество в обоих столбцах совпадают. Люди к которым относятся пропущенные значения на данный момент являются безработными т.к. столбцы отвечают за стаж и за доход.\n",
    "3. Медиана более реальна, и т.к. здесь ассиметричное распределение данных, она отражает среднюю тенденцию."
   ]
  },
  {
   "cell_type": "markdown",
   "id": "3537dbb7",
   "metadata": {},
   "source": [
    "### Шаг 2.2 Проверка данных на аномалии и исправления."
   ]
  },
  {
   "cell_type": "code",
   "execution_count": 5,
   "id": "9489bef6",
   "metadata": {},
   "outputs": [],
   "source": [
    "df['days_employed'] =  df['days_employed'].abs()\n",
    "df['children'] =  df['children'].abs() #Убираем все отрицательные значения в столбцах"
   ]
  },
  {
   "cell_type": "code",
   "execution_count": 6,
   "id": "0db18acb",
   "metadata": {},
   "outputs": [],
   "source": [
    "df['purpose'] = df['purpose'].replace('ремонт жилью', 'ремонт жилья')\n",
    "df['education_id'] = df['education_id'].astype('str')\n",
    "df['education_id'] = df['education_id'].replace(to_replace=[0, 1, 2, 3], \n",
    "    value=['A', 'C', 'B', 'D'])"
   ]
  },
  {
   "cell_type": "code",
   "execution_count": 7,
   "id": "13393bce",
   "metadata": {},
   "outputs": [
    {
     "data": {
      "text/html": [
       "<div>\n",
       "<style scoped>\n",
       "    .dataframe tbody tr th:only-of-type {\n",
       "        vertical-align: middle;\n",
       "    }\n",
       "\n",
       "    .dataframe tbody tr th {\n",
       "        vertical-align: top;\n",
       "    }\n",
       "\n",
       "    .dataframe thead th {\n",
       "        text-align: right;\n",
       "    }\n",
       "</style>\n",
       "<table border=\"1\" class=\"dataframe\">\n",
       "  <thead>\n",
       "    <tr style=\"text-align: right;\">\n",
       "      <th></th>\n",
       "      <th>children</th>\n",
       "      <th>days_employed</th>\n",
       "      <th>dob_years</th>\n",
       "      <th>education</th>\n",
       "      <th>education_id</th>\n",
       "      <th>family_status</th>\n",
       "      <th>family_status_id</th>\n",
       "      <th>gender</th>\n",
       "      <th>income_type</th>\n",
       "      <th>debt</th>\n",
       "      <th>total_income</th>\n",
       "      <th>purpose</th>\n",
       "    </tr>\n",
       "  </thead>\n",
       "  <tbody>\n",
       "    <tr>\n",
       "      <th>0</th>\n",
       "      <td>1</td>\n",
       "      <td>8437.673028</td>\n",
       "      <td>42</td>\n",
       "      <td>высшее</td>\n",
       "      <td>0</td>\n",
       "      <td>женат / замужем</td>\n",
       "      <td>0</td>\n",
       "      <td>F</td>\n",
       "      <td>сотрудник</td>\n",
       "      <td>0</td>\n",
       "      <td>253875.639453</td>\n",
       "      <td>покупка жилья</td>\n",
       "    </tr>\n",
       "    <tr>\n",
       "      <th>1</th>\n",
       "      <td>1</td>\n",
       "      <td>4024.803754</td>\n",
       "      <td>36</td>\n",
       "      <td>среднее</td>\n",
       "      <td>1</td>\n",
       "      <td>женат / замужем</td>\n",
       "      <td>0</td>\n",
       "      <td>F</td>\n",
       "      <td>сотрудник</td>\n",
       "      <td>0</td>\n",
       "      <td>112080.014102</td>\n",
       "      <td>приобретение автомобиля</td>\n",
       "    </tr>\n",
       "    <tr>\n",
       "      <th>2</th>\n",
       "      <td>0</td>\n",
       "      <td>5623.422610</td>\n",
       "      <td>33</td>\n",
       "      <td>Среднее</td>\n",
       "      <td>1</td>\n",
       "      <td>женат / замужем</td>\n",
       "      <td>0</td>\n",
       "      <td>M</td>\n",
       "      <td>сотрудник</td>\n",
       "      <td>0</td>\n",
       "      <td>145885.952297</td>\n",
       "      <td>покупка жилья</td>\n",
       "    </tr>\n",
       "    <tr>\n",
       "      <th>3</th>\n",
       "      <td>3</td>\n",
       "      <td>4124.747207</td>\n",
       "      <td>32</td>\n",
       "      <td>среднее</td>\n",
       "      <td>1</td>\n",
       "      <td>женат / замужем</td>\n",
       "      <td>0</td>\n",
       "      <td>M</td>\n",
       "      <td>сотрудник</td>\n",
       "      <td>0</td>\n",
       "      <td>267628.550329</td>\n",
       "      <td>дополнительное образование</td>\n",
       "    </tr>\n",
       "    <tr>\n",
       "      <th>4</th>\n",
       "      <td>0</td>\n",
       "      <td>340266.072047</td>\n",
       "      <td>53</td>\n",
       "      <td>среднее</td>\n",
       "      <td>1</td>\n",
       "      <td>гражданский брак</td>\n",
       "      <td>1</td>\n",
       "      <td>F</td>\n",
       "      <td>пенсионер</td>\n",
       "      <td>0</td>\n",
       "      <td>158616.077870</td>\n",
       "      <td>сыграть свадьбу</td>\n",
       "    </tr>\n",
       "    <tr>\n",
       "      <th>5</th>\n",
       "      <td>0</td>\n",
       "      <td>926.185831</td>\n",
       "      <td>27</td>\n",
       "      <td>высшее</td>\n",
       "      <td>0</td>\n",
       "      <td>гражданский брак</td>\n",
       "      <td>1</td>\n",
       "      <td>M</td>\n",
       "      <td>компаньон</td>\n",
       "      <td>0</td>\n",
       "      <td>255763.565419</td>\n",
       "      <td>покупка жилья</td>\n",
       "    </tr>\n",
       "    <tr>\n",
       "      <th>6</th>\n",
       "      <td>0</td>\n",
       "      <td>2879.202052</td>\n",
       "      <td>43</td>\n",
       "      <td>высшее</td>\n",
       "      <td>0</td>\n",
       "      <td>женат / замужем</td>\n",
       "      <td>0</td>\n",
       "      <td>F</td>\n",
       "      <td>компаньон</td>\n",
       "      <td>0</td>\n",
       "      <td>240525.971920</td>\n",
       "      <td>операции с жильем</td>\n",
       "    </tr>\n",
       "    <tr>\n",
       "      <th>7</th>\n",
       "      <td>0</td>\n",
       "      <td>152.779569</td>\n",
       "      <td>50</td>\n",
       "      <td>СРЕДНЕЕ</td>\n",
       "      <td>1</td>\n",
       "      <td>женат / замужем</td>\n",
       "      <td>0</td>\n",
       "      <td>M</td>\n",
       "      <td>сотрудник</td>\n",
       "      <td>0</td>\n",
       "      <td>135823.934197</td>\n",
       "      <td>образование</td>\n",
       "    </tr>\n",
       "    <tr>\n",
       "      <th>8</th>\n",
       "      <td>2</td>\n",
       "      <td>6929.865299</td>\n",
       "      <td>35</td>\n",
       "      <td>ВЫСШЕЕ</td>\n",
       "      <td>0</td>\n",
       "      <td>гражданский брак</td>\n",
       "      <td>1</td>\n",
       "      <td>F</td>\n",
       "      <td>сотрудник</td>\n",
       "      <td>0</td>\n",
       "      <td>95856.832424</td>\n",
       "      <td>на проведение свадьбы</td>\n",
       "    </tr>\n",
       "    <tr>\n",
       "      <th>9</th>\n",
       "      <td>0</td>\n",
       "      <td>2188.756445</td>\n",
       "      <td>41</td>\n",
       "      <td>среднее</td>\n",
       "      <td>1</td>\n",
       "      <td>женат / замужем</td>\n",
       "      <td>0</td>\n",
       "      <td>M</td>\n",
       "      <td>сотрудник</td>\n",
       "      <td>0</td>\n",
       "      <td>144425.938277</td>\n",
       "      <td>покупка жилья для семьи</td>\n",
       "    </tr>\n",
       "  </tbody>\n",
       "</table>\n",
       "</div>"
      ],
      "text/plain": [
       "   children  days_employed  dob_years education education_id  \\\n",
       "0         1    8437.673028         42    высшее            0   \n",
       "1         1    4024.803754         36   среднее            1   \n",
       "2         0    5623.422610         33   Среднее            1   \n",
       "3         3    4124.747207         32   среднее            1   \n",
       "4         0  340266.072047         53   среднее            1   \n",
       "5         0     926.185831         27    высшее            0   \n",
       "6         0    2879.202052         43    высшее            0   \n",
       "7         0     152.779569         50   СРЕДНЕЕ            1   \n",
       "8         2    6929.865299         35    ВЫСШЕЕ            0   \n",
       "9         0    2188.756445         41   среднее            1   \n",
       "\n",
       "      family_status  family_status_id gender income_type  debt   total_income  \\\n",
       "0   женат / замужем                 0      F   сотрудник     0  253875.639453   \n",
       "1   женат / замужем                 0      F   сотрудник     0  112080.014102   \n",
       "2   женат / замужем                 0      M   сотрудник     0  145885.952297   \n",
       "3   женат / замужем                 0      M   сотрудник     0  267628.550329   \n",
       "4  гражданский брак                 1      F   пенсионер     0  158616.077870   \n",
       "5  гражданский брак                 1      M   компаньон     0  255763.565419   \n",
       "6   женат / замужем                 0      F   компаньон     0  240525.971920   \n",
       "7   женат / замужем                 0      M   сотрудник     0  135823.934197   \n",
       "8  гражданский брак                 1      F   сотрудник     0   95856.832424   \n",
       "9   женат / замужем                 0      M   сотрудник     0  144425.938277   \n",
       "\n",
       "                      purpose  \n",
       "0               покупка жилья  \n",
       "1     приобретение автомобиля  \n",
       "2               покупка жилья  \n",
       "3  дополнительное образование  \n",
       "4             сыграть свадьбу  \n",
       "5               покупка жилья  \n",
       "6           операции с жильем  \n",
       "7                 образование  \n",
       "8       на проведение свадьбы  \n",
       "9     покупка жилья для семьи  "
      ]
     },
     "execution_count": 7,
     "metadata": {},
     "output_type": "execute_result"
    }
   ],
   "source": [
    "df.head(10) # Контрольный вывод на проверку того, что отрицательные значения столбца исправлены"
   ]
  },
  {
   "cell_type": "markdown",
   "id": "db4aa545",
   "metadata": {},
   "source": [
    "1. 'ремонт жилью' является одной из аномалий в значениях, где причиной послужил человеческий фактор - простая опечатка. Тоже самое можно сказать про значение '-1' в столбце 'children'.\n",
    "2. Что касается столбца 'education_id' я сменил ему тип данных и поменял соотношение классификации. Ранее порядок был таков: высшее-0, среднее-1, неполное высшее-2, начальное-3 я посчитал что среднее и неоконченное высшее надо поменять местами, т.к. по смыслу это будет верно. Ошибка относится к человеческому фактору, где изначально определили неверный порядок присвоения категории.\n",
    "3. Строка с отрицательным значением в столбце 'children' так же является разовой аномалией и опечаткой.\n",
    "4. Данные в столбце 'days_employed' имеют отрицательный знак только если значение меньше 10000(около того). Возможно это ошибка системы, где изначально выбрана неправильная система подсчета данных, неверное распределение дат к примеру."
   ]
  },
  {
   "cell_type": "markdown",
   "id": "fc23ce79",
   "metadata": {},
   "source": [
    "### Шаг 2.3. Изменение типов данных."
   ]
  },
  {
   "cell_type": "code",
   "execution_count": 8,
   "id": "120480c5",
   "metadata": {},
   "outputs": [
    {
     "name": "stdout",
     "output_type": "stream",
     "text": [
      "<class 'pandas.core.frame.DataFrame'>\n",
      "RangeIndex: 21525 entries, 0 to 21524\n",
      "Data columns (total 12 columns):\n",
      " #   Column            Non-Null Count  Dtype  \n",
      "---  ------            --------------  -----  \n",
      " 0   children          21525 non-null  int64  \n",
      " 1   days_employed     21525 non-null  float64\n",
      " 2   dob_years         21525 non-null  int64  \n",
      " 3   education         21525 non-null  object \n",
      " 4   education_id      21525 non-null  object \n",
      " 5   family_status     21525 non-null  object \n",
      " 6   family_status_id  21525 non-null  int64  \n",
      " 7   gender            21525 non-null  object \n",
      " 8   income_type       21525 non-null  object \n",
      " 9   debt              21525 non-null  int64  \n",
      " 10  total_income      21525 non-null  int64  \n",
      " 11  purpose           21525 non-null  object \n",
      "dtypes: float64(1), int64(5), object(6)\n",
      "memory usage: 2.0+ MB\n"
     ]
    }
   ],
   "source": [
    "df['total_income'] = df['total_income'].astype('int')\n",
    "df.info() # Контрольный вывод на проверку того, что тип столбца действительно изменился"
   ]
  },
  {
   "cell_type": "markdown",
   "id": "5c284d7e",
   "metadata": {},
   "source": [
    "### Шаг 2.4. Удаление дубликатов."
   ]
  },
  {
   "cell_type": "code",
   "execution_count": 9,
   "id": "8de3c188",
   "metadata": {},
   "outputs": [
    {
     "data": {
      "text/plain": [
       "0"
      ]
     },
     "execution_count": 9,
     "metadata": {},
     "output_type": "execute_result"
    }
   ],
   "source": [
    "df['education'] = df['education'].str.lower()\n",
    "df['family_status'] = df['family_status'].str.lower()\n",
    "df = df.drop_duplicates().reset_index(drop=True)\n",
    "df.duplicated().sum() # строка для проверки, что все строки дубликаты действительно удалены"
   ]
  },
  {
   "cell_type": "markdown",
   "id": "a55ba30d",
   "metadata": {},
   "source": [
    "1. Предыдущие выводы первых(можно и последних) строк всей таблицы указали на проблемные столбцы. Метод str.lower() помогает привести все значения к нижнему регистру (строчные буквы), что здесь и необходимо.\n",
    "2. Неверный регистр записи значений связан с ошибкой исполнителя при вводе данных, возможно клиент не обратил внимание на это. В таком случаи можно научить систему приводить все буквы к строчному типу.\n",
    "3. Появление строк дубликатов можно отнести к человеческому фактору(ошибка внесения данных). Так же существует крайне низкая вероятность полного совпадения всех параметров клиента."
   ]
  },
  {
   "cell_type": "markdown",
   "id": "62fab713",
   "metadata": {},
   "source": [
    "### Шаг 2.5. Формирование дополнительных датафреймов словарей, декомпозиция исходного датафрейма."
   ]
  },
  {
   "cell_type": "code",
   "execution_count": 10,
   "id": "85a49952",
   "metadata": {},
   "outputs": [
    {
     "data": {
      "text/html": [
       "<div>\n",
       "<style scoped>\n",
       "    .dataframe tbody tr th:only-of-type {\n",
       "        vertical-align: middle;\n",
       "    }\n",
       "\n",
       "    .dataframe tbody tr th {\n",
       "        vertical-align: top;\n",
       "    }\n",
       "\n",
       "    .dataframe thead th {\n",
       "        text-align: right;\n",
       "    }\n",
       "</style>\n",
       "<table border=\"1\" class=\"dataframe\">\n",
       "  <thead>\n",
       "    <tr style=\"text-align: right;\">\n",
       "      <th></th>\n",
       "      <th>education_id</th>\n",
       "      <th>education</th>\n",
       "    </tr>\n",
       "  </thead>\n",
       "  <tbody>\n",
       "    <tr>\n",
       "      <th>0</th>\n",
       "      <td>0</td>\n",
       "      <td>высшее</td>\n",
       "    </tr>\n",
       "    <tr>\n",
       "      <th>1</th>\n",
       "      <td>1</td>\n",
       "      <td>среднее</td>\n",
       "    </tr>\n",
       "    <tr>\n",
       "      <th>2</th>\n",
       "      <td>1</td>\n",
       "      <td>среднее</td>\n",
       "    </tr>\n",
       "    <tr>\n",
       "      <th>3</th>\n",
       "      <td>1</td>\n",
       "      <td>среднее</td>\n",
       "    </tr>\n",
       "    <tr>\n",
       "      <th>4</th>\n",
       "      <td>1</td>\n",
       "      <td>среднее</td>\n",
       "    </tr>\n",
       "    <tr>\n",
       "      <th>5</th>\n",
       "      <td>0</td>\n",
       "      <td>высшее</td>\n",
       "    </tr>\n",
       "    <tr>\n",
       "      <th>6</th>\n",
       "      <td>0</td>\n",
       "      <td>высшее</td>\n",
       "    </tr>\n",
       "    <tr>\n",
       "      <th>7</th>\n",
       "      <td>1</td>\n",
       "      <td>среднее</td>\n",
       "    </tr>\n",
       "    <tr>\n",
       "      <th>8</th>\n",
       "      <td>0</td>\n",
       "      <td>высшее</td>\n",
       "    </tr>\n",
       "    <tr>\n",
       "      <th>9</th>\n",
       "      <td>1</td>\n",
       "      <td>среднее</td>\n",
       "    </tr>\n",
       "  </tbody>\n",
       "</table>\n",
       "</div>"
      ],
      "text/plain": [
       "  education_id education\n",
       "0            0    высшее\n",
       "1            1   среднее\n",
       "2            1   среднее\n",
       "3            1   среднее\n",
       "4            1   среднее\n",
       "5            0    высшее\n",
       "6            0    высшее\n",
       "7            1   среднее\n",
       "8            0    высшее\n",
       "9            1   среднее"
      ]
     },
     "metadata": {},
     "output_type": "display_data"
    },
    {
     "data": {
      "text/html": [
       "<div>\n",
       "<style scoped>\n",
       "    .dataframe tbody tr th:only-of-type {\n",
       "        vertical-align: middle;\n",
       "    }\n",
       "\n",
       "    .dataframe tbody tr th {\n",
       "        vertical-align: top;\n",
       "    }\n",
       "\n",
       "    .dataframe thead th {\n",
       "        text-align: right;\n",
       "    }\n",
       "</style>\n",
       "<table border=\"1\" class=\"dataframe\">\n",
       "  <thead>\n",
       "    <tr style=\"text-align: right;\">\n",
       "      <th></th>\n",
       "      <th>family_status_id</th>\n",
       "      <th>family_status</th>\n",
       "    </tr>\n",
       "  </thead>\n",
       "  <tbody>\n",
       "    <tr>\n",
       "      <th>0</th>\n",
       "      <td>0</td>\n",
       "      <td>женат / замужем</td>\n",
       "    </tr>\n",
       "    <tr>\n",
       "      <th>1</th>\n",
       "      <td>0</td>\n",
       "      <td>женат / замужем</td>\n",
       "    </tr>\n",
       "    <tr>\n",
       "      <th>2</th>\n",
       "      <td>0</td>\n",
       "      <td>женат / замужем</td>\n",
       "    </tr>\n",
       "    <tr>\n",
       "      <th>3</th>\n",
       "      <td>0</td>\n",
       "      <td>женат / замужем</td>\n",
       "    </tr>\n",
       "    <tr>\n",
       "      <th>4</th>\n",
       "      <td>1</td>\n",
       "      <td>гражданский брак</td>\n",
       "    </tr>\n",
       "    <tr>\n",
       "      <th>5</th>\n",
       "      <td>1</td>\n",
       "      <td>гражданский брак</td>\n",
       "    </tr>\n",
       "    <tr>\n",
       "      <th>6</th>\n",
       "      <td>0</td>\n",
       "      <td>женат / замужем</td>\n",
       "    </tr>\n",
       "    <tr>\n",
       "      <th>7</th>\n",
       "      <td>0</td>\n",
       "      <td>женат / замужем</td>\n",
       "    </tr>\n",
       "    <tr>\n",
       "      <th>8</th>\n",
       "      <td>1</td>\n",
       "      <td>гражданский брак</td>\n",
       "    </tr>\n",
       "    <tr>\n",
       "      <th>9</th>\n",
       "      <td>0</td>\n",
       "      <td>женат / замужем</td>\n",
       "    </tr>\n",
       "  </tbody>\n",
       "</table>\n",
       "</div>"
      ],
      "text/plain": [
       "   family_status_id     family_status\n",
       "0                 0   женат / замужем\n",
       "1                 0   женат / замужем\n",
       "2                 0   женат / замужем\n",
       "3                 0   женат / замужем\n",
       "4                 1  гражданский брак\n",
       "5                 1  гражданский брак\n",
       "6                 0   женат / замужем\n",
       "7                 0   женат / замужем\n",
       "8                 1  гражданский брак\n",
       "9                 0   женат / замужем"
      ]
     },
     "metadata": {},
     "output_type": "display_data"
    }
   ],
   "source": [
    "df_new_education = pd.DataFrame(data=df, columns=['education_id', 'education'])\n",
    "df_new_family_status = pd.DataFrame(data=df, columns=['family_status_id', 'family_status'])\n",
    "df = df.drop(['education', 'family_status'], 1) # Удаление столбцов из исходного датафрейма\n",
    "display(df_new_education.head(10)) # Проверка создания нового датафрейма\n",
    "display(df_new_family_status.head(10)) # Проверка создания нового датафрейма"
   ]
  },
  {
   "cell_type": "markdown",
   "id": "9a719dc1",
   "metadata": {},
   "source": [
    "### Шаг 2.6. Категоризация дохода."
   ]
  },
  {
   "cell_type": "code",
   "execution_count": 11,
   "id": "600056d5",
   "metadata": {},
   "outputs": [
    {
     "data": {
      "text/html": [
       "<div>\n",
       "<style scoped>\n",
       "    .dataframe tbody tr th:only-of-type {\n",
       "        vertical-align: middle;\n",
       "    }\n",
       "\n",
       "    .dataframe tbody tr th {\n",
       "        vertical-align: top;\n",
       "    }\n",
       "\n",
       "    .dataframe thead th {\n",
       "        text-align: right;\n",
       "    }\n",
       "</style>\n",
       "<table border=\"1\" class=\"dataframe\">\n",
       "  <thead>\n",
       "    <tr style=\"text-align: right;\">\n",
       "      <th></th>\n",
       "      <th>children</th>\n",
       "      <th>days_employed</th>\n",
       "      <th>dob_years</th>\n",
       "      <th>education_id</th>\n",
       "      <th>family_status_id</th>\n",
       "      <th>gender</th>\n",
       "      <th>income_type</th>\n",
       "      <th>debt</th>\n",
       "      <th>total_income</th>\n",
       "      <th>purpose</th>\n",
       "      <th>total_income_category</th>\n",
       "    </tr>\n",
       "  </thead>\n",
       "  <tbody>\n",
       "    <tr>\n",
       "      <th>0</th>\n",
       "      <td>1</td>\n",
       "      <td>8437.673028</td>\n",
       "      <td>42</td>\n",
       "      <td>0</td>\n",
       "      <td>0</td>\n",
       "      <td>F</td>\n",
       "      <td>сотрудник</td>\n",
       "      <td>0</td>\n",
       "      <td>253875</td>\n",
       "      <td>покупка жилья</td>\n",
       "      <td>B</td>\n",
       "    </tr>\n",
       "    <tr>\n",
       "      <th>1</th>\n",
       "      <td>1</td>\n",
       "      <td>4024.803754</td>\n",
       "      <td>36</td>\n",
       "      <td>1</td>\n",
       "      <td>0</td>\n",
       "      <td>F</td>\n",
       "      <td>сотрудник</td>\n",
       "      <td>0</td>\n",
       "      <td>112080</td>\n",
       "      <td>приобретение автомобиля</td>\n",
       "      <td>C</td>\n",
       "    </tr>\n",
       "    <tr>\n",
       "      <th>2</th>\n",
       "      <td>0</td>\n",
       "      <td>5623.422610</td>\n",
       "      <td>33</td>\n",
       "      <td>1</td>\n",
       "      <td>0</td>\n",
       "      <td>M</td>\n",
       "      <td>сотрудник</td>\n",
       "      <td>0</td>\n",
       "      <td>145885</td>\n",
       "      <td>покупка жилья</td>\n",
       "      <td>C</td>\n",
       "    </tr>\n",
       "    <tr>\n",
       "      <th>3</th>\n",
       "      <td>3</td>\n",
       "      <td>4124.747207</td>\n",
       "      <td>32</td>\n",
       "      <td>1</td>\n",
       "      <td>0</td>\n",
       "      <td>M</td>\n",
       "      <td>сотрудник</td>\n",
       "      <td>0</td>\n",
       "      <td>267628</td>\n",
       "      <td>дополнительное образование</td>\n",
       "      <td>B</td>\n",
       "    </tr>\n",
       "    <tr>\n",
       "      <th>4</th>\n",
       "      <td>0</td>\n",
       "      <td>340266.072047</td>\n",
       "      <td>53</td>\n",
       "      <td>1</td>\n",
       "      <td>1</td>\n",
       "      <td>F</td>\n",
       "      <td>пенсионер</td>\n",
       "      <td>0</td>\n",
       "      <td>158616</td>\n",
       "      <td>сыграть свадьбу</td>\n",
       "      <td>C</td>\n",
       "    </tr>\n",
       "    <tr>\n",
       "      <th>5</th>\n",
       "      <td>0</td>\n",
       "      <td>926.185831</td>\n",
       "      <td>27</td>\n",
       "      <td>0</td>\n",
       "      <td>1</td>\n",
       "      <td>M</td>\n",
       "      <td>компаньон</td>\n",
       "      <td>0</td>\n",
       "      <td>255763</td>\n",
       "      <td>покупка жилья</td>\n",
       "      <td>B</td>\n",
       "    </tr>\n",
       "    <tr>\n",
       "      <th>6</th>\n",
       "      <td>0</td>\n",
       "      <td>2879.202052</td>\n",
       "      <td>43</td>\n",
       "      <td>0</td>\n",
       "      <td>0</td>\n",
       "      <td>F</td>\n",
       "      <td>компаньон</td>\n",
       "      <td>0</td>\n",
       "      <td>240525</td>\n",
       "      <td>операции с жильем</td>\n",
       "      <td>B</td>\n",
       "    </tr>\n",
       "    <tr>\n",
       "      <th>7</th>\n",
       "      <td>0</td>\n",
       "      <td>152.779569</td>\n",
       "      <td>50</td>\n",
       "      <td>1</td>\n",
       "      <td>0</td>\n",
       "      <td>M</td>\n",
       "      <td>сотрудник</td>\n",
       "      <td>0</td>\n",
       "      <td>135823</td>\n",
       "      <td>образование</td>\n",
       "      <td>C</td>\n",
       "    </tr>\n",
       "    <tr>\n",
       "      <th>8</th>\n",
       "      <td>2</td>\n",
       "      <td>6929.865299</td>\n",
       "      <td>35</td>\n",
       "      <td>0</td>\n",
       "      <td>1</td>\n",
       "      <td>F</td>\n",
       "      <td>сотрудник</td>\n",
       "      <td>0</td>\n",
       "      <td>95856</td>\n",
       "      <td>на проведение свадьбы</td>\n",
       "      <td>C</td>\n",
       "    </tr>\n",
       "    <tr>\n",
       "      <th>9</th>\n",
       "      <td>0</td>\n",
       "      <td>2188.756445</td>\n",
       "      <td>41</td>\n",
       "      <td>1</td>\n",
       "      <td>0</td>\n",
       "      <td>M</td>\n",
       "      <td>сотрудник</td>\n",
       "      <td>0</td>\n",
       "      <td>144425</td>\n",
       "      <td>покупка жилья для семьи</td>\n",
       "      <td>C</td>\n",
       "    </tr>\n",
       "  </tbody>\n",
       "</table>\n",
       "</div>"
      ],
      "text/plain": [
       "   children  days_employed  dob_years education_id  family_status_id gender  \\\n",
       "0         1    8437.673028         42            0                 0      F   \n",
       "1         1    4024.803754         36            1                 0      F   \n",
       "2         0    5623.422610         33            1                 0      M   \n",
       "3         3    4124.747207         32            1                 0      M   \n",
       "4         0  340266.072047         53            1                 1      F   \n",
       "5         0     926.185831         27            0                 1      M   \n",
       "6         0    2879.202052         43            0                 0      F   \n",
       "7         0     152.779569         50            1                 0      M   \n",
       "8         2    6929.865299         35            0                 1      F   \n",
       "9         0    2188.756445         41            1                 0      M   \n",
       "\n",
       "  income_type  debt  total_income                     purpose  \\\n",
       "0   сотрудник     0        253875               покупка жилья   \n",
       "1   сотрудник     0        112080     приобретение автомобиля   \n",
       "2   сотрудник     0        145885               покупка жилья   \n",
       "3   сотрудник     0        267628  дополнительное образование   \n",
       "4   пенсионер     0        158616             сыграть свадьбу   \n",
       "5   компаньон     0        255763               покупка жилья   \n",
       "6   компаньон     0        240525           операции с жильем   \n",
       "7   сотрудник     0        135823                 образование   \n",
       "8   сотрудник     0         95856       на проведение свадьбы   \n",
       "9   сотрудник     0        144425     покупка жилья для семьи   \n",
       "\n",
       "  total_income_category  \n",
       "0                     B  \n",
       "1                     C  \n",
       "2                     C  \n",
       "3                     B  \n",
       "4                     C  \n",
       "5                     B  \n",
       "6                     B  \n",
       "7                     C  \n",
       "8                     C  \n",
       "9                     C  "
      ]
     },
     "execution_count": 11,
     "metadata": {},
     "output_type": "execute_result"
    }
   ],
   "source": [
    "def total_income_category(total_income):\n",
    "    try:\n",
    "        if total_income <= 30000:\n",
    "            return 'E'\n",
    "        if total_income <= 50000:\n",
    "            return 'D'\n",
    "        if total_income <= 200000:\n",
    "            return 'C'\n",
    "        if total_income <= 1000000:\n",
    "            return 'B'\n",
    "        if total_income > 1000000:\n",
    "            return 'A'\n",
    "    except:\n",
    "        return 'Кажется значение вне диапозона, проверьте логическую конструкцию'\n",
    "    \n",
    "df['total_income_category'] = df['total_income'].apply(total_income_category)\n",
    "df.head(10) # Проверка создания столбца с категориями"
   ]
  },
  {
   "cell_type": "markdown",
   "id": "863eeaa0",
   "metadata": {},
   "source": [
    "### Шаг 2.7. Категоризация целей кредита."
   ]
  },
  {
   "cell_type": "code",
   "execution_count": 19,
   "id": "b5cdc82f",
   "metadata": {
    "scrolled": false
   },
   "outputs": [
    {
     "data": {
      "text/html": [
       "<div>\n",
       "<style scoped>\n",
       "    .dataframe tbody tr th:only-of-type {\n",
       "        vertical-align: middle;\n",
       "    }\n",
       "\n",
       "    .dataframe tbody tr th {\n",
       "        vertical-align: top;\n",
       "    }\n",
       "\n",
       "    .dataframe thead th {\n",
       "        text-align: right;\n",
       "    }\n",
       "</style>\n",
       "<table border=\"1\" class=\"dataframe\">\n",
       "  <thead>\n",
       "    <tr style=\"text-align: right;\">\n",
       "      <th></th>\n",
       "      <th>children</th>\n",
       "      <th>days_employed</th>\n",
       "      <th>dob_years</th>\n",
       "      <th>education_id</th>\n",
       "      <th>family_status_id</th>\n",
       "      <th>gender</th>\n",
       "      <th>income_type</th>\n",
       "      <th>debt</th>\n",
       "      <th>total_income</th>\n",
       "      <th>purpose</th>\n",
       "      <th>total_income_category</th>\n",
       "      <th>purpose_category</th>\n",
       "    </tr>\n",
       "  </thead>\n",
       "  <tbody>\n",
       "    <tr>\n",
       "      <th>0</th>\n",
       "      <td>1</td>\n",
       "      <td>8437.673028</td>\n",
       "      <td>42</td>\n",
       "      <td>0</td>\n",
       "      <td>0</td>\n",
       "      <td>F</td>\n",
       "      <td>сотрудник</td>\n",
       "      <td>0</td>\n",
       "      <td>253875</td>\n",
       "      <td>покупка жилья</td>\n",
       "      <td>B</td>\n",
       "      <td>операции с недвижимостью</td>\n",
       "    </tr>\n",
       "    <tr>\n",
       "      <th>1</th>\n",
       "      <td>1</td>\n",
       "      <td>4024.803754</td>\n",
       "      <td>36</td>\n",
       "      <td>1</td>\n",
       "      <td>0</td>\n",
       "      <td>F</td>\n",
       "      <td>сотрудник</td>\n",
       "      <td>0</td>\n",
       "      <td>112080</td>\n",
       "      <td>приобретение автомобиля</td>\n",
       "      <td>C</td>\n",
       "      <td>операции с автомобилем</td>\n",
       "    </tr>\n",
       "    <tr>\n",
       "      <th>2</th>\n",
       "      <td>0</td>\n",
       "      <td>5623.422610</td>\n",
       "      <td>33</td>\n",
       "      <td>1</td>\n",
       "      <td>0</td>\n",
       "      <td>M</td>\n",
       "      <td>сотрудник</td>\n",
       "      <td>0</td>\n",
       "      <td>145885</td>\n",
       "      <td>покупка жилья</td>\n",
       "      <td>C</td>\n",
       "      <td>операции с недвижимостью</td>\n",
       "    </tr>\n",
       "    <tr>\n",
       "      <th>3</th>\n",
       "      <td>3</td>\n",
       "      <td>4124.747207</td>\n",
       "      <td>32</td>\n",
       "      <td>1</td>\n",
       "      <td>0</td>\n",
       "      <td>M</td>\n",
       "      <td>сотрудник</td>\n",
       "      <td>0</td>\n",
       "      <td>267628</td>\n",
       "      <td>дополнительное образование</td>\n",
       "      <td>B</td>\n",
       "      <td>получение образования</td>\n",
       "    </tr>\n",
       "    <tr>\n",
       "      <th>4</th>\n",
       "      <td>0</td>\n",
       "      <td>340266.072047</td>\n",
       "      <td>53</td>\n",
       "      <td>1</td>\n",
       "      <td>1</td>\n",
       "      <td>F</td>\n",
       "      <td>пенсионер</td>\n",
       "      <td>0</td>\n",
       "      <td>158616</td>\n",
       "      <td>сыграть свадьбу</td>\n",
       "      <td>C</td>\n",
       "      <td>проведение свадьбы</td>\n",
       "    </tr>\n",
       "    <tr>\n",
       "      <th>5</th>\n",
       "      <td>0</td>\n",
       "      <td>926.185831</td>\n",
       "      <td>27</td>\n",
       "      <td>0</td>\n",
       "      <td>1</td>\n",
       "      <td>M</td>\n",
       "      <td>компаньон</td>\n",
       "      <td>0</td>\n",
       "      <td>255763</td>\n",
       "      <td>покупка жилья</td>\n",
       "      <td>B</td>\n",
       "      <td>операции с недвижимостью</td>\n",
       "    </tr>\n",
       "    <tr>\n",
       "      <th>6</th>\n",
       "      <td>0</td>\n",
       "      <td>2879.202052</td>\n",
       "      <td>43</td>\n",
       "      <td>0</td>\n",
       "      <td>0</td>\n",
       "      <td>F</td>\n",
       "      <td>компаньон</td>\n",
       "      <td>0</td>\n",
       "      <td>240525</td>\n",
       "      <td>операции с жильем</td>\n",
       "      <td>B</td>\n",
       "      <td>операции с недвижимостью</td>\n",
       "    </tr>\n",
       "    <tr>\n",
       "      <th>7</th>\n",
       "      <td>0</td>\n",
       "      <td>152.779569</td>\n",
       "      <td>50</td>\n",
       "      <td>1</td>\n",
       "      <td>0</td>\n",
       "      <td>M</td>\n",
       "      <td>сотрудник</td>\n",
       "      <td>0</td>\n",
       "      <td>135823</td>\n",
       "      <td>образование</td>\n",
       "      <td>C</td>\n",
       "      <td>получение образования</td>\n",
       "    </tr>\n",
       "    <tr>\n",
       "      <th>8</th>\n",
       "      <td>2</td>\n",
       "      <td>6929.865299</td>\n",
       "      <td>35</td>\n",
       "      <td>0</td>\n",
       "      <td>1</td>\n",
       "      <td>F</td>\n",
       "      <td>сотрудник</td>\n",
       "      <td>0</td>\n",
       "      <td>95856</td>\n",
       "      <td>на проведение свадьбы</td>\n",
       "      <td>C</td>\n",
       "      <td>проведение свадьбы</td>\n",
       "    </tr>\n",
       "    <tr>\n",
       "      <th>9</th>\n",
       "      <td>0</td>\n",
       "      <td>2188.756445</td>\n",
       "      <td>41</td>\n",
       "      <td>1</td>\n",
       "      <td>0</td>\n",
       "      <td>M</td>\n",
       "      <td>сотрудник</td>\n",
       "      <td>0</td>\n",
       "      <td>144425</td>\n",
       "      <td>покупка жилья для семьи</td>\n",
       "      <td>C</td>\n",
       "      <td>операции с недвижимостью</td>\n",
       "    </tr>\n",
       "    <tr>\n",
       "      <th>10</th>\n",
       "      <td>2</td>\n",
       "      <td>4171.483647</td>\n",
       "      <td>36</td>\n",
       "      <td>0</td>\n",
       "      <td>0</td>\n",
       "      <td>M</td>\n",
       "      <td>компаньон</td>\n",
       "      <td>0</td>\n",
       "      <td>113943</td>\n",
       "      <td>покупка недвижимости</td>\n",
       "      <td>C</td>\n",
       "      <td>операции с недвижимостью</td>\n",
       "    </tr>\n",
       "    <tr>\n",
       "      <th>11</th>\n",
       "      <td>0</td>\n",
       "      <td>792.701887</td>\n",
       "      <td>40</td>\n",
       "      <td>1</td>\n",
       "      <td>0</td>\n",
       "      <td>F</td>\n",
       "      <td>сотрудник</td>\n",
       "      <td>0</td>\n",
       "      <td>77069</td>\n",
       "      <td>покупка коммерческой недвижимости</td>\n",
       "      <td>C</td>\n",
       "      <td>операции с недвижимостью</td>\n",
       "    </tr>\n",
       "    <tr>\n",
       "      <th>12</th>\n",
       "      <td>0</td>\n",
       "      <td>1203.369529</td>\n",
       "      <td>65</td>\n",
       "      <td>1</td>\n",
       "      <td>1</td>\n",
       "      <td>M</td>\n",
       "      <td>пенсионер</td>\n",
       "      <td>0</td>\n",
       "      <td>145017</td>\n",
       "      <td>сыграть свадьбу</td>\n",
       "      <td>C</td>\n",
       "      <td>проведение свадьбы</td>\n",
       "    </tr>\n",
       "    <tr>\n",
       "      <th>13</th>\n",
       "      <td>0</td>\n",
       "      <td>1846.641941</td>\n",
       "      <td>54</td>\n",
       "      <td>2</td>\n",
       "      <td>0</td>\n",
       "      <td>F</td>\n",
       "      <td>сотрудник</td>\n",
       "      <td>0</td>\n",
       "      <td>130458</td>\n",
       "      <td>приобретение автомобиля</td>\n",
       "      <td>C</td>\n",
       "      <td>операции с автомобилем</td>\n",
       "    </tr>\n",
       "    <tr>\n",
       "      <th>14</th>\n",
       "      <td>0</td>\n",
       "      <td>1844.956182</td>\n",
       "      <td>56</td>\n",
       "      <td>0</td>\n",
       "      <td>1</td>\n",
       "      <td>F</td>\n",
       "      <td>компаньон</td>\n",
       "      <td>1</td>\n",
       "      <td>165127</td>\n",
       "      <td>покупка жилой недвижимости</td>\n",
       "      <td>C</td>\n",
       "      <td>операции с недвижимостью</td>\n",
       "    </tr>\n",
       "    <tr>\n",
       "      <th>15</th>\n",
       "      <td>1</td>\n",
       "      <td>972.364419</td>\n",
       "      <td>26</td>\n",
       "      <td>1</td>\n",
       "      <td>0</td>\n",
       "      <td>F</td>\n",
       "      <td>сотрудник</td>\n",
       "      <td>0</td>\n",
       "      <td>116820</td>\n",
       "      <td>строительство собственной недвижимости</td>\n",
       "      <td>C</td>\n",
       "      <td>операции с недвижимостью</td>\n",
       "    </tr>\n",
       "    <tr>\n",
       "      <th>16</th>\n",
       "      <td>0</td>\n",
       "      <td>1719.934226</td>\n",
       "      <td>35</td>\n",
       "      <td>1</td>\n",
       "      <td>0</td>\n",
       "      <td>F</td>\n",
       "      <td>сотрудник</td>\n",
       "      <td>0</td>\n",
       "      <td>289202</td>\n",
       "      <td>недвижимость</td>\n",
       "      <td>B</td>\n",
       "      <td>операции с недвижимостью</td>\n",
       "    </tr>\n",
       "    <tr>\n",
       "      <th>17</th>\n",
       "      <td>0</td>\n",
       "      <td>2369.999720</td>\n",
       "      <td>33</td>\n",
       "      <td>0</td>\n",
       "      <td>1</td>\n",
       "      <td>M</td>\n",
       "      <td>сотрудник</td>\n",
       "      <td>0</td>\n",
       "      <td>90410</td>\n",
       "      <td>строительство недвижимости</td>\n",
       "      <td>C</td>\n",
       "      <td>операции с недвижимостью</td>\n",
       "    </tr>\n",
       "    <tr>\n",
       "      <th>18</th>\n",
       "      <td>0</td>\n",
       "      <td>400281.136913</td>\n",
       "      <td>53</td>\n",
       "      <td>1</td>\n",
       "      <td>2</td>\n",
       "      <td>F</td>\n",
       "      <td>пенсионер</td>\n",
       "      <td>0</td>\n",
       "      <td>56823</td>\n",
       "      <td>на покупку подержанного автомобиля</td>\n",
       "      <td>C</td>\n",
       "      <td>операции с автомобилем</td>\n",
       "    </tr>\n",
       "    <tr>\n",
       "      <th>19</th>\n",
       "      <td>0</td>\n",
       "      <td>10038.818549</td>\n",
       "      <td>48</td>\n",
       "      <td>1</td>\n",
       "      <td>3</td>\n",
       "      <td>F</td>\n",
       "      <td>сотрудник</td>\n",
       "      <td>0</td>\n",
       "      <td>242831</td>\n",
       "      <td>на покупку своего автомобиля</td>\n",
       "      <td>B</td>\n",
       "      <td>операции с автомобилем</td>\n",
       "    </tr>\n",
       "    <tr>\n",
       "      <th>20</th>\n",
       "      <td>1</td>\n",
       "      <td>1311.604166</td>\n",
       "      <td>36</td>\n",
       "      <td>1</td>\n",
       "      <td>0</td>\n",
       "      <td>M</td>\n",
       "      <td>сотрудник</td>\n",
       "      <td>0</td>\n",
       "      <td>209552</td>\n",
       "      <td>недвижимость</td>\n",
       "      <td>B</td>\n",
       "      <td>операции с недвижимостью</td>\n",
       "    </tr>\n",
       "    <tr>\n",
       "      <th>21</th>\n",
       "      <td>1</td>\n",
       "      <td>253.685166</td>\n",
       "      <td>33</td>\n",
       "      <td>1</td>\n",
       "      <td>1</td>\n",
       "      <td>F</td>\n",
       "      <td>сотрудник</td>\n",
       "      <td>0</td>\n",
       "      <td>131812</td>\n",
       "      <td>приобретение автомобиля</td>\n",
       "      <td>C</td>\n",
       "      <td>операции с автомобилем</td>\n",
       "    </tr>\n",
       "    <tr>\n",
       "      <th>22</th>\n",
       "      <td>1</td>\n",
       "      <td>1766.644138</td>\n",
       "      <td>24</td>\n",
       "      <td>1</td>\n",
       "      <td>1</td>\n",
       "      <td>F</td>\n",
       "      <td>сотрудник</td>\n",
       "      <td>0</td>\n",
       "      <td>149681</td>\n",
       "      <td>на покупку подержанного автомобиля</td>\n",
       "      <td>C</td>\n",
       "      <td>операции с автомобилем</td>\n",
       "    </tr>\n",
       "    <tr>\n",
       "      <th>23</th>\n",
       "      <td>0</td>\n",
       "      <td>272.981385</td>\n",
       "      <td>21</td>\n",
       "      <td>0</td>\n",
       "      <td>1</td>\n",
       "      <td>M</td>\n",
       "      <td>сотрудник</td>\n",
       "      <td>0</td>\n",
       "      <td>128265</td>\n",
       "      <td>сыграть свадьбу</td>\n",
       "      <td>C</td>\n",
       "      <td>проведение свадьбы</td>\n",
       "    </tr>\n",
       "    <tr>\n",
       "      <th>24</th>\n",
       "      <td>1</td>\n",
       "      <td>338551.952911</td>\n",
       "      <td>57</td>\n",
       "      <td>1</td>\n",
       "      <td>4</td>\n",
       "      <td>F</td>\n",
       "      <td>пенсионер</td>\n",
       "      <td>0</td>\n",
       "      <td>290547</td>\n",
       "      <td>операции с коммерческой недвижимостью</td>\n",
       "      <td>B</td>\n",
       "      <td>операции с недвижимостью</td>\n",
       "    </tr>\n",
       "    <tr>\n",
       "      <th>25</th>\n",
       "      <td>0</td>\n",
       "      <td>363548.489348</td>\n",
       "      <td>67</td>\n",
       "      <td>1</td>\n",
       "      <td>0</td>\n",
       "      <td>M</td>\n",
       "      <td>пенсионер</td>\n",
       "      <td>0</td>\n",
       "      <td>55112</td>\n",
       "      <td>покупка недвижимости</td>\n",
       "      <td>C</td>\n",
       "      <td>операции с недвижимостью</td>\n",
       "    </tr>\n",
       "    <tr>\n",
       "      <th>26</th>\n",
       "      <td>0</td>\n",
       "      <td>1203.369529</td>\n",
       "      <td>41</td>\n",
       "      <td>1</td>\n",
       "      <td>0</td>\n",
       "      <td>M</td>\n",
       "      <td>госслужащий</td>\n",
       "      <td>0</td>\n",
       "      <td>145017</td>\n",
       "      <td>образование</td>\n",
       "      <td>C</td>\n",
       "      <td>получение образования</td>\n",
       "    </tr>\n",
       "    <tr>\n",
       "      <th>27</th>\n",
       "      <td>0</td>\n",
       "      <td>529.191635</td>\n",
       "      <td>28</td>\n",
       "      <td>0</td>\n",
       "      <td>0</td>\n",
       "      <td>M</td>\n",
       "      <td>сотрудник</td>\n",
       "      <td>0</td>\n",
       "      <td>308848</td>\n",
       "      <td>строительство собственной недвижимости</td>\n",
       "      <td>B</td>\n",
       "      <td>операции с недвижимостью</td>\n",
       "    </tr>\n",
       "    <tr>\n",
       "      <th>28</th>\n",
       "      <td>1</td>\n",
       "      <td>717.274324</td>\n",
       "      <td>26</td>\n",
       "      <td>0</td>\n",
       "      <td>0</td>\n",
       "      <td>F</td>\n",
       "      <td>сотрудник</td>\n",
       "      <td>0</td>\n",
       "      <td>187863</td>\n",
       "      <td>строительство собственной недвижимости</td>\n",
       "      <td>C</td>\n",
       "      <td>операции с недвижимостью</td>\n",
       "    </tr>\n",
       "    <tr>\n",
       "      <th>29</th>\n",
       "      <td>0</td>\n",
       "      <td>1203.369529</td>\n",
       "      <td>63</td>\n",
       "      <td>1</td>\n",
       "      <td>4</td>\n",
       "      <td>F</td>\n",
       "      <td>пенсионер</td>\n",
       "      <td>0</td>\n",
       "      <td>145017</td>\n",
       "      <td>строительство жилой недвижимости</td>\n",
       "      <td>C</td>\n",
       "      <td>операции с недвижимостью</td>\n",
       "    </tr>\n",
       "    <tr>\n",
       "      <th>30</th>\n",
       "      <td>1</td>\n",
       "      <td>335581.668515</td>\n",
       "      <td>62</td>\n",
       "      <td>1</td>\n",
       "      <td>0</td>\n",
       "      <td>F</td>\n",
       "      <td>пенсионер</td>\n",
       "      <td>0</td>\n",
       "      <td>171456</td>\n",
       "      <td>операции с коммерческой недвижимостью</td>\n",
       "      <td>C</td>\n",
       "      <td>операции с недвижимостью</td>\n",
       "    </tr>\n",
       "    <tr>\n",
       "      <th>31</th>\n",
       "      <td>0</td>\n",
       "      <td>1682.083438</td>\n",
       "      <td>47</td>\n",
       "      <td>3</td>\n",
       "      <td>0</td>\n",
       "      <td>F</td>\n",
       "      <td>сотрудник</td>\n",
       "      <td>0</td>\n",
       "      <td>275485</td>\n",
       "      <td>жилье</td>\n",
       "      <td>B</td>\n",
       "      <td>операции с недвижимостью</td>\n",
       "    </tr>\n",
       "    <tr>\n",
       "      <th>32</th>\n",
       "      <td>0</td>\n",
       "      <td>4649.910832</td>\n",
       "      <td>34</td>\n",
       "      <td>1</td>\n",
       "      <td>1</td>\n",
       "      <td>F</td>\n",
       "      <td>сотрудник</td>\n",
       "      <td>1</td>\n",
       "      <td>139057</td>\n",
       "      <td>на проведение свадьбы</td>\n",
       "      <td>C</td>\n",
       "      <td>проведение свадьбы</td>\n",
       "    </tr>\n",
       "    <tr>\n",
       "      <th>33</th>\n",
       "      <td>0</td>\n",
       "      <td>1548.637544</td>\n",
       "      <td>48</td>\n",
       "      <td>1</td>\n",
       "      <td>0</td>\n",
       "      <td>F</td>\n",
       "      <td>компаньон</td>\n",
       "      <td>0</td>\n",
       "      <td>157245</td>\n",
       "      <td>покупка жилья</td>\n",
       "      <td>C</td>\n",
       "      <td>операции с недвижимостью</td>\n",
       "    </tr>\n",
       "    <tr>\n",
       "      <th>34</th>\n",
       "      <td>0</td>\n",
       "      <td>4488.067031</td>\n",
       "      <td>35</td>\n",
       "      <td>1</td>\n",
       "      <td>0</td>\n",
       "      <td>F</td>\n",
       "      <td>сотрудник</td>\n",
       "      <td>0</td>\n",
       "      <td>104660</td>\n",
       "      <td>операции со своей недвижимостью</td>\n",
       "      <td>C</td>\n",
       "      <td>операции с недвижимостью</td>\n",
       "    </tr>\n",
       "    <tr>\n",
       "      <th>35</th>\n",
       "      <td>0</td>\n",
       "      <td>394021.072184</td>\n",
       "      <td>68</td>\n",
       "      <td>1</td>\n",
       "      <td>1</td>\n",
       "      <td>M</td>\n",
       "      <td>пенсионер</td>\n",
       "      <td>0</td>\n",
       "      <td>77805</td>\n",
       "      <td>на проведение свадьбы</td>\n",
       "      <td>C</td>\n",
       "      <td>проведение свадьбы</td>\n",
       "    </tr>\n",
       "    <tr>\n",
       "      <th>36</th>\n",
       "      <td>0</td>\n",
       "      <td>176.216688</td>\n",
       "      <td>33</td>\n",
       "      <td>1</td>\n",
       "      <td>4</td>\n",
       "      <td>M</td>\n",
       "      <td>сотрудник</td>\n",
       "      <td>0</td>\n",
       "      <td>138830</td>\n",
       "      <td>автомобили</td>\n",
       "      <td>C</td>\n",
       "      <td>операции с автомобилем</td>\n",
       "    </tr>\n",
       "    <tr>\n",
       "      <th>37</th>\n",
       "      <td>0</td>\n",
       "      <td>6448.810860</td>\n",
       "      <td>43</td>\n",
       "      <td>0</td>\n",
       "      <td>1</td>\n",
       "      <td>F</td>\n",
       "      <td>компаньон</td>\n",
       "      <td>0</td>\n",
       "      <td>154128</td>\n",
       "      <td>приобретение автомобиля</td>\n",
       "      <td>C</td>\n",
       "      <td>операции с автомобилем</td>\n",
       "    </tr>\n",
       "    <tr>\n",
       "      <th>38</th>\n",
       "      <td>0</td>\n",
       "      <td>597.881827</td>\n",
       "      <td>25</td>\n",
       "      <td>0</td>\n",
       "      <td>4</td>\n",
       "      <td>M</td>\n",
       "      <td>сотрудник</td>\n",
       "      <td>1</td>\n",
       "      <td>192247</td>\n",
       "      <td>образование</td>\n",
       "      <td>C</td>\n",
       "      <td>получение образования</td>\n",
       "    </tr>\n",
       "    <tr>\n",
       "      <th>39</th>\n",
       "      <td>0</td>\n",
       "      <td>650.587796</td>\n",
       "      <td>31</td>\n",
       "      <td>0</td>\n",
       "      <td>1</td>\n",
       "      <td>F</td>\n",
       "      <td>компаньон</td>\n",
       "      <td>0</td>\n",
       "      <td>754240</td>\n",
       "      <td>заняться образованием</td>\n",
       "      <td>B</td>\n",
       "      <td>получение образования</td>\n",
       "    </tr>\n",
       "    <tr>\n",
       "      <th>40</th>\n",
       "      <td>0</td>\n",
       "      <td>1030.362606</td>\n",
       "      <td>30</td>\n",
       "      <td>1</td>\n",
       "      <td>4</td>\n",
       "      <td>M</td>\n",
       "      <td>компаньон</td>\n",
       "      <td>0</td>\n",
       "      <td>142865</td>\n",
       "      <td>покупка недвижимости</td>\n",
       "      <td>C</td>\n",
       "      <td>операции с недвижимостью</td>\n",
       "    </tr>\n",
       "    <tr>\n",
       "      <th>41</th>\n",
       "      <td>0</td>\n",
       "      <td>1203.369529</td>\n",
       "      <td>50</td>\n",
       "      <td>1</td>\n",
       "      <td>0</td>\n",
       "      <td>F</td>\n",
       "      <td>госслужащий</td>\n",
       "      <td>0</td>\n",
       "      <td>145017</td>\n",
       "      <td>сделка с подержанным автомобилем</td>\n",
       "      <td>C</td>\n",
       "      <td>операции с автомобилем</td>\n",
       "    </tr>\n",
       "    <tr>\n",
       "      <th>42</th>\n",
       "      <td>0</td>\n",
       "      <td>1257.496190</td>\n",
       "      <td>20</td>\n",
       "      <td>2</td>\n",
       "      <td>4</td>\n",
       "      <td>F</td>\n",
       "      <td>сотрудник</td>\n",
       "      <td>0</td>\n",
       "      <td>82065</td>\n",
       "      <td>получение образования</td>\n",
       "      <td>C</td>\n",
       "      <td>получение образования</td>\n",
       "    </tr>\n",
       "    <tr>\n",
       "      <th>43</th>\n",
       "      <td>0</td>\n",
       "      <td>4375.681384</td>\n",
       "      <td>43</td>\n",
       "      <td>2</td>\n",
       "      <td>3</td>\n",
       "      <td>F</td>\n",
       "      <td>компаньон</td>\n",
       "      <td>0</td>\n",
       "      <td>272957</td>\n",
       "      <td>приобретение автомобиля</td>\n",
       "      <td>B</td>\n",
       "      <td>операции с автомобилем</td>\n",
       "    </tr>\n",
       "    <tr>\n",
       "      <th>44</th>\n",
       "      <td>1</td>\n",
       "      <td>1362.041728</td>\n",
       "      <td>26</td>\n",
       "      <td>1</td>\n",
       "      <td>0</td>\n",
       "      <td>F</td>\n",
       "      <td>сотрудник</td>\n",
       "      <td>0</td>\n",
       "      <td>100780</td>\n",
       "      <td>на покупку своего автомобиля</td>\n",
       "      <td>C</td>\n",
       "      <td>операции с автомобилем</td>\n",
       "    </tr>\n",
       "    <tr>\n",
       "      <th>45</th>\n",
       "      <td>1</td>\n",
       "      <td>1039.451741</td>\n",
       "      <td>49</td>\n",
       "      <td>1</td>\n",
       "      <td>4</td>\n",
       "      <td>F</td>\n",
       "      <td>сотрудник</td>\n",
       "      <td>0</td>\n",
       "      <td>106385</td>\n",
       "      <td>заняться образованием</td>\n",
       "      <td>C</td>\n",
       "      <td>получение образования</td>\n",
       "    </tr>\n",
       "    <tr>\n",
       "      <th>46</th>\n",
       "      <td>2</td>\n",
       "      <td>2262.712304</td>\n",
       "      <td>37</td>\n",
       "      <td>1</td>\n",
       "      <td>0</td>\n",
       "      <td>F</td>\n",
       "      <td>компаньон</td>\n",
       "      <td>0</td>\n",
       "      <td>182682</td>\n",
       "      <td>сделка с подержанным автомобилем</td>\n",
       "      <td>C</td>\n",
       "      <td>операции с автомобилем</td>\n",
       "    </tr>\n",
       "    <tr>\n",
       "      <th>47</th>\n",
       "      <td>1</td>\n",
       "      <td>2689.137274</td>\n",
       "      <td>33</td>\n",
       "      <td>0</td>\n",
       "      <td>1</td>\n",
       "      <td>M</td>\n",
       "      <td>госслужащий</td>\n",
       "      <td>0</td>\n",
       "      <td>356277</td>\n",
       "      <td>на проведение свадьбы</td>\n",
       "      <td>B</td>\n",
       "      <td>проведение свадьбы</td>\n",
       "    </tr>\n",
       "    <tr>\n",
       "      <th>48</th>\n",
       "      <td>0</td>\n",
       "      <td>3341.067886</td>\n",
       "      <td>45</td>\n",
       "      <td>1</td>\n",
       "      <td>0</td>\n",
       "      <td>F</td>\n",
       "      <td>сотрудник</td>\n",
       "      <td>0</td>\n",
       "      <td>162065</td>\n",
       "      <td>строительство собственной недвижимости</td>\n",
       "      <td>C</td>\n",
       "      <td>операции с недвижимостью</td>\n",
       "    </tr>\n",
       "    <tr>\n",
       "      <th>49</th>\n",
       "      <td>0</td>\n",
       "      <td>1181.443228</td>\n",
       "      <td>54</td>\n",
       "      <td>1</td>\n",
       "      <td>0</td>\n",
       "      <td>F</td>\n",
       "      <td>сотрудник</td>\n",
       "      <td>0</td>\n",
       "      <td>44591</td>\n",
       "      <td>автомобиль</td>\n",
       "      <td>D</td>\n",
       "      <td>операции с автомобилем</td>\n",
       "    </tr>\n",
       "  </tbody>\n",
       "</table>\n",
       "</div>"
      ],
      "text/plain": [
       "    children  days_employed  dob_years education_id  family_status_id gender  \\\n",
       "0          1    8437.673028         42            0                 0      F   \n",
       "1          1    4024.803754         36            1                 0      F   \n",
       "2          0    5623.422610         33            1                 0      M   \n",
       "3          3    4124.747207         32            1                 0      M   \n",
       "4          0  340266.072047         53            1                 1      F   \n",
       "5          0     926.185831         27            0                 1      M   \n",
       "6          0    2879.202052         43            0                 0      F   \n",
       "7          0     152.779569         50            1                 0      M   \n",
       "8          2    6929.865299         35            0                 1      F   \n",
       "9          0    2188.756445         41            1                 0      M   \n",
       "10         2    4171.483647         36            0                 0      M   \n",
       "11         0     792.701887         40            1                 0      F   \n",
       "12         0    1203.369529         65            1                 1      M   \n",
       "13         0    1846.641941         54            2                 0      F   \n",
       "14         0    1844.956182         56            0                 1      F   \n",
       "15         1     972.364419         26            1                 0      F   \n",
       "16         0    1719.934226         35            1                 0      F   \n",
       "17         0    2369.999720         33            0                 1      M   \n",
       "18         0  400281.136913         53            1                 2      F   \n",
       "19         0   10038.818549         48            1                 3      F   \n",
       "20         1    1311.604166         36            1                 0      M   \n",
       "21         1     253.685166         33            1                 1      F   \n",
       "22         1    1766.644138         24            1                 1      F   \n",
       "23         0     272.981385         21            0                 1      M   \n",
       "24         1  338551.952911         57            1                 4      F   \n",
       "25         0  363548.489348         67            1                 0      M   \n",
       "26         0    1203.369529         41            1                 0      M   \n",
       "27         0     529.191635         28            0                 0      M   \n",
       "28         1     717.274324         26            0                 0      F   \n",
       "29         0    1203.369529         63            1                 4      F   \n",
       "30         1  335581.668515         62            1                 0      F   \n",
       "31         0    1682.083438         47            3                 0      F   \n",
       "32         0    4649.910832         34            1                 1      F   \n",
       "33         0    1548.637544         48            1                 0      F   \n",
       "34         0    4488.067031         35            1                 0      F   \n",
       "35         0  394021.072184         68            1                 1      M   \n",
       "36         0     176.216688         33            1                 4      M   \n",
       "37         0    6448.810860         43            0                 1      F   \n",
       "38         0     597.881827         25            0                 4      M   \n",
       "39         0     650.587796         31            0                 1      F   \n",
       "40         0    1030.362606         30            1                 4      M   \n",
       "41         0    1203.369529         50            1                 0      F   \n",
       "42         0    1257.496190         20            2                 4      F   \n",
       "43         0    4375.681384         43            2                 3      F   \n",
       "44         1    1362.041728         26            1                 0      F   \n",
       "45         1    1039.451741         49            1                 4      F   \n",
       "46         2    2262.712304         37            1                 0      F   \n",
       "47         1    2689.137274         33            0                 1      M   \n",
       "48         0    3341.067886         45            1                 0      F   \n",
       "49         0    1181.443228         54            1                 0      F   \n",
       "\n",
       "    income_type  debt  total_income                                 purpose  \\\n",
       "0     сотрудник     0        253875                           покупка жилья   \n",
       "1     сотрудник     0        112080                 приобретение автомобиля   \n",
       "2     сотрудник     0        145885                           покупка жилья   \n",
       "3     сотрудник     0        267628              дополнительное образование   \n",
       "4     пенсионер     0        158616                         сыграть свадьбу   \n",
       "5     компаньон     0        255763                           покупка жилья   \n",
       "6     компаньон     0        240525                       операции с жильем   \n",
       "7     сотрудник     0        135823                             образование   \n",
       "8     сотрудник     0         95856                   на проведение свадьбы   \n",
       "9     сотрудник     0        144425                 покупка жилья для семьи   \n",
       "10    компаньон     0        113943                    покупка недвижимости   \n",
       "11    сотрудник     0         77069       покупка коммерческой недвижимости   \n",
       "12    пенсионер     0        145017                         сыграть свадьбу   \n",
       "13    сотрудник     0        130458                 приобретение автомобиля   \n",
       "14    компаньон     1        165127              покупка жилой недвижимости   \n",
       "15    сотрудник     0        116820  строительство собственной недвижимости   \n",
       "16    сотрудник     0        289202                            недвижимость   \n",
       "17    сотрудник     0         90410              строительство недвижимости   \n",
       "18    пенсионер     0         56823      на покупку подержанного автомобиля   \n",
       "19    сотрудник     0        242831            на покупку своего автомобиля   \n",
       "20    сотрудник     0        209552                            недвижимость   \n",
       "21    сотрудник     0        131812                 приобретение автомобиля   \n",
       "22    сотрудник     0        149681      на покупку подержанного автомобиля   \n",
       "23    сотрудник     0        128265                         сыграть свадьбу   \n",
       "24    пенсионер     0        290547   операции с коммерческой недвижимостью   \n",
       "25    пенсионер     0         55112                    покупка недвижимости   \n",
       "26  госслужащий     0        145017                             образование   \n",
       "27    сотрудник     0        308848  строительство собственной недвижимости   \n",
       "28    сотрудник     0        187863  строительство собственной недвижимости   \n",
       "29    пенсионер     0        145017        строительство жилой недвижимости   \n",
       "30    пенсионер     0        171456   операции с коммерческой недвижимостью   \n",
       "31    сотрудник     0        275485                                   жилье   \n",
       "32    сотрудник     1        139057                   на проведение свадьбы   \n",
       "33    компаньон     0        157245                           покупка жилья   \n",
       "34    сотрудник     0        104660         операции со своей недвижимостью   \n",
       "35    пенсионер     0         77805                   на проведение свадьбы   \n",
       "36    сотрудник     0        138830                              автомобили   \n",
       "37    компаньон     0        154128                 приобретение автомобиля   \n",
       "38    сотрудник     1        192247                             образование   \n",
       "39    компаньон     0        754240                   заняться образованием   \n",
       "40    компаньон     0        142865                    покупка недвижимости   \n",
       "41  госслужащий     0        145017        сделка с подержанным автомобилем   \n",
       "42    сотрудник     0         82065                   получение образования   \n",
       "43    компаньон     0        272957                 приобретение автомобиля   \n",
       "44    сотрудник     0        100780            на покупку своего автомобиля   \n",
       "45    сотрудник     0        106385                   заняться образованием   \n",
       "46    компаньон     0        182682        сделка с подержанным автомобилем   \n",
       "47  госслужащий     0        356277                   на проведение свадьбы   \n",
       "48    сотрудник     0        162065  строительство собственной недвижимости   \n",
       "49    сотрудник     0         44591                              автомобиль   \n",
       "\n",
       "   total_income_category          purpose_category  \n",
       "0                      B  операции с недвижимостью  \n",
       "1                      C    операции с автомобилем  \n",
       "2                      C  операции с недвижимостью  \n",
       "3                      B     получение образования  \n",
       "4                      C        проведение свадьбы  \n",
       "5                      B  операции с недвижимостью  \n",
       "6                      B  операции с недвижимостью  \n",
       "7                      C     получение образования  \n",
       "8                      C        проведение свадьбы  \n",
       "9                      C  операции с недвижимостью  \n",
       "10                     C  операции с недвижимостью  \n",
       "11                     C  операции с недвижимостью  \n",
       "12                     C        проведение свадьбы  \n",
       "13                     C    операции с автомобилем  \n",
       "14                     C  операции с недвижимостью  \n",
       "15                     C  операции с недвижимостью  \n",
       "16                     B  операции с недвижимостью  \n",
       "17                     C  операции с недвижимостью  \n",
       "18                     C    операции с автомобилем  \n",
       "19                     B    операции с автомобилем  \n",
       "20                     B  операции с недвижимостью  \n",
       "21                     C    операции с автомобилем  \n",
       "22                     C    операции с автомобилем  \n",
       "23                     C        проведение свадьбы  \n",
       "24                     B  операции с недвижимостью  \n",
       "25                     C  операции с недвижимостью  \n",
       "26                     C     получение образования  \n",
       "27                     B  операции с недвижимостью  \n",
       "28                     C  операции с недвижимостью  \n",
       "29                     C  операции с недвижимостью  \n",
       "30                     C  операции с недвижимостью  \n",
       "31                     B  операции с недвижимостью  \n",
       "32                     C        проведение свадьбы  \n",
       "33                     C  операции с недвижимостью  \n",
       "34                     C  операции с недвижимостью  \n",
       "35                     C        проведение свадьбы  \n",
       "36                     C    операции с автомобилем  \n",
       "37                     C    операции с автомобилем  \n",
       "38                     C     получение образования  \n",
       "39                     B     получение образования  \n",
       "40                     C  операции с недвижимостью  \n",
       "41                     C    операции с автомобилем  \n",
       "42                     C     получение образования  \n",
       "43                     B    операции с автомобилем  \n",
       "44                     C    операции с автомобилем  \n",
       "45                     C     получение образования  \n",
       "46                     C    операции с автомобилем  \n",
       "47                     B        проведение свадьбы  \n",
       "48                     C  операции с недвижимостью  \n",
       "49                     D    операции с автомобилем  "
      ]
     },
     "execution_count": 19,
     "metadata": {},
     "output_type": "execute_result"
    }
   ],
   "source": [
    "df['purpose'].unique() # Необходимая строка для оценки всех уникальных значений в столбце\n",
    "def replace_purpose_action(action):\n",
    "    duplicates_car = ['приобретение автомобиля', 'на покупку подержанного автомобиля', 'на покупку своего автомобиля', \n",
    "                  'автомобили', 'сделка с подержанным автомобилем', 'автомобиль', 'свой автомобиль', \n",
    "                  'сделка с автомобилем', 'на покупку автомобиля']\n",
    "    duplicates_estate = ['покупка жилья', 'операции с жильем', 'покупка жилья для семьи', 'покупка недвижимости',\n",
    "                    'покупка коммерческой недвижимости', 'покупка жилой недвижимости', \n",
    "                     'строительство собственной недвижимости', 'недвижимость', 'строительство недвижимости', \n",
    "                    'операции с коммерческой недвижимостью', 'строительство жилой недвижимости', 'жилье', \n",
    "                     'операции со своей недвижимостью', 'покупка своего жилья', 'покупка жилья для сдачи', 'ремонт жилья']\n",
    "    duplicates_wedding = ['сыграть свадьбу', 'на проведение свадьбы', 'свадьба']\n",
    "    duplicates_study = ['дополнительное образование', 'образование', 'заняться образованием', 'получение образования',\n",
    "                       'получение дополнительного образования', 'получение высшего образования', 'профильное образование',\n",
    "                       'высшее образование', 'заняться высшим образованием']\n",
    "    try:\n",
    "        if action in duplicates_car:\n",
    "            return 'операции с автомобилем'\n",
    "        if action in duplicates_estate:\n",
    "            return 'операции с недвижимостью'\n",
    "        if action in duplicates_wedding:\n",
    "            return 'проведение свадьбы'\n",
    "        if action in duplicates_study:\n",
    "            return 'получение образования'\n",
    "    except:\n",
    "        return 'Что-то пошло не так, нужно проверить логическое условие'\n",
    "    \n",
    "df['purpose_category'] = df['purpose'].apply(replace_purpose_action)\n",
    "df.head(50) # Проверка создания столбца с категориями"
   ]
  },
  {
   "cell_type": "markdown",
   "id": "b2464162",
   "metadata": {},
   "source": [
    "### Ответы на вопросы."
   ]
  },
  {
   "cell_type": "code",
   "execution_count": 13,
   "id": "a4f79b4b",
   "metadata": {},
   "outputs": [
    {
     "data": {
      "text/html": [
       "<div>\n",
       "<style scoped>\n",
       "    .dataframe tbody tr th:only-of-type {\n",
       "        vertical-align: middle;\n",
       "    }\n",
       "\n",
       "    .dataframe tbody tr th {\n",
       "        vertical-align: top;\n",
       "    }\n",
       "\n",
       "    .dataframe thead tr th {\n",
       "        text-align: left;\n",
       "    }\n",
       "\n",
       "    .dataframe thead tr:last-of-type th {\n",
       "        text-align: right;\n",
       "    }\n",
       "</style>\n",
       "<table border=\"1\" class=\"dataframe\">\n",
       "  <thead>\n",
       "    <tr>\n",
       "      <th></th>\n",
       "      <th colspan=\"2\" halign=\"left\">debt</th>\n",
       "      <th>children_result</th>\n",
       "    </tr>\n",
       "    <tr>\n",
       "      <th></th>\n",
       "      <th>count</th>\n",
       "      <th>sum</th>\n",
       "      <th></th>\n",
       "    </tr>\n",
       "    <tr>\n",
       "      <th>children</th>\n",
       "      <th></th>\n",
       "      <th></th>\n",
       "      <th></th>\n",
       "    </tr>\n",
       "  </thead>\n",
       "  <tbody>\n",
       "    <tr>\n",
       "      <th>0</th>\n",
       "      <td>14091</td>\n",
       "      <td>1063</td>\n",
       "      <td>0.075438</td>\n",
       "    </tr>\n",
       "    <tr>\n",
       "      <th>1</th>\n",
       "      <td>4855</td>\n",
       "      <td>445</td>\n",
       "      <td>0.091658</td>\n",
       "    </tr>\n",
       "    <tr>\n",
       "      <th>2</th>\n",
       "      <td>2052</td>\n",
       "      <td>194</td>\n",
       "      <td>0.094542</td>\n",
       "    </tr>\n",
       "    <tr>\n",
       "      <th>3</th>\n",
       "      <td>330</td>\n",
       "      <td>27</td>\n",
       "      <td>0.081818</td>\n",
       "    </tr>\n",
       "    <tr>\n",
       "      <th>4</th>\n",
       "      <td>41</td>\n",
       "      <td>4</td>\n",
       "      <td>0.097561</td>\n",
       "    </tr>\n",
       "    <tr>\n",
       "      <th>5</th>\n",
       "      <td>9</td>\n",
       "      <td>0</td>\n",
       "      <td>0.000000</td>\n",
       "    </tr>\n",
       "    <tr>\n",
       "      <th>20</th>\n",
       "      <td>76</td>\n",
       "      <td>8</td>\n",
       "      <td>0.105263</td>\n",
       "    </tr>\n",
       "  </tbody>\n",
       "</table>\n",
       "</div>"
      ],
      "text/plain": [
       "           debt       children_result\n",
       "          count   sum                \n",
       "children                             \n",
       "0         14091  1063        0.075438\n",
       "1          4855   445        0.091658\n",
       "2          2052   194        0.094542\n",
       "3           330    27        0.081818\n",
       "4            41     4        0.097561\n",
       "5             9     0        0.000000\n",
       "20           76     8        0.105263"
      ]
     },
     "metadata": {},
     "output_type": "display_data"
    },
    {
     "data": {
      "text/plain": [
       "children\n",
       "0     0.075438\n",
       "1     0.091658\n",
       "2     0.094542\n",
       "3     0.081818\n",
       "4     0.097561\n",
       "5     0.000000\n",
       "20    0.105263\n",
       "Name: children_result, dtype: float64"
      ]
     },
     "metadata": {},
     "output_type": "display_data"
    }
   ],
   "source": [
    "children_category_grouped = df.groupby('children').agg({'debt' : ['count', 'sum']})\n",
    "children_category_grouped['children_result'] = children_category_grouped['debt']['sum'] / children_category_grouped['debt']['count']\n",
    "display(children_category_grouped)\n",
    "children_piv = children_category_grouped.pivot_table(index=['children'], values='children_result')\n",
    "display(children_piv) #Сводная таблица результатов"
   ]
  },
  {
   "cell_type": "markdown",
   "id": "9b28bce1",
   "metadata": {},
   "source": [
    "0.9.0.1 Вопрос 1:"
   ]
  },
  {
   "cell_type": "markdown",
   "id": "1d619634",
   "metadata": {},
   "source": [
    "Есть ли зависимость между количеством детей и возвратом кредита в срок?"
   ]
  },
  {
   "cell_type": "markdown",
   "id": "db262e0b",
   "metadata": {},
   "source": [
    "0.9.0.2 Вывод 1:"
   ]
  },
  {
   "cell_type": "markdown",
   "id": "c1d663ba",
   "metadata": {},
   "source": [
    "Лучшие показатели у кредиторов которые не имеют детей. Показатели по позиции в 5 детей можно считать неполными т.к. таких клиентов всего лишь 9 человек. В целом тенденция ухудшения с увеличением количества детей однородна, за исключением позиции '3'. \n",
    "На основании этого, теорию о влиянии количества детей можно считать верной лишь частично."
   ]
  },
  {
   "cell_type": "code",
   "execution_count": 14,
   "id": "c67ff353",
   "metadata": {},
   "outputs": [
    {
     "data": {
      "text/html": [
       "<div>\n",
       "<style scoped>\n",
       "    .dataframe tbody tr th:only-of-type {\n",
       "        vertical-align: middle;\n",
       "    }\n",
       "\n",
       "    .dataframe tbody tr th {\n",
       "        vertical-align: top;\n",
       "    }\n",
       "\n",
       "    .dataframe thead tr th {\n",
       "        text-align: left;\n",
       "    }\n",
       "\n",
       "    .dataframe thead tr:last-of-type th {\n",
       "        text-align: right;\n",
       "    }\n",
       "</style>\n",
       "<table border=\"1\" class=\"dataframe\">\n",
       "  <thead>\n",
       "    <tr>\n",
       "      <th></th>\n",
       "      <th colspan=\"2\" halign=\"left\">debt</th>\n",
       "      <th>family_status_result</th>\n",
       "    </tr>\n",
       "    <tr>\n",
       "      <th></th>\n",
       "      <th>count</th>\n",
       "      <th>sum</th>\n",
       "      <th></th>\n",
       "    </tr>\n",
       "    <tr>\n",
       "      <th>family_status_id</th>\n",
       "      <th></th>\n",
       "      <th></th>\n",
       "      <th></th>\n",
       "    </tr>\n",
       "  </thead>\n",
       "  <tbody>\n",
       "    <tr>\n",
       "      <th>0</th>\n",
       "      <td>12339</td>\n",
       "      <td>931</td>\n",
       "      <td>0.075452</td>\n",
       "    </tr>\n",
       "    <tr>\n",
       "      <th>1</th>\n",
       "      <td>4151</td>\n",
       "      <td>388</td>\n",
       "      <td>0.093471</td>\n",
       "    </tr>\n",
       "    <tr>\n",
       "      <th>2</th>\n",
       "      <td>959</td>\n",
       "      <td>63</td>\n",
       "      <td>0.065693</td>\n",
       "    </tr>\n",
       "    <tr>\n",
       "      <th>3</th>\n",
       "      <td>1195</td>\n",
       "      <td>85</td>\n",
       "      <td>0.071130</td>\n",
       "    </tr>\n",
       "    <tr>\n",
       "      <th>4</th>\n",
       "      <td>2810</td>\n",
       "      <td>274</td>\n",
       "      <td>0.097509</td>\n",
       "    </tr>\n",
       "  </tbody>\n",
       "</table>\n",
       "</div>"
      ],
      "text/plain": [
       "                   debt      family_status_result\n",
       "                  count  sum                     \n",
       "family_status_id                                 \n",
       "0                 12339  931             0.075452\n",
       "1                  4151  388             0.093471\n",
       "2                   959   63             0.065693\n",
       "3                  1195   85             0.071130\n",
       "4                  2810  274             0.097509"
      ]
     },
     "metadata": {},
     "output_type": "display_data"
    },
    {
     "data": {
      "text/plain": [
       "family_status_id\n",
       "0    0.075452\n",
       "1    0.093471\n",
       "2    0.065693\n",
       "3    0.071130\n",
       "4    0.097509\n",
       "Name: family_status_result, dtype: float64"
      ]
     },
     "metadata": {},
     "output_type": "display_data"
    }
   ],
   "source": [
    "#df_family_status_prepared = df.merge(df_new_family_status, on='family_status_id', how='left')\n",
    "#df_family_status_piv = df_family_status_prepared.pivot_table(index=['family_status'], values='debt', aggfunc='sum')\n",
    "\n",
    "family_status_grouped = df.groupby('family_status_id').agg({'debt' : ['count', 'sum']})\n",
    "family_status_grouped['family_status_result'] = family_status_grouped['debt']['sum'] / family_status_grouped['debt']['count']\n",
    "display(family_status_grouped)\n",
    "family_status_piv = family_status_grouped.pivot_table(index=['family_status_id'], values='family_status_result')\n",
    "display(family_status_piv) #Сводная таблица результатов"
   ]
  },
  {
   "cell_type": "markdown",
   "id": "22d49ba7",
   "metadata": {},
   "source": [
    "0.9.0.3  Вопрос 2:"
   ]
  },
  {
   "cell_type": "markdown",
   "id": "3e241769",
   "metadata": {},
   "source": [
    "Есть ли зависимость между семейным положением и возвратом кредита в срок?"
   ]
  },
  {
   "cell_type": "markdown",
   "id": "8f2ffcd5",
   "metadata": {},
   "source": [
    "0.9.0.4  Вывод 2:"
   ]
  },
  {
   "cell_type": "code",
   "execution_count": 15,
   "id": "d6cf6088",
   "metadata": {},
   "outputs": [
    {
     "data": {
      "text/html": [
       "<div>\n",
       "<style scoped>\n",
       "    .dataframe tbody tr th:only-of-type {\n",
       "        vertical-align: middle;\n",
       "    }\n",
       "\n",
       "    .dataframe tbody tr th {\n",
       "        vertical-align: top;\n",
       "    }\n",
       "\n",
       "    .dataframe thead tr th {\n",
       "        text-align: left;\n",
       "    }\n",
       "\n",
       "    .dataframe thead tr:last-of-type th {\n",
       "        text-align: right;\n",
       "    }\n",
       "</style>\n",
       "<table border=\"1\" class=\"dataframe\">\n",
       "  <thead>\n",
       "    <tr>\n",
       "      <th></th>\n",
       "      <th colspan=\"2\" halign=\"left\">debt</th>\n",
       "      <th>total_income_result</th>\n",
       "    </tr>\n",
       "    <tr>\n",
       "      <th></th>\n",
       "      <th>count</th>\n",
       "      <th>sum</th>\n",
       "      <th></th>\n",
       "    </tr>\n",
       "    <tr>\n",
       "      <th>total_income_category</th>\n",
       "      <th></th>\n",
       "      <th></th>\n",
       "      <th></th>\n",
       "    </tr>\n",
       "  </thead>\n",
       "  <tbody>\n",
       "    <tr>\n",
       "      <th>A</th>\n",
       "      <td>25</td>\n",
       "      <td>2</td>\n",
       "      <td>0.080000</td>\n",
       "    </tr>\n",
       "    <tr>\n",
       "      <th>B</th>\n",
       "      <td>5041</td>\n",
       "      <td>356</td>\n",
       "      <td>0.070621</td>\n",
       "    </tr>\n",
       "    <tr>\n",
       "      <th>C</th>\n",
       "      <td>16016</td>\n",
       "      <td>1360</td>\n",
       "      <td>0.084915</td>\n",
       "    </tr>\n",
       "    <tr>\n",
       "      <th>D</th>\n",
       "      <td>350</td>\n",
       "      <td>21</td>\n",
       "      <td>0.060000</td>\n",
       "    </tr>\n",
       "    <tr>\n",
       "      <th>E</th>\n",
       "      <td>22</td>\n",
       "      <td>2</td>\n",
       "      <td>0.090909</td>\n",
       "    </tr>\n",
       "  </tbody>\n",
       "</table>\n",
       "</div>"
      ],
      "text/plain": [
       "                        debt       total_income_result\n",
       "                       count   sum                    \n",
       "total_income_category                                 \n",
       "A                         25     2            0.080000\n",
       "B                       5041   356            0.070621\n",
       "C                      16016  1360            0.084915\n",
       "D                        350    21            0.060000\n",
       "E                         22     2            0.090909"
      ]
     },
     "metadata": {},
     "output_type": "display_data"
    },
    {
     "data": {
      "text/plain": [
       "total_income_category\n",
       "A    0.080000\n",
       "B    0.070621\n",
       "C    0.084915\n",
       "D    0.060000\n",
       "E    0.090909\n",
       "Name: total_income_result, dtype: float64"
      ]
     },
     "metadata": {},
     "output_type": "display_data"
    }
   ],
   "source": [
    "total_income_category_grouped = df.groupby('total_income_category').agg({'debt' : ['count', 'sum']})\n",
    "total_income_category_grouped['total_income_result'] = total_income_category_grouped['debt']['sum'] / total_income_category_grouped['debt']['count']\n",
    "display(total_income_category_grouped)\n",
    "total_income_piv = total_income_category_grouped.pivot_table(index=['total_income_category'], values='total_income_result')\n",
    "display(total_income_piv) #Сводная таблица результатов"
   ]
  },
  {
   "cell_type": "markdown",
   "id": "7193860b",
   "metadata": {},
   "source": [
    "0.9.0.5 Вопрос 3:"
   ]
  },
  {
   "cell_type": "markdown",
   "id": "941551d1",
   "metadata": {},
   "source": [
    "Есть ли зависимость между уровнем дохода и возвратом кредита в срок?"
   ]
  },
  {
   "cell_type": "markdown",
   "id": "08d1d9c6",
   "metadata": {},
   "source": [
    "0.9.0.6  Вывод 3:"
   ]
  },
  {
   "cell_type": "markdown",
   "id": "e73fe030",
   "metadata": {},
   "source": [
    "Нет, теория не подтвердилась, никакой зависимости не наблюдается.Единственное можно сказать о пиковом значении, которое пришлось на категорию 'E' здесь доход кредиторов самый низкий, и как следствие самое большой процент нарушителей."
   ]
  },
  {
   "cell_type": "code",
   "execution_count": 16,
   "id": "3d263950",
   "metadata": {},
   "outputs": [
    {
     "data": {
      "text/html": [
       "<div>\n",
       "<style scoped>\n",
       "    .dataframe tbody tr th:only-of-type {\n",
       "        vertical-align: middle;\n",
       "    }\n",
       "\n",
       "    .dataframe tbody tr th {\n",
       "        vertical-align: top;\n",
       "    }\n",
       "\n",
       "    .dataframe thead tr th {\n",
       "        text-align: left;\n",
       "    }\n",
       "\n",
       "    .dataframe thead tr:last-of-type th {\n",
       "        text-align: right;\n",
       "    }\n",
       "</style>\n",
       "<table border=\"1\" class=\"dataframe\">\n",
       "  <thead>\n",
       "    <tr>\n",
       "      <th></th>\n",
       "      <th colspan=\"2\" halign=\"left\">debt</th>\n",
       "      <th>purpose_category_result</th>\n",
       "    </tr>\n",
       "    <tr>\n",
       "      <th></th>\n",
       "      <th>count</th>\n",
       "      <th>sum</th>\n",
       "      <th></th>\n",
       "    </tr>\n",
       "    <tr>\n",
       "      <th>purpose_category</th>\n",
       "      <th></th>\n",
       "      <th></th>\n",
       "      <th></th>\n",
       "    </tr>\n",
       "  </thead>\n",
       "  <tbody>\n",
       "    <tr>\n",
       "      <th>операции с автомобилем</th>\n",
       "      <td>4306</td>\n",
       "      <td>403</td>\n",
       "      <td>0.093590</td>\n",
       "    </tr>\n",
       "    <tr>\n",
       "      <th>операции с недвижимостью</th>\n",
       "      <td>9530</td>\n",
       "      <td>686</td>\n",
       "      <td>0.071983</td>\n",
       "    </tr>\n",
       "    <tr>\n",
       "      <th>получение образования</th>\n",
       "      <td>4013</td>\n",
       "      <td>370</td>\n",
       "      <td>0.092200</td>\n",
       "    </tr>\n",
       "    <tr>\n",
       "      <th>проведение свадьбы</th>\n",
       "      <td>2324</td>\n",
       "      <td>186</td>\n",
       "      <td>0.080034</td>\n",
       "    </tr>\n",
       "  </tbody>\n",
       "</table>\n",
       "</div>"
      ],
      "text/plain": [
       "                          debt      purpose_category_result\n",
       "                         count  sum                        \n",
       "purpose_category                                           \n",
       "операции с автомобилем    4306  403                0.093590\n",
       "операции с недвижимостью  9530  686                0.071983\n",
       "получение образования     4013  370                0.092200\n",
       "проведение свадьбы        2324  186                0.080034"
      ]
     },
     "metadata": {},
     "output_type": "display_data"
    },
    {
     "data": {
      "text/plain": [
       "purpose_category\n",
       "операции с автомобилем      0.093590\n",
       "операции с недвижимостью    0.071983\n",
       "получение образования       0.092200\n",
       "проведение свадьбы          0.080034\n",
       "Name: purpose_category_result, dtype: float64"
      ]
     },
     "metadata": {},
     "output_type": "display_data"
    }
   ],
   "source": [
    "purpose_category_grouped = df.groupby('purpose_category').agg({'debt' : ['count', 'sum']})\n",
    "purpose_category_grouped['purpose_category_result'] = purpose_category_grouped['debt']['sum'] / purpose_category_grouped['debt']['count']\n",
    "display(purpose_category_grouped)\n",
    "purpose_category_piv = purpose_category_grouped.pivot_table(index=['purpose_category'], values='purpose_category_result')\n",
    "display(purpose_category_piv) #Сводная таблица результатов"
   ]
  },
  {
   "cell_type": "markdown",
   "id": "98ebdde4",
   "metadata": {},
   "source": [
    "0.9.0.7 Вопрос 4:"
   ]
  },
  {
   "cell_type": "markdown",
   "id": "42346dc2",
   "metadata": {},
   "source": [
    "Как разные цели кредита влияют на его возврат в срок?"
   ]
  },
  {
   "cell_type": "markdown",
   "id": "4e2e111b",
   "metadata": {},
   "source": [
    "0.9.0.8  Вывод 4:"
   ]
  },
  {
   "cell_type": "markdown",
   "id": "be39d21f",
   "metadata": {},
   "source": [
    "Кредиторы, чей целью был заем на операции с автомобилем и образование, примерно в 9% случаях нарушают условие договора с банком, а в случаи свадебных мероприятий 8%. Самыми ответственными оказались заемщики на операции с недвижимостью, чей процент нарушителей составил около 7%.\n",
    "Исследование целей кредита носит равномерный и некритичный характер. Общая разница составляет лишь 2%."
   ]
  },
  {
   "cell_type": "markdown",
   "id": "29201ec1",
   "metadata": {},
   "source": [
    "## Общий вывод:"
   ]
  },
  {
   "cell_type": "markdown",
   "id": "4b9ace7c",
   "metadata": {},
   "source": [
    "Проанализировав все данные получили следующие выводы:\n",
    "1. Теория влияния семейного положения на возврат кредита в срок подтвердилась.\n",
    "2. Теория влияния уровня дохода на возврат кредита в срок не подтвердилась.\n",
    "3. Теории о количестве детей и целях кредита подтвердились частично.\n",
    "4. Так же стоит обращать внимание на критичный показатель дохода в категории 'E', который даже с точки зрения простой логики несет существенные риски.\n",
    "5. Интересный момент, в случаи с займом на мероприятия связанных со свадьбой, все 100% нарушителей входят в категорию людей живущих гражданским браком. Следует быть осторожным выдавая кредит людям с таким семейным статусом на подобные цели."
   ]
  },
  {
   "cell_type": "code",
   "execution_count": 17,
   "id": "cf017fb6",
   "metadata": {},
   "outputs": [
    {
     "data": {
      "text/html": [
       "<div>\n",
       "<style scoped>\n",
       "    .dataframe tbody tr th:only-of-type {\n",
       "        vertical-align: middle;\n",
       "    }\n",
       "\n",
       "    .dataframe tbody tr th {\n",
       "        vertical-align: top;\n",
       "    }\n",
       "\n",
       "    .dataframe thead th {\n",
       "        text-align: right;\n",
       "    }\n",
       "</style>\n",
       "<table border=\"1\" class=\"dataframe\">\n",
       "  <thead>\n",
       "    <tr style=\"text-align: right;\">\n",
       "      <th>purpose_category</th>\n",
       "      <th>операции с автомобилем</th>\n",
       "      <th>операции с недвижимостью</th>\n",
       "      <th>получение образования</th>\n",
       "      <th>проведение свадьбы</th>\n",
       "    </tr>\n",
       "    <tr>\n",
       "      <th>family_status_id</th>\n",
       "      <th></th>\n",
       "      <th></th>\n",
       "      <th></th>\n",
       "      <th></th>\n",
       "    </tr>\n",
       "  </thead>\n",
       "  <tbody>\n",
       "    <tr>\n",
       "      <th>0</th>\n",
       "      <td>229.0</td>\n",
       "      <td>427.0</td>\n",
       "      <td>216.0</td>\n",
       "      <td>NaN</td>\n",
       "    </tr>\n",
       "    <tr>\n",
       "      <th>1</th>\n",
       "      <td>51.0</td>\n",
       "      <td>78.0</td>\n",
       "      <td>60.0</td>\n",
       "      <td>186.0</td>\n",
       "    </tr>\n",
       "    <tr>\n",
       "      <th>2</th>\n",
       "      <td>20.0</td>\n",
       "      <td>25.0</td>\n",
       "      <td>15.0</td>\n",
       "      <td>NaN</td>\n",
       "    </tr>\n",
       "    <tr>\n",
       "      <th>3</th>\n",
       "      <td>21.0</td>\n",
       "      <td>41.0</td>\n",
       "      <td>17.0</td>\n",
       "      <td>NaN</td>\n",
       "    </tr>\n",
       "    <tr>\n",
       "      <th>4</th>\n",
       "      <td>82.0</td>\n",
       "      <td>115.0</td>\n",
       "      <td>62.0</td>\n",
       "      <td>NaN</td>\n",
       "    </tr>\n",
       "  </tbody>\n",
       "</table>\n",
       "</div>"
      ],
      "text/plain": [
       "purpose_category  операции с автомобилем  операции с недвижимостью  \\\n",
       "family_status_id                                                     \n",
       "0                                  229.0                     427.0   \n",
       "1                                   51.0                      78.0   \n",
       "2                                   20.0                      25.0   \n",
       "3                                   21.0                      41.0   \n",
       "4                                   82.0                     115.0   \n",
       "\n",
       "purpose_category  получение образования  проведение свадьбы  \n",
       "family_status_id                                             \n",
       "0                                 216.0                 NaN  \n",
       "1                                  60.0               186.0  \n",
       "2                                  15.0                 NaN  \n",
       "3                                  17.0                 NaN  \n",
       "4                                  62.0                 NaN  "
      ]
     },
     "metadata": {},
     "output_type": "display_data"
    }
   ],
   "source": [
    "result_family_status_id = df.pivot_table(index=['family_status_id'], columns='purpose_category', values='debt', aggfunc='sum')\n",
    "display(result_family_status_id)"
   ]
  },
  {
   "cell_type": "code",
   "execution_count": 18,
   "id": "3291c7f7",
   "metadata": {},
   "outputs": [
    {
     "data": {
      "text/html": [
       "<div>\n",
       "<style scoped>\n",
       "    .dataframe tbody tr th:only-of-type {\n",
       "        vertical-align: middle;\n",
       "    }\n",
       "\n",
       "    .dataframe tbody tr th {\n",
       "        vertical-align: top;\n",
       "    }\n",
       "\n",
       "    .dataframe thead th {\n",
       "        text-align: right;\n",
       "    }\n",
       "</style>\n",
       "<table border=\"1\" class=\"dataframe\">\n",
       "  <thead>\n",
       "    <tr style=\"text-align: right;\">\n",
       "      <th>purpose_category</th>\n",
       "      <th>операции с автомобилем</th>\n",
       "      <th>операции с недвижимостью</th>\n",
       "      <th>получение образования</th>\n",
       "      <th>проведение свадьбы</th>\n",
       "    </tr>\n",
       "    <tr>\n",
       "      <th>children</th>\n",
       "      <th></th>\n",
       "      <th></th>\n",
       "      <th></th>\n",
       "      <th></th>\n",
       "    </tr>\n",
       "  </thead>\n",
       "  <tbody>\n",
       "    <tr>\n",
       "      <th>0</th>\n",
       "      <td>243</td>\n",
       "      <td>420</td>\n",
       "      <td>229</td>\n",
       "      <td>115</td>\n",
       "    </tr>\n",
       "    <tr>\n",
       "      <th>1</th>\n",
       "      <td>104</td>\n",
       "      <td>168</td>\n",
       "      <td>90</td>\n",
       "      <td>51</td>\n",
       "    </tr>\n",
       "    <tr>\n",
       "      <th>2</th>\n",
       "      <td>48</td>\n",
       "      <td>83</td>\n",
       "      <td>46</td>\n",
       "      <td>12</td>\n",
       "    </tr>\n",
       "    <tr>\n",
       "      <th>3</th>\n",
       "      <td>5</td>\n",
       "      <td>11</td>\n",
       "      <td>4</td>\n",
       "      <td>5</td>\n",
       "    </tr>\n",
       "    <tr>\n",
       "      <th>4</th>\n",
       "      <td>1</td>\n",
       "      <td>2</td>\n",
       "      <td>0</td>\n",
       "      <td>0</td>\n",
       "    </tr>\n",
       "    <tr>\n",
       "      <th>5</th>\n",
       "      <td>0</td>\n",
       "      <td>0</td>\n",
       "      <td>0</td>\n",
       "      <td>0</td>\n",
       "    </tr>\n",
       "    <tr>\n",
       "      <th>20</th>\n",
       "      <td>2</td>\n",
       "      <td>2</td>\n",
       "      <td>1</td>\n",
       "      <td>3</td>\n",
       "    </tr>\n",
       "  </tbody>\n",
       "</table>\n",
       "</div>"
      ],
      "text/plain": [
       "purpose_category  операции с автомобилем  операции с недвижимостью  \\\n",
       "children                                                             \n",
       "0                                    243                       420   \n",
       "1                                    104                       168   \n",
       "2                                     48                        83   \n",
       "3                                      5                        11   \n",
       "4                                      1                         2   \n",
       "5                                      0                         0   \n",
       "20                                     2                         2   \n",
       "\n",
       "purpose_category  получение образования  проведение свадьбы  \n",
       "children                                                     \n",
       "0                                   229                 115  \n",
       "1                                    90                  51  \n",
       "2                                    46                  12  \n",
       "3                                     4                   5  \n",
       "4                                     0                   0  \n",
       "5                                     0                   0  \n",
       "20                                    1                   3  "
      ]
     },
     "metadata": {},
     "output_type": "display_data"
    }
   ],
   "source": [
    "result_children = df.pivot_table(index=['children'], columns='purpose_category', values='debt', aggfunc='sum')\n",
    "display(result_children)"
   ]
  }
 ],
 "metadata": {
  "ExecuteTimeLog": [
   {
    "duration": 704,
    "start_time": "2022-02-09T01:08:32.581Z"
   },
   {
    "duration": 57,
    "start_time": "2022-02-09T01:09:08.794Z"
   },
   {
    "duration": 57,
    "start_time": "2022-02-09T01:09:38.625Z"
   },
   {
    "duration": 55,
    "start_time": "2022-02-09T01:11:29.082Z"
   },
   {
    "duration": 57,
    "start_time": "2022-02-09T01:11:40.531Z"
   },
   {
    "duration": 54,
    "start_time": "2022-02-09T01:11:56.579Z"
   },
   {
    "duration": 56,
    "start_time": "2022-02-09T01:12:08.595Z"
   },
   {
    "duration": 58,
    "start_time": "2022-02-09T01:12:35.907Z"
   },
   {
    "duration": 58,
    "start_time": "2022-02-09T01:12:44.940Z"
   },
   {
    "duration": 11,
    "start_time": "2022-02-09T01:58:48.753Z"
   },
   {
    "duration": 21,
    "start_time": "2022-02-09T02:03:42.524Z"
   },
   {
    "duration": 11,
    "start_time": "2022-02-09T02:04:46.316Z"
   },
   {
    "duration": 10,
    "start_time": "2022-02-09T02:04:52.445Z"
   },
   {
    "duration": 11,
    "start_time": "2022-02-09T02:05:04.324Z"
   },
   {
    "duration": 58,
    "start_time": "2022-02-09T02:06:20.326Z"
   },
   {
    "duration": 15,
    "start_time": "2022-02-09T03:45:24.039Z"
   },
   {
    "duration": 5,
    "start_time": "2022-02-09T03:45:35.284Z"
   },
   {
    "duration": 15,
    "start_time": "2022-02-09T03:45:48.992Z"
   },
   {
    "duration": 302,
    "start_time": "2022-02-09T13:33:25.875Z"
   },
   {
    "duration": 18,
    "start_time": "2022-02-09T13:33:49.296Z"
   },
   {
    "duration": 26,
    "start_time": "2022-02-09T13:38:32.629Z"
   },
   {
    "duration": 40,
    "start_time": "2022-02-09T13:39:04.773Z"
   },
   {
    "duration": 51,
    "start_time": "2022-02-09T13:39:36.861Z"
   },
   {
    "duration": 62,
    "start_time": "2022-02-09T13:56:14.901Z"
   },
   {
    "duration": 68,
    "start_time": "2022-02-09T14:01:18.005Z"
   },
   {
    "duration": 82,
    "start_time": "2022-02-09T14:01:30.279Z"
   },
   {
    "duration": 62,
    "start_time": "2022-02-09T14:07:25.442Z"
   },
   {
    "duration": 57,
    "start_time": "2022-02-09T15:33:51.482Z"
   },
   {
    "duration": 67,
    "start_time": "2022-02-09T15:45:50.796Z"
   },
   {
    "duration": 66,
    "start_time": "2022-02-09T15:45:54.756Z"
   },
   {
    "duration": 52,
    "start_time": "2022-02-09T15:45:57.729Z"
   },
   {
    "duration": 46,
    "start_time": "2022-02-09T17:06:46.341Z"
   },
   {
    "duration": 5,
    "start_time": "2022-02-09T17:51:30.759Z"
   },
   {
    "duration": 49,
    "start_time": "2022-02-09T17:51:40.338Z"
   },
   {
    "duration": 350,
    "start_time": "2022-02-10T03:34:54.499Z"
   },
   {
    "duration": 731,
    "start_time": "2022-02-10T03:35:32.052Z"
   },
   {
    "duration": 18,
    "start_time": "2022-02-10T03:35:36.012Z"
   },
   {
    "duration": 5,
    "start_time": "2022-02-10T03:35:43.700Z"
   },
   {
    "duration": 13,
    "start_time": "2022-02-10T03:35:46.523Z"
   },
   {
    "duration": 46,
    "start_time": "2022-02-10T03:35:50.763Z"
   },
   {
    "duration": 21,
    "start_time": "2022-02-10T03:36:06.892Z"
   },
   {
    "duration": 39,
    "start_time": "2022-02-10T03:36:18.979Z"
   },
   {
    "duration": 57,
    "start_time": "2022-02-10T03:37:01.522Z"
   },
   {
    "duration": 20,
    "start_time": "2022-02-10T03:37:07.251Z"
   },
   {
    "duration": 39,
    "start_time": "2022-02-10T03:37:27.406Z"
   },
   {
    "duration": 817,
    "start_time": "2022-02-10T03:44:22.596Z"
   },
   {
    "duration": -360,
    "start_time": "2022-02-10T03:45:07.890Z"
   },
   {
    "duration": -359,
    "start_time": "2022-02-10T03:45:26.689Z"
   },
   {
    "duration": 7945,
    "start_time": "2022-02-10T03:45:29.807Z"
   },
   {
    "duration": 1014,
    "start_time": "2022-02-10T03:45:59.423Z"
   },
   {
    "duration": 15,
    "start_time": "2022-02-10T03:48:25.698Z"
   },
   {
    "duration": 7,
    "start_time": "2022-02-10T03:49:12.257Z"
   },
   {
    "duration": 8,
    "start_time": "2022-02-10T03:49:46.074Z"
   },
   {
    "duration": 12,
    "start_time": "2022-02-10T03:50:55.305Z"
   },
   {
    "duration": 15,
    "start_time": "2022-02-10T04:00:33.604Z"
   },
   {
    "duration": 17,
    "start_time": "2022-02-10T04:00:41.302Z"
   },
   {
    "duration": 34,
    "start_time": "2022-02-10T04:01:00.983Z"
   },
   {
    "duration": 13,
    "start_time": "2022-02-10T05:51:41.669Z"
   },
   {
    "duration": 9,
    "start_time": "2022-02-10T07:50:49.526Z"
   },
   {
    "duration": 9,
    "start_time": "2022-02-10T07:50:54.599Z"
   },
   {
    "duration": 9,
    "start_time": "2022-02-10T07:50:57.534Z"
   },
   {
    "duration": 11,
    "start_time": "2022-02-10T07:51:17.183Z"
   },
   {
    "duration": 13,
    "start_time": "2022-02-10T07:53:06.384Z"
   },
   {
    "duration": 11,
    "start_time": "2022-02-10T07:53:21.511Z"
   },
   {
    "duration": 12,
    "start_time": "2022-02-10T07:53:24.038Z"
   },
   {
    "duration": 14,
    "start_time": "2022-02-10T07:53:36.223Z"
   },
   {
    "duration": 12,
    "start_time": "2022-02-10T07:53:50.462Z"
   },
   {
    "duration": 13,
    "start_time": "2022-02-10T08:01:56.663Z"
   },
   {
    "duration": 11,
    "start_time": "2022-02-10T08:02:02.746Z"
   },
   {
    "duration": 19,
    "start_time": "2022-02-10T09:53:26.001Z"
   },
   {
    "duration": 7,
    "start_time": "2022-02-10T10:08:08.075Z"
   },
   {
    "duration": -232,
    "start_time": "2022-02-10T10:08:39.101Z"
   },
   {
    "duration": -233,
    "start_time": "2022-02-10T10:09:10.567Z"
   },
   {
    "duration": 8831,
    "start_time": "2022-02-10T10:09:22.831Z"
   },
   {
    "duration": -231,
    "start_time": "2022-02-10T10:09:42.790Z"
   },
   {
    "duration": 13,
    "start_time": "2022-02-10T10:09:48.344Z"
   },
   {
    "duration": 8736,
    "start_time": "2022-02-10T10:10:13.428Z"
   },
   {
    "duration": 6,
    "start_time": "2022-02-10T10:13:24.036Z"
   },
   {
    "duration": 12,
    "start_time": "2022-02-10T10:13:34.155Z"
   },
   {
    "duration": 331,
    "start_time": "2022-02-10T10:17:12.517Z"
   },
   {
    "duration": 18,
    "start_time": "2022-02-10T10:20:45.428Z"
   },
   {
    "duration": 26,
    "start_time": "2022-02-10T10:20:57.488Z"
   },
   {
    "duration": 15,
    "start_time": "2022-02-10T10:21:31.102Z"
   },
   {
    "duration": 17,
    "start_time": "2022-02-10T10:21:48.184Z"
   },
   {
    "duration": 18,
    "start_time": "2022-02-10T10:22:29.049Z"
   },
   {
    "duration": 34,
    "start_time": "2022-02-10T10:22:32.770Z"
   },
   {
    "duration": 371,
    "start_time": "2022-02-10T10:33:39.551Z"
   },
   {
    "duration": 1165,
    "start_time": "2022-02-10T10:35:52.291Z"
   },
   {
    "duration": 356,
    "start_time": "2022-02-10T10:36:32.378Z"
   },
   {
    "duration": 327,
    "start_time": "2022-02-10T10:36:45.293Z"
   },
   {
    "duration": 324,
    "start_time": "2022-02-10T10:37:27.226Z"
   },
   {
    "duration": 619,
    "start_time": "2022-02-10T10:37:36.234Z"
   },
   {
    "duration": 16,
    "start_time": "2022-02-10T10:37:40.047Z"
   },
   {
    "duration": 19,
    "start_time": "2022-02-10T10:37:43.298Z"
   },
   {
    "duration": 13,
    "start_time": "2022-02-10T10:37:50.532Z"
   },
   {
    "duration": 48,
    "start_time": "2022-02-10T10:37:53.083Z"
   },
   {
    "duration": 15,
    "start_time": "2022-02-10T10:37:56.622Z"
   },
   {
    "duration": 18,
    "start_time": "2022-02-10T10:38:03.737Z"
   },
   {
    "duration": 37,
    "start_time": "2022-02-10T10:38:06.939Z"
   },
   {
    "duration": 29,
    "start_time": "2022-02-10T10:38:10.491Z"
   },
   {
    "duration": 12,
    "start_time": "2022-02-10T10:38:48.077Z"
   },
   {
    "duration": 350,
    "start_time": "2022-02-10T10:39:22.932Z"
   },
   {
    "duration": 648,
    "start_time": "2022-02-10T10:39:30.523Z"
   },
   {
    "duration": 16,
    "start_time": "2022-02-10T10:39:33.747Z"
   },
   {
    "duration": 20,
    "start_time": "2022-02-10T10:39:36.835Z"
   },
   {
    "duration": 15,
    "start_time": "2022-02-10T10:39:40.523Z"
   },
   {
    "duration": 49,
    "start_time": "2022-02-10T10:39:43.379Z"
   },
   {
    "duration": 14,
    "start_time": "2022-02-10T10:39:46.812Z"
   },
   {
    "duration": 20,
    "start_time": "2022-02-10T10:39:49.525Z"
   },
   {
    "duration": 35,
    "start_time": "2022-02-10T10:39:52.269Z"
   },
   {
    "duration": 14,
    "start_time": "2022-02-10T10:39:56.075Z"
   },
   {
    "duration": 360,
    "start_time": "2022-02-10T10:46:37.391Z"
   },
   {
    "duration": 357,
    "start_time": "2022-02-10T10:54:59.413Z"
   },
   {
    "duration": 320,
    "start_time": "2022-02-10T10:55:29.621Z"
   },
   {
    "duration": 597,
    "start_time": "2022-02-10T10:55:36.869Z"
   },
   {
    "duration": 16,
    "start_time": "2022-02-10T10:55:50.654Z"
   },
   {
    "duration": 20,
    "start_time": "2022-02-10T10:55:53.843Z"
   },
   {
    "duration": 14,
    "start_time": "2022-02-10T10:56:00.061Z"
   },
   {
    "duration": 11,
    "start_time": "2022-02-10T10:56:13.717Z"
   },
   {
    "duration": 51,
    "start_time": "2022-02-10T10:59:25.814Z"
   },
   {
    "duration": 11,
    "start_time": "2022-02-10T10:59:32.567Z"
   },
   {
    "duration": 18,
    "start_time": "2022-02-10T10:59:35.758Z"
   },
   {
    "duration": 14,
    "start_time": "2022-02-10T10:59:40.533Z"
   },
   {
    "duration": 53,
    "start_time": "2022-02-10T10:59:45.302Z"
   },
   {
    "duration": 14,
    "start_time": "2022-02-10T10:59:48.750Z"
   },
   {
    "duration": 18,
    "start_time": "2022-02-10T10:59:54.654Z"
   },
   {
    "duration": 36,
    "start_time": "2022-02-10T11:00:05.277Z"
   },
   {
    "duration": 14,
    "start_time": "2022-02-10T11:00:13.286Z"
   },
   {
    "duration": 2,
    "start_time": "2022-02-10T11:00:16.185Z"
   },
   {
    "duration": 11,
    "start_time": "2022-02-10T11:01:32.789Z"
   },
   {
    "duration": 19,
    "start_time": "2022-02-10T11:13:26.227Z"
   },
   {
    "duration": 11,
    "start_time": "2022-02-10T11:13:30.763Z"
   },
   {
    "duration": 11,
    "start_time": "2022-02-10T11:13:49.593Z"
   },
   {
    "duration": 16,
    "start_time": "2022-02-10T12:06:00.275Z"
   },
   {
    "duration": 13,
    "start_time": "2022-02-10T12:06:26.444Z"
   },
   {
    "duration": 11,
    "start_time": "2022-02-10T13:07:49.611Z"
   },
   {
    "duration": 17,
    "start_time": "2022-02-10T13:14:53.918Z"
   },
   {
    "duration": 21,
    "start_time": "2022-02-10T13:16:47.097Z"
   },
   {
    "duration": 25,
    "start_time": "2022-02-11T03:24:21.802Z"
   },
   {
    "duration": 16,
    "start_time": "2022-02-11T03:24:54.304Z"
   },
   {
    "duration": 26,
    "start_time": "2022-02-11T03:26:41.454Z"
   },
   {
    "duration": 26,
    "start_time": "2022-02-11T03:29:31.976Z"
   },
   {
    "duration": 25,
    "start_time": "2022-02-11T03:33:33.584Z"
   },
   {
    "duration": 342,
    "start_time": "2022-02-11T03:38:08.143Z"
   },
   {
    "duration": 345,
    "start_time": "2022-02-11T03:40:01.316Z"
   },
   {
    "duration": 618,
    "start_time": "2022-02-11T03:40:21.471Z"
   },
   {
    "duration": 375,
    "start_time": "2022-02-11T03:40:48.948Z"
   },
   {
    "duration": 23,
    "start_time": "2022-02-11T03:45:52.395Z"
   },
   {
    "duration": 21,
    "start_time": "2022-02-11T03:47:02.583Z"
   },
   {
    "duration": 102,
    "start_time": "2022-02-11T03:47:57.743Z"
   },
   {
    "duration": 22,
    "start_time": "2022-02-11T03:48:04.111Z"
   },
   {
    "duration": 21,
    "start_time": "2022-02-11T03:49:11.503Z"
   },
   {
    "duration": 21,
    "start_time": "2022-02-11T03:53:35.807Z"
   },
   {
    "duration": 321,
    "start_time": "2022-02-11T04:52:25.939Z"
   },
   {
    "duration": 29,
    "start_time": "2022-02-11T04:52:39.349Z"
   },
   {
    "duration": 22,
    "start_time": "2022-02-11T04:53:25.024Z"
   },
   {
    "duration": 20,
    "start_time": "2022-02-11T05:00:25.470Z"
   },
   {
    "duration": 21,
    "start_time": "2022-02-11T05:00:30.402Z"
   },
   {
    "duration": 18,
    "start_time": "2022-02-11T07:57:17.442Z"
   },
   {
    "duration": 17,
    "start_time": "2022-02-11T07:59:50.699Z"
   },
   {
    "duration": 21,
    "start_time": "2022-02-11T08:09:55.344Z"
   },
   {
    "duration": 839,
    "start_time": "2022-02-17T14:26:30.534Z"
   },
   {
    "duration": 36,
    "start_time": "2022-02-17T14:26:31.376Z"
   },
   {
    "duration": 50,
    "start_time": "2022-02-17T14:26:31.421Z"
   },
   {
    "duration": 49,
    "start_time": "2022-02-17T14:26:31.473Z"
   },
   {
    "duration": 96,
    "start_time": "2022-02-17T14:26:31.525Z"
   },
   {
    "duration": 26,
    "start_time": "2022-02-17T14:26:31.624Z"
   },
   {
    "duration": 61,
    "start_time": "2022-02-17T14:26:31.654Z"
   },
   {
    "duration": 94,
    "start_time": "2022-02-17T14:26:31.718Z"
   },
   {
    "duration": 50,
    "start_time": "2022-02-17T14:26:31.814Z"
   },
   {
    "duration": 62,
    "start_time": "2022-02-17T14:26:31.866Z"
   },
   {
    "duration": 36,
    "start_time": "2022-02-17T14:26:31.931Z"
   },
   {
    "duration": 64,
    "start_time": "2022-02-17T14:26:31.970Z"
   },
   {
    "duration": 29,
    "start_time": "2022-02-17T14:26:32.037Z"
   },
   {
    "duration": 57,
    "start_time": "2022-02-17T14:26:32.069Z"
   },
   {
    "duration": 837,
    "start_time": "2022-02-17T14:29:43.237Z"
   },
   {
    "duration": 35,
    "start_time": "2022-02-17T14:29:44.077Z"
   },
   {
    "duration": 53,
    "start_time": "2022-02-17T14:29:44.115Z"
   },
   {
    "duration": 46,
    "start_time": "2022-02-17T14:29:44.171Z"
   },
   {
    "duration": 98,
    "start_time": "2022-02-17T14:29:44.219Z"
   },
   {
    "duration": 25,
    "start_time": "2022-02-17T14:29:44.319Z"
   },
   {
    "duration": 30,
    "start_time": "2022-02-17T14:29:44.347Z"
   },
   {
    "duration": 73,
    "start_time": "2022-02-17T14:29:44.411Z"
   },
   {
    "duration": 63,
    "start_time": "2022-02-17T14:29:44.488Z"
   },
   {
    "duration": 56,
    "start_time": "2022-02-17T14:29:44.554Z"
   },
   {
    "duration": 37,
    "start_time": "2022-02-17T14:29:44.613Z"
   },
   {
    "duration": 59,
    "start_time": "2022-02-17T14:29:44.653Z"
   },
   {
    "duration": 32,
    "start_time": "2022-02-17T14:29:44.715Z"
   },
   {
    "duration": 60,
    "start_time": "2022-02-17T14:29:44.750Z"
   },
   {
    "duration": 10,
    "start_time": "2022-02-17T14:32:13.461Z"
   },
   {
    "duration": 10,
    "start_time": "2022-02-17T14:32:42.998Z"
   },
   {
    "duration": 1113,
    "start_time": "2022-02-17T14:40:43.165Z"
   },
   {
    "duration": 30,
    "start_time": "2022-02-17T14:40:50.644Z"
   },
   {
    "duration": 460,
    "start_time": "2022-02-17T14:41:09.187Z"
   },
   {
    "duration": 13,
    "start_time": "2022-02-17T14:41:24.517Z"
   },
   {
    "duration": 944,
    "start_time": "2022-02-17T14:44:52.246Z"
   },
   {
    "duration": 35,
    "start_time": "2022-02-17T14:44:53.193Z"
   },
   {
    "duration": 51,
    "start_time": "2022-02-17T14:44:53.232Z"
   },
   {
    "duration": 40,
    "start_time": "2022-02-17T14:44:53.286Z"
   },
   {
    "duration": 98,
    "start_time": "2022-02-17T14:44:53.328Z"
   },
   {
    "duration": 26,
    "start_time": "2022-02-17T14:44:53.428Z"
   },
   {
    "duration": 59,
    "start_time": "2022-02-17T14:44:53.457Z"
   },
   {
    "duration": 72,
    "start_time": "2022-02-17T14:44:53.520Z"
   },
   {
    "duration": 54,
    "start_time": "2022-02-17T14:44:53.595Z"
   },
   {
    "duration": 64,
    "start_time": "2022-02-17T14:44:53.652Z"
   },
   {
    "duration": 13,
    "start_time": "2022-02-17T14:44:53.718Z"
   },
   {
    "duration": 488,
    "start_time": "2022-02-17T14:44:53.733Z"
   },
   {
    "duration": -2676,
    "start_time": "2022-02-17T14:44:56.899Z"
   },
   {
    "duration": -2676,
    "start_time": "2022-02-17T14:44:56.901Z"
   },
   {
    "duration": -2677,
    "start_time": "2022-02-17T14:44:56.903Z"
   },
   {
    "duration": -2678,
    "start_time": "2022-02-17T14:44:56.905Z"
   },
   {
    "duration": 17,
    "start_time": "2022-02-17T14:45:45.061Z"
   },
   {
    "duration": 11,
    "start_time": "2022-02-17T14:46:08.581Z"
   },
   {
    "duration": 1067,
    "start_time": "2022-02-17T14:47:27.466Z"
   },
   {
    "duration": 31,
    "start_time": "2022-02-17T14:47:28.536Z"
   },
   {
    "duration": 114,
    "start_time": "2022-02-17T14:47:28.572Z"
   },
   {
    "duration": 32,
    "start_time": "2022-02-17T14:47:28.689Z"
   },
   {
    "duration": 102,
    "start_time": "2022-02-17T14:47:28.724Z"
   },
   {
    "duration": 30,
    "start_time": "2022-02-17T14:47:28.828Z"
   },
   {
    "duration": 79,
    "start_time": "2022-02-17T14:47:28.860Z"
   },
   {
    "duration": 127,
    "start_time": "2022-02-17T14:47:28.942Z"
   },
   {
    "duration": 46,
    "start_time": "2022-02-17T14:47:29.110Z"
   },
   {
    "duration": 40,
    "start_time": "2022-02-17T14:47:29.211Z"
   },
   {
    "duration": 105,
    "start_time": "2022-02-17T14:47:29.253Z"
   },
   {
    "duration": 102,
    "start_time": "2022-02-17T14:47:29.361Z"
   },
   {
    "duration": 31,
    "start_time": "2022-02-17T14:47:29.465Z"
   },
   {
    "duration": 43,
    "start_time": "2022-02-17T14:47:29.499Z"
   },
   {
    "duration": 7,
    "start_time": "2022-02-17T14:48:54.555Z"
   },
   {
    "duration": 6,
    "start_time": "2022-02-17T14:49:03.643Z"
   },
   {
    "duration": 12,
    "start_time": "2022-02-17T14:49:09.935Z"
   },
   {
    "duration": 469,
    "start_time": "2022-02-17T14:49:35.511Z"
   },
   {
    "duration": 16,
    "start_time": "2022-02-17T14:49:45.715Z"
   },
   {
    "duration": 923,
    "start_time": "2022-02-17T14:50:23.281Z"
   },
   {
    "duration": 27,
    "start_time": "2022-02-17T14:50:24.206Z"
   },
   {
    "duration": 52,
    "start_time": "2022-02-17T14:50:24.236Z"
   },
   {
    "duration": 38,
    "start_time": "2022-02-17T14:50:24.291Z"
   },
   {
    "duration": 104,
    "start_time": "2022-02-17T14:50:24.332Z"
   },
   {
    "duration": 28,
    "start_time": "2022-02-17T14:50:24.439Z"
   },
   {
    "duration": 66,
    "start_time": "2022-02-17T14:50:24.470Z"
   },
   {
    "duration": 91,
    "start_time": "2022-02-17T14:50:24.538Z"
   },
   {
    "duration": 47,
    "start_time": "2022-02-17T14:50:24.632Z"
   },
   {
    "duration": 60,
    "start_time": "2022-02-17T14:50:24.682Z"
   },
   {
    "duration": 27,
    "start_time": "2022-02-17T14:50:24.744Z"
   },
   {
    "duration": 66,
    "start_time": "2022-02-17T14:50:24.773Z"
   },
   {
    "duration": 38,
    "start_time": "2022-02-17T14:50:24.841Z"
   },
   {
    "duration": 58,
    "start_time": "2022-02-17T14:50:24.881Z"
   },
   {
    "duration": 29,
    "start_time": "2022-02-17T14:50:24.942Z"
   },
   {
    "duration": 510,
    "start_time": "2022-02-17T14:56:47.968Z"
   },
   {
    "duration": 894,
    "start_time": "2022-02-17T14:57:05.394Z"
   },
   {
    "duration": 26,
    "start_time": "2022-02-17T14:57:06.292Z"
   },
   {
    "duration": 52,
    "start_time": "2022-02-17T14:57:06.322Z"
   },
   {
    "duration": 46,
    "start_time": "2022-02-17T14:57:06.377Z"
   },
   {
    "duration": 104,
    "start_time": "2022-02-17T14:57:06.425Z"
   },
   {
    "duration": 27,
    "start_time": "2022-02-17T14:57:06.532Z"
   },
   {
    "duration": 61,
    "start_time": "2022-02-17T14:57:06.562Z"
   },
   {
    "duration": 90,
    "start_time": "2022-02-17T14:57:06.626Z"
   },
   {
    "duration": 43,
    "start_time": "2022-02-17T14:57:06.719Z"
   },
   {
    "duration": 65,
    "start_time": "2022-02-17T14:57:06.764Z"
   },
   {
    "duration": 12,
    "start_time": "2022-02-17T14:57:06.831Z"
   },
   {
    "duration": 67,
    "start_time": "2022-02-17T14:57:06.845Z"
   },
   {
    "duration": 39,
    "start_time": "2022-02-17T14:57:06.914Z"
   },
   {
    "duration": 60,
    "start_time": "2022-02-17T14:57:06.956Z"
   },
   {
    "duration": 36,
    "start_time": "2022-02-17T14:57:07.018Z"
   },
   {
    "duration": 484,
    "start_time": "2022-02-17T15:21:55.394Z"
   },
   {
    "duration": 227,
    "start_time": "2022-02-17T15:22:08.232Z"
   },
   {
    "duration": 459,
    "start_time": "2022-02-17T15:22:11.501Z"
   },
   {
    "duration": 398,
    "start_time": "2022-02-17T15:23:04.643Z"
   },
   {
    "duration": 445,
    "start_time": "2022-02-17T15:23:08.307Z"
   },
   {
    "duration": 26,
    "start_time": "2022-02-17T15:23:13.209Z"
   },
   {
    "duration": 386,
    "start_time": "2022-02-17T15:23:44.244Z"
   },
   {
    "duration": 17,
    "start_time": "2022-02-17T15:23:47.926Z"
   },
   {
    "duration": 33,
    "start_time": "2022-02-17T15:23:48.123Z"
   },
   {
    "duration": 23,
    "start_time": "2022-02-17T15:24:11.186Z"
   },
   {
    "duration": 23,
    "start_time": "2022-02-17T15:24:16.524Z"
   },
   {
    "duration": 10,
    "start_time": "2022-02-17T15:24:56.255Z"
   },
   {
    "duration": 17,
    "start_time": "2022-02-17T15:25:06.723Z"
   },
   {
    "duration": 411,
    "start_time": "2022-02-17T15:25:17.874Z"
   },
   {
    "duration": 11,
    "start_time": "2022-02-17T15:25:22.754Z"
   },
   {
    "duration": 13,
    "start_time": "2022-02-17T15:25:27.144Z"
   },
   {
    "duration": 375,
    "start_time": "2022-02-17T15:25:34.921Z"
   },
   {
    "duration": 13,
    "start_time": "2022-02-17T15:25:40.394Z"
   },
   {
    "duration": 629,
    "start_time": "2022-02-17T15:26:07.953Z"
   },
   {
    "duration": 408,
    "start_time": "2022-02-17T15:26:10.711Z"
   },
   {
    "duration": 13,
    "start_time": "2022-02-17T15:26:17.546Z"
   },
   {
    "duration": 6,
    "start_time": "2022-02-17T15:26:27.322Z"
   },
   {
    "duration": 12,
    "start_time": "2022-02-17T15:26:28.868Z"
   },
   {
    "duration": 383,
    "start_time": "2022-02-17T15:26:43.159Z"
   },
   {
    "duration": 25,
    "start_time": "2022-02-17T15:26:55.566Z"
   },
   {
    "duration": 25,
    "start_time": "2022-02-17T15:27:00.835Z"
   },
   {
    "duration": 26,
    "start_time": "2022-02-17T15:27:04.806Z"
   },
   {
    "duration": 8,
    "start_time": "2022-02-17T15:27:09.482Z"
   },
   {
    "duration": 369,
    "start_time": "2022-02-17T15:27:10.009Z"
   },
   {
    "duration": 381,
    "start_time": "2022-02-17T15:27:14.373Z"
   },
   {
    "duration": 440,
    "start_time": "2022-02-17T15:27:17.604Z"
   },
   {
    "duration": 590,
    "start_time": "2022-02-17T16:54:47.654Z"
   },
   {
    "duration": 80,
    "start_time": "2022-02-17T16:54:48.246Z"
   },
   {
    "duration": 13,
    "start_time": "2022-02-17T16:54:48.328Z"
   },
   {
    "duration": 4,
    "start_time": "2022-02-17T16:54:48.344Z"
   },
   {
    "duration": 21,
    "start_time": "2022-02-17T16:54:48.351Z"
   },
   {
    "duration": 46,
    "start_time": "2022-02-17T16:54:48.373Z"
   },
   {
    "duration": 16,
    "start_time": "2022-02-17T16:54:48.420Z"
   },
   {
    "duration": 81,
    "start_time": "2022-02-17T16:54:48.438Z"
   },
   {
    "duration": 16,
    "start_time": "2022-02-17T16:54:48.521Z"
   },
   {
    "duration": 31,
    "start_time": "2022-02-17T16:54:48.539Z"
   },
   {
    "duration": 59,
    "start_time": "2022-02-17T16:54:48.571Z"
   },
   {
    "duration": 26,
    "start_time": "2022-02-17T16:54:48.632Z"
   },
   {
    "duration": 24,
    "start_time": "2022-02-17T16:54:48.659Z"
   },
   {
    "duration": 24,
    "start_time": "2022-02-17T16:54:48.719Z"
   },
   {
    "duration": 23,
    "start_time": "2022-02-17T16:54:48.744Z"
   },
   {
    "duration": 51,
    "start_time": "2022-02-17T16:54:48.768Z"
   },
   {
    "duration": 19,
    "start_time": "2022-02-17T16:54:48.820Z"
   },
   {
    "duration": 70,
    "start_time": "2022-02-17T16:55:31.425Z"
   },
   {
    "duration": 72,
    "start_time": "2022-02-17T16:55:50.553Z"
   },
   {
    "duration": 88,
    "start_time": "2022-02-17T17:08:58.807Z"
   },
   {
    "duration": 739,
    "start_time": "2022-02-18T16:39:09.916Z"
   },
   {
    "duration": 145,
    "start_time": "2022-02-18T16:39:10.657Z"
   },
   {
    "duration": 19,
    "start_time": "2022-02-18T16:39:10.805Z"
   },
   {
    "duration": 50,
    "start_time": "2022-02-18T16:39:10.827Z"
   },
   {
    "duration": 47,
    "start_time": "2022-02-18T16:39:10.879Z"
   },
   {
    "duration": 68,
    "start_time": "2022-02-18T16:39:10.930Z"
   },
   {
    "duration": 61,
    "start_time": "2022-02-18T16:39:11.001Z"
   },
   {
    "duration": 117,
    "start_time": "2022-02-18T16:39:11.065Z"
   },
   {
    "duration": 22,
    "start_time": "2022-02-18T16:39:11.185Z"
   },
   {
    "duration": 87,
    "start_time": "2022-02-18T16:39:11.210Z"
   },
   {
    "duration": 99,
    "start_time": "2022-02-18T16:39:11.299Z"
   },
   {
    "duration": 45,
    "start_time": "2022-02-18T16:39:11.400Z"
   },
   {
    "duration": 85,
    "start_time": "2022-02-18T16:39:11.447Z"
   },
   {
    "duration": 58,
    "start_time": "2022-02-18T16:39:11.534Z"
   },
   {
    "duration": 41,
    "start_time": "2022-02-18T16:39:11.594Z"
   },
   {
    "duration": 79,
    "start_time": "2022-02-18T16:39:11.638Z"
   },
   {
    "duration": 47,
    "start_time": "2022-02-18T16:39:11.719Z"
   },
   {
    "duration": 63,
    "start_time": "2022-05-24T10:24:53.561Z"
   },
   {
    "duration": 628,
    "start_time": "2022-05-24T10:25:00.439Z"
   },
   {
    "duration": 247,
    "start_time": "2022-05-24T10:25:01.070Z"
   },
   {
    "duration": 16,
    "start_time": "2022-05-24T10:25:01.320Z"
   },
   {
    "duration": 8,
    "start_time": "2022-05-24T10:25:01.339Z"
   },
   {
    "duration": 82,
    "start_time": "2022-05-24T10:25:01.350Z"
   },
   {
    "duration": 17,
    "start_time": "2022-05-24T10:25:01.435Z"
   },
   {
    "duration": 36,
    "start_time": "2022-05-24T10:25:01.455Z"
   },
   {
    "duration": 63,
    "start_time": "2022-05-24T10:25:01.493Z"
   },
   {
    "duration": 18,
    "start_time": "2022-05-24T10:25:01.558Z"
   },
   {
    "duration": 39,
    "start_time": "2022-05-24T10:25:01.579Z"
   },
   {
    "duration": 17,
    "start_time": "2022-05-24T10:25:01.620Z"
   },
   {
    "duration": 43,
    "start_time": "2022-05-24T10:25:01.639Z"
   },
   {
    "duration": 40,
    "start_time": "2022-05-24T10:25:01.685Z"
   },
   {
    "duration": 25,
    "start_time": "2022-05-24T10:25:01.727Z"
   },
   {
    "duration": 48,
    "start_time": "2022-05-24T10:25:01.754Z"
   },
   {
    "duration": 33,
    "start_time": "2022-05-24T10:25:01.804Z"
   },
   {
    "duration": 42,
    "start_time": "2022-05-24T10:25:01.839Z"
   },
   {
    "duration": 39,
    "start_time": "2022-05-24T10:25:01.883Z"
   },
   {
    "duration": 56,
    "start_time": "2022-07-18T20:26:07.497Z"
   },
   {
    "duration": 408,
    "start_time": "2022-07-18T20:26:10.937Z"
   },
   {
    "duration": 190,
    "start_time": "2022-07-18T20:26:11.348Z"
   },
   {
    "duration": 15,
    "start_time": "2022-07-18T20:26:11.540Z"
   },
   {
    "duration": 5,
    "start_time": "2022-07-18T20:26:11.557Z"
   },
   {
    "duration": 50,
    "start_time": "2022-07-18T20:26:11.564Z"
   },
   {
    "duration": 16,
    "start_time": "2022-07-18T20:26:11.615Z"
   },
   {
    "duration": 24,
    "start_time": "2022-07-18T20:26:11.634Z"
   },
   {
    "duration": 93,
    "start_time": "2022-07-18T20:26:11.661Z"
   },
   {
    "duration": 20,
    "start_time": "2022-07-18T20:26:11.757Z"
   },
   {
    "duration": 22,
    "start_time": "2022-07-18T20:26:11.804Z"
   },
   {
    "duration": 43,
    "start_time": "2022-07-18T20:26:11.828Z"
   },
   {
    "duration": 54,
    "start_time": "2022-07-18T20:26:11.873Z"
   },
   {
    "duration": 25,
    "start_time": "2022-07-18T20:26:11.929Z"
   },
   {
    "duration": 55,
    "start_time": "2022-07-18T20:26:11.955Z"
   },
   {
    "duration": 26,
    "start_time": "2022-07-18T20:26:12.012Z"
   },
   {
    "duration": 28,
    "start_time": "2022-07-18T20:26:12.040Z"
   },
   {
    "duration": 49,
    "start_time": "2022-07-18T20:26:12.070Z"
   },
   {
    "duration": 40,
    "start_time": "2022-07-18T20:26:24.680Z"
   }
  ],
  "kernelspec": {
   "display_name": "Python 3 (ipykernel)",
   "language": "python",
   "name": "python3"
  },
  "language_info": {
   "codemirror_mode": {
    "name": "ipython",
    "version": 3
   },
   "file_extension": ".py",
   "mimetype": "text/x-python",
   "name": "python",
   "nbconvert_exporter": "python",
   "pygments_lexer": "ipython3",
   "version": "3.9.7"
  },
  "toc": {
   "base_numbering": 1,
   "nav_menu": {},
   "number_sections": true,
   "sideBar": true,
   "skip_h1_title": true,
   "title_cell": "Table of Contents",
   "title_sidebar": "Contents",
   "toc_cell": false,
   "toc_position": {},
   "toc_section_display": true,
   "toc_window_display": false
  }
 },
 "nbformat": 4,
 "nbformat_minor": 5
}
