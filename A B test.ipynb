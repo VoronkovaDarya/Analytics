{
 "cells": [
  {
   "cell_type": "markdown",
   "metadata": {},
   "source": [
    "Подключаем необходимые библиотеки"
   ]
  },
  {
   "cell_type": "code",
   "execution_count": 1,
   "metadata": {},
   "outputs": [],
   "source": [
    "import pandas as pd\n",
    "import matplotlib.pyplot as plt\n",
    "import numpy as np\n",
    "import seaborn as sns\n",
    "from datetime import datetime, timedelta\n",
    "\n",
    "from plotly.offline import init_notebook_mode, iplot\n",
    "import plotly\n",
    "import plotly.graph_objs as go\n",
    "import scipy.stats as stats"
   ]
  },
  {
   "cell_type": "markdown",
   "metadata": {},
   "source": [
    "Выполним первый этап, получим исходные данные и изучим их"
   ]
  },
  {
   "cell_type": "code",
   "execution_count": 2,
   "metadata": {},
   "outputs": [
    {
     "data": {
      "text/html": [
       "<div>\n",
       "<style scoped>\n",
       "    .dataframe tbody tr th:only-of-type {\n",
       "        vertical-align: middle;\n",
       "    }\n",
       "\n",
       "    .dataframe tbody tr th {\n",
       "        vertical-align: top;\n",
       "    }\n",
       "\n",
       "    .dataframe thead th {\n",
       "        text-align: right;\n",
       "    }\n",
       "</style>\n",
       "<table border=\"1\" class=\"dataframe\">\n",
       "  <thead>\n",
       "    <tr style=\"text-align: right;\">\n",
       "      <th></th>\n",
       "      <th>Hypothesis</th>\n",
       "      <th>Reach</th>\n",
       "      <th>Impact</th>\n",
       "      <th>Confidence</th>\n",
       "      <th>Efforts</th>\n",
       "    </tr>\n",
       "  </thead>\n",
       "  <tbody>\n",
       "    <tr>\n",
       "      <th>0</th>\n",
       "      <td>Добавить два новых канала привлечения трафика,...</td>\n",
       "      <td>3</td>\n",
       "      <td>10</td>\n",
       "      <td>8</td>\n",
       "      <td>6</td>\n",
       "    </tr>\n",
       "    <tr>\n",
       "      <th>1</th>\n",
       "      <td>Запустить собственную службу доставки, что сок...</td>\n",
       "      <td>2</td>\n",
       "      <td>5</td>\n",
       "      <td>4</td>\n",
       "      <td>10</td>\n",
       "    </tr>\n",
       "    <tr>\n",
       "      <th>2</th>\n",
       "      <td>Добавить блоки рекомендаций товаров на сайт ин...</td>\n",
       "      <td>8</td>\n",
       "      <td>3</td>\n",
       "      <td>7</td>\n",
       "      <td>3</td>\n",
       "    </tr>\n",
       "    <tr>\n",
       "      <th>3</th>\n",
       "      <td>Изменить структура категорий, что увеличит кон...</td>\n",
       "      <td>8</td>\n",
       "      <td>3</td>\n",
       "      <td>3</td>\n",
       "      <td>8</td>\n",
       "    </tr>\n",
       "    <tr>\n",
       "      <th>4</th>\n",
       "      <td>Изменить цвет фона главной страницы, чтобы уве...</td>\n",
       "      <td>3</td>\n",
       "      <td>1</td>\n",
       "      <td>1</td>\n",
       "      <td>1</td>\n",
       "    </tr>\n",
       "    <tr>\n",
       "      <th>5</th>\n",
       "      <td>Добавить страницу отзывов клиентов о магазине,...</td>\n",
       "      <td>3</td>\n",
       "      <td>2</td>\n",
       "      <td>2</td>\n",
       "      <td>3</td>\n",
       "    </tr>\n",
       "    <tr>\n",
       "      <th>6</th>\n",
       "      <td>Показать на главной странице баннеры с актуаль...</td>\n",
       "      <td>5</td>\n",
       "      <td>3</td>\n",
       "      <td>8</td>\n",
       "      <td>3</td>\n",
       "    </tr>\n",
       "    <tr>\n",
       "      <th>7</th>\n",
       "      <td>Добавить форму подписки на все основные страни...</td>\n",
       "      <td>10</td>\n",
       "      <td>7</td>\n",
       "      <td>8</td>\n",
       "      <td>5</td>\n",
       "    </tr>\n",
       "    <tr>\n",
       "      <th>8</th>\n",
       "      <td>Запустить акцию, дающую скидку на товар в день...</td>\n",
       "      <td>1</td>\n",
       "      <td>9</td>\n",
       "      <td>9</td>\n",
       "      <td>5</td>\n",
       "    </tr>\n",
       "  </tbody>\n",
       "</table>\n",
       "</div>"
      ],
      "text/plain": [
       "                                          Hypothesis  Reach  Impact  \\\n",
       "0  Добавить два новых канала привлечения трафика,...      3      10   \n",
       "1  Запустить собственную службу доставки, что сок...      2       5   \n",
       "2  Добавить блоки рекомендаций товаров на сайт ин...      8       3   \n",
       "3  Изменить структура категорий, что увеличит кон...      8       3   \n",
       "4  Изменить цвет фона главной страницы, чтобы уве...      3       1   \n",
       "5  Добавить страницу отзывов клиентов о магазине,...      3       2   \n",
       "6  Показать на главной странице баннеры с актуаль...      5       3   \n",
       "7  Добавить форму подписки на все основные страни...     10       7   \n",
       "8  Запустить акцию, дающую скидку на товар в день...      1       9   \n",
       "\n",
       "   Confidence  Efforts  \n",
       "0           8        6  \n",
       "1           4       10  \n",
       "2           7        3  \n",
       "3           3        8  \n",
       "4           1        1  \n",
       "5           2        3  \n",
       "6           8        3  \n",
       "7           8        5  \n",
       "8           9        5  "
      ]
     },
     "metadata": {},
     "output_type": "display_data"
    },
    {
     "name": "stdout",
     "output_type": "stream",
     "text": [
      "<class 'pandas.core.frame.DataFrame'>\n",
      "RangeIndex: 9 entries, 0 to 8\n",
      "Data columns (total 5 columns):\n",
      " #   Column      Non-Null Count  Dtype \n",
      "---  ------      --------------  ----- \n",
      " 0   Hypothesis  9 non-null      object\n",
      " 1   Reach       9 non-null      int64 \n",
      " 2   Impact      9 non-null      int64 \n",
      " 3   Confidence  9 non-null      int64 \n",
      " 4   Efforts     9 non-null      int64 \n",
      "dtypes: int64(4), object(1)\n",
      "memory usage: 488.0+ bytes\n"
     ]
    },
    {
     "data": {
      "text/plain": [
       "0"
      ]
     },
     "execution_count": 2,
     "metadata": {},
     "output_type": "execute_result"
    }
   ],
   "source": [
    "df_hypothesis = pd.read_csv('C:\\\\Users\\\\Anore\\\\Project sprints\\\\ANALYTICS\\\\ABtest\\\\hypothesis.csv')\n",
    "display(df_hypothesis.head(10))\n",
    "df_hypothesis.info()\n",
    "df_hypothesis.duplicated().sum()"
   ]
  },
  {
   "cell_type": "markdown",
   "metadata": {},
   "source": [
    "Приведем название столбцов к корректному виду"
   ]
  },
  {
   "cell_type": "code",
   "execution_count": 3,
   "metadata": {},
   "outputs": [],
   "source": [
    "df_hypothesis = df_hypothesis.rename(columns = {\n",
    "    'Hypothesis': 'hypothesis',\n",
    "    'Reach': 'reach',\n",
    "    'Impact': 'impact',\n",
    "    'Confidence': 'confidence',\n",
    "    'Efforts': 'efforts',\n",
    "})"
   ]
  },
  {
   "cell_type": "code",
   "execution_count": 4,
   "metadata": {},
   "outputs": [
    {
     "data": {
      "text/html": [
       "<div>\n",
       "<style scoped>\n",
       "    .dataframe tbody tr th:only-of-type {\n",
       "        vertical-align: middle;\n",
       "    }\n",
       "\n",
       "    .dataframe tbody tr th {\n",
       "        vertical-align: top;\n",
       "    }\n",
       "\n",
       "    .dataframe thead th {\n",
       "        text-align: right;\n",
       "    }\n",
       "</style>\n",
       "<table border=\"1\" class=\"dataframe\">\n",
       "  <thead>\n",
       "    <tr style=\"text-align: right;\">\n",
       "      <th></th>\n",
       "      <th>transactionId</th>\n",
       "      <th>visitorId</th>\n",
       "      <th>date</th>\n",
       "      <th>revenue</th>\n",
       "      <th>group</th>\n",
       "    </tr>\n",
       "  </thead>\n",
       "  <tbody>\n",
       "    <tr>\n",
       "      <th>0</th>\n",
       "      <td>3667963787</td>\n",
       "      <td>3312258926</td>\n",
       "      <td>2019-08-15</td>\n",
       "      <td>1650</td>\n",
       "      <td>B</td>\n",
       "    </tr>\n",
       "    <tr>\n",
       "      <th>1</th>\n",
       "      <td>2804400009</td>\n",
       "      <td>3642806036</td>\n",
       "      <td>2019-08-15</td>\n",
       "      <td>730</td>\n",
       "      <td>B</td>\n",
       "    </tr>\n",
       "    <tr>\n",
       "      <th>2</th>\n",
       "      <td>2961555356</td>\n",
       "      <td>4069496402</td>\n",
       "      <td>2019-08-15</td>\n",
       "      <td>400</td>\n",
       "      <td>A</td>\n",
       "    </tr>\n",
       "    <tr>\n",
       "      <th>3</th>\n",
       "      <td>3797467345</td>\n",
       "      <td>1196621759</td>\n",
       "      <td>2019-08-15</td>\n",
       "      <td>9759</td>\n",
       "      <td>B</td>\n",
       "    </tr>\n",
       "    <tr>\n",
       "      <th>4</th>\n",
       "      <td>2282983706</td>\n",
       "      <td>2322279887</td>\n",
       "      <td>2019-08-15</td>\n",
       "      <td>2308</td>\n",
       "      <td>B</td>\n",
       "    </tr>\n",
       "    <tr>\n",
       "      <th>5</th>\n",
       "      <td>182168103</td>\n",
       "      <td>935554773</td>\n",
       "      <td>2019-08-15</td>\n",
       "      <td>2210</td>\n",
       "      <td>B</td>\n",
       "    </tr>\n",
       "    <tr>\n",
       "      <th>6</th>\n",
       "      <td>398296753</td>\n",
       "      <td>2900797465</td>\n",
       "      <td>2019-08-15</td>\n",
       "      <td>1860</td>\n",
       "      <td>B</td>\n",
       "    </tr>\n",
       "    <tr>\n",
       "      <th>7</th>\n",
       "      <td>2626614568</td>\n",
       "      <td>78758296</td>\n",
       "      <td>2019-08-15</td>\n",
       "      <td>1044</td>\n",
       "      <td>A</td>\n",
       "    </tr>\n",
       "    <tr>\n",
       "      <th>8</th>\n",
       "      <td>1576988021</td>\n",
       "      <td>295230930</td>\n",
       "      <td>2019-08-15</td>\n",
       "      <td>13710</td>\n",
       "      <td>A</td>\n",
       "    </tr>\n",
       "    <tr>\n",
       "      <th>9</th>\n",
       "      <td>1506739906</td>\n",
       "      <td>1882260405</td>\n",
       "      <td>2019-08-15</td>\n",
       "      <td>1855</td>\n",
       "      <td>B</td>\n",
       "    </tr>\n",
       "  </tbody>\n",
       "</table>\n",
       "</div>"
      ],
      "text/plain": [
       "   transactionId   visitorId        date  revenue group\n",
       "0     3667963787  3312258926  2019-08-15     1650     B\n",
       "1     2804400009  3642806036  2019-08-15      730     B\n",
       "2     2961555356  4069496402  2019-08-15      400     A\n",
       "3     3797467345  1196621759  2019-08-15     9759     B\n",
       "4     2282983706  2322279887  2019-08-15     2308     B\n",
       "5      182168103   935554773  2019-08-15     2210     B\n",
       "6      398296753  2900797465  2019-08-15     1860     B\n",
       "7     2626614568    78758296  2019-08-15     1044     A\n",
       "8     1576988021   295230930  2019-08-15    13710     A\n",
       "9     1506739906  1882260405  2019-08-15     1855     B"
      ]
     },
     "metadata": {},
     "output_type": "display_data"
    },
    {
     "name": "stdout",
     "output_type": "stream",
     "text": [
      "<class 'pandas.core.frame.DataFrame'>\n",
      "RangeIndex: 1197 entries, 0 to 1196\n",
      "Data columns (total 5 columns):\n",
      " #   Column         Non-Null Count  Dtype \n",
      "---  ------         --------------  ----- \n",
      " 0   transactionId  1197 non-null   int64 \n",
      " 1   visitorId      1197 non-null   int64 \n",
      " 2   date           1197 non-null   object\n",
      " 3   revenue        1197 non-null   int64 \n",
      " 4   group          1197 non-null   object\n",
      "dtypes: int64(3), object(2)\n",
      "memory usage: 46.9+ KB\n"
     ]
    },
    {
     "data": {
      "text/plain": [
       "0"
      ]
     },
     "execution_count": 4,
     "metadata": {},
     "output_type": "execute_result"
    }
   ],
   "source": [
    "df_orders = pd.read_csv('C:\\\\Users\\\\Anore\\\\Project sprints\\\\ANALYTICS\\\\ABtest\\\\orders.csv')\n",
    "display(df_orders.head(10))\n",
    "df_orders.info()\n",
    "df_orders.duplicated().sum()"
   ]
  },
  {
   "cell_type": "code",
   "execution_count": 5,
   "metadata": {},
   "outputs": [
    {
     "name": "stdout",
     "output_type": "stream",
     "text": [
      "<class 'pandas.core.frame.DataFrame'>\n",
      "RangeIndex: 1197 entries, 0 to 1196\n",
      "Data columns (total 5 columns):\n",
      " #   Column         Non-Null Count  Dtype         \n",
      "---  ------         --------------  -----         \n",
      " 0   transactionId  1197 non-null   int64         \n",
      " 1   visitorId      1197 non-null   int64         \n",
      " 2   date           1197 non-null   datetime64[ns]\n",
      " 3   revenue        1197 non-null   int64         \n",
      " 4   group          1197 non-null   object        \n",
      "dtypes: datetime64[ns](1), int64(3), object(1)\n",
      "memory usage: 46.9+ KB\n"
     ]
    }
   ],
   "source": [
    "#Изменим тип данных времени\n",
    "df_orders['date'] = pd.to_datetime(df_orders['date'])\n",
    "df_orders.info()"
   ]
  },
  {
   "cell_type": "code",
   "execution_count": 6,
   "metadata": {},
   "outputs": [
    {
     "data": {
      "text/html": [
       "<div>\n",
       "<style scoped>\n",
       "    .dataframe tbody tr th:only-of-type {\n",
       "        vertical-align: middle;\n",
       "    }\n",
       "\n",
       "    .dataframe tbody tr th {\n",
       "        vertical-align: top;\n",
       "    }\n",
       "\n",
       "    .dataframe thead th {\n",
       "        text-align: right;\n",
       "    }\n",
       "</style>\n",
       "<table border=\"1\" class=\"dataframe\">\n",
       "  <thead>\n",
       "    <tr style=\"text-align: right;\">\n",
       "      <th></th>\n",
       "      <th>date</th>\n",
       "      <th>group</th>\n",
       "      <th>visitors</th>\n",
       "    </tr>\n",
       "  </thead>\n",
       "  <tbody>\n",
       "    <tr>\n",
       "      <th>0</th>\n",
       "      <td>2019-08-01</td>\n",
       "      <td>A</td>\n",
       "      <td>719</td>\n",
       "    </tr>\n",
       "    <tr>\n",
       "      <th>1</th>\n",
       "      <td>2019-08-02</td>\n",
       "      <td>A</td>\n",
       "      <td>619</td>\n",
       "    </tr>\n",
       "    <tr>\n",
       "      <th>2</th>\n",
       "      <td>2019-08-03</td>\n",
       "      <td>A</td>\n",
       "      <td>507</td>\n",
       "    </tr>\n",
       "    <tr>\n",
       "      <th>3</th>\n",
       "      <td>2019-08-04</td>\n",
       "      <td>A</td>\n",
       "      <td>717</td>\n",
       "    </tr>\n",
       "    <tr>\n",
       "      <th>4</th>\n",
       "      <td>2019-08-05</td>\n",
       "      <td>A</td>\n",
       "      <td>756</td>\n",
       "    </tr>\n",
       "    <tr>\n",
       "      <th>...</th>\n",
       "      <td>...</td>\n",
       "      <td>...</td>\n",
       "      <td>...</td>\n",
       "    </tr>\n",
       "    <tr>\n",
       "      <th>57</th>\n",
       "      <td>2019-08-27</td>\n",
       "      <td>B</td>\n",
       "      <td>720</td>\n",
       "    </tr>\n",
       "    <tr>\n",
       "      <th>58</th>\n",
       "      <td>2019-08-28</td>\n",
       "      <td>B</td>\n",
       "      <td>654</td>\n",
       "    </tr>\n",
       "    <tr>\n",
       "      <th>59</th>\n",
       "      <td>2019-08-29</td>\n",
       "      <td>B</td>\n",
       "      <td>531</td>\n",
       "    </tr>\n",
       "    <tr>\n",
       "      <th>60</th>\n",
       "      <td>2019-08-30</td>\n",
       "      <td>B</td>\n",
       "      <td>490</td>\n",
       "    </tr>\n",
       "    <tr>\n",
       "      <th>61</th>\n",
       "      <td>2019-08-31</td>\n",
       "      <td>B</td>\n",
       "      <td>718</td>\n",
       "    </tr>\n",
       "  </tbody>\n",
       "</table>\n",
       "<p>62 rows × 3 columns</p>\n",
       "</div>"
      ],
      "text/plain": [
       "          date group  visitors\n",
       "0   2019-08-01     A       719\n",
       "1   2019-08-02     A       619\n",
       "2   2019-08-03     A       507\n",
       "3   2019-08-04     A       717\n",
       "4   2019-08-05     A       756\n",
       "..         ...   ...       ...\n",
       "57  2019-08-27     B       720\n",
       "58  2019-08-28     B       654\n",
       "59  2019-08-29     B       531\n",
       "60  2019-08-30     B       490\n",
       "61  2019-08-31     B       718\n",
       "\n",
       "[62 rows x 3 columns]"
      ]
     },
     "metadata": {},
     "output_type": "display_data"
    },
    {
     "name": "stdout",
     "output_type": "stream",
     "text": [
      "<class 'pandas.core.frame.DataFrame'>\n",
      "RangeIndex: 62 entries, 0 to 61\n",
      "Data columns (total 3 columns):\n",
      " #   Column    Non-Null Count  Dtype \n",
      "---  ------    --------------  ----- \n",
      " 0   date      62 non-null     object\n",
      " 1   group     62 non-null     object\n",
      " 2   visitors  62 non-null     int64 \n",
      "dtypes: int64(1), object(2)\n",
      "memory usage: 1.6+ KB\n"
     ]
    },
    {
     "data": {
      "text/plain": [
       "0"
      ]
     },
     "execution_count": 6,
     "metadata": {},
     "output_type": "execute_result"
    }
   ],
   "source": [
    "df_visitors = pd.read_csv('C:\\\\Users\\\\Anore\\\\Project sprints\\\\ANALYTICS\\\\ABtest\\\\visitors.csv')\n",
    "display(df_visitors)\n",
    "df_visitors.info()\n",
    "df_visitors.duplicated().sum()"
   ]
  },
  {
   "cell_type": "code",
   "execution_count": 7,
   "metadata": {},
   "outputs": [
    {
     "name": "stdout",
     "output_type": "stream",
     "text": [
      "<class 'pandas.core.frame.DataFrame'>\n",
      "RangeIndex: 1197 entries, 0 to 1196\n",
      "Data columns (total 5 columns):\n",
      " #   Column         Non-Null Count  Dtype         \n",
      "---  ------         --------------  -----         \n",
      " 0   transactionId  1197 non-null   int64         \n",
      " 1   visitorId      1197 non-null   int64         \n",
      " 2   date           1197 non-null   datetime64[ns]\n",
      " 3   revenue        1197 non-null   int64         \n",
      " 4   group          1197 non-null   object        \n",
      "dtypes: datetime64[ns](1), int64(3), object(1)\n",
      "memory usage: 46.9+ KB\n"
     ]
    }
   ],
   "source": [
    "#Изменим тип данных времени\n",
    "df_visitors['date'] = pd.to_datetime(df_visitors['date'])\n",
    "df_orders.info()"
   ]
  },
  {
   "cell_type": "markdown",
   "metadata": {},
   "source": [
    "Вывод:\n",
    "Данные чисты и корректны, дубликатов нет. Необходимо было изменить лишь тип данных у столбцов с датами. Это изменение нужно для корректного отображения даты при построении графиков."
   ]
  },
  {
   "cell_type": "markdown",
   "metadata": {},
   "source": [
    "Выполним расчеты по ICE и RICE score"
   ]
  },
  {
   "cell_type": "markdown",
   "metadata": {},
   "source": [
    "Применяем фреймворк ICE"
   ]
  },
  {
   "cell_type": "code",
   "execution_count": 8,
   "metadata": {},
   "outputs": [
    {
     "data": {
      "text/html": [
       "<div>\n",
       "<style scoped>\n",
       "    .dataframe tbody tr th:only-of-type {\n",
       "        vertical-align: middle;\n",
       "    }\n",
       "\n",
       "    .dataframe tbody tr th {\n",
       "        vertical-align: top;\n",
       "    }\n",
       "\n",
       "    .dataframe thead th {\n",
       "        text-align: right;\n",
       "    }\n",
       "</style>\n",
       "<table border=\"1\" class=\"dataframe\">\n",
       "  <thead>\n",
       "    <tr style=\"text-align: right;\">\n",
       "      <th></th>\n",
       "      <th>hypothesis</th>\n",
       "      <th>ice</th>\n",
       "    </tr>\n",
       "  </thead>\n",
       "  <tbody>\n",
       "    <tr>\n",
       "      <th>8</th>\n",
       "      <td>Запустить акцию, дающую скидку на товар в день...</td>\n",
       "      <td>16.200</td>\n",
       "    </tr>\n",
       "    <tr>\n",
       "      <th>0</th>\n",
       "      <td>Добавить два новых канала привлечения трафика,...</td>\n",
       "      <td>13.333</td>\n",
       "    </tr>\n",
       "    <tr>\n",
       "      <th>7</th>\n",
       "      <td>Добавить форму подписки на все основные страни...</td>\n",
       "      <td>11.200</td>\n",
       "    </tr>\n",
       "    <tr>\n",
       "      <th>6</th>\n",
       "      <td>Показать на главной странице баннеры с актуаль...</td>\n",
       "      <td>8.000</td>\n",
       "    </tr>\n",
       "    <tr>\n",
       "      <th>2</th>\n",
       "      <td>Добавить блоки рекомендаций товаров на сайт ин...</td>\n",
       "      <td>7.000</td>\n",
       "    </tr>\n",
       "    <tr>\n",
       "      <th>1</th>\n",
       "      <td>Запустить собственную службу доставки, что сок...</td>\n",
       "      <td>2.000</td>\n",
       "    </tr>\n",
       "    <tr>\n",
       "      <th>5</th>\n",
       "      <td>Добавить страницу отзывов клиентов о магазине,...</td>\n",
       "      <td>1.333</td>\n",
       "    </tr>\n",
       "    <tr>\n",
       "      <th>3</th>\n",
       "      <td>Изменить структура категорий, что увеличит кон...</td>\n",
       "      <td>1.125</td>\n",
       "    </tr>\n",
       "    <tr>\n",
       "      <th>4</th>\n",
       "      <td>Изменить цвет фона главной страницы, чтобы уве...</td>\n",
       "      <td>1.000</td>\n",
       "    </tr>\n",
       "  </tbody>\n",
       "</table>\n",
       "</div>"
      ],
      "text/plain": [
       "                                          hypothesis     ice\n",
       "8  Запустить акцию, дающую скидку на товар в день...  16.200\n",
       "0  Добавить два новых канала привлечения трафика,...  13.333\n",
       "7  Добавить форму подписки на все основные страни...  11.200\n",
       "6  Показать на главной странице баннеры с актуаль...   8.000\n",
       "2  Добавить блоки рекомендаций товаров на сайт ин...   7.000\n",
       "1  Запустить собственную службу доставки, что сок...   2.000\n",
       "5  Добавить страницу отзывов клиентов о магазине,...   1.333\n",
       "3  Изменить структура категорий, что увеличит кон...   1.125\n",
       "4  Изменить цвет фона главной страницы, чтобы уве...   1.000"
      ]
     },
     "metadata": {},
     "output_type": "display_data"
    }
   ],
   "source": [
    "df_hypothesis['ice'] = (df_hypothesis['impact'] * df_hypothesis['confidence']) / df_hypothesis['efforts']\n",
    "display(round(df_hypothesis[['hypothesis', 'ice']].sort_values('ice', ascending=False), 3))\n"
   ]
  },
  {
   "cell_type": "markdown",
   "metadata": {},
   "source": [
    "Применяем фреймворк RICE"
   ]
  },
  {
   "cell_type": "code",
   "execution_count": 9,
   "metadata": {},
   "outputs": [
    {
     "data": {
      "text/html": [
       "<div>\n",
       "<style scoped>\n",
       "    .dataframe tbody tr th:only-of-type {\n",
       "        vertical-align: middle;\n",
       "    }\n",
       "\n",
       "    .dataframe tbody tr th {\n",
       "        vertical-align: top;\n",
       "    }\n",
       "\n",
       "    .dataframe thead th {\n",
       "        text-align: right;\n",
       "    }\n",
       "</style>\n",
       "<table border=\"1\" class=\"dataframe\">\n",
       "  <thead>\n",
       "    <tr style=\"text-align: right;\">\n",
       "      <th></th>\n",
       "      <th>hypothesis</th>\n",
       "      <th>rice</th>\n",
       "    </tr>\n",
       "  </thead>\n",
       "  <tbody>\n",
       "    <tr>\n",
       "      <th>7</th>\n",
       "      <td>Добавить форму подписки на все основные страни...</td>\n",
       "      <td>112.0</td>\n",
       "    </tr>\n",
       "    <tr>\n",
       "      <th>2</th>\n",
       "      <td>Добавить блоки рекомендаций товаров на сайт ин...</td>\n",
       "      <td>56.0</td>\n",
       "    </tr>\n",
       "    <tr>\n",
       "      <th>0</th>\n",
       "      <td>Добавить два новых канала привлечения трафика,...</td>\n",
       "      <td>40.0</td>\n",
       "    </tr>\n",
       "    <tr>\n",
       "      <th>6</th>\n",
       "      <td>Показать на главной странице баннеры с актуаль...</td>\n",
       "      <td>40.0</td>\n",
       "    </tr>\n",
       "    <tr>\n",
       "      <th>8</th>\n",
       "      <td>Запустить акцию, дающую скидку на товар в день...</td>\n",
       "      <td>16.2</td>\n",
       "    </tr>\n",
       "    <tr>\n",
       "      <th>3</th>\n",
       "      <td>Изменить структура категорий, что увеличит кон...</td>\n",
       "      <td>9.0</td>\n",
       "    </tr>\n",
       "    <tr>\n",
       "      <th>1</th>\n",
       "      <td>Запустить собственную службу доставки, что сок...</td>\n",
       "      <td>4.0</td>\n",
       "    </tr>\n",
       "    <tr>\n",
       "      <th>5</th>\n",
       "      <td>Добавить страницу отзывов клиентов о магазине,...</td>\n",
       "      <td>4.0</td>\n",
       "    </tr>\n",
       "    <tr>\n",
       "      <th>4</th>\n",
       "      <td>Изменить цвет фона главной страницы, чтобы уве...</td>\n",
       "      <td>3.0</td>\n",
       "    </tr>\n",
       "  </tbody>\n",
       "</table>\n",
       "</div>"
      ],
      "text/plain": [
       "                                          hypothesis   rice\n",
       "7  Добавить форму подписки на все основные страни...  112.0\n",
       "2  Добавить блоки рекомендаций товаров на сайт ин...   56.0\n",
       "0  Добавить два новых канала привлечения трафика,...   40.0\n",
       "6  Показать на главной странице баннеры с актуаль...   40.0\n",
       "8  Запустить акцию, дающую скидку на товар в день...   16.2\n",
       "3  Изменить структура категорий, что увеличит кон...    9.0\n",
       "1  Запустить собственную службу доставки, что сок...    4.0\n",
       "5  Добавить страницу отзывов клиентов о магазине,...    4.0\n",
       "4  Изменить цвет фона главной страницы, чтобы уве...    3.0"
      ]
     },
     "metadata": {},
     "output_type": "display_data"
    }
   ],
   "source": [
    "df_hypothesis['rice'] = (df_hypothesis['reach'] * df_hypothesis['impact'] * df_hypothesis['confidence']) / df_hypothesis['efforts']\n",
    "display(round(df_hypothesis[['hypothesis', 'rice']].sort_values('rice', ascending=False), 3))\n"
   ]
  },
  {
   "cell_type": "markdown",
   "metadata": {},
   "source": [
    "Сравнив результаты обоих исследований можно сделать следующие выводы:\n",
    "Гипотезы 1, 3, 5 и 4 в обоих случаях занимают нижние строчки, образуя тем самым блок с низким приоритетом.\n",
    "В тройку лидеров входят гипотезы 0 и 7\n",
    "Гипотезы 0, 7 и 8 в результатах RICE заняли строчки выше, а лидирующая 8 заняла пятую позицию\n",
    "Только гипотезы 4 и 6 не изменили свою позицию"
   ]
  },
  {
   "cell_type": "markdown",
   "metadata": {},
   "source": [
    "АНАЛИЗ A/B ТЕСТА"
   ]
  },
  {
   "cell_type": "markdown",
   "metadata": {},
   "source": [
    "Получим объединенный датафрейм для дальнейших исследований"
   ]
  },
  {
   "cell_type": "code",
   "execution_count": 10,
   "metadata": {},
   "outputs": [
    {
     "name": "stdout",
     "output_type": "stream",
     "text": [
      "        date group  orders  buyers  revenue  visitors\n",
      "0 2019-08-01     A      24      20   148579       719\n",
      "1 2019-08-01     B      21      20   101217       713\n",
      "2 2019-08-02     A      44      38   242401      1338\n",
      "3 2019-08-02     B      45      43   266748      1294\n",
      "4 2019-08-03     A      68      62   354874      1845\n"
     ]
    }
   ],
   "source": [
    "datesGroups = df_orders[['date','group']].drop_duplicates()\n",
    "\n",
    "# получаем агрегированные кумулятивные по дням данные о заказах \n",
    "ordersAggregated = datesGroups.apply(lambda x: df_orders\n",
    "                                     [np.logical_and(df_orders['date'] <= x['date'], \n",
    "                                                     df_orders['group'] == x['group'])].agg({'date' : 'max', \n",
    "                                                                                             'group' : 'max', \n",
    "                                                                                             'transactionId' : 'nunique', \n",
    "                                                                                             'visitorId' : 'nunique', \n",
    "                                                                                             'revenue' : 'sum'}), \n",
    "                                                                                        axis=1).sort_values(by=['date','group'])\n",
    "\n",
    "# получаем агрегированные кумулятивные по дням данные о посетителях интернет-магазина \n",
    "visitorsAggregated = datesGroups.apply(lambda x: df_visitors\n",
    "                                       [np.logical_and(df_visitors['date'] <= x['date'], \n",
    "                                                       df_visitors['group'] == x['group'])].agg({'date' : 'max', \n",
    "                                                                                                 'group' : 'max', \n",
    "                                                                                                 'visitors' : 'sum'}), \n",
    "                                                                                        axis=1).sort_values(by=['date','group'])\n",
    "\n",
    "# объединяем кумулятивные данные в одной таблице и присваиваем ее столбцам понятные названия\n",
    "cumulativeData = ordersAggregated.merge(visitorsAggregated, left_on=['date', 'group'], right_on=['date', 'group'])\n",
    "cumulativeData.columns = ['date', 'group', 'orders', 'buyers', 'revenue', 'visitors']\n",
    "\n",
    "print(cumulativeData.head(5)) "
   ]
  },
  {
   "cell_type": "markdown",
   "metadata": {},
   "source": [
    "Построим график кумулятивной выручки по группам"
   ]
  },
  {
   "cell_type": "code",
   "execution_count": 34,
   "metadata": {},
   "outputs": [
    {
     "data": {
      "image/png": "[encoded data removed]",
      "text/plain": [
       "<Figure size 1080x360 with 1 Axes>"
      ]
     },
     "metadata": {
      "needs_background": "light"
     },
     "output_type": "display_data"
    }
   ],
   "source": [
    "import matplotlib.pyplot as plt\n",
    "\n",
    "# датафрейм с кумулятивным количеством заказов и кумулятивной выручкой по дням в группе А\n",
    "cumulativeRevenueA = cumulativeData[cumulativeData['group']=='A'][['date','revenue', 'orders']]\n",
    "\n",
    "# датафрейм с кумулятивным количеством заказов и кумулятивной выручкой по дням в группе B\n",
    "cumulativeRevenueB = cumulativeData[cumulativeData['group']=='B'][['date','revenue', 'orders']]\n",
    "\n",
    "plt.figure(figsize=(15,5))\n",
    "# Строим график выручки группы А\n",
    "plt.plot(cumulativeRevenueA['date'], cumulativeRevenueA['revenue'], label='A')\n",
    "\n",
    "# Строим график выручки группы B\n",
    "plt.plot(cumulativeRevenueB['date'], cumulativeRevenueB['revenue'], label='B')\n",
    "plt.title('Кумулятивная выручка')\n",
    "plt.grid()\n",
    "plt.legend()\n",
    "plt.show()"
   ]
  },
  {
   "cell_type": "markdown",
   "metadata": {},
   "source": [
    "Оба графика постепенно растут. Наблюдается резкий скачок у группы B, скорее всего на ту дату были произведены заказы на крупную сумму или один заказ."
   ]
  },
  {
   "cell_type": "markdown",
   "metadata": {},
   "source": [
    "Чтож посмотрим более детально что произошло в ту дату"
   ]
  },
  {
   "cell_type": "code",
   "execution_count": 12,
   "metadata": {},
   "outputs": [
    {
     "data": {
      "text/html": [
       "<div>\n",
       "<style scoped>\n",
       "    .dataframe tbody tr th:only-of-type {\n",
       "        vertical-align: middle;\n",
       "    }\n",
       "\n",
       "    .dataframe tbody tr th {\n",
       "        vertical-align: top;\n",
       "    }\n",
       "\n",
       "    .dataframe thead th {\n",
       "        text-align: right;\n",
       "    }\n",
       "</style>\n",
       "<table border=\"1\" class=\"dataframe\">\n",
       "  <thead>\n",
       "    <tr style=\"text-align: right;\">\n",
       "      <th></th>\n",
       "      <th>transactionId</th>\n",
       "      <th>visitorId</th>\n",
       "      <th>date</th>\n",
       "      <th>revenue</th>\n",
       "      <th>group</th>\n",
       "    </tr>\n",
       "  </thead>\n",
       "  <tbody>\n",
       "    <tr>\n",
       "      <th>425</th>\n",
       "      <td>590470918</td>\n",
       "      <td>1920142716</td>\n",
       "      <td>2019-08-19</td>\n",
       "      <td>1294500</td>\n",
       "      <td>B</td>\n",
       "    </tr>\n",
       "    <tr>\n",
       "      <th>530</th>\n",
       "      <td>3970235543</td>\n",
       "      <td>2912540959</td>\n",
       "      <td>2019-08-19</td>\n",
       "      <td>43990</td>\n",
       "      <td>A</td>\n",
       "    </tr>\n",
       "    <tr>\n",
       "      <th>527</th>\n",
       "      <td>1570513684</td>\n",
       "      <td>2837914161</td>\n",
       "      <td>2019-08-19</td>\n",
       "      <td>33405</td>\n",
       "      <td>B</td>\n",
       "    </tr>\n",
       "    <tr>\n",
       "      <th>421</th>\n",
       "      <td>3765974140</td>\n",
       "      <td>1357170471</td>\n",
       "      <td>2019-08-19</td>\n",
       "      <td>31680</td>\n",
       "      <td>A</td>\n",
       "    </tr>\n",
       "    <tr>\n",
       "      <th>461</th>\n",
       "      <td>2683113224</td>\n",
       "      <td>154576532</td>\n",
       "      <td>2019-08-19</td>\n",
       "      <td>26550</td>\n",
       "      <td>B</td>\n",
       "    </tr>\n",
       "    <tr>\n",
       "      <th>525</th>\n",
       "      <td>3031564664</td>\n",
       "      <td>393266494</td>\n",
       "      <td>2019-08-19</td>\n",
       "      <td>21550</td>\n",
       "      <td>A</td>\n",
       "    </tr>\n",
       "    <tr>\n",
       "      <th>368</th>\n",
       "      <td>3268879337</td>\n",
       "      <td>2536252163</td>\n",
       "      <td>2019-08-19</td>\n",
       "      <td>20026</td>\n",
       "      <td>B</td>\n",
       "    </tr>\n",
       "    <tr>\n",
       "      <th>366</th>\n",
       "      <td>2037051350</td>\n",
       "      <td>1957949546</td>\n",
       "      <td>2019-08-19</td>\n",
       "      <td>16770</td>\n",
       "      <td>A</td>\n",
       "    </tr>\n",
       "    <tr>\n",
       "      <th>463</th>\n",
       "      <td>4170537404</td>\n",
       "      <td>290022471</td>\n",
       "      <td>2019-08-19</td>\n",
       "      <td>16480</td>\n",
       "      <td>B</td>\n",
       "    </tr>\n",
       "    <tr>\n",
       "      <th>531</th>\n",
       "      <td>4016435970</td>\n",
       "      <td>4017075195</td>\n",
       "      <td>2019-08-19</td>\n",
       "      <td>13390</td>\n",
       "      <td>A</td>\n",
       "    </tr>\n",
       "  </tbody>\n",
       "</table>\n",
       "</div>"
      ],
      "text/plain": [
       "     transactionId   visitorId       date  revenue group\n",
       "425      590470918  1920142716 2019-08-19  1294500     B\n",
       "530     3970235543  2912540959 2019-08-19    43990     A\n",
       "527     1570513684  2837914161 2019-08-19    33405     B\n",
       "421     3765974140  1357170471 2019-08-19    31680     A\n",
       "461     2683113224   154576532 2019-08-19    26550     B\n",
       "525     3031564664   393266494 2019-08-19    21550     A\n",
       "368     3268879337  2536252163 2019-08-19    20026     B\n",
       "366     2037051350  1957949546 2019-08-19    16770     A\n",
       "463     4170537404   290022471 2019-08-19    16480     B\n",
       "531     4016435970  4017075195 2019-08-19    13390     A"
      ]
     },
     "execution_count": 12,
     "metadata": {},
     "output_type": "execute_result"
    }
   ],
   "source": [
    "df_orders.query(' date == \"2019-08-19\" ').sort_values(by='revenue', ascending=False).head(10)"
   ]
  },
  {
   "cell_type": "markdown",
   "metadata": {},
   "source": [
    "Посмотрим так же количество заказов в эту дату"
   ]
  },
  {
   "cell_type": "code",
   "execution_count": 13,
   "metadata": {},
   "outputs": [
    {
     "data": {
      "text/html": [
       "<div>\n",
       "<style scoped>\n",
       "    .dataframe tbody tr th:only-of-type {\n",
       "        vertical-align: middle;\n",
       "    }\n",
       "\n",
       "    .dataframe tbody tr th {\n",
       "        vertical-align: top;\n",
       "    }\n",
       "\n",
       "    .dataframe thead th {\n",
       "        text-align: right;\n",
       "    }\n",
       "</style>\n",
       "<table border=\"1\" class=\"dataframe\">\n",
       "  <thead>\n",
       "    <tr style=\"text-align: right;\">\n",
       "      <th></th>\n",
       "      <th>transactionId</th>\n",
       "    </tr>\n",
       "    <tr>\n",
       "      <th>visitorId</th>\n",
       "      <th></th>\n",
       "    </tr>\n",
       "  </thead>\n",
       "  <tbody>\n",
       "    <tr>\n",
       "      <th>2397843657</th>\n",
       "      <td>2</td>\n",
       "    </tr>\n",
       "    <tr>\n",
       "      <th>154576532</th>\n",
       "      <td>1</td>\n",
       "    </tr>\n",
       "    <tr>\n",
       "      <th>3017378493</th>\n",
       "      <td>1</td>\n",
       "    </tr>\n",
       "    <tr>\n",
       "      <th>2744017357</th>\n",
       "      <td>1</td>\n",
       "    </tr>\n",
       "    <tr>\n",
       "      <th>2758621772</th>\n",
       "      <td>1</td>\n",
       "    </tr>\n",
       "    <tr>\n",
       "      <th>2763027084</th>\n",
       "      <td>1</td>\n",
       "    </tr>\n",
       "    <tr>\n",
       "      <th>2776274025</th>\n",
       "      <td>1</td>\n",
       "    </tr>\n",
       "    <tr>\n",
       "      <th>2837914161</th>\n",
       "      <td>1</td>\n",
       "    </tr>\n",
       "    <tr>\n",
       "      <th>2912540959</th>\n",
       "      <td>1</td>\n",
       "    </tr>\n",
       "    <tr>\n",
       "      <th>2971471657</th>\n",
       "      <td>1</td>\n",
       "    </tr>\n",
       "  </tbody>\n",
       "</table>\n",
       "</div>"
      ],
      "text/plain": [
       "            transactionId\n",
       "visitorId                \n",
       "2397843657              2\n",
       "154576532               1\n",
       "3017378493              1\n",
       "2744017357              1\n",
       "2758621772              1\n",
       "2763027084              1\n",
       "2776274025              1\n",
       "2837914161              1\n",
       "2912540959              1\n",
       "2971471657              1"
      ]
     },
     "execution_count": 13,
     "metadata": {},
     "output_type": "execute_result"
    }
   ],
   "source": [
    "df_orders.query(' date == \"2019-08-19\" ').groupby('visitorId').agg({'transactionId': 'nunique'}).sort_values(by='transactionId', ascending=False).head(10)"
   ]
  },
  {
   "cell_type": "markdown",
   "metadata": {},
   "source": [
    "Теперь видно, что резкий скачаок произошел из-за одного заказа на сумму в 1294500, по сравнению с остальными заказами он в несколько десятков раз больше. "
   ]
  },
  {
   "cell_type": "markdown",
   "metadata": {},
   "source": [
    "Построим график кумулятивного среднего чека по группам."
   ]
  },
  {
   "cell_type": "code",
   "execution_count": 14,
   "metadata": {},
   "outputs": [
    {
     "data": {
      "image/png": "[encoded data removed]",
      "text/plain": [
       "<Figure size 1080x360 with 1 Axes>"
      ]
     },
     "metadata": {
      "needs_background": "light"
     },
     "output_type": "display_data"
    }
   ],
   "source": [
    "plt.figure(figsize=(15,5))\n",
    "plt.plot(cumulativeRevenueA['date'], cumulativeRevenueA['revenue']/cumulativeRevenueA['orders'], label='A')\n",
    "plt.plot(cumulativeRevenueB['date'], cumulativeRevenueB['revenue']/cumulativeRevenueB['orders'], label='B')\n",
    "plt.title('Кумулятивный средний чек')\n",
    "plt.grid()\n",
    "plt.legend()\n",
    "plt.show()"
   ]
  },
  {
   "cell_type": "markdown",
   "metadata": {},
   "source": [
    "Показатели группы A более стабильны, сперва заказов немного, затем наблюдается рост до 7500, далее график имеет колебания лишь в пределах 500-ста единиц. \n",
    "В первой половине показатели группы В выше чем у А, только в первый день и с 12-15 августа преимущество за группой А.\n",
    "Далее 19 августа происходит резкий скачок опять же из-за того самого заказа № 425 из предыдущего исследования кумулятивной выручки. После 19-го числа оба графика стабильны, при том группа В медленно уменьшается, а результаты группы А увеличиваются."
   ]
  },
  {
   "cell_type": "markdown",
   "metadata": {},
   "source": [
    "Построим график относительного изменения кумулятивного среднего чека группы B к группе A."
   ]
  },
  {
   "cell_type": "code",
   "execution_count": 35,
   "metadata": {},
   "outputs": [
    {
     "data": {
      "image/png": "[encoded data removed]",
      "text/plain": [
       "<Figure size 1080x360 with 1 Axes>"
      ]
     },
     "metadata": {
      "needs_background": "light"
     },
     "output_type": "display_data"
    }
   ],
   "source": [
    "# собираем данные в одном датафрейме\n",
    "mergedCumulativeRevenue = cumulativeRevenueA.merge(cumulativeRevenueB, left_on='date', right_on='date', how='left', suffixes=['A', 'B'])\n",
    "\n",
    "# cтроим отношение средних чеков\n",
    "plt.figure(figsize=(15,5))\n",
    "plt.plot(mergedCumulativeRevenue['date'], (mergedCumulativeRevenue['revenueB']/mergedCumulativeRevenue['ordersB'])/(mergedCumulativeRevenue['revenueA']/mergedCumulativeRevenue['ordersA'])-1)\n",
    "plt.title('Изменения среднего чека группы В к группе А')\n",
    "plt.grid()\n",
    "# добавляем ось X\n",
    "plt.axhline(y=0, color='black', linestyle='--')\n",
    "plt.show()"
   ]
  },
  {
   "cell_type": "markdown",
   "metadata": {},
   "source": [
    "Примерно до середины периода наблюдается около 7 резких скачков, что явно свидетельствует о наличии заказов на крупную сумму."
   ]
  },
  {
   "cell_type": "markdown",
   "metadata": {},
   "source": [
    "Построим график кумулятивной конверсии по группам."
   ]
  },
  {
   "cell_type": "code",
   "execution_count": 36,
   "metadata": {},
   "outputs": [
    {
     "data": {
      "image/png": "[encoded data removed]",
      "text/plain": [
       "<Figure size 1080x360 with 1 Axes>"
      ]
     },
     "metadata": {
      "needs_background": "light"
     },
     "output_type": "display_data"
    }
   ],
   "source": [
    "# считаем кумулятивную конверсию\n",
    "cumulativeData['conversion'] = cumulativeData['orders']/cumulativeData['visitors']\n",
    "\n",
    "# отделяем данные по группе A\n",
    "cumulativeDataA = cumulativeData[cumulativeData['group']=='A']\n",
    "\n",
    "# отделяем данные по группе B\n",
    "cumulativeDataB = cumulativeData[cumulativeData['group']=='B']\n",
    "\n",
    "# строим графики\n",
    "plt.figure(figsize=(15, 5))\n",
    "plt.plot(cumulativeDataA['date'], cumulativeDataA['conversion'], label='A')\n",
    "plt.plot(cumulativeDataB['date'], cumulativeDataB['conversion'], label='B')\n",
    "plt.title('Кумулятивная конверсия')\n",
    "plt.grid()\n",
    "plt.legend()\n",
    "plt.show()"
   ]
  },
  {
   "cell_type": "markdown",
   "metadata": {},
   "source": [
    "С начала месяца конверсия 1-5 августа конверсия \"A\" была значительно больше, даже 3 августа она была максимальной за весь период наблюдения между группами (исключение 2 августа); и после пика она пошла сильно падать, а начиная с 9 августа стагнировала на в минимальном диапазоне 0,029-0,031. Конверсия группы \"B\" с 4 августа пошла расти и уже 6 августа превысила конверсию \"A\" и росла до 10 августа чуть выше 0,036; затем пошло постепенное снижение, с имевшем место всплеском роста конверсии 15-17 августа до чуть ниже 0,036. Можно сделать вывод - конверсия группы \"B\" в целом значительно больше \"A\" (начиная с 6 августа стабильно конверсия \"B\" больше A\"\")."
   ]
  },
  {
   "cell_type": "markdown",
   "metadata": {},
   "source": [
    "Построим график относительного изменения кумулятивной конверсии группы B к группе A."
   ]
  },
  {
   "cell_type": "code",
   "execution_count": 37,
   "metadata": {},
   "outputs": [
    {
     "data": {
      "image/png": "[encoded data removed]",
      "text/plain": [
       "<Figure size 1080x360 with 1 Axes>"
      ]
     },
     "metadata": {
      "needs_background": "light"
     },
     "output_type": "display_data"
    }
   ],
   "source": [
    "mergedCumulativeConversions = cumulativeDataA[['date','conversion']].merge(cumulativeDataB[['date','conversion']], left_on='date', right_on='date', how='left', suffixes=['A', 'B'])\n",
    "\n",
    "plt.figure(figsize=(15,5))\n",
    "plt.grid()\n",
    "plt.plot(mergedCumulativeConversions['date'], mergedCumulativeConversions['conversionB']/mergedCumulativeConversions['conversionA']-1)\n",
    "plt.title('Относительный прирост конверсии группы B относительно группы A')\n",
    "\n",
    "plt.axhline(y=0, color='black', linestyle='--')\n",
    "plt.axhline(y=-0.1, color='grey', linestyle='--')\n",
    "plt.show()"
   ]
  },
  {
   "cell_type": "markdown",
   "metadata": {},
   "source": [
    "С 1 авгста по 5 - несколько дней когда конверсия в \"A\" была больше на 5-10%; но исключение в этот период это 2 августа - был сильный рост конверсии в группе \"B\" и по итогу дня результат \"B\" был на 5% больше \"A\" (надо отметить, что 2 августа был сильный рост конверсий в обоих группах, не иначе как маркетинговая акция была или скидки ...и т.д.). Начиная с 6 августа группа \"B\" лидировала до конца периода; её конверсия росла до 15 августа и разница с \"A\" на максимуме составила 21%, затем пошло постепенное снижение отностельной конверсии до 10%-14%."
   ]
  },
  {
   "cell_type": "markdown",
   "metadata": {},
   "source": [
    "Построим точечный график количества заказов по пользователям."
   ]
  },
  {
   "cell_type": "code",
   "execution_count": 18,
   "metadata": {},
   "outputs": [
    {
     "name": "stdout",
     "output_type": "stream",
     "text": [
      "        date group  orders  buyers  revenue  visitors  conversion\n",
      "0 2019-08-01     A      24      20   148579       719    0.033380\n",
      "1 2019-08-01     B      21      20   101217       713    0.029453\n",
      "2 2019-08-02     A      44      38   242401      1338    0.032885\n",
      "3 2019-08-02     B      45      43   266748      1294    0.034776\n",
      "4 2019-08-03     A      68      62   354874      1845    0.036856\n"
     ]
    }
   ],
   "source": [
    "print(cumulativeData.head(5)) "
   ]
  },
  {
   "cell_type": "code",
   "execution_count": 19,
   "metadata": {},
   "outputs": [
    {
     "name": "stdout",
     "output_type": "stream",
     "text": [
      "         user_id  orders\n",
      "1023  4256040402      11\n",
      "591   2458001652      11\n",
      "569   2378935119       9\n",
      "487   2038680547       8\n",
      "44     199603092       5\n",
      "744   3062433592       5\n",
      "55     237748145       5\n",
      "917   3803269165       5\n",
      "299   1230306981       5\n",
      "897   3717692402       5\n"
     ]
    }
   ],
   "source": [
    "ordersByUsers = df_orders[['transactionId', 'visitorId']].groupby(by='visitorId', \n",
    "                            as_index=False).agg({'transactionId': 'nunique'}).sort_values(by='transactionId', ascending=False)\n",
    "ordersByUsers.columns=('user_id', 'orders')\n",
    "print(ordersByUsers.head(10))"
   ]
  },
  {
   "cell_type": "code",
   "execution_count": 38,
   "metadata": {},
   "outputs": [
    {
     "data": {
      "image/png": "[encoded data removed]",
      "text/plain": [
       "<Figure size 1080x360 with 1 Axes>"
      ]
     },
     "metadata": {
      "needs_background": "light"
     },
     "output_type": "display_data"
    }
   ],
   "source": [
    "x_values = pd.Series(range(0,len(ordersByUsers)))\n",
    "plt.figure(figsize=(15,5))\n",
    "plt.grid()\n",
    "plt.title('График количества заказов по пользователям')\n",
    "plt.scatter(x_values, ordersByUsers['orders'], alpha=0.5)\n",
    "plt.show()"
   ]
  },
  {
   "cell_type": "markdown",
   "metadata": {},
   "source": [
    "Больше всего пользователей которые совершили 1 заказ. Тех кто совершили 2 заказа уже не так много. И уже те кто совершил 3 заказа совсем мало, и считать ли это выбросами пока не ясно, - надо посчитать процентили (95 и 99). А все что выше 3 заказов - явно уже аномалия."
   ]
  },
  {
   "cell_type": "markdown",
   "metadata": {},
   "source": [
    "Посчитаем 95-й и 99-й перцентили количества заказов на пользователя и выберем границу для определения аномальных пользователей."
   ]
  },
  {
   "cell_type": "code",
   "execution_count": 21,
   "metadata": {},
   "outputs": [
    {
     "name": "stdout",
     "output_type": "stream",
     "text": [
      "[2. 2. 2. 3. 4.]\n"
     ]
    }
   ],
   "source": [
    "print(np.percentile(ordersByUsers['orders'], [95,96,97,98, 99])) "
   ]
  },
  {
   "cell_type": "markdown",
   "metadata": {},
   "source": [
    "97% всех пользователей совершают 1-2 заказа. Это высокий процент потому все что более 2-ух заказов будем считать аномалией"
   ]
  },
  {
   "cell_type": "markdown",
   "metadata": {},
   "source": [
    "Построим точечный график стоимостей заказов."
   ]
  },
  {
   "cell_type": "code",
   "execution_count": 22,
   "metadata": {},
   "outputs": [
    {
     "data": {
      "image/png": "[encoded data removed]",
      "text/plain": [
       "<Figure size 1080x360 with 1 Axes>"
      ]
     },
     "metadata": {
      "needs_background": "light"
     },
     "output_type": "display_data"
    }
   ],
   "source": [
    "x_values = pd.Series(range(0,len(df_orders['revenue'])))\n",
    "plt.figure(figsize=(15,5))\n",
    "plt.grid()\n",
    "plt.title('График стоимостей заказов')\n",
    "plt.scatter(x_values, df_orders['revenue'], alpha=0.5);"
   ]
  },
  {
   "cell_type": "markdown",
   "metadata": {},
   "source": [
    "В графике присутствуют выбросы которые делают масштаб более мелким, что не позволяет более подробно оценить данные.\n",
    "Избавимся от выбрососв(2 штуки) и возьмем только те значения где результат равен менее 195000"
   ]
  },
  {
   "cell_type": "code",
   "execution_count": 23,
   "metadata": {},
   "outputs": [
    {
     "data": {
      "image/png": "[encoded data removed]",
      "text/plain": [
       "<Figure size 1080x360 with 1 Axes>"
      ]
     },
     "metadata": {
      "needs_background": "light"
     },
     "output_type": "display_data"
    }
   ],
   "source": [
    "true_orders = df_orders[df_orders['revenue'] <= 195000]['revenue']\n",
    "x_values = pd.Series(range(0,len(true_orders)))\n",
    "plt.figure(figsize=(15,5))\n",
    "plt.grid()\n",
    "plt.title('График стоимостей заказов')\n",
    "plt.scatter(x_values, true_orders, alpha=0.5);"
   ]
  },
  {
   "cell_type": "markdown",
   "metadata": {},
   "source": [
    "В целом все заказы на сумму не более 100000. Чтобы установить более точные границы рассчитаем процентили"
   ]
  },
  {
   "cell_type": "markdown",
   "metadata": {},
   "source": [
    "Посчитаем 95-й и 99-й перцентили стоимости заказов и определим границу для аномальных заказов"
   ]
  },
  {
   "cell_type": "code",
   "execution_count": 24,
   "metadata": {},
   "outputs": [
    {
     "name": "stdout",
     "output_type": "stream",
     "text": [
      "[28000.  31382.  35485.  44133.2 58233.2]\n"
     ]
    }
   ],
   "source": [
    "print(np.percentile(df_orders['revenue'], [95,96,97,98, 99])) "
   ]
  },
  {
   "cell_type": "markdown",
   "metadata": {},
   "source": [
    "99% менее 58233.2 именно ее и установим за разделяющую границу."
   ]
  },
  {
   "cell_type": "markdown",
   "metadata": {},
   "source": [
    "Посчитаем статистическую значимость различий в конверсии между группами по «сырым» данным."
   ]
  },
  {
   "cell_type": "code",
   "execution_count": 25,
   "metadata": {},
   "outputs": [
    {
     "data": {
      "text/html": [
       "<div>\n",
       "<style scoped>\n",
       "    .dataframe tbody tr th:only-of-type {\n",
       "        vertical-align: middle;\n",
       "    }\n",
       "\n",
       "    .dataframe tbody tr th {\n",
       "        vertical-align: top;\n",
       "    }\n",
       "\n",
       "    .dataframe thead th {\n",
       "        text-align: right;\n",
       "    }\n",
       "</style>\n",
       "<table border=\"1\" class=\"dataframe\">\n",
       "  <thead>\n",
       "    <tr style=\"text-align: right;\">\n",
       "      <th></th>\n",
       "      <th>transactionId</th>\n",
       "      <th>visitorId</th>\n",
       "      <th>date</th>\n",
       "      <th>revenue</th>\n",
       "      <th>group</th>\n",
       "    </tr>\n",
       "  </thead>\n",
       "  <tbody>\n",
       "    <tr>\n",
       "      <th>0</th>\n",
       "      <td>3667963787</td>\n",
       "      <td>3312258926</td>\n",
       "      <td>2019-08-15</td>\n",
       "      <td>1650</td>\n",
       "      <td>B</td>\n",
       "    </tr>\n",
       "    <tr>\n",
       "      <th>1</th>\n",
       "      <td>2804400009</td>\n",
       "      <td>3642806036</td>\n",
       "      <td>2019-08-15</td>\n",
       "      <td>730</td>\n",
       "      <td>B</td>\n",
       "    </tr>\n",
       "    <tr>\n",
       "      <th>2</th>\n",
       "      <td>2961555356</td>\n",
       "      <td>4069496402</td>\n",
       "      <td>2019-08-15</td>\n",
       "      <td>400</td>\n",
       "      <td>A</td>\n",
       "    </tr>\n",
       "    <tr>\n",
       "      <th>3</th>\n",
       "      <td>3797467345</td>\n",
       "      <td>1196621759</td>\n",
       "      <td>2019-08-15</td>\n",
       "      <td>9759</td>\n",
       "      <td>B</td>\n",
       "    </tr>\n",
       "    <tr>\n",
       "      <th>4</th>\n",
       "      <td>2282983706</td>\n",
       "      <td>2322279887</td>\n",
       "      <td>2019-08-15</td>\n",
       "      <td>2308</td>\n",
       "      <td>B</td>\n",
       "    </tr>\n",
       "  </tbody>\n",
       "</table>\n",
       "</div>"
      ],
      "text/plain": [
       "   transactionId   visitorId       date  revenue group\n",
       "0     3667963787  3312258926 2019-08-15     1650     B\n",
       "1     2804400009  3642806036 2019-08-15      730     B\n",
       "2     2961555356  4069496402 2019-08-15      400     A\n",
       "3     3797467345  1196621759 2019-08-15     9759     B\n",
       "4     2282983706  2322279887 2019-08-15     2308     B"
      ]
     },
     "metadata": {},
     "output_type": "display_data"
    },
    {
     "data": {
      "text/html": [
       "<div>\n",
       "<style scoped>\n",
       "    .dataframe tbody tr th:only-of-type {\n",
       "        vertical-align: middle;\n",
       "    }\n",
       "\n",
       "    .dataframe tbody tr th {\n",
       "        vertical-align: top;\n",
       "    }\n",
       "\n",
       "    .dataframe thead th {\n",
       "        text-align: right;\n",
       "    }\n",
       "</style>\n",
       "<table border=\"1\" class=\"dataframe\">\n",
       "  <thead>\n",
       "    <tr style=\"text-align: right;\">\n",
       "      <th></th>\n",
       "      <th>date</th>\n",
       "      <th>group</th>\n",
       "      <th>visitors</th>\n",
       "    </tr>\n",
       "  </thead>\n",
       "  <tbody>\n",
       "    <tr>\n",
       "      <th>0</th>\n",
       "      <td>2019-08-01</td>\n",
       "      <td>A</td>\n",
       "      <td>719</td>\n",
       "    </tr>\n",
       "    <tr>\n",
       "      <th>1</th>\n",
       "      <td>2019-08-02</td>\n",
       "      <td>A</td>\n",
       "      <td>619</td>\n",
       "    </tr>\n",
       "    <tr>\n",
       "      <th>2</th>\n",
       "      <td>2019-08-03</td>\n",
       "      <td>A</td>\n",
       "      <td>507</td>\n",
       "    </tr>\n",
       "    <tr>\n",
       "      <th>3</th>\n",
       "      <td>2019-08-04</td>\n",
       "      <td>A</td>\n",
       "      <td>717</td>\n",
       "    </tr>\n",
       "    <tr>\n",
       "      <th>4</th>\n",
       "      <td>2019-08-05</td>\n",
       "      <td>A</td>\n",
       "      <td>756</td>\n",
       "    </tr>\n",
       "  </tbody>\n",
       "</table>\n",
       "</div>"
      ],
      "text/plain": [
       "        date group  visitors\n",
       "0 2019-08-01     A       719\n",
       "1 2019-08-02     A       619\n",
       "2 2019-08-03     A       507\n",
       "3 2019-08-04     A       717\n",
       "4 2019-08-05     A       756"
      ]
     },
     "metadata": {},
     "output_type": "display_data"
    }
   ],
   "source": [
    "display(df_orders.head())\n",
    "display(df_visitors.head())"
   ]
  },
  {
   "cell_type": "code",
   "execution_count": 26,
   "metadata": {},
   "outputs": [],
   "source": [
    "visitorsADaily = df_visitors[df_visitors['group']=='A'][['date', 'visitors']]\n",
    "visitorsADaily.columns = ['date', 'visitorsPerDateA']\n",
    "\n",
    "visitorsACummulative = visitorsADaily.apply(lambda x: visitorsADaily[visitorsADaily['date'] <= x['date']]. \\\n",
    "                                            agg({'date' : 'max', 'visitorsPerDateA' : 'sum'}), axis=1)\n",
    "visitorsACummulative.columns = ['date', 'visitorsCummulativeA']\n",
    "\n",
    "visitorsBDaily = df_visitors[df_visitors['group']=='B'][['date', 'visitors']]\n",
    "visitorsBDaily.columns = ['date', 'visitorsPerDateB']\n",
    "\n",
    "visitorsBCummulative = visitorsBDaily.apply(lambda x: visitorsBDaily[visitorsBDaily['date'] <= x['date']]. \\\n",
    "                                            agg({'date' : 'max', 'visitorsPerDateB' : 'sum'}), axis=1)\n",
    "visitorsBCummulative.columns = ['date', 'visitorsCummulativeB']\n",
    "\n",
    "\n",
    "ordersADaily = df_orders[df_orders['group']=='A'][['date', 'transactionId', 'visitorId', 'revenue']]\\\n",
    "    .groupby('date', as_index=False)\\\n",
    "    .agg({'transactionId' : pd.Series.nunique, 'revenue' : 'sum'})\n",
    "ordersADaily.columns = ['date', 'ordersPerDateA', 'revenuePerDateA']\n",
    "\n",
    "ordersACummulative = ordersADaily.apply(\n",
    "    lambda x: \\\n",
    "        ordersADaily[ordersADaily['date'] <= x['date']]\\\n",
    "            .agg({\n",
    "                'date' : 'max',\n",
    "                'ordersPerDateA' : 'sum',\n",
    "                'revenuePerDateA' : 'sum'}), axis=1).sort_values(by=['date'])\n",
    "ordersACummulative.columns = ['date', 'ordersCummulativeA', 'revenueCummulativeA']\n",
    "\n",
    "ordersBDaily = df_orders[df_orders['group']=='B'][['date', 'transactionId', 'visitorId', 'revenue']]\\\n",
    "    .groupby('date', as_index=False)\\\n",
    "    .agg({'transactionId' : pd.Series.nunique, 'revenue' : 'sum'})\n",
    "ordersBDaily.columns = ['date', 'ordersPerDateB', 'revenuePerDateB']\n",
    "\n",
    "ordersBCummulative = ordersBDaily.apply(\n",
    "    lambda x: \\\n",
    "        ordersBDaily[ordersBDaily['date'] <= x['date']]\\\n",
    "            .agg({\n",
    "                'date' : 'max',\n",
    "                'ordersPerDateB' : 'sum',\n",
    "                'revenuePerDateB' : 'sum'}), axis=1).sort_values(by=['date'])\n",
    "ordersBCummulative.columns = ['date', 'ordersCummulativeB', 'revenueCummulativeB']"
   ]
  },
  {
   "cell_type": "markdown",
   "metadata": {},
   "source": [
    "Объединим все в одну таблицу"
   ]
  },
  {
   "cell_type": "code",
   "execution_count": 27,
   "metadata": {},
   "outputs": [
    {
     "data": {
      "text/html": [
       "<div>\n",
       "<style scoped>\n",
       "    .dataframe tbody tr th:only-of-type {\n",
       "        vertical-align: middle;\n",
       "    }\n",
       "\n",
       "    .dataframe tbody tr th {\n",
       "        vertical-align: top;\n",
       "    }\n",
       "\n",
       "    .dataframe thead th {\n",
       "        text-align: right;\n",
       "    }\n",
       "</style>\n",
       "<table border=\"1\" class=\"dataframe\">\n",
       "  <thead>\n",
       "    <tr style=\"text-align: right;\">\n",
       "      <th></th>\n",
       "      <th>date</th>\n",
       "      <th>ordersPerDateA</th>\n",
       "      <th>revenuePerDateA</th>\n",
       "      <th>ordersPerDateB</th>\n",
       "      <th>revenuePerDateB</th>\n",
       "      <th>ordersCummulativeA</th>\n",
       "      <th>revenueCummulativeA</th>\n",
       "      <th>ordersCummulativeB</th>\n",
       "      <th>revenueCummulativeB</th>\n",
       "      <th>visitorsPerDateA</th>\n",
       "      <th>visitorsPerDateB</th>\n",
       "      <th>visitorsCummulativeA</th>\n",
       "      <th>visitorsCummulativeB</th>\n",
       "    </tr>\n",
       "  </thead>\n",
       "  <tbody>\n",
       "    <tr>\n",
       "      <th>0</th>\n",
       "      <td>2019-08-01</td>\n",
       "      <td>24</td>\n",
       "      <td>148579</td>\n",
       "      <td>21</td>\n",
       "      <td>101217</td>\n",
       "      <td>24</td>\n",
       "      <td>148579</td>\n",
       "      <td>21</td>\n",
       "      <td>101217</td>\n",
       "      <td>719</td>\n",
       "      <td>713</td>\n",
       "      <td>719</td>\n",
       "      <td>713</td>\n",
       "    </tr>\n",
       "    <tr>\n",
       "      <th>1</th>\n",
       "      <td>2019-08-02</td>\n",
       "      <td>20</td>\n",
       "      <td>93822</td>\n",
       "      <td>24</td>\n",
       "      <td>165531</td>\n",
       "      <td>44</td>\n",
       "      <td>242401</td>\n",
       "      <td>45</td>\n",
       "      <td>266748</td>\n",
       "      <td>619</td>\n",
       "      <td>581</td>\n",
       "      <td>1338</td>\n",
       "      <td>1294</td>\n",
       "    </tr>\n",
       "    <tr>\n",
       "      <th>2</th>\n",
       "      <td>2019-08-03</td>\n",
       "      <td>24</td>\n",
       "      <td>112473</td>\n",
       "      <td>16</td>\n",
       "      <td>114248</td>\n",
       "      <td>68</td>\n",
       "      <td>354874</td>\n",
       "      <td>61</td>\n",
       "      <td>380996</td>\n",
       "      <td>507</td>\n",
       "      <td>509</td>\n",
       "      <td>1845</td>\n",
       "      <td>1803</td>\n",
       "    </tr>\n",
       "    <tr>\n",
       "      <th>3</th>\n",
       "      <td>2019-08-04</td>\n",
       "      <td>16</td>\n",
       "      <td>70825</td>\n",
       "      <td>17</td>\n",
       "      <td>108571</td>\n",
       "      <td>84</td>\n",
       "      <td>425699</td>\n",
       "      <td>78</td>\n",
       "      <td>489567</td>\n",
       "      <td>717</td>\n",
       "      <td>770</td>\n",
       "      <td>2562</td>\n",
       "      <td>2573</td>\n",
       "    </tr>\n",
       "    <tr>\n",
       "      <th>4</th>\n",
       "      <td>2019-08-05</td>\n",
       "      <td>25</td>\n",
       "      <td>124218</td>\n",
       "      <td>23</td>\n",
       "      <td>92428</td>\n",
       "      <td>109</td>\n",
       "      <td>549917</td>\n",
       "      <td>101</td>\n",
       "      <td>581995</td>\n",
       "      <td>756</td>\n",
       "      <td>707</td>\n",
       "      <td>3318</td>\n",
       "      <td>3280</td>\n",
       "    </tr>\n",
       "  </tbody>\n",
       "</table>\n",
       "</div>"
      ],
      "text/plain": [
       "        date  ordersPerDateA  revenuePerDateA  ordersPerDateB  \\\n",
       "0 2019-08-01              24           148579              21   \n",
       "1 2019-08-02              20            93822              24   \n",
       "2 2019-08-03              24           112473              16   \n",
       "3 2019-08-04              16            70825              17   \n",
       "4 2019-08-05              25           124218              23   \n",
       "\n",
       "   revenuePerDateB  ordersCummulativeA  revenueCummulativeA  \\\n",
       "0           101217                  24               148579   \n",
       "1           165531                  44               242401   \n",
       "2           114248                  68               354874   \n",
       "3           108571                  84               425699   \n",
       "4            92428                 109               549917   \n",
       "\n",
       "   ordersCummulativeB  revenueCummulativeB  visitorsPerDateA  \\\n",
       "0                  21               101217               719   \n",
       "1                  45               266748               619   \n",
       "2                  61               380996               507   \n",
       "3                  78               489567               717   \n",
       "4                 101               581995               756   \n",
       "\n",
       "   visitorsPerDateB  visitorsCummulativeA  visitorsCummulativeB  \n",
       "0               713                   719                   713  \n",
       "1               581                  1338                  1294  \n",
       "2               509                  1845                  1803  \n",
       "3               770                  2562                  2573  \n",
       "4               707                  3318                  3280  "
      ]
     },
     "metadata": {},
     "output_type": "display_data"
    }
   ],
   "source": [
    "data = ordersADaily.merge(ordersBDaily, left_on='date', right_on='date', how='left')\\\n",
    "    .merge(ordersACummulative, left_on='date', right_on='date', how='left')\\\n",
    "    .merge(ordersBCummulative, left_on='date', right_on='date', how='left')\\\n",
    "    .merge(visitorsADaily, left_on='date', right_on='date', how='left')\\\n",
    "    .merge(visitorsBDaily, left_on='date', right_on='date', how='left')\\\n",
    "    .merge(visitorsACummulative, left_on='date', right_on='date', how='left')\\\n",
    "    .merge(visitorsBCummulative, left_on='date', right_on='date', how='left')\n",
    "display(data.head())"
   ]
  },
  {
   "cell_type": "markdown",
   "metadata": {},
   "source": [
    "Применим критерий и отформатируем p-value, округлив его до трёх знаков после запятой. В sampleA сохраним выборку, где каждый элемент — число заказов определённого пользователя, в том числе ноль. Значит, число элементов sampleA — это количество пользователей, сумма всех элементов — количество заказов. Чтобы получить конверсию в группе, поделим сумму заказов на число пользователей — найдём среднее в выборке sampleA методом mean(). Аналогично найдём конверсию группы B: SampleB.mean().\n",
    "Выведем относительный прирост конверсии группы B: конверсия группы B / конверсия группы A - 1. Округлим до трёх знаков после запятой (пороговое значение возьмём равное 5%).\n",
    "\n",
    "За нулевую гипотезу возьмём что: \"статистически значимых различий в конверсии между группами нет\"; тогда альтернативная гипотеза будет гласить - статистически значимые различия есть(двухсторонняя теория)."
   ]
  },
  {
   "cell_type": "code",
   "execution_count": 28,
   "metadata": {},
   "outputs": [
    {
     "name": "stdout",
     "output_type": "stream",
     "text": [
      "alpha = 0.05\n",
      "p-value = 0.017\n",
      "Относительный показатель 'B' и 'A' = 0.138\n"
     ]
    }
   ],
   "source": [
    "ordersByUsersA = df_orders[df_orders['group']=='A'].groupby('visitorId', as_index=False).agg({'transactionId' : pd.Series.nunique})\n",
    "ordersByUsersA.columns = ['userId', 'orders']\n",
    "\n",
    "ordersByUsersB = df_orders[df_orders['group']=='B'].groupby('visitorId', as_index=False).agg({'transactionId' : pd.Series.nunique})\n",
    "ordersByUsersB.columns = ['userId', 'orders']\n",
    "\n",
    "sampleA = pd.concat([ordersByUsersA['orders'],pd.Series(0, index=np.arange(data['visitorsPerDateA'].sum() - len(ordersByUsersA['orders'])), name='orders')],axis=0)\n",
    "\n",
    "sampleB = pd.concat([ordersByUsersB['orders'],pd.Series(0, index=np.arange(data['visitorsPerDateB'].sum() - len(ordersByUsersB['orders'])), name='orders')],axis=0)\n",
    "\n",
    "print(\"alpha =\", 0.05)\n",
    "print(\"p-value =\", round(stats.mannwhitneyu(sampleA, sampleB, alternative = 'two-sided')[1], 3))\n",
    "print(\"Относительный показатель 'B' и 'A' =\", round(sampleB.mean() / sampleA.mean() - 1, 3)) "
   ]
  },
  {
   "cell_type": "markdown",
   "metadata": {},
   "source": [
    "Вывод: p-value = 0.017 меньше 0.05. Значит, нулевую гипотезу о том, что статистически значимых различий в конверсии между группами нет, - отвергаем. Это значит: по «сырым» данным различия в конверсии групп A и B есть. А относительный выигрыш группы \"B\" над \"A\" равен 13.8% ."
   ]
  },
  {
   "cell_type": "markdown",
   "metadata": {},
   "source": [
    "Посчитаем статистическую значимость различий в среднем чеке заказа между группами по «сырым» данным."
   ]
  },
  {
   "cell_type": "markdown",
   "metadata": {},
   "source": [
    "Чтобы рассчитать статистическую значимость различий в среднем чеке между группами, передадим критерию mannwhitneyu() данные о выручке с заказов (пороговое значение возьмём равное 5%). И найдём относительные различия в среднем чеке между группами.\n",
    "\n",
    "За нулевую гипотезу возьмём что: \"статистически значимых различий в средних чеках между группами нет\"; тогда альтернативная гипотеза будет гласить - статистически значимые различия есть(так же двухсторонняя гипотеза)."
   ]
  },
  {
   "cell_type": "code",
   "execution_count": 29,
   "metadata": {},
   "outputs": [
    {
     "name": "stdout",
     "output_type": "stream",
     "text": [
      "alpha = 0.05\n",
      "p-value = 0.729\n",
      "Относительный показатель 'B' и 'A' = 0.259\n"
     ]
    }
   ],
   "source": [
    "print(\"alpha =\",0.05)\n",
    "print(\"p-value =\", round(stats.mannwhitneyu(df_orders[df_orders['group']=='A']['revenue'], df_orders[df_orders['group']=='B']['revenue'])[1], 3))\n",
    "print(\"Относительный показатель 'B' и 'A' =\", round(df_orders[df_orders['group']=='B']['revenue'].mean()/df_orders[df_orders['group']=='A']['revenue'].mean()-1, 3)) "
   ]
  },
  {
   "cell_type": "markdown",
   "metadata": {},
   "source": [
    "P-value значительно больше 0.05. Значит, причин отвергать нулевую гипотезу и считать, что в среднем чеке есть различия, нет. То есть средние чеки по \"сырым\" данным схожи. И при этом, средний чек группы B значительно выше среднего чека группы A (на ~26% !)."
   ]
  },
  {
   "cell_type": "markdown",
   "metadata": {},
   "source": [
    "Посчитаем статистическую значимость различий в конверсии между группами по «очищенным» данным."
   ]
  },
  {
   "cell_type": "markdown",
   "metadata": {},
   "source": [
    "Проведем анализ по данным которые отбросили:\n",
    "Пользователи которые совершиил 3 и более заказов (usersWithManyOrders)\n",
    "Пользователи совершившие заказы на сумму более 58233.2 (usersWithExpensiveOrders)\n",
    "Объединим их в таблице abnormalUsers. Узнаем, сколько всего аномальных пользователей методом shape()."
   ]
  },
  {
   "cell_type": "code",
   "execution_count": 30,
   "metadata": {},
   "outputs": [
    {
     "name": "stdout",
     "output_type": "stream",
     "text": [
      "1099    148427295\n",
      "18      199603092\n",
      "23      237748145\n",
      "37      249864742\n",
      "68      457167155\n",
      "dtype: int64\n",
      "Всего аномальных пользователей = 31\n"
     ]
    }
   ],
   "source": [
    "usersWithManyOrders = pd.concat([ordersByUsersA[ordersByUsersA['orders'] > 2]['userId'], ordersByUsersB[ordersByUsersB['orders'] > 2]['userId']], axis = 0)\n",
    "usersWithExpensiveOrders = df_orders[df_orders['revenue'] > 58233.2]['visitorId']\n",
    "abnormalUsers = pd.concat([usersWithManyOrders, usersWithExpensiveOrders], axis = 0).drop_duplicates().sort_values()\n",
    "print(abnormalUsers.head(5))\n",
    "print(\"Всего аномальных пользователей =\" ,len(abnormalUsers))"
   ]
  },
  {
   "cell_type": "markdown",
   "metadata": {},
   "source": [
    "Теперь увидим разницу между \"сырыми\" данными и \"очищенными\". Расчитаем статистическую значимость между группами по \"очищенным\" данным. Сперва подготовим выборку по пользователям и по группам теста"
   ]
  },
  {
   "cell_type": "code",
   "execution_count": 31,
   "metadata": {},
   "outputs": [],
   "source": [
    "sampleAFiltered = pd.concat([ordersByUsersA[np.logical_not(ordersByUsersA['userId'].isin(abnormalUsers))]['orders'], \\\n",
    "                             pd.Series(0, index=np.arange(data['visitorsPerDateA'].sum() - len(ordersByUsersA['orders'])), \\\n",
    "                                       name='orders')],axis=0)\n",
    "\n",
    "sampleBFiltered = pd.concat([ordersByUsersB[np.logical_not(ordersByUsersB['userId'].isin(abnormalUsers))]['orders'], \\\n",
    "                             pd.Series(0, index=np.arange(data['visitorsPerDateB'].sum() - len(ordersByUsersB['orders'])), \\\n",
    "                                       name='orders')],axis=0)"
   ]
  },
  {
   "cell_type": "markdown",
   "metadata": {},
   "source": [
    "К полученным выборкам применим непараметрический тест Уилкоксона-Манна-Уитни\n",
    "За нулевую гипотезу будет взята версия что: статистической значимость между группами теста по очищенным данным нет\n",
    "Тогда альтернативная гипотеза будет звучать так: статистическая значимость между группами теста по очищенным данным есть\n",
    "(двухсторонняя теория)"
   ]
  },
  {
   "cell_type": "code",
   "execution_count": 32,
   "metadata": {},
   "outputs": [
    {
     "name": "stdout",
     "output_type": "stream",
     "text": [
      "alpha = 0.05\n",
      "p-value = 0.01\n",
      "Относительный показатель 'B' и 'A' = 0.174\n"
     ]
    }
   ],
   "source": [
    "print(\"alpha =\",0.05)\n",
    "print(\"p-value =\", round(stats.mannwhitneyu(sampleAFiltered, sampleBFiltered, alternative = 'two-sided')[1], 3))\n",
    "print(\"Относительный показатель 'B' и 'A' =\", round(sampleBFiltered.mean()/sampleAFiltered.mean()-1, 3)) "
   ]
  },
  {
   "cell_type": "markdown",
   "metadata": {},
   "source": [
    "Вывод: p-value = 0.01 меньше 0.05. Нулевую гипотезу отвергаем. Значит здесть так же различия в конверсии между группами по \"очищенным\" данным есть. Преимущество группы \"B\" над \"A\" равен 17,4% (в то время как по \"отфильтрованным\" данным 13.8%)."
   ]
  },
  {
   "cell_type": "markdown",
   "metadata": {},
   "source": [
    "Посчитаем статистическую значимость различий в среднем чеке заказа между группами по «очищенным» данным."
   ]
  },
  {
   "cell_type": "markdown",
   "metadata": {},
   "source": [
    "H0 = различий в статистической значимости в среднем чеке между группами по \"очищенным\" данным нет\n",
    "H1 = есть различия в статистической значимости в среднем чеке между группами по \"очищенным\" данным"
   ]
  },
  {
   "cell_type": "code",
   "execution_count": 33,
   "metadata": {},
   "outputs": [
    {
     "name": "stdout",
     "output_type": "stream",
     "text": [
      "alpha = 0.05\n",
      "p-value = 0.798\n",
      "Относительный показатель 'B' и 'A' = -0.02\n"
     ]
    }
   ],
   "source": [
    "print(\"alpha =\",0.05)\n",
    "print(\"p-value =\", round(stats.mannwhitneyu(\n",
    "    df_orders[np.logical_and(\n",
    "        df_orders['group']=='A',\n",
    "        np.logical_not(df_orders['visitorId'].isin(abnormalUsers)))]['revenue'],\n",
    "    df_orders[np.logical_and(\n",
    "        df_orders['group']=='B',\n",
    "        np.logical_not(df_orders['visitorId'].isin(abnormalUsers)))]['revenue'], alternative = 'two-sided')[1], 3))\n",
    "\n",
    "print(\"Относительный показатель 'B' и 'A' =\", round(\n",
    "    df_orders[np.logical_and(df_orders['group']=='B',np.logical_not(df_orders['visitorId'].isin(abnormalUsers)))]['revenue'].mean()/\n",
    "    df_orders[np.logical_and(\n",
    "        df_orders['group']=='A',\n",
    "        np.logical_not(df_orders['visitorId'].isin(abnormalUsers)))]['revenue'].mean() - 1, 3)) "
   ]
  },
  {
   "cell_type": "markdown",
   "metadata": {},
   "source": [
    "P-value значительно больше 0.05. Нулевая гипотеза верна и причин считать различия между между группами в серднем чеке по \"очищенным данным\" нет. А вот средний чек группы B оказался незначительно (на 2%) ниже среднего чека группы A, в то время как по \"сырым\" данным, он был больше аж на ~26%, - и всё это из-за одного аномального заказа №425 на 1,3 млн."
   ]
  },
  {
   "cell_type": "markdown",
   "metadata": {},
   "source": [
    "РЕШЕНИЕ ПО РЕЗУЛЬТАТАМ ТЕСТА"
   ]
  },
  {
   "cell_type": "markdown",
   "metadata": {},
   "source": [
    "И по \"сырым\" и по \"очищенным\" данным различия в конверсии групп A и B есть. Относительный выигрыш группы \"B\" над \"A\" равен 17,4% по \"очищенным\" и 13.8% по \"сырым\" данным."
   ]
  },
  {
   "cell_type": "markdown",
   "metadata": {},
   "source": [
    "Оказалось, что и по \"сырым\" и по \"очищенным\" данным различия в средних чеках групп A и B отстутствуют, несмотря на то, что средний чек группы B оказался незначительно (на 2%) ниже среднего чека группы A по \"очищенным\" данным, в то время как по \"сырым\" данным, он был больше на ~26%, только из-за одного того заказа на крупную сумму."
   ]
  },
  {
   "cell_type": "markdown",
   "metadata": {},
   "source": [
    "Итог теста: безоговорочная победа группы B, ее конверсия значительно выше чем у группы A. Хотя их средние чеки примерно равны."
   ]
  }
 ],
 "metadata": {
  "ExecuteTimeLog": [
   {
    "duration": 1217,
    "start_time": "2022-05-07T13:52:54.051Z"
   },
   {
    "duration": 91,
    "start_time": "2022-05-07T13:54:24.353Z"
   },
   {
    "duration": 16,
    "start_time": "2022-05-07T13:54:37.016Z"
   },
   {
    "duration": 29,
    "start_time": "2022-05-07T13:56:17.938Z"
   },
   {
    "duration": 25,
    "start_time": "2022-05-07T13:56:29.536Z"
   },
   {
    "duration": 48,
    "start_time": "2022-05-07T13:57:09.162Z"
   },
   {
    "duration": 48,
    "start_time": "2022-05-07T13:57:15.435Z"
   },
   {
    "duration": 37,
    "start_time": "2022-05-07T14:03:39.228Z"
   },
   {
    "duration": 8,
    "start_time": "2022-05-07T15:42:56.388Z"
   },
   {
    "duration": 3062,
    "start_time": "2022-05-07T15:44:01.029Z"
   },
   {
    "duration": 2958,
    "start_time": "2022-05-07T15:44:52.192Z"
   },
   {
    "duration": 3,
    "start_time": "2022-05-07T15:45:48.189Z"
   },
   {
    "duration": 3,
    "start_time": "2022-05-07T15:45:56.580Z"
   },
   {
    "duration": 13,
    "start_time": "2022-05-07T15:46:02.710Z"
   },
   {
    "duration": 4,
    "start_time": "2022-05-07T15:46:14.261Z"
   },
   {
    "duration": 27,
    "start_time": "2022-05-07T15:46:14.269Z"
   },
   {
    "duration": 3,
    "start_time": "2022-05-07T15:46:14.298Z"
   },
   {
    "duration": 61,
    "start_time": "2022-05-07T15:46:14.302Z"
   },
   {
    "duration": 26,
    "start_time": "2022-05-07T15:46:14.365Z"
   },
   {
    "duration": 9,
    "start_time": "2022-05-07T15:46:14.392Z"
   },
   {
    "duration": 9,
    "start_time": "2022-05-07T15:47:42.214Z"
   },
   {
    "duration": 12,
    "start_time": "2022-05-07T15:47:49.023Z"
   },
   {
    "duration": 12,
    "start_time": "2022-05-07T15:47:57.038Z"
   },
   {
    "duration": 9,
    "start_time": "2022-05-07T15:48:02.376Z"
   },
   {
    "duration": 10,
    "start_time": "2022-05-08T00:44:57.417Z"
   },
   {
    "duration": 11,
    "start_time": "2022-05-08T00:45:16.459Z"
   },
   {
    "duration": 229,
    "start_time": "2022-05-10T12:19:57.204Z"
   },
   {
    "duration": 240,
    "start_time": "2022-05-10T12:20:08.372Z"
   },
   {
    "duration": 226,
    "start_time": "2022-05-10T12:21:10.644Z"
   },
   {
    "duration": 228,
    "start_time": "2022-05-10T12:22:08.364Z"
   },
   {
    "duration": 226,
    "start_time": "2022-05-10T12:22:20.060Z"
   },
   {
    "duration": 352,
    "start_time": "2022-05-10T12:22:47.517Z"
   },
   {
    "duration": 232,
    "start_time": "2022-05-10T12:28:22.584Z"
   },
   {
    "duration": 218,
    "start_time": "2022-05-10T12:28:31.376Z"
   },
   {
    "duration": 215,
    "start_time": "2022-05-10T12:28:33.767Z"
   },
   {
    "duration": 223,
    "start_time": "2022-05-10T12:28:37.446Z"
   },
   {
    "duration": 299,
    "start_time": "2022-05-10T12:28:54.695Z"
   },
   {
    "duration": 288,
    "start_time": "2022-05-10T12:29:05.192Z"
   },
   {
    "duration": 235,
    "start_time": "2022-05-10T12:31:51.113Z"
   },
   {
    "duration": 292,
    "start_time": "2022-05-10T12:32:04.801Z"
   },
   {
    "duration": 243,
    "start_time": "2022-05-10T12:32:28.104Z"
   },
   {
    "duration": 236,
    "start_time": "2022-05-10T12:46:12.268Z"
   },
   {
    "duration": 77,
    "start_time": "2022-05-10T13:00:38.777Z"
   },
   {
    "duration": 59,
    "start_time": "2022-05-10T13:00:47.855Z"
   },
   {
    "duration": 5300,
    "start_time": "2022-05-10T13:09:16.826Z"
   },
   {
    "duration": 2907,
    "start_time": "2022-05-10T13:09:47.219Z"
   },
   {
    "duration": 13,
    "start_time": "2022-05-10T13:10:36.059Z"
   },
   {
    "duration": 1994,
    "start_time": "2022-05-10T13:14:05.511Z"
   },
   {
    "duration": 1833,
    "start_time": "2022-05-10T13:25:27.240Z"
   },
   {
    "duration": 1709,
    "start_time": "2022-05-10T13:25:38.353Z"
   },
   {
    "duration": 1794,
    "start_time": "2022-05-10T13:25:56.016Z"
   },
   {
    "duration": 14,
    "start_time": "2022-05-10T13:28:39.818Z"
   },
   {
    "duration": 11,
    "start_time": "2022-05-10T13:28:48.112Z"
   },
   {
    "duration": 12,
    "start_time": "2022-05-10T13:28:50.793Z"
   },
   {
    "duration": 11,
    "start_time": "2022-05-10T13:29:01.721Z"
   },
   {
    "duration": 357,
    "start_time": "2022-05-10T13:40:18.453Z"
   },
   {
    "duration": 1029,
    "start_time": "2022-05-10T14:02:18.724Z"
   },
   {
    "duration": 3,
    "start_time": "2022-05-10T14:02:58.373Z"
   },
   {
    "duration": 38,
    "start_time": "2022-05-10T14:02:58.379Z"
   },
   {
    "duration": 4,
    "start_time": "2022-05-10T14:02:58.419Z"
   },
   {
    "duration": 59,
    "start_time": "2022-05-10T14:02:58.425Z"
   },
   {
    "duration": 35,
    "start_time": "2022-05-10T14:02:58.487Z"
   },
   {
    "duration": 11,
    "start_time": "2022-05-10T14:02:58.524Z"
   },
   {
    "duration": 18,
    "start_time": "2022-05-10T14:02:58.537Z"
   },
   {
    "duration": 368,
    "start_time": "2022-05-10T14:02:58.557Z"
   },
   {
    "duration": 200,
    "start_time": "2022-05-10T14:02:58.927Z"
   },
   {
    "duration": 0,
    "start_time": "2022-05-10T14:02:59.129Z"
   },
   {
    "duration": 0,
    "start_time": "2022-05-10T14:02:59.131Z"
   },
   {
    "duration": 0,
    "start_time": "2022-05-10T14:02:59.132Z"
   },
   {
    "duration": 235,
    "start_time": "2022-05-10T14:03:07.813Z"
   },
   {
    "duration": 232,
    "start_time": "2022-05-10T14:03:08.819Z"
   },
   {
    "duration": 402,
    "start_time": "2022-05-10T14:03:09.332Z"
   },
   {
    "duration": 264,
    "start_time": "2022-05-10T14:03:09.844Z"
   },
   {
    "duration": 297,
    "start_time": "2022-05-10T14:03:24.494Z"
   },
   {
    "duration": 266,
    "start_time": "2022-05-10T14:03:35.590Z"
   },
   {
    "duration": 375,
    "start_time": "2022-05-10T14:06:37.825Z"
   },
   {
    "duration": 326,
    "start_time": "2022-05-10T15:27:59.091Z"
   },
   {
    "duration": 256,
    "start_time": "2022-05-10T15:29:02.828Z"
   },
   {
    "duration": 244,
    "start_time": "2022-05-10T15:30:02.445Z"
   },
   {
    "duration": 376,
    "start_time": "2022-05-10T15:33:02.259Z"
   },
   {
    "duration": 282,
    "start_time": "2022-05-10T15:33:09.605Z"
   },
   {
    "duration": 233,
    "start_time": "2022-05-10T15:35:13.949Z"
   },
   {
    "duration": 449,
    "start_time": "2022-05-10T15:35:26.727Z"
   },
   {
    "duration": 344,
    "start_time": "2022-05-10T15:35:54.830Z"
   },
   {
    "duration": 415,
    "start_time": "2022-05-10T15:36:43.885Z"
   },
   {
    "duration": 364,
    "start_time": "2022-05-10T15:37:00.126Z"
   },
   {
    "duration": 12,
    "start_time": "2022-05-10T15:38:50.182Z"
   },
   {
    "duration": 224,
    "start_time": "2022-05-10T15:39:15.231Z"
   },
   {
    "duration": 199,
    "start_time": "2022-05-10T15:39:20.031Z"
   },
   {
    "duration": 400,
    "start_time": "2022-05-10T15:39:23.390Z"
   },
   {
    "duration": 404,
    "start_time": "2022-05-10T15:41:53.053Z"
   },
   {
    "duration": 408,
    "start_time": "2022-05-10T15:44:13.117Z"
   },
   {
    "duration": 419,
    "start_time": "2022-05-10T15:44:21.680Z"
   },
   {
    "duration": 464,
    "start_time": "2022-05-10T15:44:31.193Z"
   },
   {
    "duration": 387,
    "start_time": "2022-05-10T15:45:20.441Z"
   },
   {
    "duration": 15,
    "start_time": "2022-05-10T15:49:53.195Z"
   },
   {
    "duration": 130,
    "start_time": "2022-05-10T15:50:06.075Z"
   },
   {
    "duration": 14,
    "start_time": "2022-05-10T15:53:18.293Z"
   },
   {
    "duration": 146,
    "start_time": "2022-05-10T15:53:53.130Z"
   },
   {
    "duration": 5,
    "start_time": "2022-05-10T16:56:39.728Z"
   },
   {
    "duration": 14,
    "start_time": "2022-05-10T16:58:50.769Z"
   },
   {
    "duration": 15,
    "start_time": "2022-05-10T16:59:06.706Z"
   },
   {
    "duration": 10,
    "start_time": "2022-05-10T16:59:40.745Z"
   },
   {
    "duration": 9,
    "start_time": "2022-05-10T17:02:29.115Z"
   },
   {
    "duration": 11,
    "start_time": "2022-05-10T17:03:11.699Z"
   },
   {
    "duration": 9,
    "start_time": "2022-05-10T17:03:36.259Z"
   },
   {
    "duration": 14,
    "start_time": "2022-05-10T17:04:09.388Z"
   },
   {
    "duration": 11,
    "start_time": "2022-05-10T17:04:17.614Z"
   },
   {
    "duration": 101,
    "start_time": "2022-05-10T17:04:53.932Z"
   },
   {
    "duration": 9,
    "start_time": "2022-05-10T17:05:28.029Z"
   },
   {
    "duration": 106,
    "start_time": "2022-05-10T17:05:30.452Z"
   },
   {
    "duration": 251,
    "start_time": "2022-05-10T17:06:21.610Z"
   },
   {
    "duration": 120,
    "start_time": "2022-05-10T17:06:56.469Z"
   },
   {
    "duration": 9,
    "start_time": "2022-05-10T17:07:47.157Z"
   },
   {
    "duration": 193,
    "start_time": "2022-05-10T17:07:47.733Z"
   },
   {
    "duration": 9,
    "start_time": "2022-05-10T17:08:46.877Z"
   },
   {
    "duration": 129,
    "start_time": "2022-05-10T17:08:49.454Z"
   },
   {
    "duration": 117,
    "start_time": "2022-05-10T23:37:43.614Z"
   },
   {
    "duration": 178,
    "start_time": "2022-05-10T23:37:50.239Z"
   },
   {
    "duration": 117,
    "start_time": "2022-05-10T23:38:00.623Z"
   },
   {
    "duration": 4,
    "start_time": "2022-05-10T23:44:50.384Z"
   },
   {
    "duration": 63,
    "start_time": "2022-05-12T18:23:05.141Z"
   },
   {
    "duration": 1631,
    "start_time": "2022-05-12T18:23:11.704Z"
   },
   {
    "duration": 47,
    "start_time": "2022-05-12T18:23:13.338Z"
   },
   {
    "duration": 4,
    "start_time": "2022-05-12T18:23:13.387Z"
   },
   {
    "duration": 57,
    "start_time": "2022-05-12T18:23:13.394Z"
   },
   {
    "duration": 29,
    "start_time": "2022-05-12T18:23:13.453Z"
   },
   {
    "duration": 13,
    "start_time": "2022-05-12T18:23:13.484Z"
   },
   {
    "duration": 16,
    "start_time": "2022-05-12T18:23:13.498Z"
   },
   {
    "duration": 316,
    "start_time": "2022-05-12T18:23:13.516Z"
   },
   {
    "duration": 355,
    "start_time": "2022-05-12T18:23:13.834Z"
   },
   {
    "duration": 305,
    "start_time": "2022-05-12T18:23:14.191Z"
   },
   {
    "duration": 566,
    "start_time": "2022-05-12T18:23:14.497Z"
   },
   {
    "duration": 321,
    "start_time": "2022-05-12T18:23:15.065Z"
   },
   {
    "duration": 388,
    "start_time": "2022-05-12T18:23:15.388Z"
   },
   {
    "duration": 10,
    "start_time": "2022-05-12T18:23:15.778Z"
   },
   {
    "duration": 19,
    "start_time": "2022-05-12T18:23:15.790Z"
   },
   {
    "duration": 200,
    "start_time": "2022-05-12T18:23:15.811Z"
   },
   {
    "duration": 5,
    "start_time": "2022-05-12T18:23:16.013Z"
   },
   {
    "duration": 123,
    "start_time": "2022-05-12T18:23:16.020Z"
   },
   {
    "duration": 210,
    "start_time": "2022-05-12T18:35:02.863Z"
   },
   {
    "duration": 157,
    "start_time": "2022-05-12T18:35:33.858Z"
   },
   {
    "duration": 1826,
    "start_time": "2022-05-12T18:40:35.517Z"
   },
   {
    "duration": 254,
    "start_time": "2022-05-12T18:41:04.634Z"
   },
   {
    "duration": 4,
    "start_time": "2022-05-12T18:43:42.645Z"
   },
   {
    "duration": 4,
    "start_time": "2022-05-12T18:44:43.558Z"
   },
   {
    "duration": 4,
    "start_time": "2022-05-12T18:44:47.727Z"
   },
   {
    "duration": 13,
    "start_time": "2022-05-12T18:53:43.577Z"
   },
   {
    "duration": 301,
    "start_time": "2022-05-12T18:57:17.479Z"
   },
   {
    "duration": 49,
    "start_time": "2022-05-12T18:58:33.333Z"
   },
   {
    "duration": 30,
    "start_time": "2022-05-12T18:58:37.023Z"
   },
   {
    "duration": 20,
    "start_time": "2022-05-12T19:02:01.648Z"
   },
   {
    "duration": 158,
    "start_time": "2022-05-12T19:02:54.472Z"
   },
   {
    "duration": 4,
    "start_time": "2022-05-12T19:03:37.184Z"
   },
   {
    "duration": 39,
    "start_time": "2022-05-12T19:03:37.191Z"
   },
   {
    "duration": 4,
    "start_time": "2022-05-12T19:03:37.232Z"
   },
   {
    "duration": 44,
    "start_time": "2022-05-12T19:03:37.238Z"
   },
   {
    "duration": 46,
    "start_time": "2022-05-12T19:03:37.284Z"
   },
   {
    "duration": 15,
    "start_time": "2022-05-12T19:03:37.333Z"
   },
   {
    "duration": 30,
    "start_time": "2022-05-12T19:03:37.350Z"
   },
   {
    "duration": 278,
    "start_time": "2022-05-12T19:03:37.383Z"
   },
   {
    "duration": 304,
    "start_time": "2022-05-12T19:03:37.666Z"
   },
   {
    "duration": 315,
    "start_time": "2022-05-12T19:03:37.972Z"
   },
   {
    "duration": 461,
    "start_time": "2022-05-12T19:03:38.289Z"
   },
   {
    "duration": 324,
    "start_time": "2022-05-12T19:03:38.752Z"
   },
   {
    "duration": 401,
    "start_time": "2022-05-12T19:03:39.079Z"
   },
   {
    "duration": 6,
    "start_time": "2022-05-12T19:03:39.482Z"
   },
   {
    "duration": 16,
    "start_time": "2022-05-12T19:03:39.491Z"
   },
   {
    "duration": 164,
    "start_time": "2022-05-12T19:03:39.509Z"
   },
   {
    "duration": 5,
    "start_time": "2022-05-12T19:03:39.675Z"
   },
   {
    "duration": 250,
    "start_time": "2022-05-12T19:03:39.681Z"
   },
   {
    "duration": 165,
    "start_time": "2022-05-12T19:03:39.933Z"
   },
   {
    "duration": 4,
    "start_time": "2022-05-12T19:03:40.100Z"
   },
   {
    "duration": 13,
    "start_time": "2022-05-12T19:03:40.107Z"
   },
   {
    "duration": 221,
    "start_time": "2022-05-12T19:03:40.121Z"
   },
   {
    "duration": 35,
    "start_time": "2022-05-12T19:03:40.344Z"
   },
   {
    "duration": 187,
    "start_time": "2022-05-12T19:03:40.382Z"
   },
   {
    "duration": 19,
    "start_time": "2022-05-12T19:12:33.104Z"
   },
   {
    "duration": 22,
    "start_time": "2022-05-12T19:12:45.797Z"
   },
   {
    "duration": 11,
    "start_time": "2022-05-12T19:14:07.429Z"
   },
   {
    "duration": 4,
    "start_time": "2022-05-12T19:14:16.477Z"
   },
   {
    "duration": 38,
    "start_time": "2022-05-12T19:14:16.483Z"
   },
   {
    "duration": 3,
    "start_time": "2022-05-12T19:14:16.523Z"
   },
   {
    "duration": 42,
    "start_time": "2022-05-12T19:14:16.528Z"
   },
   {
    "duration": 12,
    "start_time": "2022-05-12T19:14:16.572Z"
   },
   {
    "duration": 46,
    "start_time": "2022-05-12T19:14:16.585Z"
   },
   {
    "duration": 12,
    "start_time": "2022-05-12T19:14:16.632Z"
   },
   {
    "duration": 14,
    "start_time": "2022-05-12T19:14:16.645Z"
   },
   {
    "duration": 17,
    "start_time": "2022-05-12T19:14:16.661Z"
   },
   {
    "duration": 280,
    "start_time": "2022-05-12T19:14:16.680Z"
   },
   {
    "duration": 352,
    "start_time": "2022-05-12T19:14:16.961Z"
   },
   {
    "duration": 202,
    "start_time": "2022-05-12T19:14:17.315Z"
   },
   {
    "duration": 304,
    "start_time": "2022-05-12T19:14:17.518Z"
   },
   {
    "duration": 226,
    "start_time": "2022-05-12T19:14:17.824Z"
   },
   {
    "duration": 365,
    "start_time": "2022-05-12T19:14:18.051Z"
   },
   {
    "duration": 0,
    "start_time": "2022-05-12T19:14:18.418Z"
   },
   {
    "duration": 0,
    "start_time": "2022-05-12T19:14:18.419Z"
   },
   {
    "duration": 0,
    "start_time": "2022-05-12T19:14:18.420Z"
   },
   {
    "duration": 0,
    "start_time": "2022-05-12T19:14:18.421Z"
   },
   {
    "duration": 0,
    "start_time": "2022-05-12T19:14:18.422Z"
   },
   {
    "duration": 0,
    "start_time": "2022-05-12T19:14:18.424Z"
   },
   {
    "duration": 0,
    "start_time": "2022-05-12T19:14:18.424Z"
   },
   {
    "duration": 0,
    "start_time": "2022-05-12T19:14:18.425Z"
   },
   {
    "duration": 0,
    "start_time": "2022-05-12T19:14:18.427Z"
   },
   {
    "duration": 0,
    "start_time": "2022-05-12T19:14:18.427Z"
   },
   {
    "duration": 0,
    "start_time": "2022-05-12T19:14:18.428Z"
   },
   {
    "duration": 0,
    "start_time": "2022-05-12T19:14:18.429Z"
   },
   {
    "duration": 205,
    "start_time": "2022-05-12T19:31:56.083Z"
   },
   {
    "duration": 240,
    "start_time": "2022-05-12T19:32:06.479Z"
   },
   {
    "duration": 212,
    "start_time": "2022-05-12T19:32:42.026Z"
   },
   {
    "duration": 225,
    "start_time": "2022-05-12T19:32:48.156Z"
   },
   {
    "duration": 309,
    "start_time": "2022-05-12T19:32:55.493Z"
   },
   {
    "duration": 141,
    "start_time": "2022-05-12T19:33:29.705Z"
   },
   {
    "duration": 305,
    "start_time": "2022-05-12T19:33:35.291Z"
   },
   {
    "duration": 168,
    "start_time": "2022-05-12T19:33:39.323Z"
   },
   {
    "duration": 170,
    "start_time": "2022-05-12T19:33:49.540Z"
   },
   {
    "duration": 155,
    "start_time": "2022-05-12T19:33:57.476Z"
   },
   {
    "duration": 12,
    "start_time": "2022-05-12T19:34:53.595Z"
   },
   {
    "duration": 16,
    "start_time": "2022-05-12T19:36:12.571Z"
   },
   {
    "duration": 13,
    "start_time": "2022-05-12T19:52:06.325Z"
   },
   {
    "duration": 9,
    "start_time": "2022-05-12T19:52:09.470Z"
   },
   {
    "duration": 13,
    "start_time": "2022-05-12T19:52:10.071Z"
   },
   {
    "duration": 210,
    "start_time": "2022-05-12T19:52:10.487Z"
   },
   {
    "duration": 6,
    "start_time": "2022-05-12T19:52:14.622Z"
   },
   {
    "duration": 254,
    "start_time": "2022-05-12T19:52:16.103Z"
   },
   {
    "duration": 237,
    "start_time": "2022-05-12T19:52:19.143Z"
   },
   {
    "duration": 5,
    "start_time": "2022-05-12T19:52:20.191Z"
   },
   {
    "duration": 14,
    "start_time": "2022-05-12T19:52:21.079Z"
   },
   {
    "duration": 201,
    "start_time": "2022-05-12T19:52:21.489Z"
   },
   {
    "duration": 30,
    "start_time": "2022-05-12T19:52:22.255Z"
   },
   {
    "duration": 184,
    "start_time": "2022-05-12T19:52:23.151Z"
   },
   {
    "duration": 15,
    "start_time": "2022-05-12T19:52:24.143Z"
   },
   {
    "duration": 304,
    "start_time": "2022-05-12T19:54:00.292Z"
   },
   {
    "duration": 278,
    "start_time": "2022-05-12T19:54:05.606Z"
   },
   {
    "duration": 293,
    "start_time": "2022-05-12T19:54:40.890Z"
   },
   {
    "duration": 21,
    "start_time": "2022-05-12T19:59:37.917Z"
   },
   {
    "duration": 9,
    "start_time": "2022-05-12T20:00:00.818Z"
   },
   {
    "duration": 10,
    "start_time": "2022-05-12T20:00:48.392Z"
   },
   {
    "duration": 9,
    "start_time": "2022-05-12T20:05:07.731Z"
   },
   {
    "duration": 8,
    "start_time": "2022-05-12T20:05:12.299Z"
   },
   {
    "duration": 26,
    "start_time": "2022-05-12T20:09:40.639Z"
   },
   {
    "duration": 13,
    "start_time": "2022-05-12T20:29:20.938Z"
   },
   {
    "duration": 14,
    "start_time": "2022-05-12T20:30:24.635Z"
   },
   {
    "duration": 14,
    "start_time": "2022-05-12T20:30:58.415Z"
   },
   {
    "duration": 14,
    "start_time": "2022-05-12T20:31:19.745Z"
   },
   {
    "duration": 6,
    "start_time": "2022-05-12T20:33:41.120Z"
   },
   {
    "duration": 165,
    "start_time": "2022-05-12T20:34:17.064Z"
   },
   {
    "duration": 5,
    "start_time": "2022-05-12T20:34:18.999Z"
   },
   {
    "duration": 241,
    "start_time": "2022-05-12T20:34:23.904Z"
   },
   {
    "duration": 367,
    "start_time": "2022-05-12T20:34:25.105Z"
   },
   {
    "duration": 5,
    "start_time": "2022-05-12T20:34:27.592Z"
   },
   {
    "duration": 4,
    "start_time": "2022-05-12T20:34:46.376Z"
   },
   {
    "duration": 34,
    "start_time": "2022-05-12T20:34:46.383Z"
   },
   {
    "duration": 4,
    "start_time": "2022-05-12T20:34:46.419Z"
   },
   {
    "duration": 52,
    "start_time": "2022-05-12T20:34:46.425Z"
   },
   {
    "duration": 14,
    "start_time": "2022-05-12T20:34:46.480Z"
   },
   {
    "duration": 26,
    "start_time": "2022-05-12T20:34:46.496Z"
   },
   {
    "duration": 12,
    "start_time": "2022-05-12T20:34:46.524Z"
   },
   {
    "duration": 38,
    "start_time": "2022-05-12T20:34:46.537Z"
   },
   {
    "duration": 18,
    "start_time": "2022-05-12T20:34:46.580Z"
   },
   {
    "duration": 474,
    "start_time": "2022-05-12T20:34:46.600Z"
   },
   {
    "duration": 358,
    "start_time": "2022-05-12T20:34:47.076Z"
   },
   {
    "duration": 295,
    "start_time": "2022-05-12T20:34:47.436Z"
   },
   {
    "duration": 372,
    "start_time": "2022-05-12T20:34:47.733Z"
   },
   {
    "duration": 248,
    "start_time": "2022-05-12T20:34:48.108Z"
   },
   {
    "duration": 376,
    "start_time": "2022-05-12T20:34:48.358Z"
   },
   {
    "duration": 7,
    "start_time": "2022-05-12T20:34:48.736Z"
   },
   {
    "duration": 28,
    "start_time": "2022-05-12T20:34:48.745Z"
   },
   {
    "duration": 150,
    "start_time": "2022-05-12T20:34:48.775Z"
   },
   {
    "duration": 5,
    "start_time": "2022-05-12T20:34:48.927Z"
   },
   {
    "duration": 186,
    "start_time": "2022-05-12T20:34:48.934Z"
   },
   {
    "duration": 247,
    "start_time": "2022-05-12T20:34:49.122Z"
   },
   {
    "duration": 11,
    "start_time": "2022-05-12T20:34:49.372Z"
   },
   {
    "duration": 25,
    "start_time": "2022-05-12T20:34:49.388Z"
   },
   {
    "duration": 223,
    "start_time": "2022-05-12T20:34:49.415Z"
   },
   {
    "duration": 38,
    "start_time": "2022-05-12T20:34:49.639Z"
   },
   {
    "duration": 178,
    "start_time": "2022-05-12T20:34:49.681Z"
   },
   {
    "duration": 19,
    "start_time": "2022-05-12T20:34:49.861Z"
   },
   {
    "duration": 23,
    "start_time": "2022-05-12T20:34:49.882Z"
   },
   {
    "duration": 10,
    "start_time": "2022-05-12T20:34:49.907Z"
   },
   {
    "duration": 25,
    "start_time": "2022-05-12T20:34:49.918Z"
   },
   {
    "duration": 41,
    "start_time": "2022-05-12T20:34:49.945Z"
   },
   {
    "duration": 13,
    "start_time": "2022-05-12T20:37:30.283Z"
   },
   {
    "duration": 159,
    "start_time": "2022-05-12T20:37:41.809Z"
   },
   {
    "duration": 148,
    "start_time": "2022-05-12T20:38:08.683Z"
   },
   {
    "duration": 200,
    "start_time": "2022-05-12T20:38:16.303Z"
   },
   {
    "duration": 30,
    "start_time": "2022-05-12T20:55:43.454Z"
   },
   {
    "duration": 32,
    "start_time": "2022-05-12T20:56:00.005Z"
   },
   {
    "duration": 28,
    "start_time": "2022-05-12T20:56:09.494Z"
   },
   {
    "duration": 26,
    "start_time": "2022-05-12T20:56:15.751Z"
   },
   {
    "duration": 41,
    "start_time": "2022-05-12T20:56:28.409Z"
   },
   {
    "duration": 24,
    "start_time": "2022-05-12T20:56:53.244Z"
   },
   {
    "duration": 71,
    "start_time": "2022-05-14T13:00:09.371Z"
   },
   {
    "duration": 1839,
    "start_time": "2022-05-14T13:00:14.685Z"
   },
   {
    "duration": 57,
    "start_time": "2022-05-14T13:00:16.528Z"
   },
   {
    "duration": 6,
    "start_time": "2022-05-14T13:00:16.588Z"
   },
   {
    "duration": 62,
    "start_time": "2022-05-14T13:00:16.624Z"
   },
   {
    "duration": 44,
    "start_time": "2022-05-14T13:00:16.689Z"
   },
   {
    "duration": 37,
    "start_time": "2022-05-14T13:00:16.736Z"
   },
   {
    "duration": 53,
    "start_time": "2022-05-14T13:00:16.776Z"
   },
   {
    "duration": 26,
    "start_time": "2022-05-14T13:00:16.832Z"
   },
   {
    "duration": 18,
    "start_time": "2022-05-14T13:00:16.860Z"
   },
   {
    "duration": 510,
    "start_time": "2022-05-14T13:00:16.883Z"
   },
   {
    "duration": 714,
    "start_time": "2022-05-14T13:00:17.397Z"
   },
   {
    "duration": 22,
    "start_time": "2022-05-14T13:00:18.113Z"
   },
   {
    "duration": 377,
    "start_time": "2022-05-14T13:00:18.137Z"
   },
   {
    "duration": 466,
    "start_time": "2022-05-14T13:00:18.523Z"
   },
   {
    "duration": 390,
    "start_time": "2022-05-14T13:00:18.992Z"
   },
   {
    "duration": 469,
    "start_time": "2022-05-14T13:00:19.385Z"
   },
   {
    "duration": 10,
    "start_time": "2022-05-14T13:00:19.857Z"
   },
   {
    "duration": 17,
    "start_time": "2022-05-14T13:00:19.869Z"
   },
   {
    "duration": 299,
    "start_time": "2022-05-14T13:00:19.888Z"
   },
   {
    "duration": 7,
    "start_time": "2022-05-14T13:00:20.191Z"
   },
   {
    "duration": 275,
    "start_time": "2022-05-14T13:00:20.224Z"
   },
   {
    "duration": 376,
    "start_time": "2022-05-14T13:00:20.502Z"
   },
   {
    "duration": 7,
    "start_time": "2022-05-14T13:00:20.880Z"
   },
   {
    "duration": 49,
    "start_time": "2022-05-14T13:00:20.890Z"
   },
   {
    "duration": 354,
    "start_time": "2022-05-14T13:00:20.942Z"
   },
   {
    "duration": 63,
    "start_time": "2022-05-14T13:00:21.299Z"
   },
   {
    "duration": 368,
    "start_time": "2022-05-14T13:00:21.365Z"
   },
   {
    "duration": 18,
    "start_time": "2022-05-14T13:00:21.738Z"
   },
   {
    "duration": 16,
    "start_time": "2022-05-14T13:00:21.759Z"
   },
   {
    "duration": 56,
    "start_time": "2022-05-14T13:00:21.778Z"
   },
   {
    "duration": 51,
    "start_time": "2022-05-14T13:00:21.837Z"
   },
   {
    "duration": 47,
    "start_time": "2022-05-14T13:00:21.890Z"
   },
   {
    "duration": 87,
    "start_time": "2022-05-15T20:35:16.290Z"
   },
   {
    "duration": 106,
    "start_time": "2022-05-15T20:35:22.277Z"
   },
   {
    "duration": 26,
    "start_time": "2022-05-15T20:35:30.521Z"
   },
   {
    "duration": 18,
    "start_time": "2022-05-15T20:35:48.618Z"
   },
   {
    "duration": 18,
    "start_time": "2022-05-15T20:36:06.355Z"
   },
   {
    "duration": 18,
    "start_time": "2022-05-15T20:36:24.614Z"
   },
   {
    "duration": 95,
    "start_time": "2022-05-15T20:36:51.859Z"
   },
   {
    "duration": 25,
    "start_time": "2022-05-15T20:37:02.579Z"
   }
  ],
  "kernelspec": {
   "display_name": "Python 3 (ipykernel)",
   "language": "python",
   "name": "python3"
  },
  "language_info": {
   "codemirror_mode": {
    "name": "ipython",
    "version": 3
   },
   "file_extension": ".py",
   "mimetype": "text/x-python",
   "name": "python",
   "nbconvert_exporter": "python",
   "pygments_lexer": "ipython3",
   "version": "3.9.7"
  },
  "toc": {
   "base_numbering": 1,
   "nav_menu": {},
   "number_sections": true,
   "sideBar": true,
   "skip_h1_title": true,
   "title_cell": "Table of Contents",
   "title_sidebar": "Contents",
   "toc_cell": false,
   "toc_position": {},
   "toc_section_display": true,
   "toc_window_display": false
  }
 },
 "nbformat": 4,
 "nbformat_minor": 2
}
