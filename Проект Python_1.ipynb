{
 "cells": [
  {
   "cell_type": "markdown",
   "id": "68c1876e",
   "metadata": {},
   "source": [
    "<div style=\"border:solid Chocolate 2px; padding: 40px\">\n",
    "\n",
    "<b>Привет!</b>\n",
    "\n",
    "Меня зовут Дмитрий Михаленко, я буду ревьюером твоего проекта. Если ты не против, то предлагаю построить наше общение на \"ты\" ;) Если удобнее на \"вы\", то нет проблем, только скажи об этом. \n",
    "\n",
    "Ниже в работе ты найдешь мои комментарии - **пожалуйста, не перемещай, не изменяй и не удаляй их**.\n",
    "    \n",
    "Для наглядности я буду использовать цветовую разметку:\n",
    "<font color='green'>зеленого</font>, <font color='gold'>желтого</font> и <font color='red'>красного</font> цветов. Сейчас объясню, что они значат:\n",
    "\n",
    "<br/>\n",
    "\n",
    "<div class=\"alert alert-success\">\n",
    "<h2> Комментарий ревьюера <a class=\"tocSkip\"> </h2>\n",
    "\n",
    "<b>Все супер!👍:</b> Решение на этом шаге является полностью правильным.\n",
    "</div>\n",
    "\n",
    "<br/>\n",
    "\n",
    "<div class=\"alert alert-warning\">\n",
    "    <h2> Комментарий ревьюера <a class=\"tocSkip\"> </h2>\n",
    "    \n",
    "<b>Небольшие замечания и рекомендации💡:</b> Решение на этом шаге может стать еще лучше, если внести небольшие коррективы.\n",
    "Но настаивать я не буду.\n",
    "</div>\n",
    "\n",
    "\n",
    "<br/>\n",
    "<div class=\"alert alert-block alert-danger\">\n",
    "<h2> Комментарий ревьюера <a class=\"tocSkip\"></h2>\n",
    "\n",
    "    \n",
    "<b>На доработку🤔:</b>\n",
    "Для правильного решения задачи на этом шаге необходимо внести правки. Напоминаю, что проект не может быть принят, без их отработки.\n",
    "</div>\n",
    "\n",
    "Для продуктивной работы прошу: **если ты что-то меняешь в проекте или отвечаешь на мои комментарии — пиши об этом**\n",
    "Мне будет легче отследить изменения, если ты тоже выделишь свои комментарии:\n",
    "    \n",
    "<div class=\"alert alert-info\"> <b>Комментарий студента:</b> Например, вот так.</div>\n",
    "\n",
    "Всё это поможет выполнить повторную проверку твоего проекта оперативнее. \n",
    "        \n",
    "Увидев у тебя ошибку, в первый раз я лишь укажу на ее наличие и дам тебе возможность самому найти и исправить ее. На реальной работе твой начальник будет поступать так же, а я пытаюсь подготовить тебя именно к работе аналитиком. Но если ты пока не справишься с такой задачей - при следующей проверке я дам более точную подсказку."
   ]
  },
  {
   "cell_type": "markdown",
   "id": "e06910dd",
   "metadata": {
    "id": "e06910dd"
   },
   "source": [
    "# Анализ игр разных жанров\n",
    "\n",
    "- Автор: Воронкова Дарья Игоревна\n",
    "- Дата: 12.02.2025"
   ]
  },
  {
   "cell_type": "markdown",
   "id": "4149134c",
   "metadata": {
    "id": "4149134c"
   },
   "source": [
    "### Цели и задачи проекта\n",
    "\n",
    "<font color='#777778'>В этой тетрадке используем датасет new_games.csv, который содержит информацию о продажах игр разных жанров и платформ, а также пользовательские и экспертные оценки игр. При знакомстве с данными проверим корректность типов данныхБ а так же пропуски и явные и неявные дубликаты. После отчистки и удаления дубликатов по проекту будут стоять следующие задачами:\n",
    "- Категоризация игр по оценкам пользователей и экспертов;\n",
    "- Топ-7 платформ по количеству игр, выпущенных за период с 2000 по 2013 год включительно.</font>"
   ]
  },
  {
   "cell_type": "markdown",
   "id": "728986ea",
   "metadata": {
    "id": "728986ea"
   },
   "source": [
    "### Описание данных\n",
    "\n",
    " В проекте будут использованы данные датасета /datasets/new_games.csv с таким описанием::\n",
    "- Name — название игры.\n",
    "- Platform — название платформы.\n",
    "- Year of Release — год выпуска игры.\n",
    "- Genre — жанр игры.\n",
    "- NA sales — продажи в Северной Америке (в миллионах проданных копий).\n",
    "- EU sales — продажи в Европе (в миллионах проданных копий).\n",
    "- JP sales — продажи в Японии (в миллионах проданных копий).\n",
    "- Other sales — продажи в других странах (в миллионах проданных копий).\n",
    "- Critic Score — оценка критиков (от 0 до 100).\n",
    "- User Score — оценка пользователей (от 0 до 10).\n",
    "- Rating — рейтинг организации ESRB (англ. Entertainment Software Rating Board). Эта ассоциация определяет рейтинг компьютерных игр и присваивает им подходящую возрастную категорию."
   ]
  },
  {
   "cell_type": "markdown",
   "id": "4fecaf95",
   "metadata": {
    "id": "4fecaf95"
   },
   "source": [
    "### Содержимое проекта\n",
    "- [Загрузка данных и знакомство с ними](#1-bullet)\n",
    "- [Проверка ошибок в данных и их предобработка](#2-bullet)\n",
    "- [Фильтрация данных](#3-bullet)\n",
    "- [Категоризация данных](#4-bullet)\n",
    "- [Итоговые выводы](#5-bullet)\n",
    "---"
   ]
  },
  {
   "cell_type": "markdown",
   "id": "7af92f3d",
   "metadata": {},
   "source": [
    "<div class=\"alert alert-success\">\n",
    "<h2> Комментарий ревьюера v1 <a class=\"tocSkip\"> </h2>\n",
    "\n",
    "<b>Все супер!👍:</b>  Отличное введение в проект! Есть цель работы, описание исходных  данных  и содержание. \n",
    "    \n",
    "Такой детальный подход важен, чтобы твой будующий работодатель знал все ключевые моменты проекта и мог объективно оценить принимаемые тобой решения.\n",
    "    \n"
   ]
  },
  {
   "cell_type": "markdown",
   "id": "6f7d21d6",
   "metadata": {
    "id": "6f7d21d6"
   },
   "source": [
    "<a class=\"anchor\" id=\"1-bullet\"></a>\n",
    "## 1. Загрузка данных и знакомство с ними\n",
    "\n",
    "- Загрузим необходимые библиотеки для анализа данных и данные из датасета `new_games.csv`. Затем выведем основную информацию о данных с помощью метода `info()` и первые строки датафрейма.\n"
   ]
  },
  {
   "cell_type": "code",
   "execution_count": 30,
   "id": "ebb66dc5",
   "metadata": {
    "id": "ebb66dc5"
   },
   "outputs": [],
   "source": [
    "# Импортируем библиотеку pandas\n",
    "import pandas as pd\n",
    "import numpy as np\n",
    "import warnings\n",
    "warnings.filterwarnings('ignore')"
   ]
  },
  {
   "cell_type": "code",
   "execution_count": 31,
   "id": "ce87c1db",
   "metadata": {
    "id": "ce87c1db"
   },
   "outputs": [],
   "source": [
    "# Выгружаем данные из датасета new_games.csv в датафрейм games\n",
    "games = pd.read_csv('https://code.s3.yandex.net/datasets/new_games.csv')"
   ]
  },
  {
   "cell_type": "markdown",
   "id": "e0a8705f",
   "metadata": {
    "id": "e0a8705f"
   },
   "source": [
    "- Познакомьтесь с данными: выведите первые строки и результат метода `info()`.\n"
   ]
  },
  {
   "cell_type": "code",
   "execution_count": 32,
   "id": "3937acf7",
   "metadata": {
    "id": "3937acf7"
   },
   "outputs": [
    {
     "name": "stdout",
     "output_type": "stream",
     "text": [
      "<class 'pandas.core.frame.DataFrame'>\n",
      "RangeIndex: 16956 entries, 0 to 16955\n",
      "Data columns (total 11 columns):\n",
      " #   Column           Non-Null Count  Dtype  \n",
      "---  ------           --------------  -----  \n",
      " 0   Name             16954 non-null  object \n",
      " 1   Platform         16956 non-null  object \n",
      " 2   Year of Release  16681 non-null  float64\n",
      " 3   Genre            16954 non-null  object \n",
      " 4   NA sales         16956 non-null  float64\n",
      " 5   EU sales         16956 non-null  object \n",
      " 6   JP sales         16956 non-null  object \n",
      " 7   Other sales      16956 non-null  float64\n",
      " 8   Critic Score     8242 non-null   float64\n",
      " 9   User Score       10152 non-null  object \n",
      " 10  Rating           10085 non-null  object \n",
      "dtypes: float64(4), object(7)\n",
      "memory usage: 1.4+ MB\n"
     ]
    }
   ],
   "source": [
    "# Выводим информацию о датафрейме\n",
    "games.info()"
   ]
  },
  {
   "cell_type": "code",
   "execution_count": 33,
   "id": "d7c8eb4b",
   "metadata": {
    "id": "d7c8eb4b"
   },
   "outputs": [
    {
     "data": {
      "text/html": [
       "<div>\n",
       "<style scoped>\n",
       "    .dataframe tbody tr th:only-of-type {\n",
       "        vertical-align: middle;\n",
       "    }\n",
       "\n",
       "    .dataframe tbody tr th {\n",
       "        vertical-align: top;\n",
       "    }\n",
       "\n",
       "    .dataframe thead th {\n",
       "        text-align: right;\n",
       "    }\n",
       "</style>\n",
       "<table border=\"1\" class=\"dataframe\">\n",
       "  <thead>\n",
       "    <tr style=\"text-align: right;\">\n",
       "      <th></th>\n",
       "      <th>Name</th>\n",
       "      <th>Platform</th>\n",
       "      <th>Year of Release</th>\n",
       "      <th>Genre</th>\n",
       "      <th>NA sales</th>\n",
       "      <th>EU sales</th>\n",
       "      <th>JP sales</th>\n",
       "      <th>Other sales</th>\n",
       "      <th>Critic Score</th>\n",
       "      <th>User Score</th>\n",
       "      <th>Rating</th>\n",
       "    </tr>\n",
       "  </thead>\n",
       "  <tbody>\n",
       "    <tr>\n",
       "      <th>0</th>\n",
       "      <td>Wii Sports</td>\n",
       "      <td>Wii</td>\n",
       "      <td>2006.0</td>\n",
       "      <td>Sports</td>\n",
       "      <td>41.36</td>\n",
       "      <td>28.96</td>\n",
       "      <td>3.77</td>\n",
       "      <td>8.45</td>\n",
       "      <td>76.0</td>\n",
       "      <td>8</td>\n",
       "      <td>E</td>\n",
       "    </tr>\n",
       "    <tr>\n",
       "      <th>1</th>\n",
       "      <td>Super Mario Bros.</td>\n",
       "      <td>NES</td>\n",
       "      <td>1985.0</td>\n",
       "      <td>Platform</td>\n",
       "      <td>29.08</td>\n",
       "      <td>3.58</td>\n",
       "      <td>6.81</td>\n",
       "      <td>0.77</td>\n",
       "      <td>NaN</td>\n",
       "      <td>NaN</td>\n",
       "      <td>NaN</td>\n",
       "    </tr>\n",
       "    <tr>\n",
       "      <th>2</th>\n",
       "      <td>Mario Kart Wii</td>\n",
       "      <td>Wii</td>\n",
       "      <td>2008.0</td>\n",
       "      <td>Racing</td>\n",
       "      <td>15.68</td>\n",
       "      <td>12.76</td>\n",
       "      <td>3.79</td>\n",
       "      <td>3.29</td>\n",
       "      <td>82.0</td>\n",
       "      <td>8.3</td>\n",
       "      <td>E</td>\n",
       "    </tr>\n",
       "    <tr>\n",
       "      <th>3</th>\n",
       "      <td>Wii Sports Resort</td>\n",
       "      <td>Wii</td>\n",
       "      <td>2009.0</td>\n",
       "      <td>Sports</td>\n",
       "      <td>15.61</td>\n",
       "      <td>10.93</td>\n",
       "      <td>3.28</td>\n",
       "      <td>2.95</td>\n",
       "      <td>80.0</td>\n",
       "      <td>8</td>\n",
       "      <td>E</td>\n",
       "    </tr>\n",
       "    <tr>\n",
       "      <th>4</th>\n",
       "      <td>Pokemon Red/Pokemon Blue</td>\n",
       "      <td>GB</td>\n",
       "      <td>1996.0</td>\n",
       "      <td>Role-Playing</td>\n",
       "      <td>11.27</td>\n",
       "      <td>8.89</td>\n",
       "      <td>10.22</td>\n",
       "      <td>1.00</td>\n",
       "      <td>NaN</td>\n",
       "      <td>NaN</td>\n",
       "      <td>NaN</td>\n",
       "    </tr>\n",
       "  </tbody>\n",
       "</table>\n",
       "</div>"
      ],
      "text/plain": [
       "                       Name Platform  Year of Release         Genre  NA sales  \\\n",
       "0                Wii Sports      Wii           2006.0        Sports     41.36   \n",
       "1         Super Mario Bros.      NES           1985.0      Platform     29.08   \n",
       "2            Mario Kart Wii      Wii           2008.0        Racing     15.68   \n",
       "3         Wii Sports Resort      Wii           2009.0        Sports     15.61   \n",
       "4  Pokemon Red/Pokemon Blue       GB           1996.0  Role-Playing     11.27   \n",
       "\n",
       "  EU sales JP sales  Other sales  Critic Score User Score Rating  \n",
       "0    28.96     3.77         8.45          76.0          8      E  \n",
       "1     3.58     6.81         0.77           NaN        NaN    NaN  \n",
       "2    12.76     3.79         3.29          82.0        8.3      E  \n",
       "3    10.93     3.28         2.95          80.0          8      E  \n",
       "4     8.89    10.22         1.00           NaN        NaN    NaN  "
      ]
     },
     "execution_count": 33,
     "metadata": {},
     "output_type": "execute_result"
    }
   ],
   "source": [
    "# Выводим первые строки датафрейма на экран\n",
    "games.head()"
   ]
  },
  {
   "cell_type": "markdown",
   "id": "26267bc0",
   "metadata": {
    "id": "26267bc0"
   },
   "source": [
    "Датасет `new_games.csv` содержит 11 столбцов и 16956 строк, в которых представлена информация о продажах игр разных жанров и платформ, а также пользовательские и экспертные оценки игр.\n",
    "\n",
    "Изучим типы данных и их корректность:\n",
    "- **Числовые значения с плавающей запятой (float64).** Четыре столбца имеют тип данных `float64`. Это `Year of Release`, `NA sales`, `Other sales `, `Critic Score `. \n",
    "    - `Year of Release` хранит данные о годе выпуска игры. Тут лучше использовать тип `int64`, однако можно уменьшить разрядность до `int32` или `int16`, если значения достаточно малы и это не повлияет на точность.\n",
    "- **Строковые данные (object).** Семь столбцов имеют тип данных `object`:\n",
    "    - `Name`, `Platform`,`Genre` и `Rating` содержат строковую информацию (название игры, платформа и жанр, а так же рейтинг организации ESRB), что логично для текстовых данных. Здесь тип данных `object` подходит.\n",
    "    - `EU sales`, `JP sales` и `User Score` хранят информацию о продажах в Европе и Японии, а так же оценку пользователей. Для таких данных рекомендуется использовать тип `float64`, который включает дробные значения и облегчит выполнение математических вычислений.\n",
    "    \n",
    "\n",
    "После анализа типов данных видно, что большинство столбцов представлены в нужном типе данных. Однако для корректной работы с данными нужно изменить формат данных."
   ]
  },
  {
   "cell_type": "markdown",
   "id": "c05b6da4",
   "metadata": {},
   "source": [
    "<div class=\"alert alert-success\">\n",
    "<h2> Комментарий ревьюера v1 <a class=\"tocSkip\"> </h2>\n",
    "\n",
    "<b>Все супер!👍:</b>  Хороший выбор методов для первичной оценки данных! Молодец, что обращаешь внимание на возможности оптимизации типов данных для этог проекта"
   ]
  },
  {
   "cell_type": "markdown",
   "id": "774bf76e",
   "metadata": {
    "id": "774bf76e"
   },
   "source": [
    "---\n",
    "<a class=\"anchor\" id=\"2-bullet\"></a>\n",
    "## 2.  Проверка ошибок в данных и их предобработка\n",
    "\n",
    "\n",
    "### 2.1. Названия, или метки, столбцов датафрейма\n",
    "\n",
    "- Выведите на экран названия всех столбцов датафрейма и проверьте их стиль написания.\n",
    "- Приведите все столбцы к стилю snake case. Названия должны быть в нижнем регистре, а вместо пробелов — подчёркивания."
   ]
  },
  {
   "cell_type": "code",
   "execution_count": 34,
   "id": "b9276a2b",
   "metadata": {
    "id": "b9276a2b"
   },
   "outputs": [
    {
     "data": {
      "text/plain": [
       "Index(['Name', 'Platform', 'Year of Release', 'Genre', 'NA sales', 'EU sales',\n",
       "       'JP sales', 'Other sales', 'Critic Score', 'User Score', 'Rating'],\n",
       "      dtype='object')"
      ]
     },
     "execution_count": 34,
     "metadata": {},
     "output_type": "execute_result"
    }
   ],
   "source": [
    "# Выводим название всех столбцов в датафрейме:\n",
    "games.columns"
   ]
  },
  {
   "cell_type": "code",
   "execution_count": 39,
   "id": "d554563c",
   "metadata": {
    "id": "d554563c"
   },
   "outputs": [],
   "source": [
    "# Приведем название всех столбцов в датафрейме  к стилю snake case:\n",
    "games.columns=games.columns.str.lower().str.replace(' ', '_')"
   ]
  },
  {
   "cell_type": "markdown",
   "id": "13a54dac",
   "metadata": {},
   "source": [
    "Все столбцы приведены к стилю snake case и перезаписаны в датафрейм new_games.csv. Названия в нижнем регистре, а вместо пробелов — подчёркивания."
   ]
  },
  {
   "cell_type": "markdown",
   "id": "3db64984",
   "metadata": {},
   "source": [
    "<div class=\"alert alert-warning\">\n",
    "    <h2> Комментарий ревьюера v1 <a class=\"tocSkip\"> </h2>\n",
    "    \n",
    "<b>Небольшие замечания и рекомендации💡:</b>  Полезная привычка следовать \"змеиному стилю\". Можно для этого также использовать цепочный метод `games.columns.str.lower().str.replace(' ', '_')`"
   ]
  },
  {
   "cell_type": "markdown",
   "id": "a891a6de",
   "metadata": {},
   "source": [
    "<div class=\"alert alert-info\"> <b>Комментарий:</b> Внесла изменения в код.</div>"
   ]
  },
  {
   "cell_type": "markdown",
   "id": "1b090902",
   "metadata": {},
   "source": [
    "<div class=\"alert alert-success\">\n",
    "<h2> Комментарий ревьюера v2 <a class=\"tocSkip\"> </h2>\n",
    "\n",
    "<b>Все супер!👍:</b>Рад, что эта идея показалась тебе полезной)"
   ]
  },
  {
   "cell_type": "markdown",
   "id": "41bc6bf8",
   "metadata": {
    "id": "41bc6bf8"
   },
   "source": [
    "### 2.2. Типы данных\n",
    "\n",
    "- Если встречаются некорректные типы данных, предположите их причины.\n",
    "- При необходимости проведите преобразование типов данных. Помните, что столбцы с числовыми данными и пропусками нельзя преобразовать к типу `int64`. Сначала вам понадобится обработать пропуски, а затем преобразовать типы данных."
   ]
  },
  {
   "cell_type": "code",
   "execution_count": 41,
   "id": "1f9d3495",
   "metadata": {},
   "outputs": [],
   "source": [
    "# Сохраняем общее количество строк датафрейма для дальнейшего анализа\n",
    "games_lines = games.shape[0]"
   ]
  },
  {
   "cell_type": "code",
   "execution_count": 42,
   "id": "8adaac81",
   "metadata": {
    "id": "8adaac81"
   },
   "outputs": [],
   "source": [
    "# Приобразуем тип данных у колонки 'year_of_release'к типу 'int64' и уменьшим разрядность и удалим пропуски:\n",
    "games = games.dropna(subset=['year_of_release'])\n",
    "games['year_of_release'] = games['year_of_release'].astype ('int64')\n",
    "games['year_of_release'] = pd.to_numeric(games['year_of_release'], downcast='integer')"
   ]
  },
  {
   "cell_type": "markdown",
   "id": "a83c683a",
   "metadata": {},
   "source": [
    "У колонки `year_of_release` изначальный тип данных был `float64`. Причины неккорекного типа данных возможна была в том, что тип `float64` занимает меньше  памяти. Либо при сборе данных была допущена ошибка записи данных. Для того, чтобы преобразовать колонку `year_of_release` вначале пришлось удалить пропушенные значения, т.к. всего 1,62% данных были пропущены. Так же для экономии памяти тип данных `int64` был преобразован в тип `int16` "
   ]
  },
  {
   "cell_type": "markdown",
   "id": "63378edf",
   "metadata": {
    "id": "63378edf"
   },
   "source": [
    "- В числовых столбцах могут встретиться строковые значения, например `unknown` или другие. Приводите такие столбцы к числовому типу данных, заменив строковые значения на пропуски."
   ]
  },
  {
   "cell_type": "code",
   "execution_count": 43,
   "id": "5033ee32",
   "metadata": {
    "id": "5033ee32"
   },
   "outputs": [],
   "source": [
    "# Приобразуем тип данных у колонок 'eu_sales', 'jp_sales', 'user_score'к типу 'float64':\n",
    "games[['eu_sales', 'jp_sales', 'user_score']] = games[['eu_sales', 'jp_sales', 'user_score']].replace ('unknown', np.nan)\n",
    "games[['eu_sales', 'jp_sales', 'user_score']] = games[['eu_sales', 'jp_sales', 'user_score']].replace ('tbd', np.nan)\n",
    "games[['eu_sales', 'jp_sales', 'user_score']] = games[['eu_sales', 'jp_sales', 'user_score']].astype ('float64')"
   ]
  },
  {
   "cell_type": "code",
   "execution_count": 44,
   "id": "3a26fb26",
   "metadata": {
    "id": "3a26fb26"
   },
   "outputs": [
    {
     "name": "stdout",
     "output_type": "stream",
     "text": [
      "<class 'pandas.core.frame.DataFrame'>\n",
      "Int64Index: 16681 entries, 0 to 16955\n",
      "Data columns (total 11 columns):\n",
      " #   Column           Non-Null Count  Dtype  \n",
      "---  ------           --------------  -----  \n",
      " 0   name             16679 non-null  object \n",
      " 1   platform         16681 non-null  object \n",
      " 2   year_of_release  16681 non-null  int16  \n",
      " 3   genre            16679 non-null  object \n",
      " 4   na_sales         16681 non-null  float64\n",
      " 5   eu_sales         16675 non-null  float64\n",
      " 6   jp_sales         16677 non-null  float64\n",
      " 7   other_sales      16681 non-null  float64\n",
      " 8   critic_score     8085 non-null   float64\n",
      " 9   user_score       7558 non-null   float64\n",
      " 10  rating           9901 non-null   object \n",
      "dtypes: float64(6), int16(1), object(4)\n",
      "memory usage: 1.4+ MB\n"
     ]
    }
   ],
   "source": [
    "games.info()"
   ]
  },
  {
   "cell_type": "markdown",
   "id": "217948d0",
   "metadata": {
    "id": "11003d69"
   },
   "source": [
    "У колонок `eu_sales`, `jp_sales`, `user_score` преобразовали тип данных к типу `float64`. Некорректные типы данных были связаны с тем, что в этих столбцах присутствовали строкоые значения. Данные значения были заменены на 'Nan' для корректного преобразования к нужному типу данных"
   ]
  },
  {
   "cell_type": "markdown",
   "id": "f09d101c",
   "metadata": {},
   "source": [
    "<div class=\"alert alert-success\">\n",
    "<h2> Комментарий ревьюера v1 <a class=\"tocSkip\"> </h2>\n",
    "\n",
    "<b>Все супер!👍:</b> Последовательная и качественная работа с преобразованием типов данных, молодец!"
   ]
  },
  {
   "cell_type": "markdown",
   "id": "b39893cb",
   "metadata": {
    "id": "b39893cb"
   },
   "source": [
    "### 2.3. Наличие пропусков в данных\n",
    "\n",
    "- Посчитайте количество пропусков в каждом столбце в абсолютных и относительных значениях.\n"
   ]
  },
  {
   "cell_type": "code",
   "execution_count": 51,
   "id": "0f1c91a8",
   "metadata": {
    "id": "0f1c91a8"
   },
   "outputs": [
    {
     "data": {
      "text/plain": [
       "user_score         9123\n",
       "critic_score       8596\n",
       "rating             6780\n",
       "eu_sales              6\n",
       "jp_sales              4\n",
       "name                  2\n",
       "genre                 2\n",
       "platform              0\n",
       "year_of_release       0\n",
       "na_sales              0\n",
       "other_sales           0\n",
       "dtype: int64"
      ]
     },
     "execution_count": 51,
     "metadata": {},
     "output_type": "execute_result"
    }
   ],
   "source": [
    "# Выводим количество пропущенных строк в датафрейме\n",
    "games.isna().sum().sort_values(ascending=False)"
   ]
  },
  {
   "cell_type": "code",
   "execution_count": 52,
   "id": "86cd1cc1",
   "metadata": {
    "id": "86cd1cc1"
   },
   "outputs": [
    {
     "data": {
      "text/plain": [
       "user_score         0.546910\n",
       "critic_score       0.515317\n",
       "rating             0.406450\n",
       "eu_sales           0.000360\n",
       "jp_sales           0.000240\n",
       "name               0.000120\n",
       "genre              0.000120\n",
       "platform           0.000000\n",
       "year_of_release    0.000000\n",
       "na_sales           0.000000\n",
       "other_sales        0.000000\n",
       "dtype: float64"
      ]
     },
     "execution_count": 52,
     "metadata": {},
     "output_type": "execute_result"
    }
   ],
   "source": [
    "# Подсчитываем процент строк с пропусками\n",
    "games.isna().mean().sort_values(ascending=False)"
   ]
  },
  {
   "cell_type": "markdown",
   "id": "df0a1ca0",
   "metadata": {},
   "source": [
    "<div class=\"alert alert-warning\">\n",
    "    <h2> Комментарий ревьюера v1 <a class=\"tocSkip\"> </h2>\n",
    "    \n",
    "<b>Небольшие замечания и рекомендации💡:</b> Отличная идея изучать, не только количество, но и доли пропусков! Предложу как  сделать это немного лаконичнее: использовать метод `mean()` после вызова `isna()` \n",
    "        \n",
    "Также, полезно применять для таких таблиц сортировку методом `sort_values()`"
   ]
  },
  {
   "cell_type": "markdown",
   "id": "8a754f17",
   "metadata": {},
   "source": [
    "<div class=\"alert alert-info\"> <b>Комментарий:</b> Поменяла формулу.</div>"
   ]
  },
  {
   "cell_type": "markdown",
   "id": "cf796f51",
   "metadata": {
    "id": "cf796f51"
   },
   "source": [
    "В колонах `name`, `genre`, `eu_sales` и `jp_sales`  пропушенных значений не более 6 шт. Эти пропуски могли возникнуть из-за человеческого фактора, т.к. процент этих пропусков очень мал (0,01%) данные в этих столбцах можно просто удалить.  \n",
    "В колонах `critic_score `, `user_score` и `rating` отсутсвует более 50% данных. Данный тип пропусков относится к группе MNAR.\n",
    "Эти пропуски не случайны, но связаны с факторами, которых нет в наборе данных. К ним могут относиться и сами пропущенные значения.\n",
    "Заполним пропуски `critic_score `, `user_score` с помощью значения-индикатора. В качестве значения выберем -1, т.к. это значение не встречается внаборе данных. `rating` оставим без изменений, т.к. в анализе данных он не принимает участие."
   ]
  },
  {
   "cell_type": "markdown",
   "id": "bbbe3bda",
   "metadata": {
    "id": "bbbe3bda"
   },
   "source": [
    "- Обработайте пропущенные значения. Для каждого случая вы можете выбрать оптимальный, на ваш взгляд, вариант: заменить на определённое значение, оставить как есть или удалить.\n",
    "- Если вы решите заменить пропуски на значение-индикатор, то убедитесь, что предложенное значение не может быть использовано в данных.\n",
    "- Если вы нашли пропуски в данных с количеством проданных копий игры в том или ином регионе, их можно заменить на среднее значение в зависимости от названия платформы и года выхода игры."
   ]
  },
  {
   "cell_type": "code",
   "execution_count": 55,
   "id": "154be65d",
   "metadata": {
    "id": "154be65d"
   },
   "outputs": [],
   "source": [
    "# Удалим пропуски у колонок 'name','genre', 'eu_sales' и 'jp_sales' :\n",
    "games = games.dropna(subset=['name', 'genre', 'eu_sales', 'jp_sales'])"
   ]
  },
  {
   "cell_type": "markdown",
   "id": "2bfe69a9",
   "metadata": {},
   "source": [
    "<div class=\"alert alert-success\">\n",
    "<h2> Комментарий ревьюера v1 <a class=\"tocSkip\"> </h2>\n",
    "\n",
    "<b>Все супер!👍:</b>Согласен, небольшой объем данных вполне можно удалить"
   ]
  },
  {
   "cell_type": "code",
   "execution_count": 59,
   "id": "3f42817b",
   "metadata": {
    "id": "3f42817b"
   },
   "outputs": [],
   "source": [
    "#В колонах 'critic_score'и 'user_score' заменим пропуски на значение индикатор:\n",
    "games [['critic_score','user_score']]=games [['critic_score','user_score']].fillna(-1)"
   ]
  },
  {
   "cell_type": "markdown",
   "id": "a9477a19",
   "metadata": {},
   "source": [
    "<div class=\"alert alert-block alert-danger\">\n",
    "<h2> Комментарий ревьюера v1<a class=\"tocSkip\"></h2>\n",
    "\n",
    "<b>На доработку🤔:</b> Дарья, функции реализовала классно! Но не уверен, что такая замена не внесет искажений. Игровая сфера, во многом зависит от бюджета проекта и успешности его рекламы. Сложно учитывать из чего будут складываться оценки игры, это и жанр с платформой, как ты справедливо заметила, так и год релиза и охват аудитории.\n",
    "    \n",
    "Предлагаю в этом вопросе остановиться на \"заглушках\""
   ]
  },
  {
   "cell_type": "markdown",
   "id": "d0c6b218",
   "metadata": {},
   "source": [
    "<div class=\"alert alert-info\"> <b>Комментарий:</b> Произвела замену на значение индикатор -1.</div>"
   ]
  },
  {
   "cell_type": "markdown",
   "id": "8fddf1a7",
   "metadata": {},
   "source": [
    "<div class=\"alert alert-success\">\n",
    "<h2> Комментарий ревьюера v2 <a class=\"tocSkip\"> </h2>\n",
    "\n",
    "<b>Все супер!👍:</b>Практичное решение, обращу внимание, что при работе с \"заглушками\" важно не забывать убирать их перед расчетом статистичнских показателей, чтобы не внести искажения"
   ]
  },
  {
   "cell_type": "code",
   "execution_count": 61,
   "id": "2784c760",
   "metadata": {
    "id": "2784c760",
    "scrolled": true
   },
   "outputs": [
    {
     "name": "stdout",
     "output_type": "stream",
     "text": [
      "<class 'pandas.core.frame.DataFrame'>\n",
      "Int64Index: 16669 entries, 0 to 16955\n",
      "Data columns (total 11 columns):\n",
      " #   Column           Non-Null Count  Dtype  \n",
      "---  ------           --------------  -----  \n",
      " 0   name             16669 non-null  object \n",
      " 1   platform         16669 non-null  object \n",
      " 2   year_of_release  16669 non-null  int16  \n",
      " 3   genre            16669 non-null  object \n",
      " 4   na_sales         16669 non-null  float64\n",
      " 5   eu_sales         16669 non-null  float64\n",
      " 6   jp_sales         16669 non-null  float64\n",
      " 7   other_sales      16669 non-null  float64\n",
      " 8   critic_score     16669 non-null  float64\n",
      " 9   user_score       16669 non-null  float64\n",
      " 10  rating           9892 non-null   object \n",
      "dtypes: float64(6), int16(1), object(4)\n",
      "memory usage: 1.4+ MB\n"
     ]
    }
   ],
   "source": [
    "games.info()"
   ]
  },
  {
   "cell_type": "markdown",
   "id": "8e6a5c52",
   "metadata": {},
   "source": [
    "Для дальнейшего анализа данные частично подготовлены. Осталось отчистить данные от дубликатов и приступить к исследованию "
   ]
  },
  {
   "cell_type": "markdown",
   "id": "a63363fd",
   "metadata": {
    "id": "a63363fd"
   },
   "source": [
    "### 2.4. Явные и неявные дубликаты в данных\n",
    "\n",
    "- Изучите уникальные значения в категориальных данных, например с названиями жанра игры, платформы, рейтинга и года выпуска. Проверьте, встречаются ли среди данных неявные дубликаты, связанные с опечатками или разным способом написания.\n",
    "- При необходимости проведите нормализацию данных с текстовыми значениями. Названия или жанры игр можно привести к нижнему регистру, а названия рейтинга — к верхнему."
   ]
  },
  {
   "cell_type": "code",
   "execution_count": 62,
   "id": "491c9c39",
   "metadata": {
    "id": "491c9c39"
   },
   "outputs": [
    {
     "name": "stdout",
     "output_type": "stream",
     "text": [
      "11422\n"
     ]
    }
   ],
   "source": [
    "# Найдем уникальные значения в таких колонках, как 'name','genre','platform' и 'year_of_release':\n",
    "unique_name = games['name'].nunique() \n",
    "print (unique_name)"
   ]
  },
  {
   "cell_type": "code",
   "execution_count": 63,
   "id": "f1627198",
   "metadata": {
    "id": "f1627198"
   },
   "outputs": [
    {
     "name": "stdout",
     "output_type": "stream",
     "text": [
      "['Sports' 'Platform' 'Racing' 'Role-Playing' 'Puzzle' 'Misc' 'Shooter'\n",
      " 'Simulation' 'Action' 'Fighting' 'Adventure' 'Strategy' 'MISC'\n",
      " 'ROLE-PLAYING' 'RACING' 'ACTION' 'SHOOTER' 'FIGHTING' 'SPORTS' 'PLATFORM'\n",
      " 'ADVENTURE' 'SIMULATION' 'PUZZLE' 'STRATEGY']\n"
     ]
    }
   ],
   "source": [
    "unique_genre = games['genre'].unique() \n",
    "print (unique_genre)"
   ]
  },
  {
   "cell_type": "code",
   "execution_count": 64,
   "id": "a0cac80c",
   "metadata": {
    "id": "a0cac80c"
   },
   "outputs": [
    {
     "name": "stdout",
     "output_type": "stream",
     "text": [
      "['Wii' 'NES' 'GB' 'DS' 'X360' 'PS3' 'PS2' 'SNES' 'GBA' 'PS4' '3DS' 'N64'\n",
      " 'PS' 'XB' 'PC' '2600' 'PSP' 'XOne' 'WiiU' 'GC' 'GEN' 'DC' 'PSV' 'SAT'\n",
      " 'SCD' 'WS' 'NG' 'TG16' '3DO' 'GG' 'PCFX']\n"
     ]
    }
   ],
   "source": [
    "unique_platform = games['platform'].unique()\n",
    "print (unique_platform)"
   ]
  },
  {
   "cell_type": "code",
   "execution_count": 65,
   "id": "927e45b0",
   "metadata": {},
   "outputs": [
    {
     "name": "stdout",
     "output_type": "stream",
     "text": [
      "[2006 1985 2008 2009 1996 1989 1984 2005 1999 2007 2010 2013 2004 1990\n",
      " 1988 2002 2001 2011 1998 2015 2012 2014 1992 1997 1993 1994 1982 2016\n",
      " 2003 1986 2000 1995 1991 1981 1987 1980 1983]\n"
     ]
    }
   ],
   "source": [
    "unique_year = games['year_of_release'].unique()\n",
    "print (unique_year)"
   ]
  },
  {
   "cell_type": "code",
   "execution_count": 66,
   "id": "f45cbf45",
   "metadata": {},
   "outputs": [],
   "source": [
    "# Проведем нормализацию данных и приведем текстовые значения к нижнему регистру:\n",
    "games['genre'] = games['genre'].str.lower() "
   ]
  },
  {
   "cell_type": "code",
   "execution_count": 67,
   "id": "6a430082",
   "metadata": {},
   "outputs": [],
   "source": [
    "games['name'] = games['name'].str.lower() "
   ]
  },
  {
   "cell_type": "code",
   "execution_count": 68,
   "id": "eb14b80f",
   "metadata": {},
   "outputs": [],
   "source": [
    "games['rating'] = games['rating'].str.upper() "
   ]
  },
  {
   "cell_type": "markdown",
   "id": "fc3d3db4",
   "metadata": {
    "id": "fc3d3db4"
   },
   "source": [
    "- После того как нормализуете данные и устраните неявные дубликаты, проверьте наличие явных дубликатов в данных."
   ]
  },
  {
   "cell_type": "code",
   "execution_count": 69,
   "id": "0bebea26",
   "metadata": {},
   "outputs": [],
   "source": [
    "# Сортируем датафрейм по всем столбцам:\n",
    "games_sorted = games.sort_values(by=games.columns.tolist())"
   ]
  },
  {
   "cell_type": "code",
   "execution_count": 70,
   "id": "a8cc455d",
   "metadata": {},
   "outputs": [
    {
     "name": "stdout",
     "output_type": "stream",
     "text": [
      "                                            name platform  year_of_release  \\\n",
      "15192                             beyblade burst      3DS             2016   \n",
      "15302                          11eyes: crossover     X360             2009   \n",
      "4861            18 wheeler: american pro trucker      PS2             2001   \n",
      "13099                                 4 elements       PC             2009   \n",
      "5236   999: nine hours, nine persons, nine doors       DS             2009   \n",
      "...                                          ...      ...              ...   \n",
      "16104             yoake yori ruriiro na portable      PSP             2010   \n",
      "10662            yu-gi-oh! 5d's wheelie breakers      Wii             2009   \n",
      "2909            yu-gi-oh! the falsebound kingdom       GC             2002   \n",
      "6696                               zoo resort 3d      3DS             2011   \n",
      "8157                          zumba fitness rush     X360             2012   \n",
      "\n",
      "              genre  na_sales  eu_sales  jp_sales  other_sales  critic_score  \\\n",
      "15192  role-playing      0.00      0.00      0.03         0.00          -1.0   \n",
      "15302     adventure      0.00      0.00      0.02         0.00          -1.0   \n",
      "4861         racing      0.20      0.15      0.00         0.05          61.0   \n",
      "13099        puzzle      0.00      0.04      0.00         0.01          -1.0   \n",
      "5236      adventure      0.31      0.00      0.03         0.02          -1.0   \n",
      "...             ...       ...       ...       ...          ...           ...   \n",
      "16104     adventure      0.00      0.00      0.02         0.00          -1.0   \n",
      "10662        racing      0.09      0.01      0.00         0.01          -1.0   \n",
      "2909       strategy      0.49      0.13      0.07         0.02          -1.0   \n",
      "6696     simulation      0.11      0.09      0.03         0.02          -1.0   \n",
      "8157         sports      0.00      0.16      0.00         0.02          73.0   \n",
      "\n",
      "       user_score rating  \n",
      "15192        -1.0    NaN  \n",
      "15302        -1.0    NaN  \n",
      "4861          5.7      E  \n",
      "13099         7.4      E  \n",
      "5236         -1.0    NaN  \n",
      "...           ...    ...  \n",
      "16104        -1.0    NaN  \n",
      "10662        -1.0    NaN  \n",
      "2909         -1.0    NaN  \n",
      "6696         -1.0      E  \n",
      "8157          6.2   E10+  \n",
      "\n",
      "[235 rows x 11 columns]\n"
     ]
    }
   ],
   "source": [
    "# Находим дубликаты\n",
    "duplicates = games_sorted[games_sorted.duplicated(keep='first')]\n",
    "print (duplicates)"
   ]
  },
  {
   "cell_type": "code",
   "execution_count": 71,
   "id": "fc5c91b5",
   "metadata": {
    "id": "fc5c91b5"
   },
   "outputs": [
    {
     "name": "stdout",
     "output_type": "stream",
     "text": [
      "235\n"
     ]
    }
   ],
   "source": [
    "# Найдем количество дубликатов в Датафрейме:\n",
    "duplicated_games = games.duplicated().sum()\n",
    "print (duplicated_games)"
   ]
  },
  {
   "cell_type": "code",
   "execution_count": 72,
   "id": "2f61e076",
   "metadata": {
    "id": "2f61e076"
   },
   "outputs": [],
   "source": [
    "# Удаляем дубликаты:\n",
    "game_no_duplicates = games_sorted.drop_duplicates()"
   ]
  },
  {
   "cell_type": "code",
   "execution_count": 73,
   "id": "29e57705",
   "metadata": {
    "id": "29e57705"
   },
   "outputs": [],
   "source": [
    "# Сохраняем количество строк после удаления дубликатов\n",
    "final_count = game_no_duplicates.shape[0]"
   ]
  },
  {
   "cell_type": "markdown",
   "id": "54616bae",
   "metadata": {
    "id": "54616bae"
   },
   "source": [
    "- Напишите промежуточный вывод: укажите количество найденных дубликатов и действия по их обработке."
   ]
  },
  {
   "cell_type": "markdown",
   "id": "2ac92502",
   "metadata": {
    "id": "8548f894"
   },
   "source": [
    "После использования строковых методов по выявлению неявных дубликатов и применению их в столбцам датасета `new_games.csv` было выявлено и удалено 235 явных дубликатов."
   ]
  },
  {
   "cell_type": "markdown",
   "id": "72645ae9",
   "metadata": {
    "id": "72645ae9"
   },
   "source": [
    "- В процессе подготовки данных вы могли что-либо удалять, например строки с пропусками или ошибками, дубликаты и прочее. В этом случае посчитайте количество удалённых строк в абсолютном и относительном значениях."
   ]
  },
  {
   "cell_type": "code",
   "execution_count": 74,
   "id": "f9d8ee19",
   "metadata": {
    "id": "f9d8ee19"
   },
   "outputs": [
    {
     "name": "stdout",
     "output_type": "stream",
     "text": [
      "522\n"
     ]
    }
   ],
   "source": [
    "# Найдем количество удаленных строк\n",
    "count_games= games_lines - final_count\n",
    "print (count_games)"
   ]
  },
  {
   "cell_type": "code",
   "execution_count": 75,
   "id": "3d7a9d8e",
   "metadata": {
    "id": "3d7a9d8e"
   },
   "outputs": [
    {
     "name": "stdout",
     "output_type": "stream",
     "text": [
      "3.08\n"
     ]
    }
   ],
   "source": [
    "# Найдем долю удаленных строк\n",
    "percentage_values = count_games/games_lines * 100\n",
    "print (round (percentage_values,2))"
   ]
  },
  {
   "cell_type": "markdown",
   "id": "6e5029bd",
   "metadata": {},
   "source": [
    "<div class=\"alert alert-success\">\n",
    "<h2> Комментарий ревьюера v1 <a class=\"tocSkip\"> </h2>\n",
    "\n",
    "<b>Все супер!👍:</b> Процент удаления не большой и исследование не потеряет своей объективности!"
   ]
  },
  {
   "cell_type": "markdown",
   "id": "47613d75",
   "metadata": {
    "id": "47613d75"
   },
   "source": [
    "- После проведения предобработки данных напишите общий промежуточный вывод."
   ]
  },
  {
   "cell_type": "markdown",
   "id": "1551a8b7",
   "metadata": {
    "id": "5166fdf8"
   },
   "source": [
    "Были загружены данные `new_games.csv`.Они содержат 11 столбцов и 16956 строк, в которых представлена информация о продажах игр разных жанров и платформ, а также пользовательские и экспертные оценки игр. При первичном знакомстве с данными и их предобработкой получили такие результаты:\n",
    "- В семи столбцах были обнаружены пропущенные значения. Максимальное значение пропущенных данных в столбце `user_score ` — 54,7%;\n",
    "- Для оптимизации работы с данными в датафрейме были произведены изменения типов данных;\n",
    "- Названия столбцов были приведены к стилю snake case;\n",
    "- Пропуски, где процент был менее 5, были удалены, т.к. отклонением данных менее 5% можно принебреч;\n",
    "- Пропуски, где был высокий процент, были заменены на значение индикатор;\n",
    "- Столбец `rating` остался без изменения данных, т.к. в дальнейшем анализе он не потребуется;\n",
    "- Было выявлено и удалено 235 явных и не явных дубликата;\n",
    "- После всех преобразований количество данных уменьшилось на 522 строки или на 3,1%."
   ]
  },
  {
   "cell_type": "markdown",
   "id": "a1479c7b",
   "metadata": {},
   "source": [
    "<div class=\"alert alert-success\">\n",
    "<h2> Комментарий ревьюера v1 <a class=\"tocSkip\"> </h2>\n",
    "\n",
    "<b>Все супер!👍:</b>Дарья, этап в целом выполнен хорошо, ты внимательна к деталям и развернуто комментируешь результаты, хвалю!"
   ]
  },
  {
   "cell_type": "markdown",
   "id": "613f0eb0",
   "metadata": {
    "id": "613f0eb0"
   },
   "source": [
    "---\n",
    "<a class=\"anchor\" id=\"3-bullet\"></a>\n",
    "## 3. Фильтрация данных\n",
    "\n",
    "Коллеги хотят изучить историю продаж игр в начале XXI века, и их интересует период с 2000 по 2013 год включительно. Отберите данные по этому показателю. Сохраните новый срез данных в отдельном датафрейме, например `df_actual`."
   ]
  },
  {
   "cell_type": "code",
   "execution_count": 76,
   "id": "44d7529f",
   "metadata": {
    "id": "44d7529f"
   },
   "outputs": [],
   "source": [
    "# Отфильтруем данные за период 2000 по 2013 год включительно и сохрвним в новый датафрейм 'df_actual':\n",
    "df_actual = games.query('2000 <= year_of_release <= 2013')"
   ]
  },
  {
   "cell_type": "markdown",
   "id": "baa0aeff",
   "metadata": {
    "id": "906577e8"
   },
   "source": [
    "В новом датафреме `df_actual` хранятся данные о продаж игр за период с 2000 по 2013 год включительно, которые понадобятся для дальнейшего решения дальнейших задач проекта"
   ]
  },
  {
   "cell_type": "markdown",
   "id": "fafe02dc",
   "metadata": {},
   "source": [
    "<div class=\"alert alert-warning\">\n",
    "    <h2> Комментарий ревьюера v1 <a class=\"tocSkip\"> </h2>\n",
    "    \n",
    "<b>Небольшие замечания и рекомендации💡:</b>  Фильтрация проведена корректно. Покажу альтернативный вариант \n",
    "        \n",
    "        df_actual = df.query('2000 <= year_of_release <= 2013')\n"
   ]
  },
  {
   "cell_type": "markdown",
   "id": "a5393120",
   "metadata": {},
   "source": [
    "<div class=\"alert alert-info\"> <b>Комментарий:</b> Внесла изменения в формулу.</div>"
   ]
  },
  {
   "cell_type": "markdown",
   "id": "a6f10b01",
   "metadata": {
    "id": "a6f10b01"
   },
   "source": [
    "---\n",
    "<a class=\"anchor\" id=\"4-bullet\"></a>\n",
    "## 4. Категоризация данных\n",
    "    \n",
    "Проведите категоризацию данных:\n",
    "- Разделите все игры по оценкам пользователей и выделите такие категории: высокая оценка (от 8 до 10 включительно), средняя оценка (от 3 до 8, не включая правую границу интервала) и низкая оценка (от 0 до 3, не включая правую границу интервала)."
   ]
  },
  {
   "cell_type": "code",
   "execution_count": 77,
   "id": "3db87229",
   "metadata": {
    "id": "3db87229"
   },
   "outputs": [],
   "source": [
    "# Разбиваем все игры на категории по оценкам пользователей:\n",
    "df_actual['user_group'] = pd.cut(df_actual['user_score'], bins=[0, 3, 8, 10], labels=[\"низкая оценка\", \"средняя оценка\", \"высокая оценка\"], right=False)"
   ]
  },
  {
   "cell_type": "markdown",
   "id": "f8f34b40",
   "metadata": {
    "id": "f8f34b40"
   },
   "source": [
    "- Разделите все игры по оценкам критиков и выделите такие категории: высокая оценка (от 80 до 100 включительно), средняя оценка (от 30 до 80, не включая правую границу интервала) и низкая оценка (от 0 до 30, не включая правую границу интервала)."
   ]
  },
  {
   "cell_type": "code",
   "execution_count": 78,
   "id": "e3f7acb0",
   "metadata": {
    "id": "e3f7acb0"
   },
   "outputs": [],
   "source": [
    "# Разбиваем все игры на категории по оценкам критиков:\n",
    "df_actual['critic_group'] = pd.cut(df_actual['critic_score'], bins=[0, 30, 80, 100], labels=[\"низкая оценка\", \"средняя оценка\", \"высокая оценка\"], right=False)"
   ]
  },
  {
   "cell_type": "markdown",
   "id": "olkTlTlAUDR9",
   "metadata": {
    "id": "olkTlTlAUDR9"
   },
   "source": [
    "- После категоризации данных проверьте результат: сгруппируйте данные по выделенным категориям и посчитайте количество игр в каждой категории."
   ]
  },
  {
   "cell_type": "code",
   "execution_count": 79,
   "id": "HW0Nsp-4UMSL",
   "metadata": {
    "id": "HW0Nsp-4UMSL"
   },
   "outputs": [
    {
     "name": "stdout",
     "output_type": "stream",
     "text": [
      "user_group\n",
      "низкая оценка      117\n",
      "средняя оценка    4145\n",
      "высокая оценка    2303\n",
      "Name: name, dtype: int64\n"
     ]
    }
   ],
   "source": [
    "# Вычеслим количество оценок по категориям (оценки пользователей):\n",
    "user_groups = df_actual.groupby('user_group')['name'].count()\n",
    "print (user_groups)"
   ]
  },
  {
   "cell_type": "code",
   "execution_count": 80,
   "id": "x2ne0HIpUMMD",
   "metadata": {
    "id": "x2ne0HIpUMMD"
   },
   "outputs": [
    {
     "name": "stdout",
     "output_type": "stream",
     "text": [
      "critic_group\n",
      "низкая оценка       55\n",
      "средняя оценка    5499\n",
      "высокая оценка    1706\n",
      "Name: name, dtype: int64\n"
     ]
    }
   ],
   "source": [
    "# Вычеслим количество оценок по категориям (оценки критиков):\n",
    "critic_groups = df_actual.groupby('critic_group')['name'].count()\n",
    "print (critic_groups)"
   ]
  },
  {
   "cell_type": "markdown",
   "id": "d42c4549",
   "metadata": {
    "id": "U6kiXU3JUMCc"
   },
   "source": [
    "Большое количество оценок пользователей и критиков находится в группе средняя оценка. Можно сделать вывод, что игры, выпущенные в переод с 2000 по 2013 год включительно были среднего качества и не дотягивали до наивысших оценнок. В это период индутрия игр только набирала обороты и технологии комппьютерных игр также находилась на этапе развития"
   ]
  },
  {
   "cell_type": "markdown",
   "id": "6a98444c",
   "metadata": {
    "id": "6a98444c"
   },
   "source": [
    "- Выделите топ-7 платформ по количеству игр, выпущенных за весь актуальный период."
   ]
  },
  {
   "cell_type": "code",
   "execution_count": 81,
   "id": "003caa2c",
   "metadata": {
    "id": "003caa2c"
   },
   "outputs": [],
   "source": [
    "# Считаем количество игр для каждой платформы за период с 2000 по 2013 год включительно\n",
    "platform_counts= df_actual['platform'].value_counts()"
   ]
  },
  {
   "cell_type": "code",
   "execution_count": 82,
   "id": "e8d8a1d0",
   "metadata": {
    "id": "e8d8a1d0"
   },
   "outputs": [
    {
     "name": "stdout",
     "output_type": "stream",
     "text": [
      "PS2     2153\n",
      "DS      2143\n",
      "Wii     1294\n",
      "PSP     1198\n",
      "X360    1135\n",
      "PS3     1107\n",
      "GBA      825\n",
      "Name: platform, dtype: int64\n"
     ]
    }
   ],
   "source": [
    "# Выделяем топ-7 платформ:\n",
    "top_7_platforms = platform_counts.head(7)\n",
    "print (top_7_platforms)"
   ]
  },
  {
   "cell_type": "markdown",
   "id": "109e2629",
   "metadata": {},
   "source": [
    "В анализируемом периоде платформы PS2 и DS занимают лидирующие позиции в рейтинге. "
   ]
  },
  {
   "cell_type": "markdown",
   "id": "c30773cc",
   "metadata": {},
   "source": [
    "<div class=\"alert alert-success\">\n",
    "<h2> Комментарий ревьюера v1 <a class=\"tocSkip\"> </h2>\n",
    "\n",
    "<b>Все супер!👍:</b> \"Топ-7\" определен корректно, ты отлично усвоила инструменты фильтрации и группировки, хвалю!"
   ]
  },
  {
   "cell_type": "markdown",
   "id": "c0158881",
   "metadata": {
    "id": "c0158881"
   },
   "source": [
    "---\n",
    "<a class=\"anchor\" id=\"5-bullet\"></a>\n",
    "## 5. Итоговый вывод\n",
    "\n",
    "В конце напишите основной вывод и отразите, какую работу проделали. Не забудьте указать описание среза данных и новых полей, которые добавили в исходный датасет."
   ]
  },
  {
   "cell_type": "markdown",
   "id": "8b006436",
   "metadata": {
    "id": "20175f5b"
   },
   "source": [
    "В проекте `Аназиз игр разых жанров` мы использовали датасет `new_games.csv`, который содержит информацию о продажах игр разных жанров и платформ, а также пользовательские и экспертные оценки игр.Перед нами стояли следующие цели:\n",
    "- Выявление ошибок в данных и их предобработка (удаление явных и не явных дубликатов, заполнение пропусков);\n",
    "- Фильтрация данных за определенный период;\n",
    "- Категоризация игр по оценкам пользователей и экспертов;\n",
    "- Топ-7 платформ по количеству игр.\n",
    "В ходе выполненного проекта были получены следующие результаты:\n",
    "- В семи столбцах были обнаружены пропущенные значения; \n",
    "- Для оптимизации работы с данными в датафрейме были произведены изменения типов данных;\n",
    "- Названия столбцов были приведены к стилю snake case;\n",
    "- Пропуски, где процент был менее 5, были удалены, т.к. отклонением данных менее 5% можно принебреч;\n",
    "- Пропуски, где был высокий процент, были заменены значением индикатором;\n",
    "- Было выявлено и удалено 235 явных и не явных дубликата;\n",
    "- После всех преобразований количество данных уменьшилось на 522 строки или на 3,1%.\n",
    "\n",
    "На этапе `Загрузка данных и знакомство с ними` мы познакомились в общей картиной данных и выявили, что в датасете `new_games.csv` содержит 11 столбцов и 16956 строк. Изучили типы данных и их корректность и выявили, что большинство столбцов представлены в нужном типе данных. Однако для корректной работы мы изменили типы данных у таких столбцов, как : `year_of_release`, `eu_sales`, `jp_sales` и `user_score`.\n",
    "\n",
    "Так же в процессе знакомства с данными были выявлены пропущенные значения часть которых была удалена (где количество пропусков было менее 5%).А часть была заменена на значение-индикатор -1 ( по колонкам `critic_score` и `user_score`).  \n",
    "При анализе явных и не явных дубликатов было выявлено 235 дубликатов. После всех манипуляций с данными их количество уменьшилось на 522 шт. или на 3,1%.\n",
    "\n",
    "В основном разделе анализа проекта была сделана фильтрация по годам и категоризация данных по оценкам пользователей и критиков. \n",
    "Так же выделили топ-7 платформ по количеству игр, выпущенных за период с 2000 по 2013 год включительно.\n",
    "\n",
    "По итогом выполненного проекта было изучено развитие игровой индустрии. К сожалению данные, которые нашли коллеги в открытых источниках были неполными, но дастоточными для того, что бы сделать выводы для написания статьи о развитии индустрии игр в начале XXI века. Платформы PS2 и DS являются наиболее популярными в исследуемом периоде. "
   ]
  },
  {
   "cell_type": "markdown",
   "id": "48b9bfb3",
   "metadata": {},
   "source": [
    "<div class=\"alert alert-warning\">\n",
    "    <h2> Комментарий ревьюера v1<a class=\"tocSkip\"> </h2>\n",
    "    \n",
    "<b>Небольшие замечания и рекомендации💡:</b> Дарья, итоговый вывод написан в хорошем стиле, наиболее важные результаты подробно и понятно резюмированы, основные шаги преобразований есть.\n",
    "        \n",
    "Итоговые выводы - важная часть работы и в твоих будующих реальных проектах советую уделять ей особое внимание. Бывают ситуации, когда у руководства нет времени вникать в весь проект и оценка твоих действий будет проводиться именно по ним.            \n",
    "        \n",
    "Пожалуйста, перепроверь их актуальность после устранения неточности выше. "
   ]
  },
  {
   "cell_type": "markdown",
   "id": "3dccb53d",
   "metadata": {},
   "source": [
    "<div class=\"alert alert-info\"> <b>Комментарий:</b> Актуальность выводов перепроверена и изменения внесены. Спасибо за высокую оценку моей работы. Делала ее два дня и потратила очень  много сил.</div>"
   ]
  },
  {
   "cell_type": "markdown",
   "id": "c5722bba",
   "metadata": {},
   "source": [
    "<div style=\"border:solid Chocolate 2px; padding: 40px\">\n",
    "    \n",
    "**Общий вывод по проекту ревьювера**:\n",
    "     Спасибо за  проект! Ты приложила много усилий, чтобы довести его до конца, проделана огромная работа, и это видно невооруженным глазом, ты  молодец! Но у меня осталось несколько  дополнений с которыми проект может стать еще лучше.\n",
    "    \n",
    "**Отмечу положительные моменты**:\n",
    "    \n",
    "    1. Все разложено по полочкам, всегда понятен ход твоих мыслей, приятно смотреть.\n",
    "    \n",
    "    2. Подробные и логичные выводы на всех этапах работы.\n",
    "    \n",
    "    3. Внимание к деталям и учет особенностей бизнеса.      \n",
    "    \n",
    "**На что стоит обратить внимание**:\n",
    "       \n",
    "    1. Пересмотр принципа устранения пропусков данных\n",
    "    \n",
    "    2. Актуализация вывода\n",
    "    \n",
    "**Удачи и жду твой проект на повторное ревью!**\n",
    "    \n",
    "    "
   ]
  },
  {
   "cell_type": "markdown",
   "id": "c0de5580",
   "metadata": {},
   "source": [
    "<div class=\"alert alert-success\">\n",
    "<h2> Комментарий ревьюера v2 <a class=\"tocSkip\"> </h2>\n",
    "\n",
    "<b>Все супер!👍:</b>Дарья, спасибо за качественную отработку моих комментариев и хорошую обратную связь. Работа выполнена на очень высоком уровне! Код оптимизирован, выводы точны, аналитическая записка аккуратно оформлена.\n",
    "    \n",
    "Желаю тебе интересного и успешного продолжения учебы, увидимся в практикуме!"
   ]
  }
 ],
 "metadata": {
  "ExecuteTimeLog": [
   {
    "duration": 371,
    "start_time": "2025-02-12T15:50:28.921Z"
   },
   {
    "duration": 111,
    "start_time": "2025-02-12T15:50:30.683Z"
   },
   {
    "duration": 17,
    "start_time": "2025-02-12T15:51:31.859Z"
   },
   {
    "duration": 19,
    "start_time": "2025-02-12T15:52:03.520Z"
   },
   {
    "duration": 73,
    "start_time": "2025-02-12T16:22:43.719Z"
   },
   {
    "duration": 4,
    "start_time": "2025-02-12T16:23:09.534Z"
   },
   {
    "duration": 76,
    "start_time": "2025-02-12T16:27:08.799Z"
   },
   {
    "duration": 74,
    "start_time": "2025-02-12T16:27:25.867Z"
   },
   {
    "duration": 4,
    "start_time": "2025-02-12T16:27:34.131Z"
   },
   {
    "duration": 6,
    "start_time": "2025-02-12T16:31:24.503Z"
   },
   {
    "duration": 15,
    "start_time": "2025-02-12T16:32:25.923Z"
   },
   {
    "duration": 1767,
    "start_time": "2025-02-12T17:12:17.722Z"
   },
   {
    "duration": 10,
    "start_time": "2025-02-12T17:12:30.857Z"
   },
   {
    "duration": 7,
    "start_time": "2025-02-12T17:12:50.409Z"
   },
   {
    "duration": 6,
    "start_time": "2025-02-12T17:13:11.865Z"
   },
   {
    "duration": 1295,
    "start_time": "2025-02-12T17:14:14.721Z"
   },
   {
    "duration": 6,
    "start_time": "2025-02-12T17:14:21.361Z"
   },
   {
    "duration": 6,
    "start_time": "2025-02-12T17:15:23.026Z"
   },
   {
    "duration": 5,
    "start_time": "2025-02-12T17:15:29.370Z"
   },
   {
    "duration": 12,
    "start_time": "2025-02-12T17:17:33.815Z"
   },
   {
    "duration": 13,
    "start_time": "2025-02-12T17:18:19.631Z"
   },
   {
    "duration": 5,
    "start_time": "2025-02-12T17:43:05.531Z"
   },
   {
    "duration": 20,
    "start_time": "2025-02-12T17:43:37.941Z"
   },
   {
    "duration": 17,
    "start_time": "2025-02-12T17:44:58.849Z"
   },
   {
    "duration": 7,
    "start_time": "2025-02-12T17:50:01.865Z"
   },
   {
    "duration": 8,
    "start_time": "2025-02-12T17:52:17.516Z"
   },
   {
    "duration": 18,
    "start_time": "2025-02-12T17:52:37.219Z"
   },
   {
    "duration": 1285,
    "start_time": "2025-02-12T18:12:47.242Z"
   },
   {
    "duration": 1499,
    "start_time": "2025-02-12T18:15:02.259Z"
   },
   {
    "duration": 10,
    "start_time": "2025-02-12T18:15:36.779Z"
   },
   {
    "duration": 9,
    "start_time": "2025-02-12T18:15:51.964Z"
   },
   {
    "duration": 17,
    "start_time": "2025-02-12T18:16:24.409Z"
   },
   {
    "duration": 2,
    "start_time": "2025-02-12T18:18:55.005Z"
   },
   {
    "duration": 15,
    "start_time": "2025-02-12T18:19:08.045Z"
   },
   {
    "duration": 9,
    "start_time": "2025-02-12T18:19:22.597Z"
   },
   {
    "duration": 7,
    "start_time": "2025-02-12T18:20:01.725Z"
   },
   {
    "duration": 19,
    "start_time": "2025-02-12T18:20:36.157Z"
   },
   {
    "duration": 6,
    "start_time": "2025-02-12T18:21:00.645Z"
   },
   {
    "duration": 5,
    "start_time": "2025-02-12T18:21:10.806Z"
   },
   {
    "duration": 18,
    "start_time": "2025-02-12T18:21:35.454Z"
   },
   {
    "duration": 13,
    "start_time": "2025-02-12T18:21:47.829Z"
   },
   {
    "duration": 14,
    "start_time": "2025-02-12T18:21:52.581Z"
   },
   {
    "duration": 9,
    "start_time": "2025-02-12T18:31:22.256Z"
   },
   {
    "duration": 11,
    "start_time": "2025-02-12T18:31:30.855Z"
   },
   {
    "duration": 2,
    "start_time": "2025-02-12T18:41:53.968Z"
   },
   {
    "duration": 115,
    "start_time": "2025-02-12T18:41:53.972Z"
   },
   {
    "duration": 15,
    "start_time": "2025-02-12T18:41:54.089Z"
   },
   {
    "duration": 16,
    "start_time": "2025-02-12T18:41:54.106Z"
   },
   {
    "duration": 12,
    "start_time": "2025-02-12T18:41:54.123Z"
   },
   {
    "duration": 15,
    "start_time": "2025-02-12T18:41:54.137Z"
   },
   {
    "duration": 4,
    "start_time": "2025-02-12T18:41:54.154Z"
   },
   {
    "duration": 8,
    "start_time": "2025-02-12T18:41:54.174Z"
   },
   {
    "duration": 17,
    "start_time": "2025-02-12T18:41:54.184Z"
   },
   {
    "duration": 13,
    "start_time": "2025-02-12T18:41:54.203Z"
   },
   {
    "duration": 9,
    "start_time": "2025-02-12T18:41:54.218Z"
   },
   {
    "duration": 48,
    "start_time": "2025-02-12T18:41:54.229Z"
   },
   {
    "duration": 9,
    "start_time": "2025-02-12T18:44:27.554Z"
   },
   {
    "duration": 15,
    "start_time": "2025-02-12T18:44:37.319Z"
   },
   {
    "duration": 8,
    "start_time": "2025-02-12T18:45:18.695Z"
   },
   {
    "duration": 11,
    "start_time": "2025-02-12T18:45:33.406Z"
   },
   {
    "duration": 12,
    "start_time": "2025-02-12T19:06:45.942Z"
   },
   {
    "duration": 10,
    "start_time": "2025-02-12T19:07:46.217Z"
   },
   {
    "duration": 3,
    "start_time": "2025-02-12T19:08:02.423Z"
   },
   {
    "duration": 22,
    "start_time": "2025-02-12T19:08:31.539Z"
   },
   {
    "duration": 7,
    "start_time": "2025-02-12T19:10:15.629Z"
   },
   {
    "duration": 5,
    "start_time": "2025-02-12T19:10:28.837Z"
   },
   {
    "duration": 7,
    "start_time": "2025-02-12T19:10:31.991Z"
   },
   {
    "duration": 9,
    "start_time": "2025-02-12T19:10:48.011Z"
   },
   {
    "duration": 8,
    "start_time": "2025-02-12T19:11:42.095Z"
   },
   {
    "duration": 15,
    "start_time": "2025-02-12T19:12:23.757Z"
   },
   {
    "duration": 15,
    "start_time": "2025-02-12T19:14:10.107Z"
   },
   {
    "duration": 15,
    "start_time": "2025-02-12T19:23:58.709Z"
   },
   {
    "duration": 16,
    "start_time": "2025-02-12T19:24:38.608Z"
   },
   {
    "duration": 24,
    "start_time": "2025-02-12T19:26:18.385Z"
   },
   {
    "duration": 68,
    "start_time": "2025-02-12T19:34:12.108Z"
   },
   {
    "duration": 14,
    "start_time": "2025-02-12T19:34:20.425Z"
   },
   {
    "duration": 18,
    "start_time": "2025-02-12T19:34:24.551Z"
   },
   {
    "duration": 28,
    "start_time": "2025-02-12T19:34:36.773Z"
   },
   {
    "duration": 28,
    "start_time": "2025-02-12T19:36:30.802Z"
   },
   {
    "duration": 27,
    "start_time": "2025-02-12T19:47:58.964Z"
   },
   {
    "duration": 9,
    "start_time": "2025-02-12T20:04:56.328Z"
   },
   {
    "duration": 27,
    "start_time": "2025-02-12T20:15:49.050Z"
   },
   {
    "duration": 22,
    "start_time": "2025-02-12T20:19:12.324Z"
   },
   {
    "duration": 24002,
    "start_time": "2025-02-12T20:20:11.492Z"
   },
   {
    "duration": 17,
    "start_time": "2025-02-12T20:21:33.296Z"
   },
   {
    "duration": 3523,
    "start_time": "2025-02-12T20:22:13.547Z"
   },
   {
    "duration": 14,
    "start_time": "2025-02-12T20:22:22.625Z"
   },
   {
    "duration": 26210,
    "start_time": "2025-02-12T20:30:46.966Z"
   },
   {
    "duration": 0,
    "start_time": "2025-02-12T20:31:13.178Z"
   },
   {
    "duration": 149,
    "start_time": "2025-02-12T20:32:17.471Z"
   },
   {
    "duration": 151,
    "start_time": "2025-02-12T20:32:21.833Z"
   },
   {
    "duration": 30,
    "start_time": "2025-02-12T20:32:26.989Z"
   },
   {
    "duration": 15,
    "start_time": "2025-02-12T20:35:18.922Z"
   },
   {
    "duration": 299,
    "start_time": "2025-02-12T20:40:03.268Z"
   },
   {
    "duration": 17,
    "start_time": "2025-02-12T20:40:07.899Z"
   },
   {
    "duration": 5,
    "start_time": "2025-02-12T20:51:06.667Z"
   },
   {
    "duration": 7,
    "start_time": "2025-02-12T20:53:01.746Z"
   },
   {
    "duration": 8,
    "start_time": "2025-02-12T20:53:44.847Z"
   },
   {
    "duration": 4,
    "start_time": "2025-02-12T20:54:57.076Z"
   },
   {
    "duration": 4,
    "start_time": "2025-02-12T20:54:58.714Z"
   },
   {
    "duration": 3,
    "start_time": "2025-02-12T20:54:59.643Z"
   },
   {
    "duration": 3,
    "start_time": "2025-02-12T20:55:00.179Z"
   },
   {
    "duration": 6,
    "start_time": "2025-02-12T20:55:39.790Z"
   },
   {
    "duration": 5,
    "start_time": "2025-02-12T20:56:10.081Z"
   },
   {
    "duration": 4,
    "start_time": "2025-02-12T20:56:54.428Z"
   },
   {
    "duration": 4,
    "start_time": "2025-02-12T20:57:34.524Z"
   },
   {
    "duration": 4,
    "start_time": "2025-02-12T20:58:44.236Z"
   },
   {
    "duration": 6,
    "start_time": "2025-02-12T21:01:02.095Z"
   },
   {
    "duration": 9,
    "start_time": "2025-02-12T21:09:48.708Z"
   },
   {
    "duration": 10,
    "start_time": "2025-02-12T21:09:58.696Z"
   },
   {
    "duration": 1334,
    "start_time": "2025-02-12T21:10:02.028Z"
   },
   {
    "duration": 1311,
    "start_time": "2025-02-12T21:10:45.099Z"
   },
   {
    "duration": 9,
    "start_time": "2025-02-12T21:10:54.317Z"
   },
   {
    "duration": 3,
    "start_time": "2025-02-12T21:14:35.414Z"
   },
   {
    "duration": 142,
    "start_time": "2025-02-12T21:14:35.418Z"
   },
   {
    "duration": 14,
    "start_time": "2025-02-12T21:14:35.562Z"
   },
   {
    "duration": 21,
    "start_time": "2025-02-12T21:14:35.578Z"
   },
   {
    "duration": 25,
    "start_time": "2025-02-12T21:14:35.600Z"
   },
   {
    "duration": 5,
    "start_time": "2025-02-12T21:14:35.627Z"
   },
   {
    "duration": 22,
    "start_time": "2025-02-12T21:14:35.633Z"
   },
   {
    "duration": 9,
    "start_time": "2025-02-12T21:14:35.657Z"
   },
   {
    "duration": 16,
    "start_time": "2025-02-12T21:14:35.668Z"
   },
   {
    "duration": 12,
    "start_time": "2025-02-12T21:14:35.686Z"
   },
   {
    "duration": 13,
    "start_time": "2025-02-12T21:14:35.699Z"
   },
   {
    "duration": 16,
    "start_time": "2025-02-12T21:14:35.713Z"
   },
   {
    "duration": 7,
    "start_time": "2025-02-12T21:14:35.731Z"
   },
   {
    "duration": 50367,
    "start_time": "2025-02-12T21:14:35.740Z"
   },
   {
    "duration": 14,
    "start_time": "2025-02-12T21:15:26.109Z"
   },
   {
    "duration": 8,
    "start_time": "2025-02-12T21:15:26.125Z"
   },
   {
    "duration": 4,
    "start_time": "2025-02-12T21:15:26.135Z"
   },
   {
    "duration": 37,
    "start_time": "2025-02-12T21:15:26.140Z"
   },
   {
    "duration": 5,
    "start_time": "2025-02-12T21:15:26.179Z"
   },
   {
    "duration": 11,
    "start_time": "2025-02-12T21:15:26.186Z"
   },
   {
    "duration": 9,
    "start_time": "2025-02-12T21:15:26.198Z"
   },
   {
    "duration": 12,
    "start_time": "2025-02-12T21:15:26.208Z"
   },
   {
    "duration": 8,
    "start_time": "2025-02-12T21:17:18.296Z"
   },
   {
    "duration": 16,
    "start_time": "2025-02-12T21:22:51.098Z"
   },
   {
    "duration": 31,
    "start_time": "2025-02-12T21:25:21.005Z"
   },
   {
    "duration": 314,
    "start_time": "2025-02-12T21:28:20.788Z"
   },
   {
    "duration": 18,
    "start_time": "2025-02-12T21:29:18.122Z"
   },
   {
    "duration": 24,
    "start_time": "2025-02-12T21:29:40.056Z"
   },
   {
    "duration": 20,
    "start_time": "2025-02-12T21:32:37.628Z"
   },
   {
    "duration": 2,
    "start_time": "2025-02-12T21:33:20.314Z"
   },
   {
    "duration": 4,
    "start_time": "2025-02-12T21:40:57.914Z"
   },
   {
    "duration": 3,
    "start_time": "2025-02-12T21:42:51.404Z"
   },
   {
    "duration": 3,
    "start_time": "2025-02-12T21:43:38.581Z"
   },
   {
    "duration": 10,
    "start_time": "2025-02-12T21:44:01.680Z"
   },
   {
    "duration": 52,
    "start_time": "2025-02-13T10:20:21.268Z"
   },
   {
    "duration": 0,
    "start_time": "2025-02-13T10:20:21.322Z"
   },
   {
    "duration": 0,
    "start_time": "2025-02-13T10:20:21.323Z"
   },
   {
    "duration": 0,
    "start_time": "2025-02-13T10:20:21.324Z"
   },
   {
    "duration": 0,
    "start_time": "2025-02-13T10:20:21.325Z"
   },
   {
    "duration": 0,
    "start_time": "2025-02-13T10:20:21.326Z"
   },
   {
    "duration": 0,
    "start_time": "2025-02-13T10:20:21.327Z"
   },
   {
    "duration": 0,
    "start_time": "2025-02-13T10:20:21.328Z"
   },
   {
    "duration": 0,
    "start_time": "2025-02-13T10:20:21.329Z"
   },
   {
    "duration": 0,
    "start_time": "2025-02-13T10:20:21.330Z"
   },
   {
    "duration": 0,
    "start_time": "2025-02-13T10:20:21.332Z"
   },
   {
    "duration": 0,
    "start_time": "2025-02-13T10:20:21.333Z"
   },
   {
    "duration": 0,
    "start_time": "2025-02-13T10:20:21.334Z"
   },
   {
    "duration": 0,
    "start_time": "2025-02-13T10:20:21.335Z"
   },
   {
    "duration": 0,
    "start_time": "2025-02-13T10:20:21.336Z"
   },
   {
    "duration": 0,
    "start_time": "2025-02-13T10:20:21.337Z"
   },
   {
    "duration": 0,
    "start_time": "2025-02-13T10:20:21.338Z"
   },
   {
    "duration": 7,
    "start_time": "2025-02-13T10:20:37.952Z"
   },
   {
    "duration": 12,
    "start_time": "2025-02-13T10:20:40.638Z"
   },
   {
    "duration": 6,
    "start_time": "2025-02-13T10:21:27.094Z"
   },
   {
    "duration": 417,
    "start_time": "2025-02-13T10:21:46.163Z"
   },
   {
    "duration": 187,
    "start_time": "2025-02-13T10:21:46.582Z"
   },
   {
    "duration": 18,
    "start_time": "2025-02-13T10:21:46.771Z"
   },
   {
    "duration": 39,
    "start_time": "2025-02-13T10:21:46.791Z"
   },
   {
    "duration": 5,
    "start_time": "2025-02-13T10:21:46.832Z"
   },
   {
    "duration": 29,
    "start_time": "2025-02-13T10:21:46.839Z"
   },
   {
    "duration": 10,
    "start_time": "2025-02-13T10:21:46.870Z"
   },
   {
    "duration": 13,
    "start_time": "2025-02-13T10:21:46.882Z"
   },
   {
    "duration": 23,
    "start_time": "2025-02-13T10:21:46.897Z"
   },
   {
    "duration": 15,
    "start_time": "2025-02-13T10:21:46.922Z"
   },
   {
    "duration": 11,
    "start_time": "2025-02-13T10:21:46.939Z"
   },
   {
    "duration": 11,
    "start_time": "2025-02-13T10:21:46.952Z"
   },
   {
    "duration": 10,
    "start_time": "2025-02-13T10:21:46.965Z"
   },
   {
    "duration": 15,
    "start_time": "2025-02-13T10:22:44.299Z"
   },
   {
    "duration": 19,
    "start_time": "2025-02-13T10:22:44.316Z"
   },
   {
    "duration": 15,
    "start_time": "2025-02-13T10:22:44.336Z"
   },
   {
    "duration": 15,
    "start_time": "2025-02-13T10:22:44.352Z"
   },
   {
    "duration": 9,
    "start_time": "2025-02-13T10:22:44.368Z"
   },
   {
    "duration": 23,
    "start_time": "2025-02-13T10:22:44.379Z"
   },
   {
    "duration": 28,
    "start_time": "2025-02-13T10:22:44.403Z"
   },
   {
    "duration": 19,
    "start_time": "2025-02-13T10:22:44.433Z"
   },
   {
    "duration": 72,
    "start_time": "2025-02-13T10:22:44.454Z"
   },
   {
    "duration": 27,
    "start_time": "2025-02-13T10:22:44.528Z"
   },
   {
    "duration": 14,
    "start_time": "2025-02-13T10:22:44.557Z"
   },
   {
    "duration": 19,
    "start_time": "2025-02-13T10:22:44.573Z"
   },
   {
    "duration": 3,
    "start_time": "2025-02-13T10:22:44.594Z"
   },
   {
    "duration": 33,
    "start_time": "2025-02-13T10:22:44.599Z"
   },
   {
    "duration": 4,
    "start_time": "2025-02-13T10:22:44.634Z"
   },
   {
    "duration": 348,
    "start_time": "2025-02-13T10:22:44.641Z"
   },
   {
    "duration": 15,
    "start_time": "2025-02-13T10:30:44.170Z"
   },
   {
    "duration": 15,
    "start_time": "2025-02-13T10:31:00.752Z"
   },
   {
    "duration": 914,
    "start_time": "2025-02-13T10:34:20.267Z"
   },
   {
    "duration": 86,
    "start_time": "2025-02-13T10:34:30.404Z"
   },
   {
    "duration": 6,
    "start_time": "2025-02-13T10:37:34.117Z"
   },
   {
    "duration": 15,
    "start_time": "2025-02-13T10:37:55.626Z"
   },
   {
    "duration": 6,
    "start_time": "2025-02-13T10:40:08.475Z"
   },
   {
    "duration": 8,
    "start_time": "2025-02-13T10:53:23.040Z"
   },
   {
    "duration": 15,
    "start_time": "2025-02-13T10:54:00.371Z"
   },
   {
    "duration": 6,
    "start_time": "2025-02-13T10:56:46.681Z"
   },
   {
    "duration": 3,
    "start_time": "2025-02-13T11:01:41.678Z"
   },
   {
    "duration": 3,
    "start_time": "2025-02-13T11:01:59.364Z"
   },
   {
    "duration": 4,
    "start_time": "2025-02-13T11:02:17.838Z"
   },
   {
    "duration": 4,
    "start_time": "2025-02-13T11:02:37.830Z"
   },
   {
    "duration": 4,
    "start_time": "2025-02-13T11:02:46.481Z"
   },
   {
    "duration": 7,
    "start_time": "2025-02-13T11:02:56.591Z"
   },
   {
    "duration": 6,
    "start_time": "2025-02-13T11:03:32.658Z"
   },
   {
    "duration": 1046,
    "start_time": "2025-02-13T11:13:41.395Z"
   },
   {
    "duration": 5,
    "start_time": "2025-02-13T11:13:50.239Z"
   },
   {
    "duration": 4,
    "start_time": "2025-02-13T11:14:44.792Z"
   },
   {
    "duration": 3,
    "start_time": "2025-02-13T12:05:15.643Z"
   },
   {
    "duration": 125,
    "start_time": "2025-02-13T12:05:15.648Z"
   },
   {
    "duration": 16,
    "start_time": "2025-02-13T12:05:15.775Z"
   },
   {
    "duration": 111,
    "start_time": "2025-02-13T12:05:15.792Z"
   },
   {
    "duration": 12,
    "start_time": "2025-02-13T12:05:15.905Z"
   },
   {
    "duration": 6,
    "start_time": "2025-02-13T12:05:15.918Z"
   },
   {
    "duration": 25,
    "start_time": "2025-02-13T12:05:15.925Z"
   },
   {
    "duration": 10,
    "start_time": "2025-02-13T12:05:15.952Z"
   },
   {
    "duration": 21,
    "start_time": "2025-02-13T12:05:15.964Z"
   },
   {
    "duration": 15,
    "start_time": "2025-02-13T12:05:15.987Z"
   },
   {
    "duration": 31,
    "start_time": "2025-02-13T12:05:16.003Z"
   },
   {
    "duration": 25,
    "start_time": "2025-02-13T12:05:16.036Z"
   },
   {
    "duration": 17,
    "start_time": "2025-02-13T12:05:16.064Z"
   },
   {
    "duration": 60566,
    "start_time": "2025-02-13T12:05:16.083Z"
   },
   {
    "duration": 15,
    "start_time": "2025-02-13T12:06:16.651Z"
   },
   {
    "duration": 11,
    "start_time": "2025-02-13T12:06:16.668Z"
   },
   {
    "duration": 10,
    "start_time": "2025-02-13T12:06:16.681Z"
   },
   {
    "duration": 13,
    "start_time": "2025-02-13T12:06:16.693Z"
   },
   {
    "duration": 26,
    "start_time": "2025-02-13T12:06:16.708Z"
   },
   {
    "duration": 14,
    "start_time": "2025-02-13T12:06:16.736Z"
   },
   {
    "duration": 21,
    "start_time": "2025-02-13T12:06:16.752Z"
   },
   {
    "duration": 31,
    "start_time": "2025-02-13T12:06:16.775Z"
   },
   {
    "duration": 41,
    "start_time": "2025-02-13T12:06:16.808Z"
   },
   {
    "duration": 28,
    "start_time": "2025-02-13T12:06:16.851Z"
   },
   {
    "duration": 14,
    "start_time": "2025-02-13T12:06:16.881Z"
   },
   {
    "duration": 40,
    "start_time": "2025-02-13T12:06:16.897Z"
   },
   {
    "duration": 3,
    "start_time": "2025-02-13T12:06:16.939Z"
   },
   {
    "duration": 11,
    "start_time": "2025-02-13T12:06:16.943Z"
   },
   {
    "duration": 12,
    "start_time": "2025-02-13T12:06:16.956Z"
   },
   {
    "duration": 7,
    "start_time": "2025-02-13T12:06:16.970Z"
   },
   {
    "duration": 19,
    "start_time": "2025-02-13T12:06:16.979Z"
   },
   {
    "duration": 6,
    "start_time": "2025-02-13T12:06:17.000Z"
   },
   {
    "duration": 9,
    "start_time": "2025-02-13T12:06:17.008Z"
   },
   {
    "duration": 7,
    "start_time": "2025-02-13T12:06:17.032Z"
   },
   {
    "duration": 35,
    "start_time": "2025-02-13T12:06:17.041Z"
   },
   {
    "duration": 6,
    "start_time": "2025-02-13T12:06:17.078Z"
   },
   {
    "duration": 4,
    "start_time": "2025-02-13T12:17:59.952Z"
   },
   {
    "duration": 180,
    "start_time": "2025-02-13T12:17:59.958Z"
   },
   {
    "duration": 19,
    "start_time": "2025-02-13T12:18:00.139Z"
   },
   {
    "duration": 42,
    "start_time": "2025-02-13T12:18:00.160Z"
   },
   {
    "duration": 32,
    "start_time": "2025-02-13T12:18:00.205Z"
   },
   {
    "duration": 34,
    "start_time": "2025-02-13T12:18:00.240Z"
   },
   {
    "duration": 69,
    "start_time": "2025-02-13T12:18:00.276Z"
   },
   {
    "duration": 46,
    "start_time": "2025-02-13T12:18:00.346Z"
   },
   {
    "duration": 50,
    "start_time": "2025-02-13T12:18:00.395Z"
   },
   {
    "duration": 23,
    "start_time": "2025-02-13T12:18:00.447Z"
   },
   {
    "duration": 25,
    "start_time": "2025-02-13T12:18:00.472Z"
   },
   {
    "duration": 21,
    "start_time": "2025-02-13T12:18:00.499Z"
   },
   {
    "duration": 91,
    "start_time": "2025-02-13T12:18:00.521Z"
   },
   {
    "duration": 58182,
    "start_time": "2025-02-13T12:18:00.617Z"
   },
   {
    "duration": 15,
    "start_time": "2025-02-13T12:18:58.801Z"
   },
   {
    "duration": 28,
    "start_time": "2025-02-13T12:18:58.817Z"
   },
   {
    "duration": 29,
    "start_time": "2025-02-13T12:18:58.847Z"
   },
   {
    "duration": 40,
    "start_time": "2025-02-13T12:18:58.878Z"
   },
   {
    "duration": 31,
    "start_time": "2025-02-13T12:18:58.920Z"
   },
   {
    "duration": 38,
    "start_time": "2025-02-13T12:18:58.953Z"
   },
   {
    "duration": 34,
    "start_time": "2025-02-13T12:18:58.993Z"
   },
   {
    "duration": 28,
    "start_time": "2025-02-13T12:18:59.029Z"
   },
   {
    "duration": 66,
    "start_time": "2025-02-13T12:18:59.058Z"
   },
   {
    "duration": 27,
    "start_time": "2025-02-13T12:18:59.125Z"
   },
   {
    "duration": 31,
    "start_time": "2025-02-13T12:18:59.154Z"
   },
   {
    "duration": 38,
    "start_time": "2025-02-13T12:18:59.187Z"
   },
   {
    "duration": 30,
    "start_time": "2025-02-13T12:18:59.227Z"
   },
   {
    "duration": 43,
    "start_time": "2025-02-13T12:18:59.258Z"
   },
   {
    "duration": 29,
    "start_time": "2025-02-13T12:18:59.303Z"
   },
   {
    "duration": 34,
    "start_time": "2025-02-13T12:18:59.334Z"
   },
   {
    "duration": 31,
    "start_time": "2025-02-13T12:18:59.370Z"
   },
   {
    "duration": 33,
    "start_time": "2025-02-13T12:18:59.403Z"
   },
   {
    "duration": 26,
    "start_time": "2025-02-13T12:18:59.438Z"
   },
   {
    "duration": 41,
    "start_time": "2025-02-13T12:18:59.466Z"
   },
   {
    "duration": 60,
    "start_time": "2025-02-13T12:18:59.509Z"
   },
   {
    "duration": 30,
    "start_time": "2025-02-13T12:18:59.571Z"
   },
   {
    "duration": 52,
    "start_time": "2025-02-14T12:35:21.661Z"
   },
   {
    "duration": 414,
    "start_time": "2025-02-14T12:35:36.273Z"
   },
   {
    "duration": 155,
    "start_time": "2025-02-14T12:35:36.689Z"
   },
   {
    "duration": 18,
    "start_time": "2025-02-14T12:35:36.845Z"
   },
   {
    "duration": 134,
    "start_time": "2025-02-14T12:35:36.865Z"
   },
   {
    "duration": 39,
    "start_time": "2025-02-14T12:35:37.001Z"
   },
   {
    "duration": 99,
    "start_time": "2025-02-14T12:35:37.041Z"
   },
   {
    "duration": 40,
    "start_time": "2025-02-14T12:35:37.142Z"
   },
   {
    "duration": 44,
    "start_time": "2025-02-14T12:35:37.184Z"
   },
   {
    "duration": 0,
    "start_time": "2025-02-14T12:35:37.230Z"
   },
   {
    "duration": 0,
    "start_time": "2025-02-14T12:35:37.233Z"
   },
   {
    "duration": 0,
    "start_time": "2025-02-14T12:35:37.234Z"
   },
   {
    "duration": 0,
    "start_time": "2025-02-14T12:35:37.235Z"
   },
   {
    "duration": 0,
    "start_time": "2025-02-14T12:35:37.236Z"
   },
   {
    "duration": 0,
    "start_time": "2025-02-14T12:35:37.238Z"
   },
   {
    "duration": 0,
    "start_time": "2025-02-14T12:35:37.239Z"
   },
   {
    "duration": 0,
    "start_time": "2025-02-14T12:35:37.240Z"
   },
   {
    "duration": 0,
    "start_time": "2025-02-14T12:35:37.241Z"
   },
   {
    "duration": 0,
    "start_time": "2025-02-14T12:35:37.242Z"
   },
   {
    "duration": 0,
    "start_time": "2025-02-14T12:35:37.244Z"
   },
   {
    "duration": 0,
    "start_time": "2025-02-14T12:35:37.245Z"
   },
   {
    "duration": 0,
    "start_time": "2025-02-14T12:35:37.247Z"
   },
   {
    "duration": 0,
    "start_time": "2025-02-14T12:35:37.248Z"
   },
   {
    "duration": 0,
    "start_time": "2025-02-14T12:35:37.249Z"
   },
   {
    "duration": 0,
    "start_time": "2025-02-14T12:35:37.251Z"
   },
   {
    "duration": 0,
    "start_time": "2025-02-14T12:35:37.252Z"
   },
   {
    "duration": 0,
    "start_time": "2025-02-14T12:35:37.253Z"
   },
   {
    "duration": 0,
    "start_time": "2025-02-14T12:35:37.255Z"
   },
   {
    "duration": 0,
    "start_time": "2025-02-14T12:35:37.256Z"
   },
   {
    "duration": 0,
    "start_time": "2025-02-14T12:35:37.257Z"
   },
   {
    "duration": 0,
    "start_time": "2025-02-14T12:35:37.259Z"
   },
   {
    "duration": 0,
    "start_time": "2025-02-14T12:35:37.260Z"
   },
   {
    "duration": 0,
    "start_time": "2025-02-14T12:35:37.261Z"
   },
   {
    "duration": 0,
    "start_time": "2025-02-14T12:35:37.262Z"
   },
   {
    "duration": 0,
    "start_time": "2025-02-14T12:35:37.263Z"
   },
   {
    "duration": 0,
    "start_time": "2025-02-14T12:35:37.264Z"
   },
   {
    "duration": 0,
    "start_time": "2025-02-14T12:35:37.265Z"
   },
   {
    "duration": 8,
    "start_time": "2025-02-14T12:37:37.359Z"
   },
   {
    "duration": 8,
    "start_time": "2025-02-14T12:38:05.874Z"
   },
   {
    "duration": 10,
    "start_time": "2025-02-14T12:38:34.236Z"
   },
   {
    "duration": 7,
    "start_time": "2025-02-14T12:40:02.258Z"
   },
   {
    "duration": 8,
    "start_time": "2025-02-14T12:40:12.162Z"
   },
   {
    "duration": 0,
    "start_time": "2025-02-14T12:40:12.172Z"
   },
   {
    "duration": 0,
    "start_time": "2025-02-14T12:40:12.174Z"
   },
   {
    "duration": 0,
    "start_time": "2025-02-14T12:40:12.175Z"
   },
   {
    "duration": 0,
    "start_time": "2025-02-14T12:40:12.176Z"
   },
   {
    "duration": 0,
    "start_time": "2025-02-14T12:40:12.177Z"
   },
   {
    "duration": 0,
    "start_time": "2025-02-14T12:40:12.178Z"
   },
   {
    "duration": 0,
    "start_time": "2025-02-14T12:40:12.179Z"
   },
   {
    "duration": 8,
    "start_time": "2025-02-14T12:40:12.182Z"
   },
   {
    "duration": 0,
    "start_time": "2025-02-14T12:40:12.192Z"
   },
   {
    "duration": 0,
    "start_time": "2025-02-14T12:40:12.193Z"
   },
   {
    "duration": 0,
    "start_time": "2025-02-14T12:40:12.195Z"
   },
   {
    "duration": 0,
    "start_time": "2025-02-14T12:40:12.196Z"
   },
   {
    "duration": 0,
    "start_time": "2025-02-14T12:40:12.197Z"
   },
   {
    "duration": 1,
    "start_time": "2025-02-14T12:40:12.198Z"
   },
   {
    "duration": 0,
    "start_time": "2025-02-14T12:40:12.199Z"
   },
   {
    "duration": 0,
    "start_time": "2025-02-14T12:40:12.200Z"
   },
   {
    "duration": 0,
    "start_time": "2025-02-14T12:40:12.202Z"
   },
   {
    "duration": 0,
    "start_time": "2025-02-14T12:40:12.203Z"
   },
   {
    "duration": 0,
    "start_time": "2025-02-14T12:40:12.204Z"
   },
   {
    "duration": 0,
    "start_time": "2025-02-14T12:40:12.248Z"
   },
   {
    "duration": 0,
    "start_time": "2025-02-14T12:40:12.250Z"
   },
   {
    "duration": 0,
    "start_time": "2025-02-14T12:40:12.251Z"
   },
   {
    "duration": 0,
    "start_time": "2025-02-14T12:40:12.252Z"
   },
   {
    "duration": 0,
    "start_time": "2025-02-14T12:40:12.253Z"
   },
   {
    "duration": 11,
    "start_time": "2025-02-14T12:40:12.256Z"
   },
   {
    "duration": 0,
    "start_time": "2025-02-14T12:40:12.269Z"
   },
   {
    "duration": 0,
    "start_time": "2025-02-14T12:40:12.270Z"
   },
   {
    "duration": 0,
    "start_time": "2025-02-14T12:40:12.271Z"
   },
   {
    "duration": 0,
    "start_time": "2025-02-14T12:40:12.272Z"
   },
   {
    "duration": 0,
    "start_time": "2025-02-14T12:40:12.273Z"
   },
   {
    "duration": 0,
    "start_time": "2025-02-14T12:40:12.274Z"
   },
   {
    "duration": 7,
    "start_time": "2025-02-14T12:40:27.656Z"
   },
   {
    "duration": 0,
    "start_time": "2025-02-14T12:40:27.665Z"
   },
   {
    "duration": 0,
    "start_time": "2025-02-14T12:40:27.666Z"
   },
   {
    "duration": 0,
    "start_time": "2025-02-14T12:40:27.668Z"
   },
   {
    "duration": 0,
    "start_time": "2025-02-14T12:40:27.669Z"
   },
   {
    "duration": 0,
    "start_time": "2025-02-14T12:40:27.670Z"
   },
   {
    "duration": 0,
    "start_time": "2025-02-14T12:40:27.672Z"
   },
   {
    "duration": 5,
    "start_time": "2025-02-14T12:40:27.674Z"
   },
   {
    "duration": 22,
    "start_time": "2025-02-14T12:40:27.681Z"
   },
   {
    "duration": 21,
    "start_time": "2025-02-14T12:40:27.704Z"
   },
   {
    "duration": 0,
    "start_time": "2025-02-14T12:40:27.748Z"
   },
   {
    "duration": 0,
    "start_time": "2025-02-14T12:40:27.749Z"
   },
   {
    "duration": 0,
    "start_time": "2025-02-14T12:40:27.751Z"
   },
   {
    "duration": 0,
    "start_time": "2025-02-14T12:40:27.753Z"
   },
   {
    "duration": 0,
    "start_time": "2025-02-14T12:40:27.755Z"
   },
   {
    "duration": 0,
    "start_time": "2025-02-14T12:40:27.756Z"
   },
   {
    "duration": 0,
    "start_time": "2025-02-14T12:40:27.758Z"
   },
   {
    "duration": 0,
    "start_time": "2025-02-14T12:40:27.760Z"
   },
   {
    "duration": 0,
    "start_time": "2025-02-14T12:40:27.761Z"
   },
   {
    "duration": 0,
    "start_time": "2025-02-14T12:40:27.763Z"
   },
   {
    "duration": 0,
    "start_time": "2025-02-14T12:40:27.764Z"
   },
   {
    "duration": 0,
    "start_time": "2025-02-14T12:40:27.766Z"
   },
   {
    "duration": 0,
    "start_time": "2025-02-14T12:40:27.767Z"
   },
   {
    "duration": 0,
    "start_time": "2025-02-14T12:40:27.769Z"
   },
   {
    "duration": 0,
    "start_time": "2025-02-14T12:40:27.772Z"
   },
   {
    "duration": 0,
    "start_time": "2025-02-14T12:40:27.773Z"
   },
   {
    "duration": 0,
    "start_time": "2025-02-14T12:40:27.775Z"
   },
   {
    "duration": 0,
    "start_time": "2025-02-14T12:40:27.776Z"
   },
   {
    "duration": 0,
    "start_time": "2025-02-14T12:40:27.778Z"
   },
   {
    "duration": 0,
    "start_time": "2025-02-14T12:40:27.780Z"
   },
   {
    "duration": 0,
    "start_time": "2025-02-14T12:40:27.781Z"
   },
   {
    "duration": 0,
    "start_time": "2025-02-14T12:40:27.782Z"
   },
   {
    "duration": 0,
    "start_time": "2025-02-14T12:40:27.784Z"
   },
   {
    "duration": 3,
    "start_time": "2025-02-14T12:41:05.559Z"
   },
   {
    "duration": 138,
    "start_time": "2025-02-14T12:41:05.564Z"
   },
   {
    "duration": 17,
    "start_time": "2025-02-14T12:41:05.703Z"
   },
   {
    "duration": 33,
    "start_time": "2025-02-14T12:41:05.721Z"
   },
   {
    "duration": 28,
    "start_time": "2025-02-14T12:41:05.756Z"
   },
   {
    "duration": 59,
    "start_time": "2025-02-14T12:41:05.786Z"
   },
   {
    "duration": 29,
    "start_time": "2025-02-14T12:41:05.847Z"
   },
   {
    "duration": 0,
    "start_time": "2025-02-14T12:41:05.879Z"
   },
   {
    "duration": 0,
    "start_time": "2025-02-14T12:41:05.880Z"
   },
   {
    "duration": 0,
    "start_time": "2025-02-14T12:41:05.881Z"
   },
   {
    "duration": 0,
    "start_time": "2025-02-14T12:41:05.882Z"
   },
   {
    "duration": 0,
    "start_time": "2025-02-14T12:41:05.883Z"
   },
   {
    "duration": 0,
    "start_time": "2025-02-14T12:41:05.884Z"
   },
   {
    "duration": 0,
    "start_time": "2025-02-14T12:41:05.885Z"
   },
   {
    "duration": 0,
    "start_time": "2025-02-14T12:41:05.886Z"
   },
   {
    "duration": 0,
    "start_time": "2025-02-14T12:41:05.887Z"
   },
   {
    "duration": 0,
    "start_time": "2025-02-14T12:41:05.888Z"
   },
   {
    "duration": 0,
    "start_time": "2025-02-14T12:41:05.889Z"
   },
   {
    "duration": 0,
    "start_time": "2025-02-14T12:41:05.890Z"
   },
   {
    "duration": 0,
    "start_time": "2025-02-14T12:41:05.891Z"
   },
   {
    "duration": 0,
    "start_time": "2025-02-14T12:41:05.892Z"
   },
   {
    "duration": 0,
    "start_time": "2025-02-14T12:41:05.893Z"
   },
   {
    "duration": 0,
    "start_time": "2025-02-14T12:41:05.894Z"
   },
   {
    "duration": 0,
    "start_time": "2025-02-14T12:41:05.895Z"
   },
   {
    "duration": 0,
    "start_time": "2025-02-14T12:41:05.896Z"
   },
   {
    "duration": 0,
    "start_time": "2025-02-14T12:41:05.897Z"
   },
   {
    "duration": 0,
    "start_time": "2025-02-14T12:41:05.898Z"
   },
   {
    "duration": 0,
    "start_time": "2025-02-14T12:41:05.899Z"
   },
   {
    "duration": 0,
    "start_time": "2025-02-14T12:41:05.900Z"
   },
   {
    "duration": 0,
    "start_time": "2025-02-14T12:41:05.901Z"
   },
   {
    "duration": 0,
    "start_time": "2025-02-14T12:41:05.902Z"
   },
   {
    "duration": 0,
    "start_time": "2025-02-14T12:41:05.903Z"
   },
   {
    "duration": 0,
    "start_time": "2025-02-14T12:41:05.905Z"
   },
   {
    "duration": 0,
    "start_time": "2025-02-14T12:41:05.905Z"
   },
   {
    "duration": 0,
    "start_time": "2025-02-14T12:41:05.906Z"
   },
   {
    "duration": 0,
    "start_time": "2025-02-14T12:41:05.907Z"
   },
   {
    "duration": 0,
    "start_time": "2025-02-14T12:41:05.908Z"
   },
   {
    "duration": 8,
    "start_time": "2025-02-14T12:42:01.436Z"
   },
   {
    "duration": 8,
    "start_time": "2025-02-14T12:42:14.438Z"
   },
   {
    "duration": 4,
    "start_time": "2025-02-14T12:42:37.161Z"
   },
   {
    "duration": 126,
    "start_time": "2025-02-14T12:42:37.168Z"
   },
   {
    "duration": 18,
    "start_time": "2025-02-14T12:42:37.296Z"
   },
   {
    "duration": 145,
    "start_time": "2025-02-14T12:42:37.316Z"
   },
   {
    "duration": 74,
    "start_time": "2025-02-14T12:42:37.464Z"
   },
   {
    "duration": 26,
    "start_time": "2025-02-14T12:42:37.540Z"
   },
   {
    "duration": 25,
    "start_time": "2025-02-14T12:42:37.568Z"
   },
   {
    "duration": 36,
    "start_time": "2025-02-14T12:42:37.595Z"
   },
   {
    "duration": 32,
    "start_time": "2025-02-14T12:42:37.633Z"
   },
   {
    "duration": 0,
    "start_time": "2025-02-14T12:42:37.668Z"
   },
   {
    "duration": 0,
    "start_time": "2025-02-14T12:42:37.669Z"
   },
   {
    "duration": 0,
    "start_time": "2025-02-14T12:42:37.670Z"
   },
   {
    "duration": 0,
    "start_time": "2025-02-14T12:42:37.671Z"
   },
   {
    "duration": 0,
    "start_time": "2025-02-14T12:42:37.673Z"
   },
   {
    "duration": 0,
    "start_time": "2025-02-14T12:42:37.674Z"
   },
   {
    "duration": 0,
    "start_time": "2025-02-14T12:42:37.675Z"
   },
   {
    "duration": 0,
    "start_time": "2025-02-14T12:42:37.677Z"
   },
   {
    "duration": 0,
    "start_time": "2025-02-14T12:42:37.678Z"
   },
   {
    "duration": 0,
    "start_time": "2025-02-14T12:42:37.679Z"
   },
   {
    "duration": 0,
    "start_time": "2025-02-14T12:42:37.680Z"
   },
   {
    "duration": 0,
    "start_time": "2025-02-14T12:42:37.681Z"
   },
   {
    "duration": 0,
    "start_time": "2025-02-14T12:42:37.682Z"
   },
   {
    "duration": 0,
    "start_time": "2025-02-14T12:42:37.684Z"
   },
   {
    "duration": 0,
    "start_time": "2025-02-14T12:42:37.685Z"
   },
   {
    "duration": 0,
    "start_time": "2025-02-14T12:42:37.686Z"
   },
   {
    "duration": 0,
    "start_time": "2025-02-14T12:42:37.687Z"
   },
   {
    "duration": 0,
    "start_time": "2025-02-14T12:42:37.688Z"
   },
   {
    "duration": 0,
    "start_time": "2025-02-14T12:42:37.689Z"
   },
   {
    "duration": 0,
    "start_time": "2025-02-14T12:42:37.690Z"
   },
   {
    "duration": 0,
    "start_time": "2025-02-14T12:42:37.691Z"
   },
   {
    "duration": 0,
    "start_time": "2025-02-14T12:42:37.693Z"
   },
   {
    "duration": 0,
    "start_time": "2025-02-14T12:42:37.694Z"
   },
   {
    "duration": 0,
    "start_time": "2025-02-14T12:42:37.695Z"
   },
   {
    "duration": 0,
    "start_time": "2025-02-14T12:42:37.696Z"
   },
   {
    "duration": 0,
    "start_time": "2025-02-14T12:42:37.697Z"
   },
   {
    "duration": 0,
    "start_time": "2025-02-14T12:42:37.698Z"
   },
   {
    "duration": 0,
    "start_time": "2025-02-14T12:42:37.699Z"
   },
   {
    "duration": 3,
    "start_time": "2025-02-14T12:44:11.018Z"
   },
   {
    "duration": 14,
    "start_time": "2025-02-14T12:44:14.125Z"
   },
   {
    "duration": 5,
    "start_time": "2025-02-14T12:44:52.411Z"
   },
   {
    "duration": 10,
    "start_time": "2025-02-14T12:44:55.551Z"
   },
   {
    "duration": 22,
    "start_time": "2025-02-14T12:45:07.208Z"
   },
   {
    "duration": 14,
    "start_time": "2025-02-14T12:45:08.712Z"
   },
   {
    "duration": 10,
    "start_time": "2025-02-14T12:46:32.284Z"
   },
   {
    "duration": 12,
    "start_time": "2025-02-14T12:46:35.645Z"
   },
   {
    "duration": 63,
    "start_time": "2025-02-14T12:46:51.559Z"
   },
   {
    "duration": 11,
    "start_time": "2025-02-14T12:47:02.224Z"
   },
   {
    "duration": 10,
    "start_time": "2025-02-14T12:47:24.971Z"
   },
   {
    "duration": 12,
    "start_time": "2025-02-14T12:48:23.479Z"
   },
   {
    "duration": 11,
    "start_time": "2025-02-14T12:48:35.888Z"
   },
   {
    "duration": 12,
    "start_time": "2025-02-14T12:48:37.791Z"
   },
   {
    "duration": 71,
    "start_time": "2025-02-14T12:49:19.899Z"
   },
   {
    "duration": 70,
    "start_time": "2025-02-14T12:49:52.820Z"
   },
   {
    "duration": 11,
    "start_time": "2025-02-14T12:52:49.471Z"
   },
   {
    "duration": 1282,
    "start_time": "2025-02-14T12:56:50.647Z"
   },
   {
    "duration": 1339,
    "start_time": "2025-02-14T12:57:04.567Z"
   },
   {
    "duration": 4,
    "start_time": "2025-02-14T12:57:23.099Z"
   },
   {
    "duration": 5,
    "start_time": "2025-02-14T12:57:57.612Z"
   },
   {
    "duration": 16,
    "start_time": "2025-02-14T12:58:01.886Z"
   },
   {
    "duration": 13,
    "start_time": "2025-02-14T12:59:23.678Z"
   },
   {
    "duration": 7,
    "start_time": "2025-02-14T12:59:26.477Z"
   },
   {
    "duration": 5,
    "start_time": "2025-02-14T12:59:27.875Z"
   },
   {
    "duration": 4,
    "start_time": "2025-02-14T12:59:28.360Z"
   },
   {
    "duration": 4,
    "start_time": "2025-02-14T12:59:31.398Z"
   },
   {
    "duration": 10,
    "start_time": "2025-02-14T12:59:31.968Z"
   },
   {
    "duration": 11,
    "start_time": "2025-02-14T12:59:32.517Z"
   },
   {
    "duration": 8,
    "start_time": "2025-02-14T12:59:32.968Z"
   },
   {
    "duration": 36,
    "start_time": "2025-02-14T12:59:34.297Z"
   },
   {
    "duration": 29,
    "start_time": "2025-02-14T12:59:34.872Z"
   },
   {
    "duration": 15,
    "start_time": "2025-02-14T12:59:38.389Z"
   },
   {
    "duration": 20,
    "start_time": "2025-02-14T12:59:41.853Z"
   },
   {
    "duration": 4,
    "start_time": "2025-02-14T12:59:42.737Z"
   },
   {
    "duration": 4,
    "start_time": "2025-02-14T13:00:06.849Z"
   },
   {
    "duration": 4,
    "start_time": "2025-02-14T13:00:07.701Z"
   },
   {
    "duration": 7,
    "start_time": "2025-02-14T13:02:04.566Z"
   },
   {
    "duration": 8,
    "start_time": "2025-02-14T13:02:54.816Z"
   },
   {
    "duration": 8,
    "start_time": "2025-02-14T13:02:56.948Z"
   },
   {
    "duration": 6,
    "start_time": "2025-02-14T13:02:59.999Z"
   },
   {
    "duration": 7,
    "start_time": "2025-02-14T13:03:02.543Z"
   },
   {
    "duration": 5,
    "start_time": "2025-02-14T13:06:07.915Z"
   },
   {
    "duration": 4,
    "start_time": "2025-02-14T13:06:08.486Z"
   }
  ],
  "colab": {
   "provenance": []
  },
  "kernelspec": {
   "display_name": "Python 3 (ipykernel)",
   "language": "python",
   "name": "python3"
  },
  "language_info": {
   "codemirror_mode": {
    "name": "ipython",
    "version": 3
   },
   "file_extension": ".py",
   "mimetype": "text/x-python",
   "name": "python",
   "nbconvert_exporter": "python",
   "pygments_lexer": "ipython3",
   "version": "3.9.5"
  },
  "toc": {
   "base_numbering": 1,
   "nav_menu": {},
   "number_sections": true,
   "sideBar": true,
   "skip_h1_title": true,
   "title_cell": "Table of Contents",
   "title_sidebar": "Contents",
   "toc_cell": false,
   "toc_position": {},
   "toc_section_display": true,
   "toc_window_display": false
  }
 },
 "nbformat": 4,
 "nbformat_minor": 5
}
