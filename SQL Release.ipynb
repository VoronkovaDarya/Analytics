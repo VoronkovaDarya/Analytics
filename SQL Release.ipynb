{
 "cells": [
  {
   "cell_type": "markdown",
   "id": "7e7ce9b0",
   "metadata": {},
   "source": [
    "# Содержание"
   ]
  },
  {
   "cell_type": "markdown",
   "id": "1c635271",
   "metadata": {},
   "source": [
    "1. Цель исследования\n",
    "2. Подключение к базе данных и необходимых библиотек\n",
    "   - Импортируем библиотеки.\n",
    "   - Установим доступ к базе данных.\n",
    "3. Ознакомимся с данными таблиц\n",
    "   - Выведем первые пять строк таблиц.\n",
    "4. Посчитаем, сколько книг вышло после 1 января 2000 года\n",
    "5. Для каждой книги посчитаем количество обзоров и среднюю оценку\n",
    "6. Определим издательство, которое выпустило наибольшее число книг толще 50 страниц \n",
    "7. Определим автора с самой высокой средней оценкой книг — учитываем только книги с 50 и более оценками\n",
    "8. Посчитаем среднее количество обзоров от пользователей, которые поставили больше 50 оценок\n",
    "9. Вывод"
   ]
  },
  {
   "cell_type": "markdown",
   "id": "6965f21d",
   "metadata": {},
   "source": [
    "## Цель исследования"
   ]
  },
  {
   "cell_type": "markdown",
   "id": "cb8ca25c",
   "metadata": {},
   "source": [
    "Сформулировать ценностное предложение для сервиса чтения книг.\n",
    "\n",
    "Цель: \n",
    "Анализ базы данных крупного книжного сервиса для чтения книг по подписке. В ней — информация о книгах, издательствах, авторах, а также пользовательские обзоры книг.\n",
    "\n",
    "Задачи:\n",
    "Ознакомиться с данными таблиц\n",
    "Посчитать, сколько книг вышло после 1 января 2000 года\n",
    "Для каждой книги посчитать количество обзоров и среднюю оценку\n",
    "Определить издательство, которое выпустило наибольшее число книг толще 50 страниц\n",
    "Определить автора с самой высокой средней оценкой книг — учитывать только книги с 50 и более оценками\n",
    "Посчитать среднее количество обзоров от пользователей, которые поставили больше 50 оценок"
   ]
  },
  {
   "cell_type": "markdown",
   "id": "2893c8a4",
   "metadata": {},
   "source": [
    "## Подключение к базе данных и необходимых библиотек"
   ]
  },
  {
   "cell_type": "markdown",
   "id": "bd311a59",
   "metadata": {},
   "source": [
    "### Импортируем библиотеки"
   ]
  },
  {
   "cell_type": "code",
   "execution_count": 1,
   "id": "29f33b49",
   "metadata": {},
   "outputs": [],
   "source": [
    "import pandas as pd\n",
    "from sqlalchemy import create_engine"
   ]
  },
  {
   "cell_type": "markdown",
   "id": "c9de96e8",
   "metadata": {},
   "source": [
    "### Установим доступ к базе данных"
   ]
  },
  {
   "cell_type": "code",
   "execution_count": 2,
   "id": "350f4601",
   "metadata": {},
   "outputs": [],
   "source": [
    "# устанавливаем параметры\n",
    "db_config = {'user': 'praktikum_student', # имя пользователя\n",
    "'pwd': 'Sdf4$2;d-d30pp', # пароль\n",
    "'host': 'rc1b-wcoijxj3yxfsf3fs.mdb.yandexcloud.net',\n",
    "'port': 6432, # порт подключения\n",
    "'db': 'data-analyst-final-project-db'} # название базы данных\n",
    "connection_string = 'postgresql://{}:{}@{}:{}/{}'.format(db_config['user'],\n",
    " db_config['pwd'],\n",
    " db_config['host'],\n",
    " db_config['port'],\n",
    " db_config['db'])\n",
    "# сохраняем коннектор\n",
    "engine = create_engine(connection_string, connect_args={'sslmode':'require'})"
   ]
  },
  {
   "cell_type": "markdown",
   "id": "e2f8f9c3",
   "metadata": {},
   "source": [
    "## Ознакомимся с данными таблиц"
   ]
  },
  {
   "cell_type": "markdown",
   "id": "3ac41ed0",
   "metadata": {},
   "source": [
    "### Выведем первые пять строк таблиц"
   ]
  },
  {
   "cell_type": "code",
   "execution_count": 3,
   "id": "187a2d9b",
   "metadata": {},
   "outputs": [],
   "source": [
    "sql_query = \"\"\"\n",
    "  SELECT *\n",
    "  FROM books, authors, publishers, ratings, reviews\n",
    "  LIMIT 5;\n",
    "  \"\"\""
   ]
  },
  {
   "cell_type": "code",
   "execution_count": 4,
   "id": "53ba696b",
   "metadata": {},
   "outputs": [
    {
     "data": {
      "text/html": [
       "<div>\n",
       "<style scoped>\n",
       "    .dataframe tbody tr th:only-of-type {\n",
       "        vertical-align: middle;\n",
       "    }\n",
       "\n",
       "    .dataframe tbody tr th {\n",
       "        vertical-align: top;\n",
       "    }\n",
       "\n",
       "    .dataframe thead th {\n",
       "        text-align: right;\n",
       "    }\n",
       "</style>\n",
       "<table border=\"1\" class=\"dataframe\">\n",
       "  <thead>\n",
       "    <tr style=\"text-align: right;\">\n",
       "      <th></th>\n",
       "      <th>book_id</th>\n",
       "      <th>author_id</th>\n",
       "      <th>title</th>\n",
       "      <th>num_pages</th>\n",
       "      <th>publication_date</th>\n",
       "      <th>publisher_id</th>\n",
       "      <th>author_id</th>\n",
       "      <th>author</th>\n",
       "      <th>publisher_id</th>\n",
       "      <th>publisher</th>\n",
       "      <th>rating_id</th>\n",
       "      <th>book_id</th>\n",
       "      <th>username</th>\n",
       "      <th>rating</th>\n",
       "      <th>review_id</th>\n",
       "      <th>book_id</th>\n",
       "      <th>username</th>\n",
       "      <th>text</th>\n",
       "    </tr>\n",
       "  </thead>\n",
       "  <tbody>\n",
       "    <tr>\n",
       "      <th>0</th>\n",
       "      <td>1</td>\n",
       "      <td>546</td>\n",
       "      <td>'Salem's Lot</td>\n",
       "      <td>594</td>\n",
       "      <td>2005-11-01</td>\n",
       "      <td>93</td>\n",
       "      <td>1</td>\n",
       "      <td>A.S. Byatt</td>\n",
       "      <td>1</td>\n",
       "      <td>Ace</td>\n",
       "      <td>1</td>\n",
       "      <td>1</td>\n",
       "      <td>ryanfranco</td>\n",
       "      <td>4</td>\n",
       "      <td>1</td>\n",
       "      <td>1</td>\n",
       "      <td>brandtandrea</td>\n",
       "      <td>Mention society tell send professor analysis. ...</td>\n",
       "    </tr>\n",
       "    <tr>\n",
       "      <th>1</th>\n",
       "      <td>1</td>\n",
       "      <td>546</td>\n",
       "      <td>'Salem's Lot</td>\n",
       "      <td>594</td>\n",
       "      <td>2005-11-01</td>\n",
       "      <td>93</td>\n",
       "      <td>1</td>\n",
       "      <td>A.S. Byatt</td>\n",
       "      <td>1</td>\n",
       "      <td>Ace</td>\n",
       "      <td>2</td>\n",
       "      <td>1</td>\n",
       "      <td>grantpatricia</td>\n",
       "      <td>2</td>\n",
       "      <td>1</td>\n",
       "      <td>1</td>\n",
       "      <td>brandtandrea</td>\n",
       "      <td>Mention society tell send professor analysis. ...</td>\n",
       "    </tr>\n",
       "    <tr>\n",
       "      <th>2</th>\n",
       "      <td>1</td>\n",
       "      <td>546</td>\n",
       "      <td>'Salem's Lot</td>\n",
       "      <td>594</td>\n",
       "      <td>2005-11-01</td>\n",
       "      <td>93</td>\n",
       "      <td>1</td>\n",
       "      <td>A.S. Byatt</td>\n",
       "      <td>1</td>\n",
       "      <td>Ace</td>\n",
       "      <td>3</td>\n",
       "      <td>1</td>\n",
       "      <td>brandtandrea</td>\n",
       "      <td>5</td>\n",
       "      <td>1</td>\n",
       "      <td>1</td>\n",
       "      <td>brandtandrea</td>\n",
       "      <td>Mention society tell send professor analysis. ...</td>\n",
       "    </tr>\n",
       "    <tr>\n",
       "      <th>3</th>\n",
       "      <td>1</td>\n",
       "      <td>546</td>\n",
       "      <td>'Salem's Lot</td>\n",
       "      <td>594</td>\n",
       "      <td>2005-11-01</td>\n",
       "      <td>93</td>\n",
       "      <td>1</td>\n",
       "      <td>A.S. Byatt</td>\n",
       "      <td>1</td>\n",
       "      <td>Ace</td>\n",
       "      <td>4</td>\n",
       "      <td>2</td>\n",
       "      <td>lorichen</td>\n",
       "      <td>3</td>\n",
       "      <td>1</td>\n",
       "      <td>1</td>\n",
       "      <td>brandtandrea</td>\n",
       "      <td>Mention society tell send professor analysis. ...</td>\n",
       "    </tr>\n",
       "    <tr>\n",
       "      <th>4</th>\n",
       "      <td>1</td>\n",
       "      <td>546</td>\n",
       "      <td>'Salem's Lot</td>\n",
       "      <td>594</td>\n",
       "      <td>2005-11-01</td>\n",
       "      <td>93</td>\n",
       "      <td>1</td>\n",
       "      <td>A.S. Byatt</td>\n",
       "      <td>1</td>\n",
       "      <td>Ace</td>\n",
       "      <td>5</td>\n",
       "      <td>2</td>\n",
       "      <td>mariokeller</td>\n",
       "      <td>2</td>\n",
       "      <td>1</td>\n",
       "      <td>1</td>\n",
       "      <td>brandtandrea</td>\n",
       "      <td>Mention society tell send professor analysis. ...</td>\n",
       "    </tr>\n",
       "  </tbody>\n",
       "</table>\n",
       "</div>"
      ],
      "text/plain": [
       "   book_id  author_id         title  num_pages publication_date  publisher_id  \\\n",
       "0        1        546  'Salem's Lot        594       2005-11-01            93   \n",
       "1        1        546  'Salem's Lot        594       2005-11-01            93   \n",
       "2        1        546  'Salem's Lot        594       2005-11-01            93   \n",
       "3        1        546  'Salem's Lot        594       2005-11-01            93   \n",
       "4        1        546  'Salem's Lot        594       2005-11-01            93   \n",
       "\n",
       "   author_id      author  publisher_id publisher  rating_id  book_id  \\\n",
       "0          1  A.S. Byatt             1       Ace          1        1   \n",
       "1          1  A.S. Byatt             1       Ace          2        1   \n",
       "2          1  A.S. Byatt             1       Ace          3        1   \n",
       "3          1  A.S. Byatt             1       Ace          4        2   \n",
       "4          1  A.S. Byatt             1       Ace          5        2   \n",
       "\n",
       "        username  rating  review_id  book_id      username  \\\n",
       "0     ryanfranco       4          1        1  brandtandrea   \n",
       "1  grantpatricia       2          1        1  brandtandrea   \n",
       "2   brandtandrea       5          1        1  brandtandrea   \n",
       "3       lorichen       3          1        1  brandtandrea   \n",
       "4    mariokeller       2          1        1  brandtandrea   \n",
       "\n",
       "                                                text  \n",
       "0  Mention society tell send professor analysis. ...  \n",
       "1  Mention society tell send professor analysis. ...  \n",
       "2  Mention society tell send professor analysis. ...  \n",
       "3  Mention society tell send professor analysis. ...  \n",
       "4  Mention society tell send professor analysis. ...  "
      ]
     },
     "execution_count": 4,
     "metadata": {},
     "output_type": "execute_result"
    }
   ],
   "source": [
    "tables = pd.io.sql.read_sql(sql_query, con = engine)\n",
    "tables"
   ]
  },
  {
   "cell_type": "markdown",
   "id": "a527e9b3",
   "metadata": {},
   "source": [
    "Столбцы всех 5-ти таблиц в соответствии с схемой базы данных присутствуют."
   ]
  },
  {
   "cell_type": "code",
   "execution_count": 5,
   "id": "0506a65b",
   "metadata": {},
   "outputs": [
    {
     "name": "stdout",
     "output_type": "stream",
     "text": [
      "<class 'pandas.core.frame.DataFrame'>\n",
      "RangeIndex: 5 entries, 0 to 4\n",
      "Data columns (total 18 columns):\n",
      " #   Column            Non-Null Count  Dtype \n",
      "---  ------            --------------  ----- \n",
      " 0   book_id           5 non-null      int64 \n",
      " 1   author_id         5 non-null      int64 \n",
      " 2   title             5 non-null      object\n",
      " 3   num_pages         5 non-null      int64 \n",
      " 4   publication_date  5 non-null      object\n",
      " 5   publisher_id      5 non-null      int64 \n",
      " 6   author_id         5 non-null      int64 \n",
      " 7   author            5 non-null      object\n",
      " 8   publisher_id      5 non-null      int64 \n",
      " 9   publisher         5 non-null      object\n",
      " 10  rating_id         5 non-null      int64 \n",
      " 11  book_id           5 non-null      int64 \n",
      " 12  username          5 non-null      object\n",
      " 13  rating            5 non-null      int64 \n",
      " 14  review_id         5 non-null      int64 \n",
      " 15  book_id           5 non-null      int64 \n",
      " 16  username          5 non-null      object\n",
      " 17  text              5 non-null      object\n",
      "dtypes: int64(11), object(7)\n",
      "memory usage: 848.0+ bytes\n"
     ]
    },
    {
     "data": {
      "text/plain": [
       "None"
      ]
     },
     "metadata": {},
     "output_type": "display_data"
    },
    {
     "data": {
      "text/plain": [
       "book_id             0\n",
       "author_id           0\n",
       "title               0\n",
       "num_pages           0\n",
       "publication_date    0\n",
       "publisher_id        0\n",
       "author_id           0\n",
       "author              0\n",
       "publisher_id        0\n",
       "publisher           0\n",
       "rating_id           0\n",
       "book_id             0\n",
       "username            0\n",
       "rating              0\n",
       "review_id           0\n",
       "book_id             0\n",
       "username            0\n",
       "text                0\n",
       "dtype: int64"
      ]
     },
     "metadata": {},
     "output_type": "display_data"
    },
    {
     "data": {
      "text/plain": [
       "0"
      ]
     },
     "metadata": {},
     "output_type": "display_data"
    }
   ],
   "source": [
    "display(tables.info(), tables.isna().sum(), tables.duplicated().sum())"
   ]
  },
  {
   "cell_type": "markdown",
   "id": "b1fc2dc5",
   "metadata": {},
   "source": [
    "Данные чистые пропусков и дубликатов нет, тип данных неверный только у столбца с датой 'publication_date'."
   ]
  },
  {
   "cell_type": "markdown",
   "id": "ffcc76ff",
   "metadata": {},
   "source": [
    "## Посчитаем, сколько книг вышло после 1 января 2000 года"
   ]
  },
  {
   "cell_type": "code",
   "execution_count": 6,
   "id": "8511811d",
   "metadata": {},
   "outputs": [],
   "source": [
    "sql_query_one = \"\"\"\n",
    "  SELECT COUNT(DISTINCT(book_id))\n",
    "  FROM books\n",
    "  WHERE publication_date > '2000-01-01';\n",
    "  \"\"\""
   ]
  },
  {
   "cell_type": "code",
   "execution_count": 7,
   "id": "05f4ed70",
   "metadata": {},
   "outputs": [
    {
     "data": {
      "text/html": [
       "<div>\n",
       "<style scoped>\n",
       "    .dataframe tbody tr th:only-of-type {\n",
       "        vertical-align: middle;\n",
       "    }\n",
       "\n",
       "    .dataframe tbody tr th {\n",
       "        vertical-align: top;\n",
       "    }\n",
       "\n",
       "    .dataframe thead th {\n",
       "        text-align: right;\n",
       "    }\n",
       "</style>\n",
       "<table border=\"1\" class=\"dataframe\">\n",
       "  <thead>\n",
       "    <tr style=\"text-align: right;\">\n",
       "      <th></th>\n",
       "      <th>count</th>\n",
       "    </tr>\n",
       "  </thead>\n",
       "  <tbody>\n",
       "    <tr>\n",
       "      <th>0</th>\n",
       "      <td>819</td>\n",
       "    </tr>\n",
       "  </tbody>\n",
       "</table>\n",
       "</div>"
      ],
      "text/plain": [
       "   count\n",
       "0    819"
      ]
     },
     "execution_count": 7,
     "metadata": {},
     "output_type": "execute_result"
    }
   ],
   "source": [
    "pd.io.sql.read_sql(sql_query_one, con = engine)"
   ]
  },
  {
   "cell_type": "markdown",
   "id": "cf5c9862",
   "metadata": {},
   "source": [
    "С начала 2000 года вышло 819 книг."
   ]
  },
  {
   "cell_type": "markdown",
   "id": "4f9790ef",
   "metadata": {},
   "source": [
    "## Для каждой книги посчитаем количество обзоров и среднюю оценку"
   ]
  },
  {
   "cell_type": "code",
   "execution_count": 8,
   "id": "9be98945",
   "metadata": {},
   "outputs": [],
   "source": [
    "sql_query_two = \"\"\"\n",
    "  WITH\n",
    "  rew AS (SELECT book_id, review_id\n",
    "          FROM reviews),\n",
    "          \n",
    "  rat AS (SELECT rating_id, rating\n",
    "          FROM ratings),\n",
    "          \n",
    "  bk AS (SELECT DISTINCT book_id, title\n",
    "         FROM books)\n",
    "  \n",
    "  SELECT COUNT(review_id), AVG(rating), bk.book_id\n",
    "  FROM bk\n",
    "  LEFT OUTER JOIN rew ON bk.book_id = rew.book_id\n",
    "  LEFT OUTER JOIN rat ON bk.book_id = rat.rating_id\n",
    "  GROUP BY bk.book_id;\n",
    "  \"\"\""
   ]
  },
  {
   "cell_type": "code",
   "execution_count": 9,
   "id": "c135e589",
   "metadata": {},
   "outputs": [
    {
     "data": {
      "text/html": [
       "<div>\n",
       "<style scoped>\n",
       "    .dataframe tbody tr th:only-of-type {\n",
       "        vertical-align: middle;\n",
       "    }\n",
       "\n",
       "    .dataframe tbody tr th {\n",
       "        vertical-align: top;\n",
       "    }\n",
       "\n",
       "    .dataframe thead th {\n",
       "        text-align: right;\n",
       "    }\n",
       "</style>\n",
       "<table border=\"1\" class=\"dataframe\">\n",
       "  <thead>\n",
       "    <tr style=\"text-align: right;\">\n",
       "      <th></th>\n",
       "      <th>count</th>\n",
       "      <th>avg</th>\n",
       "      <th>book_id</th>\n",
       "    </tr>\n",
       "  </thead>\n",
       "  <tbody>\n",
       "    <tr>\n",
       "      <th>0</th>\n",
       "      <td>2</td>\n",
       "      <td>4.0</td>\n",
       "      <td>1</td>\n",
       "    </tr>\n",
       "    <tr>\n",
       "      <th>1</th>\n",
       "      <td>1</td>\n",
       "      <td>2.0</td>\n",
       "      <td>2</td>\n",
       "    </tr>\n",
       "    <tr>\n",
       "      <th>2</th>\n",
       "      <td>3</td>\n",
       "      <td>5.0</td>\n",
       "      <td>3</td>\n",
       "    </tr>\n",
       "    <tr>\n",
       "      <th>3</th>\n",
       "      <td>2</td>\n",
       "      <td>3.0</td>\n",
       "      <td>4</td>\n",
       "    </tr>\n",
       "    <tr>\n",
       "      <th>4</th>\n",
       "      <td>4</td>\n",
       "      <td>2.0</td>\n",
       "      <td>5</td>\n",
       "    </tr>\n",
       "    <tr>\n",
       "      <th>...</th>\n",
       "      <td>...</td>\n",
       "      <td>...</td>\n",
       "      <td>...</td>\n",
       "    </tr>\n",
       "    <tr>\n",
       "      <th>995</th>\n",
       "      <td>3</td>\n",
       "      <td>4.0</td>\n",
       "      <td>996</td>\n",
       "    </tr>\n",
       "    <tr>\n",
       "      <th>996</th>\n",
       "      <td>3</td>\n",
       "      <td>5.0</td>\n",
       "      <td>997</td>\n",
       "    </tr>\n",
       "    <tr>\n",
       "      <th>997</th>\n",
       "      <td>4</td>\n",
       "      <td>5.0</td>\n",
       "      <td>998</td>\n",
       "    </tr>\n",
       "    <tr>\n",
       "      <th>998</th>\n",
       "      <td>2</td>\n",
       "      <td>5.0</td>\n",
       "      <td>999</td>\n",
       "    </tr>\n",
       "    <tr>\n",
       "      <th>999</th>\n",
       "      <td>4</td>\n",
       "      <td>3.0</td>\n",
       "      <td>1000</td>\n",
       "    </tr>\n",
       "  </tbody>\n",
       "</table>\n",
       "<p>1000 rows × 3 columns</p>\n",
       "</div>"
      ],
      "text/plain": [
       "     count  avg  book_id\n",
       "0        2  4.0        1\n",
       "1        1  2.0        2\n",
       "2        3  5.0        3\n",
       "3        2  3.0        4\n",
       "4        4  2.0        5\n",
       "..     ...  ...      ...\n",
       "995      3  4.0      996\n",
       "996      3  5.0      997\n",
       "997      4  5.0      998\n",
       "998      2  5.0      999\n",
       "999      4  3.0     1000\n",
       "\n",
       "[1000 rows x 3 columns]"
      ]
     },
     "execution_count": 9,
     "metadata": {},
     "output_type": "execute_result"
    }
   ],
   "source": [
    "pd.io.sql.read_sql(sql_query_two, con = engine)"
   ]
  },
  {
   "cell_type": "markdown",
   "id": "05736f35",
   "metadata": {},
   "source": [
    "Все в порядке, данные получены."
   ]
  },
  {
   "cell_type": "markdown",
   "id": "9f7b1497",
   "metadata": {},
   "source": [
    "## Определим издательство, которое выпустило наибольшее число книг толще 50 страниц "
   ]
  },
  {
   "cell_type": "code",
   "execution_count": 10,
   "id": "6fe0b6d5",
   "metadata": {},
   "outputs": [],
   "source": [
    "sql_query_three = \"\"\"\n",
    "  WITH         \n",
    "  bk AS (SELECT book_id, publisher_id, num_pages\n",
    "         FROM books\n",
    "         WHERE num_pages > 50),\n",
    "         \n",
    "  pb AS (SELECT publisher_id, publisher\n",
    "         FROM publishers)       \n",
    "  \n",
    "  SELECT pb.publisher\n",
    "  FROM bk\n",
    "  JOIN pb ON bk.publisher_id = pb.publisher_id\n",
    "  \n",
    "  GROUP BY pb.publisher\n",
    "  ORDER BY COUNT(bk.book_id) DESC\n",
    "  LIMIT 3;\n",
    "  \"\"\""
   ]
  },
  {
   "cell_type": "code",
   "execution_count": 11,
   "id": "f17d2ae2",
   "metadata": {},
   "outputs": [
    {
     "data": {
      "text/html": [
       "<div>\n",
       "<style scoped>\n",
       "    .dataframe tbody tr th:only-of-type {\n",
       "        vertical-align: middle;\n",
       "    }\n",
       "\n",
       "    .dataframe tbody tr th {\n",
       "        vertical-align: top;\n",
       "    }\n",
       "\n",
       "    .dataframe thead th {\n",
       "        text-align: right;\n",
       "    }\n",
       "</style>\n",
       "<table border=\"1\" class=\"dataframe\">\n",
       "  <thead>\n",
       "    <tr style=\"text-align: right;\">\n",
       "      <th></th>\n",
       "      <th>publisher</th>\n",
       "    </tr>\n",
       "  </thead>\n",
       "  <tbody>\n",
       "    <tr>\n",
       "      <th>0</th>\n",
       "      <td>Penguin Books</td>\n",
       "    </tr>\n",
       "    <tr>\n",
       "      <th>1</th>\n",
       "      <td>Vintage</td>\n",
       "    </tr>\n",
       "    <tr>\n",
       "      <th>2</th>\n",
       "      <td>Grand Central Publishing</td>\n",
       "    </tr>\n",
       "  </tbody>\n",
       "</table>\n",
       "</div>"
      ],
      "text/plain": [
       "                  publisher\n",
       "0             Penguin Books\n",
       "1                   Vintage\n",
       "2  Grand Central Publishing"
      ]
     },
     "execution_count": 11,
     "metadata": {},
     "output_type": "execute_result"
    }
   ],
   "source": [
    "pd.io.sql.read_sql(sql_query_three, con = engine)"
   ]
  },
  {
   "cell_type": "markdown",
   "id": "4953edc8",
   "metadata": {},
   "source": [
    "Победило 'Penguin Books', именно оно выпускает наибольшее количество книг с 50+ числом страниц, на 2-ом месте 'Vintage' и на 3-ем 'Grand Central Publishing'."
   ]
  },
  {
   "cell_type": "markdown",
   "id": "8e7ad0be",
   "metadata": {},
   "source": [
    "## Определим автора с самой высокой средней оценкой книг — учитываем только книги с 50 и более оценками"
   ]
  },
  {
   "cell_type": "code",
   "execution_count": 12,
   "id": "915138f4",
   "metadata": {},
   "outputs": [],
   "source": [
    "sql_query_four = \"\"\"\n",
    "  WITH         \n",
    "  bk AS (SELECT book_id, author_id, title\n",
    "           FROM books),\n",
    "         \n",
    "  rt AS (SELECT rating_id, rating, book_id\n",
    "         FROM ratings),\n",
    "         \n",
    "  at AS (SELECT author_id, author\n",
    "         FROM authors)      \n",
    "  \n",
    "  SELECT author, AVG(i.rat)\n",
    "  FROM (SELECT rt.book_id, AVG(rt.rating) AS rat, bk.author_id\n",
    "        FROM rt\n",
    "        JOIN bk ON rt.book_id = bk.book_id\n",
    "        GROUP BY rt.book_id, bk.author_id\n",
    "        HAVING COUNT(rt.rating_id) >= 50\n",
    "  ) AS i     \n",
    "  JOIN at ON i.author_id = at.author_id    \n",
    "  GROUP BY author\n",
    "  ORDER BY AVG(i.rat) DESC\n",
    "  --LIMIT 2;\n",
    "  \"\"\""
   ]
  },
  {
   "cell_type": "code",
   "execution_count": 13,
   "id": "b59ec5ad",
   "metadata": {},
   "outputs": [
    {
     "data": {
      "text/html": [
       "<div>\n",
       "<style scoped>\n",
       "    .dataframe tbody tr th:only-of-type {\n",
       "        vertical-align: middle;\n",
       "    }\n",
       "\n",
       "    .dataframe tbody tr th {\n",
       "        vertical-align: top;\n",
       "    }\n",
       "\n",
       "    .dataframe thead th {\n",
       "        text-align: right;\n",
       "    }\n",
       "</style>\n",
       "<table border=\"1\" class=\"dataframe\">\n",
       "  <thead>\n",
       "    <tr style=\"text-align: right;\">\n",
       "      <th></th>\n",
       "      <th>author</th>\n",
       "      <th>avg</th>\n",
       "    </tr>\n",
       "  </thead>\n",
       "  <tbody>\n",
       "    <tr>\n",
       "      <th>0</th>\n",
       "      <td>J.K. Rowling/Mary GrandPré</td>\n",
       "      <td>4.283844</td>\n",
       "    </tr>\n",
       "    <tr>\n",
       "      <th>1</th>\n",
       "      <td>Markus Zusak/Cao Xuân Việt Khương</td>\n",
       "      <td>4.264151</td>\n",
       "    </tr>\n",
       "    <tr>\n",
       "      <th>2</th>\n",
       "      <td>J.R.R. Tolkien</td>\n",
       "      <td>4.258446</td>\n",
       "    </tr>\n",
       "    <tr>\n",
       "      <th>3</th>\n",
       "      <td>Louisa May Alcott</td>\n",
       "      <td>4.192308</td>\n",
       "    </tr>\n",
       "    <tr>\n",
       "      <th>4</th>\n",
       "      <td>Rick Riordan</td>\n",
       "      <td>4.080645</td>\n",
       "    </tr>\n",
       "    <tr>\n",
       "      <th>5</th>\n",
       "      <td>William Golding</td>\n",
       "      <td>3.901408</td>\n",
       "    </tr>\n",
       "    <tr>\n",
       "      <th>6</th>\n",
       "      <td>J.D. Salinger</td>\n",
       "      <td>3.825581</td>\n",
       "    </tr>\n",
       "    <tr>\n",
       "      <th>7</th>\n",
       "      <td>Paulo Coelho/Alan R. Clarke/Özdemir İnce</td>\n",
       "      <td>3.789474</td>\n",
       "    </tr>\n",
       "    <tr>\n",
       "      <th>8</th>\n",
       "      <td>William Shakespeare/Paul Werstine/Barbara A. M...</td>\n",
       "      <td>3.787879</td>\n",
       "    </tr>\n",
       "    <tr>\n",
       "      <th>9</th>\n",
       "      <td>Dan Brown</td>\n",
       "      <td>3.754540</td>\n",
       "    </tr>\n",
       "    <tr>\n",
       "      <th>10</th>\n",
       "      <td>Lois Lowry</td>\n",
       "      <td>3.750000</td>\n",
       "    </tr>\n",
       "    <tr>\n",
       "      <th>11</th>\n",
       "      <td>George Orwell/Boris Grabnar/Peter Škerl</td>\n",
       "      <td>3.729730</td>\n",
       "    </tr>\n",
       "    <tr>\n",
       "      <th>12</th>\n",
       "      <td>Stephenie Meyer</td>\n",
       "      <td>3.662500</td>\n",
       "    </tr>\n",
       "    <tr>\n",
       "      <th>13</th>\n",
       "      <td>John Steinbeck</td>\n",
       "      <td>3.622951</td>\n",
       "    </tr>\n",
       "  </tbody>\n",
       "</table>\n",
       "</div>"
      ],
      "text/plain": [
       "                                               author       avg\n",
       "0                          J.K. Rowling/Mary GrandPré  4.283844\n",
       "1                   Markus Zusak/Cao Xuân Việt Khương  4.264151\n",
       "2                                      J.R.R. Tolkien  4.258446\n",
       "3                                   Louisa May Alcott  4.192308\n",
       "4                                        Rick Riordan  4.080645\n",
       "5                                     William Golding  3.901408\n",
       "6                                       J.D. Salinger  3.825581\n",
       "7            Paulo Coelho/Alan R. Clarke/Özdemir İnce  3.789474\n",
       "8   William Shakespeare/Paul Werstine/Barbara A. M...  3.787879\n",
       "9                                           Dan Brown  3.754540\n",
       "10                                         Lois Lowry  3.750000\n",
       "11            George Orwell/Boris Grabnar/Peter Škerl  3.729730\n",
       "12                                    Stephenie Meyer  3.662500\n",
       "13                                     John Steinbeck  3.622951"
      ]
     },
     "execution_count": 13,
     "metadata": {},
     "output_type": "execute_result"
    }
   ],
   "source": [
    "pd.io.sql.read_sql(sql_query_four, con = engine)"
   ]
  },
  {
   "cell_type": "markdown",
   "id": "be2dc7e1",
   "metadata": {},
   "source": [
    "Дж.К.Роулинг с вселенной Гарри Поттер оказалась на вершине популярности, разделив ее с 'Mary GrandPré', Толкин с вселенной Властелина колец занял 3-ое место, на 2-ом Markus Zusak/Cao Xuân Việt Khương."
   ]
  },
  {
   "cell_type": "markdown",
   "id": "8cbf5cc7",
   "metadata": {},
   "source": [
    "## Посчитаем среднее количество обзоров от пользователей, которые поставили больше 50 оценок"
   ]
  },
  {
   "cell_type": "code",
   "execution_count": 14,
   "id": "e28c43aa",
   "metadata": {},
   "outputs": [],
   "source": [
    "sql_query_five = \"\"\"\n",
    "\n",
    "  WITH         \n",
    "  rt AS (SELECT rating_id, username\n",
    "         FROM ratings),\n",
    "         \n",
    "  rw AS (SELECT review_id, username\n",
    "         FROM reviews)      \n",
    "  \n",
    "  SELECT AVG(i.revi)\n",
    "  FROM (SELECT COUNT(rw.review_id) AS revi\n",
    "        FROM rw\n",
    "        WHERE \n",
    "           rw.username IN (SELECT username\n",
    "                        FROM rt\n",
    "                        GROUP BY username \n",
    "                        HAVING COUNT(rt.rating_id) > 50)\n",
    "        GROUP BY rw.username) AS i;\n",
    "  \"\"\""
   ]
  },
  {
   "cell_type": "code",
   "execution_count": 15,
   "id": "50fb00ff",
   "metadata": {},
   "outputs": [
    {
     "data": {
      "text/html": [
       "<div>\n",
       "<style scoped>\n",
       "    .dataframe tbody tr th:only-of-type {\n",
       "        vertical-align: middle;\n",
       "    }\n",
       "\n",
       "    .dataframe tbody tr th {\n",
       "        vertical-align: top;\n",
       "    }\n",
       "\n",
       "    .dataframe thead th {\n",
       "        text-align: right;\n",
       "    }\n",
       "</style>\n",
       "<table border=\"1\" class=\"dataframe\">\n",
       "  <thead>\n",
       "    <tr style=\"text-align: right;\">\n",
       "      <th></th>\n",
       "      <th>avg</th>\n",
       "    </tr>\n",
       "  </thead>\n",
       "  <tbody>\n",
       "    <tr>\n",
       "      <th>0</th>\n",
       "      <td>24.333333</td>\n",
       "    </tr>\n",
       "  </tbody>\n",
       "</table>\n",
       "</div>"
      ],
      "text/plain": [
       "         avg\n",
       "0  24.333333"
      ]
     },
     "execution_count": 15,
     "metadata": {},
     "output_type": "execute_result"
    }
   ],
   "source": [
    "pd.io.sql.read_sql(sql_query_five, con = engine)"
   ]
  },
  {
   "cell_type": "markdown",
   "id": "b27211f8",
   "metadata": {},
   "source": [
    "Среднее количество обзоров активных пользователей около 24 ед."
   ]
  },
  {
   "cell_type": "markdown",
   "id": "57048d4f",
   "metadata": {},
   "source": [
    "## Вывод"
   ]
  },
  {
   "cell_type": "markdown",
   "id": "e43bea99",
   "metadata": {},
   "source": [
    "В среднем активные пользователи оставляют по 24 обзора\n",
    "В пятерку лучших авторов вошли:\n",
    "                              1. J.K. Rowling/Mary GrandPré\n",
    "                              2. Markus Zusak/Cao Xuân Việt Khương\n",
    "                              3. J.R.R. Tolkien\n",
    "                              4. Louisa May Alcott\n",
    "                              5. Rick Riordan\n",
    "Самыми продуктивными издательствами являются: \n",
    "                                            1. Penguin Books\n",
    "                                            2. Vintage\n",
    "                                            3. Grand Central Publishing"
   ]
  }
 ],
 "metadata": {
  "ExecuteTimeLog": [
   {
    "duration": 491,
    "start_time": "2022-07-29T08:50:25.782Z"
   },
   {
    "duration": 9687,
    "start_time": "2022-07-29T08:50:26.275Z"
   },
   {
    "duration": 3,
    "start_time": "2022-07-29T08:50:35.964Z"
   },
   {
    "duration": 264,
    "start_time": "2022-07-29T08:50:35.968Z"
   },
   {
    "duration": 23,
    "start_time": "2022-07-29T08:50:36.234Z"
   },
   {
    "duration": 2,
    "start_time": "2022-07-29T08:50:36.259Z"
   },
   {
    "duration": 76,
    "start_time": "2022-07-29T08:50:36.263Z"
   },
   {
    "duration": 3,
    "start_time": "2022-07-29T08:50:36.341Z"
   },
   {
    "duration": 103,
    "start_time": "2022-07-29T08:50:36.346Z"
   },
   {
    "duration": 2,
    "start_time": "2022-07-29T08:50:36.452Z"
   },
   {
    "duration": 79,
    "start_time": "2022-07-29T08:50:36.456Z"
   },
   {
    "duration": 3,
    "start_time": "2022-07-29T08:50:36.537Z"
   },
   {
    "duration": 91,
    "start_time": "2022-07-29T08:50:36.541Z"
   },
   {
    "duration": 4,
    "start_time": "2022-07-29T08:50:36.633Z"
   },
   {
    "duration": 88,
    "start_time": "2022-07-29T08:50:36.639Z"
   },
   {
    "duration": 2,
    "start_time": "2022-07-29T08:52:09.978Z"
   },
   {
    "duration": 91,
    "start_time": "2022-07-29T08:52:11.079Z"
   },
   {
    "duration": 8,
    "start_time": "2022-07-29T09:10:21.685Z"
   },
   {
    "duration": 45,
    "start_time": "2022-07-29T09:10:22.347Z"
   },
   {
    "duration": 558,
    "start_time": "2022-07-29T09:10:26.610Z"
   },
   {
    "duration": 7327,
    "start_time": "2022-07-29T09:10:27.170Z"
   },
   {
    "duration": 4,
    "start_time": "2022-07-29T09:10:34.498Z"
   },
   {
    "duration": 271,
    "start_time": "2022-07-29T09:10:34.504Z"
   },
   {
    "duration": 20,
    "start_time": "2022-07-29T09:10:34.778Z"
   },
   {
    "duration": 3,
    "start_time": "2022-07-29T09:10:34.799Z"
   },
   {
    "duration": 74,
    "start_time": "2022-07-29T09:10:34.803Z"
   },
   {
    "duration": 3,
    "start_time": "2022-07-29T09:10:34.878Z"
   },
   {
    "duration": 97,
    "start_time": "2022-07-29T09:10:34.882Z"
   },
   {
    "duration": 2,
    "start_time": "2022-07-29T09:10:34.982Z"
   },
   {
    "duration": 81,
    "start_time": "2022-07-29T09:10:34.986Z"
   },
   {
    "duration": 2,
    "start_time": "2022-07-29T09:10:35.069Z"
   },
   {
    "duration": 81,
    "start_time": "2022-07-29T09:10:35.073Z"
   },
   {
    "duration": 2,
    "start_time": "2022-07-29T09:10:35.157Z"
   },
   {
    "duration": 88,
    "start_time": "2022-07-29T09:10:35.161Z"
   },
   {
    "duration": 3,
    "start_time": "2022-07-29T09:12:23.274Z"
   },
   {
    "duration": 72,
    "start_time": "2022-07-29T09:12:23.858Z"
   },
   {
    "duration": 3,
    "start_time": "2022-07-29T11:12:02.812Z"
   },
   {
    "duration": 183,
    "start_time": "2022-07-29T11:12:03.755Z"
   },
   {
    "duration": 4,
    "start_time": "2022-07-29T11:13:16.914Z"
   },
   {
    "duration": 152,
    "start_time": "2022-07-29T11:13:17.388Z"
   },
   {
    "duration": 3,
    "start_time": "2022-07-29T11:15:50.143Z"
   },
   {
    "duration": 155,
    "start_time": "2022-07-29T11:15:50.512Z"
   },
   {
    "duration": 3,
    "start_time": "2022-07-29T11:17:05.743Z"
   },
   {
    "duration": 137,
    "start_time": "2022-07-29T11:17:06.096Z"
   },
   {
    "duration": 3,
    "start_time": "2022-07-29T11:22:22.899Z"
   },
   {
    "duration": 130,
    "start_time": "2022-07-29T11:22:23.192Z"
   },
   {
    "duration": 3,
    "start_time": "2022-07-29T11:23:13.716Z"
   },
   {
    "duration": 144,
    "start_time": "2022-07-29T11:23:13.974Z"
   },
   {
    "duration": 5,
    "start_time": "2022-07-29T11:23:22.851Z"
   },
   {
    "duration": 89,
    "start_time": "2022-07-29T11:23:23.168Z"
   },
   {
    "duration": 538,
    "start_time": "2022-07-30T09:27:15.004Z"
   },
   {
    "duration": 8678,
    "start_time": "2022-07-30T09:27:15.544Z"
   },
   {
    "duration": 3,
    "start_time": "2022-07-30T09:27:24.223Z"
   },
   {
    "duration": 252,
    "start_time": "2022-07-30T09:27:24.228Z"
   },
   {
    "duration": 23,
    "start_time": "2022-07-30T09:27:24.481Z"
   },
   {
    "duration": 5,
    "start_time": "2022-07-30T09:27:24.506Z"
   },
   {
    "duration": 83,
    "start_time": "2022-07-30T09:27:24.513Z"
   },
   {
    "duration": 4,
    "start_time": "2022-07-30T09:27:24.598Z"
   },
   {
    "duration": 117,
    "start_time": "2022-07-30T09:27:24.604Z"
   },
   {
    "duration": 3,
    "start_time": "2022-07-30T09:27:24.723Z"
   },
   {
    "duration": 2159,
    "start_time": "2022-07-30T09:27:24.727Z"
   },
   {
    "duration": 3,
    "start_time": "2022-07-30T09:27:26.888Z"
   },
   {
    "duration": 93,
    "start_time": "2022-07-30T09:27:26.893Z"
   },
   {
    "duration": 3,
    "start_time": "2022-07-30T09:27:26.988Z"
   },
   {
    "duration": 2129,
    "start_time": "2022-07-30T09:27:26.992Z"
   },
   {
    "duration": 7,
    "start_time": "2022-07-30T20:14:05.617Z"
   },
   {
    "duration": 41,
    "start_time": "2022-07-30T20:14:05.915Z"
   },
   {
    "duration": 456,
    "start_time": "2022-07-30T20:14:09.490Z"
   },
   {
    "duration": 5693,
    "start_time": "2022-07-30T20:14:09.948Z"
   },
   {
    "duration": 2,
    "start_time": "2022-07-30T20:14:15.643Z"
   },
   {
    "duration": 237,
    "start_time": "2022-07-30T20:14:15.648Z"
   },
   {
    "duration": 18,
    "start_time": "2022-07-30T20:14:15.886Z"
   },
   {
    "duration": 3,
    "start_time": "2022-07-30T20:14:15.905Z"
   },
   {
    "duration": 68,
    "start_time": "2022-07-30T20:14:15.909Z"
   },
   {
    "duration": 3,
    "start_time": "2022-07-30T20:14:15.979Z"
   },
   {
    "duration": 97,
    "start_time": "2022-07-30T20:14:15.984Z"
   },
   {
    "duration": 3,
    "start_time": "2022-07-30T20:14:16.084Z"
   },
   {
    "duration": 73,
    "start_time": "2022-07-30T20:14:16.089Z"
   },
   {
    "duration": 3,
    "start_time": "2022-07-30T20:14:16.164Z"
   },
   {
    "duration": 161,
    "start_time": "2022-07-30T20:14:16.169Z"
   },
   {
    "duration": 0,
    "start_time": "2022-07-30T20:14:16.332Z"
   },
   {
    "duration": 0,
    "start_time": "2022-07-30T20:14:16.333Z"
   },
   {
    "duration": 3,
    "start_time": "2022-07-30T20:14:30.610Z"
   },
   {
    "duration": 122,
    "start_time": "2022-07-30T20:14:31.069Z"
   },
   {
    "duration": 3,
    "start_time": "2022-07-30T20:14:57.013Z"
   },
   {
    "duration": 122,
    "start_time": "2022-07-30T20:14:57.281Z"
   },
   {
    "duration": 2,
    "start_time": "2022-07-30T20:15:17.812Z"
   },
   {
    "duration": 73,
    "start_time": "2022-07-30T20:15:18.115Z"
   },
   {
    "duration": 4,
    "start_time": "2022-07-30T20:17:11.737Z"
   },
   {
    "duration": 73,
    "start_time": "2022-07-30T20:17:11.993Z"
   },
   {
    "duration": 2,
    "start_time": "2022-07-30T20:17:26.517Z"
   },
   {
    "duration": 74,
    "start_time": "2022-07-30T20:17:26.866Z"
   },
   {
    "duration": 3,
    "start_time": "2022-07-30T20:22:30.031Z"
   },
   {
    "duration": 74,
    "start_time": "2022-07-30T20:22:30.718Z"
   },
   {
    "duration": 2,
    "start_time": "2022-07-30T20:25:12.155Z"
   },
   {
    "duration": 122,
    "start_time": "2022-07-30T20:25:12.486Z"
   },
   {
    "duration": 3,
    "start_time": "2022-07-30T20:26:18.725Z"
   },
   {
    "duration": 73,
    "start_time": "2022-07-30T20:26:19.139Z"
   },
   {
    "duration": 3,
    "start_time": "2022-07-30T20:26:31.609Z"
   },
   {
    "duration": 70,
    "start_time": "2022-07-30T20:26:31.957Z"
   },
   {
    "duration": 3,
    "start_time": "2022-07-30T20:26:57.525Z"
   },
   {
    "duration": 120,
    "start_time": "2022-07-30T20:26:57.913Z"
   },
   {
    "duration": 4,
    "start_time": "2022-07-30T20:27:08.987Z"
   },
   {
    "duration": 73,
    "start_time": "2022-07-30T20:27:09.492Z"
   },
   {
    "duration": 562,
    "start_time": "2022-07-31T09:26:50.007Z"
   },
   {
    "duration": 11792,
    "start_time": "2022-07-31T09:26:50.571Z"
   },
   {
    "duration": 3,
    "start_time": "2022-07-31T09:27:02.366Z"
   },
   {
    "duration": 87,
    "start_time": "2022-07-31T09:27:02.371Z"
   },
   {
    "duration": 23,
    "start_time": "2022-07-31T09:27:02.459Z"
   },
   {
    "duration": 2,
    "start_time": "2022-07-31T09:27:02.484Z"
   },
   {
    "duration": 15,
    "start_time": "2022-07-31T09:27:02.488Z"
   },
   {
    "duration": 5,
    "start_time": "2022-07-31T09:27:02.505Z"
   },
   {
    "duration": 30,
    "start_time": "2022-07-31T09:27:02.512Z"
   },
   {
    "duration": 3,
    "start_time": "2022-07-31T09:27:02.545Z"
   },
   {
    "duration": 19,
    "start_time": "2022-07-31T09:27:02.549Z"
   },
   {
    "duration": 2,
    "start_time": "2022-07-31T09:27:02.570Z"
   },
   {
    "duration": 23,
    "start_time": "2022-07-31T09:27:02.574Z"
   },
   {
    "duration": 4,
    "start_time": "2022-07-31T09:27:02.599Z"
   },
   {
    "duration": 19,
    "start_time": "2022-07-31T09:27:02.605Z"
   },
   {
    "duration": 537,
    "start_time": "2022-08-03T14:34:31.191Z"
   },
   {
    "duration": 9129,
    "start_time": "2022-08-03T14:34:31.730Z"
   },
   {
    "duration": 3,
    "start_time": "2022-08-03T14:34:40.860Z"
   },
   {
    "duration": 282,
    "start_time": "2022-08-03T14:34:40.866Z"
   },
   {
    "duration": 22,
    "start_time": "2022-08-03T14:34:41.150Z"
   },
   {
    "duration": 2,
    "start_time": "2022-08-03T14:34:41.174Z"
   },
   {
    "duration": 80,
    "start_time": "2022-08-03T14:34:41.177Z"
   },
   {
    "duration": 3,
    "start_time": "2022-08-03T14:34:41.258Z"
   },
   {
    "duration": 113,
    "start_time": "2022-08-03T14:34:41.263Z"
   },
   {
    "duration": 2,
    "start_time": "2022-08-03T14:34:41.379Z"
   },
   {
    "duration": 84,
    "start_time": "2022-08-03T14:34:41.382Z"
   },
   {
    "duration": 3,
    "start_time": "2022-08-03T14:34:41.467Z"
   },
   {
    "duration": 87,
    "start_time": "2022-08-03T14:34:41.471Z"
   },
   {
    "duration": 3,
    "start_time": "2022-08-03T14:34:41.559Z"
   },
   {
    "duration": 82,
    "start_time": "2022-08-03T14:34:41.564Z"
   }
  ],
  "kernelspec": {
   "display_name": "Python 3 (ipykernel)",
   "language": "python",
   "name": "python3"
  },
  "language_info": {
   "codemirror_mode": {
    "name": "ipython",
    "version": 3
   },
   "file_extension": ".py",
   "mimetype": "text/x-python",
   "name": "python",
   "nbconvert_exporter": "python",
   "pygments_lexer": "ipython3",
   "version": "3.9.7"
  },
  "toc": {
   "base_numbering": 1,
   "nav_menu": {},
   "number_sections": false,
   "sideBar": true,
   "skip_h1_title": false,
   "title_cell": "Table of Contents",
   "title_sidebar": "Contents",
   "toc_cell": false,
   "toc_position": {},
   "toc_section_display": true,
   "toc_window_display": true
  }
 },
 "nbformat": 4,
 "nbformat_minor": 5
}
