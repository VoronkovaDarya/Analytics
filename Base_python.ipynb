{
 "cells": [
  {
   "cell_type": "markdown",
   "metadata": {
    "id": "E0vqbgi9ay0H"
   },
   "source": [
    "# Яндекс.Музыка"
   ]
  },
  {
   "cell_type": "markdown",
   "metadata": {
    "id": "VUC88oWjTJw2"
   },
   "source": [
    "Сравнение Москвы и Петербурга окружено мифами. Например:\n",
    " * Москва — мегаполис, подчинённый жёсткому ритму рабочей недели;\n",
    " * Петербург — культурная столица, со своими вкусами.\n",
    "\n",
    "На данных Яндекс.Музыки вы сравните поведение пользователей двух столиц.\n",
    "\n",
    "**Цель исследования** — проверьте три гипотезы:\n",
    "1. Активность пользователей зависит от дня недели. Причём в Москве и Петербурге это проявляется по-разному.\n",
    "2. В понедельник утром в Москве преобладают одни жанры, а в Петербурге — другие. Так же и вечером пятницы преобладают разные жанры — в зависимости от города. \n",
    "3. Москва и Петербург предпочитают разные жанры музыки. В Москве чаще слушают поп-музыку, в Петербурге — русский рэп.\n",
    "\n",
    "**Ход исследования**\n",
    "\n",
    "Данные о поведении пользователей вы получите из файла `yandex_music_project.csv`. О качестве данных ничего не известно. Поэтому перед проверкой гипотез понадобится обзор данных. \n",
    "\n",
    "Вы проверите данные на ошибки и оцените их влияние на исследование. Затем, на этапе предобработки вы поищете возможность исправить самые критичные ошибки данных.\n",
    " \n",
    "Таким образом, исследование пройдёт в три этапа:\n",
    " 1. Обзор данных.\n",
    " 2. Предобработка данных.\n",
    " 3. Проверка гипотез.\n",
    "\n"
   ]
  },
  {
   "cell_type": "markdown",
   "metadata": {
    "id": "Ml1hmfXC_Zcs"
   },
   "source": [
    "## Обзор данных\n",
    "\n",
    "Составим первое представление о данных Яндекс.Музыки.\n",
    "\n",
    "\n"
   ]
  },
  {
   "cell_type": "code",
   "execution_count": 42,
   "metadata": {
    "id": "AXN7PHPN_Zcs"
   },
   "outputs": [],
   "source": [
    "# импорт библиотеки pandas\n",
    "import pandas as pd"
   ]
  },
  {
   "cell_type": "code",
   "execution_count": 43,
   "metadata": {
    "id": "fFVu7vqh_Zct"
   },
   "outputs": [],
   "source": [
    "# чтение файла с данными и сохранение в df\n",
    "df = pd.read_csv('/datasets/yandex_music_project.csv')"
   ]
  },
  {
   "cell_type": "code",
   "execution_count": 44,
   "metadata": {
    "id": "oWTVX3gW_Zct"
   },
   "outputs": [
    {
     "data": {
      "text/html": [
       "<div>\n",
       "<style scoped>\n",
       "    .dataframe tbody tr th:only-of-type {\n",
       "        vertical-align: middle;\n",
       "    }\n",
       "\n",
       "    .dataframe tbody tr th {\n",
       "        vertical-align: top;\n",
       "    }\n",
       "\n",
       "    .dataframe thead th {\n",
       "        text-align: right;\n",
       "    }\n",
       "</style>\n",
       "<table border=\"1\" class=\"dataframe\">\n",
       "  <thead>\n",
       "    <tr style=\"text-align: right;\">\n",
       "      <th></th>\n",
       "      <th>userID</th>\n",
       "      <th>Track</th>\n",
       "      <th>artist</th>\n",
       "      <th>genre</th>\n",
       "      <th>City</th>\n",
       "      <th>time</th>\n",
       "      <th>Day</th>\n",
       "    </tr>\n",
       "  </thead>\n",
       "  <tbody>\n",
       "    <tr>\n",
       "      <td>0</td>\n",
       "      <td>FFB692EC</td>\n",
       "      <td>Kamigata To Boots</td>\n",
       "      <td>The Mass Missile</td>\n",
       "      <td>rock</td>\n",
       "      <td>Saint-Petersburg</td>\n",
       "      <td>20:28:33</td>\n",
       "      <td>Wednesday</td>\n",
       "    </tr>\n",
       "    <tr>\n",
       "      <td>1</td>\n",
       "      <td>55204538</td>\n",
       "      <td>Delayed Because of Accident</td>\n",
       "      <td>Andreas Rönnberg</td>\n",
       "      <td>rock</td>\n",
       "      <td>Moscow</td>\n",
       "      <td>14:07:09</td>\n",
       "      <td>Friday</td>\n",
       "    </tr>\n",
       "    <tr>\n",
       "      <td>2</td>\n",
       "      <td>20EC38</td>\n",
       "      <td>Funiculì funiculà</td>\n",
       "      <td>Mario Lanza</td>\n",
       "      <td>pop</td>\n",
       "      <td>Saint-Petersburg</td>\n",
       "      <td>20:58:07</td>\n",
       "      <td>Wednesday</td>\n",
       "    </tr>\n",
       "    <tr>\n",
       "      <td>3</td>\n",
       "      <td>A3DD03C9</td>\n",
       "      <td>Dragons in the Sunset</td>\n",
       "      <td>Fire + Ice</td>\n",
       "      <td>folk</td>\n",
       "      <td>Saint-Petersburg</td>\n",
       "      <td>08:37:09</td>\n",
       "      <td>Monday</td>\n",
       "    </tr>\n",
       "    <tr>\n",
       "      <td>4</td>\n",
       "      <td>E2DC1FAE</td>\n",
       "      <td>Soul People</td>\n",
       "      <td>Space Echo</td>\n",
       "      <td>dance</td>\n",
       "      <td>Moscow</td>\n",
       "      <td>08:34:34</td>\n",
       "      <td>Monday</td>\n",
       "    </tr>\n",
       "    <tr>\n",
       "      <td>5</td>\n",
       "      <td>842029A1</td>\n",
       "      <td>Преданная</td>\n",
       "      <td>IMPERVTOR</td>\n",
       "      <td>rusrap</td>\n",
       "      <td>Saint-Petersburg</td>\n",
       "      <td>13:09:41</td>\n",
       "      <td>Friday</td>\n",
       "    </tr>\n",
       "    <tr>\n",
       "      <td>6</td>\n",
       "      <td>4CB90AA5</td>\n",
       "      <td>True</td>\n",
       "      <td>Roman Messer</td>\n",
       "      <td>dance</td>\n",
       "      <td>Moscow</td>\n",
       "      <td>13:00:07</td>\n",
       "      <td>Wednesday</td>\n",
       "    </tr>\n",
       "    <tr>\n",
       "      <td>7</td>\n",
       "      <td>F03E1C1F</td>\n",
       "      <td>Feeling This Way</td>\n",
       "      <td>Polina Griffith</td>\n",
       "      <td>dance</td>\n",
       "      <td>Moscow</td>\n",
       "      <td>20:47:49</td>\n",
       "      <td>Wednesday</td>\n",
       "    </tr>\n",
       "    <tr>\n",
       "      <td>8</td>\n",
       "      <td>8FA1D3BE</td>\n",
       "      <td>И вновь продолжается бой</td>\n",
       "      <td>NaN</td>\n",
       "      <td>ruspop</td>\n",
       "      <td>Moscow</td>\n",
       "      <td>09:17:40</td>\n",
       "      <td>Friday</td>\n",
       "    </tr>\n",
       "    <tr>\n",
       "      <td>9</td>\n",
       "      <td>E772D5C0</td>\n",
       "      <td>Pessimist</td>\n",
       "      <td>NaN</td>\n",
       "      <td>dance</td>\n",
       "      <td>Saint-Petersburg</td>\n",
       "      <td>21:20:49</td>\n",
       "      <td>Wednesday</td>\n",
       "    </tr>\n",
       "  </tbody>\n",
       "</table>\n",
       "</div>"
      ],
      "text/plain": [
       "     userID                        Track            artist   genre  \\\n",
       "0  FFB692EC            Kamigata To Boots  The Mass Missile    rock   \n",
       "1  55204538  Delayed Because of Accident  Andreas Rönnberg    rock   \n",
       "2    20EC38            Funiculì funiculà       Mario Lanza     pop   \n",
       "3  A3DD03C9        Dragons in the Sunset        Fire + Ice    folk   \n",
       "4  E2DC1FAE                  Soul People        Space Echo   dance   \n",
       "5  842029A1                    Преданная         IMPERVTOR  rusrap   \n",
       "6  4CB90AA5                         True      Roman Messer   dance   \n",
       "7  F03E1C1F             Feeling This Way   Polina Griffith   dance   \n",
       "8  8FA1D3BE     И вновь продолжается бой               NaN  ruspop   \n",
       "9  E772D5C0                    Pessimist               NaN   dance   \n",
       "\n",
       "             City        time        Day  \n",
       "0  Saint-Petersburg  20:28:33  Wednesday  \n",
       "1            Moscow  14:07:09     Friday  \n",
       "2  Saint-Petersburg  20:58:07  Wednesday  \n",
       "3  Saint-Petersburg  08:37:09     Monday  \n",
       "4            Moscow  08:34:34     Monday  \n",
       "5  Saint-Petersburg  13:09:41     Friday  \n",
       "6            Moscow  13:00:07  Wednesday  \n",
       "7            Moscow  20:47:49  Wednesday  \n",
       "8            Moscow  09:17:40     Friday  \n",
       "9  Saint-Petersburg  21:20:49  Wednesday  "
      ]
     },
     "execution_count": 44,
     "metadata": {},
     "output_type": "execute_result"
    }
   ],
   "source": [
    "# получение первых 10 строк таблицы df\n",
    "df.head(10)"
   ]
  },
  {
   "cell_type": "code",
   "execution_count": 45,
   "metadata": {
    "id": "DSf2kIb-_Zct"
   },
   "outputs": [
    {
     "name": "stdout",
     "output_type": "stream",
     "text": [
      "<class 'pandas.core.frame.DataFrame'>\n",
      "RangeIndex: 65079 entries, 0 to 65078\n",
      "Data columns (total 7 columns):\n",
      "  userID    65079 non-null object\n",
      "Track       63848 non-null object\n",
      "artist      57876 non-null object\n",
      "genre       63881 non-null object\n",
      "  City      65079 non-null object\n",
      "time        65079 non-null object\n",
      "Day         65079 non-null object\n",
      "dtypes: object(7)\n",
      "memory usage: 3.5+ MB\n"
     ]
    }
   ],
   "source": [
    "# получение общей информации о данных в таблице df\n",
    "df.info()"
   ]
  },
  {
   "cell_type": "markdown",
   "metadata": {
    "id": "TaQ2Iwbr_Zct"
   },
   "source": [
    "Итак, в таблице семь столбцов. Тип данных во всех столбцах — `object`.\n",
    "\n",
    "Согласно документации к данным:\n",
    "* `userID` — идентификатор пользователя;\n",
    "* `Track` — название трека;  \n",
    "* `artist` — имя исполнителя;\n",
    "* `genre` — название жанра;\n",
    "* `City` — город пользователя;\n",
    "* `time` — время начала прослушивания;\n",
    "* `Day` — день недели.\n",
    "\n",
    "В названиях колонок видны три нарушения стиля:\n",
    "1. Строчные буквы сочетаются с прописными.\n",
    "2. Встречаются пробелы.\n",
    "3. В названии первого столбца следует использовать \"змеиный\" регистр: user_id.\n",
    "\n",
    "\n",
    "\n",
    "Количество значений в столбцах различается. Значит, в данных есть пропущенные значения.\n"
   ]
  },
  {
   "cell_type": "markdown",
   "metadata": {
    "id": "MCB6-dXG_Zct"
   },
   "source": [
    "**Выводы**\n",
    "\n",
    "В каждой строке таблицы — данные о прослушанном треке. Часть колонок описывает саму композицию: название, исполнителя и жанр. Остальные данные рассказывают о пользователе: из какого он города, когда он слушал музыку. \n",
    "\n",
    "Предварительно можно утверждать, что, данных достаточно для проверки гипотез. Но встречаются пропуски в данных, а в названиях колонок — расхождения с хорошим стилем.\n",
    "\n",
    "Чтобы двигаться дальше, нужно устранить проблемы в данных."
   ]
  },
  {
   "cell_type": "markdown",
   "metadata": {
    "id": "SjYF6Ub9_Zct"
   },
   "source": [
    "## Предобработка данных\n",
    "Исправим стиль в заголовках столбцов, исключите пропуски. Затем проверьте данные на дубликаты."
   ]
  },
  {
   "cell_type": "markdown",
   "metadata": {
    "id": "dIaKXr29_Zct"
   },
   "source": [
    "### Стиль заголовков\n",
    "Выведим на экран названия столбцов:"
   ]
  },
  {
   "cell_type": "code",
   "execution_count": 46,
   "metadata": {
    "id": "oKOTdF_Q_Zct"
   },
   "outputs": [
    {
     "data": {
      "text/plain": [
       "Index(['  userID', 'Track', 'artist', 'genre', '  City  ', 'time', 'Day'], dtype='object')"
      ]
     },
     "execution_count": 46,
     "metadata": {},
     "output_type": "execute_result"
    }
   ],
   "source": [
    "# перечень названий столбцов таблицы df\n",
    "df.columns"
   ]
  },
  {
   "cell_type": "markdown",
   "metadata": {
    "id": "zj5534cv_Zct"
   },
   "source": [
    "Приведем названия в соответствие с хорошим стилем:\n",
    "* несколько слов в названии запишите в «змеином_регистре»,\n",
    "* все символы сделайте строчными,\n",
    "* устраните пробелы.\n",
    "\n",
    "Для этого переименуем колонки так:\n",
    "* `'  userID'` → `'user_id'`;\n",
    "* `'Track'` → `'track'`;\n",
    "* `'  City  '` → `'city'`;\n",
    "* `'Day'` → `'day'`."
   ]
  },
  {
   "cell_type": "code",
   "execution_count": 47,
   "metadata": {
    "id": "ISlFqs5y_Zct"
   },
   "outputs": [],
   "source": [
    "# переименование столбцов\n",
    "df = df.rename(columns={'  userID': 'user_id', 'Track': 'track', '  City  ': 'city', 'Day': 'day'})"
   ]
  },
  {
   "cell_type": "code",
   "execution_count": 48,
   "metadata": {
    "id": "d4NOAmTW_Zct"
   },
   "outputs": [
    {
     "data": {
      "text/plain": [
       "Index(['user_id', 'track', 'artist', 'genre', 'city', 'time', 'day'], dtype='object')"
      ]
     },
     "metadata": {},
     "output_type": "display_data"
    }
   ],
   "source": [
    "# проверка результатов - перечень названий столбцов\n",
    "display(df.columns)"
   ]
  },
  {
   "cell_type": "markdown",
   "metadata": {
    "id": "5ISfbcfY_Zct"
   },
   "source": [
    "### Пропуски значений\n",
    "Посчитаем, сколько в таблице пропущенных значений."
   ]
  },
  {
   "cell_type": "code",
   "execution_count": 49,
   "metadata": {
    "id": "RskX29qr_Zct"
   },
   "outputs": [
    {
     "data": {
      "text/plain": [
       "user_id       0\n",
       "track      1231\n",
       "artist     7203\n",
       "genre      1198\n",
       "city          0\n",
       "time          0\n",
       "day           0\n",
       "dtype: int64"
      ]
     },
     "execution_count": 49,
     "metadata": {},
     "output_type": "execute_result"
    }
   ],
   "source": [
    "# подсчёт пропусков\n",
    "df.isna().sum()"
   ]
  },
  {
   "cell_type": "markdown",
   "metadata": {
    "id": "qubhgnlO_Zct"
   },
   "source": [
    "Не все пропущенные значения влияют на исследование. Так в `track` и `artist` пропуски не важны для вашей работы. Достаточно заменить их явными обозначениями.\n",
    "\n",
    "Но пропуски в `genre` могут помешать сравнению музыкальных вкусов в Москве и Санкт-Петербурге. На практике было бы правильно установить причину пропусков и восстановить данные. Такой возможности нет в учебном проекте. Придётся:\n",
    "* заполнить и эти пропуски явными обозначениями,\n",
    "* оценить, насколько они повредят расчётам. "
   ]
  },
  {
   "cell_type": "markdown",
   "metadata": {
    "id": "fSv2laPA_Zct"
   },
   "source": [
    "Заменим пропущенные значения в столбцах `track`, `artist` и `genre` на строку `'unknown'`. Для этого создаем список `columns_to_replace`, переберем его элементы циклом `for` и для каждого столбца выполним замену пропущенных значений:"
   ]
  },
  {
   "cell_type": "code",
   "execution_count": 50,
   "metadata": {
    "id": "KplB5qWs_Zct"
   },
   "outputs": [],
   "source": [
    "# перебор названий столбцов в цикле и замена пропущенных значений на 'unknown'\n",
    "columns_to_replace = ['track', 'artist', 'genre']\n",
    "\n",
    "for i in columns_to_replace:\n",
    "    df[i] = df[i].fillna('unknown')"
   ]
  },
  {
   "cell_type": "code",
   "execution_count": 51,
   "metadata": {
    "id": "Tq4nYRX4_Zct"
   },
   "outputs": [
    {
     "data": {
      "text/plain": [
       "user_id    0\n",
       "track      0\n",
       "artist     0\n",
       "genre      0\n",
       "city       0\n",
       "time       0\n",
       "day        0\n",
       "dtype: int64"
      ]
     },
     "execution_count": 51,
     "metadata": {},
     "output_type": "execute_result"
    }
   ],
   "source": [
    "# подсчёт пропусков\n",
    "df.isna().sum()"
   ]
  },
  {
   "cell_type": "markdown",
   "metadata": {
    "id": "BWKRtBJ3_Zct"
   },
   "source": [
    "### Дубликаты\n",
    "Посчитаем явные дубликаты в таблице одной командой:"
   ]
  },
  {
   "cell_type": "code",
   "execution_count": 52,
   "metadata": {
    "id": "36eES_S0_Zct"
   },
   "outputs": [
    {
     "data": {
      "text/plain": [
       "3826"
      ]
     },
     "execution_count": 52,
     "metadata": {},
     "output_type": "execute_result"
    }
   ],
   "source": [
    "# подсчёт явных дубликатов\n",
    "df.duplicated().sum()"
   ]
  },
  {
   "cell_type": "code",
   "execution_count": 53,
   "metadata": {
    "id": "exFHq6tt_Zct"
   },
   "outputs": [],
   "source": [
    "# удаление явных дубликатов (с удалением старых индексов и формированием новых)\n",
    "df = df.drop_duplicates().reset_index(drop=True)"
   ]
  },
  {
   "cell_type": "code",
   "execution_count": 54,
   "metadata": {
    "id": "-8PuNWQ0_Zct"
   },
   "outputs": [
    {
     "data": {
      "text/plain": [
       "0"
      ]
     },
     "execution_count": 54,
     "metadata": {},
     "output_type": "execute_result"
    }
   ],
   "source": [
    "# проверка на отсутствие дубликатов\n",
    "df.duplicated().sum()"
   ]
  },
  {
   "cell_type": "markdown",
   "metadata": {
    "id": "QlFBsxAr_Zct"
   },
   "source": [
    "Теперь избавимся от неявных дубликатов в колонке `genre`."
   ]
  },
  {
   "cell_type": "markdown",
   "metadata": {
    "id": "eSjWwsOh_Zct"
   },
   "source": [
    "Выведим на экран список уникальных названий жанров, отсортированный в алфавитном порядке."
   ]
  },
  {
   "cell_type": "code",
   "execution_count": 55,
   "metadata": {
    "id": "JIUcqzZN_Zct",
    "scrolled": true
   },
   "outputs": [
    {
     "data": {
      "text/plain": [
       "['acid',\n",
       " 'acoustic',\n",
       " 'action',\n",
       " 'adult',\n",
       " 'africa',\n",
       " 'afrikaans',\n",
       " 'alternative',\n",
       " 'alternativepunk',\n",
       " 'ambient',\n",
       " 'americana',\n",
       " 'animated',\n",
       " 'anime',\n",
       " 'arabesk',\n",
       " 'arabic',\n",
       " 'arena',\n",
       " 'argentinetango',\n",
       " 'art',\n",
       " 'audiobook',\n",
       " 'author',\n",
       " 'avantgarde',\n",
       " 'axé',\n",
       " 'baile',\n",
       " 'balkan',\n",
       " 'beats',\n",
       " 'bigroom',\n",
       " 'black',\n",
       " 'bluegrass',\n",
       " 'blues',\n",
       " 'bollywood',\n",
       " 'bossa',\n",
       " 'brazilian',\n",
       " 'breakbeat',\n",
       " 'breaks',\n",
       " 'broadway',\n",
       " 'cantautori',\n",
       " 'cantopop',\n",
       " 'canzone',\n",
       " 'caribbean',\n",
       " 'caucasian',\n",
       " 'celtic',\n",
       " 'chamber',\n",
       " 'chanson',\n",
       " 'children',\n",
       " 'chill',\n",
       " 'chinese',\n",
       " 'choral',\n",
       " 'christian',\n",
       " 'christmas',\n",
       " 'classical',\n",
       " 'classicmetal',\n",
       " 'club',\n",
       " 'colombian',\n",
       " 'comedy',\n",
       " 'conjazz',\n",
       " 'contemporary',\n",
       " 'country',\n",
       " 'cuban',\n",
       " 'dance',\n",
       " 'dancehall',\n",
       " 'dancepop',\n",
       " 'dark',\n",
       " 'death',\n",
       " 'deep',\n",
       " 'deutschrock',\n",
       " 'deutschspr',\n",
       " 'dirty',\n",
       " 'disco',\n",
       " 'dnb',\n",
       " 'documentary',\n",
       " 'downbeat',\n",
       " 'downtempo',\n",
       " 'drum',\n",
       " 'dub',\n",
       " 'dubstep',\n",
       " 'eastern',\n",
       " 'easy',\n",
       " 'electronic',\n",
       " 'electropop',\n",
       " 'emo',\n",
       " 'entehno',\n",
       " 'epicmetal',\n",
       " 'estrada',\n",
       " 'ethnic',\n",
       " 'eurofolk',\n",
       " 'european',\n",
       " 'experimental',\n",
       " 'extrememetal',\n",
       " 'fado',\n",
       " 'fairytail',\n",
       " 'film',\n",
       " 'fitness',\n",
       " 'flamenco',\n",
       " 'folk',\n",
       " 'folklore',\n",
       " 'folkmetal',\n",
       " 'folkrock',\n",
       " 'folktronica',\n",
       " 'forró',\n",
       " 'frankreich',\n",
       " 'französisch',\n",
       " 'french',\n",
       " 'funk',\n",
       " 'future',\n",
       " 'gangsta',\n",
       " 'garage',\n",
       " 'german',\n",
       " 'ghazal',\n",
       " 'gitarre',\n",
       " 'glitch',\n",
       " 'gospel',\n",
       " 'gothic',\n",
       " 'grime',\n",
       " 'grunge',\n",
       " 'gypsy',\n",
       " 'handsup',\n",
       " \"hard'n'heavy\",\n",
       " 'hardcore',\n",
       " 'hardstyle',\n",
       " 'hardtechno',\n",
       " 'hip',\n",
       " 'hip-hop',\n",
       " 'hiphop',\n",
       " 'historisch',\n",
       " 'holiday',\n",
       " 'hop',\n",
       " 'horror',\n",
       " 'house',\n",
       " 'hymn',\n",
       " 'idm',\n",
       " 'independent',\n",
       " 'indian',\n",
       " 'indie',\n",
       " 'indipop',\n",
       " 'industrial',\n",
       " 'inspirational',\n",
       " 'instrumental',\n",
       " 'international',\n",
       " 'irish',\n",
       " 'jam',\n",
       " 'japanese',\n",
       " 'jazz',\n",
       " 'jewish',\n",
       " 'jpop',\n",
       " 'jungle',\n",
       " 'k-pop',\n",
       " 'karadeniz',\n",
       " 'karaoke',\n",
       " 'kayokyoku',\n",
       " 'korean',\n",
       " 'laiko',\n",
       " 'latin',\n",
       " 'latino',\n",
       " 'leftfield',\n",
       " 'local',\n",
       " 'lounge',\n",
       " 'loungeelectronic',\n",
       " 'lovers',\n",
       " 'malaysian',\n",
       " 'mandopop',\n",
       " 'marschmusik',\n",
       " 'meditative',\n",
       " 'mediterranean',\n",
       " 'melodic',\n",
       " 'metal',\n",
       " 'metalcore',\n",
       " 'mexican',\n",
       " 'middle',\n",
       " 'minimal',\n",
       " 'miscellaneous',\n",
       " 'modern',\n",
       " 'mood',\n",
       " 'mpb',\n",
       " 'muslim',\n",
       " 'native',\n",
       " 'neoklassik',\n",
       " 'neue',\n",
       " 'new',\n",
       " 'newage',\n",
       " 'newwave',\n",
       " 'nu',\n",
       " 'nujazz',\n",
       " 'numetal',\n",
       " 'oceania',\n",
       " 'old',\n",
       " 'opera',\n",
       " 'orchestral',\n",
       " 'other',\n",
       " 'piano',\n",
       " 'podcasts',\n",
       " 'pop',\n",
       " 'popdance',\n",
       " 'popelectronic',\n",
       " 'popeurodance',\n",
       " 'poprussian',\n",
       " 'post',\n",
       " 'posthardcore',\n",
       " 'postrock',\n",
       " 'power',\n",
       " 'progmetal',\n",
       " 'progressive',\n",
       " 'psychedelic',\n",
       " 'punjabi',\n",
       " 'punk',\n",
       " 'quebecois',\n",
       " 'ragga',\n",
       " 'ram',\n",
       " 'rancheras',\n",
       " 'rap',\n",
       " 'rave',\n",
       " 'reggae',\n",
       " 'reggaeton',\n",
       " 'regional',\n",
       " 'relax',\n",
       " 'religious',\n",
       " 'retro',\n",
       " 'rhythm',\n",
       " 'rnb',\n",
       " 'rnr',\n",
       " 'rock',\n",
       " 'rockabilly',\n",
       " 'rockalternative',\n",
       " 'rockindie',\n",
       " 'rockother',\n",
       " 'romance',\n",
       " 'roots',\n",
       " 'ruspop',\n",
       " 'rusrap',\n",
       " 'rusrock',\n",
       " 'russian',\n",
       " 'salsa',\n",
       " 'samba',\n",
       " 'scenic',\n",
       " 'schlager',\n",
       " 'self',\n",
       " 'sertanejo',\n",
       " 'shanson',\n",
       " 'shoegazing',\n",
       " 'showtunes',\n",
       " 'singer',\n",
       " 'ska',\n",
       " 'skarock',\n",
       " 'slow',\n",
       " 'smooth',\n",
       " 'soft',\n",
       " 'soul',\n",
       " 'soulful',\n",
       " 'sound',\n",
       " 'soundtrack',\n",
       " 'southern',\n",
       " 'specialty',\n",
       " 'speech',\n",
       " 'spiritual',\n",
       " 'sport',\n",
       " 'stonerrock',\n",
       " 'surf',\n",
       " 'swing',\n",
       " 'synthpop',\n",
       " 'synthrock',\n",
       " 'sängerportrait',\n",
       " 'tango',\n",
       " 'tanzorchester',\n",
       " 'taraftar',\n",
       " 'tatar',\n",
       " 'tech',\n",
       " 'techno',\n",
       " 'teen',\n",
       " 'thrash',\n",
       " 'top',\n",
       " 'traditional',\n",
       " 'tradjazz',\n",
       " 'trance',\n",
       " 'tribal',\n",
       " 'trip',\n",
       " 'triphop',\n",
       " 'tropical',\n",
       " 'türk',\n",
       " 'türkçe',\n",
       " 'ukrrock',\n",
       " 'unknown',\n",
       " 'urban',\n",
       " 'uzbek',\n",
       " 'variété',\n",
       " 'vi',\n",
       " 'videogame',\n",
       " 'vocal',\n",
       " 'western',\n",
       " 'world',\n",
       " 'worldbeat',\n",
       " 'ïîï',\n",
       " 'электроника']"
      ]
     },
     "metadata": {},
     "output_type": "display_data"
    }
   ],
   "source": [
    "# Просмотр уникальных названий жанров\n",
    "df_genre = sorted(df['genre'].unique())\n",
    "display(df_genre)"
   ]
  },
  {
   "cell_type": "code",
   "execution_count": 56,
   "metadata": {
    "id": "ErNDkmns_Zct"
   },
   "outputs": [],
   "source": [
    "# Функция для замены неявных дубликатов\n",
    "def replace_wrong_genres(wrong_genres, correct_genre):\n",
    "    for falses_genre in wrong_genres:\n",
    "        df['genre'] = df['genre'].replace(falses_genre, correct_genre)"
   ]
  },
  {
   "cell_type": "code",
   "execution_count": 57,
   "metadata": {
    "id": "YN5i2hpmSo09"
   },
   "outputs": [],
   "source": [
    "# Устранение неявных дубликатов\n",
    "falses_name = ['hip', 'hop', 'hip-hop']\n",
    "trues_name = 'hiphop'\n",
    "replace_wrong_genres(falses_name, trues_name)"
   ]
  },
  {
   "cell_type": "code",
   "execution_count": 58,
   "metadata": {
    "id": "wvixALnFG15m"
   },
   "outputs": [
    {
     "data": {
      "text/plain": [
       "['acid',\n",
       " 'acoustic',\n",
       " 'action',\n",
       " 'adult',\n",
       " 'africa',\n",
       " 'afrikaans',\n",
       " 'alternative',\n",
       " 'alternativepunk',\n",
       " 'ambient',\n",
       " 'americana',\n",
       " 'animated',\n",
       " 'anime',\n",
       " 'arabesk',\n",
       " 'arabic',\n",
       " 'arena',\n",
       " 'argentinetango',\n",
       " 'art',\n",
       " 'audiobook',\n",
       " 'author',\n",
       " 'avantgarde',\n",
       " 'axé',\n",
       " 'baile',\n",
       " 'balkan',\n",
       " 'beats',\n",
       " 'bigroom',\n",
       " 'black',\n",
       " 'bluegrass',\n",
       " 'blues',\n",
       " 'bollywood',\n",
       " 'bossa',\n",
       " 'brazilian',\n",
       " 'breakbeat',\n",
       " 'breaks',\n",
       " 'broadway',\n",
       " 'cantautori',\n",
       " 'cantopop',\n",
       " 'canzone',\n",
       " 'caribbean',\n",
       " 'caucasian',\n",
       " 'celtic',\n",
       " 'chamber',\n",
       " 'chanson',\n",
       " 'children',\n",
       " 'chill',\n",
       " 'chinese',\n",
       " 'choral',\n",
       " 'christian',\n",
       " 'christmas',\n",
       " 'classical',\n",
       " 'classicmetal',\n",
       " 'club',\n",
       " 'colombian',\n",
       " 'comedy',\n",
       " 'conjazz',\n",
       " 'contemporary',\n",
       " 'country',\n",
       " 'cuban',\n",
       " 'dance',\n",
       " 'dancehall',\n",
       " 'dancepop',\n",
       " 'dark',\n",
       " 'death',\n",
       " 'deep',\n",
       " 'deutschrock',\n",
       " 'deutschspr',\n",
       " 'dirty',\n",
       " 'disco',\n",
       " 'dnb',\n",
       " 'documentary',\n",
       " 'downbeat',\n",
       " 'downtempo',\n",
       " 'drum',\n",
       " 'dub',\n",
       " 'dubstep',\n",
       " 'eastern',\n",
       " 'easy',\n",
       " 'electronic',\n",
       " 'electropop',\n",
       " 'emo',\n",
       " 'entehno',\n",
       " 'epicmetal',\n",
       " 'estrada',\n",
       " 'ethnic',\n",
       " 'eurofolk',\n",
       " 'european',\n",
       " 'experimental',\n",
       " 'extrememetal',\n",
       " 'fado',\n",
       " 'fairytail',\n",
       " 'film',\n",
       " 'fitness',\n",
       " 'flamenco',\n",
       " 'folk',\n",
       " 'folklore',\n",
       " 'folkmetal',\n",
       " 'folkrock',\n",
       " 'folktronica',\n",
       " 'forró',\n",
       " 'frankreich',\n",
       " 'französisch',\n",
       " 'french',\n",
       " 'funk',\n",
       " 'future',\n",
       " 'gangsta',\n",
       " 'garage',\n",
       " 'german',\n",
       " 'ghazal',\n",
       " 'gitarre',\n",
       " 'glitch',\n",
       " 'gospel',\n",
       " 'gothic',\n",
       " 'grime',\n",
       " 'grunge',\n",
       " 'gypsy',\n",
       " 'handsup',\n",
       " \"hard'n'heavy\",\n",
       " 'hardcore',\n",
       " 'hardstyle',\n",
       " 'hardtechno',\n",
       " 'hiphop',\n",
       " 'historisch',\n",
       " 'holiday',\n",
       " 'horror',\n",
       " 'house',\n",
       " 'hymn',\n",
       " 'idm',\n",
       " 'independent',\n",
       " 'indian',\n",
       " 'indie',\n",
       " 'indipop',\n",
       " 'industrial',\n",
       " 'inspirational',\n",
       " 'instrumental',\n",
       " 'international',\n",
       " 'irish',\n",
       " 'jam',\n",
       " 'japanese',\n",
       " 'jazz',\n",
       " 'jewish',\n",
       " 'jpop',\n",
       " 'jungle',\n",
       " 'k-pop',\n",
       " 'karadeniz',\n",
       " 'karaoke',\n",
       " 'kayokyoku',\n",
       " 'korean',\n",
       " 'laiko',\n",
       " 'latin',\n",
       " 'latino',\n",
       " 'leftfield',\n",
       " 'local',\n",
       " 'lounge',\n",
       " 'loungeelectronic',\n",
       " 'lovers',\n",
       " 'malaysian',\n",
       " 'mandopop',\n",
       " 'marschmusik',\n",
       " 'meditative',\n",
       " 'mediterranean',\n",
       " 'melodic',\n",
       " 'metal',\n",
       " 'metalcore',\n",
       " 'mexican',\n",
       " 'middle',\n",
       " 'minimal',\n",
       " 'miscellaneous',\n",
       " 'modern',\n",
       " 'mood',\n",
       " 'mpb',\n",
       " 'muslim',\n",
       " 'native',\n",
       " 'neoklassik',\n",
       " 'neue',\n",
       " 'new',\n",
       " 'newage',\n",
       " 'newwave',\n",
       " 'nu',\n",
       " 'nujazz',\n",
       " 'numetal',\n",
       " 'oceania',\n",
       " 'old',\n",
       " 'opera',\n",
       " 'orchestral',\n",
       " 'other',\n",
       " 'piano',\n",
       " 'podcasts',\n",
       " 'pop',\n",
       " 'popdance',\n",
       " 'popelectronic',\n",
       " 'popeurodance',\n",
       " 'poprussian',\n",
       " 'post',\n",
       " 'posthardcore',\n",
       " 'postrock',\n",
       " 'power',\n",
       " 'progmetal',\n",
       " 'progressive',\n",
       " 'psychedelic',\n",
       " 'punjabi',\n",
       " 'punk',\n",
       " 'quebecois',\n",
       " 'ragga',\n",
       " 'ram',\n",
       " 'rancheras',\n",
       " 'rap',\n",
       " 'rave',\n",
       " 'reggae',\n",
       " 'reggaeton',\n",
       " 'regional',\n",
       " 'relax',\n",
       " 'religious',\n",
       " 'retro',\n",
       " 'rhythm',\n",
       " 'rnb',\n",
       " 'rnr',\n",
       " 'rock',\n",
       " 'rockabilly',\n",
       " 'rockalternative',\n",
       " 'rockindie',\n",
       " 'rockother',\n",
       " 'romance',\n",
       " 'roots',\n",
       " 'ruspop',\n",
       " 'rusrap',\n",
       " 'rusrock',\n",
       " 'russian',\n",
       " 'salsa',\n",
       " 'samba',\n",
       " 'scenic',\n",
       " 'schlager',\n",
       " 'self',\n",
       " 'sertanejo',\n",
       " 'shanson',\n",
       " 'shoegazing',\n",
       " 'showtunes',\n",
       " 'singer',\n",
       " 'ska',\n",
       " 'skarock',\n",
       " 'slow',\n",
       " 'smooth',\n",
       " 'soft',\n",
       " 'soul',\n",
       " 'soulful',\n",
       " 'sound',\n",
       " 'soundtrack',\n",
       " 'southern',\n",
       " 'specialty',\n",
       " 'speech',\n",
       " 'spiritual',\n",
       " 'sport',\n",
       " 'stonerrock',\n",
       " 'surf',\n",
       " 'swing',\n",
       " 'synthpop',\n",
       " 'synthrock',\n",
       " 'sängerportrait',\n",
       " 'tango',\n",
       " 'tanzorchester',\n",
       " 'taraftar',\n",
       " 'tatar',\n",
       " 'tech',\n",
       " 'techno',\n",
       " 'teen',\n",
       " 'thrash',\n",
       " 'top',\n",
       " 'traditional',\n",
       " 'tradjazz',\n",
       " 'trance',\n",
       " 'tribal',\n",
       " 'trip',\n",
       " 'triphop',\n",
       " 'tropical',\n",
       " 'türk',\n",
       " 'türkçe',\n",
       " 'ukrrock',\n",
       " 'unknown',\n",
       " 'urban',\n",
       " 'uzbek',\n",
       " 'variété',\n",
       " 'vi',\n",
       " 'videogame',\n",
       " 'vocal',\n",
       " 'western',\n",
       " 'world',\n",
       " 'worldbeat',\n",
       " 'ïîï',\n",
       " 'электроника']"
      ]
     },
     "metadata": {},
     "output_type": "display_data"
    }
   ],
   "source": [
    "# Проверка на неявные дубликаты\n",
    "df_genre = sorted(df['genre'].unique())\n",
    "display(df_genre)"
   ]
  },
  {
   "cell_type": "markdown",
   "metadata": {
    "id": "jz6a9-7HQUDd"
   },
   "source": [
    "**Выводы**\n",
    "\n",
    "Предобработка обнаружила три проблемы в данных:\n",
    "\n",
    "- нарушения в стиле заголовков,\n",
    "- пропущенные значения,\n",
    "- дубликаты — явные и неявные."
   ]
  },
  {
   "cell_type": "markdown",
   "metadata": {
    "id": "WttZHXH0SqKk"
   },
   "source": [
    "## Проверка гипотез"
   ]
  },
  {
   "cell_type": "markdown",
   "metadata": {
    "id": "Im936VVi_Zcu"
   },
   "source": [
    "### Сравнение поведения пользователей двух столиц"
   ]
  },
  {
   "cell_type": "markdown",
   "metadata": {
    "id": "nwt_MuaL_Zcu"
   },
   "source": [
    "Первая гипотеза утверждает, что пользователи по-разному слушают музыку в Москве и Санкт-Петербурге. Проверим это предположение по данным о трёх днях недели — понедельнике, среде и пятнице. Для этого:\n",
    "\n",
    "* Разделим пользователей Москвы и Санкт-Петербурга\n",
    "* Сравним, сколько треков послушала каждая группа пользователей в понедельник, среду и пятницу.\n"
   ]
  },
  {
   "cell_type": "code",
   "execution_count": 59,
   "metadata": {
    "id": "0_Qs96oh_Zcu"
   },
   "outputs": [
    {
     "data": {
      "text/plain": [
       "city\n",
       "Moscow              42741\n",
       "Saint-Petersburg    18512\n",
       "Name: time, dtype: int64"
      ]
     },
     "metadata": {},
     "output_type": "display_data"
    }
   ],
   "source": [
    "# Подсчёт прослушиваний в каждом городе\n",
    "df_citys = df.groupby('city')['time'].count()\n",
    "display(df_citys)"
   ]
  },
  {
   "cell_type": "markdown",
   "metadata": {
    "id": "dzli3w8o_Zcu"
   },
   "source": [
    "В Москве прослушиваний больше, чем в Петербурге. Из этого не следует, что московские пользователи чаще слушают музыку. Просто самих пользователей в Москве больше.\n",
    "\n",
    "Теперь сгруппируем данные по дню недели и подсчитаем прослушивания в понедельник, среду и пятницу."
   ]
  },
  {
   "cell_type": "code",
   "execution_count": 60,
   "metadata": {
    "id": "uZMKjiJz_Zcu"
   },
   "outputs": [
    {
     "data": {
      "text/plain": [
       "day\n",
       "Friday       21840\n",
       "Monday       21354\n",
       "Wednesday    18059\n",
       "Name: time, dtype: int64"
      ]
     },
     "metadata": {},
     "output_type": "display_data"
    }
   ],
   "source": [
    "# Подсчёт прослушиваний в каждый из трёх дней\n",
    "df_days = df.groupby('day')['time'].count()\n",
    "display(df_days)"
   ]
  },
  {
   "cell_type": "markdown",
   "metadata": {
    "id": "cC2tNrlL_Zcu"
   },
   "source": [
    "В среднем пользователи из двух городов менее активны по средам. Но картина может измениться, если рассмотреть каждый город в отдельности."
   ]
  },
  {
   "cell_type": "code",
   "execution_count": 61,
   "metadata": {
    "id": "Nz3GdQB1_Zcu"
   },
   "outputs": [],
   "source": [
    "# <создание функции number_tracks()>\n",
    "# Объявляется функция с двумя параметрами: day, city.\n",
    "# В переменной track_list сохраняются те строки таблицы df, для которых \n",
    "# значение в столбце 'day' равно параметру day и одновременно значение\n",
    "# в столбце 'city' равно параметру city (используйте последовательную фильтрацию\n",
    "# с помощью логической индексации).\n",
    "# В переменной track_list_count сохраняется число значений столбца 'user_id',\n",
    "# рассчитанное методом count() для таблицы track_list.\n",
    "# Функция возвращает число - значение track_list_count.\n",
    "\n",
    "def number_tracks(day, city):\n",
    "    track_list = df[df['day'] == day]\n",
    "    track_list = track_list[track_list['city'] == city]\n",
    "    track_list_count = track_list['user_id'].count()\n",
    "    return track_list_count\n",
    "\n",
    "\n",
    "# Функция для подсчёта прослушиваний для конкретного города и дня.\n",
    "# С помощью последовательной фильтрации с логической индексацией она \n",
    "# сначала получит из исходной таблицы строки с нужным днём,\n",
    "# затем из результата отфильтрует строки с нужным городом,\n",
    "# методом count() посчитает количество значений в колонке user_id. \n",
    "# Это количество функция вернёт в качестве результата"
   ]
  },
  {
   "cell_type": "code",
   "execution_count": 62,
   "metadata": {
    "id": "rJcRATNQ_Zcu"
   },
   "outputs": [
    {
     "data": {
      "text/plain": [
       "15740"
      ]
     },
     "metadata": {},
     "output_type": "display_data"
    }
   ],
   "source": [
    "# количество прослушиваний в Москве по понедельникам\n",
    "monday_moscow = number_tracks('Monday', 'Moscow')\n",
    "display(monday_moscow)"
   ]
  },
  {
   "cell_type": "code",
   "execution_count": 63,
   "metadata": {
    "id": "hq_ncZ5T_Zcu"
   },
   "outputs": [
    {
     "data": {
      "text/plain": [
       "5614"
      ]
     },
     "metadata": {},
     "output_type": "display_data"
    }
   ],
   "source": [
    "# количество прослушиваний в Санкт-Петербурге по понедельникам\n",
    "monday_piter = number_tracks('Monday', 'Saint-Petersburg')\n",
    "display(monday_piter)"
   ]
  },
  {
   "cell_type": "code",
   "execution_count": 64,
   "metadata": {
    "id": "_NTy2VPU_Zcu"
   },
   "outputs": [
    {
     "data": {
      "text/plain": [
       "11056"
      ]
     },
     "metadata": {},
     "output_type": "display_data"
    }
   ],
   "source": [
    "# количество прослушиваний в Москве по средам\n",
    "wednesday_moscow = number_tracks('Wednesday', 'Moscow')\n",
    "display(wednesday_moscow)"
   ]
  },
  {
   "cell_type": "code",
   "execution_count": 65,
   "metadata": {
    "id": "j2y3TAwo_Zcu"
   },
   "outputs": [
    {
     "data": {
      "text/plain": [
       "7003"
      ]
     },
     "metadata": {},
     "output_type": "display_data"
    }
   ],
   "source": [
    "# количество прослушиваний в Санкт-Петербурге по средам\n",
    "wednesday_piter = number_tracks('Wednesday', 'Saint-Petersburg')\n",
    "display(wednesday_piter)"
   ]
  },
  {
   "cell_type": "code",
   "execution_count": 66,
   "metadata": {
    "id": "vYDw5u_K_Zcu"
   },
   "outputs": [
    {
     "data": {
      "text/plain": [
       "15945"
      ]
     },
     "metadata": {},
     "output_type": "display_data"
    }
   ],
   "source": [
    "# количество прослушиваний в Москве по пятницам\n",
    "friday_moscow = number_tracks('Friday', 'Moscow')\n",
    "display(friday_moscow)"
   ]
  },
  {
   "cell_type": "code",
   "execution_count": 67,
   "metadata": {
    "id": "8_yzFtW3_Zcu"
   },
   "outputs": [
    {
     "data": {
      "text/plain": [
       "5895"
      ]
     },
     "metadata": {},
     "output_type": "display_data"
    }
   ],
   "source": [
    "# количество прослушиваний в Санкт-Петербурге по пятницам\n",
    "friday_piter = number_tracks('Friday', 'Saint-Petersburg')\n",
    "display(friday_piter)"
   ]
  },
  {
   "cell_type": "markdown",
   "metadata": {
    "id": "7QXffbO-_Zcu"
   },
   "source": [
    "Создадим c помощью конструктора `pd.DataFrame` таблицу, где\n",
    "* названия колонок — `['city', 'monday', 'wednesday', 'friday']`;\n",
    "* данные — результаты, которые мы получили с помощью `number_tracks`."
   ]
  },
  {
   "cell_type": "code",
   "execution_count": 68,
   "metadata": {
    "id": "APAcLpOr_Zcu"
   },
   "outputs": [
    {
     "data": {
      "text/html": [
       "<div>\n",
       "<style scoped>\n",
       "    .dataframe tbody tr th:only-of-type {\n",
       "        vertical-align: middle;\n",
       "    }\n",
       "\n",
       "    .dataframe tbody tr th {\n",
       "        vertical-align: top;\n",
       "    }\n",
       "\n",
       "    .dataframe thead th {\n",
       "        text-align: right;\n",
       "    }\n",
       "</style>\n",
       "<table border=\"1\" class=\"dataframe\">\n",
       "  <thead>\n",
       "    <tr style=\"text-align: right;\">\n",
       "      <th></th>\n",
       "      <th>city</th>\n",
       "      <th>monday</th>\n",
       "      <th>wednesday</th>\n",
       "      <th>friday</th>\n",
       "    </tr>\n",
       "  </thead>\n",
       "  <tbody>\n",
       "    <tr>\n",
       "      <td>0</td>\n",
       "      <td>Moscow</td>\n",
       "      <td>15740</td>\n",
       "      <td>11056</td>\n",
       "      <td>15945</td>\n",
       "    </tr>\n",
       "    <tr>\n",
       "      <td>1</td>\n",
       "      <td>Saint-Petersburg</td>\n",
       "      <td>5614</td>\n",
       "      <td>7003</td>\n",
       "      <td>5895</td>\n",
       "    </tr>\n",
       "  </tbody>\n",
       "</table>\n",
       "</div>"
      ],
      "text/plain": [
       "               city  monday  wednesday  friday\n",
       "0            Moscow   15740      11056   15945\n",
       "1  Saint-Petersburg    5614       7003    5895"
      ]
     },
     "metadata": {},
     "output_type": "display_data"
    }
   ],
   "source": [
    "# Таблица с результатами\n",
    "data = [['Moscow', monday_moscow, wednesday_moscow, friday_moscow],\n",
    "       ['Saint-Petersburg', monday_piter, wednesday_piter, friday_piter]]\n",
    "columns = ['city', 'monday', 'wednesday', 'friday']\n",
    "table = pd.DataFrame(data=data, columns=columns)\n",
    "display(table)"
   ]
  },
  {
   "cell_type": "markdown",
   "metadata": {
    "id": "-EgPIHYu_Zcu"
   },
   "source": [
    "**Выводы**\n",
    "\n",
    "Данные показывают разницу поведения пользователей:\n",
    "\n",
    "- В Москве пик прослушиваний приходится на понедельник и пятницу, а в среду заметен спад.\n",
    "- В Петербурге, наоборот, больше слушают музыку по средам. Активность в понедельник и пятницу здесь почти в равной мере уступает среде.\n",
    "\n",
    "Значит, данные говорят в пользу первой гипотезы."
   ]
  },
  {
   "cell_type": "markdown",
   "metadata": {
    "id": "atZAxtq4_Zcu"
   },
   "source": [
    "### Музыка в начале и в конце недели"
   ]
  },
  {
   "cell_type": "markdown",
   "metadata": {
    "id": "eXrQqXFH_Zcu"
   },
   "source": [
    "Согласно второй гипотезе, утром в понедельник в Москве преобладают одни жанры, а в Петербурге — другие. Так же и вечером пятницы преобладают разные жанры — в зависимости от города."
   ]
  },
  {
   "cell_type": "code",
   "execution_count": 69,
   "metadata": {
    "id": "qeaFfM_P_Zcu"
   },
   "outputs": [
    {
     "data": {
      "text/html": [
       "<div>\n",
       "<style scoped>\n",
       "    .dataframe tbody tr th:only-of-type {\n",
       "        vertical-align: middle;\n",
       "    }\n",
       "\n",
       "    .dataframe tbody tr th {\n",
       "        vertical-align: top;\n",
       "    }\n",
       "\n",
       "    .dataframe thead th {\n",
       "        text-align: right;\n",
       "    }\n",
       "</style>\n",
       "<table border=\"1\" class=\"dataframe\">\n",
       "  <thead>\n",
       "    <tr style=\"text-align: right;\">\n",
       "      <th></th>\n",
       "      <th>user_id</th>\n",
       "      <th>track</th>\n",
       "      <th>artist</th>\n",
       "      <th>genre</th>\n",
       "      <th>city</th>\n",
       "      <th>time</th>\n",
       "      <th>day</th>\n",
       "    </tr>\n",
       "  </thead>\n",
       "  <tbody>\n",
       "    <tr>\n",
       "      <td>1</td>\n",
       "      <td>55204538</td>\n",
       "      <td>Delayed Because of Accident</td>\n",
       "      <td>Andreas Rönnberg</td>\n",
       "      <td>rock</td>\n",
       "      <td>Moscow</td>\n",
       "      <td>14:07:09</td>\n",
       "      <td>Friday</td>\n",
       "    </tr>\n",
       "    <tr>\n",
       "      <td>4</td>\n",
       "      <td>E2DC1FAE</td>\n",
       "      <td>Soul People</td>\n",
       "      <td>Space Echo</td>\n",
       "      <td>dance</td>\n",
       "      <td>Moscow</td>\n",
       "      <td>08:34:34</td>\n",
       "      <td>Monday</td>\n",
       "    </tr>\n",
       "    <tr>\n",
       "      <td>6</td>\n",
       "      <td>4CB90AA5</td>\n",
       "      <td>True</td>\n",
       "      <td>Roman Messer</td>\n",
       "      <td>dance</td>\n",
       "      <td>Moscow</td>\n",
       "      <td>13:00:07</td>\n",
       "      <td>Wednesday</td>\n",
       "    </tr>\n",
       "    <tr>\n",
       "      <td>7</td>\n",
       "      <td>F03E1C1F</td>\n",
       "      <td>Feeling This Way</td>\n",
       "      <td>Polina Griffith</td>\n",
       "      <td>dance</td>\n",
       "      <td>Moscow</td>\n",
       "      <td>20:47:49</td>\n",
       "      <td>Wednesday</td>\n",
       "    </tr>\n",
       "    <tr>\n",
       "      <td>8</td>\n",
       "      <td>8FA1D3BE</td>\n",
       "      <td>И вновь продолжается бой</td>\n",
       "      <td>unknown</td>\n",
       "      <td>ruspop</td>\n",
       "      <td>Moscow</td>\n",
       "      <td>09:17:40</td>\n",
       "      <td>Friday</td>\n",
       "    </tr>\n",
       "    <tr>\n",
       "      <td>...</td>\n",
       "      <td>...</td>\n",
       "      <td>...</td>\n",
       "      <td>...</td>\n",
       "      <td>...</td>\n",
       "      <td>...</td>\n",
       "      <td>...</td>\n",
       "      <td>...</td>\n",
       "    </tr>\n",
       "    <tr>\n",
       "      <td>61247</td>\n",
       "      <td>83A474E7</td>\n",
       "      <td>I Worship Only What You Bleed</td>\n",
       "      <td>The Black Dahlia Murder</td>\n",
       "      <td>extrememetal</td>\n",
       "      <td>Moscow</td>\n",
       "      <td>21:07:12</td>\n",
       "      <td>Monday</td>\n",
       "    </tr>\n",
       "    <tr>\n",
       "      <td>61248</td>\n",
       "      <td>729CBB09</td>\n",
       "      <td>My Name</td>\n",
       "      <td>McLean</td>\n",
       "      <td>rnb</td>\n",
       "      <td>Moscow</td>\n",
       "      <td>13:32:28</td>\n",
       "      <td>Wednesday</td>\n",
       "    </tr>\n",
       "    <tr>\n",
       "      <td>61250</td>\n",
       "      <td>C5E3A0D5</td>\n",
       "      <td>Jalopiina</td>\n",
       "      <td>unknown</td>\n",
       "      <td>industrial</td>\n",
       "      <td>Moscow</td>\n",
       "      <td>20:09:26</td>\n",
       "      <td>Friday</td>\n",
       "    </tr>\n",
       "    <tr>\n",
       "      <td>61251</td>\n",
       "      <td>321D0506</td>\n",
       "      <td>Freight Train</td>\n",
       "      <td>Chas McDevitt</td>\n",
       "      <td>rock</td>\n",
       "      <td>Moscow</td>\n",
       "      <td>21:43:59</td>\n",
       "      <td>Friday</td>\n",
       "    </tr>\n",
       "    <tr>\n",
       "      <td>61252</td>\n",
       "      <td>3A64EF84</td>\n",
       "      <td>Tell Me Sweet Little Lies</td>\n",
       "      <td>Monica Lopez</td>\n",
       "      <td>country</td>\n",
       "      <td>Moscow</td>\n",
       "      <td>21:59:46</td>\n",
       "      <td>Friday</td>\n",
       "    </tr>\n",
       "  </tbody>\n",
       "</table>\n",
       "<p>42741 rows × 7 columns</p>\n",
       "</div>"
      ],
      "text/plain": [
       "        user_id                          track                   artist  \\\n",
       "1      55204538    Delayed Because of Accident         Andreas Rönnberg   \n",
       "4      E2DC1FAE                    Soul People               Space Echo   \n",
       "6      4CB90AA5                           True             Roman Messer   \n",
       "7      F03E1C1F               Feeling This Way          Polina Griffith   \n",
       "8      8FA1D3BE       И вновь продолжается бой                  unknown   \n",
       "...         ...                            ...                      ...   \n",
       "61247  83A474E7  I Worship Only What You Bleed  The Black Dahlia Murder   \n",
       "61248  729CBB09                        My Name                   McLean   \n",
       "61250  C5E3A0D5                      Jalopiina                  unknown   \n",
       "61251  321D0506                  Freight Train            Chas McDevitt   \n",
       "61252  3A64EF84      Tell Me Sweet Little Lies             Monica Lopez   \n",
       "\n",
       "              genre    city      time        day  \n",
       "1              rock  Moscow  14:07:09     Friday  \n",
       "4             dance  Moscow  08:34:34     Monday  \n",
       "6             dance  Moscow  13:00:07  Wednesday  \n",
       "7             dance  Moscow  20:47:49  Wednesday  \n",
       "8            ruspop  Moscow  09:17:40     Friday  \n",
       "...             ...     ...       ...        ...  \n",
       "61247  extrememetal  Moscow  21:07:12     Monday  \n",
       "61248           rnb  Moscow  13:32:28  Wednesday  \n",
       "61250    industrial  Moscow  20:09:26     Friday  \n",
       "61251          rock  Moscow  21:43:59     Friday  \n",
       "61252       country  Moscow  21:59:46     Friday  \n",
       "\n",
       "[42741 rows x 7 columns]"
      ]
     },
     "metadata": {},
     "output_type": "display_data"
    }
   ],
   "source": [
    "# получение таблицы moscow_general из тех строк таблицы df, \n",
    "# для которых значение в столбце 'city' равно 'Moscow'\n",
    "moscow_general = df[df['city'] == 'Moscow']\n",
    "display(moscow_general)"
   ]
  },
  {
   "cell_type": "code",
   "execution_count": 70,
   "metadata": {
    "id": "ORaVRKto_Zcu"
   },
   "outputs": [
    {
     "data": {
      "text/html": [
       "<div>\n",
       "<style scoped>\n",
       "    .dataframe tbody tr th:only-of-type {\n",
       "        vertical-align: middle;\n",
       "    }\n",
       "\n",
       "    .dataframe tbody tr th {\n",
       "        vertical-align: top;\n",
       "    }\n",
       "\n",
       "    .dataframe thead th {\n",
       "        text-align: right;\n",
       "    }\n",
       "</style>\n",
       "<table border=\"1\" class=\"dataframe\">\n",
       "  <thead>\n",
       "    <tr style=\"text-align: right;\">\n",
       "      <th></th>\n",
       "      <th>user_id</th>\n",
       "      <th>track</th>\n",
       "      <th>artist</th>\n",
       "      <th>genre</th>\n",
       "      <th>city</th>\n",
       "      <th>time</th>\n",
       "      <th>day</th>\n",
       "    </tr>\n",
       "  </thead>\n",
       "  <tbody>\n",
       "    <tr>\n",
       "      <td>0</td>\n",
       "      <td>FFB692EC</td>\n",
       "      <td>Kamigata To Boots</td>\n",
       "      <td>The Mass Missile</td>\n",
       "      <td>rock</td>\n",
       "      <td>Saint-Petersburg</td>\n",
       "      <td>20:28:33</td>\n",
       "      <td>Wednesday</td>\n",
       "    </tr>\n",
       "    <tr>\n",
       "      <td>2</td>\n",
       "      <td>20EC38</td>\n",
       "      <td>Funiculì funiculà</td>\n",
       "      <td>Mario Lanza</td>\n",
       "      <td>pop</td>\n",
       "      <td>Saint-Petersburg</td>\n",
       "      <td>20:58:07</td>\n",
       "      <td>Wednesday</td>\n",
       "    </tr>\n",
       "    <tr>\n",
       "      <td>3</td>\n",
       "      <td>A3DD03C9</td>\n",
       "      <td>Dragons in the Sunset</td>\n",
       "      <td>Fire + Ice</td>\n",
       "      <td>folk</td>\n",
       "      <td>Saint-Petersburg</td>\n",
       "      <td>08:37:09</td>\n",
       "      <td>Monday</td>\n",
       "    </tr>\n",
       "    <tr>\n",
       "      <td>5</td>\n",
       "      <td>842029A1</td>\n",
       "      <td>Преданная</td>\n",
       "      <td>IMPERVTOR</td>\n",
       "      <td>rusrap</td>\n",
       "      <td>Saint-Petersburg</td>\n",
       "      <td>13:09:41</td>\n",
       "      <td>Friday</td>\n",
       "    </tr>\n",
       "    <tr>\n",
       "      <td>9</td>\n",
       "      <td>E772D5C0</td>\n",
       "      <td>Pessimist</td>\n",
       "      <td>unknown</td>\n",
       "      <td>dance</td>\n",
       "      <td>Saint-Petersburg</td>\n",
       "      <td>21:20:49</td>\n",
       "      <td>Wednesday</td>\n",
       "    </tr>\n",
       "    <tr>\n",
       "      <td>...</td>\n",
       "      <td>...</td>\n",
       "      <td>...</td>\n",
       "      <td>...</td>\n",
       "      <td>...</td>\n",
       "      <td>...</td>\n",
       "      <td>...</td>\n",
       "      <td>...</td>\n",
       "    </tr>\n",
       "    <tr>\n",
       "      <td>61239</td>\n",
       "      <td>D94F810B</td>\n",
       "      <td>Theme from the Walking Dead</td>\n",
       "      <td>Proyecto Halloween</td>\n",
       "      <td>film</td>\n",
       "      <td>Saint-Petersburg</td>\n",
       "      <td>21:14:40</td>\n",
       "      <td>Monday</td>\n",
       "    </tr>\n",
       "    <tr>\n",
       "      <td>61240</td>\n",
       "      <td>BC8EC5CF</td>\n",
       "      <td>Red Lips: Gta (Rover Rework)</td>\n",
       "      <td>Rover</td>\n",
       "      <td>electronic</td>\n",
       "      <td>Saint-Petersburg</td>\n",
       "      <td>21:06:50</td>\n",
       "      <td>Monday</td>\n",
       "    </tr>\n",
       "    <tr>\n",
       "      <td>61241</td>\n",
       "      <td>29E04611</td>\n",
       "      <td>Bre Petrunko</td>\n",
       "      <td>Perunika Trio</td>\n",
       "      <td>world</td>\n",
       "      <td>Saint-Petersburg</td>\n",
       "      <td>13:56:00</td>\n",
       "      <td>Monday</td>\n",
       "    </tr>\n",
       "    <tr>\n",
       "      <td>61242</td>\n",
       "      <td>1B91C621</td>\n",
       "      <td>(Hello) Cloud Mountain</td>\n",
       "      <td>sleepmakeswaves</td>\n",
       "      <td>postrock</td>\n",
       "      <td>Saint-Petersburg</td>\n",
       "      <td>09:22:13</td>\n",
       "      <td>Monday</td>\n",
       "    </tr>\n",
       "    <tr>\n",
       "      <td>61249</td>\n",
       "      <td>D08D4A55</td>\n",
       "      <td>Maybe One Day (feat. Black Spade)</td>\n",
       "      <td>Blu &amp; Exile</td>\n",
       "      <td>hiphop</td>\n",
       "      <td>Saint-Petersburg</td>\n",
       "      <td>10:00:00</td>\n",
       "      <td>Monday</td>\n",
       "    </tr>\n",
       "  </tbody>\n",
       "</table>\n",
       "<p>18512 rows × 7 columns</p>\n",
       "</div>"
      ],
      "text/plain": [
       "        user_id                              track              artist  \\\n",
       "0      FFB692EC                  Kamigata To Boots    The Mass Missile   \n",
       "2        20EC38                  Funiculì funiculà         Mario Lanza   \n",
       "3      A3DD03C9              Dragons in the Sunset          Fire + Ice   \n",
       "5      842029A1                          Преданная           IMPERVTOR   \n",
       "9      E772D5C0                          Pessimist             unknown   \n",
       "...         ...                                ...                 ...   \n",
       "61239  D94F810B        Theme from the Walking Dead  Proyecto Halloween   \n",
       "61240  BC8EC5CF       Red Lips: Gta (Rover Rework)               Rover   \n",
       "61241  29E04611                       Bre Petrunko       Perunika Trio   \n",
       "61242  1B91C621             (Hello) Cloud Mountain     sleepmakeswaves   \n",
       "61249  D08D4A55  Maybe One Day (feat. Black Spade)         Blu & Exile   \n",
       "\n",
       "            genre              city      time        day  \n",
       "0            rock  Saint-Petersburg  20:28:33  Wednesday  \n",
       "2             pop  Saint-Petersburg  20:58:07  Wednesday  \n",
       "3            folk  Saint-Petersburg  08:37:09     Monday  \n",
       "5          rusrap  Saint-Petersburg  13:09:41     Friday  \n",
       "9           dance  Saint-Petersburg  21:20:49  Wednesday  \n",
       "...           ...               ...       ...        ...  \n",
       "61239        film  Saint-Petersburg  21:14:40     Monday  \n",
       "61240  electronic  Saint-Petersburg  21:06:50     Monday  \n",
       "61241       world  Saint-Petersburg  13:56:00     Monday  \n",
       "61242    postrock  Saint-Petersburg  09:22:13     Monday  \n",
       "61249      hiphop  Saint-Petersburg  10:00:00     Monday  \n",
       "\n",
       "[18512 rows x 7 columns]"
      ]
     },
     "metadata": {},
     "output_type": "display_data"
    }
   ],
   "source": [
    "# получение таблицы spb_general из тех строк таблицы df,\n",
    "# для которых значение в столбце 'city' равно 'Saint-Petersburg'\n",
    "spb_general = df[df['city'] == 'Saint-Petersburg']\n",
    "display(spb_general)"
   ]
  },
  {
   "cell_type": "code",
   "execution_count": 71,
   "metadata": {
    "id": "laJT9BYl_Zcu"
   },
   "outputs": [],
   "source": [
    "# Объявление функции genre_weekday() с параметрами table, day, time1, time2,\n",
    "# которая возвращает информацию о самых популярных жанрах в указанный день в\n",
    "# заданное время:\n",
    "# 1) в переменную genre_df сохраняются те строки переданного датафрейма table, для\n",
    "#    которых одновременно:\n",
    "#    - значение в столбце day равно значению аргумента day\n",
    "#    - значение в столбце time больше значения аргумента time1\n",
    "#    - значение в столбце time меньше значения аргумента time2\n",
    "#    Используйте последовательную фильтрацию с помощью логической индексации.\n",
    "# 2) сгруппировать датафрейм genre_df по столбцу genre, взять один из его\n",
    "#    столбцов и посчитать методом count() количество записей для каждого из\n",
    "#    присутствующих жанров, получившийся Series записать в переменную\n",
    "#    genre_df_count\n",
    "# 3) отсортировать genre_df_count по убыванию встречаемости и сохранить\n",
    "#    в переменную genre_df_sorted\n",
    "# 4) вернуть Series из 10 первых значений genre_df_sorted, это будут топ-10\n",
    "#    популярных жанров (в указанный день, в заданное время)\n",
    "\n",
    "def genre_weekday(table, day, time1, time2):\n",
    "    genre_df = table[table['day'] == day]\n",
    "    genre_df = genre_df[genre_df['time'] > time1]\n",
    "    genre_df = genre_df[genre_df['time'] < time2]\n",
    "    genre_df_count = genre_df.groupby('genre')['genre'].count()\n",
    "    genre_df_sorted = genre_df_count.sort_values(ascending=False)\n",
    "    return genre_df_sorted.head(10)"
   ]
  },
  {
   "cell_type": "markdown",
   "metadata": {
    "id": "la2s2_PF_Zcu"
   },
   "source": [
    "Cравним результаты функции `genre_weekday()` для Москвы и Санкт-Петербурга в понедельник утром (с 7:00 до 11:00) и в пятницу вечером (с 17:00 до 23:00):"
   ]
  },
  {
   "cell_type": "code",
   "execution_count": 72,
   "metadata": {
    "id": "yz7itPUQ_Zcu"
   },
   "outputs": [
    {
     "data": {
      "text/plain": [
       "genre\n",
       "pop            781\n",
       "dance          549\n",
       "electronic     480\n",
       "rock           474\n",
       "hiphop         286\n",
       "ruspop         186\n",
       "world          181\n",
       "rusrap         175\n",
       "alternative    164\n",
       "unknown        161\n",
       "Name: genre, dtype: int64"
      ]
     },
     "metadata": {},
     "output_type": "display_data"
    }
   ],
   "source": [
    "# вызов функции для утра понедельника в Москве (вместо df — таблица moscow_general)\n",
    "# объекты, хранящие время, являются строками и сравниваются как строки\n",
    "# пример вызова: genre_weekday(moscow_general, 'Monday', '07:00', '11:00')\n",
    "genre_weekday_monday_moscow = genre_weekday(moscow_general, 'Monday', '07:00:00', '11:00:00')\n",
    "display(genre_weekday_monday_moscow)"
   ]
  },
  {
   "cell_type": "code",
   "execution_count": 73,
   "metadata": {
    "id": "kwUcHPdy_Zcu"
   },
   "outputs": [
    {
     "data": {
      "text/plain": [
       "genre\n",
       "pop            218\n",
       "dance          182\n",
       "rock           162\n",
       "electronic     147\n",
       "hiphop          80\n",
       "ruspop          64\n",
       "alternative     58\n",
       "rusrap          55\n",
       "jazz            44\n",
       "classical       40\n",
       "Name: genre, dtype: int64"
      ]
     },
     "metadata": {},
     "output_type": "display_data"
    }
   ],
   "source": [
    "# вызов функции для утра понедельника в Петербурге (вместо df — таблица spb_general)\n",
    "genre_weekday_monday_piter = genre_weekday(spb_general, 'Monday', '07:00:00', '11:00:00')\n",
    "display(genre_weekday_monday_piter)"
   ]
  },
  {
   "cell_type": "code",
   "execution_count": 74,
   "metadata": {
    "id": "EzXVRE1o_Zcu"
   },
   "outputs": [
    {
     "data": {
      "text/plain": [
       "genre\n",
       "pop            713\n",
       "rock           517\n",
       "dance          495\n",
       "electronic     482\n",
       "hiphop         273\n",
       "world          208\n",
       "ruspop         170\n",
       "alternative    163\n",
       "classical      163\n",
       "rusrap         142\n",
       "Name: genre, dtype: int64"
      ]
     },
     "metadata": {},
     "output_type": "display_data"
    }
   ],
   "source": [
    "# вызов функции для вечера пятницы в Москве\n",
    "genre_weekday_friday_moscow = genre_weekday(moscow_general, 'Friday', '17:00:00', '23:00:00')\n",
    "display(genre_weekday_friday_moscow)"
   ]
  },
  {
   "cell_type": "code",
   "execution_count": 80,
   "metadata": {
    "id": "JZaEKu5v_Zcu"
   },
   "outputs": [
    {
     "data": {
      "text/plain": [
       "genre\n",
       "pop            256\n",
       "rock           216\n",
       "electronic     216\n",
       "dance          210\n",
       "hiphop          97\n",
       "alternative     63\n",
       "jazz            61\n",
       "classical       60\n",
       "rusrap          59\n",
       "world           54\n",
       "Name: genre, dtype: int64"
      ]
     },
     "metadata": {},
     "output_type": "display_data"
    }
   ],
   "source": [
    "# вызов функции для вечера пятницы в Петербурге\n",
    "genre_weekday_friday_piter = genre_weekday(spb_general, 'Friday', '17:00:00', '23:00:00')\n",
    "display(genre_weekday_friday_piter)"
   ]
  },
  {
   "cell_type": "markdown",
   "metadata": {
    "id": "wrCe4MNX_Zcu"
   },
   "source": [
    "**Выводы**\n",
    "\n",
    "Если сравнить топ-10 жанров в понедельник утром, можно сделать такие выводы:\n",
    "\n",
    "1. В Москве и Петербурге слушают похожую музыку. Единственное отличие — в московский рейтинг вошёл жанр “world”, а в петербургский — джаз и классика.\n",
    "\n",
    "2. В Москве пропущенных значений оказалось так много, что значение `'unknown'` заняло десятое место среди самых популярных жанров. Значит, пропущенные значения занимают существенную долю в данных и угрожают достоверности исследования.\n",
    "\n",
    "Вечер пятницы не меняет эту картину. Некоторые жанры поднимаются немного выше, другие спускаются, но в целом топ-10 остаётся тем же самым.\n",
    "\n",
    "Таким образом, вторая гипотеза подтвердилась лишь частично:\n",
    "* Пользователи слушают похожую музыку в начале недели и в конце.\n",
    "* Разница между Москвой и Петербургом не слишком выражена. В Москве чаще слушают русскую популярную музыку, в Петербурге — джаз.\n",
    "\n",
    "Однако пропуски в данных ставят под сомнение этот результат. В Москве их так много, что рейтинг топ-10 мог бы выглядеть иначе, если бы не утерянные  данные о жанрах."
   ]
  },
  {
   "cell_type": "markdown",
   "metadata": {
    "id": "JolODAqr_Zcu"
   },
   "source": [
    "### Жанровые предпочтения в Москве и Петербурге\n",
    "\n",
    "Гипотеза: Петербург — столица рэпа, музыку этого жанра там слушают чаще, чем в Москве.  А Москва — город контрастов, в котором, тем не менее, преобладает поп-музыка."
   ]
  },
  {
   "cell_type": "code",
   "execution_count": 76,
   "metadata": {
    "id": "r19lIPke_Zcu"
   },
   "outputs": [],
   "source": [
    "# одной строкой: группировка таблицы moscow_general по столбцу 'genre', \n",
    "# подсчёт числа значений 'genre' в этой группировке методом count(), \n",
    "# сортировка получившегося Series в порядке убывания и сохранение в moscow_genres\n",
    "moscow_genres = moscow_general.groupby('genre')['genre'].count().sort_values(ascending=False)"
   ]
  },
  {
   "cell_type": "code",
   "execution_count": 77,
   "metadata": {
    "id": "WhCSooF8_Zcv"
   },
   "outputs": [
    {
     "data": {
      "text/plain": [
       "genre\n",
       "pop            5892\n",
       "dance          4435\n",
       "rock           3965\n",
       "electronic     3786\n",
       "hiphop         2096\n",
       "classical      1616\n",
       "world          1432\n",
       "alternative    1379\n",
       "ruspop         1372\n",
       "rusrap         1161\n",
       "Name: genre, dtype: int64"
      ]
     },
     "execution_count": 77,
     "metadata": {},
     "output_type": "execute_result"
    }
   ],
   "source": [
    "# просмотр первых 10 строк moscow_genres\n",
    "moscow_genres.head(10)"
   ]
  },
  {
   "cell_type": "code",
   "execution_count": 78,
   "metadata": {
    "id": "gluLIpE7_Zcv"
   },
   "outputs": [],
   "source": [
    "# одной строкой: группировка таблицы spb_general по столбцу 'genre', \n",
    "# подсчёт числа значений 'genre' в этой группировке методом count(), \n",
    "# сортировка получившегося Series в порядке убывания и сохранение в spb_genres\n",
    "spb_genres = spb_general.groupby('genre')['genre'].count().sort_values(ascending=False)"
   ]
  },
  {
   "cell_type": "code",
   "execution_count": 79,
   "metadata": {
    "id": "uaGJHjVU_Zcv"
   },
   "outputs": [
    {
     "data": {
      "text/plain": [
       "genre\n",
       "pop            2431\n",
       "dance          1932\n",
       "rock           1879\n",
       "electronic     1736\n",
       "hiphop          960\n",
       "alternative     649\n",
       "classical       646\n",
       "rusrap          564\n",
       "ruspop          538\n",
       "world           515\n",
       "Name: genre, dtype: int64"
      ]
     },
     "execution_count": 79,
     "metadata": {},
     "output_type": "execute_result"
    }
   ],
   "source": [
    "# просмотр первых 10 строк spb_genres\n",
    "spb_genres.head(10)"
   ]
  },
  {
   "cell_type": "markdown",
   "metadata": {
    "id": "RY51YJYu_Zcv"
   },
   "source": [
    "**Выводы**"
   ]
  },
  {
   "cell_type": "markdown",
   "metadata": {
    "id": "nVhnJEm__Zcv"
   },
   "source": [
    "Гипотеза частично подтвердилась:\n",
    "* Поп-музыка — самый популярный жанр в Москве, как и предполагала гипотеза. Более того, в топ-10 жанров встречается близкий жанр — русская популярная музыка.\n",
    "* Вопреки ожиданиям, рэп одинаково популярен в Москве и Петербурге. \n"
   ]
  },
  {
   "cell_type": "markdown",
   "metadata": {
    "id": "ykKQ0N65_Zcv"
   },
   "source": [
    "## Итоги исследования"
   ]
  },
  {
   "cell_type": "markdown",
   "metadata": {
    "id": "tjUwbHb3_Zcv"
   },
   "source": [
    "Мы проверили три гипотезы и установили:\n",
    "\n",
    "1. День недели по-разному влияет на активность пользователей в Москве и Петербурге. \n",
    "\n",
    "Первая гипотеза полностью подтвердилась.\n",
    "\n",
    "2. Музыкальные предпочтения не сильно меняются в течение недели — будь то Москва или Петербург. Небольшие различия заметны в начале недели, по понедельникам:\n",
    "* в Москве слушают музыку жанра “world”,\n",
    "* в Петербурге — джаз и классику.\n",
    "\n",
    "Таким образом, вторая гипотеза подтвердилась лишь отчасти. Этот результат мог оказаться иным, если бы не пропуски в данных.\n",
    "\n",
    "3. Во вкусах пользователей Москвы и Петербурга больше общего чем различий. Вопреки ожиданиям, предпочтения жанров в Петербурге напоминают московские.\n",
    "\n",
    "Третья гипотеза не подтвердилась. Если различия в предпочтениях и существуют, на основной массе пользователей они незаметны."
   ]
  }
 ],
 "metadata": {
  "ExecuteTimeLog": [
   {
    "duration": 282,
    "start_time": "2022-01-26T14:12:17.718Z"
   },
   {
    "duration": 620,
    "start_time": "2022-01-26T14:12:26.418Z"
   },
   {
    "duration": 189,
    "start_time": "2022-01-26T14:12:30.242Z"
   },
   {
    "duration": 21,
    "start_time": "2022-01-26T14:12:48.740Z"
   },
   {
    "duration": 26,
    "start_time": "2022-01-26T14:18:38.289Z"
   },
   {
    "duration": 5,
    "start_time": "2022-01-26T14:20:08.256Z"
   },
   {
    "duration": 272,
    "start_time": "2022-01-26T15:11:09.558Z"
   },
   {
    "duration": 247,
    "start_time": "2022-01-26T15:11:33.160Z"
   },
   {
    "duration": 573,
    "start_time": "2022-01-26T15:11:39.558Z"
   },
   {
    "duration": 3,
    "start_time": "2022-01-26T15:11:46.515Z"
   },
   {
    "duration": 434,
    "start_time": "2022-01-26T15:11:46.520Z"
   },
   {
    "duration": -601,
    "start_time": "2022-01-26T15:11:47.558Z"
   },
   {
    "duration": -604,
    "start_time": "2022-01-26T15:11:47.562Z"
   },
   {
    "duration": -606,
    "start_time": "2022-01-26T15:11:47.565Z"
   },
   {
    "duration": -607,
    "start_time": "2022-01-26T15:11:47.568Z"
   },
   {
    "duration": -610,
    "start_time": "2022-01-26T15:11:47.572Z"
   },
   {
    "duration": -612,
    "start_time": "2022-01-26T15:11:47.575Z"
   },
   {
    "duration": -619,
    "start_time": "2022-01-26T15:11:47.584Z"
   },
   {
    "duration": -623,
    "start_time": "2022-01-26T15:11:47.589Z"
   },
   {
    "duration": -625,
    "start_time": "2022-01-26T15:11:47.592Z"
   },
   {
    "duration": -629,
    "start_time": "2022-01-26T15:11:47.597Z"
   },
   {
    "duration": -631,
    "start_time": "2022-01-26T15:11:47.600Z"
   },
   {
    "duration": -634,
    "start_time": "2022-01-26T15:11:47.604Z"
   },
   {
    "duration": -635,
    "start_time": "2022-01-26T15:11:47.606Z"
   },
   {
    "duration": -637,
    "start_time": "2022-01-26T15:11:47.609Z"
   },
   {
    "duration": -639,
    "start_time": "2022-01-26T15:11:47.612Z"
   },
   {
    "duration": -640,
    "start_time": "2022-01-26T15:11:47.614Z"
   },
   {
    "duration": -642,
    "start_time": "2022-01-26T15:11:47.617Z"
   },
   {
    "duration": -643,
    "start_time": "2022-01-26T15:11:47.619Z"
   },
   {
    "duration": -645,
    "start_time": "2022-01-26T15:11:47.622Z"
   },
   {
    "duration": -647,
    "start_time": "2022-01-26T15:11:47.625Z"
   },
   {
    "duration": -649,
    "start_time": "2022-01-26T15:11:47.628Z"
   },
   {
    "duration": -652,
    "start_time": "2022-01-26T15:11:47.632Z"
   },
   {
    "duration": -664,
    "start_time": "2022-01-26T15:11:47.645Z"
   },
   {
    "duration": -666,
    "start_time": "2022-01-26T15:11:47.648Z"
   },
   {
    "duration": -667,
    "start_time": "2022-01-26T15:11:47.650Z"
   },
   {
    "duration": -669,
    "start_time": "2022-01-26T15:11:47.653Z"
   },
   {
    "duration": -670,
    "start_time": "2022-01-26T15:11:47.655Z"
   },
   {
    "duration": -672,
    "start_time": "2022-01-26T15:11:47.658Z"
   },
   {
    "duration": -673,
    "start_time": "2022-01-26T15:11:47.660Z"
   },
   {
    "duration": -675,
    "start_time": "2022-01-26T15:11:47.663Z"
   },
   {
    "duration": -677,
    "start_time": "2022-01-26T15:11:47.665Z"
   },
   {
    "duration": -679,
    "start_time": "2022-01-26T15:11:47.668Z"
   },
   {
    "duration": -681,
    "start_time": "2022-01-26T15:11:47.671Z"
   },
   {
    "duration": -684,
    "start_time": "2022-01-26T15:11:47.675Z"
   },
   {
    "duration": -687,
    "start_time": "2022-01-26T15:11:47.679Z"
   },
   {
    "duration": -689,
    "start_time": "2022-01-26T15:11:47.682Z"
   },
   {
    "duration": 158,
    "start_time": "2022-01-26T15:30:18.987Z"
   },
   {
    "duration": 20,
    "start_time": "2022-01-26T15:32:27.001Z"
   },
   {
    "duration": 9,
    "start_time": "2022-01-26T15:32:45.267Z"
   },
   {
    "duration": 25,
    "start_time": "2022-01-26T15:33:33.683Z"
   },
   {
    "duration": 32,
    "start_time": "2022-01-26T15:35:17.186Z"
   },
   {
    "duration": 23,
    "start_time": "2022-01-26T15:35:27.573Z"
   },
   {
    "duration": 2,
    "start_time": "2022-01-26T15:37:04.259Z"
   },
   {
    "duration": 168,
    "start_time": "2022-01-26T15:37:07.269Z"
   },
   {
    "duration": 13,
    "start_time": "2022-01-26T15:37:09.661Z"
   },
   {
    "duration": 27,
    "start_time": "2022-01-26T15:37:13.069Z"
   },
   {
    "duration": 5,
    "start_time": "2022-01-26T15:37:17.525Z"
   },
   {
    "duration": 16,
    "start_time": "2022-01-26T15:37:21.389Z"
   },
   {
    "duration": 5,
    "start_time": "2022-01-26T15:37:24.605Z"
   },
   {
    "duration": 26,
    "start_time": "2022-01-26T15:37:27.724Z"
   },
   {
    "duration": 30,
    "start_time": "2022-01-26T15:37:30.525Z"
   },
   {
    "duration": 27,
    "start_time": "2022-01-26T15:37:33.029Z"
   },
   {
    "duration": 33,
    "start_time": "2022-01-26T15:43:28.663Z"
   },
   {
    "duration": 43,
    "start_time": "2022-01-26T15:43:55.240Z"
   },
   {
    "duration": 67,
    "start_time": "2022-01-26T15:46:33.754Z"
   },
   {
    "duration": 23,
    "start_time": "2022-01-26T15:48:09.228Z"
   },
   {
    "duration": 3,
    "start_time": "2022-01-26T15:48:15.364Z"
   },
   {
    "duration": 180,
    "start_time": "2022-01-26T15:48:15.370Z"
   },
   {
    "duration": 11,
    "start_time": "2022-01-26T15:48:15.552Z"
   },
   {
    "duration": 28,
    "start_time": "2022-01-26T15:48:15.565Z"
   },
   {
    "duration": 4,
    "start_time": "2022-01-26T15:48:15.607Z"
   },
   {
    "duration": 23,
    "start_time": "2022-01-26T15:48:15.613Z"
   },
   {
    "duration": 4,
    "start_time": "2022-01-26T15:48:15.638Z"
   },
   {
    "duration": 27,
    "start_time": "2022-01-26T15:48:15.644Z"
   },
   {
    "duration": 65,
    "start_time": "2022-01-26T15:48:15.673Z"
   },
   {
    "duration": 31,
    "start_time": "2022-01-26T15:56:25.195Z"
   },
   {
    "duration": 24,
    "start_time": "2022-01-26T15:56:30.818Z"
   },
   {
    "duration": 17,
    "start_time": "2022-01-26T15:56:47.740Z"
   },
   {
    "duration": 26,
    "start_time": "2022-01-26T15:56:50.474Z"
   },
   {
    "duration": 63,
    "start_time": "2022-01-26T16:07:50.864Z"
   },
   {
    "duration": 82,
    "start_time": "2022-01-26T16:09:33.111Z"
   },
   {
    "duration": 57,
    "start_time": "2022-01-26T16:09:43.095Z"
   },
   {
    "duration": 74,
    "start_time": "2022-01-26T16:13:30.042Z"
   },
   {
    "duration": 60,
    "start_time": "2022-01-26T16:13:36.049Z"
   },
   {
    "duration": 61,
    "start_time": "2022-01-26T16:13:44.289Z"
   },
   {
    "duration": 4,
    "start_time": "2022-01-26T16:13:49.333Z"
   },
   {
    "duration": 168,
    "start_time": "2022-01-26T16:13:49.339Z"
   },
   {
    "duration": 11,
    "start_time": "2022-01-26T16:13:49.510Z"
   },
   {
    "duration": 27,
    "start_time": "2022-01-26T16:13:49.523Z"
   },
   {
    "duration": 5,
    "start_time": "2022-01-26T16:13:49.551Z"
   },
   {
    "duration": 26,
    "start_time": "2022-01-26T16:13:49.557Z"
   },
   {
    "duration": 4,
    "start_time": "2022-01-26T16:13:49.609Z"
   },
   {
    "duration": 40,
    "start_time": "2022-01-26T16:13:49.615Z"
   },
   {
    "duration": 31,
    "start_time": "2022-01-26T16:13:49.656Z"
   },
   {
    "duration": 31,
    "start_time": "2022-01-26T16:13:49.689Z"
   },
   {
    "duration": 75,
    "start_time": "2022-01-26T16:13:49.721Z"
   },
   {
    "duration": 75,
    "start_time": "2022-01-26T16:13:49.798Z"
   },
   {
    "duration": 74,
    "start_time": "2022-01-26T16:16:33.433Z"
   },
   {
    "duration": 56,
    "start_time": "2022-01-26T16:16:37.050Z"
   },
   {
    "duration": 5,
    "start_time": "2022-01-26T16:20:30.637Z"
   },
   {
    "duration": 8,
    "start_time": "2022-01-26T16:21:45.412Z"
   },
   {
    "duration": 10,
    "start_time": "2022-01-26T16:23:11.733Z"
   },
   {
    "duration": 3,
    "start_time": "2022-01-26T16:36:33.984Z"
   },
   {
    "duration": 4,
    "start_time": "2022-01-26T16:36:36.498Z"
   },
   {
    "duration": 466,
    "start_time": "2022-01-26T16:36:39.330Z"
   },
   {
    "duration": 4,
    "start_time": "2022-01-26T16:46:16.389Z"
   },
   {
    "duration": 267,
    "start_time": "2022-01-26T16:46:19.631Z"
   },
   {
    "duration": 11,
    "start_time": "2022-01-26T16:46:31.247Z"
   },
   {
    "duration": 11,
    "start_time": "2022-01-26T16:46:34.494Z"
   },
   {
    "duration": 333,
    "start_time": "2022-01-26T17:00:02.814Z"
   },
   {
    "duration": 11,
    "start_time": "2022-01-26T17:00:45.877Z"
   },
   {
    "duration": 12,
    "start_time": "2022-01-26T17:51:32.086Z"
   },
   {
    "duration": 11,
    "start_time": "2022-01-26T17:51:47.176Z"
   },
   {
    "duration": 3,
    "start_time": "2022-01-26T18:10:35.823Z"
   },
   {
    "duration": 166,
    "start_time": "2022-01-26T18:10:35.828Z"
   },
   {
    "duration": 17,
    "start_time": "2022-01-26T18:10:35.996Z"
   },
   {
    "duration": 35,
    "start_time": "2022-01-26T18:10:36.016Z"
   },
   {
    "duration": 11,
    "start_time": "2022-01-26T18:10:36.053Z"
   },
   {
    "duration": 25,
    "start_time": "2022-01-26T18:10:36.066Z"
   },
   {
    "duration": 4,
    "start_time": "2022-01-26T18:10:36.094Z"
   },
   {
    "duration": 25,
    "start_time": "2022-01-26T18:10:36.109Z"
   },
   {
    "duration": 24,
    "start_time": "2022-01-26T18:10:36.136Z"
   },
   {
    "duration": 43,
    "start_time": "2022-01-26T18:10:36.163Z"
   },
   {
    "duration": 65,
    "start_time": "2022-01-26T18:10:36.209Z"
   },
   {
    "duration": 84,
    "start_time": "2022-01-26T18:10:36.276Z"
   },
   {
    "duration": 63,
    "start_time": "2022-01-26T18:10:36.362Z"
   },
   {
    "duration": 10,
    "start_time": "2022-01-26T18:10:36.428Z"
   },
   {
    "duration": 4,
    "start_time": "2022-01-26T18:10:36.440Z"
   },
   {
    "duration": 15,
    "start_time": "2022-01-26T18:10:36.446Z"
   },
   {
    "duration": 13,
    "start_time": "2022-01-26T18:10:36.464Z"
   },
   {
    "duration": 37,
    "start_time": "2022-01-26T18:10:36.479Z"
   },
   {
    "duration": 12,
    "start_time": "2022-01-26T18:10:36.519Z"
   },
   {
    "duration": 4,
    "start_time": "2022-01-26T18:10:36.533Z"
   },
   {
    "duration": 260,
    "start_time": "2022-01-26T18:10:36.539Z"
   },
   {
    "duration": 245,
    "start_time": "2022-01-26T18:10:36.801Z"
   },
   {
    "duration": 245,
    "start_time": "2022-01-26T18:10:37.048Z"
   },
   {
    "duration": 249,
    "start_time": "2022-01-26T18:10:37.295Z"
   },
   {
    "duration": 245,
    "start_time": "2022-01-26T18:10:37.546Z"
   },
   {
    "duration": 3,
    "start_time": "2022-01-26T18:11:04.069Z"
   },
   {
    "duration": 191,
    "start_time": "2022-01-26T18:11:04.076Z"
   },
   {
    "duration": 12,
    "start_time": "2022-01-26T18:11:04.270Z"
   },
   {
    "duration": 43,
    "start_time": "2022-01-26T18:11:04.285Z"
   },
   {
    "duration": 7,
    "start_time": "2022-01-26T18:11:04.330Z"
   },
   {
    "duration": 17,
    "start_time": "2022-01-26T18:11:04.339Z"
   },
   {
    "duration": 5,
    "start_time": "2022-01-26T18:11:04.358Z"
   },
   {
    "duration": 55,
    "start_time": "2022-01-26T18:11:04.365Z"
   },
   {
    "duration": 24,
    "start_time": "2022-01-26T18:11:04.422Z"
   },
   {
    "duration": 26,
    "start_time": "2022-01-26T18:11:04.448Z"
   },
   {
    "duration": 90,
    "start_time": "2022-01-26T18:11:04.476Z"
   },
   {
    "duration": 93,
    "start_time": "2022-01-26T18:11:04.568Z"
   },
   {
    "duration": 67,
    "start_time": "2022-01-26T18:11:04.664Z"
   },
   {
    "duration": 10,
    "start_time": "2022-01-26T18:11:04.733Z"
   },
   {
    "duration": 4,
    "start_time": "2022-01-26T18:11:04.745Z"
   },
   {
    "duration": 22,
    "start_time": "2022-01-26T18:11:04.753Z"
   },
   {
    "duration": 34,
    "start_time": "2022-01-26T18:11:04.777Z"
   },
   {
    "duration": 12,
    "start_time": "2022-01-26T18:11:04.814Z"
   },
   {
    "duration": 14,
    "start_time": "2022-01-26T18:11:04.828Z"
   },
   {
    "duration": 5,
    "start_time": "2022-01-26T18:11:04.843Z"
   },
   {
    "duration": 247,
    "start_time": "2022-01-26T18:11:09.096Z"
   },
   {
    "duration": 4,
    "start_time": "2022-01-26T18:11:15.673Z"
   },
   {
    "duration": 341,
    "start_time": "2022-01-26T18:11:18.936Z"
   },
   {
    "duration": 3,
    "start_time": "2022-01-26T18:11:31.358Z"
   },
   {
    "duration": 166,
    "start_time": "2022-01-26T18:11:31.363Z"
   },
   {
    "duration": 12,
    "start_time": "2022-01-26T18:11:31.531Z"
   },
   {
    "duration": 28,
    "start_time": "2022-01-26T18:11:31.545Z"
   },
   {
    "duration": 4,
    "start_time": "2022-01-26T18:11:31.576Z"
   },
   {
    "duration": 33,
    "start_time": "2022-01-26T18:11:31.582Z"
   },
   {
    "duration": 4,
    "start_time": "2022-01-26T18:11:31.619Z"
   },
   {
    "duration": 32,
    "start_time": "2022-01-26T18:11:31.625Z"
   },
   {
    "duration": 23,
    "start_time": "2022-01-26T18:11:31.659Z"
   },
   {
    "duration": 46,
    "start_time": "2022-01-26T18:11:31.684Z"
   },
   {
    "duration": 76,
    "start_time": "2022-01-26T18:11:31.732Z"
   },
   {
    "duration": 70,
    "start_time": "2022-01-26T18:11:31.810Z"
   },
   {
    "duration": 78,
    "start_time": "2022-01-26T18:11:31.882Z"
   },
   {
    "duration": 12,
    "start_time": "2022-01-26T18:11:31.962Z"
   },
   {
    "duration": 4,
    "start_time": "2022-01-26T18:11:31.976Z"
   },
   {
    "duration": 34,
    "start_time": "2022-01-26T18:11:31.982Z"
   },
   {
    "duration": 11,
    "start_time": "2022-01-26T18:11:32.018Z"
   },
   {
    "duration": 23,
    "start_time": "2022-01-26T18:11:32.031Z"
   },
   {
    "duration": 13,
    "start_time": "2022-01-26T18:11:32.057Z"
   },
   {
    "duration": 7,
    "start_time": "2022-01-26T18:11:32.072Z"
   },
   {
    "duration": 246,
    "start_time": "2022-01-26T18:12:39.160Z"
   },
   {
    "duration": 245,
    "start_time": "2022-01-26T18:12:44.496Z"
   },
   {
    "duration": 241,
    "start_time": "2022-01-26T18:12:46.809Z"
   },
   {
    "duration": 255,
    "start_time": "2022-01-26T18:12:48.962Z"
   },
   {
    "duration": 274,
    "start_time": "2022-01-26T18:12:51.033Z"
   },
   {
    "duration": -497,
    "start_time": "2022-01-26T18:13:47.201Z"
   },
   {
    "duration": 246,
    "start_time": "2022-01-26T18:13:47.533Z"
   },
   {
    "duration": 4,
    "start_time": "2022-01-26T18:13:50.753Z"
   },
   {
    "duration": -501,
    "start_time": "2022-01-26T18:14:00.956Z"
   },
   {
    "duration": 232,
    "start_time": "2022-01-26T18:17:19.274Z"
   },
   {
    "duration": 233,
    "start_time": "2022-01-26T18:18:53.518Z"
   },
   {
    "duration": -523,
    "start_time": "2022-01-26T18:19:41.637Z"
   },
   {
    "duration": -525,
    "start_time": "2022-01-26T18:19:41.640Z"
   },
   {
    "duration": -525,
    "start_time": "2022-01-26T18:19:41.642Z"
   },
   {
    "duration": 232,
    "start_time": "2022-01-26T18:19:41.132Z"
   },
   {
    "duration": 227,
    "start_time": "2022-01-26T18:19:42.308Z"
   },
   {
    "duration": 231,
    "start_time": "2022-01-26T18:19:42.876Z"
   },
   {
    "duration": 236,
    "start_time": "2022-01-26T18:19:43.676Z"
   },
   {
    "duration": 227,
    "start_time": "2022-01-26T18:19:47.861Z"
   },
   {
    "duration": 7018,
    "start_time": "2022-01-26T18:19:50.522Z"
   },
   {
    "duration": 240,
    "start_time": "2022-01-26T18:20:31.270Z"
   },
   {
    "duration": 3,
    "start_time": "2022-01-26T18:20:50.862Z"
   },
   {
    "duration": 3,
    "start_time": "2022-01-26T18:20:55.443Z"
   },
   {
    "duration": 160,
    "start_time": "2022-01-26T18:20:55.448Z"
   },
   {
    "duration": 11,
    "start_time": "2022-01-26T18:20:55.610Z"
   },
   {
    "duration": 29,
    "start_time": "2022-01-26T18:20:55.623Z"
   },
   {
    "duration": 4,
    "start_time": "2022-01-26T18:20:55.654Z"
   },
   {
    "duration": 20,
    "start_time": "2022-01-26T18:20:55.659Z"
   },
   {
    "duration": 4,
    "start_time": "2022-01-26T18:20:55.681Z"
   },
   {
    "duration": 26,
    "start_time": "2022-01-26T18:20:55.708Z"
   },
   {
    "duration": 20,
    "start_time": "2022-01-26T18:20:55.736Z"
   },
   {
    "duration": 50,
    "start_time": "2022-01-26T18:20:55.758Z"
   },
   {
    "duration": 63,
    "start_time": "2022-01-26T18:20:55.810Z"
   },
   {
    "duration": 83,
    "start_time": "2022-01-26T18:20:55.875Z"
   },
   {
    "duration": 64,
    "start_time": "2022-01-26T18:20:55.960Z"
   },
   {
    "duration": 10,
    "start_time": "2022-01-26T18:20:56.025Z"
   },
   {
    "duration": 5,
    "start_time": "2022-01-26T18:20:56.037Z"
   },
   {
    "duration": 19,
    "start_time": "2022-01-26T18:20:56.044Z"
   },
   {
    "duration": 11,
    "start_time": "2022-01-26T18:20:56.065Z"
   },
   {
    "duration": 37,
    "start_time": "2022-01-26T18:20:56.078Z"
   },
   {
    "duration": 12,
    "start_time": "2022-01-26T18:20:56.120Z"
   },
   {
    "duration": 3,
    "start_time": "2022-01-26T18:20:56.135Z"
   },
   {
    "duration": 247,
    "start_time": "2022-01-26T18:20:56.140Z"
   },
   {
    "duration": 238,
    "start_time": "2022-01-26T18:20:56.388Z"
   },
   {
    "duration": 240,
    "start_time": "2022-01-26T18:20:56.628Z"
   },
   {
    "duration": 238,
    "start_time": "2022-01-26T18:20:56.870Z"
   },
   {
    "duration": 236,
    "start_time": "2022-01-26T18:20:57.110Z"
   },
   {
    "duration": 263,
    "start_time": "2022-01-26T18:20:57.348Z"
   },
   {
    "duration": 2,
    "start_time": "2022-01-26T18:20:57.613Z"
   },
   {
    "duration": 6,
    "start_time": "2022-01-26T18:20:57.616Z"
   },
   {
    "duration": 5,
    "start_time": "2022-01-26T18:20:57.624Z"
   },
   {
    "duration": 6,
    "start_time": "2022-01-26T18:20:57.631Z"
   },
   {
    "duration": 13,
    "start_time": "2022-01-26T18:20:57.638Z"
   },
   {
    "duration": 8,
    "start_time": "2022-01-26T18:20:57.653Z"
   },
   {
    "duration": 11,
    "start_time": "2022-01-26T18:20:57.663Z"
   },
   {
    "duration": 8,
    "start_time": "2022-01-26T18:20:57.676Z"
   },
   {
    "duration": 13,
    "start_time": "2022-01-26T18:20:57.686Z"
   },
   {
    "duration": 8,
    "start_time": "2022-01-26T18:20:57.701Z"
   },
   {
    "duration": 10,
    "start_time": "2022-01-26T18:20:57.711Z"
   },
   {
    "duration": 6,
    "start_time": "2022-01-26T18:20:57.725Z"
   },
   {
    "duration": -498,
    "start_time": "2022-01-26T18:28:30.647Z"
   },
   {
    "duration": -499,
    "start_time": "2022-01-26T18:28:30.649Z"
   },
   {
    "duration": 225,
    "start_time": "2022-01-26T18:28:31.609Z"
   },
   {
    "duration": 506,
    "start_time": "2022-01-26T18:31:12.653Z"
   },
   {
    "duration": 21,
    "start_time": "2022-01-26T18:31:40.052Z"
   },
   {
    "duration": 19,
    "start_time": "2022-01-26T18:36:18.474Z"
   },
   {
    "duration": 17,
    "start_time": "2022-01-26T18:36:57.603Z"
   },
   {
    "duration": 16,
    "start_time": "2022-01-26T18:40:18.872Z"
   },
   {
    "duration": 16,
    "start_time": "2022-01-26T18:40:22.884Z"
   },
   {
    "duration": 16,
    "start_time": "2022-01-26T18:40:23.580Z"
   },
   {
    "duration": 18,
    "start_time": "2022-01-26T18:40:24.471Z"
   },
   {
    "duration": 16,
    "start_time": "2022-01-26T18:40:25.211Z"
   },
   {
    "duration": 5,
    "start_time": "2022-01-26T18:43:38.387Z"
   },
   {
    "duration": 9,
    "start_time": "2022-01-26T18:43:55.281Z"
   },
   {
    "duration": 22,
    "start_time": "2022-01-26T22:30:21.517Z"
   },
   {
    "duration": 429,
    "start_time": "2022-01-26T22:30:25.668Z"
   },
   {
    "duration": 20,
    "start_time": "2022-01-26T22:30:42.844Z"
   },
   {
    "duration": 235,
    "start_time": "2022-01-26T23:17:09.877Z"
   },
   {
    "duration": 229,
    "start_time": "2022-01-26T23:17:24.082Z"
   },
   {
    "duration": 5,
    "start_time": "2022-01-26T23:17:56.602Z"
   },
   {
    "duration": 576,
    "start_time": "2022-01-26T23:17:57.836Z"
   },
   {
    "duration": 3,
    "start_time": "2022-01-26T23:23:14.508Z"
   },
   {
    "duration": 3,
    "start_time": "2022-01-26T23:23:21.960Z"
   },
   {
    "duration": 166,
    "start_time": "2022-01-26T23:23:21.965Z"
   },
   {
    "duration": 12,
    "start_time": "2022-01-26T23:23:22.133Z"
   },
   {
    "duration": 31,
    "start_time": "2022-01-26T23:23:22.147Z"
   },
   {
    "duration": 4,
    "start_time": "2022-01-26T23:23:22.180Z"
   },
   {
    "duration": 35,
    "start_time": "2022-01-26T23:23:22.186Z"
   },
   {
    "duration": 5,
    "start_time": "2022-01-26T23:23:22.224Z"
   },
   {
    "duration": 28,
    "start_time": "2022-01-26T23:23:22.231Z"
   },
   {
    "duration": 49,
    "start_time": "2022-01-26T23:23:22.261Z"
   },
   {
    "duration": 25,
    "start_time": "2022-01-26T23:23:22.312Z"
   },
   {
    "duration": 76,
    "start_time": "2022-01-26T23:23:22.339Z"
   },
   {
    "duration": 69,
    "start_time": "2022-01-26T23:23:22.417Z"
   },
   {
    "duration": 70,
    "start_time": "2022-01-26T23:23:22.488Z"
   },
   {
    "duration": 11,
    "start_time": "2022-01-26T23:23:22.560Z"
   },
   {
    "duration": 4,
    "start_time": "2022-01-26T23:23:22.572Z"
   },
   {
    "duration": 36,
    "start_time": "2022-01-26T23:23:22.577Z"
   },
   {
    "duration": 10,
    "start_time": "2022-01-26T23:23:22.615Z"
   },
   {
    "duration": 14,
    "start_time": "2022-01-26T23:23:22.627Z"
   },
   {
    "duration": 12,
    "start_time": "2022-01-26T23:23:22.645Z"
   },
   {
    "duration": 3,
    "start_time": "2022-01-26T23:23:22.659Z"
   },
   {
    "duration": 48,
    "start_time": "2022-01-26T23:23:22.664Z"
   },
   {
    "duration": 17,
    "start_time": "2022-01-26T23:23:22.714Z"
   },
   {
    "duration": 17,
    "start_time": "2022-01-26T23:23:22.733Z"
   },
   {
    "duration": 16,
    "start_time": "2022-01-26T23:23:22.752Z"
   },
   {
    "duration": 51,
    "start_time": "2022-01-26T23:23:22.770Z"
   },
   {
    "duration": 18,
    "start_time": "2022-01-26T23:23:22.823Z"
   },
   {
    "duration": 9,
    "start_time": "2022-01-26T23:23:22.843Z"
   },
   {
    "duration": 23,
    "start_time": "2022-01-26T23:23:22.854Z"
   },
   {
    "duration": 45,
    "start_time": "2022-01-26T23:23:22.879Z"
   },
   {
    "duration": 4,
    "start_time": "2022-01-26T23:23:22.926Z"
   },
   {
    "duration": 5,
    "start_time": "2022-01-26T23:24:24.447Z"
   },
   {
    "duration": 493,
    "start_time": "2022-01-26T23:24:29.094Z"
   },
   {
    "duration": 4,
    "start_time": "2022-01-26T23:27:11.741Z"
   },
   {
    "duration": 501,
    "start_time": "2022-01-26T23:27:14.436Z"
   },
   {
    "duration": 541,
    "start_time": "2022-01-26T23:31:01.065Z"
   },
   {
    "duration": 3,
    "start_time": "2022-01-26T23:31:02.626Z"
   },
   {
    "duration": 5,
    "start_time": "2022-01-26T23:31:47.793Z"
   },
   {
    "duration": 5,
    "start_time": "2022-01-26T23:31:56.230Z"
   },
   {
    "duration": 28,
    "start_time": "2022-01-26T23:31:57.216Z"
   },
   {
    "duration": 4,
    "start_time": "2022-01-26T23:34:40.755Z"
   },
   {
    "duration": 4,
    "start_time": "2022-01-26T23:34:45.326Z"
   },
   {
    "duration": 21,
    "start_time": "2022-01-26T23:34:46.627Z"
   },
   {
    "duration": 16,
    "start_time": "2022-01-26T23:38:14.187Z"
   },
   {
    "duration": 15,
    "start_time": "2022-01-26T23:38:22.065Z"
   },
   {
    "duration": 21,
    "start_time": "2022-01-26T23:38:25.330Z"
   },
   {
    "duration": 247,
    "start_time": "2022-01-27T08:40:58.458Z"
   },
   {
    "duration": 9,
    "start_time": "2022-01-27T08:41:08.274Z"
   },
   {
    "duration": 5,
    "start_time": "2022-01-27T08:41:09.739Z"
   },
   {
    "duration": 8,
    "start_time": "2022-01-27T08:41:13.348Z"
   },
   {
    "duration": 5,
    "start_time": "2022-01-27T08:41:14.516Z"
   },
   {
    "duration": 333,
    "start_time": "2022-02-05T04:31:04.617Z"
   },
   {
    "duration": 734,
    "start_time": "2022-02-05T04:31:14.460Z"
   },
   {
    "duration": 185,
    "start_time": "2022-02-05T04:31:15.197Z"
   },
   {
    "duration": 24,
    "start_time": "2022-02-05T04:31:15.385Z"
   },
   {
    "duration": 30,
    "start_time": "2022-02-05T04:31:15.424Z"
   },
   {
    "duration": 5,
    "start_time": "2022-02-05T04:31:15.457Z"
   },
   {
    "duration": 26,
    "start_time": "2022-02-05T04:31:15.465Z"
   },
   {
    "duration": 5,
    "start_time": "2022-02-05T04:31:15.524Z"
   },
   {
    "duration": 29,
    "start_time": "2022-02-05T04:31:15.533Z"
   },
   {
    "duration": 22,
    "start_time": "2022-02-05T04:31:15.565Z"
   },
   {
    "duration": 60,
    "start_time": "2022-02-05T04:31:15.589Z"
   },
   {
    "duration": 95,
    "start_time": "2022-02-05T04:31:15.652Z"
   },
   {
    "duration": 112,
    "start_time": "2022-02-05T04:31:15.750Z"
   },
   {
    "duration": 81,
    "start_time": "2022-02-05T04:31:15.864Z"
   },
   {
    "duration": 15,
    "start_time": "2022-02-05T04:31:15.947Z"
   },
   {
    "duration": 4,
    "start_time": "2022-02-05T04:31:15.964Z"
   },
   {
    "duration": 17,
    "start_time": "2022-02-05T04:31:15.970Z"
   },
   {
    "duration": 42,
    "start_time": "2022-02-05T04:31:15.989Z"
   },
   {
    "duration": 16,
    "start_time": "2022-02-05T04:31:16.033Z"
   },
   {
    "duration": 15,
    "start_time": "2022-02-05T04:31:16.051Z"
   },
   {
    "duration": 4,
    "start_time": "2022-02-05T04:31:16.068Z"
   },
   {
    "duration": 58,
    "start_time": "2022-02-05T04:31:16.075Z"
   },
   {
    "duration": 20,
    "start_time": "2022-02-05T04:31:16.135Z"
   },
   {
    "duration": 19,
    "start_time": "2022-02-05T04:31:16.159Z"
   },
   {
    "duration": 52,
    "start_time": "2022-02-05T04:31:16.181Z"
   },
   {
    "duration": 21,
    "start_time": "2022-02-05T04:31:16.235Z"
   },
   {
    "duration": 18,
    "start_time": "2022-02-05T04:31:16.258Z"
   },
   {
    "duration": 44,
    "start_time": "2022-02-05T04:31:16.279Z"
   },
   {
    "duration": 30,
    "start_time": "2022-02-05T04:31:16.326Z"
   },
   {
    "duration": 24,
    "start_time": "2022-02-05T04:31:16.359Z"
   },
   {
    "duration": 38,
    "start_time": "2022-02-05T04:31:16.385Z"
   },
   {
    "duration": 24,
    "start_time": "2022-02-05T04:31:16.426Z"
   },
   {
    "duration": 16,
    "start_time": "2022-02-05T04:31:16.452Z"
   },
   {
    "duration": 58,
    "start_time": "2022-02-05T04:31:16.471Z"
   },
   {
    "duration": 18,
    "start_time": "2022-02-05T04:31:16.531Z"
   },
   {
    "duration": 10,
    "start_time": "2022-02-05T04:31:16.552Z"
   },
   {
    "duration": 5,
    "start_time": "2022-02-05T04:31:16.564Z"
   },
   {
    "duration": 8,
    "start_time": "2022-02-05T04:31:16.572Z"
   },
   {
    "duration": 7,
    "start_time": "2022-02-05T04:31:16.623Z"
   },
   {
    "duration": 25,
    "start_time": "2022-02-05T04:31:32.892Z"
   },
   {
    "duration": 16,
    "start_time": "2022-02-05T04:31:35.916Z"
   },
   {
    "duration": 4,
    "start_time": "2022-02-05T04:36:04.003Z"
   },
   {
    "duration": 290,
    "start_time": "2022-02-05T04:36:04.010Z"
   },
   {
    "duration": 26,
    "start_time": "2022-02-05T04:36:04.304Z"
   },
   {
    "duration": 35,
    "start_time": "2022-02-05T04:36:04.333Z"
   },
   {
    "duration": 6,
    "start_time": "2022-02-05T04:36:04.371Z"
   },
   {
    "duration": 52,
    "start_time": "2022-02-05T04:36:04.379Z"
   },
   {
    "duration": 5,
    "start_time": "2022-02-05T04:36:04.435Z"
   },
   {
    "duration": 29,
    "start_time": "2022-02-05T04:36:04.444Z"
   },
   {
    "duration": 54,
    "start_time": "2022-02-05T04:36:04.475Z"
   },
   {
    "duration": 29,
    "start_time": "2022-02-05T04:36:04.532Z"
   },
   {
    "duration": 105,
    "start_time": "2022-02-05T04:36:04.564Z"
   },
   {
    "duration": 92,
    "start_time": "2022-02-05T04:36:04.671Z"
   },
   {
    "duration": 78,
    "start_time": "2022-02-05T04:36:04.766Z"
   },
   {
    "duration": 13,
    "start_time": "2022-02-05T04:36:04.847Z"
   },
   {
    "duration": 4,
    "start_time": "2022-02-05T04:36:04.863Z"
   },
   {
    "duration": 13,
    "start_time": "2022-02-05T04:36:04.870Z"
   },
   {
    "duration": 42,
    "start_time": "2022-02-05T04:36:04.886Z"
   },
   {
    "duration": 16,
    "start_time": "2022-02-05T04:36:04.931Z"
   },
   {
    "duration": 20,
    "start_time": "2022-02-05T04:36:04.954Z"
   },
   {
    "duration": 6,
    "start_time": "2022-02-05T04:36:04.978Z"
   },
   {
    "duration": 30,
    "start_time": "2022-02-05T04:36:05.025Z"
   },
   {
    "duration": 27,
    "start_time": "2022-02-05T04:36:05.058Z"
   },
   {
    "duration": 54,
    "start_time": "2022-02-05T04:36:05.088Z"
   },
   {
    "duration": 26,
    "start_time": "2022-02-05T04:36:05.146Z"
   },
   {
    "duration": 59,
    "start_time": "2022-02-05T04:36:05.175Z"
   },
   {
    "duration": 27,
    "start_time": "2022-02-05T04:36:05.237Z"
   },
   {
    "duration": 16,
    "start_time": "2022-02-05T04:36:05.267Z"
   },
   {
    "duration": 69,
    "start_time": "2022-02-05T04:36:05.286Z"
   },
   {
    "duration": 39,
    "start_time": "2022-02-05T04:36:05.358Z"
   },
   {
    "duration": 5,
    "start_time": "2022-02-05T04:36:05.424Z"
   },
   {
    "duration": 34,
    "start_time": "2022-02-05T04:36:05.432Z"
   },
   {
    "duration": 17,
    "start_time": "2022-02-05T04:36:05.468Z"
   },
   {
    "duration": 46,
    "start_time": "2022-02-05T04:36:05.487Z"
   },
   {
    "duration": 17,
    "start_time": "2022-02-05T04:36:05.536Z"
   },
   {
    "duration": 10,
    "start_time": "2022-02-05T04:36:05.555Z"
   },
   {
    "duration": 5,
    "start_time": "2022-02-05T04:36:05.568Z"
   },
   {
    "duration": 49,
    "start_time": "2022-02-05T04:36:05.576Z"
   },
   {
    "duration": 6,
    "start_time": "2022-02-05T04:36:05.627Z"
   },
   {
    "duration": 17,
    "start_time": "2022-02-05T04:36:09.075Z"
   }
  ],
  "colab": {
   "collapsed_sections": [
    "E0vqbgi9ay0H",
    "VUC88oWjTJw2"
   ],
   "name": "yandex_music_project_2021.2.ipynb",
   "provenance": []
  },
  "kernelspec": {
   "display_name": "Python 3 (ipykernel)",
   "language": "python",
   "name": "python3"
  },
  "language_info": {
   "codemirror_mode": {
    "name": "ipython",
    "version": 3
   },
   "file_extension": ".py",
   "mimetype": "text/x-python",
   "name": "python",
   "nbconvert_exporter": "python",
   "pygments_lexer": "ipython3",
   "version": "3.9.7"
  },
  "toc": {
   "base_numbering": 1,
   "nav_menu": {},
   "number_sections": true,
   "sideBar": true,
   "skip_h1_title": true,
   "title_cell": "Table of Contents",
   "title_sidebar": "Contents",
   "toc_cell": false,
   "toc_position": {},
   "toc_section_display": true,
   "toc_window_display": false
  }
 },
 "nbformat": 4,
 "nbformat_minor": 1
}
