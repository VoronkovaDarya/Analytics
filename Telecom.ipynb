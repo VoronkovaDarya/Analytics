{
 "cells": [
  {
   "cell_type": "markdown",
   "metadata": {},
   "source": [
    "1. Получение данных"
   ]
  },
  {
   "cell_type": "code",
   "execution_count": 127,
   "metadata": {},
   "outputs": [],
   "source": [
    "import pandas as pd\n",
    "import numpy as np\n",
    "from scipy import stats as st\n",
    "import matplotlib.pyplot as plt\n",
    "import seaborn\n",
    "import warnings\n",
    "warnings.filterwarnings('ignore')\n",
    "months_number = ['1', '2', '3', '4', '5', '6', '7', '8', '9', '10', '11', '12']#Список месяцев,необходим для дальнейших операций"
   ]
  },
  {
   "cell_type": "code",
   "execution_count": 128,
   "metadata": {},
   "outputs": [
    {
     "name": "stdout",
     "output_type": "stream",
     "text": [
      "<class 'pandas.core.frame.DataFrame'>\n",
      "RangeIndex: 202607 entries, 0 to 202606\n",
      "Data columns (total 4 columns):\n",
      " #   Column     Non-Null Count   Dtype  \n",
      "---  ------     --------------   -----  \n",
      " 0   id         202607 non-null  object \n",
      " 1   call_date  202607 non-null  object \n",
      " 2   duration   202607 non-null  float64\n",
      " 3   user_id    202607 non-null  int64  \n",
      "dtypes: float64(1), int64(1), object(2)\n",
      "memory usage: 6.2+ MB\n"
     ]
    },
    {
     "data": {
      "text/html": [
       "<div>\n",
       "<style scoped>\n",
       "    .dataframe tbody tr th:only-of-type {\n",
       "        vertical-align: middle;\n",
       "    }\n",
       "\n",
       "    .dataframe tbody tr th {\n",
       "        vertical-align: top;\n",
       "    }\n",
       "\n",
       "    .dataframe thead th {\n",
       "        text-align: right;\n",
       "    }\n",
       "</style>\n",
       "<table border=\"1\" class=\"dataframe\">\n",
       "  <thead>\n",
       "    <tr style=\"text-align: right;\">\n",
       "      <th></th>\n",
       "      <th>id</th>\n",
       "      <th>call_date</th>\n",
       "      <th>duration</th>\n",
       "      <th>user_id</th>\n",
       "    </tr>\n",
       "  </thead>\n",
       "  <tbody>\n",
       "    <tr>\n",
       "      <th>0</th>\n",
       "      <td>1000_0</td>\n",
       "      <td>2018-07-25</td>\n",
       "      <td>0.00</td>\n",
       "      <td>1000</td>\n",
       "    </tr>\n",
       "    <tr>\n",
       "      <th>1</th>\n",
       "      <td>1000_1</td>\n",
       "      <td>2018-08-17</td>\n",
       "      <td>0.00</td>\n",
       "      <td>1000</td>\n",
       "    </tr>\n",
       "    <tr>\n",
       "      <th>2</th>\n",
       "      <td>1000_2</td>\n",
       "      <td>2018-06-11</td>\n",
       "      <td>2.85</td>\n",
       "      <td>1000</td>\n",
       "    </tr>\n",
       "    <tr>\n",
       "      <th>3</th>\n",
       "      <td>1000_3</td>\n",
       "      <td>2018-09-21</td>\n",
       "      <td>13.80</td>\n",
       "      <td>1000</td>\n",
       "    </tr>\n",
       "    <tr>\n",
       "      <th>4</th>\n",
       "      <td>1000_4</td>\n",
       "      <td>2018-12-15</td>\n",
       "      <td>5.18</td>\n",
       "      <td>1000</td>\n",
       "    </tr>\n",
       "    <tr>\n",
       "      <th>5</th>\n",
       "      <td>1000_5</td>\n",
       "      <td>2018-11-02</td>\n",
       "      <td>0.00</td>\n",
       "      <td>1000</td>\n",
       "    </tr>\n",
       "    <tr>\n",
       "      <th>6</th>\n",
       "      <td>1000_6</td>\n",
       "      <td>2018-10-18</td>\n",
       "      <td>0.00</td>\n",
       "      <td>1000</td>\n",
       "    </tr>\n",
       "    <tr>\n",
       "      <th>7</th>\n",
       "      <td>1000_7</td>\n",
       "      <td>2018-08-22</td>\n",
       "      <td>18.31</td>\n",
       "      <td>1000</td>\n",
       "    </tr>\n",
       "    <tr>\n",
       "      <th>8</th>\n",
       "      <td>1000_8</td>\n",
       "      <td>2018-09-15</td>\n",
       "      <td>18.44</td>\n",
       "      <td>1000</td>\n",
       "    </tr>\n",
       "    <tr>\n",
       "      <th>9</th>\n",
       "      <td>1000_9</td>\n",
       "      <td>2018-08-15</td>\n",
       "      <td>0.00</td>\n",
       "      <td>1000</td>\n",
       "    </tr>\n",
       "  </tbody>\n",
       "</table>\n",
       "</div>"
      ],
      "text/plain": [
       "       id   call_date  duration  user_id\n",
       "0  1000_0  2018-07-25      0.00     1000\n",
       "1  1000_1  2018-08-17      0.00     1000\n",
       "2  1000_2  2018-06-11      2.85     1000\n",
       "3  1000_3  2018-09-21     13.80     1000\n",
       "4  1000_4  2018-12-15      5.18     1000\n",
       "5  1000_5  2018-11-02      0.00     1000\n",
       "6  1000_6  2018-10-18      0.00     1000\n",
       "7  1000_7  2018-08-22     18.31     1000\n",
       "8  1000_8  2018-09-15     18.44     1000\n",
       "9  1000_9  2018-08-15      0.00     1000"
      ]
     },
     "metadata": {},
     "output_type": "display_data"
    },
    {
     "data": {
      "text/html": [
       "<div>\n",
       "<style scoped>\n",
       "    .dataframe tbody tr th:only-of-type {\n",
       "        vertical-align: middle;\n",
       "    }\n",
       "\n",
       "    .dataframe tbody tr th {\n",
       "        vertical-align: top;\n",
       "    }\n",
       "\n",
       "    .dataframe thead th {\n",
       "        text-align: right;\n",
       "    }\n",
       "</style>\n",
       "<table border=\"1\" class=\"dataframe\">\n",
       "  <thead>\n",
       "    <tr style=\"text-align: right;\">\n",
       "      <th></th>\n",
       "      <th>duration</th>\n",
       "      <th>user_id</th>\n",
       "    </tr>\n",
       "  </thead>\n",
       "  <tbody>\n",
       "    <tr>\n",
       "      <th>count</th>\n",
       "      <td>202607.000000</td>\n",
       "      <td>202607.000000</td>\n",
       "    </tr>\n",
       "    <tr>\n",
       "      <th>mean</th>\n",
       "      <td>6.755887</td>\n",
       "      <td>1253.940619</td>\n",
       "    </tr>\n",
       "    <tr>\n",
       "      <th>std</th>\n",
       "      <td>5.843365</td>\n",
       "      <td>144.722751</td>\n",
       "    </tr>\n",
       "    <tr>\n",
       "      <th>min</th>\n",
       "      <td>0.000000</td>\n",
       "      <td>1000.000000</td>\n",
       "    </tr>\n",
       "    <tr>\n",
       "      <th>25%</th>\n",
       "      <td>1.300000</td>\n",
       "      <td>1126.000000</td>\n",
       "    </tr>\n",
       "    <tr>\n",
       "      <th>50%</th>\n",
       "      <td>6.000000</td>\n",
       "      <td>1260.000000</td>\n",
       "    </tr>\n",
       "    <tr>\n",
       "      <th>75%</th>\n",
       "      <td>10.700000</td>\n",
       "      <td>1379.000000</td>\n",
       "    </tr>\n",
       "    <tr>\n",
       "      <th>max</th>\n",
       "      <td>38.000000</td>\n",
       "      <td>1499.000000</td>\n",
       "    </tr>\n",
       "  </tbody>\n",
       "</table>\n",
       "</div>"
      ],
      "text/plain": [
       "            duration        user_id\n",
       "count  202607.000000  202607.000000\n",
       "mean        6.755887    1253.940619\n",
       "std         5.843365     144.722751\n",
       "min         0.000000    1000.000000\n",
       "25%         1.300000    1126.000000\n",
       "50%         6.000000    1260.000000\n",
       "75%        10.700000    1379.000000\n",
       "max        38.000000    1499.000000"
      ]
     },
     "metadata": {},
     "output_type": "display_data"
    }
   ],
   "source": [
    "calls = pd.read_csv('/datasets/calls.csv')\n",
    "calls.info()\n",
    "display(calls.head(10))\n",
    "display(calls.describe())"
   ]
  },
  {
   "cell_type": "code",
   "execution_count": 129,
   "metadata": {},
   "outputs": [
    {
     "name": "stdout",
     "output_type": "stream",
     "text": [
      "<class 'pandas.core.frame.DataFrame'>\n",
      "RangeIndex: 149396 entries, 0 to 149395\n",
      "Data columns (total 5 columns):\n",
      " #   Column        Non-Null Count   Dtype  \n",
      "---  ------        --------------   -----  \n",
      " 0   Unnamed: 0    149396 non-null  int64  \n",
      " 1   id            149396 non-null  object \n",
      " 2   mb_used       149396 non-null  float64\n",
      " 3   session_date  149396 non-null  object \n",
      " 4   user_id       149396 non-null  int64  \n",
      "dtypes: float64(1), int64(2), object(2)\n",
      "memory usage: 5.7+ MB\n"
     ]
    },
    {
     "data": {
      "text/html": [
       "<div>\n",
       "<style scoped>\n",
       "    .dataframe tbody tr th:only-of-type {\n",
       "        vertical-align: middle;\n",
       "    }\n",
       "\n",
       "    .dataframe tbody tr th {\n",
       "        vertical-align: top;\n",
       "    }\n",
       "\n",
       "    .dataframe thead th {\n",
       "        text-align: right;\n",
       "    }\n",
       "</style>\n",
       "<table border=\"1\" class=\"dataframe\">\n",
       "  <thead>\n",
       "    <tr style=\"text-align: right;\">\n",
       "      <th></th>\n",
       "      <th>Unnamed: 0</th>\n",
       "      <th>id</th>\n",
       "      <th>mb_used</th>\n",
       "      <th>session_date</th>\n",
       "      <th>user_id</th>\n",
       "    </tr>\n",
       "  </thead>\n",
       "  <tbody>\n",
       "    <tr>\n",
       "      <th>0</th>\n",
       "      <td>0</td>\n",
       "      <td>1000_0</td>\n",
       "      <td>112.95</td>\n",
       "      <td>2018-11-25</td>\n",
       "      <td>1000</td>\n",
       "    </tr>\n",
       "    <tr>\n",
       "      <th>1</th>\n",
       "      <td>1</td>\n",
       "      <td>1000_1</td>\n",
       "      <td>1052.81</td>\n",
       "      <td>2018-09-07</td>\n",
       "      <td>1000</td>\n",
       "    </tr>\n",
       "    <tr>\n",
       "      <th>2</th>\n",
       "      <td>2</td>\n",
       "      <td>1000_2</td>\n",
       "      <td>1197.26</td>\n",
       "      <td>2018-06-25</td>\n",
       "      <td>1000</td>\n",
       "    </tr>\n",
       "    <tr>\n",
       "      <th>3</th>\n",
       "      <td>3</td>\n",
       "      <td>1000_3</td>\n",
       "      <td>550.27</td>\n",
       "      <td>2018-08-22</td>\n",
       "      <td>1000</td>\n",
       "    </tr>\n",
       "    <tr>\n",
       "      <th>4</th>\n",
       "      <td>4</td>\n",
       "      <td>1000_4</td>\n",
       "      <td>302.56</td>\n",
       "      <td>2018-09-24</td>\n",
       "      <td>1000</td>\n",
       "    </tr>\n",
       "    <tr>\n",
       "      <th>5</th>\n",
       "      <td>5</td>\n",
       "      <td>1000_5</td>\n",
       "      <td>399.97</td>\n",
       "      <td>2018-10-02</td>\n",
       "      <td>1000</td>\n",
       "    </tr>\n",
       "    <tr>\n",
       "      <th>6</th>\n",
       "      <td>6</td>\n",
       "      <td>1000_6</td>\n",
       "      <td>540.08</td>\n",
       "      <td>2018-09-07</td>\n",
       "      <td>1000</td>\n",
       "    </tr>\n",
       "    <tr>\n",
       "      <th>7</th>\n",
       "      <td>7</td>\n",
       "      <td>1000_7</td>\n",
       "      <td>415.70</td>\n",
       "      <td>2018-07-11</td>\n",
       "      <td>1000</td>\n",
       "    </tr>\n",
       "    <tr>\n",
       "      <th>8</th>\n",
       "      <td>8</td>\n",
       "      <td>1000_8</td>\n",
       "      <td>505.40</td>\n",
       "      <td>2018-10-08</td>\n",
       "      <td>1000</td>\n",
       "    </tr>\n",
       "    <tr>\n",
       "      <th>9</th>\n",
       "      <td>9</td>\n",
       "      <td>1000_9</td>\n",
       "      <td>345.54</td>\n",
       "      <td>2018-09-03</td>\n",
       "      <td>1000</td>\n",
       "    </tr>\n",
       "  </tbody>\n",
       "</table>\n",
       "</div>"
      ],
      "text/plain": [
       "   Unnamed: 0      id  mb_used session_date  user_id\n",
       "0           0  1000_0   112.95   2018-11-25     1000\n",
       "1           1  1000_1  1052.81   2018-09-07     1000\n",
       "2           2  1000_2  1197.26   2018-06-25     1000\n",
       "3           3  1000_3   550.27   2018-08-22     1000\n",
       "4           4  1000_4   302.56   2018-09-24     1000\n",
       "5           5  1000_5   399.97   2018-10-02     1000\n",
       "6           6  1000_6   540.08   2018-09-07     1000\n",
       "7           7  1000_7   415.70   2018-07-11     1000\n",
       "8           8  1000_8   505.40   2018-10-08     1000\n",
       "9           9  1000_9   345.54   2018-09-03     1000"
      ]
     },
     "metadata": {},
     "output_type": "display_data"
    },
    {
     "data": {
      "text/html": [
       "<div>\n",
       "<style scoped>\n",
       "    .dataframe tbody tr th:only-of-type {\n",
       "        vertical-align: middle;\n",
       "    }\n",
       "\n",
       "    .dataframe tbody tr th {\n",
       "        vertical-align: top;\n",
       "    }\n",
       "\n",
       "    .dataframe thead th {\n",
       "        text-align: right;\n",
       "    }\n",
       "</style>\n",
       "<table border=\"1\" class=\"dataframe\">\n",
       "  <thead>\n",
       "    <tr style=\"text-align: right;\">\n",
       "      <th></th>\n",
       "      <th>Unnamed: 0</th>\n",
       "      <th>mb_used</th>\n",
       "      <th>user_id</th>\n",
       "    </tr>\n",
       "  </thead>\n",
       "  <tbody>\n",
       "    <tr>\n",
       "      <th>count</th>\n",
       "      <td>149396.000000</td>\n",
       "      <td>149396.000000</td>\n",
       "      <td>149396.000000</td>\n",
       "    </tr>\n",
       "    <tr>\n",
       "      <th>mean</th>\n",
       "      <td>74697.500000</td>\n",
       "      <td>370.192426</td>\n",
       "      <td>1252.099842</td>\n",
       "    </tr>\n",
       "    <tr>\n",
       "      <th>std</th>\n",
       "      <td>43127.054745</td>\n",
       "      <td>278.300951</td>\n",
       "      <td>144.050823</td>\n",
       "    </tr>\n",
       "    <tr>\n",
       "      <th>min</th>\n",
       "      <td>0.000000</td>\n",
       "      <td>0.000000</td>\n",
       "      <td>1000.000000</td>\n",
       "    </tr>\n",
       "    <tr>\n",
       "      <th>25%</th>\n",
       "      <td>37348.750000</td>\n",
       "      <td>138.187500</td>\n",
       "      <td>1130.000000</td>\n",
       "    </tr>\n",
       "    <tr>\n",
       "      <th>50%</th>\n",
       "      <td>74697.500000</td>\n",
       "      <td>348.015000</td>\n",
       "      <td>1251.000000</td>\n",
       "    </tr>\n",
       "    <tr>\n",
       "      <th>75%</th>\n",
       "      <td>112046.250000</td>\n",
       "      <td>559.552500</td>\n",
       "      <td>1380.000000</td>\n",
       "    </tr>\n",
       "    <tr>\n",
       "      <th>max</th>\n",
       "      <td>149395.000000</td>\n",
       "      <td>1724.830000</td>\n",
       "      <td>1499.000000</td>\n",
       "    </tr>\n",
       "  </tbody>\n",
       "</table>\n",
       "</div>"
      ],
      "text/plain": [
       "          Unnamed: 0        mb_used        user_id\n",
       "count  149396.000000  149396.000000  149396.000000\n",
       "mean    74697.500000     370.192426    1252.099842\n",
       "std     43127.054745     278.300951     144.050823\n",
       "min         0.000000       0.000000    1000.000000\n",
       "25%     37348.750000     138.187500    1130.000000\n",
       "50%     74697.500000     348.015000    1251.000000\n",
       "75%    112046.250000     559.552500    1380.000000\n",
       "max    149395.000000    1724.830000    1499.000000"
      ]
     },
     "metadata": {},
     "output_type": "display_data"
    }
   ],
   "source": [
    "internet = pd.read_csv('/datasets/internet.csv')\n",
    "internet.info()\n",
    "display(internet.head(10))\n",
    "display(internet.describe())"
   ]
  },
  {
   "cell_type": "code",
   "execution_count": 130,
   "metadata": {},
   "outputs": [
    {
     "name": "stdout",
     "output_type": "stream",
     "text": [
      "<class 'pandas.core.frame.DataFrame'>\n",
      "RangeIndex: 123036 entries, 0 to 123035\n",
      "Data columns (total 3 columns):\n",
      " #   Column        Non-Null Count   Dtype \n",
      "---  ------        --------------   ----- \n",
      " 0   id            123036 non-null  object\n",
      " 1   message_date  123036 non-null  object\n",
      " 2   user_id       123036 non-null  int64 \n",
      "dtypes: int64(1), object(2)\n",
      "memory usage: 2.8+ MB\n"
     ]
    },
    {
     "data": {
      "text/html": [
       "<div>\n",
       "<style scoped>\n",
       "    .dataframe tbody tr th:only-of-type {\n",
       "        vertical-align: middle;\n",
       "    }\n",
       "\n",
       "    .dataframe tbody tr th {\n",
       "        vertical-align: top;\n",
       "    }\n",
       "\n",
       "    .dataframe thead th {\n",
       "        text-align: right;\n",
       "    }\n",
       "</style>\n",
       "<table border=\"1\" class=\"dataframe\">\n",
       "  <thead>\n",
       "    <tr style=\"text-align: right;\">\n",
       "      <th></th>\n",
       "      <th>id</th>\n",
       "      <th>message_date</th>\n",
       "      <th>user_id</th>\n",
       "    </tr>\n",
       "  </thead>\n",
       "  <tbody>\n",
       "    <tr>\n",
       "      <th>0</th>\n",
       "      <td>1000_0</td>\n",
       "      <td>2018-06-27</td>\n",
       "      <td>1000</td>\n",
       "    </tr>\n",
       "    <tr>\n",
       "      <th>1</th>\n",
       "      <td>1000_1</td>\n",
       "      <td>2018-10-08</td>\n",
       "      <td>1000</td>\n",
       "    </tr>\n",
       "    <tr>\n",
       "      <th>2</th>\n",
       "      <td>1000_2</td>\n",
       "      <td>2018-08-04</td>\n",
       "      <td>1000</td>\n",
       "    </tr>\n",
       "    <tr>\n",
       "      <th>3</th>\n",
       "      <td>1000_3</td>\n",
       "      <td>2018-06-16</td>\n",
       "      <td>1000</td>\n",
       "    </tr>\n",
       "    <tr>\n",
       "      <th>4</th>\n",
       "      <td>1000_4</td>\n",
       "      <td>2018-12-05</td>\n",
       "      <td>1000</td>\n",
       "    </tr>\n",
       "    <tr>\n",
       "      <th>5</th>\n",
       "      <td>1000_5</td>\n",
       "      <td>2018-06-20</td>\n",
       "      <td>1000</td>\n",
       "    </tr>\n",
       "    <tr>\n",
       "      <th>6</th>\n",
       "      <td>1000_6</td>\n",
       "      <td>2018-11-19</td>\n",
       "      <td>1000</td>\n",
       "    </tr>\n",
       "    <tr>\n",
       "      <th>7</th>\n",
       "      <td>1000_7</td>\n",
       "      <td>2018-10-29</td>\n",
       "      <td>1000</td>\n",
       "    </tr>\n",
       "    <tr>\n",
       "      <th>8</th>\n",
       "      <td>1000_8</td>\n",
       "      <td>2018-06-25</td>\n",
       "      <td>1000</td>\n",
       "    </tr>\n",
       "    <tr>\n",
       "      <th>9</th>\n",
       "      <td>1000_9</td>\n",
       "      <td>2018-12-18</td>\n",
       "      <td>1000</td>\n",
       "    </tr>\n",
       "  </tbody>\n",
       "</table>\n",
       "</div>"
      ],
      "text/plain": [
       "       id message_date  user_id\n",
       "0  1000_0   2018-06-27     1000\n",
       "1  1000_1   2018-10-08     1000\n",
       "2  1000_2   2018-08-04     1000\n",
       "3  1000_3   2018-06-16     1000\n",
       "4  1000_4   2018-12-05     1000\n",
       "5  1000_5   2018-06-20     1000\n",
       "6  1000_6   2018-11-19     1000\n",
       "7  1000_7   2018-10-29     1000\n",
       "8  1000_8   2018-06-25     1000\n",
       "9  1000_9   2018-12-18     1000"
      ]
     },
     "metadata": {},
     "output_type": "display_data"
    },
    {
     "data": {
      "text/html": [
       "<div>\n",
       "<style scoped>\n",
       "    .dataframe tbody tr th:only-of-type {\n",
       "        vertical-align: middle;\n",
       "    }\n",
       "\n",
       "    .dataframe tbody tr th {\n",
       "        vertical-align: top;\n",
       "    }\n",
       "\n",
       "    .dataframe thead th {\n",
       "        text-align: right;\n",
       "    }\n",
       "</style>\n",
       "<table border=\"1\" class=\"dataframe\">\n",
       "  <thead>\n",
       "    <tr style=\"text-align: right;\">\n",
       "      <th></th>\n",
       "      <th>user_id</th>\n",
       "    </tr>\n",
       "  </thead>\n",
       "  <tbody>\n",
       "    <tr>\n",
       "      <th>count</th>\n",
       "      <td>123036.000000</td>\n",
       "    </tr>\n",
       "    <tr>\n",
       "      <th>mean</th>\n",
       "      <td>1256.989410</td>\n",
       "    </tr>\n",
       "    <tr>\n",
       "      <th>std</th>\n",
       "      <td>143.523967</td>\n",
       "    </tr>\n",
       "    <tr>\n",
       "      <th>min</th>\n",
       "      <td>1000.000000</td>\n",
       "    </tr>\n",
       "    <tr>\n",
       "      <th>25%</th>\n",
       "      <td>1134.000000</td>\n",
       "    </tr>\n",
       "    <tr>\n",
       "      <th>50%</th>\n",
       "      <td>1271.000000</td>\n",
       "    </tr>\n",
       "    <tr>\n",
       "      <th>75%</th>\n",
       "      <td>1381.000000</td>\n",
       "    </tr>\n",
       "    <tr>\n",
       "      <th>max</th>\n",
       "      <td>1499.000000</td>\n",
       "    </tr>\n",
       "  </tbody>\n",
       "</table>\n",
       "</div>"
      ],
      "text/plain": [
       "             user_id\n",
       "count  123036.000000\n",
       "mean     1256.989410\n",
       "std       143.523967\n",
       "min      1000.000000\n",
       "25%      1134.000000\n",
       "50%      1271.000000\n",
       "75%      1381.000000\n",
       "max      1499.000000"
      ]
     },
     "metadata": {},
     "output_type": "display_data"
    }
   ],
   "source": [
    "messages = pd.read_csv('/datasets/messages.csv')\n",
    "messages.info()\n",
    "display(messages.head(10))\n",
    "display(messages.describe())"
   ]
  },
  {
   "cell_type": "code",
   "execution_count": 131,
   "metadata": {},
   "outputs": [
    {
     "name": "stdout",
     "output_type": "stream",
     "text": [
      "<class 'pandas.core.frame.DataFrame'>\n",
      "RangeIndex: 2 entries, 0 to 1\n",
      "Data columns (total 8 columns):\n",
      " #   Column                 Non-Null Count  Dtype \n",
      "---  ------                 --------------  ----- \n",
      " 0   messages_included      2 non-null      int64 \n",
      " 1   mb_per_month_included  2 non-null      int64 \n",
      " 2   minutes_included       2 non-null      int64 \n",
      " 3   rub_monthly_fee        2 non-null      int64 \n",
      " 4   rub_per_gb             2 non-null      int64 \n",
      " 5   rub_per_message        2 non-null      int64 \n",
      " 6   rub_per_minute         2 non-null      int64 \n",
      " 7   tariff_name            2 non-null      object\n",
      "dtypes: int64(7), object(1)\n",
      "memory usage: 256.0+ bytes\n"
     ]
    },
    {
     "data": {
      "text/html": [
       "<div>\n",
       "<style scoped>\n",
       "    .dataframe tbody tr th:only-of-type {\n",
       "        vertical-align: middle;\n",
       "    }\n",
       "\n",
       "    .dataframe tbody tr th {\n",
       "        vertical-align: top;\n",
       "    }\n",
       "\n",
       "    .dataframe thead th {\n",
       "        text-align: right;\n",
       "    }\n",
       "</style>\n",
       "<table border=\"1\" class=\"dataframe\">\n",
       "  <thead>\n",
       "    <tr style=\"text-align: right;\">\n",
       "      <th></th>\n",
       "      <th>messages_included</th>\n",
       "      <th>mb_per_month_included</th>\n",
       "      <th>minutes_included</th>\n",
       "      <th>rub_monthly_fee</th>\n",
       "      <th>rub_per_gb</th>\n",
       "      <th>rub_per_message</th>\n",
       "      <th>rub_per_minute</th>\n",
       "      <th>tariff_name</th>\n",
       "    </tr>\n",
       "  </thead>\n",
       "  <tbody>\n",
       "    <tr>\n",
       "      <th>0</th>\n",
       "      <td>50</td>\n",
       "      <td>15360</td>\n",
       "      <td>500</td>\n",
       "      <td>550</td>\n",
       "      <td>200</td>\n",
       "      <td>3</td>\n",
       "      <td>3</td>\n",
       "      <td>smart</td>\n",
       "    </tr>\n",
       "    <tr>\n",
       "      <th>1</th>\n",
       "      <td>1000</td>\n",
       "      <td>30720</td>\n",
       "      <td>3000</td>\n",
       "      <td>1950</td>\n",
       "      <td>150</td>\n",
       "      <td>1</td>\n",
       "      <td>1</td>\n",
       "      <td>ultra</td>\n",
       "    </tr>\n",
       "  </tbody>\n",
       "</table>\n",
       "</div>"
      ],
      "text/plain": [
       "   messages_included  mb_per_month_included  minutes_included  \\\n",
       "0                 50                  15360               500   \n",
       "1               1000                  30720              3000   \n",
       "\n",
       "   rub_monthly_fee  rub_per_gb  rub_per_message  rub_per_minute tariff_name  \n",
       "0              550         200                3               3       smart  \n",
       "1             1950         150                1               1       ultra  "
      ]
     },
     "metadata": {},
     "output_type": "display_data"
    },
    {
     "data": {
      "text/html": [
       "<div>\n",
       "<style scoped>\n",
       "    .dataframe tbody tr th:only-of-type {\n",
       "        vertical-align: middle;\n",
       "    }\n",
       "\n",
       "    .dataframe tbody tr th {\n",
       "        vertical-align: top;\n",
       "    }\n",
       "\n",
       "    .dataframe thead th {\n",
       "        text-align: right;\n",
       "    }\n",
       "</style>\n",
       "<table border=\"1\" class=\"dataframe\">\n",
       "  <thead>\n",
       "    <tr style=\"text-align: right;\">\n",
       "      <th></th>\n",
       "      <th>messages_included</th>\n",
       "      <th>mb_per_month_included</th>\n",
       "      <th>minutes_included</th>\n",
       "      <th>rub_monthly_fee</th>\n",
       "      <th>rub_per_gb</th>\n",
       "      <th>rub_per_message</th>\n",
       "      <th>rub_per_minute</th>\n",
       "    </tr>\n",
       "  </thead>\n",
       "  <tbody>\n",
       "    <tr>\n",
       "      <th>count</th>\n",
       "      <td>2.000000</td>\n",
       "      <td>2.000000</td>\n",
       "      <td>2.000000</td>\n",
       "      <td>2.000000</td>\n",
       "      <td>2.000000</td>\n",
       "      <td>2.000000</td>\n",
       "      <td>2.000000</td>\n",
       "    </tr>\n",
       "    <tr>\n",
       "      <th>mean</th>\n",
       "      <td>525.000000</td>\n",
       "      <td>23040.000000</td>\n",
       "      <td>1750.000000</td>\n",
       "      <td>1250.000000</td>\n",
       "      <td>175.000000</td>\n",
       "      <td>2.000000</td>\n",
       "      <td>2.000000</td>\n",
       "    </tr>\n",
       "    <tr>\n",
       "      <th>std</th>\n",
       "      <td>671.751442</td>\n",
       "      <td>10861.160159</td>\n",
       "      <td>1767.766953</td>\n",
       "      <td>989.949494</td>\n",
       "      <td>35.355339</td>\n",
       "      <td>1.414214</td>\n",
       "      <td>1.414214</td>\n",
       "    </tr>\n",
       "    <tr>\n",
       "      <th>min</th>\n",
       "      <td>50.000000</td>\n",
       "      <td>15360.000000</td>\n",
       "      <td>500.000000</td>\n",
       "      <td>550.000000</td>\n",
       "      <td>150.000000</td>\n",
       "      <td>1.000000</td>\n",
       "      <td>1.000000</td>\n",
       "    </tr>\n",
       "    <tr>\n",
       "      <th>25%</th>\n",
       "      <td>287.500000</td>\n",
       "      <td>19200.000000</td>\n",
       "      <td>1125.000000</td>\n",
       "      <td>900.000000</td>\n",
       "      <td>162.500000</td>\n",
       "      <td>1.500000</td>\n",
       "      <td>1.500000</td>\n",
       "    </tr>\n",
       "    <tr>\n",
       "      <th>50%</th>\n",
       "      <td>525.000000</td>\n",
       "      <td>23040.000000</td>\n",
       "      <td>1750.000000</td>\n",
       "      <td>1250.000000</td>\n",
       "      <td>175.000000</td>\n",
       "      <td>2.000000</td>\n",
       "      <td>2.000000</td>\n",
       "    </tr>\n",
       "    <tr>\n",
       "      <th>75%</th>\n",
       "      <td>762.500000</td>\n",
       "      <td>26880.000000</td>\n",
       "      <td>2375.000000</td>\n",
       "      <td>1600.000000</td>\n",
       "      <td>187.500000</td>\n",
       "      <td>2.500000</td>\n",
       "      <td>2.500000</td>\n",
       "    </tr>\n",
       "    <tr>\n",
       "      <th>max</th>\n",
       "      <td>1000.000000</td>\n",
       "      <td>30720.000000</td>\n",
       "      <td>3000.000000</td>\n",
       "      <td>1950.000000</td>\n",
       "      <td>200.000000</td>\n",
       "      <td>3.000000</td>\n",
       "      <td>3.000000</td>\n",
       "    </tr>\n",
       "  </tbody>\n",
       "</table>\n",
       "</div>"
      ],
      "text/plain": [
       "       messages_included  mb_per_month_included  minutes_included  \\\n",
       "count           2.000000               2.000000          2.000000   \n",
       "mean          525.000000           23040.000000       1750.000000   \n",
       "std           671.751442           10861.160159       1767.766953   \n",
       "min            50.000000           15360.000000        500.000000   \n",
       "25%           287.500000           19200.000000       1125.000000   \n",
       "50%           525.000000           23040.000000       1750.000000   \n",
       "75%           762.500000           26880.000000       2375.000000   \n",
       "max          1000.000000           30720.000000       3000.000000   \n",
       "\n",
       "       rub_monthly_fee  rub_per_gb  rub_per_message  rub_per_minute  \n",
       "count         2.000000    2.000000         2.000000        2.000000  \n",
       "mean       1250.000000  175.000000         2.000000        2.000000  \n",
       "std         989.949494   35.355339         1.414214        1.414214  \n",
       "min         550.000000  150.000000         1.000000        1.000000  \n",
       "25%         900.000000  162.500000         1.500000        1.500000  \n",
       "50%        1250.000000  175.000000         2.000000        2.000000  \n",
       "75%        1600.000000  187.500000         2.500000        2.500000  \n",
       "max        1950.000000  200.000000         3.000000        3.000000  "
      ]
     },
     "metadata": {},
     "output_type": "display_data"
    }
   ],
   "source": [
    "tariffs = pd.read_csv('/datasets/tariffs.csv')\n",
    "tariffs.info()\n",
    "display(tariffs.head(10))\n",
    "display(tariffs.describe())"
   ]
  },
  {
   "cell_type": "code",
   "execution_count": 132,
   "metadata": {},
   "outputs": [
    {
     "name": "stdout",
     "output_type": "stream",
     "text": [
      "<class 'pandas.core.frame.DataFrame'>\n",
      "RangeIndex: 500 entries, 0 to 499\n",
      "Data columns (total 8 columns):\n",
      " #   Column      Non-Null Count  Dtype \n",
      "---  ------      --------------  ----- \n",
      " 0   user_id     500 non-null    int64 \n",
      " 1   age         500 non-null    int64 \n",
      " 2   churn_date  38 non-null     object\n",
      " 3   city        500 non-null    object\n",
      " 4   first_name  500 non-null    object\n",
      " 5   last_name   500 non-null    object\n",
      " 6   reg_date    500 non-null    object\n",
      " 7   tariff      500 non-null    object\n",
      "dtypes: int64(2), object(6)\n",
      "memory usage: 31.4+ KB\n"
     ]
    },
    {
     "data": {
      "text/html": [
       "<div>\n",
       "<style scoped>\n",
       "    .dataframe tbody tr th:only-of-type {\n",
       "        vertical-align: middle;\n",
       "    }\n",
       "\n",
       "    .dataframe tbody tr th {\n",
       "        vertical-align: top;\n",
       "    }\n",
       "\n",
       "    .dataframe thead th {\n",
       "        text-align: right;\n",
       "    }\n",
       "</style>\n",
       "<table border=\"1\" class=\"dataframe\">\n",
       "  <thead>\n",
       "    <tr style=\"text-align: right;\">\n",
       "      <th></th>\n",
       "      <th>user_id</th>\n",
       "      <th>age</th>\n",
       "      <th>churn_date</th>\n",
       "      <th>city</th>\n",
       "      <th>first_name</th>\n",
       "      <th>last_name</th>\n",
       "      <th>reg_date</th>\n",
       "      <th>tariff</th>\n",
       "    </tr>\n",
       "  </thead>\n",
       "  <tbody>\n",
       "    <tr>\n",
       "      <th>0</th>\n",
       "      <td>1000</td>\n",
       "      <td>52</td>\n",
       "      <td>NaN</td>\n",
       "      <td>Краснодар</td>\n",
       "      <td>Рафаил</td>\n",
       "      <td>Верещагин</td>\n",
       "      <td>2018-05-25</td>\n",
       "      <td>ultra</td>\n",
       "    </tr>\n",
       "    <tr>\n",
       "      <th>1</th>\n",
       "      <td>1001</td>\n",
       "      <td>41</td>\n",
       "      <td>NaN</td>\n",
       "      <td>Москва</td>\n",
       "      <td>Иван</td>\n",
       "      <td>Ежов</td>\n",
       "      <td>2018-11-01</td>\n",
       "      <td>smart</td>\n",
       "    </tr>\n",
       "    <tr>\n",
       "      <th>2</th>\n",
       "      <td>1002</td>\n",
       "      <td>59</td>\n",
       "      <td>NaN</td>\n",
       "      <td>Стерлитамак</td>\n",
       "      <td>Евгений</td>\n",
       "      <td>Абрамович</td>\n",
       "      <td>2018-06-17</td>\n",
       "      <td>smart</td>\n",
       "    </tr>\n",
       "    <tr>\n",
       "      <th>3</th>\n",
       "      <td>1003</td>\n",
       "      <td>23</td>\n",
       "      <td>NaN</td>\n",
       "      <td>Москва</td>\n",
       "      <td>Белла</td>\n",
       "      <td>Белякова</td>\n",
       "      <td>2018-08-17</td>\n",
       "      <td>ultra</td>\n",
       "    </tr>\n",
       "    <tr>\n",
       "      <th>4</th>\n",
       "      <td>1004</td>\n",
       "      <td>68</td>\n",
       "      <td>NaN</td>\n",
       "      <td>Новокузнецк</td>\n",
       "      <td>Татьяна</td>\n",
       "      <td>Авдеенко</td>\n",
       "      <td>2018-05-14</td>\n",
       "      <td>ultra</td>\n",
       "    </tr>\n",
       "    <tr>\n",
       "      <th>5</th>\n",
       "      <td>1005</td>\n",
       "      <td>67</td>\n",
       "      <td>NaN</td>\n",
       "      <td>Набережные Челны</td>\n",
       "      <td>Афанасий</td>\n",
       "      <td>Горлов</td>\n",
       "      <td>2018-01-25</td>\n",
       "      <td>smart</td>\n",
       "    </tr>\n",
       "    <tr>\n",
       "      <th>6</th>\n",
       "      <td>1006</td>\n",
       "      <td>21</td>\n",
       "      <td>NaN</td>\n",
       "      <td>Ульяновск</td>\n",
       "      <td>Леонид</td>\n",
       "      <td>Ермолаев</td>\n",
       "      <td>2018-02-26</td>\n",
       "      <td>smart</td>\n",
       "    </tr>\n",
       "    <tr>\n",
       "      <th>7</th>\n",
       "      <td>1007</td>\n",
       "      <td>65</td>\n",
       "      <td>NaN</td>\n",
       "      <td>Москва</td>\n",
       "      <td>Юна</td>\n",
       "      <td>Березина</td>\n",
       "      <td>2018-04-19</td>\n",
       "      <td>smart</td>\n",
       "    </tr>\n",
       "    <tr>\n",
       "      <th>8</th>\n",
       "      <td>1008</td>\n",
       "      <td>63</td>\n",
       "      <td>NaN</td>\n",
       "      <td>Челябинск</td>\n",
       "      <td>Рустэм</td>\n",
       "      <td>Пономарёв</td>\n",
       "      <td>2018-12-19</td>\n",
       "      <td>smart</td>\n",
       "    </tr>\n",
       "    <tr>\n",
       "      <th>9</th>\n",
       "      <td>1009</td>\n",
       "      <td>24</td>\n",
       "      <td>NaN</td>\n",
       "      <td>Пермь</td>\n",
       "      <td>Василиса</td>\n",
       "      <td>Блинова</td>\n",
       "      <td>2018-03-22</td>\n",
       "      <td>smart</td>\n",
       "    </tr>\n",
       "  </tbody>\n",
       "</table>\n",
       "</div>"
      ],
      "text/plain": [
       "   user_id  age churn_date              city first_name  last_name  \\\n",
       "0     1000   52        NaN         Краснодар     Рафаил  Верещагин   \n",
       "1     1001   41        NaN            Москва       Иван       Ежов   \n",
       "2     1002   59        NaN       Стерлитамак    Евгений  Абрамович   \n",
       "3     1003   23        NaN            Москва      Белла   Белякова   \n",
       "4     1004   68        NaN       Новокузнецк    Татьяна   Авдеенко   \n",
       "5     1005   67        NaN  Набережные Челны   Афанасий     Горлов   \n",
       "6     1006   21        NaN         Ульяновск     Леонид   Ермолаев   \n",
       "7     1007   65        NaN            Москва        Юна   Березина   \n",
       "8     1008   63        NaN         Челябинск     Рустэм  Пономарёв   \n",
       "9     1009   24        NaN             Пермь   Василиса    Блинова   \n",
       "\n",
       "     reg_date tariff  \n",
       "0  2018-05-25  ultra  \n",
       "1  2018-11-01  smart  \n",
       "2  2018-06-17  smart  \n",
       "3  2018-08-17  ultra  \n",
       "4  2018-05-14  ultra  \n",
       "5  2018-01-25  smart  \n",
       "6  2018-02-26  smart  \n",
       "7  2018-04-19  smart  \n",
       "8  2018-12-19  smart  \n",
       "9  2018-03-22  smart  "
      ]
     },
     "metadata": {},
     "output_type": "display_data"
    },
    {
     "data": {
      "text/html": [
       "<div>\n",
       "<style scoped>\n",
       "    .dataframe tbody tr th:only-of-type {\n",
       "        vertical-align: middle;\n",
       "    }\n",
       "\n",
       "    .dataframe tbody tr th {\n",
       "        vertical-align: top;\n",
       "    }\n",
       "\n",
       "    .dataframe thead th {\n",
       "        text-align: right;\n",
       "    }\n",
       "</style>\n",
       "<table border=\"1\" class=\"dataframe\">\n",
       "  <thead>\n",
       "    <tr style=\"text-align: right;\">\n",
       "      <th></th>\n",
       "      <th>user_id</th>\n",
       "      <th>age</th>\n",
       "    </tr>\n",
       "  </thead>\n",
       "  <tbody>\n",
       "    <tr>\n",
       "      <th>count</th>\n",
       "      <td>500.000000</td>\n",
       "      <td>500.00000</td>\n",
       "    </tr>\n",
       "    <tr>\n",
       "      <th>mean</th>\n",
       "      <td>1249.500000</td>\n",
       "      <td>46.58800</td>\n",
       "    </tr>\n",
       "    <tr>\n",
       "      <th>std</th>\n",
       "      <td>144.481833</td>\n",
       "      <td>16.66763</td>\n",
       "    </tr>\n",
       "    <tr>\n",
       "      <th>min</th>\n",
       "      <td>1000.000000</td>\n",
       "      <td>18.00000</td>\n",
       "    </tr>\n",
       "    <tr>\n",
       "      <th>25%</th>\n",
       "      <td>1124.750000</td>\n",
       "      <td>32.00000</td>\n",
       "    </tr>\n",
       "    <tr>\n",
       "      <th>50%</th>\n",
       "      <td>1249.500000</td>\n",
       "      <td>46.00000</td>\n",
       "    </tr>\n",
       "    <tr>\n",
       "      <th>75%</th>\n",
       "      <td>1374.250000</td>\n",
       "      <td>62.00000</td>\n",
       "    </tr>\n",
       "    <tr>\n",
       "      <th>max</th>\n",
       "      <td>1499.000000</td>\n",
       "      <td>75.00000</td>\n",
       "    </tr>\n",
       "  </tbody>\n",
       "</table>\n",
       "</div>"
      ],
      "text/plain": [
       "           user_id        age\n",
       "count   500.000000  500.00000\n",
       "mean   1249.500000   46.58800\n",
       "std     144.481833   16.66763\n",
       "min    1000.000000   18.00000\n",
       "25%    1124.750000   32.00000\n",
       "50%    1249.500000   46.00000\n",
       "75%    1374.250000   62.00000\n",
       "max    1499.000000   75.00000"
      ]
     },
     "metadata": {},
     "output_type": "display_data"
    }
   ],
   "source": [
    "users = pd.read_csv('/datasets/users.csv')\n",
    "users.info()\n",
    "display(users.head(10))\n",
    "display(users.describe())"
   ]
  },
  {
   "cell_type": "markdown",
   "metadata": {},
   "source": [
    "Общий вывод:\n",
    "В нашем распоряжении 5 датафреймов.\n",
    "1. В таблице calls столбец даты нужно привести к корректному формату. Данные о длительности звонка нужно привести к целочисленному типу, т.к. стоимость минут считается по округлению вверх, иными словами стоимость списывается в момент ее начала\n",
    "2. В таблице internet данные о израсходованных Мб так же следует привести к целочисленному типу с коруглением вверх по тому же принципу что и в случаи минут. Столбец \"Unnamed: 0\" следует удалить, содержащиеся в нем данные не нужны. Столбец даты так же приводим к соответствующему формату.\n",
    "3. В 3 датафрейме исправляем только столбец даты.\n",
    "4. Таблица с параметрами тарифов не требует корректировки.\n",
    "5. В 5 датафрейме следует исправить только формат даты."
   ]
  },
  {
   "cell_type": "markdown",
   "metadata": {},
   "source": [
    "2. Подготовка данных"
   ]
  },
  {
   "cell_type": "markdown",
   "metadata": {},
   "source": [
    "Звонки"
   ]
  },
  {
   "cell_type": "code",
   "execution_count": 133,
   "metadata": {},
   "outputs": [
    {
     "data": {
      "text/plain": [
       "id           0\n",
       "call_date    0\n",
       "duration     0\n",
       "user_id      0\n",
       "dtype: int64"
      ]
     },
     "metadata": {},
     "output_type": "display_data"
    },
    {
     "data": {
      "text/plain": [
       "0"
      ]
     },
     "metadata": {},
     "output_type": "display_data"
    }
   ],
   "source": [
    "display(calls.isna().sum()) #Пропусков не обнаружено\n",
    "display(calls.duplicated().sum()) #Дубликатов не обнаружено\n",
    "calls['call_date'] = pd.to_datetime(calls['call_date'], format='%Y-%m-%d')\n",
    "calls['duration'] = np.ceil(calls['duration']).astype('int') #Даже одна секунда считается как минута разговора, \n",
    "                                                             #округлим в большую степень и приведем к целочисленному типу данных\n",
    "calls['month'] = calls['call_date'].dt.month"
   ]
  },
  {
   "cell_type": "code",
   "execution_count": 134,
   "metadata": {},
   "outputs": [
    {
     "data": {
      "image/png": "[encoded data removed]",
      "text/plain": [
       "<Figure size 432x288 with 1 Axes>"
      ]
     },
     "metadata": {
      "needs_background": "light"
     },
     "output_type": "display_data"
    }
   ],
   "source": [
    "calls.boxplot(['duration']) #Здесь все в норме, я и сам могу порой разговаривать по 50 минут за один звонок\n",
    "plt.show()"
   ]
  },
  {
   "cell_type": "markdown",
   "metadata": {},
   "source": [
    "Расчет количества звонков по месяцам"
   ]
  },
  {
   "cell_type": "code",
   "execution_count": 135,
   "metadata": {
    "scrolled": true
   },
   "outputs": [
    {
     "data": {
      "text/html": [
       "<div>\n",
       "<style scoped>\n",
       "    .dataframe tbody tr th:only-of-type {\n",
       "        vertical-align: middle;\n",
       "    }\n",
       "\n",
       "    .dataframe tbody tr th {\n",
       "        vertical-align: top;\n",
       "    }\n",
       "\n",
       "    .dataframe thead th {\n",
       "        text-align: right;\n",
       "    }\n",
       "</style>\n",
       "<table border=\"1\" class=\"dataframe\">\n",
       "  <thead>\n",
       "    <tr style=\"text-align: right;\">\n",
       "      <th></th>\n",
       "      <th>user_id</th>\n",
       "      <th>month</th>\n",
       "      <th>duration</th>\n",
       "    </tr>\n",
       "  </thead>\n",
       "  <tbody>\n",
       "    <tr>\n",
       "      <th>0</th>\n",
       "      <td>1000</td>\n",
       "      <td>5</td>\n",
       "      <td>159</td>\n",
       "    </tr>\n",
       "    <tr>\n",
       "      <th>1</th>\n",
       "      <td>1000</td>\n",
       "      <td>6</td>\n",
       "      <td>172</td>\n",
       "    </tr>\n",
       "    <tr>\n",
       "      <th>2</th>\n",
       "      <td>1000</td>\n",
       "      <td>7</td>\n",
       "      <td>340</td>\n",
       "    </tr>\n",
       "    <tr>\n",
       "      <th>3</th>\n",
       "      <td>1000</td>\n",
       "      <td>8</td>\n",
       "      <td>408</td>\n",
       "    </tr>\n",
       "    <tr>\n",
       "      <th>4</th>\n",
       "      <td>1000</td>\n",
       "      <td>9</td>\n",
       "      <td>466</td>\n",
       "    </tr>\n",
       "  </tbody>\n",
       "</table>\n",
       "</div>"
      ],
      "text/plain": [
       "   user_id  month  duration\n",
       "0     1000      5       159\n",
       "1     1000      6       172\n",
       "2     1000      7       340\n",
       "3     1000      8       408\n",
       "4     1000      9       466"
      ]
     },
     "metadata": {},
     "output_type": "display_data"
    },
    {
     "data": {
      "text/html": [
       "<div>\n",
       "<style scoped>\n",
       "    .dataframe tbody tr th:only-of-type {\n",
       "        vertical-align: middle;\n",
       "    }\n",
       "\n",
       "    .dataframe tbody tr th {\n",
       "        vertical-align: top;\n",
       "    }\n",
       "\n",
       "    .dataframe thead th {\n",
       "        text-align: right;\n",
       "    }\n",
       "</style>\n",
       "<table border=\"1\" class=\"dataframe\">\n",
       "  <thead>\n",
       "    <tr style=\"text-align: right;\">\n",
       "      <th></th>\n",
       "      <th>user_id</th>\n",
       "      <th>month</th>\n",
       "      <th>duration</th>\n",
       "    </tr>\n",
       "  </thead>\n",
       "  <tbody>\n",
       "    <tr>\n",
       "      <th>0</th>\n",
       "      <td>1000</td>\n",
       "      <td>5</td>\n",
       "      <td>22</td>\n",
       "    </tr>\n",
       "    <tr>\n",
       "      <th>1</th>\n",
       "      <td>1000</td>\n",
       "      <td>6</td>\n",
       "      <td>43</td>\n",
       "    </tr>\n",
       "    <tr>\n",
       "      <th>2</th>\n",
       "      <td>1000</td>\n",
       "      <td>7</td>\n",
       "      <td>47</td>\n",
       "    </tr>\n",
       "    <tr>\n",
       "      <th>3</th>\n",
       "      <td>1000</td>\n",
       "      <td>8</td>\n",
       "      <td>52</td>\n",
       "    </tr>\n",
       "    <tr>\n",
       "      <th>4</th>\n",
       "      <td>1000</td>\n",
       "      <td>9</td>\n",
       "      <td>58</td>\n",
       "    </tr>\n",
       "  </tbody>\n",
       "</table>\n",
       "</div>"
      ],
      "text/plain": [
       "   user_id  month  duration\n",
       "0     1000      5        22\n",
       "1     1000      6        43\n",
       "2     1000      7        47\n",
       "3     1000      8        52\n",
       "4     1000      9        58"
      ]
     },
     "metadata": {},
     "output_type": "display_data"
    }
   ],
   "source": [
    "#calls.head()\n",
    "df_calls_count = calls.groupby(['user_id', 'month']).agg({'duration': 'count'}).reset_index()\n",
    "df_calls = calls.groupby(['user_id', 'month']).agg({'duration': 'sum'}).reset_index()\n",
    "display(df_calls.head())\n",
    "display(df_calls_count.head())"
   ]
  },
  {
   "cell_type": "code",
   "execution_count": 136,
   "metadata": {},
   "outputs": [],
   "source": [
    "#calls_count = calls.pivot_table(index=['user_id'], columns='call_date_month', values='duration', aggfunc='count')\n",
    "#display(calls_count.head(10))"
   ]
  },
  {
   "cell_type": "markdown",
   "metadata": {},
   "source": [
    "Расчет израсходованных минут по месяцам"
   ]
  },
  {
   "cell_type": "code",
   "execution_count": 137,
   "metadata": {},
   "outputs": [],
   "source": [
    "# calls_sum = calls.pivot_table(index=['user_id'], columns='call_date_month', values='duration', aggfunc='sum')\n",
    "# calls_sum.columns = ['calls_sum_'+i for i in months_number]\n",
    "# calls_sum = calls_sum.reset_index()\n",
    "# display(calls_sum.head(10))\n",
    "# display(calls.head(5))"
   ]
  },
  {
   "cell_type": "markdown",
   "metadata": {},
   "source": [
    "Сообщения"
   ]
  },
  {
   "cell_type": "markdown",
   "metadata": {},
   "source": [
    "Расчет количества сообщений по месяцам"
   ]
  },
  {
   "cell_type": "code",
   "execution_count": 138,
   "metadata": {},
   "outputs": [
    {
     "data": {
      "text/plain": [
       "id              0\n",
       "message_date    0\n",
       "user_id         0\n",
       "dtype: int64"
      ]
     },
     "metadata": {},
     "output_type": "display_data"
    },
    {
     "data": {
      "text/plain": [
       "0"
      ]
     },
     "metadata": {},
     "output_type": "display_data"
    },
    {
     "data": {
      "text/html": [
       "<div>\n",
       "<style scoped>\n",
       "    .dataframe tbody tr th:only-of-type {\n",
       "        vertical-align: middle;\n",
       "    }\n",
       "\n",
       "    .dataframe tbody tr th {\n",
       "        vertical-align: top;\n",
       "    }\n",
       "\n",
       "    .dataframe thead th {\n",
       "        text-align: right;\n",
       "    }\n",
       "</style>\n",
       "<table border=\"1\" class=\"dataframe\">\n",
       "  <thead>\n",
       "    <tr style=\"text-align: right;\">\n",
       "      <th></th>\n",
       "      <th>id</th>\n",
       "      <th>message_date</th>\n",
       "      <th>user_id</th>\n",
       "      <th>month</th>\n",
       "    </tr>\n",
       "  </thead>\n",
       "  <tbody>\n",
       "    <tr>\n",
       "      <th>0</th>\n",
       "      <td>1000_0</td>\n",
       "      <td>2018-06-27</td>\n",
       "      <td>1000</td>\n",
       "      <td>6</td>\n",
       "    </tr>\n",
       "    <tr>\n",
       "      <th>1</th>\n",
       "      <td>1000_1</td>\n",
       "      <td>2018-10-08</td>\n",
       "      <td>1000</td>\n",
       "      <td>10</td>\n",
       "    </tr>\n",
       "    <tr>\n",
       "      <th>2</th>\n",
       "      <td>1000_2</td>\n",
       "      <td>2018-08-04</td>\n",
       "      <td>1000</td>\n",
       "      <td>8</td>\n",
       "    </tr>\n",
       "    <tr>\n",
       "      <th>3</th>\n",
       "      <td>1000_3</td>\n",
       "      <td>2018-06-16</td>\n",
       "      <td>1000</td>\n",
       "      <td>6</td>\n",
       "    </tr>\n",
       "    <tr>\n",
       "      <th>4</th>\n",
       "      <td>1000_4</td>\n",
       "      <td>2018-12-05</td>\n",
       "      <td>1000</td>\n",
       "      <td>12</td>\n",
       "    </tr>\n",
       "    <tr>\n",
       "      <th>5</th>\n",
       "      <td>1000_5</td>\n",
       "      <td>2018-06-20</td>\n",
       "      <td>1000</td>\n",
       "      <td>6</td>\n",
       "    </tr>\n",
       "    <tr>\n",
       "      <th>6</th>\n",
       "      <td>1000_6</td>\n",
       "      <td>2018-11-19</td>\n",
       "      <td>1000</td>\n",
       "      <td>11</td>\n",
       "    </tr>\n",
       "    <tr>\n",
       "      <th>7</th>\n",
       "      <td>1000_7</td>\n",
       "      <td>2018-10-29</td>\n",
       "      <td>1000</td>\n",
       "      <td>10</td>\n",
       "    </tr>\n",
       "    <tr>\n",
       "      <th>8</th>\n",
       "      <td>1000_8</td>\n",
       "      <td>2018-06-25</td>\n",
       "      <td>1000</td>\n",
       "      <td>6</td>\n",
       "    </tr>\n",
       "    <tr>\n",
       "      <th>9</th>\n",
       "      <td>1000_9</td>\n",
       "      <td>2018-12-18</td>\n",
       "      <td>1000</td>\n",
       "      <td>12</td>\n",
       "    </tr>\n",
       "  </tbody>\n",
       "</table>\n",
       "</div>"
      ],
      "text/plain": [
       "       id message_date  user_id  month\n",
       "0  1000_0   2018-06-27     1000      6\n",
       "1  1000_1   2018-10-08     1000     10\n",
       "2  1000_2   2018-08-04     1000      8\n",
       "3  1000_3   2018-06-16     1000      6\n",
       "4  1000_4   2018-12-05     1000     12\n",
       "5  1000_5   2018-06-20     1000      6\n",
       "6  1000_6   2018-11-19     1000     11\n",
       "7  1000_7   2018-10-29     1000     10\n",
       "8  1000_8   2018-06-25     1000      6\n",
       "9  1000_9   2018-12-18     1000     12"
      ]
     },
     "metadata": {},
     "output_type": "display_data"
    }
   ],
   "source": [
    "display(messages.isna().sum()) #Пропусков не обнаружено\n",
    "display(messages.duplicated().sum()) #Дубликатов не обнаружено\n",
    "messages['message_date'] = pd.to_datetime(messages['message_date'], format='%Y-%m-%d')\n",
    "messages['month'] = messages['message_date'].dt.month\n",
    "display(messages.head(10))"
   ]
  },
  {
   "cell_type": "code",
   "execution_count": 139,
   "metadata": {},
   "outputs": [
    {
     "data": {
      "text/html": [
       "<div>\n",
       "<style scoped>\n",
       "    .dataframe tbody tr th:only-of-type {\n",
       "        vertical-align: middle;\n",
       "    }\n",
       "\n",
       "    .dataframe tbody tr th {\n",
       "        vertical-align: top;\n",
       "    }\n",
       "\n",
       "    .dataframe thead th {\n",
       "        text-align: right;\n",
       "    }\n",
       "</style>\n",
       "<table border=\"1\" class=\"dataframe\">\n",
       "  <thead>\n",
       "    <tr style=\"text-align: right;\">\n",
       "      <th></th>\n",
       "      <th>user_id</th>\n",
       "      <th>month</th>\n",
       "      <th>id</th>\n",
       "    </tr>\n",
       "  </thead>\n",
       "  <tbody>\n",
       "    <tr>\n",
       "      <th>0</th>\n",
       "      <td>1000</td>\n",
       "      <td>5</td>\n",
       "      <td>22</td>\n",
       "    </tr>\n",
       "    <tr>\n",
       "      <th>1</th>\n",
       "      <td>1000</td>\n",
       "      <td>6</td>\n",
       "      <td>60</td>\n",
       "    </tr>\n",
       "    <tr>\n",
       "      <th>2</th>\n",
       "      <td>1000</td>\n",
       "      <td>7</td>\n",
       "      <td>75</td>\n",
       "    </tr>\n",
       "    <tr>\n",
       "      <th>3</th>\n",
       "      <td>1000</td>\n",
       "      <td>8</td>\n",
       "      <td>81</td>\n",
       "    </tr>\n",
       "    <tr>\n",
       "      <th>4</th>\n",
       "      <td>1000</td>\n",
       "      <td>9</td>\n",
       "      <td>57</td>\n",
       "    </tr>\n",
       "  </tbody>\n",
       "</table>\n",
       "</div>"
      ],
      "text/plain": [
       "   user_id  month  id\n",
       "0     1000      5  22\n",
       "1     1000      6  60\n",
       "2     1000      7  75\n",
       "3     1000      8  81\n",
       "4     1000      9  57"
      ]
     },
     "metadata": {},
     "output_type": "display_data"
    }
   ],
   "source": [
    "df_messages = messages.groupby(['user_id', 'month']).agg({'id': 'count'}).reset_index()\n",
    "display(df_messages.head())\n",
    "#messages_count = messages.pivot_table(index=['user_id'], columns='message_date_month', values='id', aggfunc='count')\n",
    "#messages_count.columns = ['messages_count_'+i for i in months_number]\n",
    "#messages_count = messages_count.reset_index()\n",
    "#display(messages_count.head(10))"
   ]
  },
  {
   "cell_type": "markdown",
   "metadata": {},
   "source": [
    "Интернет"
   ]
  },
  {
   "cell_type": "markdown",
   "metadata": {},
   "source": [
    "Расчет объема израсходованного интернет-трафика по месяцам"
   ]
  },
  {
   "cell_type": "code",
   "execution_count": 140,
   "metadata": {},
   "outputs": [
    {
     "data": {
      "text/plain": [
       "Unnamed: 0      0\n",
       "id              0\n",
       "mb_used         0\n",
       "session_date    0\n",
       "user_id         0\n",
       "dtype: int64"
      ]
     },
     "metadata": {},
     "output_type": "display_data"
    },
    {
     "data": {
      "text/plain": [
       "0"
      ]
     },
     "metadata": {},
     "output_type": "display_data"
    },
    {
     "data": {
      "text/html": [
       "<div>\n",
       "<style scoped>\n",
       "    .dataframe tbody tr th:only-of-type {\n",
       "        vertical-align: middle;\n",
       "    }\n",
       "\n",
       "    .dataframe tbody tr th {\n",
       "        vertical-align: top;\n",
       "    }\n",
       "\n",
       "    .dataframe thead th {\n",
       "        text-align: right;\n",
       "    }\n",
       "</style>\n",
       "<table border=\"1\" class=\"dataframe\">\n",
       "  <thead>\n",
       "    <tr style=\"text-align: right;\">\n",
       "      <th></th>\n",
       "      <th>Unnamed: 0</th>\n",
       "      <th>id</th>\n",
       "      <th>mb_used</th>\n",
       "      <th>session_date</th>\n",
       "      <th>user_id</th>\n",
       "      <th>month</th>\n",
       "    </tr>\n",
       "  </thead>\n",
       "  <tbody>\n",
       "    <tr>\n",
       "      <th>0</th>\n",
       "      <td>0</td>\n",
       "      <td>1000_0</td>\n",
       "      <td>113</td>\n",
       "      <td>2018-11-25</td>\n",
       "      <td>1000</td>\n",
       "      <td>11</td>\n",
       "    </tr>\n",
       "    <tr>\n",
       "      <th>1</th>\n",
       "      <td>1</td>\n",
       "      <td>1000_1</td>\n",
       "      <td>1053</td>\n",
       "      <td>2018-09-07</td>\n",
       "      <td>1000</td>\n",
       "      <td>9</td>\n",
       "    </tr>\n",
       "    <tr>\n",
       "      <th>2</th>\n",
       "      <td>2</td>\n",
       "      <td>1000_2</td>\n",
       "      <td>1198</td>\n",
       "      <td>2018-06-25</td>\n",
       "      <td>1000</td>\n",
       "      <td>6</td>\n",
       "    </tr>\n",
       "    <tr>\n",
       "      <th>3</th>\n",
       "      <td>3</td>\n",
       "      <td>1000_3</td>\n",
       "      <td>551</td>\n",
       "      <td>2018-08-22</td>\n",
       "      <td>1000</td>\n",
       "      <td>8</td>\n",
       "    </tr>\n",
       "    <tr>\n",
       "      <th>4</th>\n",
       "      <td>4</td>\n",
       "      <td>1000_4</td>\n",
       "      <td>303</td>\n",
       "      <td>2018-09-24</td>\n",
       "      <td>1000</td>\n",
       "      <td>9</td>\n",
       "    </tr>\n",
       "    <tr>\n",
       "      <th>5</th>\n",
       "      <td>5</td>\n",
       "      <td>1000_5</td>\n",
       "      <td>400</td>\n",
       "      <td>2018-10-02</td>\n",
       "      <td>1000</td>\n",
       "      <td>10</td>\n",
       "    </tr>\n",
       "    <tr>\n",
       "      <th>6</th>\n",
       "      <td>6</td>\n",
       "      <td>1000_6</td>\n",
       "      <td>541</td>\n",
       "      <td>2018-09-07</td>\n",
       "      <td>1000</td>\n",
       "      <td>9</td>\n",
       "    </tr>\n",
       "    <tr>\n",
       "      <th>7</th>\n",
       "      <td>7</td>\n",
       "      <td>1000_7</td>\n",
       "      <td>416</td>\n",
       "      <td>2018-07-11</td>\n",
       "      <td>1000</td>\n",
       "      <td>7</td>\n",
       "    </tr>\n",
       "    <tr>\n",
       "      <th>8</th>\n",
       "      <td>8</td>\n",
       "      <td>1000_8</td>\n",
       "      <td>506</td>\n",
       "      <td>2018-10-08</td>\n",
       "      <td>1000</td>\n",
       "      <td>10</td>\n",
       "    </tr>\n",
       "    <tr>\n",
       "      <th>9</th>\n",
       "      <td>9</td>\n",
       "      <td>1000_9</td>\n",
       "      <td>346</td>\n",
       "      <td>2018-09-03</td>\n",
       "      <td>1000</td>\n",
       "      <td>9</td>\n",
       "    </tr>\n",
       "  </tbody>\n",
       "</table>\n",
       "</div>"
      ],
      "text/plain": [
       "   Unnamed: 0      id  mb_used session_date  user_id  month\n",
       "0           0  1000_0      113   2018-11-25     1000     11\n",
       "1           1  1000_1     1053   2018-09-07     1000      9\n",
       "2           2  1000_2     1198   2018-06-25     1000      6\n",
       "3           3  1000_3      551   2018-08-22     1000      8\n",
       "4           4  1000_4      303   2018-09-24     1000      9\n",
       "5           5  1000_5      400   2018-10-02     1000     10\n",
       "6           6  1000_6      541   2018-09-07     1000      9\n",
       "7           7  1000_7      416   2018-07-11     1000      7\n",
       "8           8  1000_8      506   2018-10-08     1000     10\n",
       "9           9  1000_9      346   2018-09-03     1000      9"
      ]
     },
     "metadata": {},
     "output_type": "display_data"
    }
   ],
   "source": [
    "display(internet.isna().sum()) #Пропусков не обнаружено\n",
    "display(internet.duplicated().sum()) #Дубликатов не обнаружено\n",
    "internet['month'] = pd.to_datetime(internet['session_date'], format='%Y-%m-%d')\n",
    "internet['month'] = internet['month'].dt.month\n",
    "#internet = internet.drop('Unnamed: 0', axis=1) #Удаляем столбец Unnamed: 0, индексы уже есть и он просто не нужен\n",
    "internet['mb_used'] = np.ceil(internet['mb_used']).astype('int') #Как и в случаи с звонками, округляем в большую сторону \n",
    "display(internet.head(10))"
   ]
  },
  {
   "cell_type": "code",
   "execution_count": 141,
   "metadata": {},
   "outputs": [
    {
     "data": {
      "text/html": [
       "<div>\n",
       "<style scoped>\n",
       "    .dataframe tbody tr th:only-of-type {\n",
       "        vertical-align: middle;\n",
       "    }\n",
       "\n",
       "    .dataframe tbody tr th {\n",
       "        vertical-align: top;\n",
       "    }\n",
       "\n",
       "    .dataframe thead th {\n",
       "        text-align: right;\n",
       "    }\n",
       "</style>\n",
       "<table border=\"1\" class=\"dataframe\">\n",
       "  <thead>\n",
       "    <tr style=\"text-align: right;\">\n",
       "      <th></th>\n",
       "      <th>user_id</th>\n",
       "      <th>month</th>\n",
       "      <th>mb_used</th>\n",
       "    </tr>\n",
       "  </thead>\n",
       "  <tbody>\n",
       "    <tr>\n",
       "      <th>0</th>\n",
       "      <td>1000</td>\n",
       "      <td>5</td>\n",
       "      <td>2256</td>\n",
       "    </tr>\n",
       "    <tr>\n",
       "      <th>1</th>\n",
       "      <td>1000</td>\n",
       "      <td>6</td>\n",
       "      <td>23257</td>\n",
       "    </tr>\n",
       "    <tr>\n",
       "      <th>2</th>\n",
       "      <td>1000</td>\n",
       "      <td>7</td>\n",
       "      <td>14016</td>\n",
       "    </tr>\n",
       "    <tr>\n",
       "      <th>3</th>\n",
       "      <td>1000</td>\n",
       "      <td>8</td>\n",
       "      <td>14070</td>\n",
       "    </tr>\n",
       "    <tr>\n",
       "      <th>4</th>\n",
       "      <td>1000</td>\n",
       "      <td>9</td>\n",
       "      <td>14581</td>\n",
       "    </tr>\n",
       "  </tbody>\n",
       "</table>\n",
       "</div>"
      ],
      "text/plain": [
       "   user_id  month  mb_used\n",
       "0     1000      5     2256\n",
       "1     1000      6    23257\n",
       "2     1000      7    14016\n",
       "3     1000      8    14070\n",
       "4     1000      9    14581"
      ]
     },
     "metadata": {},
     "output_type": "display_data"
    }
   ],
   "source": [
    "df_internet = internet.groupby(['user_id', 'month']).agg({'mb_used': 'sum'}).reset_index()\n",
    "display(df_internet.head())\n",
    "\n",
    "#internet_sum = internet.pivot_table(index=['user_id'], columns='session_date_month', values='mb_used', aggfunc='sum')\n",
    "#internet_sum.columns = ['internet_sum_'+i for i in months_number]\n",
    "#internet_sum = internet_sum.reset_index()\n",
    "#display(internet_sum.head(10))"
   ]
  },
  {
   "cell_type": "code",
   "execution_count": 142,
   "metadata": {},
   "outputs": [],
   "source": [
    "#Приведем в таблице users столбец отвечающий за дату к корректному формату\n",
    "users['reg_date'] = pd.to_datetime(users['reg_date'], format='%Y-%m-%d')"
   ]
  },
  {
   "cell_type": "code",
   "execution_count": 143,
   "metadata": {},
   "outputs": [],
   "source": [
    "df_tariffs_plan = tariffs[['messages_included','mb_per_month_included','minutes_included','tariff_name']]\n",
    "df_tariffs_price = tariffs[['rub_monthly_fee', 'rub_per_gb', 'rub_per_message','rub_per_minute']]"
   ]
  },
  {
   "cell_type": "markdown",
   "metadata": {},
   "source": [
    "Расчет помесячной выручки с каждого пользователя"
   ]
  },
  {
   "cell_type": "code",
   "execution_count": 144,
   "metadata": {
    "scrolled": false
   },
   "outputs": [
    {
     "data": {
      "text/html": [
       "<div>\n",
       "<style scoped>\n",
       "    .dataframe tbody tr th:only-of-type {\n",
       "        vertical-align: middle;\n",
       "    }\n",
       "\n",
       "    .dataframe tbody tr th {\n",
       "        vertical-align: top;\n",
       "    }\n",
       "\n",
       "    .dataframe thead th {\n",
       "        text-align: right;\n",
       "    }\n",
       "</style>\n",
       "<table border=\"1\" class=\"dataframe\">\n",
       "  <thead>\n",
       "    <tr style=\"text-align: right;\">\n",
       "      <th></th>\n",
       "      <th>user_id</th>\n",
       "      <th>month</th>\n",
       "      <th>duration</th>\n",
       "      <th>id</th>\n",
       "      <th>mb_used</th>\n",
       "      <th>age</th>\n",
       "      <th>churn_date</th>\n",
       "      <th>city</th>\n",
       "      <th>first_name</th>\n",
       "      <th>last_name</th>\n",
       "      <th>reg_date</th>\n",
       "      <th>tariff</th>\n",
       "      <th>messages_included</th>\n",
       "      <th>mb_per_month_included</th>\n",
       "      <th>minutes_included</th>\n",
       "      <th>rub_monthly_fee</th>\n",
       "      <th>rub_per_gb</th>\n",
       "      <th>rub_per_message</th>\n",
       "      <th>rub_per_minute</th>\n",
       "      <th>tariff_name</th>\n",
       "    </tr>\n",
       "  </thead>\n",
       "  <tbody>\n",
       "    <tr>\n",
       "      <th>0</th>\n",
       "      <td>1000</td>\n",
       "      <td>5</td>\n",
       "      <td>159.0</td>\n",
       "      <td>22.0</td>\n",
       "      <td>2256.0</td>\n",
       "      <td>52</td>\n",
       "      <td>NaN</td>\n",
       "      <td>Краснодар</td>\n",
       "      <td>Рафаил</td>\n",
       "      <td>Верещагин</td>\n",
       "      <td>2018-05-25</td>\n",
       "      <td>ultra</td>\n",
       "      <td>1000</td>\n",
       "      <td>30720</td>\n",
       "      <td>3000</td>\n",
       "      <td>1950</td>\n",
       "      <td>150</td>\n",
       "      <td>1</td>\n",
       "      <td>1</td>\n",
       "      <td>ultra</td>\n",
       "    </tr>\n",
       "    <tr>\n",
       "      <th>1</th>\n",
       "      <td>1000</td>\n",
       "      <td>6</td>\n",
       "      <td>172.0</td>\n",
       "      <td>60.0</td>\n",
       "      <td>23257.0</td>\n",
       "      <td>52</td>\n",
       "      <td>NaN</td>\n",
       "      <td>Краснодар</td>\n",
       "      <td>Рафаил</td>\n",
       "      <td>Верещагин</td>\n",
       "      <td>2018-05-25</td>\n",
       "      <td>ultra</td>\n",
       "      <td>1000</td>\n",
       "      <td>30720</td>\n",
       "      <td>3000</td>\n",
       "      <td>1950</td>\n",
       "      <td>150</td>\n",
       "      <td>1</td>\n",
       "      <td>1</td>\n",
       "      <td>ultra</td>\n",
       "    </tr>\n",
       "    <tr>\n",
       "      <th>2</th>\n",
       "      <td>1000</td>\n",
       "      <td>7</td>\n",
       "      <td>340.0</td>\n",
       "      <td>75.0</td>\n",
       "      <td>14016.0</td>\n",
       "      <td>52</td>\n",
       "      <td>NaN</td>\n",
       "      <td>Краснодар</td>\n",
       "      <td>Рафаил</td>\n",
       "      <td>Верещагин</td>\n",
       "      <td>2018-05-25</td>\n",
       "      <td>ultra</td>\n",
       "      <td>1000</td>\n",
       "      <td>30720</td>\n",
       "      <td>3000</td>\n",
       "      <td>1950</td>\n",
       "      <td>150</td>\n",
       "      <td>1</td>\n",
       "      <td>1</td>\n",
       "      <td>ultra</td>\n",
       "    </tr>\n",
       "    <tr>\n",
       "      <th>3</th>\n",
       "      <td>1000</td>\n",
       "      <td>8</td>\n",
       "      <td>408.0</td>\n",
       "      <td>81.0</td>\n",
       "      <td>14070.0</td>\n",
       "      <td>52</td>\n",
       "      <td>NaN</td>\n",
       "      <td>Краснодар</td>\n",
       "      <td>Рафаил</td>\n",
       "      <td>Верещагин</td>\n",
       "      <td>2018-05-25</td>\n",
       "      <td>ultra</td>\n",
       "      <td>1000</td>\n",
       "      <td>30720</td>\n",
       "      <td>3000</td>\n",
       "      <td>1950</td>\n",
       "      <td>150</td>\n",
       "      <td>1</td>\n",
       "      <td>1</td>\n",
       "      <td>ultra</td>\n",
       "    </tr>\n",
       "    <tr>\n",
       "      <th>4</th>\n",
       "      <td>1000</td>\n",
       "      <td>9</td>\n",
       "      <td>466.0</td>\n",
       "      <td>57.0</td>\n",
       "      <td>14581.0</td>\n",
       "      <td>52</td>\n",
       "      <td>NaN</td>\n",
       "      <td>Краснодар</td>\n",
       "      <td>Рафаил</td>\n",
       "      <td>Верещагин</td>\n",
       "      <td>2018-05-25</td>\n",
       "      <td>ultra</td>\n",
       "      <td>1000</td>\n",
       "      <td>30720</td>\n",
       "      <td>3000</td>\n",
       "      <td>1950</td>\n",
       "      <td>150</td>\n",
       "      <td>1</td>\n",
       "      <td>1</td>\n",
       "      <td>ultra</td>\n",
       "    </tr>\n",
       "  </tbody>\n",
       "</table>\n",
       "</div>"
      ],
      "text/plain": [
       "   user_id  month  duration    id  mb_used  age churn_date       city  \\\n",
       "0     1000      5     159.0  22.0   2256.0   52        NaN  Краснодар   \n",
       "1     1000      6     172.0  60.0  23257.0   52        NaN  Краснодар   \n",
       "2     1000      7     340.0  75.0  14016.0   52        NaN  Краснодар   \n",
       "3     1000      8     408.0  81.0  14070.0   52        NaN  Краснодар   \n",
       "4     1000      9     466.0  57.0  14581.0   52        NaN  Краснодар   \n",
       "\n",
       "  first_name  last_name   reg_date tariff  messages_included  \\\n",
       "0     Рафаил  Верещагин 2018-05-25  ultra               1000   \n",
       "1     Рафаил  Верещагин 2018-05-25  ultra               1000   \n",
       "2     Рафаил  Верещагин 2018-05-25  ultra               1000   \n",
       "3     Рафаил  Верещагин 2018-05-25  ultra               1000   \n",
       "4     Рафаил  Верещагин 2018-05-25  ultra               1000   \n",
       "\n",
       "   mb_per_month_included  minutes_included  rub_monthly_fee  rub_per_gb  \\\n",
       "0                  30720              3000             1950         150   \n",
       "1                  30720              3000             1950         150   \n",
       "2                  30720              3000             1950         150   \n",
       "3                  30720              3000             1950         150   \n",
       "4                  30720              3000             1950         150   \n",
       "\n",
       "   rub_per_message  rub_per_minute tariff_name  \n",
       "0                1               1       ultra  \n",
       "1                1               1       ultra  \n",
       "2                1               1       ultra  \n",
       "3                1               1       ultra  \n",
       "4                1               1       ultra  "
      ]
     },
     "metadata": {},
     "output_type": "display_data"
    },
    {
     "name": "stdout",
     "output_type": "stream",
     "text": [
      "<class 'pandas.core.frame.DataFrame'>\n",
      "Int64Index: 3214 entries, 0 to 3213\n",
      "Data columns (total 20 columns):\n",
      " #   Column                 Non-Null Count  Dtype         \n",
      "---  ------                 --------------  -----         \n",
      " 0   user_id                3214 non-null   int64         \n",
      " 1   month                  3214 non-null   int64         \n",
      " 2   duration               3174 non-null   float64       \n",
      " 3   id                     2717 non-null   float64       \n",
      " 4   mb_used                3203 non-null   float64       \n",
      " 5   age                    3214 non-null   int64         \n",
      " 6   churn_date             187 non-null    object        \n",
      " 7   city                   3214 non-null   object        \n",
      " 8   first_name             3214 non-null   object        \n",
      " 9   last_name              3214 non-null   object        \n",
      " 10  reg_date               3214 non-null   datetime64[ns]\n",
      " 11  tariff                 3214 non-null   object        \n",
      " 12  messages_included      3214 non-null   int64         \n",
      " 13  mb_per_month_included  3214 non-null   int64         \n",
      " 14  minutes_included       3214 non-null   int64         \n",
      " 15  rub_monthly_fee        3214 non-null   int64         \n",
      " 16  rub_per_gb             3214 non-null   int64         \n",
      " 17  rub_per_message        3214 non-null   int64         \n",
      " 18  rub_per_minute         3214 non-null   int64         \n",
      " 19  tariff_name            3214 non-null   object        \n",
      "dtypes: datetime64[ns](1), float64(3), int64(10), object(6)\n",
      "memory usage: 527.3+ KB\n"
     ]
    }
   ],
   "source": [
    "df_up = df_calls.merge(df_messages, on=['user_id','month'], how='outer')\n",
    "df_up = df_up.merge(df_internet, on=['user_id','month'], how='outer')\n",
    "\n",
    "#Создаем общий датафрейм, который будем использовать для подсчета общей прибыли\n",
    "\n",
    "df_up = df_up.merge(users, on =['user_id'], how = 'left').merge(tariffs, left_on = 'tariff', right_on = 'tariff_name', how = 'left')\n",
    "#df_up = df_up.merge(users[['user_id', 'tariff']], on='user_id', how='left')\n",
    "display(df_up.head())\n",
    "df_up.info()"
   ]
  },
  {
   "cell_type": "code",
   "execution_count": 124,
   "metadata": {},
   "outputs": [
    {
     "data": {
      "text/html": [
       "<div>\n",
       "<style scoped>\n",
       "    .dataframe tbody tr th:only-of-type {\n",
       "        vertical-align: middle;\n",
       "    }\n",
       "\n",
       "    .dataframe tbody tr th {\n",
       "        vertical-align: top;\n",
       "    }\n",
       "\n",
       "    .dataframe thead th {\n",
       "        text-align: right;\n",
       "    }\n",
       "</style>\n",
       "<table border=\"1\" class=\"dataframe\">\n",
       "  <thead>\n",
       "    <tr style=\"text-align: right;\">\n",
       "      <th></th>\n",
       "      <th>messages_included</th>\n",
       "      <th>mb_per_month_included</th>\n",
       "      <th>minutes_included</th>\n",
       "      <th>rub_monthly_fee</th>\n",
       "      <th>rub_per_gb</th>\n",
       "      <th>rub_per_message</th>\n",
       "      <th>rub_per_minute</th>\n",
       "      <th>tariff_name</th>\n",
       "    </tr>\n",
       "  </thead>\n",
       "  <tbody>\n",
       "    <tr>\n",
       "      <th>0</th>\n",
       "      <td>50</td>\n",
       "      <td>15360</td>\n",
       "      <td>500</td>\n",
       "      <td>550</td>\n",
       "      <td>200</td>\n",
       "      <td>3</td>\n",
       "      <td>3</td>\n",
       "      <td>smart</td>\n",
       "    </tr>\n",
       "    <tr>\n",
       "      <th>1</th>\n",
       "      <td>1000</td>\n",
       "      <td>30720</td>\n",
       "      <td>3000</td>\n",
       "      <td>1950</td>\n",
       "      <td>150</td>\n",
       "      <td>1</td>\n",
       "      <td>1</td>\n",
       "      <td>ultra</td>\n",
       "    </tr>\n",
       "  </tbody>\n",
       "</table>\n",
       "</div>"
      ],
      "text/plain": [
       "   messages_included  mb_per_month_included  minutes_included  \\\n",
       "0                 50                  15360               500   \n",
       "1               1000                  30720              3000   \n",
       "\n",
       "   rub_monthly_fee  rub_per_gb  rub_per_message  rub_per_minute tariff_name  \n",
       "0              550         200                3               3       smart  \n",
       "1             1950         150                1               1       ultra  "
      ]
     },
     "execution_count": 124,
     "metadata": {},
     "output_type": "execute_result"
    }
   ],
   "source": [
    "tariffs.head(10)"
   ]
  },
  {
   "cell_type": "code",
   "execution_count": 125,
   "metadata": {},
   "outputs": [],
   "source": [
    "#На основе данных по тарифам создадим соответствующие переменные в виде словаря, по ключу которого будем обращаться к значениям.\n",
    "reserve = {\n",
    "    #Количество включенных в стоимость услуг [minute, message, internet]\n",
    "    \"smart\" : [500, 50, 15360],\n",
    "    \"ultra\" : [3000, 1000, 30720]\n",
    "}\n",
    "additional = {\n",
    "    #Стоимость дополнительных услуг [minute, message, internet]\n",
    "    \"smart\" : [3, 3, (200)],\n",
    "    \"ultra\" : [1, 1, (150)]\n",
    "}\n",
    "price_tariff = {\n",
    "    #Стоимость тарифа\n",
    "    \"smart\" : 550,\n",
    "    \"ultra\" : 3000\n",
    "}"
   ]
  },
  {
   "cell_type": "code",
   "execution_count": 145,
   "metadata": {},
   "outputs": [
    {
     "data": {
      "text/html": [
       "<div>\n",
       "<style scoped>\n",
       "    .dataframe tbody tr th:only-of-type {\n",
       "        vertical-align: middle;\n",
       "    }\n",
       "\n",
       "    .dataframe tbody tr th {\n",
       "        vertical-align: top;\n",
       "    }\n",
       "\n",
       "    .dataframe thead th {\n",
       "        text-align: right;\n",
       "    }\n",
       "</style>\n",
       "<table border=\"1\" class=\"dataframe\">\n",
       "  <thead>\n",
       "    <tr style=\"text-align: right;\">\n",
       "      <th></th>\n",
       "      <th>user_id</th>\n",
       "      <th>month</th>\n",
       "      <th>duration</th>\n",
       "      <th>id</th>\n",
       "      <th>mb_used</th>\n",
       "      <th>age</th>\n",
       "      <th>churn_date</th>\n",
       "      <th>city</th>\n",
       "      <th>first_name</th>\n",
       "      <th>last_name</th>\n",
       "      <th>...</th>\n",
       "      <th>tariff</th>\n",
       "      <th>messages_included</th>\n",
       "      <th>mb_per_month_included</th>\n",
       "      <th>minutes_included</th>\n",
       "      <th>rub_monthly_fee</th>\n",
       "      <th>rub_per_gb</th>\n",
       "      <th>rub_per_message</th>\n",
       "      <th>rub_per_minute</th>\n",
       "      <th>tariff_name</th>\n",
       "      <th>all_sum</th>\n",
       "    </tr>\n",
       "  </thead>\n",
       "  <tbody>\n",
       "    <tr>\n",
       "      <th>0</th>\n",
       "      <td>1000</td>\n",
       "      <td>5</td>\n",
       "      <td>159.0</td>\n",
       "      <td>22.0</td>\n",
       "      <td>2256.0</td>\n",
       "      <td>52</td>\n",
       "      <td>NaN</td>\n",
       "      <td>Краснодар</td>\n",
       "      <td>Рафаил</td>\n",
       "      <td>Верещагин</td>\n",
       "      <td>...</td>\n",
       "      <td>ultra</td>\n",
       "      <td>1000</td>\n",
       "      <td>30720</td>\n",
       "      <td>3000</td>\n",
       "      <td>1950</td>\n",
       "      <td>150</td>\n",
       "      <td>1</td>\n",
       "      <td>1</td>\n",
       "      <td>ultra</td>\n",
       "      <td>1950.0</td>\n",
       "    </tr>\n",
       "    <tr>\n",
       "      <th>1</th>\n",
       "      <td>1000</td>\n",
       "      <td>6</td>\n",
       "      <td>172.0</td>\n",
       "      <td>60.0</td>\n",
       "      <td>23257.0</td>\n",
       "      <td>52</td>\n",
       "      <td>NaN</td>\n",
       "      <td>Краснодар</td>\n",
       "      <td>Рафаил</td>\n",
       "      <td>Верещагин</td>\n",
       "      <td>...</td>\n",
       "      <td>ultra</td>\n",
       "      <td>1000</td>\n",
       "      <td>30720</td>\n",
       "      <td>3000</td>\n",
       "      <td>1950</td>\n",
       "      <td>150</td>\n",
       "      <td>1</td>\n",
       "      <td>1</td>\n",
       "      <td>ultra</td>\n",
       "      <td>1950.0</td>\n",
       "    </tr>\n",
       "    <tr>\n",
       "      <th>2</th>\n",
       "      <td>1000</td>\n",
       "      <td>7</td>\n",
       "      <td>340.0</td>\n",
       "      <td>75.0</td>\n",
       "      <td>14016.0</td>\n",
       "      <td>52</td>\n",
       "      <td>NaN</td>\n",
       "      <td>Краснодар</td>\n",
       "      <td>Рафаил</td>\n",
       "      <td>Верещагин</td>\n",
       "      <td>...</td>\n",
       "      <td>ultra</td>\n",
       "      <td>1000</td>\n",
       "      <td>30720</td>\n",
       "      <td>3000</td>\n",
       "      <td>1950</td>\n",
       "      <td>150</td>\n",
       "      <td>1</td>\n",
       "      <td>1</td>\n",
       "      <td>ultra</td>\n",
       "      <td>1950.0</td>\n",
       "    </tr>\n",
       "    <tr>\n",
       "      <th>3</th>\n",
       "      <td>1000</td>\n",
       "      <td>8</td>\n",
       "      <td>408.0</td>\n",
       "      <td>81.0</td>\n",
       "      <td>14070.0</td>\n",
       "      <td>52</td>\n",
       "      <td>NaN</td>\n",
       "      <td>Краснодар</td>\n",
       "      <td>Рафаил</td>\n",
       "      <td>Верещагин</td>\n",
       "      <td>...</td>\n",
       "      <td>ultra</td>\n",
       "      <td>1000</td>\n",
       "      <td>30720</td>\n",
       "      <td>3000</td>\n",
       "      <td>1950</td>\n",
       "      <td>150</td>\n",
       "      <td>1</td>\n",
       "      <td>1</td>\n",
       "      <td>ultra</td>\n",
       "      <td>1950.0</td>\n",
       "    </tr>\n",
       "    <tr>\n",
       "      <th>4</th>\n",
       "      <td>1000</td>\n",
       "      <td>9</td>\n",
       "      <td>466.0</td>\n",
       "      <td>57.0</td>\n",
       "      <td>14581.0</td>\n",
       "      <td>52</td>\n",
       "      <td>NaN</td>\n",
       "      <td>Краснодар</td>\n",
       "      <td>Рафаил</td>\n",
       "      <td>Верещагин</td>\n",
       "      <td>...</td>\n",
       "      <td>ultra</td>\n",
       "      <td>1000</td>\n",
       "      <td>30720</td>\n",
       "      <td>3000</td>\n",
       "      <td>1950</td>\n",
       "      <td>150</td>\n",
       "      <td>1</td>\n",
       "      <td>1</td>\n",
       "      <td>ultra</td>\n",
       "      <td>1950.0</td>\n",
       "    </tr>\n",
       "    <tr>\n",
       "      <th>5</th>\n",
       "      <td>1000</td>\n",
       "      <td>10</td>\n",
       "      <td>350.0</td>\n",
       "      <td>73.0</td>\n",
       "      <td>14717.0</td>\n",
       "      <td>52</td>\n",
       "      <td>NaN</td>\n",
       "      <td>Краснодар</td>\n",
       "      <td>Рафаил</td>\n",
       "      <td>Верещагин</td>\n",
       "      <td>...</td>\n",
       "      <td>ultra</td>\n",
       "      <td>1000</td>\n",
       "      <td>30720</td>\n",
       "      <td>3000</td>\n",
       "      <td>1950</td>\n",
       "      <td>150</td>\n",
       "      <td>1</td>\n",
       "      <td>1</td>\n",
       "      <td>ultra</td>\n",
       "      <td>1950.0</td>\n",
       "    </tr>\n",
       "    <tr>\n",
       "      <th>6</th>\n",
       "      <td>1000</td>\n",
       "      <td>11</td>\n",
       "      <td>338.0</td>\n",
       "      <td>58.0</td>\n",
       "      <td>14768.0</td>\n",
       "      <td>52</td>\n",
       "      <td>NaN</td>\n",
       "      <td>Краснодар</td>\n",
       "      <td>Рафаил</td>\n",
       "      <td>Верещагин</td>\n",
       "      <td>...</td>\n",
       "      <td>ultra</td>\n",
       "      <td>1000</td>\n",
       "      <td>30720</td>\n",
       "      <td>3000</td>\n",
       "      <td>1950</td>\n",
       "      <td>150</td>\n",
       "      <td>1</td>\n",
       "      <td>1</td>\n",
       "      <td>ultra</td>\n",
       "      <td>1950.0</td>\n",
       "    </tr>\n",
       "    <tr>\n",
       "      <th>7</th>\n",
       "      <td>1000</td>\n",
       "      <td>12</td>\n",
       "      <td>333.0</td>\n",
       "      <td>70.0</td>\n",
       "      <td>9827.0</td>\n",
       "      <td>52</td>\n",
       "      <td>NaN</td>\n",
       "      <td>Краснодар</td>\n",
       "      <td>Рафаил</td>\n",
       "      <td>Верещагин</td>\n",
       "      <td>...</td>\n",
       "      <td>ultra</td>\n",
       "      <td>1000</td>\n",
       "      <td>30720</td>\n",
       "      <td>3000</td>\n",
       "      <td>1950</td>\n",
       "      <td>150</td>\n",
       "      <td>1</td>\n",
       "      <td>1</td>\n",
       "      <td>ultra</td>\n",
       "      <td>1950.0</td>\n",
       "    </tr>\n",
       "    <tr>\n",
       "      <th>8</th>\n",
       "      <td>1001</td>\n",
       "      <td>11</td>\n",
       "      <td>430.0</td>\n",
       "      <td>NaN</td>\n",
       "      <td>18452.0</td>\n",
       "      <td>41</td>\n",
       "      <td>NaN</td>\n",
       "      <td>Москва</td>\n",
       "      <td>Иван</td>\n",
       "      <td>Ежов</td>\n",
       "      <td>...</td>\n",
       "      <td>smart</td>\n",
       "      <td>50</td>\n",
       "      <td>15360</td>\n",
       "      <td>500</td>\n",
       "      <td>550</td>\n",
       "      <td>200</td>\n",
       "      <td>3</td>\n",
       "      <td>3</td>\n",
       "      <td>smart</td>\n",
       "      <td>1350.0</td>\n",
       "    </tr>\n",
       "    <tr>\n",
       "      <th>9</th>\n",
       "      <td>1001</td>\n",
       "      <td>12</td>\n",
       "      <td>414.0</td>\n",
       "      <td>NaN</td>\n",
       "      <td>14053.0</td>\n",
       "      <td>41</td>\n",
       "      <td>NaN</td>\n",
       "      <td>Москва</td>\n",
       "      <td>Иван</td>\n",
       "      <td>Ежов</td>\n",
       "      <td>...</td>\n",
       "      <td>smart</td>\n",
       "      <td>50</td>\n",
       "      <td>15360</td>\n",
       "      <td>500</td>\n",
       "      <td>550</td>\n",
       "      <td>200</td>\n",
       "      <td>3</td>\n",
       "      <td>3</td>\n",
       "      <td>smart</td>\n",
       "      <td>550.0</td>\n",
       "    </tr>\n",
       "  </tbody>\n",
       "</table>\n",
       "<p>10 rows × 21 columns</p>\n",
       "</div>"
      ],
      "text/plain": [
       "   user_id  month  duration    id  mb_used  age churn_date       city  \\\n",
       "0     1000      5     159.0  22.0   2256.0   52        NaN  Краснодар   \n",
       "1     1000      6     172.0  60.0  23257.0   52        NaN  Краснодар   \n",
       "2     1000      7     340.0  75.0  14016.0   52        NaN  Краснодар   \n",
       "3     1000      8     408.0  81.0  14070.0   52        NaN  Краснодар   \n",
       "4     1000      9     466.0  57.0  14581.0   52        NaN  Краснодар   \n",
       "5     1000     10     350.0  73.0  14717.0   52        NaN  Краснодар   \n",
       "6     1000     11     338.0  58.0  14768.0   52        NaN  Краснодар   \n",
       "7     1000     12     333.0  70.0   9827.0   52        NaN  Краснодар   \n",
       "8     1001     11     430.0   NaN  18452.0   41        NaN     Москва   \n",
       "9     1001     12     414.0   NaN  14053.0   41        NaN     Москва   \n",
       "\n",
       "  first_name  last_name  ... tariff messages_included  mb_per_month_included  \\\n",
       "0     Рафаил  Верещагин  ...  ultra              1000                  30720   \n",
       "1     Рафаил  Верещагин  ...  ultra              1000                  30720   \n",
       "2     Рафаил  Верещагин  ...  ultra              1000                  30720   \n",
       "3     Рафаил  Верещагин  ...  ultra              1000                  30720   \n",
       "4     Рафаил  Верещагин  ...  ultra              1000                  30720   \n",
       "5     Рафаил  Верещагин  ...  ultra              1000                  30720   \n",
       "6     Рафаил  Верещагин  ...  ultra              1000                  30720   \n",
       "7     Рафаил  Верещагин  ...  ultra              1000                  30720   \n",
       "8       Иван       Ежов  ...  smart                50                  15360   \n",
       "9       Иван       Ежов  ...  smart                50                  15360   \n",
       "\n",
       "   minutes_included  rub_monthly_fee  rub_per_gb  rub_per_message  \\\n",
       "0              3000             1950         150                1   \n",
       "1              3000             1950         150                1   \n",
       "2              3000             1950         150                1   \n",
       "3              3000             1950         150                1   \n",
       "4              3000             1950         150                1   \n",
       "5              3000             1950         150                1   \n",
       "6              3000             1950         150                1   \n",
       "7              3000             1950         150                1   \n",
       "8               500              550         200                3   \n",
       "9               500              550         200                3   \n",
       "\n",
       "   rub_per_minute  tariff_name all_sum  \n",
       "0               1        ultra  1950.0  \n",
       "1               1        ultra  1950.0  \n",
       "2               1        ultra  1950.0  \n",
       "3               1        ultra  1950.0  \n",
       "4               1        ultra  1950.0  \n",
       "5               1        ultra  1950.0  \n",
       "6               1        ultra  1950.0  \n",
       "7               1        ultra  1950.0  \n",
       "8               3        smart  1350.0  \n",
       "9               3        smart   550.0  \n",
       "\n",
       "[10 rows x 21 columns]"
      ]
     },
     "metadata": {},
     "output_type": "display_data"
    }
   ],
   "source": [
    "#Новая фу-ция, смотреть ее\n",
    "def all_sum (row):\n",
    "    min_cost = 0\n",
    "    inet_cost = 0\n",
    "    message_cost = 0\n",
    "    if(row['duration']-row ['minutes_included'])> 0:\n",
    "        min_cost =(row['duration']-row['minutes_included'])* row ['rub_per_minute'] \n",
    "    if(row['mb_used']- row ['mb_per_month_included'])> 0:\n",
    "        inet_cost =np.ceil((row['mb_used']- row ['mb_per_month_included'])/1024) * row ['rub_per_gb'] \n",
    "    if(row['id']-row ['messages_included'])> 0:\n",
    "        message_cost =(row['id']-row ['messages_included']) * row['rub_per_message']\n",
    "    result = min_cost + inet_cost + message_cost + row['rub_monthly_fee']\n",
    "    return result\n",
    "df_up['all_sum'] = df_up.apply(all_sum,axis=1)\n",
    "display(df_up.head(10))"
   ]
  },
  {
   "cell_type": "code",
   "execution_count": 94,
   "metadata": {
    "scrolled": true
   },
   "outputs": [
    {
     "data": {
      "text/html": [
       "<div>\n",
       "<style scoped>\n",
       "    .dataframe tbody tr th:only-of-type {\n",
       "        vertical-align: middle;\n",
       "    }\n",
       "\n",
       "    .dataframe tbody tr th {\n",
       "        vertical-align: top;\n",
       "    }\n",
       "\n",
       "    .dataframe thead th {\n",
       "        text-align: right;\n",
       "    }\n",
       "</style>\n",
       "<table border=\"1\" class=\"dataframe\">\n",
       "  <thead>\n",
       "    <tr style=\"text-align: right;\">\n",
       "      <th></th>\n",
       "      <th>user_id</th>\n",
       "      <th>month</th>\n",
       "      <th>duration</th>\n",
       "      <th>id</th>\n",
       "      <th>mb_used</th>\n",
       "      <th>age</th>\n",
       "      <th>churn_date</th>\n",
       "      <th>city</th>\n",
       "      <th>first_name</th>\n",
       "      <th>last_name</th>\n",
       "      <th>...</th>\n",
       "      <th>messages_included</th>\n",
       "      <th>mb_per_month_included</th>\n",
       "      <th>minutes_included</th>\n",
       "      <th>rub_monthly_fee</th>\n",
       "      <th>rub_per_gb</th>\n",
       "      <th>rub_per_message</th>\n",
       "      <th>rub_per_minute</th>\n",
       "      <th>tariff_name</th>\n",
       "      <th>all_sum</th>\n",
       "      <th>income</th>\n",
       "    </tr>\n",
       "  </thead>\n",
       "  <tbody>\n",
       "    <tr>\n",
       "      <th>0</th>\n",
       "      <td>1000</td>\n",
       "      <td>5</td>\n",
       "      <td>159.0</td>\n",
       "      <td>22.0</td>\n",
       "      <td>2256.0</td>\n",
       "      <td>52</td>\n",
       "      <td>NaN</td>\n",
       "      <td>Краснодар</td>\n",
       "      <td>Рафаил</td>\n",
       "      <td>Верещагин</td>\n",
       "      <td>...</td>\n",
       "      <td>1000</td>\n",
       "      <td>30720</td>\n",
       "      <td>3000</td>\n",
       "      <td>1950</td>\n",
       "      <td>150</td>\n",
       "      <td>1</td>\n",
       "      <td>1</td>\n",
       "      <td>ultra</td>\n",
       "      <td>1950.0</td>\n",
       "      <td>3000.0</td>\n",
       "    </tr>\n",
       "    <tr>\n",
       "      <th>1</th>\n",
       "      <td>1000</td>\n",
       "      <td>6</td>\n",
       "      <td>172.0</td>\n",
       "      <td>60.0</td>\n",
       "      <td>23257.0</td>\n",
       "      <td>52</td>\n",
       "      <td>NaN</td>\n",
       "      <td>Краснодар</td>\n",
       "      <td>Рафаил</td>\n",
       "      <td>Верещагин</td>\n",
       "      <td>...</td>\n",
       "      <td>1000</td>\n",
       "      <td>30720</td>\n",
       "      <td>3000</td>\n",
       "      <td>1950</td>\n",
       "      <td>150</td>\n",
       "      <td>1</td>\n",
       "      <td>1</td>\n",
       "      <td>ultra</td>\n",
       "      <td>1950.0</td>\n",
       "      <td>3000.0</td>\n",
       "    </tr>\n",
       "    <tr>\n",
       "      <th>2</th>\n",
       "      <td>1000</td>\n",
       "      <td>7</td>\n",
       "      <td>340.0</td>\n",
       "      <td>75.0</td>\n",
       "      <td>14016.0</td>\n",
       "      <td>52</td>\n",
       "      <td>NaN</td>\n",
       "      <td>Краснодар</td>\n",
       "      <td>Рафаил</td>\n",
       "      <td>Верещагин</td>\n",
       "      <td>...</td>\n",
       "      <td>1000</td>\n",
       "      <td>30720</td>\n",
       "      <td>3000</td>\n",
       "      <td>1950</td>\n",
       "      <td>150</td>\n",
       "      <td>1</td>\n",
       "      <td>1</td>\n",
       "      <td>ultra</td>\n",
       "      <td>1950.0</td>\n",
       "      <td>3000.0</td>\n",
       "    </tr>\n",
       "    <tr>\n",
       "      <th>3</th>\n",
       "      <td>1000</td>\n",
       "      <td>8</td>\n",
       "      <td>408.0</td>\n",
       "      <td>81.0</td>\n",
       "      <td>14070.0</td>\n",
       "      <td>52</td>\n",
       "      <td>NaN</td>\n",
       "      <td>Краснодар</td>\n",
       "      <td>Рафаил</td>\n",
       "      <td>Верещагин</td>\n",
       "      <td>...</td>\n",
       "      <td>1000</td>\n",
       "      <td>30720</td>\n",
       "      <td>3000</td>\n",
       "      <td>1950</td>\n",
       "      <td>150</td>\n",
       "      <td>1</td>\n",
       "      <td>1</td>\n",
       "      <td>ultra</td>\n",
       "      <td>1950.0</td>\n",
       "      <td>3000.0</td>\n",
       "    </tr>\n",
       "    <tr>\n",
       "      <th>4</th>\n",
       "      <td>1000</td>\n",
       "      <td>9</td>\n",
       "      <td>466.0</td>\n",
       "      <td>57.0</td>\n",
       "      <td>14581.0</td>\n",
       "      <td>52</td>\n",
       "      <td>NaN</td>\n",
       "      <td>Краснодар</td>\n",
       "      <td>Рафаил</td>\n",
       "      <td>Верещагин</td>\n",
       "      <td>...</td>\n",
       "      <td>1000</td>\n",
       "      <td>30720</td>\n",
       "      <td>3000</td>\n",
       "      <td>1950</td>\n",
       "      <td>150</td>\n",
       "      <td>1</td>\n",
       "      <td>1</td>\n",
       "      <td>ultra</td>\n",
       "      <td>1950.0</td>\n",
       "      <td>3000.0</td>\n",
       "    </tr>\n",
       "  </tbody>\n",
       "</table>\n",
       "<p>5 rows × 22 columns</p>\n",
       "</div>"
      ],
      "text/plain": [
       "   user_id  month  duration    id  mb_used  age churn_date       city  \\\n",
       "0     1000      5     159.0  22.0   2256.0   52        NaN  Краснодар   \n",
       "1     1000      6     172.0  60.0  23257.0   52        NaN  Краснодар   \n",
       "2     1000      7     340.0  75.0  14016.0   52        NaN  Краснодар   \n",
       "3     1000      8     408.0  81.0  14070.0   52        NaN  Краснодар   \n",
       "4     1000      9     466.0  57.0  14581.0   52        NaN  Краснодар   \n",
       "\n",
       "  first_name  last_name  ... messages_included mb_per_month_included  \\\n",
       "0     Рафаил  Верещагин  ...              1000                 30720   \n",
       "1     Рафаил  Верещагин  ...              1000                 30720   \n",
       "2     Рафаил  Верещагин  ...              1000                 30720   \n",
       "3     Рафаил  Верещагин  ...              1000                 30720   \n",
       "4     Рафаил  Верещагин  ...              1000                 30720   \n",
       "\n",
       "   minutes_included  rub_monthly_fee  rub_per_gb  rub_per_message  \\\n",
       "0              3000             1950         150                1   \n",
       "1              3000             1950         150                1   \n",
       "2              3000             1950         150                1   \n",
       "3              3000             1950         150                1   \n",
       "4              3000             1950         150                1   \n",
       "\n",
       "   rub_per_minute  tariff_name  all_sum  income  \n",
       "0               1        ultra   1950.0  3000.0  \n",
       "1               1        ultra   1950.0  3000.0  \n",
       "2               1        ultra   1950.0  3000.0  \n",
       "3               1        ultra   1950.0  3000.0  \n",
       "4               1        ultra   1950.0  3000.0  \n",
       "\n",
       "[5 rows x 22 columns]"
      ]
     },
     "execution_count": 94,
     "metadata": {},
     "output_type": "execute_result"
    }
   ],
   "source": [
    "#Создадим фун-ию, которая будет производить расчет прибыли по каждому пользователю сохряняя 12-ти месячный формат.\n",
    "def income (df):\n",
    "\n",
    "    minutes_up = (df['duration'] - reserve[df['tariff']][0]) * additional[df['tariff']][0]\n",
    "    if minutes_up < 0:\n",
    "        minutes_up = 0\n",
    "        \n",
    "    messages_up = (df['id'] - reserve[df['tariff']][1]) * additional[df['tariff']][1]\n",
    "    if messages_up < 0:\n",
    "        messages_up = 0\n",
    "        \n",
    "    internet_up = np.ceil((df['mb_used'] - reserve[df['tariff']][2])/1024) * additional[df['tariff']][2]\n",
    "    if internet_up < 0:\n",
    "        internet_up = 0\n",
    "        \n",
    "    return minutes_up + messages_up + internet_up + price_tariff[df['tariff']]\n",
    "\n",
    "\n",
    "#for i in months_number:\n",
    "df_up['income'] = df_up.apply(income, axis=1)\n",
    "    \n",
    "df_up.head(5)"
   ]
  },
  {
   "cell_type": "markdown",
   "metadata": {},
   "source": [
    "Общий вывод:\n",
    "На 2 этапе я внес все необходиммые исправления в данные. Используя сводную таблицу, была расчитана общая деятельность каждого пользователя по месяцам(потраченные минуты, сообщения, лимит интернета).\n",
    "Дубликатов и пропусков в данных не было обнаружено. Данные с нулевой продолжительностью звонков ошибкой не считались(пропущенные звонки).\n",
    "При помощи агрегации данных был создан общий датафрейм.\n",
    "Так же по каждому пользователю был произведен расчет прибыли в соответствии с месяцем. Все 12 столбцов занесены в датафрейм."
   ]
  },
  {
   "cell_type": "markdown",
   "metadata": {},
   "source": [
    "3. Анализ данных выборок"
   ]
  },
  {
   "cell_type": "markdown",
   "metadata": {},
   "source": [
    "Изучим соотношение пользователей по 2 тарифам."
   ]
  },
  {
   "cell_type": "code",
   "execution_count": 146,
   "metadata": {},
   "outputs": [
    {
     "data": {
      "text/plain": [
       "tariff\n",
       "smart    350\n",
       "ultra    148\n",
       "Name: user_id, dtype: int64"
      ]
     },
     "metadata": {},
     "output_type": "display_data"
    }
   ],
   "source": [
    "report_user = df_up.groupby('tariff')['user_id'].nunique()\n",
    "display(report_user)# нашли кол-во пользователей в каждом тарифе."
   ]
  },
  {
   "cell_type": "code",
   "execution_count": 147,
   "metadata": {},
   "outputs": [
    {
     "data": {
      "text/plain": [
       "'Доля пользователей Смарт 70%'"
      ]
     },
     "metadata": {},
     "output_type": "display_data"
    }
   ],
   "source": [
    "display(f'Доля пользователей Смарт {350/498:.0%}')"
   ]
  },
  {
   "cell_type": "markdown",
   "metadata": {},
   "source": [
    "Большинство пользователей выбирают более дешевый тариф"
   ]
  },
  {
   "cell_type": "code",
   "execution_count": 148,
   "metadata": {},
   "outputs": [
    {
     "data": {
      "image/png": "[encoded data removed]",
      "text/plain": [
       "<Figure size 432x288 with 1 Axes>"
      ]
     },
     "metadata": {
      "needs_background": "light"
     },
     "output_type": "display_data"
    }
   ],
   "source": [
    "df_up['mb_used'] = (df_up['mb_used']/1024).apply(np.ceil) # Переведем в ГБ иначе плохо видно статистику\n",
    "report_tariff = df_up.pivot_table(index='tariff_name', values =['duration','mb_used','id'], aggfunc = ('mean'))\n",
    "report_tariff.plot(y=['duration','mb_used','id'],kind='bar')\n",
    "plt.show()"
   ]
  },
  {
   "cell_type": "markdown",
   "metadata": {},
   "source": [
    "Пользователи тарифа Smart менее разговорчивы и меньше оправляют сообщений, однако больше тратят интернте трафик по сравнению с пользователями Ultra."
   ]
  },
  {
   "cell_type": "code",
   "execution_count": 149,
   "metadata": {},
   "outputs": [
    {
     "data": {
      "text/html": [
       "<div>\n",
       "<style scoped>\n",
       "    .dataframe tbody tr th:only-of-type {\n",
       "        vertical-align: middle;\n",
       "    }\n",
       "\n",
       "    .dataframe tbody tr th {\n",
       "        vertical-align: top;\n",
       "    }\n",
       "\n",
       "    .dataframe thead th {\n",
       "        text-align: right;\n",
       "    }\n",
       "</style>\n",
       "<table border=\"1\" class=\"dataframe\">\n",
       "  <thead>\n",
       "    <tr style=\"text-align: right;\">\n",
       "      <th></th>\n",
       "      <th>tariff_name</th>\n",
       "      <th>duration</th>\n",
       "      <th>id</th>\n",
       "      <th>mb_used</th>\n",
       "      <th>messages_included</th>\n",
       "      <th>mb_per_month_included</th>\n",
       "      <th>minutes_included</th>\n",
       "    </tr>\n",
       "  </thead>\n",
       "  <tbody>\n",
       "    <tr>\n",
       "      <th>0</th>\n",
       "      <td>smart</td>\n",
       "      <td>419.062978</td>\n",
       "      <td>38.716441</td>\n",
       "      <td>16.366697</td>\n",
       "      <td>50</td>\n",
       "      <td>15.0</td>\n",
       "      <td>500</td>\n",
       "    </tr>\n",
       "    <tr>\n",
       "      <th>1</th>\n",
       "      <td>ultra</td>\n",
       "      <td>545.451104</td>\n",
       "      <td>61.161006</td>\n",
       "      <td>19.726154</td>\n",
       "      <td>1000</td>\n",
       "      <td>30.0</td>\n",
       "      <td>3000</td>\n",
       "    </tr>\n",
       "  </tbody>\n",
       "</table>\n",
       "</div>"
      ],
      "text/plain": [
       "  tariff_name    duration         id    mb_used  messages_included  \\\n",
       "0       smart  419.062978  38.716441  16.366697                 50   \n",
       "1       ultra  545.451104  61.161006  19.726154               1000   \n",
       "\n",
       "   mb_per_month_included  minutes_included  \n",
       "0                   15.0               500  \n",
       "1                   30.0              3000  "
      ]
     },
     "metadata": {},
     "output_type": "display_data"
    }
   ],
   "source": [
    "tariff_all = report_tariff.merge(df_tariffs_plan, on ='tariff_name', how='outer')\n",
    "tariff_all['mb_per_month_included'] = (tariff_all['mb_per_month_included']/1024).apply(np.ceil)\n",
    "display(tariff_all)# Объединили данные по тарифам и по фактическому данным по минутам, сообщениям, интернет трафику."
   ]
  },
  {
   "cell_type": "markdown",
   "metadata": {},
   "source": [
    "Посмотрим, как ведут себя пользователи относительно тарифных своих планов."
   ]
  },
  {
   "cell_type": "code",
   "execution_count": 150,
   "metadata": {},
   "outputs": [
    {
     "data": {
      "text/plain": [
       "<AxesSubplot:xlabel='tariff_name'>"
      ]
     },
     "execution_count": 150,
     "metadata": {},
     "output_type": "execute_result"
    },
    {
     "data": {
      "image/png": "[encoded data removed]",
      "text/plain": [
       "<Figure size 432x288 with 1 Axes>"
      ]
     },
     "metadata": {
      "needs_background": "light"
     },
     "output_type": "display_data"
    }
   ],
   "source": [
    "tariff_all.plot(x= 'tariff_name', y=['duration','minutes_included','mb_used','mb_per_month_included','id','messages_included'], kind=\"bar\")\n"
   ]
  },
  {
   "cell_type": "markdown",
   "metadata": {},
   "source": [
    "Здесь мы сравнили поведение клиентов по обоим тарифным планам, а именно использованный обьем и тот,что входит в тарифный план. В тарифный план 'Smart' входит 500 мин,  в среднем клиенты в мес расходовали 418, сообщения тоже всегда оставалсь из 50 по тарифу в среднем отправлялось 33,  а вот тарифного интернет трафика клиентам не хватало, им понадобилось больше чем в два раза.\n",
    "\n",
    "Преимущество тариф 'Ultra': большое количество минут и сообщений, но клиенты не используют и 50% предоставленных им объема  этих 2 услуг. А вот объем интернет трафика клиентам в этом тарифном плане тоже не хватило, и в среднем они потратили на 22% больше пакетного трафика.\n",
    "\n",
    "Если посмотреть не поведение клиентов из 2 тарифных планов, то на графике так же видно, что кол-во минут в среднем в мес не сильно отличается , клиенты'smart' говорят 417 мин, 'ultra' 527, что на 26% больше, сообщений тоже отправляется больше на 32% больше.А вот в мобильном интернете клинты 'ultra' меньше проводят времени, чем клиенты 'smart'.\n",
    "\n",
    "Общая тенденция, что клиентам обоих тарифов не хватает пакетного интернета, значит дополнительный доход приходит за счет оплаты домолнительных gb. "
   ]
  },
  {
   "cell_type": "markdown",
   "metadata": {},
   "source": [
    "Посмотрим, как происходит расход гб интернет трафика по мес в каждом тарифе."
   ]
  },
  {
   "cell_type": "code",
   "execution_count": 151,
   "metadata": {},
   "outputs": [
    {
     "data": {
      "text/html": [
       "<div>\n",
       "<style scoped>\n",
       "    .dataframe tbody tr th:only-of-type {\n",
       "        vertical-align: middle;\n",
       "    }\n",
       "\n",
       "    .dataframe tbody tr th {\n",
       "        vertical-align: top;\n",
       "    }\n",
       "\n",
       "    .dataframe thead th {\n",
       "        text-align: right;\n",
       "    }\n",
       "</style>\n",
       "<table border=\"1\" class=\"dataframe\">\n",
       "  <thead>\n",
       "    <tr style=\"text-align: right;\">\n",
       "      <th></th>\n",
       "      <th></th>\n",
       "      <th>mb_used</th>\n",
       "    </tr>\n",
       "    <tr>\n",
       "      <th>tariff_name</th>\n",
       "      <th>month</th>\n",
       "      <th></th>\n",
       "    </tr>\n",
       "  </thead>\n",
       "  <tbody>\n",
       "    <tr>\n",
       "      <th rowspan=\"12\" valign=\"top\">smart</th>\n",
       "      <th>1</th>\n",
       "      <td>297.0</td>\n",
       "    </tr>\n",
       "    <tr>\n",
       "      <th>2</th>\n",
       "      <td>687.0</td>\n",
       "    </tr>\n",
       "    <tr>\n",
       "      <th>3</th>\n",
       "      <td>1174.0</td>\n",
       "    </tr>\n",
       "    <tr>\n",
       "      <th>4</th>\n",
       "      <td>1528.0</td>\n",
       "    </tr>\n",
       "    <tr>\n",
       "      <th>5</th>\n",
       "      <td>2248.0</td>\n",
       "    </tr>\n",
       "    <tr>\n",
       "      <th>6</th>\n",
       "      <td>2621.0</td>\n",
       "    </tr>\n",
       "    <tr>\n",
       "      <th>7</th>\n",
       "      <td>3198.0</td>\n",
       "    </tr>\n",
       "    <tr>\n",
       "      <th>8</th>\n",
       "      <td>3944.0</td>\n",
       "    </tr>\n",
       "    <tr>\n",
       "      <th>9</th>\n",
       "      <td>4270.0</td>\n",
       "    </tr>\n",
       "    <tr>\n",
       "      <th>10</th>\n",
       "      <td>4972.0</td>\n",
       "    </tr>\n",
       "    <tr>\n",
       "      <th>11</th>\n",
       "      <td>5381.0</td>\n",
       "    </tr>\n",
       "    <tr>\n",
       "      <th>12</th>\n",
       "      <td>6145.0</td>\n",
       "    </tr>\n",
       "    <tr>\n",
       "      <th rowspan=\"12\" valign=\"top\">ultra</th>\n",
       "      <th>1</th>\n",
       "      <td>120.0</td>\n",
       "    </tr>\n",
       "    <tr>\n",
       "      <th>2</th>\n",
       "      <td>288.0</td>\n",
       "    </tr>\n",
       "    <tr>\n",
       "      <th>3</th>\n",
       "      <td>655.0</td>\n",
       "    </tr>\n",
       "    <tr>\n",
       "      <th>4</th>\n",
       "      <td>935.0</td>\n",
       "    </tr>\n",
       "    <tr>\n",
       "      <th>5</th>\n",
       "      <td>1302.0</td>\n",
       "    </tr>\n",
       "    <tr>\n",
       "      <th>6</th>\n",
       "      <td>1593.0</td>\n",
       "    </tr>\n",
       "    <tr>\n",
       "      <th>7</th>\n",
       "      <td>1869.0</td>\n",
       "    </tr>\n",
       "    <tr>\n",
       "      <th>8</th>\n",
       "      <td>2101.0</td>\n",
       "    </tr>\n",
       "    <tr>\n",
       "      <th>9</th>\n",
       "      <td>2214.0</td>\n",
       "    </tr>\n",
       "    <tr>\n",
       "      <th>10</th>\n",
       "      <td>2471.0</td>\n",
       "    </tr>\n",
       "    <tr>\n",
       "      <th>11</th>\n",
       "      <td>2657.0</td>\n",
       "    </tr>\n",
       "    <tr>\n",
       "      <th>12</th>\n",
       "      <td>3028.0</td>\n",
       "    </tr>\n",
       "  </tbody>\n",
       "</table>\n",
       "</div>"
      ],
      "text/plain": [
       "                   mb_used\n",
       "tariff_name month         \n",
       "smart       1        297.0\n",
       "            2        687.0\n",
       "            3       1174.0\n",
       "            4       1528.0\n",
       "            5       2248.0\n",
       "            6       2621.0\n",
       "            7       3198.0\n",
       "            8       3944.0\n",
       "            9       4270.0\n",
       "            10      4972.0\n",
       "            11      5381.0\n",
       "            12      6145.0\n",
       "ultra       1        120.0\n",
       "            2        288.0\n",
       "            3        655.0\n",
       "            4        935.0\n",
       "            5       1302.0\n",
       "            6       1593.0\n",
       "            7       1869.0\n",
       "            8       2101.0\n",
       "            9       2214.0\n",
       "            10      2471.0\n",
       "            11      2657.0\n",
       "            12      3028.0"
      ]
     },
     "metadata": {},
     "output_type": "display_data"
    }
   ],
   "source": [
    "report_gb_used = df_up.groupby(['tariff_name','month']).agg({'mb_used':'sum'})\n",
    "display(report_gb_used)#сгруппировали данные по тарифу и месяцам"
   ]
  },
  {
   "cell_type": "code",
   "execution_count": 152,
   "metadata": {},
   "outputs": [
    {
     "data": {
      "image/png": "[encoded data removed]",
      "text/plain": [
       "<Figure size 432x288 with 1 Axes>"
      ]
     },
     "metadata": {
      "needs_background": "light"
     },
     "output_type": "display_data"
    }
   ],
   "source": [
    "report_gb_used.plot(y='mb_used',kind='bar',fontsize=10)\n",
    "plt.show()"
   ]
  },
  {
   "cell_type": "markdown",
   "metadata": {},
   "source": [
    "На диаграмме видно, что общее пользование интернетом увеличивается по обоим тарифам и одназначно в тарифе Smart им пользуются больше. Возможно это связано с увеличением кол-ва пользователей.. проверим этот пункт."
   ]
  },
  {
   "cell_type": "code",
   "execution_count": 153,
   "metadata": {},
   "outputs": [
    {
     "data": {
      "text/html": [
       "<div>\n",
       "<style scoped>\n",
       "    .dataframe tbody tr th:only-of-type {\n",
       "        vertical-align: middle;\n",
       "    }\n",
       "\n",
       "    .dataframe tbody tr th {\n",
       "        vertical-align: top;\n",
       "    }\n",
       "\n",
       "    .dataframe thead th {\n",
       "        text-align: right;\n",
       "    }\n",
       "</style>\n",
       "<table border=\"1\" class=\"dataframe\">\n",
       "  <thead>\n",
       "    <tr style=\"text-align: right;\">\n",
       "      <th></th>\n",
       "      <th></th>\n",
       "      <th>user_id</th>\n",
       "    </tr>\n",
       "    <tr>\n",
       "      <th>tariff_name</th>\n",
       "      <th>month</th>\n",
       "      <th></th>\n",
       "    </tr>\n",
       "  </thead>\n",
       "  <tbody>\n",
       "    <tr>\n",
       "      <th rowspan=\"12\" valign=\"top\">smart</th>\n",
       "      <th>1</th>\n",
       "      <td>43100</td>\n",
       "    </tr>\n",
       "    <tr>\n",
       "      <th>2</th>\n",
       "      <td>74292</td>\n",
       "    </tr>\n",
       "    <tr>\n",
       "      <th>3</th>\n",
       "      <td>96773</td>\n",
       "    </tr>\n",
       "    <tr>\n",
       "      <th>4</th>\n",
       "      <td>139655</td>\n",
       "    </tr>\n",
       "    <tr>\n",
       "      <th>5</th>\n",
       "      <td>174737</td>\n",
       "    </tr>\n",
       "    <tr>\n",
       "      <th>6</th>\n",
       "      <td>202197</td>\n",
       "    </tr>\n",
       "    <tr>\n",
       "      <th>7</th>\n",
       "      <td>248318</td>\n",
       "    </tr>\n",
       "    <tr>\n",
       "      <th>8</th>\n",
       "      <td>293309</td>\n",
       "    </tr>\n",
       "    <tr>\n",
       "      <th>9</th>\n",
       "      <td>325487</td>\n",
       "    </tr>\n",
       "    <tr>\n",
       "      <th>10</th>\n",
       "      <td>367519</td>\n",
       "    </tr>\n",
       "    <tr>\n",
       "      <th>11</th>\n",
       "      <td>393901</td>\n",
       "    </tr>\n",
       "    <tr>\n",
       "      <th>12</th>\n",
       "      <td>419175</td>\n",
       "    </tr>\n",
       "    <tr>\n",
       "      <th rowspan=\"8\" valign=\"top\">ultra</th>\n",
       "      <th>1</th>\n",
       "      <td>11658</td>\n",
       "    </tr>\n",
       "    <tr>\n",
       "      <th>2</th>\n",
       "      <td>31035</td>\n",
       "    </tr>\n",
       "    <tr>\n",
       "      <th>3</th>\n",
       "      <td>47322</td>\n",
       "    </tr>\n",
       "    <tr>\n",
       "      <th>4</th>\n",
       "      <td>69743</td>\n",
       "    </tr>\n",
       "    <tr>\n",
       "      <th>5</th>\n",
       "      <td>84265</td>\n",
       "    </tr>\n",
       "    <tr>\n",
       "      <th>6</th>\n",
       "      <td>105590</td>\n",
       "    </tr>\n",
       "    <tr>\n",
       "      <th>7</th>\n",
       "      <td>114965</td>\n",
       "    </tr>\n",
       "    <tr>\n",
       "      <th>8</th>\n",
       "      <td>135133</td>\n",
       "    </tr>\n",
       "  </tbody>\n",
       "</table>\n",
       "</div>"
      ],
      "text/plain": [
       "                   user_id\n",
       "tariff_name month         \n",
       "smart       1        43100\n",
       "            2        74292\n",
       "            3        96773\n",
       "            4       139655\n",
       "            5       174737\n",
       "            6       202197\n",
       "            7       248318\n",
       "            8       293309\n",
       "            9       325487\n",
       "            10      367519\n",
       "            11      393901\n",
       "            12      419175\n",
       "ultra       1        11658\n",
       "            2        31035\n",
       "            3        47322\n",
       "            4        69743\n",
       "            5        84265\n",
       "            6       105590\n",
       "            7       114965\n",
       "            8       135133"
      ]
     },
     "execution_count": 153,
     "metadata": {},
     "output_type": "execute_result"
    }
   ],
   "source": [
    "report_users_month = df_up.groupby(['tariff_name','month']).agg({'user_id':'sum'})\n",
    "report_users_month.head(20)"
   ]
  },
  {
   "cell_type": "code",
   "execution_count": 154,
   "metadata": {},
   "outputs": [
    {
     "data": {
      "image/png": "[encoded data removed]",
      "text/plain": [
       "<Figure size 432x288 with 1 Axes>"
      ]
     },
     "metadata": {
      "needs_background": "light"
     },
     "output_type": "display_data"
    }
   ],
   "source": [
    "report_users_month.plot(y='user_id',kind='bar',fontsize=10)\n",
    "plt.show()"
   ]
  },
  {
   "cell_type": "markdown",
   "metadata": {},
   "source": [
    "Наше предположение о росте кол-ва абонентов в тарифе Smart подтвердилось"
   ]
  },
  {
   "cell_type": "markdown",
   "metadata": {},
   "source": [
    "Вывод по поведению пользователей:"
   ]
  },
  {
   "cell_type": "markdown",
   "metadata": {},
   "source": [
    "После анализа данных по пользователям в рамках двух тарифов Smart и Ultra можно утверждать, что: \n",
    "- кол-во пользователей увеличивается от месяца к месяцу по обоим тарифа, но Smart обгоняет Ultra, так как на начало 2018 года было  всего 35 пользователей ,к концу 337, тариф Ultra в январе выбрало 9 пользователей, в декабре их было уже 139.\n",
    "- каждый тариф состоит из трех основных услуг: звонки, сообщения и интернет трафик. Пользователи обоих тарифов не выходят за рамки отведенных минут и сообщений, однако пакетного интерент трафика не хватает всем.\n",
    "- среднее количество минут 418 и 527 у пользователей Smart и Ultra соответственно, принииая во внимание, что у первого тарифа 500 мин включено, у второго 3000, самые продолжительные звонки 1435 и 1673 в тарифах Smart  и Ultra соответственно."
   ]
  },
  {
   "cell_type": "markdown",
   "metadata": {},
   "source": [
    "Расчет среднего дисперсии и стандартного отколонения"
   ]
  },
  {
   "cell_type": "code",
   "execution_count": 155,
   "metadata": {},
   "outputs": [
    {
     "data": {
      "text/html": [
       "<style  type=\"text/css\" >\n",
       "</style><table id=\"T_990fa_\" ><thead>    <tr>        <th class=\"blank level0\" ></th>        <th class=\"col_heading level0 col0\" colspan=\"3\">duration</th>        <th class=\"col_heading level0 col3\" colspan=\"3\">mb_used</th>        <th class=\"col_heading level0 col6\" colspan=\"3\">id</th>    </tr>    <tr>        <th class=\"blank level1\" ></th>        <th class=\"col_heading level1 col0\" >var</th>        <th class=\"col_heading level1 col1\" >mean</th>        <th class=\"col_heading level1 col2\" >std</th>        <th class=\"col_heading level1 col3\" >var</th>        <th class=\"col_heading level1 col4\" >mean</th>        <th class=\"col_heading level1 col5\" >std</th>        <th class=\"col_heading level1 col6\" >var</th>        <th class=\"col_heading level1 col7\" >mean</th>        <th class=\"col_heading level1 col8\" >std</th>    </tr>    <tr>        <th class=\"index_name level0\" >tariff</th>        <th class=\"blank\" ></th>        <th class=\"blank\" ></th>        <th class=\"blank\" ></th>        <th class=\"blank\" ></th>        <th class=\"blank\" ></th>        <th class=\"blank\" ></th>        <th class=\"blank\" ></th>        <th class=\"blank\" ></th>        <th class=\"blank\" ></th>    </tr></thead><tbody>\n",
       "                <tr>\n",
       "                        <th id=\"T_990fa_level0_row0\" class=\"row_heading level0 row0\" >smart</th>\n",
       "                        <td id=\"T_990fa_row0_col0\" class=\"data row0 col0\" >35844</td>\n",
       "                        <td id=\"T_990fa_row0_col1\" class=\"data row0 col1\" >419</td>\n",
       "                        <td id=\"T_990fa_row0_col2\" class=\"data row0 col2\" >189</td>\n",
       "                        <td id=\"T_990fa_row0_col3\" class=\"data row0 col3\" >33</td>\n",
       "                        <td id=\"T_990fa_row0_col4\" class=\"data row0 col4\" >16</td>\n",
       "                        <td id=\"T_990fa_row0_col5\" class=\"data row0 col5\" >6</td>\n",
       "                        <td id=\"T_990fa_row0_col6\" class=\"data row0 col6\" >718</td>\n",
       "                        <td id=\"T_990fa_row0_col7\" class=\"data row0 col7\" >39</td>\n",
       "                        <td id=\"T_990fa_row0_col8\" class=\"data row0 col8\" >27</td>\n",
       "            </tr>\n",
       "            <tr>\n",
       "                        <th id=\"T_990fa_level0_row1\" class=\"row_heading level0 row1\" >ultra</th>\n",
       "                        <td id=\"T_990fa_row1_col0\" class=\"data row1 col0\" >94203</td>\n",
       "                        <td id=\"T_990fa_row1_col1\" class=\"data row1 col1\" >545</td>\n",
       "                        <td id=\"T_990fa_row1_col2\" class=\"data row1 col2\" >307</td>\n",
       "                        <td id=\"T_990fa_row1_col3\" class=\"data row1 col3\" >94</td>\n",
       "                        <td id=\"T_990fa_row1_col4\" class=\"data row1 col4\" >20</td>\n",
       "                        <td id=\"T_990fa_row1_col5\" class=\"data row1 col5\" >10</td>\n",
       "                        <td id=\"T_990fa_row1_col6\" class=\"data row1 col6\" >2110</td>\n",
       "                        <td id=\"T_990fa_row1_col7\" class=\"data row1 col7\" >61</td>\n",
       "                        <td id=\"T_990fa_row1_col8\" class=\"data row1 col8\" >46</td>\n",
       "            </tr>\n",
       "    </tbody></table>"
      ],
      "text/plain": [
       "<pandas.io.formats.style.Styler at 0x7fa5f0e98b80>"
      ]
     },
     "execution_count": 155,
     "metadata": {},
     "output_type": "execute_result"
    }
   ],
   "source": [
    "df_up.groupby('tariff')[['duration', 'mb_used', 'id']].agg({'mean', 'var', 'std'}).style.format('{:.0f}')\n",
    "# вычисление дисперсии,стандартного отклонения и среднего значения"
   ]
  },
  {
   "cell_type": "markdown",
   "metadata": {},
   "source": [
    "Мы высчитали три метрики: дисперсия, стандартное отклонение и среднее значение.\n",
    "У тарифа Ultra стандартное отклонение (мин - 307, интернет - 10, сообщения - 46)больше, чем у тарифа Smart, это говорит о том что разброс данных больше, они находятся дальшего от среднего значения."
   ]
  },
  {
   "cell_type": "code",
   "execution_count": 156,
   "metadata": {},
   "outputs": [
    {
     "data": {
      "image/png": "[encoded data removed]",
      "text/plain": [
       "<Figure size 1080x504 with 3 Axes>"
      ]
     },
     "metadata": {
      "needs_background": "light"
     },
     "output_type": "display_data"
    }
   ],
   "source": [
    " params=['duration', 'mb_used', 'id']\n",
    "col_count, row_count = 2,2\n",
    "\n",
    "plt.figure(figsize = (15,7))\n",
    "\n",
    "for i,param in enumerate(params):\n",
    "    for tariff in df_up['tariff'].unique():\n",
    "        current = df_up.query('tariff == @tariff')\n",
    "        seaborn.distplot(current[param], label = tariff,\n",
    "                     ax = plt.subplot(row_count,col_count, i + 1)\n",
    "                    )\n",
    "    plt.title(param)\n",
    "plt.suptitle('Распределения параметров с разбивкой по тарифам')\n",
    "plt.tight_layout()\n",
    "plt.show()"
   ]
  },
  {
   "cell_type": "markdown",
   "metadata": {},
   "source": [
    "Данные в тарифе 'smart' имеют нормальное распределение, в то время как в 'ultra' более растянуто по оси x"
   ]
  },
  {
   "cell_type": "markdown",
   "metadata": {},
   "source": [
    "Smart"
   ]
  },
  {
   "cell_type": "code",
   "execution_count": 158,
   "metadata": {},
   "outputs": [
    {
     "data": {
      "image/png": "[encoded data removed]",
      "text/plain": [
       "<Figure size 432x288 with 1 Axes>"
      ]
     },
     "metadata": {
      "needs_background": "light"
     },
     "output_type": "display_data"
    }
   ],
   "source": [
    "report_smart = df_up.query('tariff_name == \"smart\"')\n",
    "report_smart['duration'].hist(bins=100,range=(0,1500))\n",
    "plt.show()"
   ]
  },
  {
   "cell_type": "markdown",
   "metadata": {},
   "source": [
    "На гистограмме duration тарифа smart виден скос влево, и что бОльшая часть значений находится в диапазоне от 200 до 580 мин. Однако встречаются редкие значения и в 1000,  и даже в 1435 мин. "
   ]
  },
  {
   "cell_type": "code",
   "execution_count": 165,
   "metadata": {},
   "outputs": [
    {
     "data": {
      "image/png": "[encoded data removed]",
      "text/plain": [
       "<Figure size 432x288 with 2 Axes>"
      ]
     },
     "metadata": {
      "needs_background": "light"
     },
     "output_type": "display_data"
    }
   ],
   "source": [
    "report_smart[['mb_used', 'id']].hist(bins=50,range=(0,150))\n",
    "plt.show()"
   ]
  },
  {
   "cell_type": "markdown",
   "metadata": {},
   "source": [
    "Ultra"
   ]
  },
  {
   "cell_type": "code",
   "execution_count": 167,
   "metadata": {},
   "outputs": [
    {
     "data": {
      "text/html": [
       "<div>\n",
       "<style scoped>\n",
       "    .dataframe tbody tr th:only-of-type {\n",
       "        vertical-align: middle;\n",
       "    }\n",
       "\n",
       "    .dataframe tbody tr th {\n",
       "        vertical-align: top;\n",
       "    }\n",
       "\n",
       "    .dataframe thead th {\n",
       "        text-align: right;\n",
       "    }\n",
       "</style>\n",
       "<table border=\"1\" class=\"dataframe\">\n",
       "  <thead>\n",
       "    <tr style=\"text-align: right;\">\n",
       "      <th></th>\n",
       "      <th>user_id</th>\n",
       "      <th>month</th>\n",
       "      <th>duration</th>\n",
       "      <th>id</th>\n",
       "      <th>mb_used</th>\n",
       "      <th>age</th>\n",
       "      <th>churn_date</th>\n",
       "      <th>city</th>\n",
       "      <th>first_name</th>\n",
       "      <th>last_name</th>\n",
       "      <th>...</th>\n",
       "      <th>tariff</th>\n",
       "      <th>messages_included</th>\n",
       "      <th>mb_per_month_included</th>\n",
       "      <th>minutes_included</th>\n",
       "      <th>rub_monthly_fee</th>\n",
       "      <th>rub_per_gb</th>\n",
       "      <th>rub_per_message</th>\n",
       "      <th>rub_per_minute</th>\n",
       "      <th>tariff_name</th>\n",
       "      <th>all_sum</th>\n",
       "    </tr>\n",
       "  </thead>\n",
       "  <tbody>\n",
       "    <tr>\n",
       "      <th>0</th>\n",
       "      <td>1000</td>\n",
       "      <td>5</td>\n",
       "      <td>159.0</td>\n",
       "      <td>22.0</td>\n",
       "      <td>3.0</td>\n",
       "      <td>52</td>\n",
       "      <td>NaN</td>\n",
       "      <td>Краснодар</td>\n",
       "      <td>Рафаил</td>\n",
       "      <td>Верещагин</td>\n",
       "      <td>...</td>\n",
       "      <td>ultra</td>\n",
       "      <td>1000</td>\n",
       "      <td>30720</td>\n",
       "      <td>3000</td>\n",
       "      <td>1950</td>\n",
       "      <td>150</td>\n",
       "      <td>1</td>\n",
       "      <td>1</td>\n",
       "      <td>ultra</td>\n",
       "      <td>1950.0</td>\n",
       "    </tr>\n",
       "    <tr>\n",
       "      <th>1</th>\n",
       "      <td>1000</td>\n",
       "      <td>6</td>\n",
       "      <td>172.0</td>\n",
       "      <td>60.0</td>\n",
       "      <td>23.0</td>\n",
       "      <td>52</td>\n",
       "      <td>NaN</td>\n",
       "      <td>Краснодар</td>\n",
       "      <td>Рафаил</td>\n",
       "      <td>Верещагин</td>\n",
       "      <td>...</td>\n",
       "      <td>ultra</td>\n",
       "      <td>1000</td>\n",
       "      <td>30720</td>\n",
       "      <td>3000</td>\n",
       "      <td>1950</td>\n",
       "      <td>150</td>\n",
       "      <td>1</td>\n",
       "      <td>1</td>\n",
       "      <td>ultra</td>\n",
       "      <td>1950.0</td>\n",
       "    </tr>\n",
       "    <tr>\n",
       "      <th>2</th>\n",
       "      <td>1000</td>\n",
       "      <td>7</td>\n",
       "      <td>340.0</td>\n",
       "      <td>75.0</td>\n",
       "      <td>14.0</td>\n",
       "      <td>52</td>\n",
       "      <td>NaN</td>\n",
       "      <td>Краснодар</td>\n",
       "      <td>Рафаил</td>\n",
       "      <td>Верещагин</td>\n",
       "      <td>...</td>\n",
       "      <td>ultra</td>\n",
       "      <td>1000</td>\n",
       "      <td>30720</td>\n",
       "      <td>3000</td>\n",
       "      <td>1950</td>\n",
       "      <td>150</td>\n",
       "      <td>1</td>\n",
       "      <td>1</td>\n",
       "      <td>ultra</td>\n",
       "      <td>1950.0</td>\n",
       "    </tr>\n",
       "    <tr>\n",
       "      <th>3</th>\n",
       "      <td>1000</td>\n",
       "      <td>8</td>\n",
       "      <td>408.0</td>\n",
       "      <td>81.0</td>\n",
       "      <td>14.0</td>\n",
       "      <td>52</td>\n",
       "      <td>NaN</td>\n",
       "      <td>Краснодар</td>\n",
       "      <td>Рафаил</td>\n",
       "      <td>Верещагин</td>\n",
       "      <td>...</td>\n",
       "      <td>ultra</td>\n",
       "      <td>1000</td>\n",
       "      <td>30720</td>\n",
       "      <td>3000</td>\n",
       "      <td>1950</td>\n",
       "      <td>150</td>\n",
       "      <td>1</td>\n",
       "      <td>1</td>\n",
       "      <td>ultra</td>\n",
       "      <td>1950.0</td>\n",
       "    </tr>\n",
       "    <tr>\n",
       "      <th>4</th>\n",
       "      <td>1000</td>\n",
       "      <td>9</td>\n",
       "      <td>466.0</td>\n",
       "      <td>57.0</td>\n",
       "      <td>15.0</td>\n",
       "      <td>52</td>\n",
       "      <td>NaN</td>\n",
       "      <td>Краснодар</td>\n",
       "      <td>Рафаил</td>\n",
       "      <td>Верещагин</td>\n",
       "      <td>...</td>\n",
       "      <td>ultra</td>\n",
       "      <td>1000</td>\n",
       "      <td>30720</td>\n",
       "      <td>3000</td>\n",
       "      <td>1950</td>\n",
       "      <td>150</td>\n",
       "      <td>1</td>\n",
       "      <td>1</td>\n",
       "      <td>ultra</td>\n",
       "      <td>1950.0</td>\n",
       "    </tr>\n",
       "  </tbody>\n",
       "</table>\n",
       "<p>5 rows × 21 columns</p>\n",
       "</div>"
      ],
      "text/plain": [
       "   user_id  month  duration    id  mb_used  age churn_date       city  \\\n",
       "0     1000      5     159.0  22.0      3.0   52        NaN  Краснодар   \n",
       "1     1000      6     172.0  60.0     23.0   52        NaN  Краснодар   \n",
       "2     1000      7     340.0  75.0     14.0   52        NaN  Краснодар   \n",
       "3     1000      8     408.0  81.0     14.0   52        NaN  Краснодар   \n",
       "4     1000      9     466.0  57.0     15.0   52        NaN  Краснодар   \n",
       "\n",
       "  first_name  last_name  ... tariff messages_included  mb_per_month_included  \\\n",
       "0     Рафаил  Верещагин  ...  ultra              1000                  30720   \n",
       "1     Рафаил  Верещагин  ...  ultra              1000                  30720   \n",
       "2     Рафаил  Верещагин  ...  ultra              1000                  30720   \n",
       "3     Рафаил  Верещагин  ...  ultra              1000                  30720   \n",
       "4     Рафаил  Верещагин  ...  ultra              1000                  30720   \n",
       "\n",
       "   minutes_included  rub_monthly_fee  rub_per_gb  rub_per_message  \\\n",
       "0              3000             1950         150                1   \n",
       "1              3000             1950         150                1   \n",
       "2              3000             1950         150                1   \n",
       "3              3000             1950         150                1   \n",
       "4              3000             1950         150                1   \n",
       "\n",
       "   rub_per_minute  tariff_name all_sum  \n",
       "0               1        ultra  1950.0  \n",
       "1               1        ultra  1950.0  \n",
       "2               1        ultra  1950.0  \n",
       "3               1        ultra  1950.0  \n",
       "4               1        ultra  1950.0  \n",
       "\n",
       "[5 rows x 21 columns]"
      ]
     },
     "metadata": {},
     "output_type": "display_data"
    },
    {
     "data": {
      "text/html": [
       "<div>\n",
       "<style scoped>\n",
       "    .dataframe tbody tr th:only-of-type {\n",
       "        vertical-align: middle;\n",
       "    }\n",
       "\n",
       "    .dataframe tbody tr th {\n",
       "        vertical-align: top;\n",
       "    }\n",
       "\n",
       "    .dataframe thead th {\n",
       "        text-align: right;\n",
       "    }\n",
       "</style>\n",
       "<table border=\"1\" class=\"dataframe\">\n",
       "  <thead>\n",
       "    <tr style=\"text-align: right;\">\n",
       "      <th></th>\n",
       "      <th>duration</th>\n",
       "      <th>mb_used</th>\n",
       "      <th>id</th>\n",
       "    </tr>\n",
       "  </thead>\n",
       "  <tbody>\n",
       "    <tr>\n",
       "      <th>count</th>\n",
       "      <td>951.000000</td>\n",
       "      <td>975.000000</td>\n",
       "      <td>795.000000</td>\n",
       "    </tr>\n",
       "    <tr>\n",
       "      <th>mean</th>\n",
       "      <td>545.451104</td>\n",
       "      <td>19.726154</td>\n",
       "      <td>61.161006</td>\n",
       "    </tr>\n",
       "    <tr>\n",
       "      <th>std</th>\n",
       "      <td>306.925754</td>\n",
       "      <td>9.714924</td>\n",
       "      <td>45.931026</td>\n",
       "    </tr>\n",
       "    <tr>\n",
       "      <th>min</th>\n",
       "      <td>0.000000</td>\n",
       "      <td>0.000000</td>\n",
       "      <td>1.000000</td>\n",
       "    </tr>\n",
       "    <tr>\n",
       "      <th>25%</th>\n",
       "      <td>310.000000</td>\n",
       "      <td>12.000000</td>\n",
       "      <td>24.000000</td>\n",
       "    </tr>\n",
       "    <tr>\n",
       "      <th>50%</th>\n",
       "      <td>528.000000</td>\n",
       "      <td>19.000000</td>\n",
       "      <td>51.000000</td>\n",
       "    </tr>\n",
       "    <tr>\n",
       "      <th>75%</th>\n",
       "      <td>756.500000</td>\n",
       "      <td>27.000000</td>\n",
       "      <td>87.500000</td>\n",
       "    </tr>\n",
       "    <tr>\n",
       "      <th>max</th>\n",
       "      <td>1673.000000</td>\n",
       "      <td>49.000000</td>\n",
       "      <td>224.000000</td>\n",
       "    </tr>\n",
       "  </tbody>\n",
       "</table>\n",
       "</div>"
      ],
      "text/plain": [
       "          duration     mb_used          id\n",
       "count   951.000000  975.000000  795.000000\n",
       "mean    545.451104   19.726154   61.161006\n",
       "std     306.925754    9.714924   45.931026\n",
       "min       0.000000    0.000000    1.000000\n",
       "25%     310.000000   12.000000   24.000000\n",
       "50%     528.000000   19.000000   51.000000\n",
       "75%     756.500000   27.000000   87.500000\n",
       "max    1673.000000   49.000000  224.000000"
      ]
     },
     "execution_count": 167,
     "metadata": {},
     "output_type": "execute_result"
    }
   ],
   "source": [
    "report_ultra= df_up.query('tariff_name == \"ultra\"')#сделали срез по тарифу Ultra\n",
    "display(report_ultra.head())\n",
    "report_ultra[['duration','mb_used', 'id']].describe()#Вывели описание"
   ]
  },
  {
   "cell_type": "markdown",
   "metadata": {},
   "source": [
    "В тарифе Ultra разброс:\n",
    "\n",
    "* мин разговора от 0 до 1673, принимая во внимание, что включено в пакет 3000 мин, среднее 528 мин.\n",
    "* интернет трафика от 0 до 49 Гб при включенных 31 Гб в тарифный план, среднее значение 19 Гб.\n",
    "* кол-во сообщений от 0до 224 при включенных 1000 сообщениях, среднее количество 51 сообщений"
   ]
  },
  {
   "cell_type": "code",
   "execution_count": 168,
   "metadata": {},
   "outputs": [
    {
     "data": {
      "image/png": "[encoded data removed]",
      "text/plain": [
       "<Figure size 432x288 with 1 Axes>"
      ]
     },
     "metadata": {
      "needs_background": "light"
     },
     "output_type": "display_data"
    }
   ],
   "source": [
    "report_ultra['duration'].hist(bins=100,range=(0,1700))\n",
    "plt.show()"
   ]
  },
  {
   "cell_type": "markdown",
   "metadata": {},
   "source": [
    "На гистограмме распределения звонков в тарифе Ultra видно несколько пиков, один на значении 0 - это пропущенные звонки. Основное кол-во звонков находится в диапазоне от 100 до 900 мин."
   ]
  },
  {
   "cell_type": "code",
   "execution_count": 171,
   "metadata": {},
   "outputs": [
    {
     "data": {
      "image/png": "[encoded data removed]",
      "text/plain": [
       "<Figure size 432x288 with 2 Axes>"
      ]
     },
     "metadata": {
      "needs_background": "light"
     },
     "output_type": "display_data"
    }
   ],
   "source": [
    "report_smart[['mb_used', 'id']].hist(bins=50,range=(0,250))\n",
    "plt.show()"
   ]
  },
  {
   "cell_type": "markdown",
   "metadata": {},
   "source": [
    "В тарифе Ultra объем использования трафика лежит в диапазоне от 10 до 35Гб. Распределения сообщений так же имеет несколько пиков, первый на 0, клинеты не отправляют сообщения вообще, а большая часть значений находится в диапазоне от 10 до 60 сообщений."
   ]
  },
  {
   "cell_type": "markdown",
   "metadata": {},
   "source": [
    "SMART"
   ]
  },
  {
   "cell_type": "markdown",
   "metadata": {},
   "source": [
    "Так как нам необходимо сделать срезы в соответствии с тарифом, будем использовать последний сборный датафрейм"
   ]
  },
  {
   "cell_type": "markdown",
   "metadata": {},
   "source": [
    "Исследование звонков"
   ]
  },
  {
   "cell_type": "code",
   "execution_count": 160,
   "metadata": {},
   "outputs": [
    {
     "data": {
      "image/png": "[encoded data removed]",
      "text/plain": [
       "<Figure size 720x504 with 1 Axes>"
      ]
     },
     "metadata": {
      "needs_background": "light"
     },
     "output_type": "display_data"
    }
   ],
   "source": [
    "calls_only_smart.plot(kind='hist', title='Звонки(статистика по месяцам)', bins=12, grid=True, range=(1,1500), alpha=0.3, \n",
    "                      figsize=(10, 7))\n",
    "plt.ylabel('количество пользователей')\n",
    "plt.xlabel('минуты')\n",
    "plt.show()"
   ]
  },
  {
   "cell_type": "code",
   "execution_count": 24,
   "metadata": {},
   "outputs": [
    {
     "data": {
      "text/plain": [
       "calls_sum_1     203.852941\n",
       "calls_sum_2     298.689655\n",
       "calls_sum_3     390.051948\n",
       "calls_sum_4     367.133929\n",
       "calls_sum_5     387.361702\n",
       "calls_sum_6     398.067485\n",
       "calls_sum_7     408.353234\n",
       "calls_sum_8     423.269231\n",
       "calls_sum_9     430.266409\n",
       "calls_sum_10    427.590444\n",
       "calls_sum_11    436.647619\n",
       "calls_sum_12    479.985119\n",
       "mean            420.840147\n",
       "dtype: float64"
      ]
     },
     "metadata": {},
     "output_type": "display_data"
    },
    {
     "data": {
      "text/plain": [
       "calls_sum_1     23787.341355\n",
       "calls_sum_2     36412.287961\n",
       "calls_sum_3     36823.155161\n",
       "calls_sum_4     34778.207127\n",
       "calls_sum_5     34820.061094\n",
       "calls_sum_6     29960.520109\n",
       "calls_sum_7     32250.269602\n",
       "calls_sum_8     34177.270551\n",
       "calls_sum_9     32950.529526\n",
       "calls_sum_10    34889.530319\n",
       "calls_sum_11    31100.611101\n",
       "calls_sum_12    39131.447539\n",
       "mean            20584.704491\n",
       "dtype: float64"
      ]
     },
     "metadata": {},
     "output_type": "display_data"
    },
    {
     "data": {
      "text/plain": [
       "calls_sum_1     154.231454\n",
       "calls_sum_2     190.820041\n",
       "calls_sum_3     191.893604\n",
       "calls_sum_4     186.489161\n",
       "calls_sum_5     186.601343\n",
       "calls_sum_6     173.091075\n",
       "calls_sum_7     179.583601\n",
       "calls_sum_8     184.870956\n",
       "calls_sum_9     181.522807\n",
       "calls_sum_10    186.787393\n",
       "calls_sum_11    176.353653\n",
       "calls_sum_12    197.816702\n",
       "mean            143.473707\n",
       "dtype: float64"
      ]
     },
     "metadata": {},
     "output_type": "display_data"
    }
   ],
   "source": [
    "display(calls_only_smart.mean()) #Расчет среднего по столбцам\n",
    "display(calls_only_smart.var()) #Расчет дисперсии по столбцам\n",
    "display(calls_only_smart.std()) #Расчет стандартного отклонения по столбцам"
   ]
  },
  {
   "cell_type": "markdown",
   "metadata": {},
   "source": [
    "Исследование сообщений"
   ]
  },
  {
   "cell_type": "code",
   "execution_count": 25,
   "metadata": {},
   "outputs": [
    {
     "data": {
      "image/png": "[encoded data removed]",
      "text/plain": [
       "<Figure size 720x504 with 1 Axes>"
      ]
     },
     "metadata": {
      "needs_background": "light"
     },
     "output_type": "display_data"
    }
   ],
   "source": [
    "messages_only_smart.plot(kind='hist', title='Сообщения(статистика по месяцам)', bins=12, grid=True, range=(1,160), alpha=0.3, \n",
    "                      figsize=(10, 7))\n",
    "plt.ylabel('количество пользователей')\n",
    "plt.xlabel('количество сообщений')\n",
    "plt.show()"
   ]
  },
  {
   "cell_type": "code",
   "execution_count": 26,
   "metadata": {},
   "outputs": [
    {
     "data": {
      "image/png": "[encoded data removed]",
      "text/plain": [
       "<Figure size 720x504 with 1 Axes>"
      ]
     },
     "metadata": {
      "needs_background": "light"
     },
     "output_type": "display_data"
    }
   ],
   "source": [
    "messages_only_smart['mean'] = messages_only_smart.apply(pd.DataFrame.mean, axis=1)\n",
    "messages_only_smart['mean'].plot(kind='hist', title='Сообщения(статистика за год)', bins=12, grid=True, range=(1,130), \n",
    "                              figsize=(10, 7))\n",
    "plt.ylabel('количество пользователей')\n",
    "plt.xlabel('количество сообщений')\n",
    "plt.show()"
   ]
  },
  {
   "cell_type": "code",
   "execution_count": 27,
   "metadata": {},
   "outputs": [
    {
     "data": {
      "text/plain": [
       "messages_count_1     20.000000\n",
       "messages_count_2     27.940000\n",
       "messages_count_3     35.550725\n",
       "messages_count_4     35.864583\n",
       "messages_count_5     39.032787\n",
       "messages_count_6     38.577465\n",
       "messages_count_7     38.988506\n",
       "messages_count_8     38.750000\n",
       "messages_count_9     39.219731\n",
       "messages_count_10    39.082677\n",
       "messages_count_11    39.881481\n",
       "messages_count_12    42.264808\n",
       "mean                 37.575606\n",
       "dtype: float64"
      ]
     },
     "metadata": {},
     "output_type": "display_data"
    },
    {
     "data": {
      "text/plain": [
       "messages_count_1     252.133333\n",
       "messages_count_2     440.465714\n",
       "messages_count_3     669.780477\n",
       "messages_count_4     517.865680\n",
       "messages_count_5     638.775776\n",
       "messages_count_6     731.635801\n",
       "messages_count_7     719.352468\n",
       "messages_count_8     767.213054\n",
       "messages_count_9     702.505555\n",
       "messages_count_10    736.503019\n",
       "messages_count_11    711.361366\n",
       "messages_count_12    832.447114\n",
       "mean                 617.509497\n",
       "dtype: float64"
      ]
     },
     "metadata": {},
     "output_type": "display_data"
    },
    {
     "data": {
      "text/plain": [
       "messages_count_1     15.878707\n",
       "messages_count_2     20.987275\n",
       "messages_count_3     25.880117\n",
       "messages_count_4     22.756662\n",
       "messages_count_5     25.274014\n",
       "messages_count_6     27.048767\n",
       "messages_count_7     26.820747\n",
       "messages_count_8     27.698611\n",
       "messages_count_9     26.504821\n",
       "messages_count_10    27.138589\n",
       "messages_count_11    26.671359\n",
       "messages_count_12    28.852160\n",
       "mean                 24.849738\n",
       "dtype: float64"
      ]
     },
     "metadata": {},
     "output_type": "display_data"
    }
   ],
   "source": [
    "display(messages_only_smart.mean()) #Расчет среднего по столбцам\n",
    "display(messages_only_smart.var()) #Расчет дисперсии по столбцам\n",
    "display(messages_only_smart.std()) #Расчет стандартного отклонения по столбцам"
   ]
  },
  {
   "cell_type": "markdown",
   "metadata": {},
   "source": [
    "Исследование: количество используемого интернета пользователями"
   ]
  },
  {
   "cell_type": "code",
   "execution_count": 28,
   "metadata": {},
   "outputs": [
    {
     "data": {
      "image/png": "[encoded data removed]",
      "text/plain": [
       "<Figure size 720x504 with 1 Axes>"
      ]
     },
     "metadata": {
      "needs_background": "light"
     },
     "output_type": "display_data"
    }
   ],
   "source": [
    "internet_only_smart.plot(kind='hist', title='Интернет(статистика по месяцам)', bins=12, grid=True, range=(1,42000), alpha=0.3, \n",
    "                      figsize=(10, 7))\n",
    "plt.ylabel('количество пользователей')\n",
    "plt.xlabel('Мб')\n",
    "plt.show()"
   ]
  },
  {
   "cell_type": "code",
   "execution_count": 29,
   "metadata": {},
   "outputs": [
    {
     "data": {
      "image/png": "[encoded data removed]",
      "text/plain": [
       "<Figure size 720x504 with 1 Axes>"
      ]
     },
     "metadata": {
      "needs_background": "light"
     },
     "output_type": "display_data"
    }
   ],
   "source": [
    "internet_only_smart['mean'] = internet_only_smart.apply(pd.DataFrame.mean, axis=1)\n",
    "internet_only_smart['mean'].plot(kind='hist', title='Интернет(статистика за год)', bins=12, grid=True, range=(5000,30000), \n",
    "                              figsize=(10, 7))\n",
    "plt.ylabel('количество пользователей')\n",
    "plt.xlabel('Мб')\n",
    "plt.show()"
   ]
  },
  {
   "cell_type": "code",
   "execution_count": 30,
   "metadata": {},
   "outputs": [
    {
     "data": {
      "text/plain": [
       "internet_sum_1      8524.441176\n",
       "internet_sum_2     11611.396552\n",
       "internet_sum_3     15123.857143\n",
       "internet_sum_4     13479.482143\n",
       "internet_sum_5     15825.198582\n",
       "internet_sum_6     15814.768293\n",
       "internet_sum_7     15763.512438\n",
       "internet_sum_8     16703.252137\n",
       "internet_sum_9     16324.526923\n",
       "internet_sum_10    16778.564626\n",
       "internet_sum_11    16917.531646\n",
       "internet_sum_12    18136.833828\n",
       "mean               16211.213491\n",
       "dtype: float64"
      ]
     },
     "metadata": {},
     "output_type": "display_data"
    },
    {
     "data": {
      "text/plain": [
       "internet_sum_1     4.162621e+07\n",
       "internet_sum_2     3.911935e+07\n",
       "internet_sum_3     3.405260e+07\n",
       "internet_sum_4     3.254736e+07\n",
       "internet_sum_5     3.582236e+07\n",
       "internet_sum_6     3.361642e+07\n",
       "internet_sum_7     3.486110e+07\n",
       "internet_sum_8     3.030580e+07\n",
       "internet_sum_9     2.706215e+07\n",
       "internet_sum_10    3.441711e+07\n",
       "internet_sum_11    2.858852e+07\n",
       "internet_sum_12    3.114083e+07\n",
       "mean               1.282807e+07\n",
       "dtype: float64"
      ]
     },
     "metadata": {},
     "output_type": "display_data"
    },
    {
     "data": {
      "text/plain": [
       "internet_sum_1     6451.837940\n",
       "internet_sum_2     6254.546293\n",
       "internet_sum_3     5835.460138\n",
       "internet_sum_4     5705.029114\n",
       "internet_sum_5     5985.177978\n",
       "internet_sum_6     5797.966469\n",
       "internet_sum_7     5904.328642\n",
       "internet_sum_8     5505.070456\n",
       "internet_sum_9     5202.129029\n",
       "internet_sum_10    5866.609964\n",
       "internet_sum_11    5346.823769\n",
       "internet_sum_12    5580.397230\n",
       "mean               3581.630188\n",
       "dtype: float64"
      ]
     },
     "metadata": {},
     "output_type": "display_data"
    }
   ],
   "source": [
    "display(internet_only_smart.mean()) #Расчет среднего по столбцам\n",
    "display(internet_only_smart.var()) #Расчет дисперсии по столбцам\n",
    "display(internet_only_smart.std()) #Расчет стандартного отклонения по столбцам"
   ]
  },
  {
   "cell_type": "markdown",
   "metadata": {},
   "source": [
    "Общий вывод по тарифу 'SMART'\n",
    "Пользователи тарифа 'SMART' в среднем тратят 420 минут из 500 входящих в стоимость тарифа. Стандартное отклонение равно 143.\n",
    "В случаи СМС показатели такие: среднее количество использованных сообщений равно 37, в то время как лимит 50. Стандартное отклонение 24.\n",
    "Услуги интернета более популярны, здесь в среднем пользователи тратят на 800 Мб больше чем доступно по тарифу (16211 -- 15360 Мб). Стандартное отклонение равно 3581 Мб. "
   ]
  },
  {
   "cell_type": "markdown",
   "metadata": {},
   "source": [
    "ULTRA"
   ]
  },
  {
   "cell_type": "code",
   "execution_count": 31,
   "metadata": {},
   "outputs": [
    {
     "data": {
      "text/html": [
       "<div>\n",
       "<style scoped>\n",
       "    .dataframe tbody tr th:only-of-type {\n",
       "        vertical-align: middle;\n",
       "    }\n",
       "\n",
       "    .dataframe tbody tr th {\n",
       "        vertical-align: top;\n",
       "    }\n",
       "\n",
       "    .dataframe thead th {\n",
       "        text-align: right;\n",
       "    }\n",
       "</style>\n",
       "<table border=\"1\" class=\"dataframe\">\n",
       "  <thead>\n",
       "    <tr style=\"text-align: right;\">\n",
       "      <th></th>\n",
       "      <th>calls_sum_1</th>\n",
       "      <th>calls_sum_2</th>\n",
       "      <th>calls_sum_3</th>\n",
       "      <th>calls_sum_4</th>\n",
       "      <th>calls_sum_5</th>\n",
       "      <th>calls_sum_6</th>\n",
       "      <th>calls_sum_7</th>\n",
       "      <th>calls_sum_8</th>\n",
       "      <th>calls_sum_9</th>\n",
       "      <th>calls_sum_10</th>\n",
       "      <th>calls_sum_11</th>\n",
       "      <th>calls_sum_12</th>\n",
       "    </tr>\n",
       "  </thead>\n",
       "  <tbody>\n",
       "    <tr>\n",
       "      <th>0</th>\n",
       "      <td>NaN</td>\n",
       "      <td>NaN</td>\n",
       "      <td>NaN</td>\n",
       "      <td>NaN</td>\n",
       "      <td>159.0</td>\n",
       "      <td>172.0</td>\n",
       "      <td>340.0</td>\n",
       "      <td>408.0</td>\n",
       "      <td>466.0</td>\n",
       "      <td>350.0</td>\n",
       "      <td>338.0</td>\n",
       "      <td>333.0</td>\n",
       "    </tr>\n",
       "    <tr>\n",
       "      <th>3</th>\n",
       "      <td>NaN</td>\n",
       "      <td>NaN</td>\n",
       "      <td>NaN</td>\n",
       "      <td>NaN</td>\n",
       "      <td>NaN</td>\n",
       "      <td>NaN</td>\n",
       "      <td>NaN</td>\n",
       "      <td>380.0</td>\n",
       "      <td>961.0</td>\n",
       "      <td>855.0</td>\n",
       "      <td>824.0</td>\n",
       "      <td>802.0</td>\n",
       "    </tr>\n",
       "    <tr>\n",
       "      <th>4</th>\n",
       "      <td>NaN</td>\n",
       "      <td>NaN</td>\n",
       "      <td>NaN</td>\n",
       "      <td>NaN</td>\n",
       "      <td>35.0</td>\n",
       "      <td>171.0</td>\n",
       "      <td>135.0</td>\n",
       "      <td>137.0</td>\n",
       "      <td>117.0</td>\n",
       "      <td>145.0</td>\n",
       "      <td>117.0</td>\n",
       "      <td>130.0</td>\n",
       "    </tr>\n",
       "  </tbody>\n",
       "</table>\n",
       "</div>"
      ],
      "text/plain": [
       "   calls_sum_1  calls_sum_2  calls_sum_3  calls_sum_4  calls_sum_5  \\\n",
       "0          NaN          NaN          NaN          NaN        159.0   \n",
       "3          NaN          NaN          NaN          NaN          NaN   \n",
       "4          NaN          NaN          NaN          NaN         35.0   \n",
       "\n",
       "   calls_sum_6  calls_sum_7  calls_sum_8  calls_sum_9  calls_sum_10  \\\n",
       "0        172.0        340.0        408.0        466.0         350.0   \n",
       "3          NaN          NaN        380.0        961.0         855.0   \n",
       "4        171.0        135.0        137.0        117.0         145.0   \n",
       "\n",
       "   calls_sum_11  calls_sum_12  \n",
       "0         338.0         333.0  \n",
       "3         824.0         802.0  \n",
       "4         117.0         130.0  "
      ]
     },
     "metadata": {},
     "output_type": "display_data"
    },
    {
     "data": {
      "text/html": [
       "<div>\n",
       "<style scoped>\n",
       "    .dataframe tbody tr th:only-of-type {\n",
       "        vertical-align: middle;\n",
       "    }\n",
       "\n",
       "    .dataframe tbody tr th {\n",
       "        vertical-align: top;\n",
       "    }\n",
       "\n",
       "    .dataframe thead th {\n",
       "        text-align: right;\n",
       "    }\n",
       "</style>\n",
       "<table border=\"1\" class=\"dataframe\">\n",
       "  <thead>\n",
       "    <tr style=\"text-align: right;\">\n",
       "      <th></th>\n",
       "      <th>messages_count_1</th>\n",
       "      <th>messages_count_2</th>\n",
       "      <th>messages_count_3</th>\n",
       "      <th>messages_count_4</th>\n",
       "      <th>messages_count_5</th>\n",
       "      <th>messages_count_6</th>\n",
       "      <th>messages_count_7</th>\n",
       "      <th>messages_count_8</th>\n",
       "      <th>messages_count_9</th>\n",
       "      <th>messages_count_10</th>\n",
       "      <th>messages_count_11</th>\n",
       "      <th>messages_count_12</th>\n",
       "    </tr>\n",
       "  </thead>\n",
       "  <tbody>\n",
       "    <tr>\n",
       "      <th>0</th>\n",
       "      <td>NaN</td>\n",
       "      <td>NaN</td>\n",
       "      <td>NaN</td>\n",
       "      <td>NaN</td>\n",
       "      <td>22.0</td>\n",
       "      <td>60.0</td>\n",
       "      <td>75.0</td>\n",
       "      <td>81.0</td>\n",
       "      <td>57.0</td>\n",
       "      <td>73.0</td>\n",
       "      <td>58.0</td>\n",
       "      <td>70.0</td>\n",
       "    </tr>\n",
       "    <tr>\n",
       "      <th>3</th>\n",
       "      <td>NaN</td>\n",
       "      <td>NaN</td>\n",
       "      <td>NaN</td>\n",
       "      <td>NaN</td>\n",
       "      <td>NaN</td>\n",
       "      <td>NaN</td>\n",
       "      <td>NaN</td>\n",
       "      <td>37.0</td>\n",
       "      <td>91.0</td>\n",
       "      <td>83.0</td>\n",
       "      <td>94.0</td>\n",
       "      <td>75.0</td>\n",
       "    </tr>\n",
       "    <tr>\n",
       "      <th>4</th>\n",
       "      <td>NaN</td>\n",
       "      <td>NaN</td>\n",
       "      <td>NaN</td>\n",
       "      <td>NaN</td>\n",
       "      <td>95.0</td>\n",
       "      <td>134.0</td>\n",
       "      <td>181.0</td>\n",
       "      <td>151.0</td>\n",
       "      <td>146.0</td>\n",
       "      <td>165.0</td>\n",
       "      <td>158.0</td>\n",
       "      <td>162.0</td>\n",
       "    </tr>\n",
       "  </tbody>\n",
       "</table>\n",
       "</div>"
      ],
      "text/plain": [
       "   messages_count_1  messages_count_2  messages_count_3  messages_count_4  \\\n",
       "0               NaN               NaN               NaN               NaN   \n",
       "3               NaN               NaN               NaN               NaN   \n",
       "4               NaN               NaN               NaN               NaN   \n",
       "\n",
       "   messages_count_5  messages_count_6  messages_count_7  messages_count_8  \\\n",
       "0              22.0              60.0              75.0              81.0   \n",
       "3               NaN               NaN               NaN              37.0   \n",
       "4              95.0             134.0             181.0             151.0   \n",
       "\n",
       "   messages_count_9  messages_count_10  messages_count_11  messages_count_12  \n",
       "0              57.0               73.0               58.0               70.0  \n",
       "3              91.0               83.0               94.0               75.0  \n",
       "4             146.0              165.0              158.0              162.0  "
      ]
     },
     "metadata": {},
     "output_type": "display_data"
    },
    {
     "data": {
      "text/html": [
       "<div>\n",
       "<style scoped>\n",
       "    .dataframe tbody tr th:only-of-type {\n",
       "        vertical-align: middle;\n",
       "    }\n",
       "\n",
       "    .dataframe tbody tr th {\n",
       "        vertical-align: top;\n",
       "    }\n",
       "\n",
       "    .dataframe thead th {\n",
       "        text-align: right;\n",
       "    }\n",
       "</style>\n",
       "<table border=\"1\" class=\"dataframe\">\n",
       "  <thead>\n",
       "    <tr style=\"text-align: right;\">\n",
       "      <th></th>\n",
       "      <th>internet_sum_1</th>\n",
       "      <th>internet_sum_2</th>\n",
       "      <th>internet_sum_3</th>\n",
       "      <th>internet_sum_4</th>\n",
       "      <th>internet_sum_5</th>\n",
       "      <th>internet_sum_6</th>\n",
       "      <th>internet_sum_7</th>\n",
       "      <th>internet_sum_8</th>\n",
       "      <th>internet_sum_9</th>\n",
       "      <th>internet_sum_10</th>\n",
       "      <th>internet_sum_11</th>\n",
       "      <th>internet_sum_12</th>\n",
       "    </tr>\n",
       "  </thead>\n",
       "  <tbody>\n",
       "    <tr>\n",
       "      <th>0</th>\n",
       "      <td>NaN</td>\n",
       "      <td>NaN</td>\n",
       "      <td>NaN</td>\n",
       "      <td>NaN</td>\n",
       "      <td>2256.0</td>\n",
       "      <td>23257.0</td>\n",
       "      <td>14016.0</td>\n",
       "      <td>14070.0</td>\n",
       "      <td>14581.0</td>\n",
       "      <td>14717.0</td>\n",
       "      <td>14768.0</td>\n",
       "      <td>9827.0</td>\n",
       "    </tr>\n",
       "    <tr>\n",
       "      <th>3</th>\n",
       "      <td>NaN</td>\n",
       "      <td>NaN</td>\n",
       "      <td>NaN</td>\n",
       "      <td>NaN</td>\n",
       "      <td>NaN</td>\n",
       "      <td>NaN</td>\n",
       "      <td>NaN</td>\n",
       "      <td>8571.0</td>\n",
       "      <td>12479.0</td>\n",
       "      <td>14779.0</td>\n",
       "      <td>11368.0</td>\n",
       "      <td>10132.0</td>\n",
       "    </tr>\n",
       "    <tr>\n",
       "      <th>4</th>\n",
       "      <td>NaN</td>\n",
       "      <td>NaN</td>\n",
       "      <td>NaN</td>\n",
       "      <td>NaN</td>\n",
       "      <td>13415.0</td>\n",
       "      <td>17619.0</td>\n",
       "      <td>22243.0</td>\n",
       "      <td>28607.0</td>\n",
       "      <td>15125.0</td>\n",
       "      <td>18494.0</td>\n",
       "      <td>15631.0</td>\n",
       "      <td>18038.0</td>\n",
       "    </tr>\n",
       "  </tbody>\n",
       "</table>\n",
       "</div>"
      ],
      "text/plain": [
       "   internet_sum_1  internet_sum_2  internet_sum_3  internet_sum_4  \\\n",
       "0             NaN             NaN             NaN             NaN   \n",
       "3             NaN             NaN             NaN             NaN   \n",
       "4             NaN             NaN             NaN             NaN   \n",
       "\n",
       "   internet_sum_5  internet_sum_6  internet_sum_7  internet_sum_8  \\\n",
       "0          2256.0         23257.0         14016.0         14070.0   \n",
       "3             NaN             NaN             NaN          8571.0   \n",
       "4         13415.0         17619.0         22243.0         28607.0   \n",
       "\n",
       "   internet_sum_9  internet_sum_10  internet_sum_11  internet_sum_12  \n",
       "0         14581.0          14717.0          14768.0           9827.0  \n",
       "3         12479.0          14779.0          11368.0          10132.0  \n",
       "4         15125.0          18494.0          15631.0          18038.0  "
      ]
     },
     "metadata": {},
     "output_type": "display_data"
    }
   ],
   "source": [
    "only_ultra = df_up[df_up['tariff'] == 'ultra']\n",
    "calls_only_ultra = only_ultra.loc[:, 'calls_sum_1':'calls_sum_12']\n",
    "messages_only_ultra = only_ultra.loc[:, 'messages_count_1':'messages_count_12']\n",
    "internet_only_ultra = only_ultra.loc[:, 'internet_sum_1':'internet_sum_12']\n",
    "display(calls_only_ultra.head(3))\n",
    "display(messages_only_ultra.head(3))\n",
    "display(internet_only_ultra.head(3))"
   ]
  },
  {
   "cell_type": "markdown",
   "metadata": {},
   "source": [
    "Исследование звонков"
   ]
  },
  {
   "cell_type": "code",
   "execution_count": 32,
   "metadata": {},
   "outputs": [
    {
     "data": {
      "image/png": "[encoded data removed]",
      "text/plain": [
       "<Figure size 720x504 with 1 Axes>"
      ]
     },
     "metadata": {
      "needs_background": "light"
     },
     "output_type": "display_data"
    }
   ],
   "source": [
    "calls_only_ultra.plot(kind='hist', title='Звонки(статистика по месяцам)', bins=12, grid=True, range=(1,1750), alpha=0.3, \n",
    "                      figsize=(10, 7))\n",
    "plt.ylabel('количество пользователей')\n",
    "plt.xlabel('минуты')\n",
    "plt.show()"
   ]
  },
  {
   "cell_type": "code",
   "execution_count": 33,
   "metadata": {},
   "outputs": [
    {
     "data": {
      "image/png": "[encoded data removed]",
      "text/plain": [
       "<Figure size 720x504 with 1 Axes>"
      ]
     },
     "metadata": {
      "needs_background": "light"
     },
     "output_type": "display_data"
    }
   ],
   "source": [
    "calls_only_ultra['mean'] = calls_only_ultra.apply(pd.DataFrame.mean, axis=1)\n",
    "calls_only_ultra['mean'].plot(kind='hist', title='Звонки(статистика за год)', bins=12, grid=True, range=(1,1200), \n",
    "                              figsize=(10, 7))\n",
    "plt.ylabel('количество пользователей')\n",
    "plt.xlabel('минуты')\n",
    "plt.show()"
   ]
  },
  {
   "cell_type": "code",
   "execution_count": 34,
   "metadata": {},
   "outputs": [
    {
     "data": {
      "text/plain": [
       "calls_sum_1     428.111111\n",
       "calls_sum_2     297.125000\n",
       "calls_sum_3     489.648649\n",
       "calls_sum_4     475.301887\n",
       "calls_sum_5     534.250000\n",
       "calls_sum_6     497.469136\n",
       "calls_sum_7     564.397727\n",
       "calls_sum_8     530.611650\n",
       "calls_sum_9     558.882883\n",
       "calls_sum_10    581.728814\n",
       "calls_sum_11    562.364341\n",
       "calls_sum_12    614.925373\n",
       "mean            546.685442\n",
       "dtype: float64"
      ]
     },
     "metadata": {},
     "output_type": "display_data"
    },
    {
     "data": {
      "text/plain": [
       "calls_sum_1      72769.361111\n",
       "calls_sum_2      87919.679348\n",
       "calls_sum_3     111384.900901\n",
       "calls_sum_4      66036.830189\n",
       "calls_sum_5      74881.015873\n",
       "calls_sum_6      86019.652160\n",
       "calls_sum_7      86952.587121\n",
       "calls_sum_8      91169.553588\n",
       "calls_sum_9      98597.904341\n",
       "calls_sum_10     97140.336086\n",
       "calls_sum_11     88449.624031\n",
       "calls_sum_12    107981.031983\n",
       "mean             72005.477289\n",
       "dtype: float64"
      ]
     },
     "metadata": {},
     "output_type": "display_data"
    },
    {
     "data": {
      "text/plain": [
       "calls_sum_1     269.757968\n",
       "calls_sum_2     296.512528\n",
       "calls_sum_3     333.743765\n",
       "calls_sum_4     256.976322\n",
       "calls_sum_5     273.643958\n",
       "calls_sum_6     293.291071\n",
       "calls_sum_7     294.877241\n",
       "calls_sum_8     301.942964\n",
       "calls_sum_9     314.003032\n",
       "calls_sum_10    311.673445\n",
       "calls_sum_11    297.404815\n",
       "calls_sum_12    328.604674\n",
       "mean            268.338363\n",
       "dtype: float64"
      ]
     },
     "metadata": {},
     "output_type": "display_data"
    }
   ],
   "source": [
    "display(calls_only_ultra.mean()) #Расчет среднего по столбцам\n",
    "display(calls_only_ultra.var()) #Расчет дисперсии по столбцам\n",
    "display(calls_only_ultra.std()) #Расчет стандартного отклонения по столбцам"
   ]
  },
  {
   "cell_type": "markdown",
   "metadata": {},
   "source": [
    "Исследование сообщений"
   ]
  },
  {
   "cell_type": "code",
   "execution_count": 35,
   "metadata": {},
   "outputs": [
    {
     "data": {
      "image/png": "[encoded data removed]",
      "text/plain": [
       "<Figure size 720x504 with 1 Axes>"
      ]
     },
     "metadata": {
      "needs_background": "light"
     },
     "output_type": "display_data"
    }
   ],
   "source": [
    "messages_only_ultra.plot(kind='hist', title='Сообщения(статистика по месяцам)', bins=12, grid=True, range=(1,240), alpha=0.3, \n",
    "                      figsize=(10, 7))\n",
    "plt.ylabel('количество пользователей')\n",
    "plt.xlabel('количество сообщений')\n",
    "plt.show()"
   ]
  },
  {
   "cell_type": "code",
   "execution_count": 36,
   "metadata": {},
   "outputs": [
    {
     "data": {
      "image/png": "[encoded data removed]",
      "text/plain": [
       "<Figure size 720x504 with 1 Axes>"
      ]
     },
     "metadata": {
      "needs_background": "light"
     },
     "output_type": "display_data"
    }
   ],
   "source": [
    "messages_only_ultra['mean'] = messages_only_ultra.apply(pd.DataFrame.mean, axis=1)\n",
    "messages_only_ultra['mean'].plot(kind='hist', title='Сообщения(статистика за год)', bins=12, grid=True, range=(1,200), \n",
    "                              figsize=(10, 7))\n",
    "plt.ylabel('количество пользователей')\n",
    "plt.xlabel('количество сообщений')\n",
    "plt.show()"
   ]
  },
  {
   "cell_type": "code",
   "execution_count": 37,
   "metadata": {},
   "outputs": [
    {
     "data": {
      "text/plain": [
       "messages_count_1     43.428571\n",
       "messages_count_2     32.937500\n",
       "messages_count_3     47.800000\n",
       "messages_count_4     44.512821\n",
       "messages_count_5     48.769231\n",
       "messages_count_6     52.313433\n",
       "messages_count_7     62.136986\n",
       "messages_count_8     58.897727\n",
       "messages_count_9     63.294737\n",
       "messages_count_10    69.776699\n",
       "messages_count_11    66.159292\n",
       "messages_count_12    72.008547\n",
       "mean                 64.555802\n",
       "dtype: float64"
      ]
     },
     "metadata": {},
     "output_type": "display_data"
    },
    {
     "data": {
      "text/plain": [
       "messages_count_1      765.285714\n",
       "messages_count_2      713.395833\n",
       "messages_count_3     1826.666667\n",
       "messages_count_4     1408.256410\n",
       "messages_count_5     1559.553544\n",
       "messages_count_6     1935.672999\n",
       "messages_count_7     2190.730974\n",
       "messages_count_8     2022.966432\n",
       "messages_count_9     1906.763270\n",
       "messages_count_10    2426.606511\n",
       "messages_count_11    2249.295828\n",
       "messages_count_12    2362.870616\n",
       "mean                 1882.745218\n",
       "dtype: float64"
      ]
     },
     "metadata": {},
     "output_type": "display_data"
    },
    {
     "data": {
      "text/plain": [
       "messages_count_1     27.663798\n",
       "messages_count_2     26.709471\n",
       "messages_count_3     42.739521\n",
       "messages_count_4     37.526743\n",
       "messages_count_5     39.491183\n",
       "messages_count_6     43.996284\n",
       "messages_count_7     46.805245\n",
       "messages_count_8     44.977399\n",
       "messages_count_9     43.666501\n",
       "messages_count_10    49.260598\n",
       "messages_count_11    47.426742\n",
       "messages_count_12    48.609368\n",
       "mean                 43.390612\n",
       "dtype: float64"
      ]
     },
     "metadata": {},
     "output_type": "display_data"
    }
   ],
   "source": [
    "display(messages_only_ultra.mean()) #Расчет среднего по столбцам\n",
    "display(messages_only_ultra.var()) #Расчет дисперсии по столбцам\n",
    "display(messages_only_ultra.std()) #Расчет стандартного отклонения по столбцам"
   ]
  },
  {
   "cell_type": "markdown",
   "metadata": {},
   "source": [
    "Исследование: количество используемого интернета пользователями"
   ]
  },
  {
   "cell_type": "code",
   "execution_count": 38,
   "metadata": {},
   "outputs": [
    {
     "data": {
      "image/png": "[encoded data removed]",
      "text/plain": [
       "<Figure size 720x504 with 1 Axes>"
      ]
     },
     "metadata": {
      "needs_background": "light"
     },
     "output_type": "display_data"
    }
   ],
   "source": [
    "internet_only_ultra.plot(kind='hist', title='Интернет(статистика по месяцам)', bins=12, grid=True, range=(1,50000), alpha=0.3, \n",
    "                      figsize=(10, 7))\n",
    "plt.ylabel('количество пользователей')\n",
    "plt.xlabel('Мб')\n",
    "plt.show()"
   ]
  },
  {
   "cell_type": "code",
   "execution_count": 39,
   "metadata": {},
   "outputs": [
    {
     "data": {
      "image/png": "[encoded data removed]",
      "text/plain": [
       "<Figure size 720x504 with 1 Axes>"
      ]
     },
     "metadata": {
      "needs_background": "light"
     },
     "output_type": "display_data"
    }
   ],
   "source": [
    "internet_only_ultra['mean'] = internet_only_ultra.apply(pd.DataFrame.mean, axis=1)\n",
    "internet_only_ultra['mean'].plot(kind='hist', title='Интернет(статистика за год)', bins=12, grid=True, range=(0,45000), \n",
    "                              figsize=(10, 7))\n",
    "plt.ylabel('количество пользователей')\n",
    "plt.xlabel('Мб')\n",
    "plt.show()"
   ]
  },
  {
   "cell_type": "code",
   "execution_count": 40,
   "metadata": {},
   "outputs": [
    {
     "data": {
      "text/plain": [
       "internet_sum_1     13153.555556\n",
       "internet_sum_2     12858.500000\n",
       "internet_sum_3     17551.972973\n",
       "internet_sum_4     16843.800000\n",
       "internet_sum_5     19674.848485\n",
       "internet_sum_6     19170.457831\n",
       "internet_sum_7     20742.588889\n",
       "internet_sum_8     19778.915094\n",
       "internet_sum_9     19390.824561\n",
       "internet_sum_10    20228.327869\n",
       "internet_sum_11    19954.225564\n",
       "internet_sum_12    21971.659420\n",
       "mean               19744.885918\n",
       "dtype: float64"
      ]
     },
     "metadata": {},
     "output_type": "display_data"
    },
    {
     "data": {
      "text/plain": [
       "internet_sum_1     4.722641e+07\n",
       "internet_sum_2     1.098915e+08\n",
       "internet_sum_3     1.201640e+08\n",
       "internet_sum_4     9.462393e+07\n",
       "internet_sum_5     9.680491e+07\n",
       "internet_sum_6     8.314920e+07\n",
       "internet_sum_7     9.783655e+07\n",
       "internet_sum_8     1.073123e+08\n",
       "internet_sum_9     8.764804e+07\n",
       "internet_sum_10    9.371314e+07\n",
       "internet_sum_11    9.609150e+07\n",
       "internet_sum_12    1.051943e+08\n",
       "mean               6.688394e+07\n",
       "dtype: float64"
      ]
     },
     "metadata": {},
     "output_type": "display_data"
    },
    {
     "data": {
      "text/plain": [
       "internet_sum_1      6872.147046\n",
       "internet_sum_2     10482.912471\n",
       "internet_sum_3     10961.936316\n",
       "internet_sum_4      9727.483304\n",
       "internet_sum_5      9838.948697\n",
       "internet_sum_6      9118.618095\n",
       "internet_sum_7      9891.235899\n",
       "internet_sum_8     10359.164436\n",
       "internet_sum_9      9362.053368\n",
       "internet_sum_10     9680.554593\n",
       "internet_sum_11     9802.627285\n",
       "internet_sum_12    10256.429423\n",
       "mean                8178.259984\n",
       "dtype: float64"
      ]
     },
     "metadata": {},
     "output_type": "display_data"
    }
   ],
   "source": [
    "display(internet_only_ultra.mean()) #Расчет среднего по столбцам\n",
    "display(internet_only_ultra.var()) #Расчет дисперсии по столбцам\n",
    "display(internet_only_ultra.std()) #Расчет стандартного отклонения по столбцам"
   ]
  },
  {
   "cell_type": "markdown",
   "metadata": {},
   "source": [
    "Общий вывод по тарифу 'ULTRA'\n",
    "Пользователи тарифа 'ULTRA' в среднем тратят всего 546 минут из 3000 входящих в стоимость тарифа. Стандартное отклонение равно 268.\n",
    "В случаи СМС показатели такие: среднее количество использованных сообщений равно 64 из 1000 возможных. Стандартное отклонение 43.\n",
    "Интернет трафик, так же как и у 'SMART', тратится в большом количестве, однако здесь лимит по тарифу в 2 раза больше (19744 -- 30720 Мб). Стандартное отклонение равно 8178 Мб. "
   ]
  },
  {
   "cell_type": "markdown",
   "metadata": {},
   "source": [
    "Проверка гипотез"
   ]
  },
  {
   "cell_type": "markdown",
   "metadata": {},
   "source": [
    "Гипотеза № 1"
   ]
  },
  {
   "cell_type": "markdown",
   "metadata": {},
   "source": [
    "Средняя выручка пользователей тарифов «Ультра» и «Смарт» различаются:\n",
    "H0 - Средняя выручка пользователей тарифов не различается\n",
    "H1 - Средняя выручка пользователей тарифов различается"
   ]
  },
  {
   "cell_type": "code",
   "execution_count": 41,
   "metadata": {},
   "outputs": [
    {
     "data": {
      "image/png": "[encoded data removed]",
      "text/plain": [
       "<Figure size 720x504 with 1 Axes>"
      ]
     },
     "metadata": {
      "needs_background": "light"
     },
     "output_type": "display_data"
    }
   ],
   "source": [
    "#df_up['income_mean'] = df_up.loc[:,'income_1':'income_12'].apply(pd.DataFrame.mean, axis=1)\n",
    "#df_up['income_mean'].plot(kind='hist', title='Средний доход по обоим тарифам', bins=12, grid=True, range=(0,6000), \n",
    "#                               figsize=(10, 7))\n",
    "#plt.show()"
   ]
  },
  {
   "cell_type": "code",
   "execution_count": 172,
   "metadata": {},
   "outputs": [
    {
     "name": "stdout",
     "output_type": "stream",
     "text": [
      "p-значение: 2.9776448000521676e-158\n",
      "Отвергаем нулевую гипотезу\n"
     ]
    }
   ],
   "source": [
    "#За выборку возьмем значения одного столбца, в котором будут хранится средние значения по всему ДФ, т.к. \n",
    "#данные в одной строке перемешены с nan и удалить их без потери целой строки не получится (мб это я пока что не умею), а метод\n",
    "#mean() позволит получить ср. значение даже с той строки где есть пропуски.\n",
    "\n",
    "\n",
    "#df_up_smart = df_up[df_up['tariff'] == 'smart'].loc[:,'income_1':'income_12']\n",
    "#df_up_smart['df_up_smart_mean'] = df_up_smart.apply(pd.DataFrame.mean, axis=1)\n",
    "#df_up_smart.head(5)\n",
    "\n",
    "#df_up_ultra = df_up[df_up['tariff'] == 'ultra'].loc[:,'income_1':'income_12']\n",
    "#df_up_ultra['df_up_ultra_mean'] = df_up_ultra.apply(pd.DataFrame.mean, axis=1)\n",
    "#df_up_ultra.head(5)\n",
    "#Обязательно избавляемся от пропусков, иначе ttest рассчитан не будет\n",
    "result = st.ttest_ind(df_up.query('tariff == \"smart\"')['all_sum'], df_up.query('tariff == \"ultra\"')['all_sum'])\n",
    "\n",
    "\n",
    "alpha = 0.05\n",
    "\n",
    "print('p-значение:', result.pvalue)\n",
    "\n",
    "if (result.pvalue < alpha):\n",
    "    print(\"Отвергаем нулевую гипотезу\")\n",
    "else:\n",
    "    print(\"Нулевая гипотеза верна\")"
   ]
  },
  {
   "cell_type": "markdown",
   "metadata": {},
   "source": [
    "Гипотеза № 2"
   ]
  },
  {
   "cell_type": "markdown",
   "metadata": {},
   "source": [
    "Средняя выручка пользователей из Москвы отличается от выручки пользователей из других регионов:\n",
    "H0 - Средняя выручка пользователей из Москвы не отличается\n",
    "H1 - Средняя выручка пользователей из Москвы отличается"
   ]
  },
  {
   "cell_type": "code",
   "execution_count": 43,
   "metadata": {},
   "outputs": [],
   "source": [
    "#df_up = df_up.merge(users[['user_id','city']], on='user_id', how='left') #В общий ДФ добавляем столбец с городами."
   ]
  },
  {
   "cell_type": "code",
   "execution_count": 44,
   "metadata": {},
   "outputs": [
    {
     "data": {
      "text/html": [
       "<div>\n",
       "<style scoped>\n",
       "    .dataframe tbody tr th:only-of-type {\n",
       "        vertical-align: middle;\n",
       "    }\n",
       "\n",
       "    .dataframe tbody tr th {\n",
       "        vertical-align: top;\n",
       "    }\n",
       "\n",
       "    .dataframe thead th {\n",
       "        text-align: right;\n",
       "    }\n",
       "</style>\n",
       "<table border=\"1\" class=\"dataframe\">\n",
       "  <thead>\n",
       "    <tr style=\"text-align: right;\">\n",
       "      <th></th>\n",
       "      <th>user_id</th>\n",
       "      <th>calls_sum_1</th>\n",
       "      <th>calls_sum_2</th>\n",
       "      <th>calls_sum_3</th>\n",
       "      <th>calls_sum_4</th>\n",
       "      <th>calls_sum_5</th>\n",
       "      <th>calls_sum_6</th>\n",
       "      <th>calls_sum_7</th>\n",
       "      <th>calls_sum_8</th>\n",
       "      <th>calls_sum_9</th>\n",
       "      <th>...</th>\n",
       "      <th>income_5</th>\n",
       "      <th>income_6</th>\n",
       "      <th>income_7</th>\n",
       "      <th>income_8</th>\n",
       "      <th>income_9</th>\n",
       "      <th>income_10</th>\n",
       "      <th>income_11</th>\n",
       "      <th>income_12</th>\n",
       "      <th>income_mean</th>\n",
       "      <th>city</th>\n",
       "    </tr>\n",
       "  </thead>\n",
       "  <tbody>\n",
       "    <tr>\n",
       "      <th>0</th>\n",
       "      <td>1000</td>\n",
       "      <td>NaN</td>\n",
       "      <td>NaN</td>\n",
       "      <td>NaN</td>\n",
       "      <td>NaN</td>\n",
       "      <td>159.0</td>\n",
       "      <td>172.0</td>\n",
       "      <td>340.0</td>\n",
       "      <td>408.0</td>\n",
       "      <td>466.0</td>\n",
       "      <td>...</td>\n",
       "      <td>3000.0</td>\n",
       "      <td>3000.0</td>\n",
       "      <td>3000.000000</td>\n",
       "      <td>3000.000000</td>\n",
       "      <td>3000.0000</td>\n",
       "      <td>3000.0</td>\n",
       "      <td>3000.000000</td>\n",
       "      <td>3000.000000</td>\n",
       "      <td>3000.000000</td>\n",
       "      <td>Краснодар</td>\n",
       "    </tr>\n",
       "    <tr>\n",
       "      <th>1</th>\n",
       "      <td>1001</td>\n",
       "      <td>NaN</td>\n",
       "      <td>NaN</td>\n",
       "      <td>NaN</td>\n",
       "      <td>NaN</td>\n",
       "      <td>NaN</td>\n",
       "      <td>NaN</td>\n",
       "      <td>NaN</td>\n",
       "      <td>NaN</td>\n",
       "      <td>NaN</td>\n",
       "      <td>...</td>\n",
       "      <td>NaN</td>\n",
       "      <td>NaN</td>\n",
       "      <td>NaN</td>\n",
       "      <td>NaN</td>\n",
       "      <td>NaN</td>\n",
       "      <td>NaN</td>\n",
       "      <td>NaN</td>\n",
       "      <td>NaN</td>\n",
       "      <td>NaN</td>\n",
       "      <td>Москва</td>\n",
       "    </tr>\n",
       "    <tr>\n",
       "      <th>2</th>\n",
       "      <td>1002</td>\n",
       "      <td>NaN</td>\n",
       "      <td>NaN</td>\n",
       "      <td>NaN</td>\n",
       "      <td>NaN</td>\n",
       "      <td>NaN</td>\n",
       "      <td>117.0</td>\n",
       "      <td>214.0</td>\n",
       "      <td>289.0</td>\n",
       "      <td>206.0</td>\n",
       "      <td>...</td>\n",
       "      <td>NaN</td>\n",
       "      <td>550.0</td>\n",
       "      <td>987.695312</td>\n",
       "      <td>1524.023438</td>\n",
       "      <td>814.0625</td>\n",
       "      <td>550.0</td>\n",
       "      <td>1184.765625</td>\n",
       "      <td>1092.382812</td>\n",
       "      <td>957.561384</td>\n",
       "      <td>Стерлитамак</td>\n",
       "    </tr>\n",
       "    <tr>\n",
       "      <th>3</th>\n",
       "      <td>1003</td>\n",
       "      <td>NaN</td>\n",
       "      <td>NaN</td>\n",
       "      <td>NaN</td>\n",
       "      <td>NaN</td>\n",
       "      <td>NaN</td>\n",
       "      <td>NaN</td>\n",
       "      <td>NaN</td>\n",
       "      <td>380.0</td>\n",
       "      <td>961.0</td>\n",
       "      <td>...</td>\n",
       "      <td>NaN</td>\n",
       "      <td>NaN</td>\n",
       "      <td>NaN</td>\n",
       "      <td>3000.000000</td>\n",
       "      <td>3000.0000</td>\n",
       "      <td>3000.0</td>\n",
       "      <td>3000.000000</td>\n",
       "      <td>3000.000000</td>\n",
       "      <td>3000.000000</td>\n",
       "      <td>Москва</td>\n",
       "    </tr>\n",
       "    <tr>\n",
       "      <th>4</th>\n",
       "      <td>1004</td>\n",
       "      <td>NaN</td>\n",
       "      <td>NaN</td>\n",
       "      <td>NaN</td>\n",
       "      <td>NaN</td>\n",
       "      <td>35.0</td>\n",
       "      <td>171.0</td>\n",
       "      <td>135.0</td>\n",
       "      <td>137.0</td>\n",
       "      <td>117.0</td>\n",
       "      <td>...</td>\n",
       "      <td>3000.0</td>\n",
       "      <td>3000.0</td>\n",
       "      <td>3000.000000</td>\n",
       "      <td>3000.000000</td>\n",
       "      <td>3000.0000</td>\n",
       "      <td>3000.0</td>\n",
       "      <td>3000.000000</td>\n",
       "      <td>3000.000000</td>\n",
       "      <td>3000.000000</td>\n",
       "      <td>Новокузнецк</td>\n",
       "    </tr>\n",
       "  </tbody>\n",
       "</table>\n",
       "<p>5 rows × 52 columns</p>\n",
       "</div>"
      ],
      "text/plain": [
       "   user_id  calls_sum_1  calls_sum_2  calls_sum_3  calls_sum_4  calls_sum_5  \\\n",
       "0     1000          NaN          NaN          NaN          NaN        159.0   \n",
       "1     1001          NaN          NaN          NaN          NaN          NaN   \n",
       "2     1002          NaN          NaN          NaN          NaN          NaN   \n",
       "3     1003          NaN          NaN          NaN          NaN          NaN   \n",
       "4     1004          NaN          NaN          NaN          NaN         35.0   \n",
       "\n",
       "   calls_sum_6  calls_sum_7  calls_sum_8  calls_sum_9  ...  income_5  \\\n",
       "0        172.0        340.0        408.0        466.0  ...    3000.0   \n",
       "1          NaN          NaN          NaN          NaN  ...       NaN   \n",
       "2        117.0        214.0        289.0        206.0  ...       NaN   \n",
       "3          NaN          NaN        380.0        961.0  ...       NaN   \n",
       "4        171.0        135.0        137.0        117.0  ...    3000.0   \n",
       "\n",
       "   income_6     income_7     income_8   income_9  income_10    income_11  \\\n",
       "0    3000.0  3000.000000  3000.000000  3000.0000     3000.0  3000.000000   \n",
       "1       NaN          NaN          NaN        NaN        NaN          NaN   \n",
       "2     550.0   987.695312  1524.023438   814.0625      550.0  1184.765625   \n",
       "3       NaN          NaN  3000.000000  3000.0000     3000.0  3000.000000   \n",
       "4    3000.0  3000.000000  3000.000000  3000.0000     3000.0  3000.000000   \n",
       "\n",
       "     income_12  income_mean         city  \n",
       "0  3000.000000  3000.000000    Краснодар  \n",
       "1          NaN          NaN       Москва  \n",
       "2  1092.382812   957.561384  Стерлитамак  \n",
       "3  3000.000000  3000.000000       Москва  \n",
       "4  3000.000000  3000.000000  Новокузнецк  \n",
       "\n",
       "[5 rows x 52 columns]"
      ]
     },
     "execution_count": 44,
     "metadata": {},
     "output_type": "execute_result"
    }
   ],
   "source": [
    "#df_up.head(5)"
   ]
  },
  {
   "cell_type": "code",
   "execution_count": 187,
   "metadata": {},
   "outputs": [
    {
     "name": "stdout",
     "output_type": "stream",
     "text": [
      "p-значение: 0.531666503831252\n",
      "Нулевая гипотеза верна\n"
     ]
    }
   ],
   "source": [
    "#Агрегацию данных и выполнение ttest выполняем по аналогии вычислений 1-ой гипотезы.\n",
    "#df_up_moscow = df_up[df_up['city'] == 'Москва']['income_mean']\n",
    "#df_up_other_cities = df_up[df_up['city'] != 'Москва']['income_mean']\n",
    "\n",
    "result = st.ttest_ind(df_up.query('city == \"Москва\"')['all_sum'].dropna(), df_up.query('city != \"Москва\"')['all_sum'].dropna())\n",
    "\n",
    "alpha = 0.05\n",
    "\n",
    "print('p-значение:', result.pvalue)\n",
    "\n",
    "if (result.pvalue < alpha):\n",
    "    print(\"Отвергаем нулевую гипотезу\")\n",
    "else:\n",
    "    print(\"Нулевая гипотеза верна\")"
   ]
  },
  {
   "cell_type": "markdown",
   "metadata": {},
   "source": [
    "Общий вывод:\n",
    "Нулевая гипотеза H₀ всегда формулируется так, чтобы использовать знак равенства, соответственно наши гипотезы являются альтернативными H1. \n",
    "Обе гипотезы являются двухсторонними потому как проверяется лишь различие между выборками, неравенство. \n",
    "В обоих случаях ttest выполнялся с методом st.ttest_ind, что характерно для двух независимых выборок данных. \n",
    "Т.к. выборки были разного размера был применен параметр equal_var со значением False.\n",
    "В качестве выборки данных, во всех случаях был использован столбец со средним значением по всем пользователям, соответствующих данных. Далее уже он образовывал сравнивающиеся выборки, сортируя их в первом случаи по тарифу, во втором по городу.\n",
    "Пороговым значением был выбран параметр в 5% (0.05), по 2.5% с каждой стороны нормального распределения."
   ]
  },
  {
   "cell_type": "markdown",
   "metadata": {},
   "source": [
    "5. Вывод по всей работе"
   ]
  },
  {
   "cell_type": "markdown",
   "metadata": {},
   "source": [
    "Были изучены два тарифа сотовой связи. Тариф 'ULTRA' приносит больше прибыли чем его более дешевый аналог тариф 'SMART'. Ввиду высокой популярности различных мессенджеров и соц. сетей, пользователи в среднем чаще используют услуги интернета и реже отправляют смс-сообщения. Звонки по-прежнему являются важным аспектом телефонной связи, тем не менее по средним показателям пользователи обоих тарифов укладываются в предоставленный лимит. Разница в использовании звонков и интернета между абонентами двух тарифов невелика. В случаи звонков разница составляет 30% в пользу тарифа 'ULTRA' и 18% по показателям интернета. Учитывая, что абонентская плата тарифа 'SMART' дешевле примерно в 3.5 раза, логично предположить что абоненты тарифа 'ULTRA' сильно переплачивают и не используют его возможности полностью. Однако это не совсем так. Если провести перерасчет средних показателей по всем трем параметрам тарифа 'ULTRA' на лимит тарифа 'SMART', а разницу умножить на стоимость дополнительных услуг, то разница в стоимости будет около 200р в пользу тарифа 'ULTRA'. Да пользователи тарифа 'ULTRA' переплачивают, но не настолько много как может показаться на первый взгляд. И не следует забывать, что потребности и возможности зависимые величины.\n",
    "Интересным решением было бы введение промежуточного тарифа, скажем 'OPTIMUM', где бы все укладывались в лимиты по тарифу. Но насколько это было бы прибыльно, и какую для этого следует делать абонентскую плату, тоже вопрос.\n",
    "\n",
    "Результат проверки гипотез:\n",
    "\n",
    "1. Средняя выручка пользователей тарифов «Ультра» и «Смарт» различается. Гипотеза верна.\n",
    "\n",
    "2. Средняя выручка пользователей из Москвы отличается от выручки пользователей из других регионов. Гипотеза неверна."
   ]
  }
 ],
 "metadata": {
  "ExecuteTimeLog": [
   {
    "duration": 1039,
    "start_time": "2022-03-14T02:12:32.109Z"
   },
   {
    "duration": 205,
    "start_time": "2022-03-14T02:12:33.150Z"
   },
   {
    "duration": 165,
    "start_time": "2022-03-14T02:12:33.400Z"
   },
   {
    "duration": 110,
    "start_time": "2022-03-14T02:12:34.464Z"
   },
   {
    "duration": 40,
    "start_time": "2022-03-14T02:12:34.968Z"
   },
   {
    "duration": 47,
    "start_time": "2022-03-14T02:12:35.465Z"
   },
   {
    "duration": 189,
    "start_time": "2022-03-14T02:13:12.438Z"
   },
   {
    "duration": 193,
    "start_time": "2022-03-14T02:14:34.072Z"
   },
   {
    "duration": 3,
    "start_time": "2022-03-14T02:15:57.249Z"
   },
   {
    "duration": 187,
    "start_time": "2022-03-14T02:15:57.778Z"
   },
   {
    "duration": 166,
    "start_time": "2022-03-14T02:15:58.377Z"
   },
   {
    "duration": 110,
    "start_time": "2022-03-14T02:15:58.810Z"
   },
   {
    "duration": 50,
    "start_time": "2022-03-14T02:15:59.330Z"
   },
   {
    "duration": 49,
    "start_time": "2022-03-14T02:15:59.801Z"
   },
   {
    "duration": 21,
    "start_time": "2022-03-14T02:41:01.071Z"
   },
   {
    "duration": 100,
    "start_time": "2022-03-14T02:41:29.329Z"
   },
   {
    "duration": 114,
    "start_time": "2022-03-14T02:42:21.562Z"
   },
   {
    "duration": 498,
    "start_time": "2022-03-14T02:47:19.002Z"
   },
   {
    "duration": 137,
    "start_time": "2022-03-14T02:47:56.932Z"
   },
   {
    "duration": 106,
    "start_time": "2022-03-14T02:48:12.180Z"
   },
   {
    "duration": 438,
    "start_time": "2022-03-14T02:50:06.110Z"
   },
   {
    "duration": 108,
    "start_time": "2022-03-14T02:50:47.957Z"
   },
   {
    "duration": 101,
    "start_time": "2022-03-14T02:51:57.478Z"
   },
   {
    "duration": 130,
    "start_time": "2022-03-14T02:54:52.799Z"
   },
   {
    "duration": 118,
    "start_time": "2022-03-14T04:40:36.663Z"
   },
   {
    "duration": 156,
    "start_time": "2022-03-14T04:44:43.866Z"
   },
   {
    "duration": 157,
    "start_time": "2022-03-14T04:45:03.386Z"
   },
   {
    "duration": 153,
    "start_time": "2022-03-14T04:46:18.012Z"
   },
   {
    "duration": 191,
    "start_time": "2022-03-14T04:47:23.164Z"
   },
   {
    "duration": 99,
    "start_time": "2022-03-14T04:49:12.172Z"
   },
   {
    "duration": 90,
    "start_time": "2022-03-14T04:49:16.108Z"
   },
   {
    "duration": 119,
    "start_time": "2022-03-14T04:50:08.620Z"
   },
   {
    "duration": 33,
    "start_time": "2022-03-14T04:50:33.564Z"
   },
   {
    "duration": 43,
    "start_time": "2022-03-14T04:50:37.028Z"
   },
   {
    "duration": 89,
    "start_time": "2022-03-14T10:23:27.444Z"
   },
   {
    "duration": 322,
    "start_time": "2022-03-14T10:23:30.071Z"
   },
   {
    "duration": 87,
    "start_time": "2022-03-14T10:23:55.660Z"
   },
   {
    "duration": 84,
    "start_time": "2022-03-14T10:24:22.420Z"
   },
   {
    "duration": 86,
    "start_time": "2022-03-14T10:24:48.584Z"
   },
   {
    "duration": 71,
    "start_time": "2022-03-14T10:24:59.639Z"
   },
   {
    "duration": 3,
    "start_time": "2022-03-14T10:25:07.895Z"
   },
   {
    "duration": 208,
    "start_time": "2022-03-14T10:25:08.215Z"
   },
   {
    "duration": 187,
    "start_time": "2022-03-14T10:25:08.551Z"
   },
   {
    "duration": 133,
    "start_time": "2022-03-14T10:25:08.887Z"
   },
   {
    "duration": 52,
    "start_time": "2022-03-14T10:25:09.223Z"
   },
   {
    "duration": 69,
    "start_time": "2022-03-14T10:25:09.527Z"
   },
   {
    "duration": 162,
    "start_time": "2022-03-14T10:25:10.599Z"
   },
   {
    "duration": 154,
    "start_time": "2022-03-14T10:25:10.799Z"
   },
   {
    "duration": 35,
    "start_time": "2022-03-14T10:25:11.151Z"
   },
   {
    "duration": 39,
    "start_time": "2022-03-14T10:25:11.927Z"
   },
   {
    "duration": 81,
    "start_time": "2022-03-14T10:25:16.583Z"
   },
   {
    "duration": 33,
    "start_time": "2022-03-14T10:25:19.488Z"
   },
   {
    "duration": 35,
    "start_time": "2022-03-14T10:25:46.999Z"
   },
   {
    "duration": 326,
    "start_time": "2022-03-14T10:26:21.152Z"
   },
   {
    "duration": 2,
    "start_time": "2022-03-14T10:26:29.071Z"
   },
   {
    "duration": 182,
    "start_time": "2022-03-14T10:26:29.543Z"
   },
   {
    "duration": 154,
    "start_time": "2022-03-14T10:26:30.135Z"
   },
   {
    "duration": 104,
    "start_time": "2022-03-14T10:26:30.775Z"
   },
   {
    "duration": 46,
    "start_time": "2022-03-14T10:26:31.143Z"
   },
   {
    "duration": 52,
    "start_time": "2022-03-14T10:26:31.504Z"
   },
   {
    "duration": 120,
    "start_time": "2022-03-14T10:26:32.654Z"
   },
   {
    "duration": 125,
    "start_time": "2022-03-14T10:26:32.814Z"
   },
   {
    "duration": 33,
    "start_time": "2022-03-14T10:26:33.391Z"
   },
   {
    "duration": 35,
    "start_time": "2022-03-14T10:26:34.047Z"
   },
   {
    "duration": 75,
    "start_time": "2022-03-14T10:26:34.879Z"
   },
   {
    "duration": 309,
    "start_time": "2022-03-14T10:26:35.975Z"
   },
   {
    "duration": 35,
    "start_time": "2022-03-14T10:27:37.959Z"
   },
   {
    "duration": 113,
    "start_time": "2022-03-14T10:34:22.040Z"
   },
   {
    "duration": 93,
    "start_time": "2022-03-14T10:38:24.220Z"
   },
   {
    "duration": 461,
    "start_time": "2022-03-14T10:40:09.525Z"
   },
   {
    "duration": 973,
    "start_time": "2022-03-14T10:40:23.157Z"
   },
   {
    "duration": 519,
    "start_time": "2022-03-14T10:40:26.636Z"
   },
   {
    "duration": 78,
    "start_time": "2022-03-14T10:40:47.205Z"
   },
   {
    "duration": 34,
    "start_time": "2022-03-14T10:42:56.829Z"
   },
   {
    "duration": 282,
    "start_time": "2022-03-14T21:47:00.740Z"
   },
   {
    "duration": 1109,
    "start_time": "2022-03-14T21:48:57.676Z"
   },
   {
    "duration": 232,
    "start_time": "2022-03-14T21:48:58.787Z"
   },
   {
    "duration": 197,
    "start_time": "2022-03-14T21:48:59.022Z"
   },
   {
    "duration": 120,
    "start_time": "2022-03-14T21:48:59.221Z"
   },
   {
    "duration": 70,
    "start_time": "2022-03-14T21:48:59.343Z"
   },
   {
    "duration": 44,
    "start_time": "2022-03-14T21:48:59.415Z"
   },
   {
    "duration": 192,
    "start_time": "2022-03-14T21:49:00.072Z"
   },
   {
    "duration": 171,
    "start_time": "2022-03-14T21:49:00.266Z"
   },
   {
    "duration": 45,
    "start_time": "2022-03-14T21:49:00.576Z"
   },
   {
    "duration": 53,
    "start_time": "2022-03-14T21:49:00.928Z"
   },
   {
    "duration": 105,
    "start_time": "2022-03-14T21:49:01.983Z"
   },
   {
    "duration": 45,
    "start_time": "2022-03-14T21:49:02.408Z"
   },
   {
    "duration": 127,
    "start_time": "2022-03-14T21:49:03.456Z"
   },
   {
    "duration": 42,
    "start_time": "2022-03-14T21:49:03.632Z"
   },
   {
    "duration": 27,
    "start_time": "2022-03-14T21:49:04.608Z"
   },
   {
    "duration": 33,
    "start_time": "2022-03-14T21:51:39.638Z"
   },
   {
    "duration": 38,
    "start_time": "2022-03-14T21:53:30.031Z"
   },
   {
    "duration": 283,
    "start_time": "2022-03-14T22:25:47.740Z"
   },
   {
    "duration": 9,
    "start_time": "2022-03-14T22:26:19.197Z"
   },
   {
    "duration": 50,
    "start_time": "2022-03-14T23:04:30.644Z"
   },
   {
    "duration": 276,
    "start_time": "2022-03-14T23:18:11.344Z"
   },
   {
    "duration": 3,
    "start_time": "2022-03-14T23:18:18.873Z"
   },
   {
    "duration": 220,
    "start_time": "2022-03-14T23:18:19.185Z"
   },
   {
    "duration": 184,
    "start_time": "2022-03-14T23:18:19.537Z"
   },
   {
    "duration": 120,
    "start_time": "2022-03-14T23:18:20.018Z"
   },
   {
    "duration": 49,
    "start_time": "2022-03-14T23:18:20.450Z"
   },
   {
    "duration": 45,
    "start_time": "2022-03-14T23:18:20.825Z"
   },
   {
    "duration": 156,
    "start_time": "2022-03-14T23:18:24.033Z"
   },
   {
    "duration": 147,
    "start_time": "2022-03-14T23:18:24.465Z"
   },
   {
    "duration": 35,
    "start_time": "2022-03-14T23:18:28.137Z"
   },
   {
    "duration": 1007,
    "start_time": "2022-03-14T23:18:30.017Z"
   },
   {
    "duration": 43,
    "start_time": "2022-03-14T23:19:21.776Z"
   },
   {
    "duration": 260,
    "start_time": "2022-03-14T23:20:06.920Z"
   },
   {
    "duration": 144,
    "start_time": "2022-03-14T23:20:29.994Z"
   },
   {
    "duration": 149,
    "start_time": "2022-03-14T23:20:30.345Z"
   },
   {
    "duration": 35,
    "start_time": "2022-03-14T23:20:33.473Z"
   },
   {
    "duration": 43,
    "start_time": "2022-03-14T23:20:34.698Z"
   },
   {
    "duration": 93,
    "start_time": "2022-03-14T23:20:38.418Z"
   },
   {
    "duration": 43,
    "start_time": "2022-03-14T23:20:42.658Z"
   },
   {
    "duration": 252,
    "start_time": "2022-03-14T23:21:24.585Z"
   },
   {
    "duration": 121,
    "start_time": "2022-03-14T23:21:27.739Z"
   },
   {
    "duration": 36,
    "start_time": "2022-03-14T23:21:29.634Z"
   },
   {
    "duration": 53,
    "start_time": "2022-03-14T23:21:36.274Z"
   },
   {
    "duration": 9,
    "start_time": "2022-03-14T23:21:41.137Z"
   },
   {
    "duration": 478,
    "start_time": "2022-03-15T00:26:03.652Z"
   },
   {
    "duration": 252,
    "start_time": "2022-03-15T00:26:41.237Z"
   },
   {
    "duration": 408,
    "start_time": "2022-03-15T00:26:56.918Z"
   },
   {
    "duration": 475,
    "start_time": "2022-03-15T00:27:16.192Z"
   },
   {
    "duration": 447,
    "start_time": "2022-03-15T00:27:55.608Z"
   },
   {
    "duration": 435,
    "start_time": "2022-03-15T00:29:04.032Z"
   },
   {
    "duration": 38,
    "start_time": "2022-03-15T00:30:26.974Z"
   },
   {
    "duration": 41,
    "start_time": "2022-03-15T00:30:48.320Z"
   },
   {
    "duration": 49,
    "start_time": "2022-03-15T00:31:14.313Z"
   },
   {
    "duration": 441,
    "start_time": "2022-03-15T00:31:19.545Z"
   },
   {
    "duration": 3,
    "start_time": "2022-03-15T00:31:28.280Z"
   },
   {
    "duration": 212,
    "start_time": "2022-03-15T00:31:28.809Z"
   },
   {
    "duration": 183,
    "start_time": "2022-03-15T00:31:29.256Z"
   },
   {
    "duration": 117,
    "start_time": "2022-03-15T00:31:29.768Z"
   },
   {
    "duration": 50,
    "start_time": "2022-03-15T00:31:30.248Z"
   },
   {
    "duration": 47,
    "start_time": "2022-03-15T00:31:30.720Z"
   },
   {
    "duration": 170,
    "start_time": "2022-03-15T00:31:31.959Z"
   },
   {
    "duration": 161,
    "start_time": "2022-03-15T00:31:32.143Z"
   },
   {
    "duration": 37,
    "start_time": "2022-03-15T00:31:32.536Z"
   },
   {
    "duration": 47,
    "start_time": "2022-03-15T00:31:33.969Z"
   },
   {
    "duration": 113,
    "start_time": "2022-03-15T00:31:34.018Z"
   },
   {
    "duration": 43,
    "start_time": "2022-03-15T00:31:34.134Z"
   },
   {
    "duration": 144,
    "start_time": "2022-03-15T00:31:34.201Z"
   },
   {
    "duration": 59,
    "start_time": "2022-03-15T00:31:34.348Z"
   },
   {
    "duration": 52,
    "start_time": "2022-03-15T00:31:34.920Z"
   },
   {
    "duration": 10,
    "start_time": "2022-03-15T00:31:35.144Z"
   },
   {
    "duration": 4,
    "start_time": "2022-03-15T00:31:35.304Z"
   },
   {
    "duration": 463,
    "start_time": "2022-03-15T00:31:35.888Z"
   },
   {
    "duration": 453,
    "start_time": "2022-03-15T00:32:42.041Z"
   },
   {
    "duration": 445,
    "start_time": "2022-03-15T00:38:39.436Z"
   },
   {
    "duration": 4,
    "start_time": "2022-03-15T00:40:25.417Z"
   },
   {
    "duration": 464,
    "start_time": "2022-03-15T00:40:29.987Z"
   },
   {
    "duration": 457,
    "start_time": "2022-03-15T00:47:23.964Z"
   },
   {
    "duration": 437,
    "start_time": "2022-03-15T00:48:02.113Z"
   },
   {
    "duration": 441,
    "start_time": "2022-03-15T00:52:48.791Z"
   },
   {
    "duration": 626,
    "start_time": "2022-03-15T00:55:12.769Z"
   },
   {
    "duration": 512,
    "start_time": "2022-03-15T00:55:56.377Z"
   },
   {
    "duration": 494,
    "start_time": "2022-03-15T01:03:53.565Z"
   },
   {
    "duration": 474,
    "start_time": "2022-03-15T01:04:54.074Z"
   },
   {
    "duration": 250,
    "start_time": "2022-03-15T01:06:24.514Z"
   },
   {
    "duration": 403,
    "start_time": "2022-03-15T01:07:56.814Z"
   },
   {
    "duration": 474,
    "start_time": "2022-03-15T01:08:30.670Z"
   },
   {
    "duration": 465,
    "start_time": "2022-03-15T01:08:50.270Z"
   },
   {
    "duration": 476,
    "start_time": "2022-03-15T01:08:59.734Z"
   },
   {
    "duration": 468,
    "start_time": "2022-03-15T01:10:12.934Z"
   },
   {
    "duration": 458,
    "start_time": "2022-03-15T01:10:40.976Z"
   },
   {
    "duration": 312,
    "start_time": "2022-03-15T12:27:31.706Z"
   },
   {
    "duration": 1396,
    "start_time": "2022-03-15T12:27:37.621Z"
   },
   {
    "duration": 275,
    "start_time": "2022-03-15T12:27:39.020Z"
   },
   {
    "duration": 257,
    "start_time": "2022-03-15T12:27:39.298Z"
   },
   {
    "duration": 164,
    "start_time": "2022-03-15T12:27:39.559Z"
   },
   {
    "duration": 84,
    "start_time": "2022-03-15T12:27:39.727Z"
   },
   {
    "duration": 77,
    "start_time": "2022-03-15T12:27:39.814Z"
   },
   {
    "duration": 292,
    "start_time": "2022-03-15T12:27:39.895Z"
   },
   {
    "duration": 341,
    "start_time": "2022-03-15T12:27:40.190Z"
   },
   {
    "duration": 80,
    "start_time": "2022-03-15T12:27:40.709Z"
   },
   {
    "duration": 70,
    "start_time": "2022-03-15T12:27:41.302Z"
   },
   {
    "duration": 119,
    "start_time": "2022-03-15T12:27:41.981Z"
   },
   {
    "duration": 60,
    "start_time": "2022-03-15T12:27:42.157Z"
   },
   {
    "duration": 168,
    "start_time": "2022-03-15T12:27:42.965Z"
   },
   {
    "duration": 56,
    "start_time": "2022-03-15T12:27:43.278Z"
   },
   {
    "duration": 79,
    "start_time": "2022-03-15T12:27:43.894Z"
   },
   {
    "duration": 12,
    "start_time": "2022-03-15T12:27:44.189Z"
   },
   {
    "duration": 5,
    "start_time": "2022-03-15T12:27:44.509Z"
   },
   {
    "duration": 779,
    "start_time": "2022-03-15T12:27:45.174Z"
   },
   {
    "duration": 321,
    "start_time": "2022-03-15T12:27:47.789Z"
   },
   {
    "duration": 1288,
    "start_time": "2022-03-15T12:29:50.150Z"
   },
   {
    "duration": 67,
    "start_time": "2022-03-15T12:31:56.645Z"
   },
   {
    "duration": 159,
    "start_time": "2022-03-15T12:32:07.974Z"
   },
   {
    "duration": 173,
    "start_time": "2022-03-15T12:34:35.758Z"
   },
   {
    "duration": 24,
    "start_time": "2022-03-15T12:36:21.950Z"
   },
   {
    "duration": 27,
    "start_time": "2022-03-15T12:38:51.336Z"
   },
   {
    "duration": 23,
    "start_time": "2022-03-15T12:39:15.717Z"
   },
   {
    "duration": 60,
    "start_time": "2022-03-15T12:39:50.681Z"
   },
   {
    "duration": 2452,
    "start_time": "2022-03-15T12:42:20.217Z"
   },
   {
    "duration": 2387,
    "start_time": "2022-03-15T12:42:49.234Z"
   },
   {
    "duration": 3014,
    "start_time": "2022-03-15T12:45:53.561Z"
   },
   {
    "duration": 4985,
    "start_time": "2022-03-15T12:46:18.099Z"
   },
   {
    "duration": 1404,
    "start_time": "2022-03-15T12:46:43.076Z"
   },
   {
    "duration": 1051,
    "start_time": "2022-03-15T12:47:01.539Z"
   },
   {
    "duration": 1122,
    "start_time": "2022-03-15T12:48:54.388Z"
   },
   {
    "duration": 999,
    "start_time": "2022-03-15T12:49:04.085Z"
   },
   {
    "duration": 1033,
    "start_time": "2022-03-15T12:50:07.604Z"
   },
   {
    "duration": 8,
    "start_time": "2022-03-15T13:05:49.505Z"
   },
   {
    "duration": 253,
    "start_time": "2022-03-15T13:08:49.070Z"
   },
   {
    "duration": 151,
    "start_time": "2022-03-15T13:09:46.130Z"
   },
   {
    "duration": 195,
    "start_time": "2022-03-15T13:15:53.713Z"
   },
   {
    "duration": 161,
    "start_time": "2022-03-15T13:22:37.925Z"
   },
   {
    "duration": 158,
    "start_time": "2022-03-15T13:23:37.487Z"
   },
   {
    "duration": 154,
    "start_time": "2022-03-15T13:25:17.629Z"
   },
   {
    "duration": 220,
    "start_time": "2022-03-15T13:25:32.542Z"
   },
   {
    "duration": 199,
    "start_time": "2022-03-15T13:25:57.119Z"
   },
   {
    "duration": 80,
    "start_time": "2022-03-15T13:26:06.415Z"
   },
   {
    "duration": 478,
    "start_time": "2022-03-15T13:27:38.757Z"
   },
   {
    "duration": 481,
    "start_time": "2022-03-15T13:28:02.984Z"
   },
   {
    "duration": 14,
    "start_time": "2022-03-15T13:31:03.015Z"
   },
   {
    "duration": 1106,
    "start_time": "2022-03-15T13:34:49.330Z"
   },
   {
    "duration": 481,
    "start_time": "2022-03-15T13:34:57.442Z"
   },
   {
    "duration": 475,
    "start_time": "2022-03-15T13:35:33.434Z"
   },
   {
    "duration": 675,
    "start_time": "2022-03-15T13:35:59.930Z"
   },
   {
    "duration": 671,
    "start_time": "2022-03-15T13:37:06.980Z"
   },
   {
    "duration": 614,
    "start_time": "2022-03-15T13:37:56.059Z"
   },
   {
    "duration": 467,
    "start_time": "2022-03-15T13:38:10.660Z"
   },
   {
    "duration": 456,
    "start_time": "2022-03-15T13:39:41.106Z"
   },
   {
    "duration": 1149,
    "start_time": "2022-03-15T13:39:58.468Z"
   },
   {
    "duration": 973,
    "start_time": "2022-03-15T13:47:02.093Z"
   },
   {
    "duration": 1072,
    "start_time": "2022-03-15T13:47:20.927Z"
   },
   {
    "duration": 1202,
    "start_time": "2022-03-15T13:47:34.535Z"
   },
   {
    "duration": 554,
    "start_time": "2022-03-15T13:50:13.965Z"
   },
   {
    "duration": 439,
    "start_time": "2022-03-15T13:50:22.750Z"
   },
   {
    "duration": 19,
    "start_time": "2022-03-15T13:51:23.271Z"
   },
   {
    "duration": 1143,
    "start_time": "2022-03-15T13:51:59.135Z"
   },
   {
    "duration": 458,
    "start_time": "2022-03-15T13:52:16.441Z"
   },
   {
    "duration": 454,
    "start_time": "2022-03-15T13:52:25.449Z"
   },
   {
    "duration": 467,
    "start_time": "2022-03-15T13:52:36.657Z"
   },
   {
    "duration": 1061,
    "start_time": "2022-03-15T13:53:08.129Z"
   },
   {
    "duration": 1742,
    "start_time": "2022-03-15T14:06:50.568Z"
   },
   {
    "duration": 1053,
    "start_time": "2022-03-15T14:07:16.028Z"
   },
   {
    "duration": 15,
    "start_time": "2022-03-15T14:08:08.294Z"
   },
   {
    "duration": 1063,
    "start_time": "2022-03-15T14:08:24.078Z"
   },
   {
    "duration": 992,
    "start_time": "2022-03-15T14:08:37.742Z"
   },
   {
    "duration": 1189,
    "start_time": "2022-03-15T14:08:44.527Z"
   },
   {
    "duration": 1129,
    "start_time": "2022-03-15T14:08:58.151Z"
   },
   {
    "duration": 1046,
    "start_time": "2022-03-15T14:09:06.759Z"
   },
   {
    "duration": 541,
    "start_time": "2022-03-15T14:09:30.791Z"
   },
   {
    "duration": 514,
    "start_time": "2022-03-15T14:09:52.431Z"
   },
   {
    "duration": 645,
    "start_time": "2022-03-15T14:10:02.111Z"
   },
   {
    "duration": 638,
    "start_time": "2022-03-15T14:10:08.856Z"
   },
   {
    "duration": 55,
    "start_time": "2022-03-15T14:13:41.369Z"
   },
   {
    "duration": 1027,
    "start_time": "2022-03-15T14:20:38.524Z"
   },
   {
    "duration": 997,
    "start_time": "2022-03-15T14:20:56.860Z"
   },
   {
    "duration": 977,
    "start_time": "2022-03-15T14:21:13.580Z"
   },
   {
    "duration": 1085,
    "start_time": "2022-03-15T14:21:23.036Z"
   },
   {
    "duration": 1547,
    "start_time": "2022-03-15T14:21:38.749Z"
   },
   {
    "duration": 1558,
    "start_time": "2022-03-15T14:21:51.693Z"
   },
   {
    "duration": 1491,
    "start_time": "2022-03-15T14:22:02.141Z"
   },
   {
    "duration": 1688,
    "start_time": "2022-03-15T14:22:12.340Z"
   },
   {
    "duration": 1003,
    "start_time": "2022-03-15T14:23:09.005Z"
   },
   {
    "duration": 1166,
    "start_time": "2022-03-15T14:23:29.621Z"
   },
   {
    "duration": 1262,
    "start_time": "2022-03-15T14:23:59.214Z"
   },
   {
    "duration": 1788,
    "start_time": "2022-03-15T14:24:04.374Z"
   },
   {
    "duration": 459,
    "start_time": "2022-03-15T14:24:18.549Z"
   },
   {
    "duration": 449,
    "start_time": "2022-03-15T14:24:28.358Z"
   },
   {
    "duration": 440,
    "start_time": "2022-03-15T14:24:36.038Z"
   },
   {
    "duration": 605,
    "start_time": "2022-03-15T14:24:43.118Z"
   },
   {
    "duration": 441,
    "start_time": "2022-03-15T14:25:05.374Z"
   },
   {
    "duration": 20,
    "start_time": "2022-03-15T14:25:15.590Z"
   },
   {
    "duration": 1142,
    "start_time": "2022-03-15T14:25:21.181Z"
   },
   {
    "duration": 1009,
    "start_time": "2022-03-15T14:25:33.334Z"
   },
   {
    "duration": 1004,
    "start_time": "2022-03-15T14:25:43.590Z"
   },
   {
    "duration": 972,
    "start_time": "2022-03-15T14:25:51.284Z"
   },
   {
    "duration": 1162,
    "start_time": "2022-03-15T14:26:10.455Z"
   },
   {
    "duration": 1045,
    "start_time": "2022-03-15T14:26:27.223Z"
   },
   {
    "duration": 989,
    "start_time": "2022-03-15T14:26:56.239Z"
   },
   {
    "duration": 983,
    "start_time": "2022-03-15T14:27:15.230Z"
   },
   {
    "duration": 1146,
    "start_time": "2022-03-15T14:27:24.294Z"
   },
   {
    "duration": 989,
    "start_time": "2022-03-15T14:27:34.998Z"
   },
   {
    "duration": 975,
    "start_time": "2022-03-15T14:27:40.542Z"
   },
   {
    "duration": 418,
    "start_time": "2022-03-15T14:27:46.191Z"
   },
   {
    "duration": 403,
    "start_time": "2022-03-15T14:27:52.782Z"
   },
   {
    "duration": 563,
    "start_time": "2022-03-15T14:28:01.095Z"
   },
   {
    "duration": 391,
    "start_time": "2022-03-15T14:28:08.015Z"
   },
   {
    "duration": 448,
    "start_time": "2022-03-15T14:28:32.247Z"
   },
   {
    "duration": 496,
    "start_time": "2022-03-15T14:28:48.532Z"
   },
   {
    "duration": 450,
    "start_time": "2022-03-15T14:28:57.815Z"
   },
   {
    "duration": 15,
    "start_time": "2022-03-15T14:30:30.048Z"
   },
   {
    "duration": 1019,
    "start_time": "2022-03-15T14:30:33.864Z"
   },
   {
    "duration": 977,
    "start_time": "2022-03-15T14:30:48.374Z"
   },
   {
    "duration": 1095,
    "start_time": "2022-03-15T14:31:03.072Z"
   },
   {
    "duration": 414,
    "start_time": "2022-03-15T14:31:16.199Z"
   },
   {
    "duration": 461,
    "start_time": "2022-03-15T14:31:33.512Z"
   },
   {
    "duration": 423,
    "start_time": "2022-03-15T14:31:47.016Z"
   },
   {
    "duration": 414,
    "start_time": "2022-03-15T14:31:57.928Z"
   },
   {
    "duration": 416,
    "start_time": "2022-03-15T14:32:14.057Z"
   },
   {
    "duration": 15,
    "start_time": "2022-03-15T14:32:21.553Z"
   },
   {
    "duration": 1000,
    "start_time": "2022-03-15T14:32:40.496Z"
   },
   {
    "duration": 1833,
    "start_time": "2022-03-15T14:32:48.641Z"
   },
   {
    "duration": 996,
    "start_time": "2022-03-15T14:32:56.704Z"
   },
   {
    "duration": 1237,
    "start_time": "2022-03-15T14:33:03.408Z"
   },
   {
    "duration": 474,
    "start_time": "2022-03-15T14:33:27.312Z"
   },
   {
    "duration": 805,
    "start_time": "2022-03-15T17:13:06.491Z"
   },
   {
    "duration": 539,
    "start_time": "2022-03-15T17:21:14.622Z"
   },
   {
    "duration": 668,
    "start_time": "2022-03-15T17:21:31.591Z"
   },
   {
    "duration": 503,
    "start_time": "2022-03-15T17:21:44.214Z"
   },
   {
    "duration": 520,
    "start_time": "2022-03-15T17:21:50.877Z"
   },
   {
    "duration": 37,
    "start_time": "2022-03-15T17:32:12.466Z"
   },
   {
    "duration": 96,
    "start_time": "2022-03-15T17:34:13.987Z"
   },
   {
    "duration": 412,
    "start_time": "2022-03-15T17:41:06.967Z"
   },
   {
    "duration": 109,
    "start_time": "2022-03-15T17:41:14.046Z"
   },
   {
    "duration": 120,
    "start_time": "2022-03-15T17:41:38.493Z"
   },
   {
    "duration": 114,
    "start_time": "2022-03-15T17:43:34.111Z"
   },
   {
    "duration": 98,
    "start_time": "2022-03-15T17:45:30.601Z"
   },
   {
    "duration": 132,
    "start_time": "2022-03-15T19:21:28.793Z"
   },
   {
    "duration": 167,
    "start_time": "2022-03-15T19:27:26.083Z"
   },
   {
    "duration": 167,
    "start_time": "2022-03-15T19:29:17.316Z"
   },
   {
    "duration": 4310,
    "start_time": "2022-03-15T19:29:51.053Z"
   },
   {
    "duration": 44,
    "start_time": "2022-03-15T19:30:37.868Z"
   },
   {
    "duration": 11,
    "start_time": "2022-03-15T19:38:39.511Z"
   },
   {
    "duration": 44,
    "start_time": "2022-03-15T19:39:21.344Z"
   },
   {
    "duration": 43,
    "start_time": "2022-03-15T19:39:31.688Z"
   },
   {
    "duration": 41,
    "start_time": "2022-03-15T19:39:46.935Z"
   },
   {
    "duration": 3609,
    "start_time": "2022-03-15T19:43:22.704Z"
   },
   {
    "duration": 38,
    "start_time": "2022-03-15T19:44:06.672Z"
   },
   {
    "duration": 39,
    "start_time": "2022-03-15T19:45:49.697Z"
   },
   {
    "duration": 4220,
    "start_time": "2022-03-15T19:45:52.042Z"
   },
   {
    "duration": 42,
    "start_time": "2022-03-15T19:48:00.955Z"
   },
   {
    "duration": 16,
    "start_time": "2022-03-15T19:48:07.290Z"
   },
   {
    "duration": 160,
    "start_time": "2022-03-15T19:54:22.508Z"
   },
   {
    "duration": 13,
    "start_time": "2022-03-15T19:54:36.604Z"
   },
   {
    "duration": 3693,
    "start_time": "2022-03-15T19:56:56.983Z"
   },
   {
    "duration": 5,
    "start_time": "2022-03-15T19:57:07.844Z"
   },
   {
    "duration": 308,
    "start_time": "2022-03-15T19:57:07.851Z"
   },
   {
    "duration": 231,
    "start_time": "2022-03-15T19:57:08.162Z"
   },
   {
    "duration": 165,
    "start_time": "2022-03-15T19:57:08.397Z"
   },
   {
    "duration": 87,
    "start_time": "2022-03-15T19:57:08.566Z"
   },
   {
    "duration": 57,
    "start_time": "2022-03-15T19:57:08.655Z"
   },
   {
    "duration": 217,
    "start_time": "2022-03-15T19:57:08.714Z"
   },
   {
    "duration": 241,
    "start_time": "2022-03-15T19:57:08.936Z"
   },
   {
    "duration": 47,
    "start_time": "2022-03-15T19:57:09.181Z"
   },
   {
    "duration": 77,
    "start_time": "2022-03-15T19:57:09.231Z"
   },
   {
    "duration": 158,
    "start_time": "2022-03-15T19:57:09.310Z"
   },
   {
    "duration": 58,
    "start_time": "2022-03-15T19:57:09.470Z"
   },
   {
    "duration": 203,
    "start_time": "2022-03-15T19:57:09.530Z"
   },
   {
    "duration": 63,
    "start_time": "2022-03-15T19:57:09.735Z"
   },
   {
    "duration": 89,
    "start_time": "2022-03-15T19:57:09.801Z"
   },
   {
    "duration": 11,
    "start_time": "2022-03-15T19:57:09.893Z"
   },
   {
    "duration": 7,
    "start_time": "2022-03-15T19:57:09.906Z"
   },
   {
    "duration": 793,
    "start_time": "2022-03-15T19:57:09.915Z"
   },
   {
    "duration": 71,
    "start_time": "2022-03-15T19:57:10.710Z"
   },
   {
    "duration": 1042,
    "start_time": "2022-03-15T19:57:10.784Z"
   },
   {
    "duration": 451,
    "start_time": "2022-03-15T19:57:11.829Z"
   },
   {
    "duration": 15,
    "start_time": "2022-03-15T19:57:12.282Z"
   },
   {
    "duration": 1006,
    "start_time": "2022-03-15T19:57:12.302Z"
   },
   {
    "duration": 591,
    "start_time": "2022-03-15T19:57:13.311Z"
   },
   {
    "duration": 16,
    "start_time": "2022-03-15T19:57:13.904Z"
   },
   {
    "duration": 989,
    "start_time": "2022-03-15T19:57:13.922Z"
   },
   {
    "duration": 467,
    "start_time": "2022-03-15T19:57:14.913Z"
   },
   {
    "duration": 15,
    "start_time": "2022-03-15T19:57:15.383Z"
   },
   {
    "duration": 87,
    "start_time": "2022-03-15T19:57:15.400Z"
   },
   {
    "duration": 1106,
    "start_time": "2022-03-15T19:57:15.490Z"
   },
   {
    "duration": 431,
    "start_time": "2022-03-15T19:57:16.599Z"
   },
   {
    "duration": 27,
    "start_time": "2022-03-15T19:57:17.033Z"
   },
   {
    "duration": 982,
    "start_time": "2022-03-15T19:57:17.064Z"
   },
   {
    "duration": 570,
    "start_time": "2022-03-15T19:57:18.052Z"
   },
   {
    "duration": 32,
    "start_time": "2022-03-15T19:57:18.624Z"
   },
   {
    "duration": 1199,
    "start_time": "2022-03-15T19:57:18.658Z"
   },
   {
    "duration": 435,
    "start_time": "2022-03-15T19:57:19.860Z"
   },
   {
    "duration": 52,
    "start_time": "2022-03-15T19:57:20.299Z"
   },
   {
    "duration": 502,
    "start_time": "2022-03-15T19:57:20.354Z"
   },
   {
    "duration": 125,
    "start_time": "2022-03-15T19:57:20.860Z"
   },
   {
    "duration": 15,
    "start_time": "2022-03-15T19:57:20.988Z"
   },
   {
    "duration": 52,
    "start_time": "2022-03-15T19:57:21.005Z"
   },
   {
    "duration": 31,
    "start_time": "2022-03-15T19:59:00.778Z"
   },
   {
    "duration": 7,
    "start_time": "2022-03-16T00:40:16.412Z"
   },
   {
    "duration": 1089,
    "start_time": "2022-03-26T19:02:57.593Z"
   },
   {
    "duration": 318,
    "start_time": "2022-03-26T19:02:58.684Z"
   },
   {
    "duration": 233,
    "start_time": "2022-03-26T19:02:59.004Z"
   },
   {
    "duration": 152,
    "start_time": "2022-03-26T19:02:59.239Z"
   },
   {
    "duration": 52,
    "start_time": "2022-03-26T19:02:59.393Z"
   },
   {
    "duration": 54,
    "start_time": "2022-03-26T19:02:59.447Z"
   },
   {
    "duration": 237,
    "start_time": "2022-03-26T19:02:59.502Z"
   },
   {
    "duration": 364,
    "start_time": "2022-03-26T19:02:59.740Z"
   },
   {
    "duration": 56,
    "start_time": "2022-03-26T19:03:00.106Z"
   },
   {
    "duration": 67,
    "start_time": "2022-03-26T19:03:00.165Z"
   },
   {
    "duration": 136,
    "start_time": "2022-03-26T19:03:00.234Z"
   },
   {
    "duration": 58,
    "start_time": "2022-03-26T19:03:00.372Z"
   },
   {
    "duration": 131,
    "start_time": "2022-03-26T19:03:00.432Z"
   },
   {
    "duration": 49,
    "start_time": "2022-03-26T19:03:00.565Z"
   },
   {
    "duration": 5,
    "start_time": "2022-03-26T19:03:00.615Z"
   },
   {
    "duration": 59,
    "start_time": "2022-03-26T19:03:00.621Z"
   },
   {
    "duration": 7,
    "start_time": "2022-03-26T19:03:00.682Z"
   },
   {
    "duration": 13,
    "start_time": "2022-03-26T19:03:00.690Z"
   },
   {
    "duration": 215,
    "start_time": "2022-03-26T19:03:00.704Z"
   },
   {
    "duration": 38,
    "start_time": "2022-03-26T19:03:00.921Z"
   },
   {
    "duration": 443,
    "start_time": "2022-03-26T19:03:00.961Z"
   },
   {
    "duration": 185,
    "start_time": "2022-03-26T19:03:01.406Z"
   },
   {
    "duration": 17,
    "start_time": "2022-03-26T19:03:01.593Z"
   },
   {
    "duration": 637,
    "start_time": "2022-03-26T19:03:01.612Z"
   },
   {
    "duration": 239,
    "start_time": "2022-03-26T19:03:02.251Z"
   },
   {
    "duration": 17,
    "start_time": "2022-03-26T19:03:02.492Z"
   },
   {
    "duration": 459,
    "start_time": "2022-03-26T19:03:02.510Z"
   },
   {
    "duration": 153,
    "start_time": "2022-03-26T19:03:02.980Z"
   },
   {
    "duration": 11,
    "start_time": "2022-03-26T19:03:03.135Z"
   },
   {
    "duration": 51,
    "start_time": "2022-03-26T19:03:03.148Z"
   },
   {
    "duration": 416,
    "start_time": "2022-03-26T19:03:03.200Z"
   },
   {
    "duration": 155,
    "start_time": "2022-03-26T19:03:03.618Z"
   },
   {
    "duration": 16,
    "start_time": "2022-03-26T19:03:03.774Z"
   },
   {
    "duration": 395,
    "start_time": "2022-03-26T19:03:03.792Z"
   },
   {
    "duration": 232,
    "start_time": "2022-03-26T19:03:04.189Z"
   },
   {
    "duration": 12,
    "start_time": "2022-03-26T19:03:04.423Z"
   },
   {
    "duration": 490,
    "start_time": "2022-03-26T19:03:04.437Z"
   },
   {
    "duration": 160,
    "start_time": "2022-03-26T19:03:04.929Z"
   },
   {
    "duration": 12,
    "start_time": "2022-03-26T19:03:05.090Z"
   },
   {
    "duration": 201,
    "start_time": "2022-03-26T19:03:05.104Z"
   },
   {
    "duration": 37,
    "start_time": "2022-03-26T19:03:05.311Z"
   },
   {
    "duration": 7,
    "start_time": "2022-03-26T19:03:05.350Z"
   },
   {
    "duration": 24,
    "start_time": "2022-03-26T19:03:05.358Z"
   },
   {
    "duration": 9,
    "start_time": "2022-03-26T19:03:05.384Z"
   },
   {
    "duration": 89,
    "start_time": "2022-03-26T19:12:02.709Z"
   },
   {
    "duration": 7,
    "start_time": "2022-03-26T19:12:05.575Z"
   },
   {
    "duration": 1676,
    "start_time": "2022-03-27T19:31:27.314Z"
   },
   {
    "duration": 337,
    "start_time": "2022-03-27T19:31:28.993Z"
   },
   {
    "duration": 237,
    "start_time": "2022-03-27T19:31:29.332Z"
   },
   {
    "duration": 152,
    "start_time": "2022-03-27T19:31:29.573Z"
   },
   {
    "duration": 70,
    "start_time": "2022-03-27T19:31:29.727Z"
   },
   {
    "duration": 74,
    "start_time": "2022-03-27T19:31:29.799Z"
   },
   {
    "duration": 272,
    "start_time": "2022-03-27T19:31:29.875Z"
   },
   {
    "duration": 553,
    "start_time": "2022-03-27T19:31:30.149Z"
   },
   {
    "duration": 69,
    "start_time": "2022-03-27T19:31:30.705Z"
   },
   {
    "duration": 79,
    "start_time": "2022-03-27T19:31:30.778Z"
   },
   {
    "duration": 150,
    "start_time": "2022-03-27T19:31:30.860Z"
   },
   {
    "duration": 86,
    "start_time": "2022-03-27T19:31:31.013Z"
   },
   {
    "duration": 211,
    "start_time": "2022-03-27T19:31:31.102Z"
   },
   {
    "duration": 102,
    "start_time": "2022-03-27T19:31:31.315Z"
   },
   {
    "duration": 7,
    "start_time": "2022-03-27T19:31:31.420Z"
   },
   {
    "duration": 127,
    "start_time": "2022-03-27T19:31:31.430Z"
   },
   {
    "duration": 16,
    "start_time": "2022-03-27T19:31:31.560Z"
   },
   {
    "duration": 30,
    "start_time": "2022-03-27T19:31:31.579Z"
   },
   {
    "duration": 516,
    "start_time": "2022-03-27T19:31:31.612Z"
   },
   {
    "duration": 67,
    "start_time": "2022-03-27T19:31:32.130Z"
   },
   {
    "duration": 759,
    "start_time": "2022-03-27T19:31:32.199Z"
   },
   {
    "duration": 317,
    "start_time": "2022-03-27T19:31:32.961Z"
   },
   {
    "duration": 19,
    "start_time": "2022-03-27T19:31:33.280Z"
   },
   {
    "duration": 874,
    "start_time": "2022-03-27T19:31:33.302Z"
   },
   {
    "duration": 320,
    "start_time": "2022-03-27T19:31:34.178Z"
   },
   {
    "duration": 20,
    "start_time": "2022-03-27T19:31:34.502Z"
   },
   {
    "duration": 1038,
    "start_time": "2022-03-27T19:31:34.543Z"
   },
   {
    "duration": 312,
    "start_time": "2022-03-27T19:31:35.586Z"
   },
   {
    "duration": 21,
    "start_time": "2022-03-27T19:31:35.900Z"
   },
   {
    "duration": 57,
    "start_time": "2022-03-27T19:31:35.943Z"
   },
   {
    "duration": 745,
    "start_time": "2022-03-27T19:31:36.003Z"
   },
   {
    "duration": 298,
    "start_time": "2022-03-27T19:31:36.750Z"
   },
   {
    "duration": 17,
    "start_time": "2022-03-27T19:31:37.050Z"
   },
   {
    "duration": 1012,
    "start_time": "2022-03-27T19:31:37.069Z"
   },
   {
    "duration": 409,
    "start_time": "2022-03-27T19:31:38.084Z"
   },
   {
    "duration": 19,
    "start_time": "2022-03-27T19:31:38.496Z"
   },
   {
    "duration": 1002,
    "start_time": "2022-03-27T19:31:38.518Z"
   },
   {
    "duration": 286,
    "start_time": "2022-03-27T19:31:39.523Z"
   },
   {
    "duration": 33,
    "start_time": "2022-03-27T19:31:39.811Z"
   },
   {
    "duration": 330,
    "start_time": "2022-03-27T19:31:39.846Z"
   },
   {
    "duration": 98,
    "start_time": "2022-03-27T19:31:40.179Z"
   },
   {
    "duration": 10,
    "start_time": "2022-03-27T19:31:40.280Z"
   },
   {
    "duration": 51,
    "start_time": "2022-03-27T19:31:40.292Z"
   },
   {
    "duration": 13,
    "start_time": "2022-03-27T19:31:40.345Z"
   },
   {
    "duration": 241,
    "start_time": "2022-03-27T19:33:36.191Z"
   },
   {
    "duration": 10,
    "start_time": "2022-03-27T19:33:42.767Z"
   },
   {
    "duration": 369,
    "start_time": "2022-03-27T19:33:43.135Z"
   },
   {
    "duration": 325,
    "start_time": "2022-03-27T19:33:43.687Z"
   },
   {
    "duration": 157,
    "start_time": "2022-03-27T19:33:44.070Z"
   },
   {
    "duration": 70,
    "start_time": "2022-03-27T19:33:44.351Z"
   },
   {
    "duration": 77,
    "start_time": "2022-03-27T19:33:44.558Z"
   },
   {
    "duration": 320,
    "start_time": "2022-03-27T19:33:45.445Z"
   },
   {
    "duration": 520,
    "start_time": "2022-03-27T19:33:45.768Z"
   },
   {
    "duration": 80,
    "start_time": "2022-03-27T19:33:49.582Z"
   },
   {
    "duration": 97,
    "start_time": "2022-03-27T19:34:07.928Z"
   },
   {
    "duration": 134,
    "start_time": "2022-03-27T19:34:08.774Z"
   },
   {
    "duration": 88,
    "start_time": "2022-03-27T19:34:09.271Z"
   },
   {
    "duration": 273,
    "start_time": "2022-03-27T19:34:10.614Z"
   },
   {
    "duration": 55,
    "start_time": "2022-03-27T19:34:11.414Z"
   },
   {
    "duration": 6,
    "start_time": "2022-03-27T19:34:11.605Z"
   },
   {
    "duration": 80,
    "start_time": "2022-03-27T19:34:12.406Z"
   },
   {
    "duration": 12,
    "start_time": "2022-03-27T19:34:18.254Z"
   },
   {
    "duration": 5,
    "start_time": "2022-03-27T19:34:19.046Z"
   },
   {
    "duration": 12,
    "start_time": "2022-03-27T19:34:20.022Z"
   },
   {
    "duration": 13,
    "start_time": "2022-03-27T19:34:33.214Z"
   },
   {
    "duration": 11,
    "start_time": "2022-03-27T19:35:07.750Z"
   },
   {
    "duration": 5,
    "start_time": "2022-03-27T19:35:19.206Z"
   },
   {
    "duration": 257,
    "start_time": "2022-03-27T19:35:19.759Z"
   },
   {
    "duration": 270,
    "start_time": "2022-03-27T19:35:20.190Z"
   },
   {
    "duration": 148,
    "start_time": "2022-03-27T19:35:20.679Z"
   },
   {
    "duration": 65,
    "start_time": "2022-03-27T19:35:21.190Z"
   },
   {
    "duration": 66,
    "start_time": "2022-03-27T19:35:21.663Z"
   },
   {
    "duration": 217,
    "start_time": "2022-03-27T19:35:22.590Z"
   },
   {
    "duration": 416,
    "start_time": "2022-03-27T19:35:22.919Z"
   },
   {
    "duration": 77,
    "start_time": "2022-03-27T19:35:23.582Z"
   },
   {
    "duration": 91,
    "start_time": "2022-03-27T19:35:23.910Z"
   },
   {
    "duration": 140,
    "start_time": "2022-03-27T19:35:24.398Z"
   },
   {
    "duration": 58,
    "start_time": "2022-03-27T19:35:24.558Z"
   },
   {
    "duration": 179,
    "start_time": "2022-03-27T19:35:25.053Z"
   },
   {
    "duration": 55,
    "start_time": "2022-03-27T19:35:25.398Z"
   },
   {
    "duration": 5,
    "start_time": "2022-03-27T19:35:25.566Z"
   },
   {
    "duration": 105,
    "start_time": "2022-03-27T19:35:25.919Z"
   },
   {
    "duration": 18,
    "start_time": "2022-03-27T19:35:26.078Z"
   },
   {
    "duration": 7,
    "start_time": "2022-03-27T19:35:26.262Z"
   },
   {
    "duration": 11,
    "start_time": "2022-03-27T19:35:26.598Z"
   },
   {
    "duration": 376,
    "start_time": "2022-03-27T19:35:26.766Z"
   },
   {
    "duration": 15,
    "start_time": "2022-03-27T19:36:54.272Z"
   },
   {
    "duration": 16,
    "start_time": "2022-03-27T19:40:04.150Z"
   },
   {
    "duration": 33,
    "start_time": "2022-03-27T19:40:16.216Z"
   },
   {
    "duration": 9,
    "start_time": "2022-03-27T19:40:39.722Z"
   },
   {
    "duration": 12,
    "start_time": "2022-03-27T19:40:58.034Z"
   },
   {
    "duration": 13,
    "start_time": "2022-03-27T19:42:13.200Z"
   },
   {
    "duration": 13,
    "start_time": "2022-03-27T19:42:18.362Z"
   },
   {
    "duration": 8,
    "start_time": "2022-03-27T19:42:22.225Z"
   },
   {
    "duration": 8,
    "start_time": "2022-03-27T19:42:43.017Z"
   },
   {
    "duration": 61,
    "start_time": "2022-03-27T20:06:56.730Z"
   },
   {
    "duration": 5,
    "start_time": "2022-03-27T20:10:04.667Z"
   },
   {
    "duration": 27,
    "start_time": "2022-03-27T20:10:11.155Z"
   },
   {
    "duration": 5,
    "start_time": "2022-03-27T20:10:18.283Z"
   },
   {
    "duration": 350,
    "start_time": "2022-03-27T20:10:18.675Z"
   },
   {
    "duration": 240,
    "start_time": "2022-03-27T20:10:19.028Z"
   },
   {
    "duration": 154,
    "start_time": "2022-03-27T20:10:19.270Z"
   },
   {
    "duration": 67,
    "start_time": "2022-03-27T20:10:19.426Z"
   },
   {
    "duration": 70,
    "start_time": "2022-03-27T20:10:19.495Z"
   },
   {
    "duration": 248,
    "start_time": "2022-03-27T20:10:20.107Z"
   },
   {
    "duration": 318,
    "start_time": "2022-03-27T20:10:20.411Z"
   },
   {
    "duration": 52,
    "start_time": "2022-03-27T20:10:21.051Z"
   },
   {
    "duration": 4,
    "start_time": "2022-03-27T20:10:21.370Z"
   },
   {
    "duration": 130,
    "start_time": "2022-03-27T20:10:21.859Z"
   },
   {
    "duration": 59,
    "start_time": "2022-03-27T20:10:22.032Z"
   },
   {
    "duration": 191,
    "start_time": "2022-03-27T20:10:22.484Z"
   },
   {
    "duration": 51,
    "start_time": "2022-03-27T20:10:22.795Z"
   },
   {
    "duration": 5,
    "start_time": "2022-03-27T20:10:22.963Z"
   },
   {
    "duration": 71,
    "start_time": "2022-03-27T20:10:23.275Z"
   },
   {
    "duration": 12,
    "start_time": "2022-03-27T20:10:23.434Z"
   },
   {
    "duration": 5,
    "start_time": "2022-03-27T20:10:23.602Z"
   },
   {
    "duration": 27,
    "start_time": "2022-03-27T20:10:24.732Z"
   },
   {
    "duration": 13,
    "start_time": "2022-03-27T20:28:22.666Z"
   },
   {
    "duration": 49,
    "start_time": "2022-03-27T20:34:30.794Z"
   },
   {
    "duration": 17,
    "start_time": "2022-03-27T20:51:13.720Z"
   },
   {
    "duration": 27,
    "start_time": "2022-03-27T20:52:00.258Z"
   },
   {
    "duration": 1368,
    "start_time": "2022-03-28T19:41:16.197Z"
   },
   {
    "duration": 297,
    "start_time": "2022-03-28T19:41:17.568Z"
   },
   {
    "duration": 224,
    "start_time": "2022-03-28T19:41:17.868Z"
   },
   {
    "duration": 135,
    "start_time": "2022-03-28T19:41:18.096Z"
   },
   {
    "duration": 66,
    "start_time": "2022-03-28T19:41:18.233Z"
   },
   {
    "duration": 85,
    "start_time": "2022-03-28T19:41:18.301Z"
   },
   {
    "duration": 228,
    "start_time": "2022-03-28T19:41:18.388Z"
   },
   {
    "duration": 297,
    "start_time": "2022-03-28T19:41:18.618Z"
   },
   {
    "duration": 47,
    "start_time": "2022-03-28T19:41:18.918Z"
   },
   {
    "duration": 85,
    "start_time": "2022-03-28T19:41:18.969Z"
   },
   {
    "duration": 4,
    "start_time": "2022-03-28T19:41:19.056Z"
   },
   {
    "duration": 164,
    "start_time": "2022-03-28T19:41:19.062Z"
   },
   {
    "duration": 47,
    "start_time": "2022-03-28T19:41:19.232Z"
   },
   {
    "duration": 190,
    "start_time": "2022-03-28T19:41:19.281Z"
   },
   {
    "duration": 66,
    "start_time": "2022-03-28T19:41:19.473Z"
   },
   {
    "duration": 5,
    "start_time": "2022-03-28T19:41:19.542Z"
   },
   {
    "duration": 133,
    "start_time": "2022-03-28T19:41:19.549Z"
   },
   {
    "duration": 0,
    "start_time": "2022-03-28T19:41:19.685Z"
   },
   {
    "duration": 0,
    "start_time": "2022-03-28T19:41:19.687Z"
   },
   {
    "duration": 0,
    "start_time": "2022-03-28T19:41:19.689Z"
   },
   {
    "duration": 0,
    "start_time": "2022-03-28T19:41:19.689Z"
   },
   {
    "duration": 0,
    "start_time": "2022-03-28T19:41:19.691Z"
   },
   {
    "duration": 0,
    "start_time": "2022-03-28T19:41:19.692Z"
   },
   {
    "duration": 0,
    "start_time": "2022-03-28T19:41:19.693Z"
   },
   {
    "duration": 0,
    "start_time": "2022-03-28T19:41:19.695Z"
   },
   {
    "duration": 0,
    "start_time": "2022-03-28T19:41:19.697Z"
   },
   {
    "duration": 0,
    "start_time": "2022-03-28T19:41:19.698Z"
   },
   {
    "duration": 0,
    "start_time": "2022-03-28T19:41:19.700Z"
   },
   {
    "duration": 0,
    "start_time": "2022-03-28T19:41:19.702Z"
   },
   {
    "duration": 0,
    "start_time": "2022-03-28T19:41:19.703Z"
   },
   {
    "duration": 0,
    "start_time": "2022-03-28T19:41:19.705Z"
   },
   {
    "duration": 0,
    "start_time": "2022-03-28T19:41:19.732Z"
   },
   {
    "duration": 0,
    "start_time": "2022-03-28T19:41:19.734Z"
   },
   {
    "duration": 0,
    "start_time": "2022-03-28T19:41:19.736Z"
   },
   {
    "duration": 0,
    "start_time": "2022-03-28T19:41:19.738Z"
   },
   {
    "duration": 0,
    "start_time": "2022-03-28T19:41:19.740Z"
   },
   {
    "duration": 0,
    "start_time": "2022-03-28T19:41:19.741Z"
   },
   {
    "duration": 0,
    "start_time": "2022-03-28T19:41:19.742Z"
   },
   {
    "duration": 0,
    "start_time": "2022-03-28T19:41:19.743Z"
   },
   {
    "duration": 0,
    "start_time": "2022-03-28T19:41:19.745Z"
   },
   {
    "duration": 0,
    "start_time": "2022-03-28T19:41:19.746Z"
   },
   {
    "duration": 0,
    "start_time": "2022-03-28T19:41:19.748Z"
   },
   {
    "duration": 0,
    "start_time": "2022-03-28T19:41:19.748Z"
   },
   {
    "duration": 0,
    "start_time": "2022-03-28T19:41:19.750Z"
   },
   {
    "duration": 0,
    "start_time": "2022-03-28T19:41:19.751Z"
   },
   {
    "duration": 1215,
    "start_time": "2022-03-28T19:46:46.121Z"
   },
   {
    "duration": 309,
    "start_time": "2022-03-28T19:46:47.339Z"
   },
   {
    "duration": 215,
    "start_time": "2022-03-28T19:46:47.650Z"
   },
   {
    "duration": 143,
    "start_time": "2022-03-28T19:46:47.868Z"
   },
   {
    "duration": 54,
    "start_time": "2022-03-28T19:46:48.013Z"
   },
   {
    "duration": 66,
    "start_time": "2022-03-28T19:46:48.069Z"
   },
   {
    "duration": 229,
    "start_time": "2022-03-28T19:46:48.136Z"
   },
   {
    "duration": 275,
    "start_time": "2022-03-28T19:46:48.367Z"
   },
   {
    "duration": 27,
    "start_time": "2022-03-28T19:46:48.644Z"
   },
   {
    "duration": 71,
    "start_time": "2022-03-28T19:46:48.675Z"
   },
   {
    "duration": 48,
    "start_time": "2022-03-28T19:46:48.748Z"
   },
   {
    "duration": 123,
    "start_time": "2022-03-28T19:46:48.798Z"
   },
   {
    "duration": 52,
    "start_time": "2022-03-28T19:46:48.923Z"
   },
   {
    "duration": 156,
    "start_time": "2022-03-28T19:46:48.977Z"
   },
   {
    "duration": 63,
    "start_time": "2022-03-28T19:46:49.136Z"
   },
   {
    "duration": 5,
    "start_time": "2022-03-28T19:46:49.201Z"
   },
   {
    "duration": 76,
    "start_time": "2022-03-28T19:46:49.208Z"
   },
   {
    "duration": 9,
    "start_time": "2022-03-28T19:46:49.287Z"
   },
   {
    "duration": 11,
    "start_time": "2022-03-28T19:46:49.298Z"
   },
   {
    "duration": 276,
    "start_time": "2022-03-28T19:46:49.310Z"
   },
   {
    "duration": 53,
    "start_time": "2022-03-28T19:46:49.588Z"
   },
   {
    "duration": 545,
    "start_time": "2022-03-28T19:46:49.642Z"
   },
   {
    "duration": 206,
    "start_time": "2022-03-28T19:46:50.189Z"
   },
   {
    "duration": 16,
    "start_time": "2022-03-28T19:46:50.397Z"
   },
   {
    "duration": 532,
    "start_time": "2022-03-28T19:46:50.435Z"
   },
   {
    "duration": 214,
    "start_time": "2022-03-28T19:46:50.968Z"
   },
   {
    "duration": 17,
    "start_time": "2022-03-28T19:46:51.184Z"
   },
   {
    "duration": 599,
    "start_time": "2022-03-28T19:46:51.206Z"
   },
   {
    "duration": 194,
    "start_time": "2022-03-28T19:46:51.807Z"
   },
   {
    "duration": 14,
    "start_time": "2022-03-28T19:46:52.003Z"
   },
   {
    "duration": 41,
    "start_time": "2022-03-28T19:46:52.031Z"
   },
   {
    "duration": 528,
    "start_time": "2022-03-28T19:46:52.074Z"
   },
   {
    "duration": 197,
    "start_time": "2022-03-28T19:46:52.604Z"
   },
   {
    "duration": 16,
    "start_time": "2022-03-28T19:46:52.802Z"
   },
   {
    "duration": 516,
    "start_time": "2022-03-28T19:46:52.832Z"
   },
   {
    "duration": 204,
    "start_time": "2022-03-28T19:46:53.350Z"
   },
   {
    "duration": 15,
    "start_time": "2022-03-28T19:46:53.556Z"
   },
   {
    "duration": 606,
    "start_time": "2022-03-28T19:46:53.572Z"
   },
   {
    "duration": 213,
    "start_time": "2022-03-28T19:46:54.180Z"
   },
   {
    "duration": 17,
    "start_time": "2022-03-28T19:46:54.395Z"
   },
   {
    "duration": 227,
    "start_time": "2022-03-28T19:46:54.431Z"
   },
   {
    "duration": 54,
    "start_time": "2022-03-28T19:46:54.660Z"
   },
   {
    "duration": 21,
    "start_time": "2022-03-28T19:46:54.716Z"
   },
   {
    "duration": 31,
    "start_time": "2022-03-28T19:46:54.741Z"
   },
   {
    "duration": 10,
    "start_time": "2022-03-28T19:46:54.774Z"
   },
   {
    "duration": 4,
    "start_time": "2022-03-28T19:50:39.151Z"
   },
   {
    "duration": 110,
    "start_time": "2022-03-28T19:50:56.315Z"
   },
   {
    "duration": 4,
    "start_time": "2022-03-28T19:53:17.838Z"
   },
   {
    "duration": 25,
    "start_time": "2022-03-28T19:54:17.241Z"
   },
   {
    "duration": 34,
    "start_time": "2022-03-28T19:55:03.926Z"
   },
   {
    "duration": 15,
    "start_time": "2022-03-28T20:22:17.752Z"
   },
   {
    "duration": 4,
    "start_time": "2022-03-28T20:23:42.049Z"
   },
   {
    "duration": 5,
    "start_time": "2022-03-28T20:23:55.332Z"
   },
   {
    "duration": 5,
    "start_time": "2022-03-28T20:24:21.768Z"
   },
   {
    "duration": 4,
    "start_time": "2022-03-28T20:27:43.825Z"
   },
   {
    "duration": 5,
    "start_time": "2022-03-28T20:28:29.503Z"
   },
   {
    "duration": 7,
    "start_time": "2022-03-28T20:35:12.529Z"
   },
   {
    "duration": 6,
    "start_time": "2022-03-28T20:35:21.089Z"
   },
   {
    "duration": 20,
    "start_time": "2022-03-28T20:35:57.053Z"
   },
   {
    "duration": 35,
    "start_time": "2022-03-28T20:44:09.324Z"
   },
   {
    "duration": 24,
    "start_time": "2022-03-28T20:47:07.783Z"
   },
   {
    "duration": 9,
    "start_time": "2022-03-28T20:47:17.690Z"
   },
   {
    "duration": 9,
    "start_time": "2022-03-28T20:47:26.925Z"
   },
   {
    "duration": 157,
    "start_time": "2022-03-28T20:48:00.815Z"
   },
   {
    "duration": 253,
    "start_time": "2022-03-28T20:48:09.048Z"
   },
   {
    "duration": 24,
    "start_time": "2022-03-28T20:49:33.117Z"
   },
   {
    "duration": 11,
    "start_time": "2022-03-28T20:50:34.745Z"
   },
   {
    "duration": 11,
    "start_time": "2022-03-28T20:50:37.453Z"
   },
   {
    "duration": 5,
    "start_time": "2022-03-28T20:58:27.271Z"
   },
   {
    "duration": 8,
    "start_time": "2022-03-28T20:58:57.431Z"
   },
   {
    "duration": 5,
    "start_time": "2022-03-28T21:01:12.928Z"
   },
   {
    "duration": 6,
    "start_time": "2022-03-28T21:01:23.599Z"
   },
   {
    "duration": 49,
    "start_time": "2022-03-28T21:19:47.330Z"
   },
   {
    "duration": 1191,
    "start_time": "2022-03-28T21:19:56.858Z"
   },
   {
    "duration": 263,
    "start_time": "2022-03-28T21:19:58.052Z"
   },
   {
    "duration": 174,
    "start_time": "2022-03-28T21:19:58.316Z"
   },
   {
    "duration": 117,
    "start_time": "2022-03-28T21:19:58.673Z"
   },
   {
    "duration": 46,
    "start_time": "2022-03-28T21:19:59.441Z"
   },
   {
    "duration": 64,
    "start_time": "2022-03-28T21:20:00.033Z"
   },
   {
    "duration": 172,
    "start_time": "2022-03-28T21:20:01.929Z"
   },
   {
    "duration": 237,
    "start_time": "2022-03-28T21:20:03.041Z"
   },
   {
    "duration": 44,
    "start_time": "2022-03-28T21:20:05.390Z"
   },
   {
    "duration": 68,
    "start_time": "2022-03-28T21:21:58.715Z"
   },
   {
    "duration": 11,
    "start_time": "2022-03-28T21:22:23.297Z"
   },
   {
    "duration": 91,
    "start_time": "2022-03-28T21:22:32.818Z"
   },
   {
    "duration": 23,
    "start_time": "2022-03-28T21:22:35.682Z"
   },
   {
    "duration": 20,
    "start_time": "2022-03-28T21:22:49.554Z"
   },
   {
    "duration": 130,
    "start_time": "2022-03-28T21:23:25.923Z"
   },
   {
    "duration": 20,
    "start_time": "2022-03-28T21:26:52.234Z"
   },
   {
    "duration": 4,
    "start_time": "2022-03-28T21:27:02.740Z"
   },
   {
    "duration": 59,
    "start_time": "2022-03-28T21:47:53.953Z"
   },
   {
    "duration": 8,
    "start_time": "2022-03-28T21:47:59.571Z"
   },
   {
    "duration": 3405,
    "start_time": "2022-03-28T21:49:23.003Z"
   },
   {
    "duration": 76,
    "start_time": "2022-03-28T22:08:53.962Z"
   },
   {
    "duration": 3,
    "start_time": "2022-03-28T22:09:33.290Z"
   },
   {
    "duration": 186,
    "start_time": "2022-03-28T22:09:33.649Z"
   },
   {
    "duration": 183,
    "start_time": "2022-03-28T22:09:34.594Z"
   },
   {
    "duration": 109,
    "start_time": "2022-03-28T22:09:35.306Z"
   },
   {
    "duration": 44,
    "start_time": "2022-03-28T22:09:35.881Z"
   },
   {
    "duration": 55,
    "start_time": "2022-03-28T22:09:36.417Z"
   },
   {
    "duration": 149,
    "start_time": "2022-03-28T22:09:38.745Z"
   },
   {
    "duration": 219,
    "start_time": "2022-03-28T22:09:39.722Z"
   },
   {
    "duration": 30,
    "start_time": "2022-03-28T22:09:42.257Z"
   },
   {
    "duration": 3,
    "start_time": "2022-03-28T22:09:44.945Z"
   },
   {
    "duration": 3,
    "start_time": "2022-03-28T22:09:47.769Z"
   },
   {
    "duration": 92,
    "start_time": "2022-03-28T22:09:50.922Z"
   },
   {
    "duration": 18,
    "start_time": "2022-03-28T22:09:51.979Z"
   },
   {
    "duration": 111,
    "start_time": "2022-03-28T22:09:53.602Z"
   },
   {
    "duration": 17,
    "start_time": "2022-03-28T22:09:54.730Z"
   },
   {
    "duration": 4,
    "start_time": "2022-03-28T22:09:55.354Z"
   },
   {
    "duration": 70,
    "start_time": "2022-03-28T22:09:58.290Z"
   },
   {
    "duration": 73,
    "start_time": "2022-03-28T22:15:08.501Z"
   },
   {
    "duration": 3,
    "start_time": "2022-03-28T22:15:22.568Z"
   },
   {
    "duration": 192,
    "start_time": "2022-03-28T22:15:22.573Z"
   },
   {
    "duration": 196,
    "start_time": "2022-03-28T22:15:22.767Z"
   },
   {
    "duration": 121,
    "start_time": "2022-03-28T22:15:22.965Z"
   },
   {
    "duration": 47,
    "start_time": "2022-03-28T22:15:23.088Z"
   },
   {
    "duration": 59,
    "start_time": "2022-03-28T22:15:23.137Z"
   },
   {
    "duration": 169,
    "start_time": "2022-03-28T22:15:23.198Z"
   },
   {
    "duration": 221,
    "start_time": "2022-03-28T22:15:23.369Z"
   },
   {
    "duration": 37,
    "start_time": "2022-03-28T22:15:23.591Z"
   },
   {
    "duration": 2,
    "start_time": "2022-03-28T22:15:23.630Z"
   },
   {
    "duration": 7,
    "start_time": "2022-03-28T22:15:23.633Z"
   },
   {
    "duration": 103,
    "start_time": "2022-03-28T22:15:23.642Z"
   },
   {
    "duration": 19,
    "start_time": "2022-03-28T22:15:23.747Z"
   },
   {
    "duration": 133,
    "start_time": "2022-03-28T22:15:23.769Z"
   },
   {
    "duration": 16,
    "start_time": "2022-03-28T22:15:23.904Z"
   },
   {
    "duration": 3,
    "start_time": "2022-03-28T22:15:23.922Z"
   },
   {
    "duration": 66,
    "start_time": "2022-03-28T22:15:43.598Z"
   },
   {
    "duration": 76,
    "start_time": "2022-03-28T22:15:51.382Z"
   },
   {
    "duration": 87,
    "start_time": "2022-03-28T22:17:06.876Z"
   },
   {
    "duration": 4,
    "start_time": "2022-03-28T22:17:13.605Z"
   },
   {
    "duration": 79,
    "start_time": "2022-03-28T22:17:14.830Z"
   },
   {
    "duration": 4,
    "start_time": "2022-03-28T22:19:48.559Z"
   },
   {
    "duration": 1080,
    "start_time": "2022-03-28T22:21:28.711Z"
   },
   {
    "duration": 246,
    "start_time": "2022-03-28T22:21:29.793Z"
   },
   {
    "duration": 178,
    "start_time": "2022-03-28T22:21:34.303Z"
   },
   {
    "duration": 110,
    "start_time": "2022-03-28T22:21:38.023Z"
   },
   {
    "duration": 48,
    "start_time": "2022-03-28T22:21:40.695Z"
   },
   {
    "duration": 51,
    "start_time": "2022-03-28T22:21:41.398Z"
   },
   {
    "duration": 181,
    "start_time": "2022-03-28T22:21:45.238Z"
   },
   {
    "duration": 238,
    "start_time": "2022-03-28T22:21:48.423Z"
   },
   {
    "duration": 59,
    "start_time": "2022-03-28T22:21:52.064Z"
   },
   {
    "duration": 91,
    "start_time": "2022-03-28T22:21:58.551Z"
   },
   {
    "duration": 27,
    "start_time": "2022-03-28T22:22:01.416Z"
   },
   {
    "duration": 120,
    "start_time": "2022-03-28T22:22:04.439Z"
   },
   {
    "duration": 21,
    "start_time": "2022-03-28T22:22:07.201Z"
   },
   {
    "duration": 4,
    "start_time": "2022-03-28T22:22:09.655Z"
   },
   {
    "duration": 83,
    "start_time": "2022-03-28T22:22:12.361Z"
   },
   {
    "duration": 9,
    "start_time": "2022-03-28T22:22:16.968Z"
   },
   {
    "duration": 3,
    "start_time": "2022-03-28T22:22:18.696Z"
   },
   {
    "duration": 74221,
    "start_time": "2022-03-28T22:22:20.640Z"
   },
   {
    "duration": 102,
    "start_time": "2022-03-28T22:24:10.617Z"
   },
   {
    "duration": 17,
    "start_time": "2022-03-28T22:25:54.814Z"
   },
   {
    "duration": 43,
    "start_time": "2022-03-28T22:26:32.114Z"
   },
   {
    "duration": 11218,
    "start_time": "2022-03-28T22:29:32.794Z"
   },
   {
    "duration": 9670,
    "start_time": "2022-03-28T22:30:30.843Z"
   },
   {
    "duration": 10,
    "start_time": "2022-03-28T22:36:49.669Z"
   },
   {
    "duration": 13,
    "start_time": "2022-03-28T22:37:11.101Z"
   },
   {
    "duration": 12,
    "start_time": "2022-03-28T22:37:56.589Z"
   },
   {
    "duration": 17,
    "start_time": "2022-03-28T22:38:48.159Z"
   },
   {
    "duration": 16,
    "start_time": "2022-03-28T22:39:10.702Z"
   },
   {
    "duration": 14,
    "start_time": "2022-03-28T22:39:30.150Z"
   },
   {
    "duration": 15,
    "start_time": "2022-03-28T22:39:47.278Z"
   },
   {
    "duration": 16,
    "start_time": "2022-03-28T22:39:49.910Z"
   },
   {
    "duration": 16,
    "start_time": "2022-03-28T22:39:56.934Z"
   },
   {
    "duration": 52,
    "start_time": "2022-03-28T22:49:52.307Z"
   },
   {
    "duration": 79408,
    "start_time": "2022-03-28T22:54:15.635Z"
   },
   {
    "duration": 997,
    "start_time": "2022-03-28T23:15:12.810Z"
   },
   {
    "duration": 17,
    "start_time": "2022-03-28T23:15:56.573Z"
   },
   {
    "duration": 55,
    "start_time": "2022-03-28T23:15:57.252Z"
   },
   {
    "duration": 8,
    "start_time": "2022-03-28T23:15:59.218Z"
   },
   {
    "duration": 3,
    "start_time": "2022-03-28T23:15:59.875Z"
   },
   {
    "duration": 923,
    "start_time": "2022-03-28T23:16:01.619Z"
   },
   {
    "duration": 79499,
    "start_time": "2022-03-28T23:32:27.330Z"
   },
   {
    "duration": 47,
    "start_time": "2022-03-30T04:58:56.066Z"
   },
   {
    "duration": 1222,
    "start_time": "2022-03-30T04:59:03.026Z"
   },
   {
    "duration": 272,
    "start_time": "2022-03-30T04:59:04.250Z"
   },
   {
    "duration": 187,
    "start_time": "2022-03-30T04:59:04.524Z"
   },
   {
    "duration": 117,
    "start_time": "2022-03-30T04:59:08.789Z"
   },
   {
    "duration": 50,
    "start_time": "2022-03-30T04:59:09.586Z"
   },
   {
    "duration": 54,
    "start_time": "2022-03-30T04:59:10.149Z"
   },
   {
    "duration": 178,
    "start_time": "2022-03-30T04:59:12.338Z"
   },
   {
    "duration": 226,
    "start_time": "2022-03-30T04:59:13.257Z"
   },
   {
    "duration": 42,
    "start_time": "2022-03-30T04:59:14.589Z"
   },
   {
    "duration": 2,
    "start_time": "2022-03-30T04:59:15.939Z"
   },
   {
    "duration": 2,
    "start_time": "2022-03-30T04:59:16.537Z"
   },
   {
    "duration": 100,
    "start_time": "2022-03-30T04:59:17.378Z"
   },
   {
    "duration": 20,
    "start_time": "2022-03-30T04:59:18.329Z"
   },
   {
    "duration": 120,
    "start_time": "2022-03-30T04:59:19.229Z"
   },
   {
    "duration": 20,
    "start_time": "2022-03-30T04:59:23.289Z"
   },
   {
    "duration": 4,
    "start_time": "2022-03-30T04:59:23.999Z"
   },
   {
    "duration": 69,
    "start_time": "2022-03-30T04:59:25.026Z"
   },
   {
    "duration": 157,
    "start_time": "2022-03-30T05:01:30.999Z"
   },
   {
    "duration": 219,
    "start_time": "2022-03-30T05:01:32.023Z"
   },
   {
    "duration": 33,
    "start_time": "2022-03-30T05:01:33.613Z"
   },
   {
    "duration": 3,
    "start_time": "2022-03-30T05:01:34.981Z"
   },
   {
    "duration": 2,
    "start_time": "2022-03-30T05:01:35.773Z"
   },
   {
    "duration": 80,
    "start_time": "2022-03-30T05:01:36.521Z"
   },
   {
    "duration": 20,
    "start_time": "2022-03-30T05:01:37.083Z"
   },
   {
    "duration": 93,
    "start_time": "2022-03-30T05:01:37.884Z"
   },
   {
    "duration": 21,
    "start_time": "2022-03-30T05:01:39.053Z"
   },
   {
    "duration": 4,
    "start_time": "2022-03-30T05:01:40.072Z"
   },
   {
    "duration": 16,
    "start_time": "2022-03-30T05:01:41.039Z"
   },
   {
    "duration": 16,
    "start_time": "2022-03-30T05:01:53.407Z"
   },
   {
    "duration": 19,
    "start_time": "2022-03-30T05:02:11.855Z"
   },
   {
    "duration": 113,
    "start_time": "2022-03-30T05:02:17.708Z"
   },
   {
    "duration": 17,
    "start_time": "2022-03-30T05:02:20.587Z"
   },
   {
    "duration": 18,
    "start_time": "2022-03-30T05:02:29.958Z"
   },
   {
    "duration": 96,
    "start_time": "2022-03-30T05:02:32.560Z"
   },
   {
    "duration": 19,
    "start_time": "2022-03-30T05:02:35.254Z"
   },
   {
    "duration": 5,
    "start_time": "2022-03-30T05:02:35.857Z"
   },
   {
    "duration": 16,
    "start_time": "2022-03-30T05:02:36.938Z"
   },
   {
    "duration": 100,
    "start_time": "2022-03-30T05:04:00.815Z"
   },
   {
    "duration": 20,
    "start_time": "2022-03-30T05:04:43.165Z"
   },
   {
    "duration": 5,
    "start_time": "2022-03-30T05:04:56.508Z"
   },
   {
    "duration": 16,
    "start_time": "2022-03-30T05:04:57.737Z"
   },
   {
    "duration": 3,
    "start_time": "2022-03-30T05:05:44.480Z"
   },
   {
    "duration": 196,
    "start_time": "2022-03-30T05:05:44.678Z"
   },
   {
    "duration": 178,
    "start_time": "2022-03-30T05:05:45.112Z"
   },
   {
    "duration": 115,
    "start_time": "2022-03-30T05:05:45.768Z"
   },
   {
    "duration": 48,
    "start_time": "2022-03-30T05:05:46.338Z"
   },
   {
    "duration": 51,
    "start_time": "2022-03-30T05:05:46.888Z"
   },
   {
    "duration": 161,
    "start_time": "2022-03-30T05:05:48.560Z"
   },
   {
    "duration": 202,
    "start_time": "2022-03-30T05:05:49.432Z"
   },
   {
    "duration": 13,
    "start_time": "2022-03-30T05:05:50.660Z"
   },
   {
    "duration": 3,
    "start_time": "2022-03-30T05:05:51.297Z"
   },
   {
    "duration": 2,
    "start_time": "2022-03-30T05:05:51.608Z"
   },
   {
    "duration": 82,
    "start_time": "2022-03-30T05:05:52.080Z"
   },
   {
    "duration": 19,
    "start_time": "2022-03-30T05:05:52.248Z"
   },
   {
    "duration": 105,
    "start_time": "2022-03-30T05:05:53.058Z"
   },
   {
    "duration": 16,
    "start_time": "2022-03-30T05:05:53.688Z"
   },
   {
    "duration": 4,
    "start_time": "2022-03-30T05:05:53.848Z"
   },
   {
    "duration": 15,
    "start_time": "2022-03-30T05:05:54.198Z"
   },
   {
    "duration": 8,
    "start_time": "2022-03-30T05:05:54.538Z"
   },
   {
    "duration": 14,
    "start_time": "2022-03-30T05:07:07.008Z"
   },
   {
    "duration": 31,
    "start_time": "2022-03-30T05:08:07.898Z"
   },
   {
    "duration": 108,
    "start_time": "2022-03-30T05:08:14.769Z"
   },
   {
    "duration": 19,
    "start_time": "2022-03-30T05:13:43.789Z"
   },
   {
    "duration": 3,
    "start_time": "2022-03-30T05:13:50.545Z"
   },
   {
    "duration": 1174,
    "start_time": "2022-03-30T05:13:52.218Z"
   },
   {
    "duration": 1234,
    "start_time": "2022-03-30T05:14:09.614Z"
   },
   {
    "duration": 133,
    "start_time": "2022-03-30T05:14:31.138Z"
   },
   {
    "duration": 116,
    "start_time": "2022-03-30T05:14:38.265Z"
   },
   {
    "duration": 9,
    "start_time": "2022-03-30T05:16:11.228Z"
   },
   {
    "duration": 12,
    "start_time": "2022-03-30T05:16:42.965Z"
   },
   {
    "duration": 74,
    "start_time": "2022-03-30T17:06:14.631Z"
   },
   {
    "duration": 1707,
    "start_time": "2022-03-30T17:06:25.253Z"
   },
   {
    "duration": 365,
    "start_time": "2022-03-30T17:06:26.963Z"
   },
   {
    "duration": 237,
    "start_time": "2022-03-30T17:06:28.422Z"
   },
   {
    "duration": 257,
    "start_time": "2022-03-30T17:06:30.452Z"
   },
   {
    "duration": 72,
    "start_time": "2022-03-30T17:06:32.445Z"
   },
   {
    "duration": 58,
    "start_time": "2022-03-30T17:06:34.085Z"
   },
   {
    "duration": 273,
    "start_time": "2022-03-30T17:06:38.461Z"
   },
   {
    "duration": 347,
    "start_time": "2022-03-30T17:06:39.589Z"
   },
   {
    "duration": 64,
    "start_time": "2022-03-30T17:06:41.973Z"
   },
   {
    "duration": 3,
    "start_time": "2022-03-30T17:06:43.740Z"
   },
   {
    "duration": 3,
    "start_time": "2022-03-30T17:06:44.140Z"
   },
   {
    "duration": 146,
    "start_time": "2022-03-30T17:06:45.309Z"
   },
   {
    "duration": 27,
    "start_time": "2022-03-30T17:06:45.805Z"
   },
   {
    "duration": 191,
    "start_time": "2022-03-30T17:06:46.652Z"
   },
   {
    "duration": 28,
    "start_time": "2022-03-30T17:06:47.614Z"
   },
   {
    "duration": 5,
    "start_time": "2022-03-30T17:06:47.805Z"
   },
   {
    "duration": 96,
    "start_time": "2022-03-30T17:06:47.994Z"
   },
   {
    "duration": 8,
    "start_time": "2022-03-30T17:07:46.662Z"
   },
   {
    "duration": 35,
    "start_time": "2022-03-30T17:12:00.478Z"
   },
   {
    "duration": 79,
    "start_time": "2022-03-30T17:13:38.487Z"
   },
   {
    "duration": 41,
    "start_time": "2022-03-30T17:16:06.681Z"
   },
   {
    "duration": 5,
    "start_time": "2022-03-30T17:16:12.001Z"
   },
   {
    "duration": 224,
    "start_time": "2022-03-30T17:16:14.359Z"
   },
   {
    "duration": 80,
    "start_time": "2022-03-30T17:17:47.788Z"
   },
   {
    "duration": 49,
    "start_time": "2022-03-30T17:17:58.797Z"
   },
   {
    "duration": 68,
    "start_time": "2022-03-30T17:18:22.825Z"
   },
   {
    "duration": 15,
    "start_time": "2022-03-30T17:20:16.545Z"
   },
   {
    "duration": 1925,
    "start_time": "2022-03-30T17:20:55.098Z"
   },
   {
    "duration": 2115,
    "start_time": "2022-03-30T17:22:30.019Z"
   },
   {
    "duration": 2259,
    "start_time": "2022-03-30T17:23:04.412Z"
   },
   {
    "duration": 2006,
    "start_time": "2022-03-30T17:23:38.636Z"
   },
   {
    "duration": 198,
    "start_time": "2022-03-30T17:24:13.428Z"
   },
   {
    "duration": 181,
    "start_time": "2022-03-30T17:24:42.875Z"
   },
   {
    "duration": 265,
    "start_time": "2022-03-30T17:25:45.912Z"
   },
   {
    "duration": 1451,
    "start_time": "2022-03-30T17:27:24.287Z"
   },
   {
    "duration": 350,
    "start_time": "2022-03-30T17:27:25.741Z"
   },
   {
    "duration": 238,
    "start_time": "2022-03-30T17:27:26.799Z"
   },
   {
    "duration": 152,
    "start_time": "2022-03-30T17:27:27.351Z"
   },
   {
    "duration": 63,
    "start_time": "2022-03-30T17:27:28.063Z"
   },
   {
    "duration": 57,
    "start_time": "2022-03-30T17:27:28.679Z"
   },
   {
    "duration": 266,
    "start_time": "2022-03-30T17:27:30.519Z"
   },
   {
    "duration": 349,
    "start_time": "2022-03-30T17:27:31.391Z"
   },
   {
    "duration": 5,
    "start_time": "2022-03-30T17:28:51.104Z"
   },
   {
    "duration": 264,
    "start_time": "2022-03-30T17:28:51.735Z"
   },
   {
    "duration": 247,
    "start_time": "2022-03-30T17:28:52.647Z"
   },
   {
    "duration": 224,
    "start_time": "2022-03-30T17:28:53.022Z"
   },
   {
    "duration": 78,
    "start_time": "2022-03-30T17:28:53.249Z"
   },
   {
    "duration": 58,
    "start_time": "2022-03-30T17:28:53.472Z"
   },
   {
    "duration": 270,
    "start_time": "2022-03-30T17:28:54.583Z"
   },
   {
    "duration": 339,
    "start_time": "2022-03-30T17:28:54.918Z"
   },
   {
    "duration": 52,
    "start_time": "2022-03-30T17:28:55.983Z"
   },
   {
    "duration": 4,
    "start_time": "2022-03-30T17:28:56.678Z"
   },
   {
    "duration": 3,
    "start_time": "2022-03-30T17:28:57.022Z"
   },
   {
    "duration": 140,
    "start_time": "2022-03-30T17:28:57.527Z"
   },
   {
    "duration": 28,
    "start_time": "2022-03-30T17:28:57.698Z"
   },
   {
    "duration": 291,
    "start_time": "2022-03-30T17:28:58.199Z"
   },
   {
    "duration": 26,
    "start_time": "2022-03-30T17:28:58.571Z"
   },
   {
    "duration": 5,
    "start_time": "2022-03-30T17:28:58.726Z"
   },
   {
    "duration": 6,
    "start_time": "2022-03-30T17:28:59.286Z"
   },
   {
    "duration": 65,
    "start_time": "2022-03-30T17:28:59.830Z"
   },
   {
    "duration": 12,
    "start_time": "2022-03-30T17:29:00.663Z"
   },
   {
    "duration": 4,
    "start_time": "2022-03-30T17:29:04.311Z"
   },
   {
    "duration": 197,
    "start_time": "2022-03-30T17:29:05.197Z"
   },
   {
    "duration": 176,
    "start_time": "2022-03-30T17:34:08.913Z"
   },
   {
    "duration": 1919,
    "start_time": "2022-03-30T17:36:13.420Z"
   },
   {
    "duration": 492,
    "start_time": "2022-03-30T17:36:15.342Z"
   },
   {
    "duration": 266,
    "start_time": "2022-03-30T17:36:15.837Z"
   },
   {
    "duration": 163,
    "start_time": "2022-03-30T17:36:16.106Z"
   },
   {
    "duration": 76,
    "start_time": "2022-03-30T17:36:16.271Z"
   },
   {
    "duration": 74,
    "start_time": "2022-03-30T17:36:16.351Z"
   },
   {
    "duration": 296,
    "start_time": "2022-03-30T17:36:16.960Z"
   },
   {
    "duration": 357,
    "start_time": "2022-03-30T17:36:17.273Z"
   },
   {
    "duration": 76,
    "start_time": "2022-03-30T17:36:18.088Z"
   },
   {
    "duration": 3,
    "start_time": "2022-03-30T17:36:18.760Z"
   },
   {
    "duration": 3,
    "start_time": "2022-03-30T17:36:19.111Z"
   },
   {
    "duration": 151,
    "start_time": "2022-03-30T17:36:19.632Z"
   },
   {
    "duration": 29,
    "start_time": "2022-03-30T17:36:19.808Z"
   },
   {
    "duration": 208,
    "start_time": "2022-03-30T17:36:20.344Z"
   },
   {
    "duration": 28,
    "start_time": "2022-03-30T17:36:20.705Z"
   },
   {
    "duration": 5,
    "start_time": "2022-03-30T17:36:20.874Z"
   },
   {
    "duration": 7,
    "start_time": "2022-03-30T17:36:21.040Z"
   },
   {
    "duration": 66,
    "start_time": "2022-03-30T17:36:21.417Z"
   },
   {
    "duration": 12,
    "start_time": "2022-03-30T17:36:21.593Z"
   },
   {
    "duration": 6,
    "start_time": "2022-03-30T17:36:22.009Z"
   },
   {
    "duration": 187,
    "start_time": "2022-03-30T17:36:22.664Z"
   },
   {
    "duration": 216,
    "start_time": "2022-03-30T17:37:29.983Z"
   },
   {
    "duration": 218,
    "start_time": "2022-03-30T17:39:04.177Z"
   },
   {
    "duration": 42,
    "start_time": "2022-03-30T18:53:17.615Z"
   },
   {
    "duration": 6,
    "start_time": "2022-03-30T18:53:26.255Z"
   },
   {
    "duration": 1303,
    "start_time": "2022-03-30T18:53:33.967Z"
   },
   {
    "duration": 244,
    "start_time": "2022-03-30T18:53:35.272Z"
   },
   {
    "duration": 173,
    "start_time": "2022-03-30T18:53:35.517Z"
   },
   {
    "duration": 102,
    "start_time": "2022-03-30T18:53:39.520Z"
   },
   {
    "duration": 39,
    "start_time": "2022-03-30T18:53:40.264Z"
   },
   {
    "duration": 37,
    "start_time": "2022-03-30T18:53:40.488Z"
   },
   {
    "duration": 173,
    "start_time": "2022-03-30T18:53:42.271Z"
   },
   {
    "duration": 220,
    "start_time": "2022-03-30T18:53:43.142Z"
   },
   {
    "duration": 39,
    "start_time": "2022-03-30T18:53:45.599Z"
   },
   {
    "duration": 3,
    "start_time": "2022-03-30T18:53:47.286Z"
   },
   {
    "duration": 2,
    "start_time": "2022-03-30T18:53:47.918Z"
   },
   {
    "duration": 91,
    "start_time": "2022-03-30T18:53:48.950Z"
   },
   {
    "duration": 19,
    "start_time": "2022-03-30T18:53:49.439Z"
   },
   {
    "duration": 112,
    "start_time": "2022-03-30T18:53:50.351Z"
   },
   {
    "duration": 20,
    "start_time": "2022-03-30T18:53:51.134Z"
   },
   {
    "duration": 4,
    "start_time": "2022-03-30T18:53:51.439Z"
   },
   {
    "duration": 5,
    "start_time": "2022-03-30T18:53:51.718Z"
   },
   {
    "duration": 37,
    "start_time": "2022-03-30T18:53:52.166Z"
   },
   {
    "duration": 8,
    "start_time": "2022-03-30T18:53:52.398Z"
   },
   {
    "duration": 4,
    "start_time": "2022-03-30T18:53:52.662Z"
   },
   {
    "duration": 117,
    "start_time": "2022-03-30T18:53:52.872Z"
   },
   {
    "duration": 127,
    "start_time": "2022-03-30T18:53:53.406Z"
   },
   {
    "duration": 58,
    "start_time": "2022-03-30T18:53:57.528Z"
   },
   {
    "duration": 593,
    "start_time": "2022-03-30T18:54:32.015Z"
   },
   {
    "duration": 527,
    "start_time": "2022-03-30T18:54:43.319Z"
   },
   {
    "duration": 4,
    "start_time": "2022-03-30T18:55:03.095Z"
   },
   {
    "duration": 4,
    "start_time": "2022-03-30T18:55:03.575Z"
   },
   {
    "duration": 36,
    "start_time": "2022-03-30T18:55:05.056Z"
   },
   {
    "duration": 8,
    "start_time": "2022-03-30T18:55:07.559Z"
   },
   {
    "duration": 116,
    "start_time": "2022-03-30T18:55:10.248Z"
   },
   {
    "duration": 6,
    "start_time": "2022-03-30T18:55:18.000Z"
   },
   {
    "duration": 4,
    "start_time": "2022-03-30T18:55:27.328Z"
   },
   {
    "duration": 9,
    "start_time": "2022-03-30T18:57:47.967Z"
   },
   {
    "duration": 18,
    "start_time": "2022-03-30T18:58:02.881Z"
   },
   {
    "duration": 140,
    "start_time": "2022-03-30T18:58:13.384Z"
   },
   {
    "duration": 148,
    "start_time": "2022-03-30T19:00:05.743Z"
   },
   {
    "duration": 159,
    "start_time": "2022-03-30T19:00:52.697Z"
   },
   {
    "duration": 12,
    "start_time": "2022-03-30T19:01:03.178Z"
   },
   {
    "duration": 38,
    "start_time": "2022-03-30T19:01:36.802Z"
   },
   {
    "duration": 8,
    "start_time": "2022-03-30T19:01:39.691Z"
   },
   {
    "duration": 3,
    "start_time": "2022-03-30T19:01:40.137Z"
   },
   {
    "duration": 117,
    "start_time": "2022-03-30T19:01:40.947Z"
   },
   {
    "duration": 6,
    "start_time": "2022-03-30T19:01:48.028Z"
   },
   {
    "duration": 3,
    "start_time": "2022-03-30T19:01:49.834Z"
   },
   {
    "duration": 119,
    "start_time": "2022-03-30T19:01:51.322Z"
   },
   {
    "duration": 13,
    "start_time": "2022-03-30T19:08:56.699Z"
   },
   {
    "duration": 12,
    "start_time": "2022-03-30T19:09:05.782Z"
   },
   {
    "duration": 16,
    "start_time": "2022-03-30T19:09:12.124Z"
   },
   {
    "duration": 14,
    "start_time": "2022-03-30T19:10:39.787Z"
   },
   {
    "duration": 147,
    "start_time": "2022-03-30T19:10:50.285Z"
   },
   {
    "duration": 13,
    "start_time": "2022-03-30T19:16:31.982Z"
   },
   {
    "duration": 13,
    "start_time": "2022-03-30T19:16:41.736Z"
   },
   {
    "duration": 2233,
    "start_time": "2022-03-30T19:17:05.743Z"
   },
   {
    "duration": 207,
    "start_time": "2022-03-30T19:17:16.399Z"
   },
   {
    "duration": 208,
    "start_time": "2022-03-30T19:20:18.201Z"
   },
   {
    "duration": 9,
    "start_time": "2022-03-30T19:20:20.536Z"
   },
   {
    "duration": 8,
    "start_time": "2022-03-30T19:22:18.928Z"
   },
   {
    "duration": 9,
    "start_time": "2022-03-30T19:22:28.227Z"
   },
   {
    "duration": 7,
    "start_time": "2022-03-30T19:22:41.033Z"
   },
   {
    "duration": 11,
    "start_time": "2022-03-30T19:22:59.010Z"
   },
   {
    "duration": 13,
    "start_time": "2022-03-30T19:23:03.739Z"
   },
   {
    "duration": 215,
    "start_time": "2022-03-30T19:23:43.947Z"
   },
   {
    "duration": 14,
    "start_time": "2022-03-30T19:39:48.719Z"
   },
   {
    "duration": 17,
    "start_time": "2022-03-30T19:40:00.000Z"
   },
   {
    "duration": 55,
    "start_time": "2022-03-30T19:40:05.217Z"
   },
   {
    "duration": 20,
    "start_time": "2022-03-30T19:40:24.825Z"
   },
   {
    "duration": 18,
    "start_time": "2022-03-30T19:41:46.786Z"
   },
   {
    "duration": 15,
    "start_time": "2022-03-30T19:44:50.354Z"
   },
   {
    "duration": 13,
    "start_time": "2022-03-30T19:45:14.674Z"
   },
   {
    "duration": 92,
    "start_time": "2022-03-30T19:45:26.500Z"
   },
   {
    "duration": 54,
    "start_time": "2022-03-30T19:45:59.067Z"
   },
   {
    "duration": 186,
    "start_time": "2022-03-30T19:45:59.523Z"
   },
   {
    "duration": 161,
    "start_time": "2022-03-30T19:45:59.734Z"
   },
   {
    "duration": 116,
    "start_time": "2022-03-30T19:45:59.915Z"
   },
   {
    "duration": 42,
    "start_time": "2022-03-30T19:46:00.072Z"
   },
   {
    "duration": 40,
    "start_time": "2022-03-30T19:46:00.235Z"
   },
   {
    "duration": 166,
    "start_time": "2022-03-30T19:46:01.037Z"
   },
   {
    "duration": 226,
    "start_time": "2022-03-30T19:46:01.362Z"
   },
   {
    "duration": 38,
    "start_time": "2022-03-30T19:46:02.218Z"
   },
   {
    "duration": 2,
    "start_time": "2022-03-30T19:46:02.866Z"
   },
   {
    "duration": 3,
    "start_time": "2022-03-30T19:46:03.210Z"
   },
   {
    "duration": 91,
    "start_time": "2022-03-30T19:46:03.714Z"
   },
   {
    "duration": 20,
    "start_time": "2022-03-30T19:46:03.882Z"
   },
   {
    "duration": 116,
    "start_time": "2022-03-30T19:46:04.402Z"
   },
   {
    "duration": 19,
    "start_time": "2022-03-30T19:46:04.754Z"
   },
   {
    "duration": 4,
    "start_time": "2022-03-30T19:46:04.930Z"
   },
   {
    "duration": 4,
    "start_time": "2022-03-30T19:46:05.098Z"
   },
   {
    "duration": 39,
    "start_time": "2022-03-30T19:46:05.451Z"
   },
   {
    "duration": 11,
    "start_time": "2022-03-30T19:46:05.618Z"
   },
   {
    "duration": 3,
    "start_time": "2022-03-30T19:46:05.787Z"
   },
   {
    "duration": 127,
    "start_time": "2022-03-30T19:46:05.947Z"
   },
   {
    "duration": 130,
    "start_time": "2022-03-30T19:46:06.299Z"
   },
   {
    "duration": 6,
    "start_time": "2022-03-30T19:46:07.883Z"
   },
   {
    "duration": 4,
    "start_time": "2022-03-30T19:46:08.067Z"
   },
   {
    "duration": 119,
    "start_time": "2022-03-30T19:46:08.681Z"
   },
   {
    "duration": 13,
    "start_time": "2022-03-30T19:46:09.242Z"
   },
   {
    "duration": 154,
    "start_time": "2022-03-30T19:46:09.673Z"
   },
   {
    "duration": 12,
    "start_time": "2022-03-30T19:46:10.387Z"
   },
   {
    "duration": 209,
    "start_time": "2022-03-30T19:46:10.579Z"
   },
   {
    "duration": 11,
    "start_time": "2022-03-30T19:46:10.963Z"
   },
   {
    "duration": 220,
    "start_time": "2022-03-30T19:46:11.154Z"
   },
   {
    "duration": 15,
    "start_time": "2022-03-30T19:46:12.898Z"
   },
   {
    "duration": 813,
    "start_time": "2022-03-30T19:46:13.498Z"
   },
   {
    "duration": 4,
    "start_time": "2022-03-30T19:46:35.940Z"
   },
   {
    "duration": 189,
    "start_time": "2022-03-30T19:46:38.643Z"
   },
   {
    "duration": 173,
    "start_time": "2022-03-30T19:46:38.833Z"
   },
   {
    "duration": 106,
    "start_time": "2022-03-30T19:46:39.018Z"
   },
   {
    "duration": 134,
    "start_time": "2022-03-30T19:46:39.185Z"
   },
   {
    "duration": 37,
    "start_time": "2022-03-30T19:46:39.556Z"
   },
   {
    "duration": 160,
    "start_time": "2022-03-30T19:46:40.442Z"
   },
   {
    "duration": 204,
    "start_time": "2022-03-30T19:46:40.787Z"
   },
   {
    "duration": 33,
    "start_time": "2022-03-30T19:46:41.594Z"
   },
   {
    "duration": 2,
    "start_time": "2022-03-30T19:46:42.282Z"
   },
   {
    "duration": 2,
    "start_time": "2022-03-30T19:46:42.658Z"
   },
   {
    "duration": 84,
    "start_time": "2022-03-30T19:46:43.194Z"
   },
   {
    "duration": 19,
    "start_time": "2022-03-30T19:46:43.371Z"
   },
   {
    "duration": 106,
    "start_time": "2022-03-30T19:46:43.915Z"
   },
   {
    "duration": 17,
    "start_time": "2022-03-30T19:46:44.274Z"
   },
   {
    "duration": 4,
    "start_time": "2022-03-30T19:46:44.427Z"
   },
   {
    "duration": 4,
    "start_time": "2022-03-30T19:46:44.627Z"
   },
   {
    "duration": 49,
    "start_time": "2022-03-30T19:46:44.996Z"
   },
   {
    "duration": 8,
    "start_time": "2022-03-30T19:46:45.187Z"
   },
   {
    "duration": 4,
    "start_time": "2022-03-30T19:46:45.362Z"
   },
   {
    "duration": 124,
    "start_time": "2022-03-30T19:46:45.556Z"
   },
   {
    "duration": 4,
    "start_time": "2022-03-30T19:46:56.123Z"
   },
   {
    "duration": 178,
    "start_time": "2022-03-30T19:46:56.324Z"
   },
   {
    "duration": 163,
    "start_time": "2022-03-30T19:46:56.504Z"
   },
   {
    "duration": 114,
    "start_time": "2022-03-30T19:46:56.669Z"
   },
   {
    "duration": 39,
    "start_time": "2022-03-30T19:46:56.843Z"
   },
   {
    "duration": 40,
    "start_time": "2022-03-30T19:46:57.006Z"
   },
   {
    "duration": 156,
    "start_time": "2022-03-30T19:46:57.835Z"
   },
   {
    "duration": 203,
    "start_time": "2022-03-30T19:46:58.186Z"
   },
   {
    "duration": 30,
    "start_time": "2022-03-30T19:46:59.059Z"
   },
   {
    "duration": 2,
    "start_time": "2022-03-30T19:46:59.747Z"
   },
   {
    "duration": 3,
    "start_time": "2022-03-30T19:47:00.266Z"
   },
   {
    "duration": 89,
    "start_time": "2022-03-30T19:47:00.787Z"
   },
   {
    "duration": 19,
    "start_time": "2022-03-30T19:47:00.939Z"
   },
   {
    "duration": 110,
    "start_time": "2022-03-30T19:47:01.443Z"
   },
   {
    "duration": 17,
    "start_time": "2022-03-30T19:47:01.778Z"
   },
   {
    "duration": 4,
    "start_time": "2022-03-30T19:47:03.866Z"
   },
   {
    "duration": 4,
    "start_time": "2022-03-30T19:47:04.203Z"
   },
   {
    "duration": 42,
    "start_time": "2022-03-30T19:47:06.051Z"
   },
   {
    "duration": 123,
    "start_time": "2022-03-30T19:47:12.340Z"
   },
   {
    "duration": 6,
    "start_time": "2022-03-30T19:47:17.164Z"
   },
   {
    "duration": 4,
    "start_time": "2022-03-30T19:47:17.603Z"
   },
   {
    "duration": 121,
    "start_time": "2022-03-30T19:47:18.099Z"
   },
   {
    "duration": 14,
    "start_time": "2022-03-30T19:47:18.610Z"
   },
   {
    "duration": 153,
    "start_time": "2022-03-30T19:47:18.995Z"
   },
   {
    "duration": 12,
    "start_time": "2022-03-30T19:47:19.515Z"
   },
   {
    "duration": 240,
    "start_time": "2022-03-30T19:47:19.741Z"
   },
   {
    "duration": 11,
    "start_time": "2022-03-30T19:47:20.988Z"
   },
   {
    "duration": 228,
    "start_time": "2022-03-30T19:47:21.002Z"
   },
   {
    "duration": 15,
    "start_time": "2022-03-30T19:47:25.491Z"
   },
   {
    "duration": 696,
    "start_time": "2022-03-30T19:47:27.588Z"
   },
   {
    "duration": 13,
    "start_time": "2022-03-30T19:52:01.830Z"
   },
   {
    "duration": 219,
    "start_time": "2022-03-30T19:52:12.765Z"
   },
   {
    "duration": 12,
    "start_time": "2022-03-30T19:54:53.541Z"
   },
   {
    "duration": 264,
    "start_time": "2022-03-30T19:54:59.358Z"
   },
   {
    "duration": 546,
    "start_time": "2022-03-30T19:55:08.934Z"
   },
   {
    "duration": 2225,
    "start_time": "2022-03-30T19:55:52.918Z"
   },
   {
    "duration": 14,
    "start_time": "2022-03-30T20:01:13.487Z"
   },
   {
    "duration": 264,
    "start_time": "2022-03-30T20:01:25.145Z"
   },
   {
    "duration": 249,
    "start_time": "2022-03-30T20:01:34.416Z"
   },
   {
    "duration": 31,
    "start_time": "2022-03-30T21:52:46.257Z"
   },
   {
    "duration": 32,
    "start_time": "2022-03-30T21:52:58.588Z"
   },
   {
    "duration": 201,
    "start_time": "2022-03-30T21:55:16.629Z"
   },
   {
    "duration": 263,
    "start_time": "2022-03-30T21:57:00.515Z"
   },
   {
    "duration": 264,
    "start_time": "2022-03-30T21:57:07.661Z"
   },
   {
    "duration": 379,
    "start_time": "2022-03-30T21:58:18.821Z"
   },
   {
    "duration": 11,
    "start_time": "2022-03-30T22:04:23.133Z"
   },
   {
    "duration": 2173,
    "start_time": "2022-03-30T22:08:57.504Z"
   },
   {
    "duration": 11,
    "start_time": "2022-03-30T22:09:11.808Z"
   },
   {
    "duration": 141,
    "start_time": "2022-03-30T22:10:10.791Z"
   },
   {
    "duration": 131,
    "start_time": "2022-03-30T22:10:21.082Z"
   },
   {
    "duration": 135,
    "start_time": "2022-03-30T22:10:30.098Z"
   },
   {
    "duration": 127,
    "start_time": "2022-03-30T22:10:38.482Z"
   },
   {
    "duration": 14,
    "start_time": "2022-03-30T22:11:02.489Z"
   },
   {
    "duration": 134,
    "start_time": "2022-03-30T22:11:41.034Z"
   },
   {
    "duration": 128,
    "start_time": "2022-03-30T22:12:14.514Z"
   },
   {
    "duration": 153,
    "start_time": "2022-03-30T22:12:32.594Z"
   },
   {
    "duration": 157,
    "start_time": "2022-03-30T22:13:28.113Z"
   },
   {
    "duration": 161,
    "start_time": "2022-03-30T22:13:38.650Z"
   },
   {
    "duration": 15,
    "start_time": "2022-03-30T22:17:44.938Z"
   },
   {
    "duration": 15,
    "start_time": "2022-03-30T22:18:22.596Z"
   },
   {
    "duration": 11,
    "start_time": "2022-03-30T22:19:01.589Z"
   },
   {
    "duration": 47,
    "start_time": "2022-03-31T19:32:58.481Z"
   },
   {
    "duration": 6,
    "start_time": "2022-03-31T19:33:13.201Z"
   },
   {
    "duration": 10,
    "start_time": "2022-03-31T19:33:46.778Z"
   },
   {
    "duration": 14,
    "start_time": "2022-03-31T19:44:05.742Z"
   },
   {
    "duration": 6,
    "start_time": "2022-03-31T19:45:47.396Z"
   },
   {
    "duration": 13,
    "start_time": "2022-03-31T19:46:43.634Z"
   },
   {
    "duration": 45,
    "start_time": "2022-03-31T19:46:55.028Z"
   }
  ],
  "kernelspec": {
   "display_name": "Python 3 (ipykernel)",
   "language": "python",
   "name": "python3"
  },
  "language_info": {
   "codemirror_mode": {
    "name": "ipython",
    "version": 3
   },
   "file_extension": ".py",
   "mimetype": "text/x-python",
   "name": "python",
   "nbconvert_exporter": "python",
   "pygments_lexer": "ipython3",
   "version": "3.9.7"
  },
  "toc": {
   "base_numbering": 1,
   "nav_menu": {},
   "number_sections": true,
   "sideBar": true,
   "skip_h1_title": true,
   "title_cell": "Table of Contents",
   "title_sidebar": "Contents",
   "toc_cell": false,
   "toc_position": {},
   "toc_section_display": true,
   "toc_window_display": false
  }
 },
 "nbformat": 4,
 "nbformat_minor": 2
}
