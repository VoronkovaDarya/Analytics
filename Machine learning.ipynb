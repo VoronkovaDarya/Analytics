{
 "cells": [
  {
   "cell_type": "markdown",
   "metadata": {},
   "source": [
    "# Содержание\n",
    "\n",
    "1. Цель проекта\n",
    "\n",
    "2. Загрузим данные подготовим их к анализу и ознакомимся с ними\n",
    "   - Подключение необходимых библиотек\n",
    "   - Считывание файла и ознакомление с данными\n",
    "   - Преодбработка (проверим тип данных, дубликаты и пропуски)\n",
    "   - Посмотрим на средние значения признаков в двух группах — тех, кто ушел в отток и тех, кто остался\n",
    "   - Построим столбчатые гистограммы и распределения признаков для тех, кто ушёл (отток) и тех, кто остался (не попали в отток)\n",
    "   - Построим матрицу корреляций.\n",
    "   - Вывод\n",
    "3. Построим модель прогнозирования оттока клиентов\n",
    "   - Построим модель бинарной классификации клиентов, где целевой признак — факт оттока клиента в следующем месяце:\n",
    "   - Создадим модели бинарной классификации обучения с учителем, следующих алгоритмов: логистическая регрессия и случайный лес\n",
    "4. Сделаем кластеризацию клиентов\n",
    "   - Стандартизируем данные\n",
    "   - Построим матрицу расстояний функцией linkage() на стандартизованной матрице признаков и нарисуем дендрограмму\n",
    "   - Обучим модель кластеризации на основании алгоритма K-Means и спрогнозируем кластеры клиентов\n",
    "   - Посмотрим на средние значения признаков для каждого из кластеров\n",
    "   - Построим распределения признаков для кластеров\n",
    "   - Для каждого полученного кластера посчитаем долю оттока\n",
    "5. Общий вывод по проекту"
   ]
  },
  {
   "cell_type": "markdown",
   "metadata": {},
   "source": [
    "## Цель проекта"
   ]
  },
  {
   "cell_type": "markdown",
   "metadata": {},
   "source": [
    "Сеть фитнес-центров «Культурист-датасаентист» разрабатывает стратегию взаимодействия с клиентами на основе аналитических данных. Распространенная проблема подобных организаций это отток клиентов. В нашем распоряжении клиентская база анкет посетителей фитнес-центра.\n",
    "Наша задача — провести анализ и подготовить план действий по удержанию клиентов.\n",
    "А именно:\n",
    "научиться прогнозировать вероятность оттока (на уровне следующего месяца) для каждого клиента;\n",
    "сформировать типичные портреты клиентов: выделить несколько наиболее ярких групп и охарактеризовать их основные свойства;\n",
    "проанализировать основные признаки, наиболее сильно влияющие на отток;\n",
    "сформулировать основные выводы и разработать рекомендации по повышению качества работы с клиентами:\n",
    "1) выделить целевые группы клиентов;\n",
    "2) предложить меры по снижению оттока;\n",
    "3) определить другие особенности взаимодействия с клиентами"
   ]
  },
  {
   "cell_type": "markdown",
   "metadata": {},
   "source": [
    "## Загрузим данные и подготовим их к анализу"
   ]
  },
  {
   "cell_type": "markdown",
   "metadata": {},
   "source": [
    "### Подключение необходимых библиотек"
   ]
  },
  {
   "cell_type": "code",
   "execution_count": 93,
   "metadata": {},
   "outputs": [
    {
     "name": "stdout",
     "output_type": "stream",
     "text": [
      "Requirement already satisfied: plotly in /opt/conda/lib/python3.9/site-packages (5.4.0)\r\n",
      "Requirement already satisfied: six in /opt/conda/lib/python3.9/site-packages (from plotly) (1.16.0)\r\n",
      "Requirement already satisfied: tenacity>=6.2.0 in /opt/conda/lib/python3.9/site-packages (from plotly) (8.0.1)\r\n"
     ]
    }
   ],
   "source": [
    "!pip install plotly"
   ]
  },
  {
   "cell_type": "code",
   "execution_count": 94,
   "metadata": {},
   "outputs": [],
   "source": [
    "!pip -q install --upgrade sklearn"
   ]
  },
  {
   "cell_type": "code",
   "execution_count": 95,
   "metadata": {},
   "outputs": [],
   "source": [
    "import pandas as pd\n",
    "import matplotlib.pyplot as plt\n",
    "import numpy as np\n",
    "import seaborn as sns\n",
    "from datetime import datetime, timedelta\n",
    "\n",
    "from plotly.offline import init_notebook_mode, iplot\n",
    "import plotly\n",
    "import plotly.graph_objs as go\n",
    "import plotly.express as px\n",
    "from io import BytesIO\n",
    "import requests\n",
    "import math as mth\n",
    "from scipy import stats as st\n",
    "\n",
    "\n",
    "import warnings\n",
    "warnings.filterwarnings('ignore')\n",
    "from IPython.display import display\n",
    "\n",
    "from sklearn.preprocessing import StandardScaler\n",
    "from sklearn.model_selection import train_test_split\n",
    "\n",
    "from sklearn.linear_model import LogisticRegression\n",
    "from sklearn.metrics import confusion_matrix, accuracy_score, precision_score, recall_score, silhouette_score\n",
    "from sklearn.ensemble import RandomForestClassifier\n",
    "from scipy.cluster.hierarchy import dendrogram, linkage\n",
    "from sklearn.cluster import KMeans\n",
    "from IPython.display import display\n",
    "from sklearn.metrics import silhouette_score"
   ]
  },
  {
   "cell_type": "markdown",
   "metadata": {},
   "source": [
    "### Считывание файла и ознакомление с данными"
   ]
  },
  {
   "cell_type": "code",
   "execution_count": 96,
   "metadata": {},
   "outputs": [
    {
     "name": "stdout",
     "output_type": "stream",
     "text": [
      "<class 'pandas.core.frame.DataFrame'>\n",
      "RangeIndex: 4000 entries, 0 to 3999\n",
      "Data columns (total 14 columns):\n",
      " #   Column                             Non-Null Count  Dtype  \n",
      "---  ------                             --------------  -----  \n",
      " 0   gender                             4000 non-null   int64  \n",
      " 1   Near_Location                      4000 non-null   int64  \n",
      " 2   Partner                            4000 non-null   int64  \n",
      " 3   Promo_friends                      4000 non-null   int64  \n",
      " 4   Phone                              4000 non-null   int64  \n",
      " 5   Contract_period                    4000 non-null   int64  \n",
      " 6   Group_visits                       4000 non-null   int64  \n",
      " 7   Age                                4000 non-null   int64  \n",
      " 8   Avg_additional_charges_total       4000 non-null   float64\n",
      " 9   Month_to_end_contract              4000 non-null   float64\n",
      " 10  Lifetime                           4000 non-null   int64  \n",
      " 11  Avg_class_frequency_total          4000 non-null   float64\n",
      " 12  Avg_class_frequency_current_month  4000 non-null   float64\n",
      " 13  Churn                              4000 non-null   int64  \n",
      "dtypes: float64(4), int64(10)\n",
      "memory usage: 437.6 KB\n"
     ]
    },
    {
     "data": {
      "text/plain": [
       "None"
      ]
     },
     "metadata": {},
     "output_type": "display_data"
    },
    {
     "data": {
      "text/html": [
       "<div>\n",
       "<style scoped>\n",
       "    .dataframe tbody tr th:only-of-type {\n",
       "        vertical-align: middle;\n",
       "    }\n",
       "\n",
       "    .dataframe tbody tr th {\n",
       "        vertical-align: top;\n",
       "    }\n",
       "\n",
       "    .dataframe thead th {\n",
       "        text-align: right;\n",
       "    }\n",
       "</style>\n",
       "<table border=\"1\" class=\"dataframe\">\n",
       "  <thead>\n",
       "    <tr style=\"text-align: right;\">\n",
       "      <th></th>\n",
       "      <th>gender</th>\n",
       "      <th>Near_Location</th>\n",
       "      <th>Partner</th>\n",
       "      <th>Promo_friends</th>\n",
       "      <th>Phone</th>\n",
       "      <th>Contract_period</th>\n",
       "      <th>Group_visits</th>\n",
       "      <th>Age</th>\n",
       "      <th>Avg_additional_charges_total</th>\n",
       "      <th>Month_to_end_contract</th>\n",
       "      <th>Lifetime</th>\n",
       "      <th>Avg_class_frequency_total</th>\n",
       "      <th>Avg_class_frequency_current_month</th>\n",
       "      <th>Churn</th>\n",
       "    </tr>\n",
       "  </thead>\n",
       "  <tbody>\n",
       "    <tr>\n",
       "      <th>0</th>\n",
       "      <td>1</td>\n",
       "      <td>1</td>\n",
       "      <td>1</td>\n",
       "      <td>1</td>\n",
       "      <td>0</td>\n",
       "      <td>6</td>\n",
       "      <td>1</td>\n",
       "      <td>29</td>\n",
       "      <td>14.227470</td>\n",
       "      <td>5.0</td>\n",
       "      <td>3</td>\n",
       "      <td>0.020398</td>\n",
       "      <td>0.000000</td>\n",
       "      <td>0</td>\n",
       "    </tr>\n",
       "    <tr>\n",
       "      <th>1</th>\n",
       "      <td>0</td>\n",
       "      <td>1</td>\n",
       "      <td>0</td>\n",
       "      <td>0</td>\n",
       "      <td>1</td>\n",
       "      <td>12</td>\n",
       "      <td>1</td>\n",
       "      <td>31</td>\n",
       "      <td>113.202938</td>\n",
       "      <td>12.0</td>\n",
       "      <td>7</td>\n",
       "      <td>1.922936</td>\n",
       "      <td>1.910244</td>\n",
       "      <td>0</td>\n",
       "    </tr>\n",
       "    <tr>\n",
       "      <th>2</th>\n",
       "      <td>0</td>\n",
       "      <td>1</td>\n",
       "      <td>1</td>\n",
       "      <td>0</td>\n",
       "      <td>1</td>\n",
       "      <td>1</td>\n",
       "      <td>0</td>\n",
       "      <td>28</td>\n",
       "      <td>129.448479</td>\n",
       "      <td>1.0</td>\n",
       "      <td>2</td>\n",
       "      <td>1.859098</td>\n",
       "      <td>1.736502</td>\n",
       "      <td>0</td>\n",
       "    </tr>\n",
       "    <tr>\n",
       "      <th>3</th>\n",
       "      <td>0</td>\n",
       "      <td>1</td>\n",
       "      <td>1</td>\n",
       "      <td>1</td>\n",
       "      <td>1</td>\n",
       "      <td>12</td>\n",
       "      <td>1</td>\n",
       "      <td>33</td>\n",
       "      <td>62.669863</td>\n",
       "      <td>12.0</td>\n",
       "      <td>2</td>\n",
       "      <td>3.205633</td>\n",
       "      <td>3.357215</td>\n",
       "      <td>0</td>\n",
       "    </tr>\n",
       "    <tr>\n",
       "      <th>4</th>\n",
       "      <td>1</td>\n",
       "      <td>1</td>\n",
       "      <td>1</td>\n",
       "      <td>1</td>\n",
       "      <td>1</td>\n",
       "      <td>1</td>\n",
       "      <td>0</td>\n",
       "      <td>26</td>\n",
       "      <td>198.362265</td>\n",
       "      <td>1.0</td>\n",
       "      <td>3</td>\n",
       "      <td>1.113884</td>\n",
       "      <td>1.120078</td>\n",
       "      <td>0</td>\n",
       "    </tr>\n",
       "  </tbody>\n",
       "</table>\n",
       "</div>"
      ],
      "text/plain": [
       "   gender  Near_Location  Partner  Promo_friends  Phone  Contract_period  \\\n",
       "0       1              1        1              1      0                6   \n",
       "1       0              1        0              0      1               12   \n",
       "2       0              1        1              0      1                1   \n",
       "3       0              1        1              1      1               12   \n",
       "4       1              1        1              1      1                1   \n",
       "\n",
       "   Group_visits  Age  Avg_additional_charges_total  Month_to_end_contract  \\\n",
       "0             1   29                     14.227470                    5.0   \n",
       "1             1   31                    113.202938                   12.0   \n",
       "2             0   28                    129.448479                    1.0   \n",
       "3             1   33                     62.669863                   12.0   \n",
       "4             0   26                    198.362265                    1.0   \n",
       "\n",
       "   Lifetime  Avg_class_frequency_total  Avg_class_frequency_current_month  \\\n",
       "0         3                   0.020398                           0.000000   \n",
       "1         7                   1.922936                           1.910244   \n",
       "2         2                   1.859098                           1.736502   \n",
       "3         2                   3.205633                           3.357215   \n",
       "4         3                   1.113884                           1.120078   \n",
       "\n",
       "   Churn  \n",
       "0      0  \n",
       "1      0  \n",
       "2      0  \n",
       "3      0  \n",
       "4      0  "
      ]
     },
     "execution_count": 96,
     "metadata": {},
     "output_type": "execute_result"
    }
   ],
   "source": [
    "data = pd.read_csv('/datasets/gym_churn.csv')\n",
    "display(data.info())\n",
    "data.head()"
   ]
  },
  {
   "cell_type": "code",
   "execution_count": 97,
   "metadata": {},
   "outputs": [
    {
     "data": {
      "text/html": [
       "<div>\n",
       "<style scoped>\n",
       "    .dataframe tbody tr th:only-of-type {\n",
       "        vertical-align: middle;\n",
       "    }\n",
       "\n",
       "    .dataframe tbody tr th {\n",
       "        vertical-align: top;\n",
       "    }\n",
       "\n",
       "    .dataframe thead th {\n",
       "        text-align: right;\n",
       "    }\n",
       "</style>\n",
       "<table border=\"1\" class=\"dataframe\">\n",
       "  <thead>\n",
       "    <tr style=\"text-align: right;\">\n",
       "      <th></th>\n",
       "      <th>gender</th>\n",
       "      <th>Near_Location</th>\n",
       "      <th>Partner</th>\n",
       "      <th>Promo_friends</th>\n",
       "      <th>Phone</th>\n",
       "      <th>Contract_period</th>\n",
       "      <th>Group_visits</th>\n",
       "      <th>Age</th>\n",
       "      <th>Avg_additional_charges_total</th>\n",
       "      <th>Month_to_end_contract</th>\n",
       "      <th>Lifetime</th>\n",
       "      <th>Avg_class_frequency_total</th>\n",
       "      <th>Avg_class_frequency_current_month</th>\n",
       "      <th>Churn</th>\n",
       "    </tr>\n",
       "  </thead>\n",
       "  <tbody>\n",
       "    <tr>\n",
       "      <th>count</th>\n",
       "      <td>4000.000000</td>\n",
       "      <td>4000.000000</td>\n",
       "      <td>4000.000000</td>\n",
       "      <td>4000.000000</td>\n",
       "      <td>4000.000000</td>\n",
       "      <td>4000.000000</td>\n",
       "      <td>4000.000000</td>\n",
       "      <td>4000.000000</td>\n",
       "      <td>4000.000000</td>\n",
       "      <td>4000.000000</td>\n",
       "      <td>4000.000000</td>\n",
       "      <td>4000.000000</td>\n",
       "      <td>4000.000000</td>\n",
       "      <td>4000.000000</td>\n",
       "    </tr>\n",
       "    <tr>\n",
       "      <th>mean</th>\n",
       "      <td>0.510250</td>\n",
       "      <td>0.845250</td>\n",
       "      <td>0.486750</td>\n",
       "      <td>0.308500</td>\n",
       "      <td>0.903500</td>\n",
       "      <td>4.681250</td>\n",
       "      <td>0.412250</td>\n",
       "      <td>29.184250</td>\n",
       "      <td>146.943728</td>\n",
       "      <td>4.322750</td>\n",
       "      <td>3.724750</td>\n",
       "      <td>1.879020</td>\n",
       "      <td>1.767052</td>\n",
       "      <td>0.265250</td>\n",
       "    </tr>\n",
       "    <tr>\n",
       "      <th>std</th>\n",
       "      <td>0.499957</td>\n",
       "      <td>0.361711</td>\n",
       "      <td>0.499887</td>\n",
       "      <td>0.461932</td>\n",
       "      <td>0.295313</td>\n",
       "      <td>4.549706</td>\n",
       "      <td>0.492301</td>\n",
       "      <td>3.258367</td>\n",
       "      <td>96.355602</td>\n",
       "      <td>4.191297</td>\n",
       "      <td>3.749267</td>\n",
       "      <td>0.972245</td>\n",
       "      <td>1.052906</td>\n",
       "      <td>0.441521</td>\n",
       "    </tr>\n",
       "    <tr>\n",
       "      <th>min</th>\n",
       "      <td>0.000000</td>\n",
       "      <td>0.000000</td>\n",
       "      <td>0.000000</td>\n",
       "      <td>0.000000</td>\n",
       "      <td>0.000000</td>\n",
       "      <td>1.000000</td>\n",
       "      <td>0.000000</td>\n",
       "      <td>18.000000</td>\n",
       "      <td>0.148205</td>\n",
       "      <td>1.000000</td>\n",
       "      <td>0.000000</td>\n",
       "      <td>0.000000</td>\n",
       "      <td>0.000000</td>\n",
       "      <td>0.000000</td>\n",
       "    </tr>\n",
       "    <tr>\n",
       "      <th>25%</th>\n",
       "      <td>0.000000</td>\n",
       "      <td>1.000000</td>\n",
       "      <td>0.000000</td>\n",
       "      <td>0.000000</td>\n",
       "      <td>1.000000</td>\n",
       "      <td>1.000000</td>\n",
       "      <td>0.000000</td>\n",
       "      <td>27.000000</td>\n",
       "      <td>68.868830</td>\n",
       "      <td>1.000000</td>\n",
       "      <td>1.000000</td>\n",
       "      <td>1.180875</td>\n",
       "      <td>0.963003</td>\n",
       "      <td>0.000000</td>\n",
       "    </tr>\n",
       "    <tr>\n",
       "      <th>50%</th>\n",
       "      <td>1.000000</td>\n",
       "      <td>1.000000</td>\n",
       "      <td>0.000000</td>\n",
       "      <td>0.000000</td>\n",
       "      <td>1.000000</td>\n",
       "      <td>1.000000</td>\n",
       "      <td>0.000000</td>\n",
       "      <td>29.000000</td>\n",
       "      <td>136.220159</td>\n",
       "      <td>1.000000</td>\n",
       "      <td>3.000000</td>\n",
       "      <td>1.832768</td>\n",
       "      <td>1.719574</td>\n",
       "      <td>0.000000</td>\n",
       "    </tr>\n",
       "    <tr>\n",
       "      <th>75%</th>\n",
       "      <td>1.000000</td>\n",
       "      <td>1.000000</td>\n",
       "      <td>1.000000</td>\n",
       "      <td>1.000000</td>\n",
       "      <td>1.000000</td>\n",
       "      <td>6.000000</td>\n",
       "      <td>1.000000</td>\n",
       "      <td>31.000000</td>\n",
       "      <td>210.949625</td>\n",
       "      <td>6.000000</td>\n",
       "      <td>5.000000</td>\n",
       "      <td>2.536078</td>\n",
       "      <td>2.510336</td>\n",
       "      <td>1.000000</td>\n",
       "    </tr>\n",
       "    <tr>\n",
       "      <th>max</th>\n",
       "      <td>1.000000</td>\n",
       "      <td>1.000000</td>\n",
       "      <td>1.000000</td>\n",
       "      <td>1.000000</td>\n",
       "      <td>1.000000</td>\n",
       "      <td>12.000000</td>\n",
       "      <td>1.000000</td>\n",
       "      <td>41.000000</td>\n",
       "      <td>552.590740</td>\n",
       "      <td>12.000000</td>\n",
       "      <td>31.000000</td>\n",
       "      <td>6.023668</td>\n",
       "      <td>6.146783</td>\n",
       "      <td>1.000000</td>\n",
       "    </tr>\n",
       "  </tbody>\n",
       "</table>\n",
       "</div>"
      ],
      "text/plain": [
       "            gender  Near_Location      Partner  Promo_friends        Phone  \\\n",
       "count  4000.000000    4000.000000  4000.000000    4000.000000  4000.000000   \n",
       "mean      0.510250       0.845250     0.486750       0.308500     0.903500   \n",
       "std       0.499957       0.361711     0.499887       0.461932     0.295313   \n",
       "min       0.000000       0.000000     0.000000       0.000000     0.000000   \n",
       "25%       0.000000       1.000000     0.000000       0.000000     1.000000   \n",
       "50%       1.000000       1.000000     0.000000       0.000000     1.000000   \n",
       "75%       1.000000       1.000000     1.000000       1.000000     1.000000   \n",
       "max       1.000000       1.000000     1.000000       1.000000     1.000000   \n",
       "\n",
       "       Contract_period  Group_visits          Age  \\\n",
       "count      4000.000000   4000.000000  4000.000000   \n",
       "mean          4.681250      0.412250    29.184250   \n",
       "std           4.549706      0.492301     3.258367   \n",
       "min           1.000000      0.000000    18.000000   \n",
       "25%           1.000000      0.000000    27.000000   \n",
       "50%           1.000000      0.000000    29.000000   \n",
       "75%           6.000000      1.000000    31.000000   \n",
       "max          12.000000      1.000000    41.000000   \n",
       "\n",
       "       Avg_additional_charges_total  Month_to_end_contract     Lifetime  \\\n",
       "count                   4000.000000            4000.000000  4000.000000   \n",
       "mean                     146.943728               4.322750     3.724750   \n",
       "std                       96.355602               4.191297     3.749267   \n",
       "min                        0.148205               1.000000     0.000000   \n",
       "25%                       68.868830               1.000000     1.000000   \n",
       "50%                      136.220159               1.000000     3.000000   \n",
       "75%                      210.949625               6.000000     5.000000   \n",
       "max                      552.590740              12.000000    31.000000   \n",
       "\n",
       "       Avg_class_frequency_total  Avg_class_frequency_current_month  \\\n",
       "count                4000.000000                        4000.000000   \n",
       "mean                    1.879020                           1.767052   \n",
       "std                     0.972245                           1.052906   \n",
       "min                     0.000000                           0.000000   \n",
       "25%                     1.180875                           0.963003   \n",
       "50%                     1.832768                           1.719574   \n",
       "75%                     2.536078                           2.510336   \n",
       "max                     6.023668                           6.146783   \n",
       "\n",
       "             Churn  \n",
       "count  4000.000000  \n",
       "mean      0.265250  \n",
       "std       0.441521  \n",
       "min       0.000000  \n",
       "25%       0.000000  \n",
       "50%       0.000000  \n",
       "75%       1.000000  \n",
       "max       1.000000  "
      ]
     },
     "execution_count": 97,
     "metadata": {},
     "output_type": "execute_result"
    }
   ],
   "source": [
    "data.describe()"
   ]
  },
  {
   "cell_type": "markdown",
   "metadata": {},
   "source": [
    "Данные равномерные, стандартные отклонения не очень далеко от средних."
   ]
  },
  {
   "cell_type": "markdown",
   "metadata": {},
   "source": [
    "### Преодобработка"
   ]
  },
  {
   "cell_type": "code",
   "execution_count": 98,
   "metadata": {},
   "outputs": [
    {
     "data": {
      "text/plain": [
       "gender                               0\n",
       "Near_Location                        0\n",
       "Partner                              0\n",
       "Promo_friends                        0\n",
       "Phone                                0\n",
       "Contract_period                      0\n",
       "Group_visits                         0\n",
       "Age                                  0\n",
       "Avg_additional_charges_total         0\n",
       "Month_to_end_contract                0\n",
       "Lifetime                             0\n",
       "Avg_class_frequency_total            0\n",
       "Avg_class_frequency_current_month    0\n",
       "Churn                                0\n",
       "dtype: int64"
      ]
     },
     "metadata": {},
     "output_type": "display_data"
    },
    {
     "data": {
      "text/plain": [
       "0"
      ]
     },
     "metadata": {},
     "output_type": "display_data"
    }
   ],
   "source": [
    "display(data.isna().sum()) #Пропусков не обнаружено\n",
    "display(data.duplicated().sum()) #Дубликатов не обнаружено"
   ]
  },
  {
   "cell_type": "code",
   "execution_count": 99,
   "metadata": {},
   "outputs": [
    {
     "data": {
      "text/html": [
       "<div>\n",
       "<style scoped>\n",
       "    .dataframe tbody tr th:only-of-type {\n",
       "        vertical-align: middle;\n",
       "    }\n",
       "\n",
       "    .dataframe tbody tr th {\n",
       "        vertical-align: top;\n",
       "    }\n",
       "\n",
       "    .dataframe thead th {\n",
       "        text-align: right;\n",
       "    }\n",
       "</style>\n",
       "<table border=\"1\" class=\"dataframe\">\n",
       "  <thead>\n",
       "    <tr style=\"text-align: right;\">\n",
       "      <th></th>\n",
       "      <th>gender</th>\n",
       "      <th>near_location</th>\n",
       "      <th>partner</th>\n",
       "      <th>promo_friends</th>\n",
       "      <th>phone</th>\n",
       "      <th>contract_period</th>\n",
       "      <th>group_visits</th>\n",
       "      <th>age</th>\n",
       "      <th>avg_additional_charges_total</th>\n",
       "      <th>month_to_end_contract</th>\n",
       "      <th>lifetime</th>\n",
       "      <th>avg_class_frequency_total</th>\n",
       "      <th>avg_class_frequency_current_month</th>\n",
       "      <th>churn</th>\n",
       "    </tr>\n",
       "  </thead>\n",
       "  <tbody>\n",
       "    <tr>\n",
       "      <th>0</th>\n",
       "      <td>1</td>\n",
       "      <td>1</td>\n",
       "      <td>1</td>\n",
       "      <td>1</td>\n",
       "      <td>0</td>\n",
       "      <td>6</td>\n",
       "      <td>1</td>\n",
       "      <td>29</td>\n",
       "      <td>14.22747</td>\n",
       "      <td>5.0</td>\n",
       "      <td>3</td>\n",
       "      <td>0.020398</td>\n",
       "      <td>0.0</td>\n",
       "      <td>0</td>\n",
       "    </tr>\n",
       "  </tbody>\n",
       "</table>\n",
       "</div>"
      ],
      "text/plain": [
       "   gender  near_location  partner  promo_friends  phone  contract_period  \\\n",
       "0       1              1        1              1      0                6   \n",
       "\n",
       "   group_visits  age  avg_additional_charges_total  month_to_end_contract  \\\n",
       "0             1   29                      14.22747                    5.0   \n",
       "\n",
       "   lifetime  avg_class_frequency_total  avg_class_frequency_current_month  \\\n",
       "0         3                   0.020398                                0.0   \n",
       "\n",
       "   churn  \n",
       "0      0  "
      ]
     },
     "execution_count": 99,
     "metadata": {},
     "output_type": "execute_result"
    }
   ],
   "source": [
    "#Приведем названия столбцов к корректому виду\n",
    "data.columns = data.columns.str.lower()\n",
    "data.head(1)"
   ]
  },
  {
   "cell_type": "code",
   "execution_count": 100,
   "metadata": {},
   "outputs": [
    {
     "name": "stdout",
     "output_type": "stream",
     "text": [
      "<class 'pandas.core.frame.DataFrame'>\n",
      "RangeIndex: 4000 entries, 0 to 3999\n",
      "Data columns (total 14 columns):\n",
      " #   Column                             Non-Null Count  Dtype  \n",
      "---  ------                             --------------  -----  \n",
      " 0   gender                             4000 non-null   int64  \n",
      " 1   near_location                      4000 non-null   int64  \n",
      " 2   partner                            4000 non-null   int64  \n",
      " 3   promo_friends                      4000 non-null   int64  \n",
      " 4   phone                              4000 non-null   int64  \n",
      " 5   contract_period                    4000 non-null   int64  \n",
      " 6   group_visits                       4000 non-null   int64  \n",
      " 7   age                                4000 non-null   int64  \n",
      " 8   avg_additional_charges_total       4000 non-null   float64\n",
      " 9   month_to_end_contract              4000 non-null   int64  \n",
      " 10  lifetime                           4000 non-null   int64  \n",
      " 11  avg_class_frequency_total          4000 non-null   float64\n",
      " 12  avg_class_frequency_current_month  4000 non-null   float64\n",
      " 13  churn                              4000 non-null   int64  \n",
      "dtypes: float64(3), int64(11)\n",
      "memory usage: 437.6 KB\n"
     ]
    }
   ],
   "source": [
    "#Приведем данные в столбце 'month_to_end_contract' к целочисленному\n",
    "data['month_to_end_contract'] = data['month_to_end_contract'].astype('int')\n",
    "data.info()"
   ]
  },
  {
   "cell_type": "markdown",
   "metadata": {},
   "source": [
    "### Посмотрим на средние значения признаков в двух группах — тех, кто ушел в отток и тех, кто остался"
   ]
  },
  {
   "cell_type": "code",
   "execution_count": 101,
   "metadata": {},
   "outputs": [
    {
     "data": {
      "text/html": [
       "<div>\n",
       "<style scoped>\n",
       "    .dataframe tbody tr th:only-of-type {\n",
       "        vertical-align: middle;\n",
       "    }\n",
       "\n",
       "    .dataframe tbody tr th {\n",
       "        vertical-align: top;\n",
       "    }\n",
       "\n",
       "    .dataframe thead th {\n",
       "        text-align: right;\n",
       "    }\n",
       "</style>\n",
       "<table border=\"1\" class=\"dataframe\">\n",
       "  <thead>\n",
       "    <tr style=\"text-align: right;\">\n",
       "      <th></th>\n",
       "      <th>churn</th>\n",
       "      <th>gender</th>\n",
       "      <th>near_location</th>\n",
       "      <th>partner</th>\n",
       "      <th>promo_friends</th>\n",
       "      <th>phone</th>\n",
       "      <th>contract_period</th>\n",
       "      <th>group_visits</th>\n",
       "      <th>age</th>\n",
       "      <th>avg_additional_charges_total</th>\n",
       "      <th>month_to_end_contract</th>\n",
       "      <th>lifetime</th>\n",
       "      <th>avg_class_frequency_total</th>\n",
       "      <th>avg_class_frequency_current_month</th>\n",
       "    </tr>\n",
       "  </thead>\n",
       "  <tbody>\n",
       "    <tr>\n",
       "      <th>0</th>\n",
       "      <td>0</td>\n",
       "      <td>0.510037</td>\n",
       "      <td>0.873086</td>\n",
       "      <td>0.534195</td>\n",
       "      <td>0.353522</td>\n",
       "      <td>0.903709</td>\n",
       "      <td>5.747193</td>\n",
       "      <td>0.464103</td>\n",
       "      <td>29.976523</td>\n",
       "      <td>158.445715</td>\n",
       "      <td>5.283089</td>\n",
       "      <td>4.711807</td>\n",
       "      <td>2.024876</td>\n",
       "      <td>2.027882</td>\n",
       "    </tr>\n",
       "    <tr>\n",
       "      <th>1</th>\n",
       "      <td>1</td>\n",
       "      <td>0.510839</td>\n",
       "      <td>0.768143</td>\n",
       "      <td>0.355325</td>\n",
       "      <td>0.183789</td>\n",
       "      <td>0.902922</td>\n",
       "      <td>1.728558</td>\n",
       "      <td>0.268615</td>\n",
       "      <td>26.989632</td>\n",
       "      <td>115.082899</td>\n",
       "      <td>1.662582</td>\n",
       "      <td>0.990575</td>\n",
       "      <td>1.474995</td>\n",
       "      <td>1.044546</td>\n",
       "    </tr>\n",
       "  </tbody>\n",
       "</table>\n",
       "</div>"
      ],
      "text/plain": [
       "   churn    gender  near_location   partner  promo_friends     phone  \\\n",
       "0      0  0.510037       0.873086  0.534195       0.353522  0.903709   \n",
       "1      1  0.510839       0.768143  0.355325       0.183789  0.902922   \n",
       "\n",
       "   contract_period  group_visits        age  avg_additional_charges_total  \\\n",
       "0         5.747193      0.464103  29.976523                    158.445715   \n",
       "1         1.728558      0.268615  26.989632                    115.082899   \n",
       "\n",
       "   month_to_end_contract  lifetime  avg_class_frequency_total  \\\n",
       "0               5.283089  4.711807                   2.024876   \n",
       "1               1.662582  0.990575                   1.474995   \n",
       "\n",
       "   avg_class_frequency_current_month  \n",
       "0                           2.027882  \n",
       "1                           1.044546  "
      ]
     },
     "execution_count": 101,
     "metadata": {},
     "output_type": "execute_result"
    }
   ],
   "source": [
    "data_group = data.groupby('churn').mean().reset_index()\n",
    "data_group.head()"
   ]
  },
  {
   "cell_type": "markdown",
   "metadata": {},
   "source": [
    "(-) \"gender\" (пол) - среднее одинаково, это говорит о том, что этот признак не влияет на отток/приток.(-)\n",
    "(+-) \"near_location\" (проживание или работа рядом) - надо отметить высокий показатель и там и там - это значит большая часть клиентов, это те кто проживает и работает рядом. Можно сказать, что этот признак слабо влияет на отток.(+)\n",
    "(+) \"partner\" - Также это поле оказавет положительное влияние на клиентов, - среди партнеров оттток меньше.(+)\n",
    "(+) \"promo_friends\" - И это поле оказывает положительное влияние на клиентов, - отток среди \"Промщиков\" меньше.(+)\n",
    "(-) \"phone\" - много тех кто оставил свои телефоны в анкете, но толку от этого мало :) - никакого влияния.(-)\n",
    "(+) \"contract_period\" - довольно приличное положительное влияние на клиентов - это вполне логично, если у тебя уже куплен абонемент на год, за это заплачены деньги, есть стимул ходить, что бы деньги не пропали даром (нежели чем если ты купил на месяц,- здесь и бросить можно походив пару недель - и не жалко будет). Влияние признака на клиентов высокое.(+)\n",
    "(+) \"group_visits\" - тоже оказывает сильное положительное влияние,- групповая терапия это хорошо:), если человек ходит в группы, он социализируется, появляются новые друзья связи и т.д., которые будут притягивать его в фитнес-центр.(+)\n",
    "(+-) \"age\" - оказывает слабое положительное влияние на клиентов, - \"спорту все возрасты покорны\".(+-)\n",
    "(+-) \"avg_additional_charges_total\" - выручка от других услуг - оказывает слабое положительное влияние, похоже люди неохотно тратят деньги на побочные услуги - их больше интересует то, что входит в абонемент.(+-)\n",
    "(+) \"month_to_end_contract\" - сильное положительное влияние на клиентов. Еще много осталось отходить, обидно будет если столько добра пропадет даром.(+)\n",
    "(+) \"lifetime\" - очень сильное положительное влияние на клиентов, - логично: чем дольше человек ходит, тем это сильнее закрепляется у него как привычка.(+)\n",
    "(+-) \"avg_class_frequency_total\" - признак оказывает слабое положительное влияние. Все клиенты разные, все живут в разном темпе со своими делами и заботами, поэтому кто-то ходит каждый день, а кто-то раз в неделю, но все-таки чем чаще клиент ходит тем вероятность продолжать ходить больше - привычка.(+-)\n",
    "(+) \"avg_class_frequency_current_month\" - все логично, чем чаще за неделю клиент ходил в фитнес в ближайщий период, тем привычка сильнее, - хорошее положительное влияние на клиентов.(+)"
   ]
  },
  {
   "cell_type": "markdown",
   "metadata": {},
   "source": [
    "### Построим столбчатые гистограммы и распределения признаков для тех, кто ушёл (отток) и тех, кто остался (не попали в отток)"
   ]
  },
  {
   "cell_type": "code",
   "execution_count": 102,
   "metadata": {
    "scrolled": false
   },
   "outputs": [
    {
     "data": {
      "image/png": "[encoded data removed]",
      "text/plain": [
       "<Figure size 576x396 with 1 Axes>"
      ]
     },
     "metadata": {},
     "output_type": "display_data"
    },
    {
     "data": {
      "image/png": "[encoded data removed]",
      "text/plain": [
       "<Figure size 576x396 with 1 Axes>"
      ]
     },
     "metadata": {},
     "output_type": "display_data"
    },
    {
     "data": {
      "image/png": "[encoded data removed]",
      "text/plain": [
       "<Figure size 576x396 with 1 Axes>"
      ]
     },
     "metadata": {},
     "output_type": "display_data"
    },
    {
     "data": {
      "image/png": "[encoded data removed]",
      "text/plain": [
       "<Figure size 576x396 with 1 Axes>"
      ]
     },
     "metadata": {},
     "output_type": "display_data"
    },
    {
     "data": {
      "image/png": "[encoded data removed]",
      "text/plain": [
       "<Figure size 576x396 with 1 Axes>"
      ]
     },
     "metadata": {},
     "output_type": "display_data"
    },
    {
     "data": {
      "image/png": "[encoded data removed]",
      "text/plain": [
       "<Figure size 576x396 with 1 Axes>"
      ]
     },
     "metadata": {},
     "output_type": "display_data"
    },
    {
     "data": {
      "image/png": "[encoded data removed]",
      "text/plain": [
       "<Figure size 576x396 with 1 Axes>"
      ]
     },
     "metadata": {},
     "output_type": "display_data"
    },
    {
     "data": {
      "image/png": "[encoded data removed]",
      "text/plain": [
       "<Figure size 576x396 with 1 Axes>"
      ]
     },
     "metadata": {},
     "output_type": "display_data"
    },
    {
     "data": {
      "image/png": "[encoded data removed]",
      "text/plain": [
       "<Figure size 576x396 with 1 Axes>"
      ]
     },
     "metadata": {},
     "output_type": "display_data"
    },
    {
     "data": {
      "image/png": "[encoded data removed]",
      "text/plain": [
       "<Figure size 576x396 with 1 Axes>"
      ]
     },
     "metadata": {},
     "output_type": "display_data"
    },
    {
     "data": {
      "image/png": "[encoded data removed]",
      "text/plain": [
       "<Figure size 576x396 with 1 Axes>"
      ]
     },
     "metadata": {},
     "output_type": "display_data"
    },
    {
     "data": {
      "image/png": "[encoded data removed]",
      "text/plain": [
       "<Figure size 576x396 with 1 Axes>"
      ]
     },
     "metadata": {},
     "output_type": "display_data"
    },
    {
     "data": {
      "image/png": "[encoded data removed]",
      "text/plain": [
       "<Figure size 576x396 with 1 Axes>"
      ]
     },
     "metadata": {},
     "output_type": "display_data"
    }
   ],
   "source": [
    "for i in data.drop('churn', axis=1).columns:\n",
    "    sns.distplot(data.query('churn == 1')[i], bins=4, kde=False, color='red',label='ушли-1')\n",
    "    sns.distplot(data.query('churn == 0')[i], bins=4, kde=False, color='blue',label='остались-0')\n",
    "    plt.style.use('seaborn')\n",
    "    plt.title('Histogram distribution')\n",
    "    plt.xlabel(i)\n",
    "    plt.ylabel('Count')\n",
    "    plt.legend()\n",
    "    plt.show()"
   ]
  },
  {
   "cell_type": "markdown",
   "metadata": {},
   "source": [
    "'gender' - И мужчин и женщин ходит примерно равное количество и доля оттока у них одинаковая.\n",
    "\n",
    "'near_location' - Клиентов которые живут поблизости значительно больше, следовательно и доля оставшихся и ушедших выше.\n",
    "\n",
    "'partner' - Количество партнеров немного выше, а вот доля оттока у них практически в 2 раза ниже.\n",
    "\n",
    "'promo_friends' - Участников промо-акции значительно меньше, а доля оставшихся выше, доля оттока в сравнении с клиентами не учавствовавших в акции в 4 раза ниже.\n",
    "\n",
    "'phone' - Очень многие оставляют свой номер телефона, никакого влияния на отток не наблюдается.\n",
    "\n",
    "'contract_period' - Значительно больший отток среди тех кто заключает контракт на месяц, и очень высокая доля оставшихся тех кто заключает договор на год.\n",
    "\n",
    "'group_visits' - Клиентов которые ходят на групповые занятия чуть меньше, однако доля оставшихся среди них заметно больше.\n",
    "\n",
    "age' - После 30 лет люди охотнее остаются, \"более дисциплинированы\".\n",
    "\n",
    "'avg_additional_charges_total' - Доля оставшихся и ушедших мало зависит от трат клиентами на доп услуги, да и потом большинство тратят не более 400.\n",
    "\n",
    "'month_to_end_contract' - Здесь четко видно, что чем больше времени осталось до окончания договора тем меньше желание клиента уйти. И в целом отток наблюдается за теми кому остался месяц до конца договора.\n",
    "\n",
    "'lifetime' - очень хорошо видно, что среди тех у кого большой \"lifetime\" оттока почти нет. Основной отток идет от тех кто ходил до 2 месяцев.\n",
    "\n",
    "'avg_class_frequency_total' - У тех кто ходит 1-2 раза в неделю доля оттока примерно равна, и резко ситуация менятся для тех кто ходит 3 раза. У тех кто ходит 4-5 раза доля оттока совсем мала, скорее всего это профессиональные спортсмены.\n",
    "\n",
    "'avg_class_frequency_current_month' - Чем чаще клиент ходил за последний месяц тем вероятность уйти ниже."
   ]
  },
  {
   "cell_type": "markdown",
   "metadata": {},
   "source": [
    "### Построим матрицу корреляций."
   ]
  },
  {
   "cell_type": "code",
   "execution_count": 103,
   "metadata": {},
   "outputs": [
    {
     "data": {
      "text/plain": [
       "Text(0.5, 1.0, 'Matrix of correlations')"
      ]
     },
     "execution_count": 103,
     "metadata": {},
     "output_type": "execute_result"
    },
    {
     "data": {
      "image/png": "[encoded data removed]",
      "text/plain": [
       "<Figure size 1080x1080 with 2 Axes>"
      ]
     },
     "metadata": {},
     "output_type": "display_data"
    }
   ],
   "source": [
    "data_corr = data.corr()\n",
    "plt.figure(figsize=(15,15))\n",
    "ax = sns.heatmap(data_corr, square=True, annot=True)\n",
    "sns.set_palette('dark')\n",
    "ax.set_title('Matrix of correlations', fontdict={'fontsize':18}, pad=12)"
   ]
  },
  {
   "cell_type": "markdown",
   "metadata": {},
   "source": [
    "Здесь общая картина похожа на, ту которая в пункте 2.2. Но есть и отличия. По карте видно, что 'partner', 'group_visits', 'promo_friends' - оказывают все-таки очень слабое влияние, а 'age' наоборот более сильное\n",
    "\n",
    "На карте между 'churn' и признаками видна обратная корреляция - это говорит о том, что чем сильнее признак, тем слабее отток.\n",
    "\n",
    "По цифрам корреляции можно сказать, что все признаки слабо коррелируют:\n",
    "\n",
    "1. 'gender' и 'phone' - никакого влияния признаков на 'churn'. Корреляция почти 0  \n",
    "\n",
    "2. near_location', 'partner', 'promo_friends', 'group_visits', 'avg_additional_charges_total', 'avg_class_frequency_total'. Корреляция в диапазоне -(0,1-0,25) - очень слабая.  \n",
    "\n",
    "3. 'contract_period', 'age', 'month_to_end_contract', 'lifetime', 'avg_class_frequency_current_month'. Корреляция в диапазоне -(0,38-0,44) - просто слабая.\n",
    "\n",
    "Также надо отметить очень сильную (выше 0,95) корреляцию пар признаков, которую надо будет учесть в моделях линейной регрессии:\n",
    "а) 'contract_period' и 'month_to_end_contract'- чем больше период абонемента, тем скорее всего больше месяцев осталось;\n",
    "б) 'avg_class_frequency_current_month' и 'avg_class_frequency_total' - здесь очень логично, те кто давно уже ходит с постоянным графиком, тот и за последний месяц ходил скорее всего с таким же графиком."
   ]
  },
  {
   "cell_type": "markdown",
   "metadata": {},
   "source": [
    "Удалим по одному столбцу из каждой пары чтобы исключить мультикорреляцию"
   ]
  },
  {
   "cell_type": "code",
   "execution_count": 104,
   "metadata": {},
   "outputs": [
    {
     "data": {
      "text/html": [
       "<div>\n",
       "<style scoped>\n",
       "    .dataframe tbody tr th:only-of-type {\n",
       "        vertical-align: middle;\n",
       "    }\n",
       "\n",
       "    .dataframe tbody tr th {\n",
       "        vertical-align: top;\n",
       "    }\n",
       "\n",
       "    .dataframe thead th {\n",
       "        text-align: right;\n",
       "    }\n",
       "</style>\n",
       "<table border=\"1\" class=\"dataframe\">\n",
       "  <thead>\n",
       "    <tr style=\"text-align: right;\">\n",
       "      <th></th>\n",
       "      <th>gender</th>\n",
       "      <th>near_location</th>\n",
       "      <th>partner</th>\n",
       "      <th>promo_friends</th>\n",
       "      <th>phone</th>\n",
       "      <th>contract_period</th>\n",
       "      <th>group_visits</th>\n",
       "      <th>age</th>\n",
       "      <th>avg_additional_charges_total</th>\n",
       "      <th>lifetime</th>\n",
       "      <th>avg_class_frequency_current_month</th>\n",
       "      <th>churn</th>\n",
       "    </tr>\n",
       "  </thead>\n",
       "  <tbody>\n",
       "    <tr>\n",
       "      <th>0</th>\n",
       "      <td>1</td>\n",
       "      <td>1</td>\n",
       "      <td>1</td>\n",
       "      <td>1</td>\n",
       "      <td>0</td>\n",
       "      <td>6</td>\n",
       "      <td>1</td>\n",
       "      <td>29</td>\n",
       "      <td>14.227470</td>\n",
       "      <td>3</td>\n",
       "      <td>0.000000</td>\n",
       "      <td>0</td>\n",
       "    </tr>\n",
       "    <tr>\n",
       "      <th>1</th>\n",
       "      <td>0</td>\n",
       "      <td>1</td>\n",
       "      <td>0</td>\n",
       "      <td>0</td>\n",
       "      <td>1</td>\n",
       "      <td>12</td>\n",
       "      <td>1</td>\n",
       "      <td>31</td>\n",
       "      <td>113.202938</td>\n",
       "      <td>7</td>\n",
       "      <td>1.910244</td>\n",
       "      <td>0</td>\n",
       "    </tr>\n",
       "    <tr>\n",
       "      <th>2</th>\n",
       "      <td>0</td>\n",
       "      <td>1</td>\n",
       "      <td>1</td>\n",
       "      <td>0</td>\n",
       "      <td>1</td>\n",
       "      <td>1</td>\n",
       "      <td>0</td>\n",
       "      <td>28</td>\n",
       "      <td>129.448479</td>\n",
       "      <td>2</td>\n",
       "      <td>1.736502</td>\n",
       "      <td>0</td>\n",
       "    </tr>\n",
       "    <tr>\n",
       "      <th>3</th>\n",
       "      <td>0</td>\n",
       "      <td>1</td>\n",
       "      <td>1</td>\n",
       "      <td>1</td>\n",
       "      <td>1</td>\n",
       "      <td>12</td>\n",
       "      <td>1</td>\n",
       "      <td>33</td>\n",
       "      <td>62.669863</td>\n",
       "      <td>2</td>\n",
       "      <td>3.357215</td>\n",
       "      <td>0</td>\n",
       "    </tr>\n",
       "    <tr>\n",
       "      <th>4</th>\n",
       "      <td>1</td>\n",
       "      <td>1</td>\n",
       "      <td>1</td>\n",
       "      <td>1</td>\n",
       "      <td>1</td>\n",
       "      <td>1</td>\n",
       "      <td>0</td>\n",
       "      <td>26</td>\n",
       "      <td>198.362265</td>\n",
       "      <td>3</td>\n",
       "      <td>1.120078</td>\n",
       "      <td>0</td>\n",
       "    </tr>\n",
       "  </tbody>\n",
       "</table>\n",
       "</div>"
      ],
      "text/plain": [
       "   gender  near_location  partner  promo_friends  phone  contract_period  \\\n",
       "0       1              1        1              1      0                6   \n",
       "1       0              1        0              0      1               12   \n",
       "2       0              1        1              0      1                1   \n",
       "3       0              1        1              1      1               12   \n",
       "4       1              1        1              1      1                1   \n",
       "\n",
       "   group_visits  age  avg_additional_charges_total  lifetime  \\\n",
       "0             1   29                     14.227470         3   \n",
       "1             1   31                    113.202938         7   \n",
       "2             0   28                    129.448479         2   \n",
       "3             1   33                     62.669863         2   \n",
       "4             0   26                    198.362265         3   \n",
       "\n",
       "   avg_class_frequency_current_month  churn  \n",
       "0                           0.000000      0  \n",
       "1                           1.910244      0  \n",
       "2                           1.736502      0  \n",
       "3                           3.357215      0  \n",
       "4                           1.120078      0  "
      ]
     },
     "execution_count": 104,
     "metadata": {},
     "output_type": "execute_result"
    }
   ],
   "source": [
    "data = data.drop(['month_to_end_contract', 'avg_class_frequency_total'], axis=1)\n",
    "data.head()"
   ]
  },
  {
   "cell_type": "markdown",
   "metadata": {},
   "source": [
    "Вывод:\n",
    "Всего 4000 записей, то есть в исследовании участвуют 4000 клиентов, это достаточная цифра для осуществления прогноза.\n",
    "Данные чистые, пропусков и дубликатов нет\n",
    "Был изменен тип данных столбца 'month_to_end_contract' и приведен к целочисленному типу (количество полных месяцев до окончании контракта)\n",
    "Все названия столбцов были приведены к корректному виду (нижний регистр)\n",
    "'gender' и 'phone' признаки которые не оказывают никакого влияния на отток клиентов\n",
    "'near_location', 'partner', 'promo_friends', 'group_visits', 'avg_additional_charges_total', 'avg_class_frequency_total' имеют слабую корреляцию.\n",
    "'contract_period', 'age', 'month_to_end_contract', 'lifetime', 'avg_class_frequency_current_month' имеют корреляцию чуть ниже средней.\n",
    "Есть две пары признаков которые имеют взаимную корреляцию и этот факт необходимо учитывать при построении модели прогнозирования для линейной регрессии."
   ]
  },
  {
   "cell_type": "markdown",
   "metadata": {},
   "source": [
    "## Построим модель прогнозирования оттока клиентов"
   ]
  },
  {
   "cell_type": "markdown",
   "metadata": {},
   "source": [
    "### Построим модель бинарной классификации клиентов, где целевой признак — факт оттока клиента в следующем месяце:"
   ]
  },
  {
   "cell_type": "markdown",
   "metadata": {},
   "source": [
    "Получим матрицу признаков Х и целевую переменную y"
   ]
  },
  {
   "cell_type": "code",
   "execution_count": 105,
   "metadata": {},
   "outputs": [],
   "source": [
    "X = data.drop('churn', axis=1)\n",
    "y = data['churn']"
   ]
  },
  {
   "cell_type": "markdown",
   "metadata": {},
   "source": [
    "Разделяем модель на обучающую и валидационную выборку"
   ]
  },
  {
   "cell_type": "code",
   "execution_count": 106,
   "metadata": {},
   "outputs": [],
   "source": [
    "X_train, X_test, y_train, y_test = train_test_split(X, y, test_size=0.2, random_state=0)"
   ]
  },
  {
   "cell_type": "markdown",
   "metadata": {},
   "source": [
    "Cоздадим объект класса StandardScaler и применим его к обучающей выборке"
   ]
  },
  {
   "cell_type": "code",
   "execution_count": 107,
   "metadata": {},
   "outputs": [],
   "source": [
    "scaler = StandardScaler()\n",
    "X_train_st = scaler.fit_transform(X_train)"
   ]
  },
  {
   "cell_type": "markdown",
   "metadata": {},
   "source": [
    "Применяем стандартизацию к матрице признаков для тестовой выборки"
   ]
  },
  {
   "cell_type": "code",
   "execution_count": 108,
   "metadata": {},
   "outputs": [],
   "source": [
    "X_test_st = scaler.transform(X_test)"
   ]
  },
  {
   "cell_type": "markdown",
   "metadata": {},
   "source": [
    "### Создадим модели бинарной классификации обучения с учителем, следующих алгоритмов: логистическая регрессия и случайный лес"
   ]
  },
  {
   "cell_type": "markdown",
   "metadata": {},
   "source": [
    "Создадим список моделей"
   ]
  },
  {
   "cell_type": "code",
   "execution_count": 109,
   "metadata": {},
   "outputs": [],
   "source": [
    "models = [LogisticRegression(random_state=0), RandomForestClassifier(n_estimators = 100, random_state=0)]"
   ]
  },
  {
   "cell_type": "markdown",
   "metadata": {},
   "source": [
    "Напишем функцию посчета метрик для выбранных нами моделей"
   ]
  },
  {
   "cell_type": "code",
   "execution_count": 110,
   "metadata": {},
   "outputs": [],
   "source": [
    "def make_prediction(m, X_train, y_train, X_test, y_test):\n",
    "    model = m\n",
    "    model.fit(X_train, y_train)\n",
    "    y_pred = model.predict(X_test)\n",
    "    print('Accuracy: {:.2f} Precision: {:.2f} Recall: {:.2f}'.format(accuracy_score(y_test, y_pred),\n",
    "                                                                     precision_score(y_test, y_pred),\n",
    "                                                                     recall_score(y_test, y_pred)))"
   ]
  },
  {
   "cell_type": "markdown",
   "metadata": {},
   "source": [
    "Напишем функцию вывода метрик в сосответствии с моделями"
   ]
  },
  {
   "cell_type": "code",
   "execution_count": 111,
   "metadata": {},
   "outputs": [
    {
     "name": "stdout",
     "output_type": "stream",
     "text": [
      "LogisticRegression(random_state=0)\n",
      "Accuracy: 0.90 Precision: 0.79 Recall: 0.82\n",
      "RandomForestClassifier(random_state=0)\n",
      "Accuracy: 0.90 Precision: 0.81 Recall: 0.75\n"
     ]
    }
   ],
   "source": [
    "for i in models:\n",
    "    print(i)\n",
    "    make_prediction(\n",
    "    m = i,\n",
    "    X_train = X_train_st,\n",
    "    y_train = y_train,\n",
    "    X_test = X_test_st,\n",
    "    y_test = y_test) "
   ]
  },
  {
   "cell_type": "markdown",
   "metadata": {},
   "source": [
    "По параметру Accuracy \"Логистическая регрессия\" и \"Случайный лес\" одинаковы (0,92), по precision \"Логистическая регрессия\" получше (0,85 проитив 0,84) и также немного лучше по recall (0,83 против 0,81)\n",
    "\n",
    "По всем параметрам \"Логистическая регрессия\" дает результат немного лучше чем \"Случайный лес\"\n",
    "\n",
    "Также надо отметить у обоих моделей очень высокий показатель Accuracy (больше 0,91), а также высокие показатели precision и recall (в диапазоне 0,81 - 0,85)\n",
    "\n",
    "Вывод: В общем и целом обе модели показали вполне отличные результаты, \"Логистическая регрессия\" - немного лучше."
   ]
  },
  {
   "cell_type": "markdown",
   "metadata": {},
   "source": [
    "Версия 2 после удаления столбцов\n",
    "\n",
    "По параметру Accuracy \"Логистическая регрессия\" и \"Случайный лес\" одинаковы (0,90), по precision \"Логистическая регрессия\" немного проигрывает (0,79 проитив 0,81), а вот recall много лучше (0,82 против 0,75)\n",
    "\n",
    "В целом \"Логистическая регрессия\" дает результат немного лучше чем \"Случайный лес\"\n",
    "\n",
    "Также надо отметить у обоих моделей очень высокий показатель Accuracy (0,90), а также высокие показатели precision и recall (в диапазоне 0,75 - 0,82)\n",
    "\n",
    "Вывод: В общем и целом обе модели показали вполне отличные результаты, \"Логистическая регрессия\" - немного лучше."
   ]
  },
  {
   "cell_type": "markdown",
   "metadata": {},
   "source": [
    "## Сделаем кластеризацию клиентов"
   ]
  },
  {
   "cell_type": "markdown",
   "metadata": {},
   "source": [
    "### Стандартизируем данные"
   ]
  },
  {
   "cell_type": "code",
   "execution_count": 112,
   "metadata": {},
   "outputs": [
    {
     "data": {
      "text/plain": [
       "array([[ 0.97970588,  0.42788074,  1.02686062,  1.49716101, -3.05985201,\n",
       "         0.28989014,  1.19403206, -0.0565538 , -1.37753121, -0.19332863,\n",
       "        -1.67847198],\n",
       "       [-1.0207145 ,  0.42788074, -0.973842  , -0.66793083,  0.32681319,\n",
       "         1.60882159,  1.19403206,  0.55732732, -0.35021325,  0.87368001,\n",
       "         0.1360137 ],\n",
       "       [-1.0207145 ,  0.42788074,  1.02686062, -0.66793083,  0.32681319,\n",
       "        -0.8092194 , -0.83749845, -0.36349436, -0.1815923 , -0.46008079,\n",
       "        -0.02901851]])"
      ]
     },
     "execution_count": 112,
     "metadata": {},
     "output_type": "execute_result"
    }
   ],
   "source": [
    "sc = StandardScaler()\n",
    "X_sc = sc.fit_transform(X)\n",
    "X_sc[:3]"
   ]
  },
  {
   "cell_type": "markdown",
   "metadata": {},
   "source": [
    "### Построим матрицу расстояний функцией linkage() на стандартизованной матрице признаков и нарисуем дендрограмму"
   ]
  },
  {
   "cell_type": "markdown",
   "metadata": {},
   "source": [
    "Создадим таблицу связок между объектами"
   ]
  },
  {
   "cell_type": "code",
   "execution_count": 113,
   "metadata": {},
   "outputs": [],
   "source": [
    "linked = linkage(X_sc, method = 'ward') "
   ]
  },
  {
   "cell_type": "markdown",
   "metadata": {},
   "source": [
    "Отобразим дендограмму"
   ]
  },
  {
   "cell_type": "code",
   "execution_count": 114,
   "metadata": {},
   "outputs": [
    {
     "data": {
      "image/png": "[encoded data removed]",
      "text/plain": [
       "<Figure size 1080x1080 with 1 Axes>"
      ]
     },
     "metadata": {},
     "output_type": "display_data"
    }
   ],
   "source": [
    "plt.figure(figsize=(15, 15))\n",
    "dendrogram(linked, orientation='top')\n",
    "plt.title('Dendrogram of hierarchial clustering')\n",
    "plt.show() "
   ]
  },
  {
   "cell_type": "markdown",
   "metadata": {},
   "source": [
    "Явно выделяются 4 кластера (4 цвета) я бы выбрал 5"
   ]
  },
  {
   "cell_type": "markdown",
   "metadata": {},
   "source": [
    "### Обучим модель кластеризации на основании алгоритма K-Means и спрогнозируем кластеры клиентов"
   ]
  },
  {
   "cell_type": "markdown",
   "metadata": {},
   "source": [
    "За число кластеров примим n=5"
   ]
  },
  {
   "cell_type": "code",
   "execution_count": 115,
   "metadata": {},
   "outputs": [],
   "source": [
    "km = KMeans(n_clusters=5, random_state=0)\n",
    "labels = km.fit_predict(X_sc)"
   ]
  },
  {
   "cell_type": "markdown",
   "metadata": {},
   "source": [
    "Cохраним метки кластера в поле нашего датасета"
   ]
  },
  {
   "cell_type": "code",
   "execution_count": 116,
   "metadata": {},
   "outputs": [
    {
     "data": {
      "text/html": [
       "<div>\n",
       "<style scoped>\n",
       "    .dataframe tbody tr th:only-of-type {\n",
       "        vertical-align: middle;\n",
       "    }\n",
       "\n",
       "    .dataframe tbody tr th {\n",
       "        vertical-align: top;\n",
       "    }\n",
       "\n",
       "    .dataframe thead th {\n",
       "        text-align: right;\n",
       "    }\n",
       "</style>\n",
       "<table border=\"1\" class=\"dataframe\">\n",
       "  <thead>\n",
       "    <tr style=\"text-align: right;\">\n",
       "      <th></th>\n",
       "      <th>gender</th>\n",
       "      <th>near_location</th>\n",
       "      <th>partner</th>\n",
       "      <th>promo_friends</th>\n",
       "      <th>phone</th>\n",
       "      <th>contract_period</th>\n",
       "      <th>group_visits</th>\n",
       "      <th>age</th>\n",
       "      <th>avg_additional_charges_total</th>\n",
       "      <th>lifetime</th>\n",
       "      <th>avg_class_frequency_current_month</th>\n",
       "      <th>churn</th>\n",
       "      <th>cluster_km</th>\n",
       "    </tr>\n",
       "  </thead>\n",
       "  <tbody>\n",
       "    <tr>\n",
       "      <th>0</th>\n",
       "      <td>1</td>\n",
       "      <td>1</td>\n",
       "      <td>1</td>\n",
       "      <td>1</td>\n",
       "      <td>0</td>\n",
       "      <td>6</td>\n",
       "      <td>1</td>\n",
       "      <td>29</td>\n",
       "      <td>14.227470</td>\n",
       "      <td>3</td>\n",
       "      <td>0.000000</td>\n",
       "      <td>0</td>\n",
       "      <td>4</td>\n",
       "    </tr>\n",
       "    <tr>\n",
       "      <th>1</th>\n",
       "      <td>0</td>\n",
       "      <td>1</td>\n",
       "      <td>0</td>\n",
       "      <td>0</td>\n",
       "      <td>1</td>\n",
       "      <td>12</td>\n",
       "      <td>1</td>\n",
       "      <td>31</td>\n",
       "      <td>113.202938</td>\n",
       "      <td>7</td>\n",
       "      <td>1.910244</td>\n",
       "      <td>0</td>\n",
       "      <td>3</td>\n",
       "    </tr>\n",
       "    <tr>\n",
       "      <th>2</th>\n",
       "      <td>0</td>\n",
       "      <td>1</td>\n",
       "      <td>1</td>\n",
       "      <td>0</td>\n",
       "      <td>1</td>\n",
       "      <td>1</td>\n",
       "      <td>0</td>\n",
       "      <td>28</td>\n",
       "      <td>129.448479</td>\n",
       "      <td>2</td>\n",
       "      <td>1.736502</td>\n",
       "      <td>0</td>\n",
       "      <td>2</td>\n",
       "    </tr>\n",
       "    <tr>\n",
       "      <th>3</th>\n",
       "      <td>0</td>\n",
       "      <td>1</td>\n",
       "      <td>1</td>\n",
       "      <td>1</td>\n",
       "      <td>1</td>\n",
       "      <td>12</td>\n",
       "      <td>1</td>\n",
       "      <td>33</td>\n",
       "      <td>62.669863</td>\n",
       "      <td>2</td>\n",
       "      <td>3.357215</td>\n",
       "      <td>0</td>\n",
       "      <td>0</td>\n",
       "    </tr>\n",
       "    <tr>\n",
       "      <th>4</th>\n",
       "      <td>1</td>\n",
       "      <td>1</td>\n",
       "      <td>1</td>\n",
       "      <td>1</td>\n",
       "      <td>1</td>\n",
       "      <td>1</td>\n",
       "      <td>0</td>\n",
       "      <td>26</td>\n",
       "      <td>198.362265</td>\n",
       "      <td>3</td>\n",
       "      <td>1.120078</td>\n",
       "      <td>0</td>\n",
       "      <td>0</td>\n",
       "    </tr>\n",
       "  </tbody>\n",
       "</table>\n",
       "</div>"
      ],
      "text/plain": [
       "   gender  near_location  partner  promo_friends  phone  contract_period  \\\n",
       "0       1              1        1              1      0                6   \n",
       "1       0              1        0              0      1               12   \n",
       "2       0              1        1              0      1                1   \n",
       "3       0              1        1              1      1               12   \n",
       "4       1              1        1              1      1                1   \n",
       "\n",
       "   group_visits  age  avg_additional_charges_total  lifetime  \\\n",
       "0             1   29                     14.227470         3   \n",
       "1             1   31                    113.202938         7   \n",
       "2             0   28                    129.448479         2   \n",
       "3             1   33                     62.669863         2   \n",
       "4             0   26                    198.362265         3   \n",
       "\n",
       "   avg_class_frequency_current_month  churn  cluster_km  \n",
       "0                           0.000000      0           4  \n",
       "1                           1.910244      0           3  \n",
       "2                           1.736502      0           2  \n",
       "3                           3.357215      0           0  \n",
       "4                           1.120078      0           0  "
      ]
     },
     "execution_count": 116,
     "metadata": {},
     "output_type": "execute_result"
    }
   ],
   "source": [
    "data['cluster_km'] = labels\n",
    "data.head()"
   ]
  },
  {
   "cell_type": "markdown",
   "metadata": {},
   "source": [
    "Посмотрим распределение количества клиентов по кластерам"
   ]
  },
  {
   "cell_type": "code",
   "execution_count": 117,
   "metadata": {},
   "outputs": [
    {
     "data": {
      "text/html": [
       "<div>\n",
       "<style scoped>\n",
       "    .dataframe tbody tr th:only-of-type {\n",
       "        vertical-align: middle;\n",
       "    }\n",
       "\n",
       "    .dataframe tbody tr th {\n",
       "        vertical-align: top;\n",
       "    }\n",
       "\n",
       "    .dataframe thead th {\n",
       "        text-align: right;\n",
       "    }\n",
       "</style>\n",
       "<table border=\"1\" class=\"dataframe\">\n",
       "  <thead>\n",
       "    <tr style=\"text-align: right;\">\n",
       "      <th></th>\n",
       "      <th>cluster_km</th>\n",
       "      <th>gender</th>\n",
       "    </tr>\n",
       "  </thead>\n",
       "  <tbody>\n",
       "    <tr>\n",
       "      <th>0</th>\n",
       "      <td>0</td>\n",
       "      <td>985</td>\n",
       "    </tr>\n",
       "    <tr>\n",
       "      <th>1</th>\n",
       "      <td>1</td>\n",
       "      <td>558</td>\n",
       "    </tr>\n",
       "    <tr>\n",
       "      <th>2</th>\n",
       "      <td>2</td>\n",
       "      <td>1064</td>\n",
       "    </tr>\n",
       "    <tr>\n",
       "      <th>3</th>\n",
       "      <td>3</td>\n",
       "      <td>1007</td>\n",
       "    </tr>\n",
       "    <tr>\n",
       "      <th>4</th>\n",
       "      <td>4</td>\n",
       "      <td>386</td>\n",
       "    </tr>\n",
       "  </tbody>\n",
       "</table>\n",
       "</div>"
      ],
      "text/plain": [
       "   cluster_km  gender\n",
       "0           0     985\n",
       "1           1     558\n",
       "2           2    1064\n",
       "3           3    1007\n",
       "4           4     386"
      ]
     },
     "execution_count": 117,
     "metadata": {},
     "output_type": "execute_result"
    }
   ],
   "source": [
    "data_cluster_count = data.groupby('cluster_km').agg({'gender': 'count'}).reset_index()\n",
    "data_cluster_count.head()"
   ]
  },
  {
   "cell_type": "code",
   "execution_count": 118,
   "metadata": {},
   "outputs": [
    {
     "data": {
      "text/plain": [
       "Text(0.5, 1.0, 'Number of users in the cluster')"
      ]
     },
     "execution_count": 118,
     "metadata": {},
     "output_type": "execute_result"
    },
    {
     "data": {
      "image/png": "[encoded data removed]",
      "text/plain": [
       "<Figure size 1080x720 with 1 Axes>"
      ]
     },
     "metadata": {},
     "output_type": "display_data"
    }
   ],
   "source": [
    "plt.figure(figsize=(15,10))\n",
    "ax = sns.barplot(x=data_cluster_count['cluster_km'], y=data_cluster_count['gender'])\n",
    "sns.set_palette('dark')\n",
    "plt.xlabel('number cluster')\n",
    "plt.ylabel('number of users')\n",
    "ax.set_title('Number of users in the cluster', fontdict={'fontsize':18}, pad=12)"
   ]
  },
  {
   "cell_type": "markdown",
   "metadata": {},
   "source": [
    "Три кластера распределились достаточно равномерно"
   ]
  },
  {
   "cell_type": "markdown",
   "metadata": {},
   "source": [
    "Посмотрим на метрику силуэта, она покажет насколько качественно прошла кластеризация. Оно принимает значение от -1 до 1, чем ближе к единицы тем лучше."
   ]
  },
  {
   "cell_type": "code",
   "execution_count": 119,
   "metadata": {},
   "outputs": [
    {
     "name": "stdout",
     "output_type": "stream",
     "text": [
      "Silhouette_score: 0.14\n"
     ]
    }
   ],
   "source": [
    "print('Silhouette_score: {:.2f}'.format(silhouette_score(X_sc, labels)))"
   ]
  },
  {
   "cell_type": "markdown",
   "metadata": {},
   "source": [
    "Судя по значению метрики в 0.14, кластеризация прошла плохо. "
   ]
  },
  {
   "cell_type": "markdown",
   "metadata": {},
   "source": [
    "### Посмотрим на средние значения признаков для каждого из кластеров"
   ]
  },
  {
   "cell_type": "code",
   "execution_count": 120,
   "metadata": {},
   "outputs": [
    {
     "data": {
      "text/html": [
       "<div>\n",
       "<style scoped>\n",
       "    .dataframe tbody tr th:only-of-type {\n",
       "        vertical-align: middle;\n",
       "    }\n",
       "\n",
       "    .dataframe tbody tr th {\n",
       "        vertical-align: top;\n",
       "    }\n",
       "\n",
       "    .dataframe thead th {\n",
       "        text-align: right;\n",
       "    }\n",
       "</style>\n",
       "<table border=\"1\" class=\"dataframe\">\n",
       "  <thead>\n",
       "    <tr style=\"text-align: right;\">\n",
       "      <th>cluster_km</th>\n",
       "      <th>0</th>\n",
       "      <th>1</th>\n",
       "      <th>2</th>\n",
       "      <th>3</th>\n",
       "      <th>4</th>\n",
       "    </tr>\n",
       "  </thead>\n",
       "  <tbody>\n",
       "    <tr>\n",
       "      <th>gender</th>\n",
       "      <td>0.496447</td>\n",
       "      <td>0.500000</td>\n",
       "      <td>0.500940</td>\n",
       "      <td>0.534260</td>\n",
       "      <td>0.523316</td>\n",
       "    </tr>\n",
       "    <tr>\n",
       "      <th>near_location</th>\n",
       "      <td>0.995939</td>\n",
       "      <td>0.000000</td>\n",
       "      <td>1.000000</td>\n",
       "      <td>0.996028</td>\n",
       "      <td>0.862694</td>\n",
       "    </tr>\n",
       "    <tr>\n",
       "      <th>partner</th>\n",
       "      <td>0.892386</td>\n",
       "      <td>0.489247</td>\n",
       "      <td>0.217105</td>\n",
       "      <td>0.379345</td>\n",
       "      <td>0.471503</td>\n",
       "    </tr>\n",
       "    <tr>\n",
       "      <th>promo_friends</th>\n",
       "      <td>1.000000</td>\n",
       "      <td>0.078853</td>\n",
       "      <td>0.072368</td>\n",
       "      <td>0.009930</td>\n",
       "      <td>0.305699</td>\n",
       "    </tr>\n",
       "    <tr>\n",
       "      <th>phone</th>\n",
       "      <td>1.000000</td>\n",
       "      <td>1.000000</td>\n",
       "      <td>1.000000</td>\n",
       "      <td>1.000000</td>\n",
       "      <td>0.000000</td>\n",
       "    </tr>\n",
       "    <tr>\n",
       "      <th>contract_period</th>\n",
       "      <td>6.922843</td>\n",
       "      <td>2.994624</td>\n",
       "      <td>2.010338</td>\n",
       "      <td>6.208540</td>\n",
       "      <td>4.777202</td>\n",
       "    </tr>\n",
       "    <tr>\n",
       "      <th>group_visits</th>\n",
       "      <td>0.524873</td>\n",
       "      <td>0.232975</td>\n",
       "      <td>0.277256</td>\n",
       "      <td>0.538232</td>\n",
       "      <td>0.427461</td>\n",
       "    </tr>\n",
       "    <tr>\n",
       "      <th>age</th>\n",
       "      <td>29.606091</td>\n",
       "      <td>28.679211</td>\n",
       "      <td>27.583647</td>\n",
       "      <td>30.699106</td>\n",
       "      <td>29.297927</td>\n",
       "    </tr>\n",
       "    <tr>\n",
       "      <th>avg_additional_charges_total</th>\n",
       "      <td>153.424651</td>\n",
       "      <td>137.125763</td>\n",
       "      <td>119.339956</td>\n",
       "      <td>176.259567</td>\n",
       "      <td>144.208179</td>\n",
       "    </tr>\n",
       "    <tr>\n",
       "      <th>lifetime</th>\n",
       "      <td>4.283249</td>\n",
       "      <td>2.974910</td>\n",
       "      <td>1.922932</td>\n",
       "      <td>5.415094</td>\n",
       "      <td>3.940415</td>\n",
       "    </tr>\n",
       "    <tr>\n",
       "      <th>avg_class_frequency_current_month</th>\n",
       "      <td>1.919520</td>\n",
       "      <td>1.597146</td>\n",
       "      <td>1.203319</td>\n",
       "      <td>2.324220</td>\n",
       "      <td>1.723967</td>\n",
       "    </tr>\n",
       "  </tbody>\n",
       "</table>\n",
       "</div>"
      ],
      "text/plain": [
       "cluster_km                                  0           1           2  \\\n",
       "gender                               0.496447    0.500000    0.500940   \n",
       "near_location                        0.995939    0.000000    1.000000   \n",
       "partner                              0.892386    0.489247    0.217105   \n",
       "promo_friends                        1.000000    0.078853    0.072368   \n",
       "phone                                1.000000    1.000000    1.000000   \n",
       "contract_period                      6.922843    2.994624    2.010338   \n",
       "group_visits                         0.524873    0.232975    0.277256   \n",
       "age                                 29.606091   28.679211   27.583647   \n",
       "avg_additional_charges_total       153.424651  137.125763  119.339956   \n",
       "lifetime                             4.283249    2.974910    1.922932   \n",
       "avg_class_frequency_current_month    1.919520    1.597146    1.203319   \n",
       "\n",
       "cluster_km                                  3           4  \n",
       "gender                               0.534260    0.523316  \n",
       "near_location                        0.996028    0.862694  \n",
       "partner                              0.379345    0.471503  \n",
       "promo_friends                        0.009930    0.305699  \n",
       "phone                                1.000000    0.000000  \n",
       "contract_period                      6.208540    4.777202  \n",
       "group_visits                         0.538232    0.427461  \n",
       "age                                 30.699106   29.297927  \n",
       "avg_additional_charges_total       176.259567  144.208179  \n",
       "lifetime                             5.415094    3.940415  \n",
       "avg_class_frequency_current_month    2.324220    1.723967  "
      ]
     },
     "metadata": {},
     "output_type": "display_data"
    }
   ],
   "source": [
    "data_cluster = data.drop('churn', axis=1).groupby('cluster_km').mean().T\n",
    "display(data_cluster)"
   ]
  },
  {
   "cell_type": "markdown",
   "metadata": {},
   "source": [
    "Кластер 0:\n",
    "\"contract_period\" самые высокие показатели этого признака и соответственно \"month_to_end_contract\". Говорит о том что большинство клиентов этого кластера оформляют договор на год. Здесь так же и самый высокий показатель \"lifetime\".\n",
    "\"partner\" 78% самый высокий процент среди групп. \n",
    "В этом кластере должны быть очень низкие показатели оттока, в основном это сотрудники компании.\n",
    "\n",
    "Кластер 1:\n",
    "\"phone\" = 0\n",
    "Те кто не оставил номер телефона\n",
    "\n",
    "Кластер 2:\n",
    "\"near_location\" = 0\n",
    "\"promo_friends\" = 8%\n",
    "\"group_visits\" = 22%\n",
    "Клиенты которые живут явно не близко, в основном все пришли без промо-акций и не любят групповые занятия. \n",
    "\n",
    "Кластер 3:\n",
    "\"lifetime\" самый низкий 2.4\n",
    "\"avg_class_frequency_total\" = 1,25\n",
    "\"avg_class_frequency_current_month\" = 1,01\n",
    "Самый проблемный кластер, именно он составляет большую долю оттока клиентов. Здесь низкий лайфтайм, частота посещений около 1 раза в неделю, а оформленный договор на месяц.\n",
    "\n",
    "Кластер 4:\n",
    "\"lifetime\" самый высокий 4.89\n",
    "\"avg_class_frequency_total\" = 2,85\n",
    "\"avg_class_frequency_current_month\" = 2,85\n",
    "Этот кластер противоположен 3: высокий лайфтайм, частота посещений около 3 раз в неделю, любят групповые занятия. Здесь отток должен быть минимальным или близко к этому."
   ]
  },
  {
   "cell_type": "markdown",
   "metadata": {},
   "source": [
    "Версия 2 после удаления столбцов\n",
    "\n",
    "Кластер 0:\n",
    "\"contract_period\" самые высокие показатели этого признака. Говорит о том что большинство клиентов этого кластера оформляют договор на год. Здесь так же высокий показатель \"lifetime\" 4.28.\n",
    "\"partner\" 89% самый высокий процент среди групп.\n",
    "В этом кластере должны быть небольшие показатели оттока, в основном это сотрудники компании.\n",
    "Все клиенты из этого кластера пришли по промо-акции\n",
    "\n",
    "Кластер 1:\n",
    "\"near_location\" = 0\n",
    "Здесь самый низкий показатель \"group_visits\" 0.23 и \"lifetime\" ниже среднего, все клиенты проживают далеко от фитнес-центра\n",
    "\n",
    "Кластер 2:\n",
    "\"lifetime\" = 1.9 самый низкий среди всех, хотя 100% всей группы проживают в непосредственной близости от фитнес-центра. Большинство клиентов заключают контракт на месяц \"contract_period\" 2.01. Не очень любят групповые занятия 28%\n",
    "\n",
    "Кластер 3:\n",
    "\"lifetime\" = 5.42\n",
    "\"group_visits\" = 54%\n",
    "\"contract_period\" = 6.21\n",
    "Почти все 100% группы проживает недалеко от фитнес-центра, практически полностью отсутствуют клиенты по промо-акции. Главное что большинство клиентов покупают абонемент сразу на год. Самый высокий лайфтайм и процент групповых занятий. Отток клиентов здесь должен быть минимальным.\n",
    "\n",
    "Кластер 4:\n",
    "Та самая загадочная группа которая не оставила номера телефонов. Такие показатели как: \"lifetime\", \"group_visits\" и \"contract_period\" на среднем уровне относительно других кластеров. Но здесь меньшее количество партнеров чем в 0-ом кластере примерно половина, и 14% далеко добираться. "
   ]
  },
  {
   "cell_type": "markdown",
   "metadata": {},
   "source": [
    "### Построим распределения признаков для кластеров"
   ]
  },
  {
   "cell_type": "code",
   "execution_count": 121,
   "metadata": {
    "scrolled": false
   },
   "outputs": [
    {
     "data": {
      "image/png": "[encoded data removed]",
      "text/plain": [
       "<Figure size 1080x504 with 1 Axes>"
      ]
     },
     "metadata": {},
     "output_type": "display_data"
    },
    {
     "data": {
      "image/png": "[encoded data removed]",
      "text/plain": [
       "<Figure size 1080x504 with 1 Axes>"
      ]
     },
     "metadata": {},
     "output_type": "display_data"
    },
    {
     "data": {
      "image/png": "[encoded data removed]",
      "text/plain": [
       "<Figure size 1080x504 with 1 Axes>"
      ]
     },
     "metadata": {},
     "output_type": "display_data"
    },
    {
     "data": {
      "image/png": "[encoded data removed]",
      "text/plain": [
       "<Figure size 1080x504 with 1 Axes>"
      ]
     },
     "metadata": {},
     "output_type": "display_data"
    },
    {
     "data": {
      "image/png": "[encoded data removed]",
      "text/plain": [
       "<Figure size 1080x504 with 1 Axes>"
      ]
     },
     "metadata": {},
     "output_type": "display_data"
    },
    {
     "data": {
      "image/png": "[encoded data removed]",
      "text/plain": [
       "<Figure size 1080x504 with 1 Axes>"
      ]
     },
     "metadata": {},
     "output_type": "display_data"
    },
    {
     "data": {
      "image/png": "[encoded data removed]",
      "text/plain": [
       "<Figure size 1080x504 with 1 Axes>"
      ]
     },
     "metadata": {},
     "output_type": "display_data"
    },
    {
     "data": {
      "image/png": "[encoded data removed]",
      "text/plain": [
       "<Figure size 1080x504 with 1 Axes>"
      ]
     },
     "metadata": {},
     "output_type": "display_data"
    },
    {
     "data": {
      "image/png": "[encoded data removed]",
      "text/plain": [
       "<Figure size 1080x504 with 1 Axes>"
      ]
     },
     "metadata": {},
     "output_type": "display_data"
    },
    {
     "data": {
      "image/png": "[encoded data removed]",
      "text/plain": [
       "<Figure size 1080x504 with 1 Axes>"
      ]
     },
     "metadata": {},
     "output_type": "display_data"
    },
    {
     "data": {
      "image/png": "[encoded data removed]",
      "text/plain": [
       "<Figure size 1080x504 with 1 Axes>"
      ]
     },
     "metadata": {},
     "output_type": "display_data"
    }
   ],
   "source": [
    "for i in data.drop(['cluster_km', 'churn'], axis=1).columns:\n",
    "    ax = sns.displot(data, x=data[i], hue='cluster_km', palette=\"tab10\", kind='hist')\n",
    "    plt.title(f'Признак - {i}')\n",
    "    plt.ylabel(\"Кол-во клиентов\")\n",
    "    plt.xlabel(\"\")\n",
    "    ax.fig.set_figwidth(15)\n",
    "    ax.fig.set_figheight(7)"
   ]
  },
  {
   "cell_type": "markdown",
   "metadata": {},
   "source": [
    "'gender' - Чего-то явного нет.\n",
    "\n",
    "'near_location' - Клиенты которые живут далеко в основном входят в кластер 2.\n",
    "\n",
    "'partner' - Кластеры 1 и 3 - те кто не являются партнерами, 0 и 4 - партнеры.\n",
    "\n",
    "'promo_friends' - Так же как и в предыдущем 0 и 4 - участники акции, 1 и 3 - нет.\n",
    "\n",
    "'phone' - Все оставляют номер телефона кроме 1 кластера.\n",
    "\n",
    "'contract_period' - В кластере 0 в основном те кто заключают контракт на год, а в 3 тех кто на 1 месяц.\n",
    "\n",
    "'group_visits' - В 3 кластере не любят групповые занятия, а в 0 наоборот.\n",
    "\n",
    "age' - В кластере 3 клиенты до 30 лет, а в кластере 0 30+.\n",
    "\n",
    "'avg_additional_charges_total' - Снова выделяются кластер 3 и 0, в 3 клиенты тратят до 200 на доп услуги, а в 0 свыше 200. Это вполне логично люди по старше и зарабатывают больше.\n",
    "\n",
    "'month_to_end_contract' - В кластере 0 больше времени остается до окончания контракта т.к. многие многие его оформляют либо на год либо на пол года.\n",
    "\n",
    "'lifetime' - в 3 кластер входят те кто ходил 0-2 месяца, а в 0 больше 2-ух месяцев.\n",
    "\n",
    "'avg_class_frequency_total' - В кластер 3 - те кто ходит в среднем 1 раз, кластер 0 и 4 - те кто ходит 2-3раза.\n",
    "\n",
    "'avg_class_frequency_current_month' - Так же как и впредыдущем пункте, что абсолютно логично учитывая высокий уровень корреляции этих признаков."
   ]
  },
  {
   "cell_type": "markdown",
   "metadata": {},
   "source": [
    "Версия 2 после удаления столбцов\n",
    "\n",
    "'gender' - Чего-то явного нет.\n",
    "\n",
    "'near_location' - Клиенты которые живут далеко в основном входят в кластер 1.\n",
    "\n",
    "'partner' - Партнеры в основном в 0-ом кластере.\n",
    "\n",
    "'promo_friends' - Участники акции почти все в 0-ом кластере и немного в 4-ом.\n",
    "\n",
    "'phone' - Все оставляют номер телефона кроме 4-ого кластера.\n",
    "\n",
    "'contract_period' - В кластере 0 в основном те кто заключают контракт на год, а в 2-ом тех кто на 1 месяц.\n",
    "\n",
    "'group_visits' - В 2-ом кластере не любят групповые занятия, а в 3-ем наоборот.\n",
    "\n",
    "age' - В кластере 2 клиенты до 30 лет, а в кластере 3 и 4 30+.\n",
    "\n",
    "'avg_additional_charges_total' - В кластерах 3 и 4, клиенты тратят свыше 150 на доп услуги, а в 2 до 150. Это вполне логично люди по старше и зарабатывают больше.\n",
    "\n",
    "'lifetime' - в 2-ом кластере входят те кто ходил 0-2 месяца, а в 3-ем и 4-ом больше 2-ух месяцев.\n",
    "\n",
    "'avg_class_frequency_current_month' - В кластере 2 - те кто ходит в среднем 1-2 раза, кластере 3 и 4 - те кто ходит в среднем 3 раза."
   ]
  },
  {
   "cell_type": "markdown",
   "metadata": {},
   "source": [
    "### Для каждого полученного кластера посчитаем долю оттока"
   ]
  },
  {
   "cell_type": "code",
   "execution_count": 122,
   "metadata": {},
   "outputs": [
    {
     "data": {
      "text/plain": [
       "cluster_km\n",
       "0    0.111216\n",
       "1    0.212064\n",
       "2    0.565504\n",
       "3    0.014138\n",
       "4    0.097078\n",
       "Name: churn, dtype: float64"
      ]
     },
     "execution_count": 122,
     "metadata": {},
     "output_type": "execute_result"
    }
   ],
   "source": [
    "data_share = data.query('churn==1').groupby('cluster_km')['churn'].count() / data.query('churn==1')['churn'].count()\n",
    "data_share.head()"
   ]
  },
  {
   "cell_type": "markdown",
   "metadata": {},
   "source": [
    "Как и предполагалось самая большая доля ушедших клиентов приходится на 3 кластер 61%. Самые хорошие результаты у 4-ого и 0-го кластера 5 и 3 % соответственно. Во втором кластере отток составил 21% , что в два раза больше чем в группе клиентов не оставивших номер телефона."
   ]
  },
  {
   "cell_type": "markdown",
   "metadata": {},
   "source": [
    "Версия 2 после удаления столбцов\n",
    "\n",
    "Как и предполагалось самая большая доля ушедших клиентов приходится на 2 кластер 56%. Самые хорошие результаты у 3-его всего 1%. У 0-ого и 4-ого примерно равные показатели  11% и 10%. В первом кластере отток составил 21%."
   ]
  },
  {
   "cell_type": "markdown",
   "metadata": {},
   "source": [
    "## Общий вывод по проекту"
   ]
  },
  {
   "cell_type": "markdown",
   "metadata": {},
   "source": [
    "1. Предобработка и исследовательский анализ данных (EDA)\n",
    "На первом этапе мы ознакомились с данными и выполнили предобработку, привели названия столбцов к нужному регистру, заменили тип данных. Посмотрели как распределяются признаки в соответствии с активными клиентами и теми кто ушел. Построили матрицу корреляции и определили обратную зависимость оттока от признаков. Соответственно чем сильнее признак тем меньше вероятность оттока. Самые \"положительные\" признаки: ('age', 'contract_period', 'lifetime', 'avg_class_frequency_current_month' 0.39-0.44). Признаки с самой низкой корреляцией: (gender, phone). Были обнаружены две пары зависимых между собой признаков с корреляцией 0.95+\n",
    "В целях улучшения линейных моделей необходимо было убрать мультикорреляционные признаки, потому столбцы: 'month_to_end_contract', 'avg_class_frequency_total' были удалены из датафрейма. Версия 2 в описании является конечной.\n",
    "\n",
    "2. Прогноз\n",
    "Построение прогноза осуществлялось при помощи моделей \"Логистической регрессии\" и \"Случайного леса\". В обоих вариантах метрики получили высокие показатели 0.75+, Accuracy в двух моделях набрала аж 0.90. В целом по трем метрикам \"Логистическая регрессия\" дала чуть более лучший результат чем \"Случайный лес\".\n",
    "\n",
    "3. Кластеризация\n",
    "По результатам дендрограммы было принято решение разбить клиентов на 5 кластеров. Для оценки качества проведенного нами разбиения была посчитана метрика силуэта: 0.14 - исходя из этого можно сказать, что кластеризация прошла неудачно.\n",
    "\n",
    "Результаты:\n",
    "\n",
    "Кластер 0 - средний кластер, отток 11% от общего.\n",
    "Это в основном клиенты, кто купил абонемент на 12мес, но ходят в среднем 2 раза в неделю. Почти все проживают рядом и все 100% являются участниками промо-акции. 89% является партнерами. И здесь так же как и в 3-ем кластере любят групповые занятия 52%\n",
    "\n",
    "Кластер 1 - достаточно плохой, кластер, доля оттока составляет 21% от общего.\n",
    "Это те клиенты которые проживают далеко от фитнес-центра. именно это и играет ключевую роль в высоком проценте оттока. Типичные одиночки - самый низкий процент групповых занятий 23%, \"lifetime\" ниже среднего относительно других кластеров 2.97. Здесь в основном покупают абонементы как на месяц так и на пол года.\n",
    "\n",
    "Кластер 2 - худший, кластер, доля оттока составляет 56,6% от общего.\n",
    "Все клиенты проживают близко и несмотря на это здесь самый высокий отток клиентов. Самый низкий лайфтайм и большинство контрактов заключаются сроком на 1 месяц. Участников промо-акции практически нет, групповые занятия 28%.\n",
    "\n",
    "Кластер 3 - лучший кластер, отток рекордный, всего 1% от общего.\n",
    "Здесь клиенты настоящие любители фитнеса, высокий процент посещения групповых занятий(54%), заключают договор в основном на год. Частота посещений таких пользователей в среднем составляет 3 раза в неделю. Партнерами являются 38% и почти все пришли без промо-акций. Контенгент в основном  30+ лет, тратят на доп. услуги свыше 150. Самый высокий \"lifetime\" - 5.42\n",
    "\n",
    "Кластер 4 - средний кластер, отток 10% от общего.\n",
    "Загадочная группа которая не оставляет номер телефона, самый плохо интерпритируемый кластер. Здесь все показатели в основном на среднем уровне по отношению к другим кластерам. 31% - участники промо-акции и 47% это партнеры. Большинство 86% проживают в непосредственной близости от фитнес-центра. Контенгент, как и в 3-ем кластере, в основном  30+ лет, тратят на доп. услуги свыше 150.\n",
    "\n",
    "4. РЕКОМЕНДАЦИИ:\n",
    "\n",
    "Целевая аудитория клиенты в возрасте 30+ проживающие недалеко от фитнес-центра.\n",
    "\n",
    "Необходимо создавать приятную атмосферу и поддерживать сервис и чистоту, для того чтобы клиенты посещали зал 2-3 раза в неделю.\n",
    "Больше внимания уделять целевой аудитории.\n",
    "Привлекать большее число клиентов к промо-акциям, а партнеров наоборот можно лишить этой возможности.\n",
    "Учитывая особенности проблемных кластеров (1 и 2), чтобы снизить отток в этих группах, рекомендуется делать скидки на приобретение годового абонемента, именно у этих пользователей лучшие показатели. В качестве бонуса при заключении договора на год предоставлять первое занятие в группе на одном из спортивных дисциплин бесплатно, таким образом можно привлечь клиентов к этой активности, а она уже в свою очередь повысит посещаемость и как следствие вероятность дальнейшего сотрудничества."
   ]
  }
 ],
 "metadata": {
  "ExecuteTimeLog": [
   {
    "duration": 2075,
    "start_time": "2022-07-02T08:34:50.572Z"
   },
   {
    "duration": 1279,
    "start_time": "2022-07-02T08:34:52.648Z"
   },
   {
    "duration": 196,
    "start_time": "2022-07-02T08:34:53.929Z"
   },
   {
    "duration": 48,
    "start_time": "2022-07-02T09:40:49.191Z"
   },
   {
    "duration": 11,
    "start_time": "2022-07-02T09:42:11.849Z"
   },
   {
    "duration": 103,
    "start_time": "2022-07-02T15:17:33.811Z"
   },
   {
    "duration": 2033,
    "start_time": "2022-07-02T15:17:46.487Z"
   },
   {
    "duration": 2927,
    "start_time": "2022-07-02T15:17:48.522Z"
   },
   {
    "duration": 307,
    "start_time": "2022-07-02T15:17:51.451Z"
   },
   {
    "duration": 52,
    "start_time": "2022-07-02T15:17:51.760Z"
   },
   {
    "duration": 45,
    "start_time": "2022-07-02T15:17:51.814Z"
   },
   {
    "duration": 10,
    "start_time": "2022-07-02T15:17:51.860Z"
   },
   {
    "duration": 25,
    "start_time": "2022-07-02T15:17:51.871Z"
   },
   {
    "duration": 10,
    "start_time": "2022-07-02T15:18:24.084Z"
   },
   {
    "duration": 8,
    "start_time": "2022-07-02T15:18:59.653Z"
   },
   {
    "duration": 82,
    "start_time": "2022-07-02T15:19:10.541Z"
   },
   {
    "duration": 1892,
    "start_time": "2022-07-02T15:19:24.415Z"
   },
   {
    "duration": 2123,
    "start_time": "2022-07-02T15:19:26.309Z"
   },
   {
    "duration": 5,
    "start_time": "2022-07-02T15:19:28.434Z"
   },
   {
    "duration": 53,
    "start_time": "2022-07-02T15:19:28.441Z"
   },
   {
    "duration": 44,
    "start_time": "2022-07-02T15:19:28.496Z"
   },
   {
    "duration": 10,
    "start_time": "2022-07-02T15:19:28.542Z"
   },
   {
    "duration": 76,
    "start_time": "2022-07-02T15:19:28.553Z"
   },
   {
    "duration": 13,
    "start_time": "2022-07-02T15:19:56.060Z"
   },
   {
    "duration": 11,
    "start_time": "2022-07-02T15:20:08.051Z"
   },
   {
    "duration": 12,
    "start_time": "2022-07-02T15:21:23.924Z"
   },
   {
    "duration": 4,
    "start_time": "2022-07-02T15:25:29.555Z"
   },
   {
    "duration": 17,
    "start_time": "2022-07-02T15:25:41.991Z"
   },
   {
    "duration": 6,
    "start_time": "2022-07-02T17:17:50.060Z"
   },
   {
    "duration": 6,
    "start_time": "2022-07-02T17:17:53.963Z"
   },
   {
    "duration": 1857,
    "start_time": "2022-07-02T17:17:57.045Z"
   },
   {
    "duration": 2096,
    "start_time": "2022-07-02T17:17:58.905Z"
   },
   {
    "duration": 6,
    "start_time": "2022-07-02T17:18:01.003Z"
   },
   {
    "duration": 60,
    "start_time": "2022-07-02T17:18:01.010Z"
   },
   {
    "duration": 43,
    "start_time": "2022-07-02T17:18:01.072Z"
   },
   {
    "duration": 16,
    "start_time": "2022-07-02T17:18:01.117Z"
   },
   {
    "duration": 10,
    "start_time": "2022-07-02T17:18:01.135Z"
   },
   {
    "duration": 14,
    "start_time": "2022-07-02T17:18:01.147Z"
   },
   {
    "duration": 8,
    "start_time": "2022-07-02T17:18:01.162Z"
   },
   {
    "duration": 143,
    "start_time": "2022-07-02T17:18:01.171Z"
   },
   {
    "duration": 17,
    "start_time": "2022-07-02T17:18:25.532Z"
   },
   {
    "duration": 17,
    "start_time": "2022-07-02T17:18:34.615Z"
   },
   {
    "duration": 111,
    "start_time": "2022-07-02T17:18:59.587Z"
   },
   {
    "duration": 19,
    "start_time": "2022-07-02T17:19:21.152Z"
   },
   {
    "duration": 3151,
    "start_time": "2022-07-02T17:19:53.395Z"
   },
   {
    "duration": 2346,
    "start_time": "2022-07-02T17:20:17.102Z"
   },
   {
    "duration": 1825,
    "start_time": "2022-07-02T17:21:41.632Z"
   },
   {
    "duration": 1823,
    "start_time": "2022-07-02T17:22:41.343Z"
   },
   {
    "duration": 1938,
    "start_time": "2022-07-02T17:22:54.610Z"
   },
   {
    "duration": 13,
    "start_time": "2022-07-02T17:23:28.727Z"
   },
   {
    "duration": 1859,
    "start_time": "2022-07-02T17:23:55.442Z"
   },
   {
    "duration": 1950,
    "start_time": "2022-07-02T17:24:04.595Z"
   },
   {
    "duration": 2131,
    "start_time": "2022-07-02T17:24:29.949Z"
   },
   {
    "duration": 2383,
    "start_time": "2022-07-02T17:25:14.884Z"
   },
   {
    "duration": 30,
    "start_time": "2022-07-02T17:37:42.443Z"
   },
   {
    "duration": 3704,
    "start_time": "2022-07-02T17:38:01.389Z"
   },
   {
    "duration": 14,
    "start_time": "2022-07-02T17:39:00.300Z"
   },
   {
    "duration": 3675,
    "start_time": "2022-07-02T17:41:27.944Z"
   },
   {
    "duration": 4143,
    "start_time": "2022-07-02T17:49:05.019Z"
   },
   {
    "duration": 2037,
    "start_time": "2022-07-02T17:50:51.225Z"
   },
   {
    "duration": 2180,
    "start_time": "2022-07-02T17:51:04.194Z"
   },
   {
    "duration": 1851,
    "start_time": "2022-07-02T17:51:24.092Z"
   },
   {
    "duration": 2356,
    "start_time": "2022-07-02T17:54:00.382Z"
   },
   {
    "duration": 2470,
    "start_time": "2022-07-02T17:54:20.867Z"
   },
   {
    "duration": 2471,
    "start_time": "2022-07-02T17:54:38.478Z"
   },
   {
    "duration": 2640,
    "start_time": "2022-07-02T17:54:50.470Z"
   },
   {
    "duration": 2380,
    "start_time": "2022-07-02T17:54:58.864Z"
   },
   {
    "duration": 385,
    "start_time": "2022-07-02T17:56:42.652Z"
   },
   {
    "duration": 519,
    "start_time": "2022-07-02T17:57:05.384Z"
   },
   {
    "duration": 455,
    "start_time": "2022-07-02T17:57:49.837Z"
   },
   {
    "duration": 2330,
    "start_time": "2022-07-02T17:58:29.818Z"
   },
   {
    "duration": 2450,
    "start_time": "2022-07-02T17:59:34.162Z"
   },
   {
    "duration": 18,
    "start_time": "2022-07-02T18:00:33.258Z"
   },
   {
    "duration": 11,
    "start_time": "2022-07-02T18:01:24.605Z"
   },
   {
    "duration": 16,
    "start_time": "2022-07-02T18:01:33.817Z"
   },
   {
    "duration": 15,
    "start_time": "2022-07-02T18:04:22.190Z"
   },
   {
    "duration": 2175,
    "start_time": "2022-07-02T18:05:26.699Z"
   },
   {
    "duration": 149,
    "start_time": "2022-07-02T18:08:13.500Z"
   },
   {
    "duration": 2043,
    "start_time": "2022-07-02T18:08:49.669Z"
   },
   {
    "duration": 2388,
    "start_time": "2022-07-02T18:09:35.995Z"
   },
   {
    "duration": 1832,
    "start_time": "2022-07-02T18:10:02.697Z"
   },
   {
    "duration": 2034,
    "start_time": "2022-07-02T18:15:57.462Z"
   },
   {
    "duration": 2118,
    "start_time": "2022-07-02T18:16:33.816Z"
   },
   {
    "duration": 2342,
    "start_time": "2022-07-02T18:17:31.882Z"
   },
   {
    "duration": 2947,
    "start_time": "2022-07-02T18:18:26.904Z"
   },
   {
    "duration": 3368,
    "start_time": "2022-07-02T18:18:46.188Z"
   },
   {
    "duration": 2898,
    "start_time": "2022-07-02T18:19:59.538Z"
   },
   {
    "duration": 2587,
    "start_time": "2022-07-02T18:20:33.353Z"
   },
   {
    "duration": 1875,
    "start_time": "2022-07-02T18:21:22.864Z"
   },
   {
    "duration": 2145,
    "start_time": "2022-07-02T18:21:24.741Z"
   },
   {
    "duration": 7,
    "start_time": "2022-07-02T18:21:26.888Z"
   },
   {
    "duration": 67,
    "start_time": "2022-07-02T18:21:26.897Z"
   },
   {
    "duration": 45,
    "start_time": "2022-07-02T18:21:26.966Z"
   },
   {
    "duration": 25,
    "start_time": "2022-07-02T18:21:27.013Z"
   },
   {
    "duration": 10,
    "start_time": "2022-07-02T18:21:27.040Z"
   },
   {
    "duration": 13,
    "start_time": "2022-07-02T18:21:27.051Z"
   },
   {
    "duration": 14,
    "start_time": "2022-07-02T18:21:27.065Z"
   },
   {
    "duration": 2689,
    "start_time": "2022-07-02T18:21:27.081Z"
   },
   {
    "duration": 964,
    "start_time": "2022-07-02T18:22:01.260Z"
   },
   {
    "duration": 2162,
    "start_time": "2022-07-02T18:23:19.714Z"
   },
   {
    "duration": 1384,
    "start_time": "2022-07-02T18:28:23.132Z"
   },
   {
    "duration": 1407,
    "start_time": "2022-07-02T18:28:42.286Z"
   },
   {
    "duration": 1212,
    "start_time": "2022-07-02T18:29:56.458Z"
   },
   {
    "duration": 1813,
    "start_time": "2022-07-02T21:54:19.089Z"
   },
   {
    "duration": 1966,
    "start_time": "2022-07-02T21:54:20.904Z"
   },
   {
    "duration": 5,
    "start_time": "2022-07-02T21:54:22.872Z"
   },
   {
    "duration": 56,
    "start_time": "2022-07-02T21:54:22.879Z"
   },
   {
    "duration": 40,
    "start_time": "2022-07-02T21:54:22.936Z"
   },
   {
    "duration": 9,
    "start_time": "2022-07-02T21:54:22.978Z"
   },
   {
    "duration": 9,
    "start_time": "2022-07-02T21:54:22.988Z"
   },
   {
    "duration": 33,
    "start_time": "2022-07-02T21:54:22.999Z"
   },
   {
    "duration": 15,
    "start_time": "2022-07-02T21:54:23.033Z"
   },
   {
    "duration": 1983,
    "start_time": "2022-07-02T21:54:23.050Z"
   },
   {
    "duration": 1343,
    "start_time": "2022-07-02T21:54:25.034Z"
   },
   {
    "duration": 4,
    "start_time": "2022-07-02T21:54:26.379Z"
   },
   {
    "duration": 8,
    "start_time": "2022-07-02T21:54:26.384Z"
   },
   {
    "duration": 7,
    "start_time": "2022-07-02T21:54:26.394Z"
   },
   {
    "duration": 5,
    "start_time": "2022-07-02T21:54:26.402Z"
   },
   {
    "duration": 3,
    "start_time": "2022-07-02T21:54:26.429Z"
   },
   {
    "duration": 6,
    "start_time": "2022-07-02T21:54:26.433Z"
   },
   {
    "duration": 636,
    "start_time": "2022-07-02T21:54:26.440Z"
   },
   {
    "duration": 1908,
    "start_time": "2022-07-02T21:57:46.640Z"
   },
   {
    "duration": 2216,
    "start_time": "2022-07-02T21:57:48.551Z"
   },
   {
    "duration": 6,
    "start_time": "2022-07-02T21:57:50.769Z"
   },
   {
    "duration": 51,
    "start_time": "2022-07-02T21:57:50.776Z"
   },
   {
    "duration": 41,
    "start_time": "2022-07-02T21:57:50.829Z"
   },
   {
    "duration": 11,
    "start_time": "2022-07-02T21:57:50.872Z"
   },
   {
    "duration": 10,
    "start_time": "2022-07-02T21:57:50.884Z"
   },
   {
    "duration": 43,
    "start_time": "2022-07-02T21:57:50.896Z"
   },
   {
    "duration": 14,
    "start_time": "2022-07-02T21:57:50.941Z"
   },
   {
    "duration": 1983,
    "start_time": "2022-07-02T21:57:50.957Z"
   },
   {
    "duration": 1274,
    "start_time": "2022-07-02T21:57:52.941Z"
   },
   {
    "duration": 12,
    "start_time": "2022-07-02T21:57:54.217Z"
   },
   {
    "duration": 8,
    "start_time": "2022-07-02T21:57:54.231Z"
   },
   {
    "duration": 8,
    "start_time": "2022-07-02T21:57:54.242Z"
   },
   {
    "duration": 5,
    "start_time": "2022-07-02T21:57:54.251Z"
   },
   {
    "duration": 3,
    "start_time": "2022-07-02T21:57:54.258Z"
   },
   {
    "duration": 8,
    "start_time": "2022-07-02T21:57:54.263Z"
   },
   {
    "duration": 652,
    "start_time": "2022-07-02T21:57:54.272Z"
   },
   {
    "duration": 3760,
    "start_time": "2022-07-03T11:54:20.644Z"
   },
   {
    "duration": 4611,
    "start_time": "2022-07-03T11:54:24.406Z"
   },
   {
    "duration": 2331,
    "start_time": "2022-07-03T11:54:29.020Z"
   },
   {
    "duration": 140,
    "start_time": "2022-07-03T11:54:31.361Z"
   },
   {
    "duration": 87,
    "start_time": "2022-07-03T11:54:31.511Z"
   },
   {
    "duration": 27,
    "start_time": "2022-07-03T11:54:31.600Z"
   },
   {
    "duration": 93,
    "start_time": "2022-07-03T11:54:31.632Z"
   },
   {
    "duration": 82,
    "start_time": "2022-07-03T11:54:31.740Z"
   },
   {
    "duration": 72,
    "start_time": "2022-07-03T11:54:31.825Z"
   },
   {
    "duration": 3364,
    "start_time": "2022-07-03T11:54:31.900Z"
   },
   {
    "duration": 2542,
    "start_time": "2022-07-03T11:54:35.270Z"
   },
   {
    "duration": 11,
    "start_time": "2022-07-03T11:54:37.814Z"
   },
   {
    "duration": 109,
    "start_time": "2022-07-03T11:54:37.827Z"
   },
   {
    "duration": 156,
    "start_time": "2022-07-03T11:54:37.938Z"
   },
   {
    "duration": 22,
    "start_time": "2022-07-03T11:54:38.103Z"
   },
   {
    "duration": 94,
    "start_time": "2022-07-03T11:54:38.128Z"
   },
   {
    "duration": 87,
    "start_time": "2022-07-03T11:54:38.224Z"
   },
   {
    "duration": 851,
    "start_time": "2022-07-03T11:54:38.313Z"
   },
   {
    "duration": 15,
    "start_time": "2022-07-03T11:54:39.166Z"
   },
   {
    "duration": 949,
    "start_time": "2022-07-03T11:54:39.183Z"
   },
   {
    "duration": 255,
    "start_time": "2022-07-03T11:54:40.133Z"
   },
   {
    "duration": 160766,
    "start_time": "2022-07-03T11:54:54.205Z"
   },
   {
    "duration": 23,
    "start_time": "2022-07-03T12:39:23.124Z"
   },
   {
    "duration": 1679,
    "start_time": "2022-07-03T12:39:48.853Z"
   },
   {
    "duration": 7,
    "start_time": "2022-07-03T12:39:51.118Z"
   },
   {
    "duration": 92,
    "start_time": "2022-07-03T12:39:59.786Z"
   },
   {
    "duration": 11,
    "start_time": "2022-07-03T12:45:35.624Z"
   },
   {
    "duration": 3059,
    "start_time": "2022-07-03T12:45:36.300Z"
   },
   {
    "duration": 39,
    "start_time": "2022-07-03T12:45:57.650Z"
   },
   {
    "duration": 310,
    "start_time": "2022-07-03T12:46:08.022Z"
   },
   {
    "duration": 21,
    "start_time": "2022-07-03T12:47:45.687Z"
   },
   {
    "duration": 31,
    "start_time": "2022-07-03T12:47:50.504Z"
   },
   {
    "duration": 310,
    "start_time": "2022-07-03T12:47:51.341Z"
   },
   {
    "duration": 315,
    "start_time": "2022-07-03T12:48:22.297Z"
   },
   {
    "duration": 360,
    "start_time": "2022-07-03T12:48:28.825Z"
   },
   {
    "duration": 288,
    "start_time": "2022-07-03T12:49:01.151Z"
   },
   {
    "duration": 52,
    "start_time": "2022-07-03T16:06:33.980Z"
   },
   {
    "duration": 2612,
    "start_time": "2022-07-03T16:07:06.402Z"
   },
   {
    "duration": 3492,
    "start_time": "2022-07-03T16:07:09.017Z"
   },
   {
    "duration": 1910,
    "start_time": "2022-07-03T16:07:12.512Z"
   },
   {
    "duration": 82,
    "start_time": "2022-07-03T16:07:14.424Z"
   },
   {
    "duration": 51,
    "start_time": "2022-07-03T16:07:14.508Z"
   },
   {
    "duration": 26,
    "start_time": "2022-07-03T16:07:14.561Z"
   },
   {
    "duration": 14,
    "start_time": "2022-07-03T16:07:14.589Z"
   },
   {
    "duration": 17,
    "start_time": "2022-07-03T16:07:14.606Z"
   },
   {
    "duration": 22,
    "start_time": "2022-07-03T16:07:14.625Z"
   },
   {
    "duration": 2540,
    "start_time": "2022-07-03T16:07:14.666Z"
   },
   {
    "duration": 1742,
    "start_time": "2022-07-03T16:07:17.208Z"
   },
   {
    "duration": 5,
    "start_time": "2022-07-03T16:07:18.951Z"
   },
   {
    "duration": 39,
    "start_time": "2022-07-03T16:07:18.957Z"
   },
   {
    "duration": 19,
    "start_time": "2022-07-03T16:07:18.998Z"
   },
   {
    "duration": 12,
    "start_time": "2022-07-03T16:07:19.019Z"
   },
   {
    "duration": 12,
    "start_time": "2022-07-03T16:07:19.033Z"
   },
   {
    "duration": 14,
    "start_time": "2022-07-03T16:07:19.047Z"
   },
   {
    "duration": 713,
    "start_time": "2022-07-03T16:07:19.063Z"
   },
   {
    "duration": 10,
    "start_time": "2022-07-03T16:07:19.779Z"
   },
   {
    "duration": 611,
    "start_time": "2022-07-03T16:07:19.791Z"
   },
   {
    "duration": 114839,
    "start_time": "2022-07-03T16:07:20.403Z"
   },
   {
    "duration": 1127,
    "start_time": "2022-07-03T16:09:15.244Z"
   },
   {
    "duration": 105,
    "start_time": "2022-07-03T16:09:16.375Z"
   },
   {
    "duration": 12,
    "start_time": "2022-07-03T16:09:16.482Z"
   },
   {
    "duration": 195,
    "start_time": "2022-07-03T16:09:16.496Z"
   },
   {
    "duration": 560,
    "start_time": "2022-07-03T16:09:16.693Z"
   },
   {
    "duration": 20,
    "start_time": "2022-07-03T16:15:10.642Z"
   },
   {
    "duration": 22,
    "start_time": "2022-07-03T16:15:46.100Z"
   },
   {
    "duration": 24,
    "start_time": "2022-07-03T16:16:02.857Z"
   },
   {
    "duration": 253,
    "start_time": "2022-07-03T16:33:16.830Z"
   },
   {
    "duration": 203,
    "start_time": "2022-07-03T16:33:49.398Z"
   },
   {
    "duration": 2233,
    "start_time": "2022-07-03T16:34:53.802Z"
   },
   {
    "duration": 1342,
    "start_time": "2022-07-03T16:57:21.033Z"
   },
   {
    "duration": 599,
    "start_time": "2022-07-03T16:58:59.703Z"
   },
   {
    "duration": 13,
    "start_time": "2022-07-03T17:00:05.286Z"
   },
   {
    "duration": 11491,
    "start_time": "2022-07-03T17:00:24.054Z"
   },
   {
    "duration": 12405,
    "start_time": "2022-07-03T17:02:07.245Z"
   },
   {
    "duration": 12687,
    "start_time": "2022-07-03T17:03:13.808Z"
   },
   {
    "duration": 12075,
    "start_time": "2022-07-03T17:06:35.593Z"
   },
   {
    "duration": 12414,
    "start_time": "2022-07-03T17:08:27.783Z"
   },
   {
    "duration": 12331,
    "start_time": "2022-07-03T17:10:05.957Z"
   },
   {
    "duration": 12478,
    "start_time": "2022-07-03T17:10:55.731Z"
   },
   {
    "duration": 68,
    "start_time": "2022-07-03T17:11:33.624Z"
   },
   {
    "duration": 12540,
    "start_time": "2022-07-03T17:12:06.487Z"
   },
   {
    "duration": 11547,
    "start_time": "2022-07-03T17:12:34.283Z"
   },
   {
    "duration": 14,
    "start_time": "2022-07-03T17:24:16.312Z"
   },
   {
    "duration": 9,
    "start_time": "2022-07-03T17:24:24.751Z"
   },
   {
    "duration": 12,
    "start_time": "2022-07-03T17:25:04.220Z"
   },
   {
    "duration": 1986,
    "start_time": "2022-07-04T11:09:47.047Z"
   },
   {
    "duration": 2666,
    "start_time": "2022-07-04T11:09:49.034Z"
   },
   {
    "duration": 1523,
    "start_time": "2022-07-04T11:09:51.702Z"
   },
   {
    "duration": 149,
    "start_time": "2022-07-04T11:09:53.226Z"
   },
   {
    "duration": 39,
    "start_time": "2022-07-04T11:09:53.377Z"
   },
   {
    "duration": 10,
    "start_time": "2022-07-04T11:09:53.417Z"
   },
   {
    "duration": 9,
    "start_time": "2022-07-04T11:09:53.428Z"
   },
   {
    "duration": 11,
    "start_time": "2022-07-04T11:09:53.439Z"
   },
   {
    "duration": 14,
    "start_time": "2022-07-04T11:09:53.451Z"
   },
   {
    "duration": 1790,
    "start_time": "2022-07-04T11:09:53.466Z"
   },
   {
    "duration": 1319,
    "start_time": "2022-07-04T11:09:55.258Z"
   },
   {
    "duration": 4,
    "start_time": "2022-07-04T11:09:56.579Z"
   },
   {
    "duration": 10,
    "start_time": "2022-07-04T11:09:56.584Z"
   },
   {
    "duration": 7,
    "start_time": "2022-07-04T11:09:56.597Z"
   },
   {
    "duration": 4,
    "start_time": "2022-07-04T11:09:56.605Z"
   },
   {
    "duration": 4,
    "start_time": "2022-07-04T11:09:56.610Z"
   },
   {
    "duration": 5,
    "start_time": "2022-07-04T11:09:56.615Z"
   },
   {
    "duration": 584,
    "start_time": "2022-07-04T11:09:56.621Z"
   },
   {
    "duration": 8,
    "start_time": "2022-07-04T11:09:57.207Z"
   },
   {
    "duration": 469,
    "start_time": "2022-07-04T11:09:57.216Z"
   },
   {
    "duration": 82934,
    "start_time": "2022-07-04T11:09:57.686Z"
   },
   {
    "duration": 1071,
    "start_time": "2022-07-04T11:11:20.622Z"
   },
   {
    "duration": 100,
    "start_time": "2022-07-04T11:11:21.694Z"
   },
   {
    "duration": 15,
    "start_time": "2022-07-04T11:11:21.795Z"
   },
   {
    "duration": 141,
    "start_time": "2022-07-04T11:11:21.811Z"
   },
   {
    "duration": 493,
    "start_time": "2022-07-04T11:11:21.954Z"
   },
   {
    "duration": 8,
    "start_time": "2022-07-04T11:11:22.449Z"
   },
   {
    "duration": 9229,
    "start_time": "2022-07-04T11:11:22.458Z"
   },
   {
    "duration": 10,
    "start_time": "2022-07-04T11:11:31.691Z"
   },
   {
    "duration": 107,
    "start_time": "2022-07-04T12:31:38.622Z"
   },
   {
    "duration": 9,
    "start_time": "2022-07-04T12:31:45.406Z"
   },
   {
    "duration": 5,
    "start_time": "2022-07-04T12:31:48.252Z"
   },
   {
    "duration": 1788,
    "start_time": "2022-07-04T13:34:46.412Z"
   },
   {
    "duration": 1915,
    "start_time": "2022-07-04T13:34:48.203Z"
   },
   {
    "duration": 5,
    "start_time": "2022-07-04T13:34:50.120Z"
   },
   {
    "duration": 55,
    "start_time": "2022-07-04T13:34:50.126Z"
   },
   {
    "duration": 44,
    "start_time": "2022-07-04T13:34:50.183Z"
   },
   {
    "duration": 13,
    "start_time": "2022-07-04T13:34:50.229Z"
   },
   {
    "duration": 13,
    "start_time": "2022-07-04T13:34:50.244Z"
   },
   {
    "duration": 33,
    "start_time": "2022-07-04T13:34:50.259Z"
   },
   {
    "duration": 21,
    "start_time": "2022-07-04T13:34:50.294Z"
   },
   {
    "duration": 2052,
    "start_time": "2022-07-04T13:34:50.317Z"
   },
   {
    "duration": 1253,
    "start_time": "2022-07-04T13:34:52.370Z"
   },
   {
    "duration": 4,
    "start_time": "2022-07-04T13:34:53.624Z"
   },
   {
    "duration": 7,
    "start_time": "2022-07-04T13:34:53.630Z"
   },
   {
    "duration": 7,
    "start_time": "2022-07-04T13:34:53.639Z"
   },
   {
    "duration": 5,
    "start_time": "2022-07-04T13:34:53.647Z"
   },
   {
    "duration": 4,
    "start_time": "2022-07-04T13:34:53.653Z"
   },
   {
    "duration": 5,
    "start_time": "2022-07-04T13:34:53.659Z"
   },
   {
    "duration": 760,
    "start_time": "2022-07-04T13:34:53.665Z"
   },
   {
    "duration": 8,
    "start_time": "2022-07-04T13:34:54.427Z"
   },
   {
    "duration": 516,
    "start_time": "2022-07-04T13:34:54.437Z"
   },
   {
    "duration": 87644,
    "start_time": "2022-07-04T13:34:54.955Z"
   },
   {
    "duration": 1005,
    "start_time": "2022-07-04T13:36:22.600Z"
   },
   {
    "duration": 13,
    "start_time": "2022-07-04T13:36:23.692Z"
   },
   {
    "duration": 16,
    "start_time": "2022-07-04T13:36:23.706Z"
   },
   {
    "duration": 216,
    "start_time": "2022-07-04T13:36:23.724Z"
   },
   {
    "duration": 512,
    "start_time": "2022-07-04T13:36:23.941Z"
   },
   {
    "duration": 7,
    "start_time": "2022-07-04T13:36:24.455Z"
   },
   {
    "duration": 9890,
    "start_time": "2022-07-04T13:36:24.463Z"
   },
   {
    "duration": 10,
    "start_time": "2022-07-04T13:36:34.355Z"
   },
   {
    "duration": 7,
    "start_time": "2022-07-04T13:37:58.584Z"
   },
   {
    "duration": 47,
    "start_time": "2022-07-04T15:36:53.496Z"
   },
   {
    "duration": 2635,
    "start_time": "2022-07-04T15:36:57.350Z"
   },
   {
    "duration": 3528,
    "start_time": "2022-07-04T15:36:59.992Z"
   },
   {
    "duration": 1865,
    "start_time": "2022-07-04T15:37:03.521Z"
   },
   {
    "duration": 82,
    "start_time": "2022-07-04T15:37:05.389Z"
   },
   {
    "duration": 63,
    "start_time": "2022-07-04T15:37:05.474Z"
   },
   {
    "duration": 12,
    "start_time": "2022-07-04T15:37:05.539Z"
   },
   {
    "duration": 71,
    "start_time": "2022-07-04T15:37:05.553Z"
   },
   {
    "duration": 35,
    "start_time": "2022-07-04T15:37:05.626Z"
   },
   {
    "duration": 70,
    "start_time": "2022-07-04T15:37:05.663Z"
   },
   {
    "duration": 2592,
    "start_time": "2022-07-04T15:37:05.735Z"
   },
   {
    "duration": 1729,
    "start_time": "2022-07-04T15:37:08.328Z"
   },
   {
    "duration": 15,
    "start_time": "2022-07-04T15:37:10.068Z"
   },
   {
    "duration": 24,
    "start_time": "2022-07-04T15:37:10.087Z"
   },
   {
    "duration": 9,
    "start_time": "2022-07-04T15:37:10.115Z"
   },
   {
    "duration": 11,
    "start_time": "2022-07-04T15:37:10.126Z"
   },
   {
    "duration": 7,
    "start_time": "2022-07-04T15:37:10.138Z"
   },
   {
    "duration": 11,
    "start_time": "2022-07-04T15:37:10.146Z"
   },
   {
    "duration": 1087,
    "start_time": "2022-07-04T15:37:10.159Z"
   },
   {
    "duration": 40,
    "start_time": "2022-07-04T15:37:11.248Z"
   },
   {
    "duration": 649,
    "start_time": "2022-07-04T15:37:11.291Z"
   },
   {
    "duration": 110563,
    "start_time": "2022-07-04T15:37:11.942Z"
   },
   {
    "duration": 1266,
    "start_time": "2022-07-04T15:39:02.507Z"
   },
   {
    "duration": 37,
    "start_time": "2022-07-04T15:39:03.775Z"
   },
   {
    "duration": 13,
    "start_time": "2022-07-04T15:39:03.861Z"
   },
   {
    "duration": 211,
    "start_time": "2022-07-04T15:39:03.876Z"
   },
   {
    "duration": 485,
    "start_time": "2022-07-04T15:39:04.088Z"
   },
   {
    "duration": 11,
    "start_time": "2022-07-04T15:39:04.574Z"
   },
   {
    "duration": 11318,
    "start_time": "2022-07-04T15:39:04.587Z"
   },
   {
    "duration": 10,
    "start_time": "2022-07-04T15:39:15.907Z"
   },
   {
    "duration": 7,
    "start_time": "2022-07-04T15:42:44.136Z"
   },
   {
    "duration": 8,
    "start_time": "2022-07-04T15:43:09.937Z"
   },
   {
    "duration": 2331,
    "start_time": "2022-07-04T15:43:22.319Z"
   },
   {
    "duration": 2620,
    "start_time": "2022-07-04T15:43:24.654Z"
   },
   {
    "duration": 1651,
    "start_time": "2022-07-04T15:43:27.275Z"
   },
   {
    "duration": 57,
    "start_time": "2022-07-04T15:43:28.928Z"
   },
   {
    "duration": 48,
    "start_time": "2022-07-04T15:43:28.992Z"
   },
   {
    "duration": 11,
    "start_time": "2022-07-04T15:43:29.042Z"
   },
   {
    "duration": 51,
    "start_time": "2022-07-04T15:43:29.054Z"
   },
   {
    "duration": 13,
    "start_time": "2022-07-04T15:43:29.106Z"
   },
   {
    "duration": 17,
    "start_time": "2022-07-04T15:43:29.121Z"
   },
   {
    "duration": 2388,
    "start_time": "2022-07-04T15:43:29.140Z"
   },
   {
    "duration": 1575,
    "start_time": "2022-07-04T15:43:31.530Z"
   },
   {
    "duration": 4,
    "start_time": "2022-07-04T15:43:33.106Z"
   },
   {
    "duration": 9,
    "start_time": "2022-07-04T15:43:33.112Z"
   },
   {
    "duration": 9,
    "start_time": "2022-07-04T15:43:33.123Z"
   },
   {
    "duration": 6,
    "start_time": "2022-07-04T15:43:33.133Z"
   },
   {
    "duration": 25,
    "start_time": "2022-07-04T15:43:33.140Z"
   },
   {
    "duration": 5,
    "start_time": "2022-07-04T15:43:33.166Z"
   },
   {
    "duration": 1161,
    "start_time": "2022-07-04T15:43:33.176Z"
   },
   {
    "duration": 8,
    "start_time": "2022-07-04T15:43:34.339Z"
   },
   {
    "duration": 762,
    "start_time": "2022-07-04T15:43:34.348Z"
   },
   {
    "duration": 114270,
    "start_time": "2022-07-04T15:43:35.112Z"
   },
   {
    "duration": 1090,
    "start_time": "2022-07-04T15:45:29.386Z"
   },
   {
    "duration": 96,
    "start_time": "2022-07-04T15:45:30.478Z"
   },
   {
    "duration": 39,
    "start_time": "2022-07-04T15:45:30.581Z"
   },
   {
    "duration": 250,
    "start_time": "2022-07-04T15:45:30.622Z"
   },
   {
    "duration": 463,
    "start_time": "2022-07-04T15:45:30.882Z"
   },
   {
    "duration": 15,
    "start_time": "2022-07-04T15:45:31.347Z"
   },
   {
    "duration": 11353,
    "start_time": "2022-07-04T15:45:31.363Z"
   },
   {
    "duration": 14,
    "start_time": "2022-07-04T15:45:42.718Z"
   },
   {
    "duration": 19,
    "start_time": "2022-07-04T15:46:24.779Z"
   },
   {
    "duration": 21,
    "start_time": "2022-07-04T18:46:27.999Z"
   },
   {
    "duration": 7,
    "start_time": "2022-07-04T18:47:03.189Z"
   },
   {
    "duration": 2348,
    "start_time": "2022-07-04T18:47:07.596Z"
   },
   {
    "duration": 2701,
    "start_time": "2022-07-04T18:47:09.947Z"
   },
   {
    "duration": 7,
    "start_time": "2022-07-04T18:47:12.650Z"
   },
   {
    "duration": 81,
    "start_time": "2022-07-04T18:47:12.659Z"
   },
   {
    "duration": 64,
    "start_time": "2022-07-04T18:47:12.741Z"
   },
   {
    "duration": 13,
    "start_time": "2022-07-04T18:47:12.808Z"
   },
   {
    "duration": 13,
    "start_time": "2022-07-04T18:47:12.822Z"
   },
   {
    "duration": 36,
    "start_time": "2022-07-04T18:47:12.836Z"
   },
   {
    "duration": 48,
    "start_time": "2022-07-04T18:47:12.874Z"
   },
   {
    "duration": 2589,
    "start_time": "2022-07-04T18:47:12.925Z"
   },
   {
    "duration": 1634,
    "start_time": "2022-07-04T18:47:15.516Z"
   },
   {
    "duration": 30,
    "start_time": "2022-07-04T18:47:17.152Z"
   },
   {
    "duration": 29,
    "start_time": "2022-07-04T18:47:17.184Z"
   },
   {
    "duration": 15,
    "start_time": "2022-07-04T18:47:17.215Z"
   },
   {
    "duration": 12,
    "start_time": "2022-07-04T18:47:17.232Z"
   },
   {
    "duration": 5,
    "start_time": "2022-07-04T18:47:17.246Z"
   },
   {
    "duration": 48,
    "start_time": "2022-07-04T18:47:17.253Z"
   },
   {
    "duration": 12,
    "start_time": "2022-07-04T18:47:17.303Z"
   },
   {
    "duration": 1041,
    "start_time": "2022-07-04T18:47:17.317Z"
   },
   {
    "duration": 26,
    "start_time": "2022-07-04T18:47:18.363Z"
   },
   {
    "duration": 638,
    "start_time": "2022-07-04T18:47:18.399Z"
   },
   {
    "duration": 115808,
    "start_time": "2022-07-04T18:47:19.039Z"
   },
   {
    "duration": 841,
    "start_time": "2022-07-04T18:49:14.849Z"
   },
   {
    "duration": 75,
    "start_time": "2022-07-04T18:49:15.693Z"
   },
   {
    "duration": 49,
    "start_time": "2022-07-04T18:49:15.770Z"
   },
   {
    "duration": 180,
    "start_time": "2022-07-04T18:49:15.822Z"
   },
   {
    "duration": 589,
    "start_time": "2022-07-04T18:49:16.005Z"
   },
   {
    "duration": 20,
    "start_time": "2022-07-04T18:49:16.609Z"
   },
   {
    "duration": 9472,
    "start_time": "2022-07-04T18:49:16.631Z"
   },
   {
    "duration": 13,
    "start_time": "2022-07-04T18:49:26.104Z"
   },
   {
    "duration": 2434,
    "start_time": "2022-07-04T19:41:00.746Z"
   },
   {
    "duration": 2688,
    "start_time": "2022-07-04T19:41:03.183Z"
   },
   {
    "duration": 9,
    "start_time": "2022-07-04T19:41:05.880Z"
   },
   {
    "duration": 62,
    "start_time": "2022-07-04T19:41:05.890Z"
   },
   {
    "duration": 55,
    "start_time": "2022-07-04T19:41:05.954Z"
   },
   {
    "duration": 15,
    "start_time": "2022-07-04T19:41:06.012Z"
   },
   {
    "duration": 46,
    "start_time": "2022-07-04T19:41:06.029Z"
   },
   {
    "duration": 38,
    "start_time": "2022-07-04T19:41:06.087Z"
   },
   {
    "duration": 27,
    "start_time": "2022-07-04T19:41:06.127Z"
   },
   {
    "duration": 3069,
    "start_time": "2022-07-04T19:41:06.157Z"
   },
   {
    "duration": 1630,
    "start_time": "2022-07-04T19:41:09.228Z"
   },
   {
    "duration": 26,
    "start_time": "2022-07-04T19:41:10.860Z"
   },
   {
    "duration": 39,
    "start_time": "2022-07-04T19:41:10.888Z"
   },
   {
    "duration": 8,
    "start_time": "2022-07-04T19:41:10.930Z"
   },
   {
    "duration": 12,
    "start_time": "2022-07-04T19:41:10.940Z"
   },
   {
    "duration": 21,
    "start_time": "2022-07-04T19:41:10.954Z"
   },
   {
    "duration": 34,
    "start_time": "2022-07-04T19:41:10.977Z"
   },
   {
    "duration": 11,
    "start_time": "2022-07-04T19:41:11.014Z"
   },
   {
    "duration": 1291,
    "start_time": "2022-07-04T19:41:11.028Z"
   },
   {
    "duration": 14,
    "start_time": "2022-07-04T19:41:12.320Z"
   },
   {
    "duration": 778,
    "start_time": "2022-07-04T19:41:12.336Z"
   },
   {
    "duration": 110120,
    "start_time": "2022-07-04T19:41:13.116Z"
   },
   {
    "duration": 1228,
    "start_time": "2022-07-04T19:43:03.238Z"
   },
   {
    "duration": 29,
    "start_time": "2022-07-04T19:43:04.471Z"
   },
   {
    "duration": 16,
    "start_time": "2022-07-04T19:43:04.503Z"
   },
   {
    "duration": 232,
    "start_time": "2022-07-04T19:43:04.521Z"
   },
   {
    "duration": 489,
    "start_time": "2022-07-04T19:43:04.754Z"
   },
   {
    "duration": 29,
    "start_time": "2022-07-04T19:43:05.246Z"
   },
   {
    "duration": 11850,
    "start_time": "2022-07-04T19:43:05.277Z"
   },
   {
    "duration": 33,
    "start_time": "2022-07-04T19:43:17.129Z"
   },
   {
    "duration": 2249,
    "start_time": "2022-07-04T19:46:32.128Z"
   },
   {
    "duration": 2604,
    "start_time": "2022-07-04T19:46:34.381Z"
   },
   {
    "duration": 7,
    "start_time": "2022-07-04T19:46:36.987Z"
   },
   {
    "duration": 70,
    "start_time": "2022-07-04T19:46:36.997Z"
   },
   {
    "duration": 69,
    "start_time": "2022-07-04T19:46:37.071Z"
   },
   {
    "duration": 25,
    "start_time": "2022-07-04T19:46:37.142Z"
   },
   {
    "duration": 19,
    "start_time": "2022-07-04T19:46:37.174Z"
   },
   {
    "duration": 13,
    "start_time": "2022-07-04T19:46:37.196Z"
   },
   {
    "duration": 52,
    "start_time": "2022-07-04T19:46:37.212Z"
   },
   {
    "duration": 2589,
    "start_time": "2022-07-04T19:46:37.265Z"
   },
   {
    "duration": 1442,
    "start_time": "2022-07-04T19:46:39.865Z"
   },
   {
    "duration": 14,
    "start_time": "2022-07-04T19:46:41.310Z"
   },
   {
    "duration": 14,
    "start_time": "2022-07-04T19:46:41.327Z"
   },
   {
    "duration": 35,
    "start_time": "2022-07-04T19:46:41.360Z"
   },
   {
    "duration": 19,
    "start_time": "2022-07-04T19:46:41.397Z"
   },
   {
    "duration": 8,
    "start_time": "2022-07-04T19:46:41.418Z"
   },
   {
    "duration": 12,
    "start_time": "2022-07-04T19:46:41.428Z"
   },
   {
    "duration": 12,
    "start_time": "2022-07-04T19:46:41.442Z"
   },
   {
    "duration": 674,
    "start_time": "2022-07-04T19:46:41.456Z"
   },
   {
    "duration": 28,
    "start_time": "2022-07-04T19:46:42.133Z"
   },
   {
    "duration": 661,
    "start_time": "2022-07-04T19:46:42.163Z"
   },
   {
    "duration": 111722,
    "start_time": "2022-07-04T19:46:42.826Z"
   },
   {
    "duration": 1011,
    "start_time": "2022-07-04T19:48:34.550Z"
   },
   {
    "duration": 99,
    "start_time": "2022-07-04T19:48:35.564Z"
   },
   {
    "duration": 28,
    "start_time": "2022-07-04T19:48:35.669Z"
   },
   {
    "duration": 183,
    "start_time": "2022-07-04T19:48:35.699Z"
   },
   {
    "duration": 616,
    "start_time": "2022-07-04T19:48:35.884Z"
   },
   {
    "duration": 18,
    "start_time": "2022-07-04T19:48:36.503Z"
   },
   {
    "duration": 10267,
    "start_time": "2022-07-04T19:48:36.523Z"
   },
   {
    "duration": 15,
    "start_time": "2022-07-04T19:48:46.792Z"
   }
  ],
  "kernelspec": {
   "display_name": "Python 3 (ipykernel)",
   "language": "python",
   "name": "python3"
  },
  "language_info": {
   "codemirror_mode": {
    "name": "ipython",
    "version": 3
   },
   "file_extension": ".py",
   "mimetype": "text/x-python",
   "name": "python",
   "nbconvert_exporter": "python",
   "pygments_lexer": "ipython3",
   "version": "3.9.7"
  },
  "toc": {
   "base_numbering": 1,
   "nav_menu": {},
   "number_sections": true,
   "sideBar": true,
   "skip_h1_title": true,
   "title_cell": "Table of Contents",
   "title_sidebar": "Contents",
   "toc_cell": false,
   "toc_position": {},
   "toc_section_display": true,
   "toc_window_display": false
  }
 },
 "nbformat": 4,
 "nbformat_minor": 2
}
