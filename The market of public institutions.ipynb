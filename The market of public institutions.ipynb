{
 "cells": [
  {
   "cell_type": "markdown",
   "metadata": {},
   "source": [
    "# Содержание\n",
    "\n",
    "1. Цель проекта\n",
    "\n",
    "2. Загрузить данные и подготовить их к анализу\n",
    "   - Подключение необходимых библиотек\n",
    "   - Считывание файла и ознакомление с данными, проверка на дубликаты и пропуски\n",
    "   - Замена значений и изменение типа данных\n",
    "   - Вывод\n",
    "3. Исследование данных\n",
    "   - Исследование соотношений видов объектов общественного питания по количеству и построение графика\n",
    "   - Исследование соотношения сетевых и несетевых заведений по количеству. Построение графика.\n",
    "   - Определим для какого вида объекта общественного питания характерно сетевое распространение?\n",
    "   - Выясним что характерно для сетевых заведений: много заведений с небольшим числом посадочных мест в каждом или мало заведений с большим количеством посадочных мест?\n",
    "   - Для каждого вида объекта общественного питания опишем среднее количество посадочных мест. Определим какой вид предоставляет в среднем самое большое количество посадочных мест?\n",
    "   - Выделим в отдельный столбец информацию об улице из столбца address.\n",
    "   - Построим график топ-10 улиц по количеству объектов общественного питания. Воспользуемся внешней информацией и выясним — в каких районах Москвы находятся эти улицы?\n",
    "   - Найдем число улиц с одним объектом общественного питания. Воспользуемся внешней информацией и выясним — в каких районах Москвы находятся эти улицы?\n",
    "4. Общий вывод\n",
    "5. Рекомендации\n",
    "6. Презентация"
   ]
  },
  {
   "cell_type": "markdown",
   "metadata": {},
   "source": [
    "## Цель проекта"
   ]
  },
  {
   "cell_type": "markdown",
   "metadata": {},
   "source": [
    "Мы решили открыть небольшое кафе в Москве. Оно оригинальное — гостей должны обслуживать роботы. Проект многообещающий, но дорогой. Вместе с партнёрами мы решились обратиться к инвесторам. Их интересует текущее положение дел на рынке — сможете ли вы снискать популярность на долгое время, когда все зеваки насмотрятся на роботов-официантов?\n",
    "Наша задача подготовить исследование рынка заведений общественного питания в Москве. Сделать общий вывод и дайть рекомендации о виде заведения, количестве посадочных мест, а также районе расположения. Так же рассмотреть возможность развития сети."
   ]
  },
  {
   "cell_type": "markdown",
   "metadata": {},
   "source": [
    "### Подключение необходимых библиотек"
   ]
  },
  {
   "cell_type": "code",
   "execution_count": 1,
   "metadata": {},
   "outputs": [],
   "source": [
    "import pandas as pd\n",
    "import matplotlib.pyplot as plt\n",
    "import numpy as np\n",
    "import seaborn as sns\n",
    "from datetime import datetime, timedelta\n",
    "\n",
    "from plotly.offline import init_notebook_mode, iplot\n",
    "import plotly\n",
    "import plotly.graph_objs as go\n",
    "import plotly.express as px\n",
    "from io import BytesIO\n",
    "import requests"
   ]
  },
  {
   "cell_type": "code",
   "execution_count": 2,
   "metadata": {},
   "outputs": [
    {
     "name": "stdout",
     "output_type": "stream",
     "text": [
      "Requirement already satisfied: plotly in /opt/conda/lib/python3.9/site-packages (5.4.0)\r\n",
      "Requirement already satisfied: six in /opt/conda/lib/python3.9/site-packages (from plotly) (1.16.0)\r\n",
      "Requirement already satisfied: tenacity>=6.2.0 in /opt/conda/lib/python3.9/site-packages (from plotly) (8.0.1)\r\n"
     ]
    }
   ],
   "source": [
    "!pip install plotly"
   ]
  },
  {
   "cell_type": "markdown",
   "metadata": {},
   "source": [
    "### Считывание файла и ознакомление с данными, проверка на дубликаты и пропуски"
   ]
  },
  {
   "cell_type": "code",
   "execution_count": 3,
   "metadata": {},
   "outputs": [
    {
     "data": {
      "text/html": [
       "<div>\n",
       "<style scoped>\n",
       "    .dataframe tbody tr th:only-of-type {\n",
       "        vertical-align: middle;\n",
       "    }\n",
       "\n",
       "    .dataframe tbody tr th {\n",
       "        vertical-align: top;\n",
       "    }\n",
       "\n",
       "    .dataframe thead th {\n",
       "        text-align: right;\n",
       "    }\n",
       "</style>\n",
       "<table border=\"1\" class=\"dataframe\">\n",
       "  <thead>\n",
       "    <tr style=\"text-align: right;\">\n",
       "      <th></th>\n",
       "      <th>id</th>\n",
       "      <th>object_name</th>\n",
       "      <th>chain</th>\n",
       "      <th>object_type</th>\n",
       "      <th>address</th>\n",
       "      <th>number</th>\n",
       "    </tr>\n",
       "  </thead>\n",
       "  <tbody>\n",
       "    <tr>\n",
       "      <th>0</th>\n",
       "      <td>151635</td>\n",
       "      <td>СМЕТАНА</td>\n",
       "      <td>нет</td>\n",
       "      <td>кафе</td>\n",
       "      <td>город Москва, улица Егора Абакумова, дом 9</td>\n",
       "      <td>48</td>\n",
       "    </tr>\n",
       "    <tr>\n",
       "      <th>1</th>\n",
       "      <td>77874</td>\n",
       "      <td>Родник</td>\n",
       "      <td>нет</td>\n",
       "      <td>кафе</td>\n",
       "      <td>город Москва, улица Талалихина, дом 2/1, корпус 1</td>\n",
       "      <td>35</td>\n",
       "    </tr>\n",
       "    <tr>\n",
       "      <th>2</th>\n",
       "      <td>24309</td>\n",
       "      <td>Кафе «Академия»</td>\n",
       "      <td>нет</td>\n",
       "      <td>кафе</td>\n",
       "      <td>город Москва, Абельмановская улица, дом 6</td>\n",
       "      <td>95</td>\n",
       "    </tr>\n",
       "    <tr>\n",
       "      <th>3</th>\n",
       "      <td>21894</td>\n",
       "      <td>ПИЦЦЕТОРИЯ</td>\n",
       "      <td>да</td>\n",
       "      <td>кафе</td>\n",
       "      <td>город Москва, Абрамцевская улица, дом 1</td>\n",
       "      <td>40</td>\n",
       "    </tr>\n",
       "    <tr>\n",
       "      <th>4</th>\n",
       "      <td>119365</td>\n",
       "      <td>Кафе «Вишневая метель»</td>\n",
       "      <td>нет</td>\n",
       "      <td>кафе</td>\n",
       "      <td>город Москва, Абрамцевская улица, дом 9, корпус 1</td>\n",
       "      <td>50</td>\n",
       "    </tr>\n",
       "  </tbody>\n",
       "</table>\n",
       "</div>"
      ],
      "text/plain": [
       "       id             object_name chain object_type  \\\n",
       "0  151635                 СМЕТАНА   нет        кафе   \n",
       "1   77874                  Родник   нет        кафе   \n",
       "2   24309         Кафе «Академия»   нет        кафе   \n",
       "3   21894              ПИЦЦЕТОРИЯ    да        кафе   \n",
       "4  119365  Кафе «Вишневая метель»   нет        кафе   \n",
       "\n",
       "                                             address  number  \n",
       "0         город Москва, улица Егора Абакумова, дом 9      48  \n",
       "1  город Москва, улица Талалихина, дом 2/1, корпус 1      35  \n",
       "2          город Москва, Абельмановская улица, дом 6      95  \n",
       "3            город Москва, Абрамцевская улица, дом 1      40  \n",
       "4  город Москва, Абрамцевская улица, дом 9, корпус 1      50  "
      ]
     },
     "metadata": {},
     "output_type": "display_data"
    },
    {
     "data": {
      "text/plain": [
       "id             0\n",
       "object_name    0\n",
       "chain          0\n",
       "object_type    0\n",
       "address        0\n",
       "number         0\n",
       "dtype: int64"
      ]
     },
     "metadata": {},
     "output_type": "display_data"
    },
    {
     "data": {
      "text/plain": [
       "0"
      ]
     },
     "metadata": {},
     "output_type": "display_data"
    },
    {
     "name": "stdout",
     "output_type": "stream",
     "text": [
      "<class 'pandas.core.frame.DataFrame'>\n",
      "RangeIndex: 15366 entries, 0 to 15365\n",
      "Data columns (total 6 columns):\n",
      " #   Column       Non-Null Count  Dtype \n",
      "---  ------       --------------  ----- \n",
      " 0   id           15366 non-null  int64 \n",
      " 1   object_name  15366 non-null  object\n",
      " 2   chain        15366 non-null  object\n",
      " 3   object_type  15366 non-null  object\n",
      " 4   address      15366 non-null  object\n",
      " 5   number       15366 non-null  int64 \n",
      "dtypes: int64(2), object(4)\n",
      "memory usage: 720.4+ KB\n"
     ]
    }
   ],
   "source": [
    "path = '/datasets/'\n",
    "data = pd.read_csv(path + 'rest_data.csv')\n",
    "display(data.head())\n",
    "display(data.isna().sum())\n",
    "display(data.duplicated().sum())\n",
    "data.info()"
   ]
  },
  {
   "cell_type": "markdown",
   "metadata": {},
   "source": [
    "### Дубликаты и пропуски в исходном файле отсутствуют"
   ]
  },
  {
   "cell_type": "code",
   "execution_count": 4,
   "metadata": {},
   "outputs": [
    {
     "data": {
      "text/html": [
       "<div>\n",
       "<style scoped>\n",
       "    .dataframe tbody tr th:only-of-type {\n",
       "        vertical-align: middle;\n",
       "    }\n",
       "\n",
       "    .dataframe tbody tr th {\n",
       "        vertical-align: top;\n",
       "    }\n",
       "\n",
       "    .dataframe thead th {\n",
       "        text-align: right;\n",
       "    }\n",
       "</style>\n",
       "<table border=\"1\" class=\"dataframe\">\n",
       "  <thead>\n",
       "    <tr style=\"text-align: right;\">\n",
       "      <th></th>\n",
       "      <th>id</th>\n",
       "      <th>object_name</th>\n",
       "      <th>chain</th>\n",
       "      <th>object_type</th>\n",
       "      <th>address</th>\n",
       "      <th>number</th>\n",
       "    </tr>\n",
       "  </thead>\n",
       "  <tbody>\n",
       "    <tr>\n",
       "      <th>0</th>\n",
       "      <td>151635</td>\n",
       "      <td>сметана</td>\n",
       "      <td>нет</td>\n",
       "      <td>кафе</td>\n",
       "      <td>город москва, улица егора абакумова, дом 9</td>\n",
       "      <td>48</td>\n",
       "    </tr>\n",
       "    <tr>\n",
       "      <th>1</th>\n",
       "      <td>77874</td>\n",
       "      <td>родник</td>\n",
       "      <td>нет</td>\n",
       "      <td>кафе</td>\n",
       "      <td>город москва, улица талалихина, дом 2/1, корпус 1</td>\n",
       "      <td>35</td>\n",
       "    </tr>\n",
       "    <tr>\n",
       "      <th>2</th>\n",
       "      <td>24309</td>\n",
       "      <td>кафе «академия»</td>\n",
       "      <td>нет</td>\n",
       "      <td>кафе</td>\n",
       "      <td>город москва, абельмановская улица, дом 6</td>\n",
       "      <td>95</td>\n",
       "    </tr>\n",
       "    <tr>\n",
       "      <th>3</th>\n",
       "      <td>21894</td>\n",
       "      <td>пиццетория</td>\n",
       "      <td>да</td>\n",
       "      <td>кафе</td>\n",
       "      <td>город москва, абрамцевская улица, дом 1</td>\n",
       "      <td>40</td>\n",
       "    </tr>\n",
       "    <tr>\n",
       "      <th>4</th>\n",
       "      <td>119365</td>\n",
       "      <td>кафе «вишневая метель»</td>\n",
       "      <td>нет</td>\n",
       "      <td>кафе</td>\n",
       "      <td>город москва, абрамцевская улица, дом 9, корпус 1</td>\n",
       "      <td>50</td>\n",
       "    </tr>\n",
       "  </tbody>\n",
       "</table>\n",
       "</div>"
      ],
      "text/plain": [
       "       id             object_name chain object_type  \\\n",
       "0  151635                 сметана   нет        кафе   \n",
       "1   77874                  родник   нет        кафе   \n",
       "2   24309         кафе «академия»   нет        кафе   \n",
       "3   21894              пиццетория    да        кафе   \n",
       "4  119365  кафе «вишневая метель»   нет        кафе   \n",
       "\n",
       "                                             address  number  \n",
       "0         город москва, улица егора абакумова, дом 9      48  \n",
       "1  город москва, улица талалихина, дом 2/1, корпус 1      35  \n",
       "2          город москва, абельмановская улица, дом 6      95  \n",
       "3            город москва, абрамцевская улица, дом 1      40  \n",
       "4  город москва, абрамцевская улица, дом 9, корпус 1      50  "
      ]
     },
     "metadata": {},
     "output_type": "display_data"
    }
   ],
   "source": [
    "#Приведем название в столбцах к нижнему регистру\n",
    "data['object_name'] = data['object_name'].str.lower()\n",
    "data['address'] = data['address'].str.lower()\n",
    "display(data.head())"
   ]
  },
  {
   "cell_type": "markdown",
   "metadata": {},
   "source": [
    "### Замена значений и изменение типа данных"
   ]
  },
  {
   "cell_type": "code",
   "execution_count": 5,
   "metadata": {},
   "outputs": [
    {
     "data": {
      "text/html": [
       "<div>\n",
       "<style scoped>\n",
       "    .dataframe tbody tr th:only-of-type {\n",
       "        vertical-align: middle;\n",
       "    }\n",
       "\n",
       "    .dataframe tbody tr th {\n",
       "        vertical-align: top;\n",
       "    }\n",
       "\n",
       "    .dataframe thead th {\n",
       "        text-align: right;\n",
       "    }\n",
       "</style>\n",
       "<table border=\"1\" class=\"dataframe\">\n",
       "  <thead>\n",
       "    <tr style=\"text-align: right;\">\n",
       "      <th></th>\n",
       "      <th>id</th>\n",
       "      <th>object_name</th>\n",
       "      <th>chain</th>\n",
       "      <th>object_type</th>\n",
       "      <th>address</th>\n",
       "      <th>number</th>\n",
       "    </tr>\n",
       "  </thead>\n",
       "  <tbody>\n",
       "    <tr>\n",
       "      <th>0</th>\n",
       "      <td>151635</td>\n",
       "      <td>сметана</td>\n",
       "      <td>False</td>\n",
       "      <td>кафе</td>\n",
       "      <td>город москва, улица егора абакумова, дом 9</td>\n",
       "      <td>48</td>\n",
       "    </tr>\n",
       "    <tr>\n",
       "      <th>1</th>\n",
       "      <td>77874</td>\n",
       "      <td>родник</td>\n",
       "      <td>False</td>\n",
       "      <td>кафе</td>\n",
       "      <td>город москва, улица талалихина, дом 2/1, корпус 1</td>\n",
       "      <td>35</td>\n",
       "    </tr>\n",
       "    <tr>\n",
       "      <th>2</th>\n",
       "      <td>24309</td>\n",
       "      <td>кафе «академия»</td>\n",
       "      <td>False</td>\n",
       "      <td>кафе</td>\n",
       "      <td>город москва, абельмановская улица, дом 6</td>\n",
       "      <td>95</td>\n",
       "    </tr>\n",
       "    <tr>\n",
       "      <th>3</th>\n",
       "      <td>21894</td>\n",
       "      <td>пиццетория</td>\n",
       "      <td>True</td>\n",
       "      <td>кафе</td>\n",
       "      <td>город москва, абрамцевская улица, дом 1</td>\n",
       "      <td>40</td>\n",
       "    </tr>\n",
       "    <tr>\n",
       "      <th>4</th>\n",
       "      <td>119365</td>\n",
       "      <td>кафе «вишневая метель»</td>\n",
       "      <td>False</td>\n",
       "      <td>кафе</td>\n",
       "      <td>город москва, абрамцевская улица, дом 9, корпус 1</td>\n",
       "      <td>50</td>\n",
       "    </tr>\n",
       "  </tbody>\n",
       "</table>\n",
       "</div>"
      ],
      "text/plain": [
       "       id             object_name  chain object_type  \\\n",
       "0  151635                 сметана  False        кафе   \n",
       "1   77874                  родник  False        кафе   \n",
       "2   24309         кафе «академия»  False        кафе   \n",
       "3   21894              пиццетория   True        кафе   \n",
       "4  119365  кафе «вишневая метель»  False        кафе   \n",
       "\n",
       "                                             address  number  \n",
       "0         город москва, улица егора абакумова, дом 9      48  \n",
       "1  город москва, улица талалихина, дом 2/1, корпус 1      35  \n",
       "2          город москва, абельмановская улица, дом 6      95  \n",
       "3            город москва, абрамцевская улица, дом 1      40  \n",
       "4  город москва, абрамцевская улица, дом 9, корпус 1      50  "
      ]
     },
     "metadata": {},
     "output_type": "display_data"
    }
   ],
   "source": [
    "#Проведем замену значений в столбцах на более корректный вид\n",
    "#Заменем да на True, а нет на False, так мы сможем производить математические операции с данными\n",
    "#'предприятие быстрого обслуживания' - громоздкое и неактуальное название типа заведения, заменем его\n",
    "data['chain'] = data['chain'].map({'да': True, 'нет': False})\n",
    "data['object_type'] = data['object_type'].replace('предприятие быстрого обслуживания', 'фаст-фуд')\n",
    "display(data.head())"
   ]
  },
  {
   "cell_type": "markdown",
   "metadata": {},
   "source": [
    "### Вывод:"
   ]
  },
  {
   "cell_type": "markdown",
   "metadata": {},
   "source": [
    "Данные достаточно чистые, дубликаты и пропуски отсутствуют.\n",
    "В столбце chain Да и Нет, заменены на True и False (это необходимо, чтобы иметь возможность производить мат. вычисления с данными столбца).\n",
    "Дубликаты не выявлены.\n",
    "Значения \"0\" в столбце 'number' считать ошибкой иил как-то заменять не будем, потому как подобные заведения действительно встречаются: продажа шаурмы, пирожки и пончики и др. Такие заведения быстрого питания имеют лишь окно продажи, а посадочные места отсутствуют. В некоторых случаях это просто магазин. В других случаях скорее данные просто не указали."
   ]
  },
  {
   "cell_type": "markdown",
   "metadata": {},
   "source": [
    "## Исследование данных"
   ]
  },
  {
   "cell_type": "markdown",
   "metadata": {},
   "source": [
    "### Исследование соотношений видов объектов общественного питания по количеству и построение графика"
   ]
  },
  {
   "cell_type": "code",
   "execution_count": 6,
   "metadata": {},
   "outputs": [
    {
     "data": {
      "text/html": [
       "<div>\n",
       "<style scoped>\n",
       "    .dataframe tbody tr th:only-of-type {\n",
       "        vertical-align: middle;\n",
       "    }\n",
       "\n",
       "    .dataframe tbody tr th {\n",
       "        vertical-align: top;\n",
       "    }\n",
       "\n",
       "    .dataframe thead th {\n",
       "        text-align: right;\n",
       "    }\n",
       "</style>\n",
       "<table border=\"1\" class=\"dataframe\">\n",
       "  <thead>\n",
       "    <tr style=\"text-align: right;\">\n",
       "      <th></th>\n",
       "      <th>object_type</th>\n",
       "      <th>id</th>\n",
       "    </tr>\n",
       "  </thead>\n",
       "  <tbody>\n",
       "    <tr>\n",
       "      <th>0</th>\n",
       "      <td>магазин (отдел кулинарии)</td>\n",
       "      <td>273</td>\n",
       "    </tr>\n",
       "    <tr>\n",
       "      <th>1</th>\n",
       "      <td>закусочная</td>\n",
       "      <td>360</td>\n",
       "    </tr>\n",
       "    <tr>\n",
       "      <th>2</th>\n",
       "      <td>кафетерий</td>\n",
       "      <td>398</td>\n",
       "    </tr>\n",
       "    <tr>\n",
       "      <th>3</th>\n",
       "      <td>буфет</td>\n",
       "      <td>585</td>\n",
       "    </tr>\n",
       "    <tr>\n",
       "      <th>4</th>\n",
       "      <td>бар</td>\n",
       "      <td>856</td>\n",
       "    </tr>\n",
       "    <tr>\n",
       "      <th>5</th>\n",
       "      <td>фаст-фуд</td>\n",
       "      <td>1923</td>\n",
       "    </tr>\n",
       "    <tr>\n",
       "      <th>6</th>\n",
       "      <td>ресторан</td>\n",
       "      <td>2285</td>\n",
       "    </tr>\n",
       "    <tr>\n",
       "      <th>7</th>\n",
       "      <td>столовая</td>\n",
       "      <td>2587</td>\n",
       "    </tr>\n",
       "    <tr>\n",
       "      <th>8</th>\n",
       "      <td>кафе</td>\n",
       "      <td>6099</td>\n",
       "    </tr>\n",
       "  </tbody>\n",
       "</table>\n",
       "</div>"
      ],
      "text/plain": [
       "                 object_type    id\n",
       "0  магазин (отдел кулинарии)   273\n",
       "1                 закусочная   360\n",
       "2                  кафетерий   398\n",
       "3                      буфет   585\n",
       "4                        бар   856\n",
       "5                   фаст-фуд  1923\n",
       "6                   ресторан  2285\n",
       "7                   столовая  2587\n",
       "8                       кафе  6099"
      ]
     },
     "metadata": {},
     "output_type": "display_data"
    },
    {
     "data": {
      "text/plain": [
       "Index(['object_type', 'id'], dtype='object')"
      ]
     },
     "execution_count": 6,
     "metadata": {},
     "output_type": "execute_result"
    }
   ],
   "source": [
    "data_counts = data[['object_type', 'id']].groupby('object_type').agg({'id': 'count'}).sort_values('id').reset_index()\n",
    "display(data_counts.head(15))\n",
    "data_counts.columns"
   ]
  },
  {
   "cell_type": "code",
   "execution_count": 7,
   "metadata": {},
   "outputs": [
    {
     "data": {
      "image/png": "[encoded data removed]",
      "text/plain": [
       "<Figure size 1080x720 with 1 Axes>"
      ]
     },
     "metadata": {
      "needs_background": "light"
     },
     "output_type": "display_data"
    }
   ],
   "source": [
    "#Построим график количества объектов сгрупированных по типу заведения\n",
    "#На этом шаге будем использовать библиотеку matplotlib\n",
    "fig, ax1 = plt.subplots()\n",
    "plt.bar(data_counts['object_type'], data_counts['id'], color='#006400')\n",
    "plt.style.use('seaborn')\n",
    "ax1.set_title('Ratio of types of catering facilities by number')\n",
    "ax1.set_xlabel('object_type')\n",
    "ax1.set_ylabel('number')\n",
    "fig.set_figheight(10)\n",
    "fig.set_figwidth(15)\n",
    "for tick in ax1.get_xticklabels():\n",
    "    tick.set_rotation(45) #цикл для наклона подписей по оси х, это сделает длинные записи читабельными\n",
    "plt.show()"
   ]
  },
  {
   "cell_type": "markdown",
   "metadata": {},
   "source": [
    "Больше всех заведений типа кафе, с отрывом от второго места (столовая) в 2,4 раза. Ресторан лишь немного уступил, примерно 300 единиц. Меньше всего магазинов и закусочных, в подобных заведениях места посадки для клиентов могут вовсе отсутствовать."
   ]
  },
  {
   "cell_type": "markdown",
   "metadata": {},
   "source": [
    "### Исследование соотношения сетевых и несетевых заведений по количеству. Построение графика."
   ]
  },
  {
   "cell_type": "code",
   "execution_count": 8,
   "metadata": {},
   "outputs": [
    {
     "data": {
      "text/html": [
       "<div>\n",
       "<style scoped>\n",
       "    .dataframe tbody tr th:only-of-type {\n",
       "        vertical-align: middle;\n",
       "    }\n",
       "\n",
       "    .dataframe tbody tr th {\n",
       "        vertical-align: top;\n",
       "    }\n",
       "\n",
       "    .dataframe thead th {\n",
       "        text-align: right;\n",
       "    }\n",
       "</style>\n",
       "<table border=\"1\" class=\"dataframe\">\n",
       "  <thead>\n",
       "    <tr style=\"text-align: right;\">\n",
       "      <th></th>\n",
       "      <th>index</th>\n",
       "      <th>chain</th>\n",
       "    </tr>\n",
       "  </thead>\n",
       "  <tbody>\n",
       "    <tr>\n",
       "      <th>0</th>\n",
       "      <td>False</td>\n",
       "      <td>12398</td>\n",
       "    </tr>\n",
       "    <tr>\n",
       "      <th>1</th>\n",
       "      <td>True</td>\n",
       "      <td>2968</td>\n",
       "    </tr>\n",
       "  </tbody>\n",
       "</table>\n",
       "</div>"
      ],
      "text/plain": [
       "   index  chain\n",
       "0  False  12398\n",
       "1   True   2968"
      ]
     },
     "metadata": {},
     "output_type": "display_data"
    }
   ],
   "source": [
    "#Посчитаем количество заведений распределив по признаку отношения к сети\n",
    "data_net = data['chain'].value_counts().reset_index()\n",
    "display(data_net.head())"
   ]
  },
  {
   "cell_type": "code",
   "execution_count": 9,
   "metadata": {},
   "outputs": [
    {
     "data": {
      "text/plain": [
       "Text(0.5, 1.0, 'The ratio of network and non-network establishments')"
      ]
     },
     "execution_count": 9,
     "metadata": {},
     "output_type": "execute_result"
    },
    {
     "data": {
      "image/png": "[encoded data removed]",
      "text/plain": [
       "<Figure size 1080x720 with 1 Axes>"
      ]
     },
     "metadata": {},
     "output_type": "display_data"
    }
   ],
   "source": [
    "#На данном шаге будем использовать стобчатую гистограмму  библиотеки seaborn\n",
    "plt.figure(figsize=(15,10))\n",
    "ax = sns.barplot(x=data_net['index'], y=data_net['chain'])\n",
    "sns.set_palette('dark')\n",
    "ax.set_xticklabels(ax.get_xticklabels(),rotation = 30) #Наклон подписей по сои х в 30 градусов\n",
    "ax.set_title('The ratio of network and non-network establishments', fontdict={'fontsize':18}, pad=12)"
   ]
  },
  {
   "cell_type": "markdown",
   "metadata": {},
   "source": [
    "Несетевых заведений  в 4,18 раза больше чем сетевых"
   ]
  },
  {
   "cell_type": "markdown",
   "metadata": {},
   "source": [
    "### Определим для какого вида объекта общественного питания характерно сетевое распространение?"
   ]
  },
  {
   "cell_type": "markdown",
   "metadata": {},
   "source": [
    "Создадим сводную таблицу по всем типам заведений в соответствии с сетевым признаком"
   ]
  },
  {
   "cell_type": "code",
   "execution_count": 10,
   "metadata": {},
   "outputs": [
    {
     "data": {
      "text/html": [
       "<div>\n",
       "<style scoped>\n",
       "    .dataframe tbody tr th:only-of-type {\n",
       "        vertical-align: middle;\n",
       "    }\n",
       "\n",
       "    .dataframe tbody tr th {\n",
       "        vertical-align: top;\n",
       "    }\n",
       "\n",
       "    .dataframe thead th {\n",
       "        text-align: right;\n",
       "    }\n",
       "</style>\n",
       "<table border=\"1\" class=\"dataframe\">\n",
       "  <thead>\n",
       "    <tr style=\"text-align: right;\">\n",
       "      <th></th>\n",
       "      <th>object_type</th>\n",
       "      <th>none_chain</th>\n",
       "      <th>chain</th>\n",
       "    </tr>\n",
       "  </thead>\n",
       "  <tbody>\n",
       "    <tr>\n",
       "      <th>0</th>\n",
       "      <td>бар</td>\n",
       "      <td>819</td>\n",
       "      <td>37</td>\n",
       "    </tr>\n",
       "    <tr>\n",
       "      <th>1</th>\n",
       "      <td>буфет</td>\n",
       "      <td>574</td>\n",
       "      <td>11</td>\n",
       "    </tr>\n",
       "    <tr>\n",
       "      <th>2</th>\n",
       "      <td>закусочная</td>\n",
       "      <td>304</td>\n",
       "      <td>56</td>\n",
       "    </tr>\n",
       "    <tr>\n",
       "      <th>3</th>\n",
       "      <td>кафе</td>\n",
       "      <td>4703</td>\n",
       "      <td>1396</td>\n",
       "    </tr>\n",
       "    <tr>\n",
       "      <th>4</th>\n",
       "      <td>кафетерий</td>\n",
       "      <td>346</td>\n",
       "      <td>52</td>\n",
       "    </tr>\n",
       "    <tr>\n",
       "      <th>5</th>\n",
       "      <td>магазин (отдел кулинарии)</td>\n",
       "      <td>195</td>\n",
       "      <td>78</td>\n",
       "    </tr>\n",
       "    <tr>\n",
       "      <th>6</th>\n",
       "      <td>ресторан</td>\n",
       "      <td>1741</td>\n",
       "      <td>544</td>\n",
       "    </tr>\n",
       "    <tr>\n",
       "      <th>7</th>\n",
       "      <td>столовая</td>\n",
       "      <td>2584</td>\n",
       "      <td>3</td>\n",
       "    </tr>\n",
       "    <tr>\n",
       "      <th>8</th>\n",
       "      <td>фаст-фуд</td>\n",
       "      <td>1132</td>\n",
       "      <td>791</td>\n",
       "    </tr>\n",
       "  </tbody>\n",
       "</table>\n",
       "</div>"
      ],
      "text/plain": [
       "                 object_type  none_chain  chain\n",
       "0                        бар         819     37\n",
       "1                      буфет         574     11\n",
       "2                 закусочная         304     56\n",
       "3                       кафе        4703   1396\n",
       "4                  кафетерий         346     52\n",
       "5  магазин (отдел кулинарии)         195     78\n",
       "6                   ресторан        1741    544\n",
       "7                   столовая        2584      3\n",
       "8                   фаст-фуд        1132    791"
      ]
     },
     "execution_count": 10,
     "metadata": {},
     "output_type": "execute_result"
    }
   ],
   "source": [
    "data_network = pd.pivot_table(data,index='object_type',columns='chain',values='id',aggfunc='count').reset_index()\n",
    "data_network.columns = ['object_type', 'none_chain', 'chain']\n",
    "data_network.head(10)"
   ]
  },
  {
   "cell_type": "markdown",
   "metadata": {},
   "source": [
    "Посчитаем процентное соотношение сетевых заведений к общему количеству каждого типа"
   ]
  },
  {
   "cell_type": "code",
   "execution_count": 11,
   "metadata": {},
   "outputs": [
    {
     "data": {
      "text/html": [
       "<div>\n",
       "<style scoped>\n",
       "    .dataframe tbody tr th:only-of-type {\n",
       "        vertical-align: middle;\n",
       "    }\n",
       "\n",
       "    .dataframe tbody tr th {\n",
       "        vertical-align: top;\n",
       "    }\n",
       "\n",
       "    .dataframe thead th {\n",
       "        text-align: right;\n",
       "    }\n",
       "</style>\n",
       "<table border=\"1\" class=\"dataframe\">\n",
       "  <thead>\n",
       "    <tr style=\"text-align: right;\">\n",
       "      <th></th>\n",
       "      <th>object_type</th>\n",
       "      <th>none_chain</th>\n",
       "      <th>chain</th>\n",
       "      <th>total</th>\n",
       "      <th>share of chain</th>\n",
       "    </tr>\n",
       "  </thead>\n",
       "  <tbody>\n",
       "    <tr>\n",
       "      <th>7</th>\n",
       "      <td>столовая</td>\n",
       "      <td>2584</td>\n",
       "      <td>3</td>\n",
       "      <td>2587</td>\n",
       "      <td>0.1</td>\n",
       "    </tr>\n",
       "    <tr>\n",
       "      <th>1</th>\n",
       "      <td>буфет</td>\n",
       "      <td>574</td>\n",
       "      <td>11</td>\n",
       "      <td>585</td>\n",
       "      <td>1.9</td>\n",
       "    </tr>\n",
       "    <tr>\n",
       "      <th>0</th>\n",
       "      <td>бар</td>\n",
       "      <td>819</td>\n",
       "      <td>37</td>\n",
       "      <td>856</td>\n",
       "      <td>4.3</td>\n",
       "    </tr>\n",
       "    <tr>\n",
       "      <th>4</th>\n",
       "      <td>кафетерий</td>\n",
       "      <td>346</td>\n",
       "      <td>52</td>\n",
       "      <td>398</td>\n",
       "      <td>13.1</td>\n",
       "    </tr>\n",
       "    <tr>\n",
       "      <th>2</th>\n",
       "      <td>закусочная</td>\n",
       "      <td>304</td>\n",
       "      <td>56</td>\n",
       "      <td>360</td>\n",
       "      <td>15.6</td>\n",
       "    </tr>\n",
       "    <tr>\n",
       "      <th>5</th>\n",
       "      <td>магазин (отдел кулинарии)</td>\n",
       "      <td>195</td>\n",
       "      <td>78</td>\n",
       "      <td>273</td>\n",
       "      <td>28.6</td>\n",
       "    </tr>\n",
       "    <tr>\n",
       "      <th>6</th>\n",
       "      <td>ресторан</td>\n",
       "      <td>1741</td>\n",
       "      <td>544</td>\n",
       "      <td>2285</td>\n",
       "      <td>23.8</td>\n",
       "    </tr>\n",
       "    <tr>\n",
       "      <th>8</th>\n",
       "      <td>фаст-фуд</td>\n",
       "      <td>1132</td>\n",
       "      <td>791</td>\n",
       "      <td>1923</td>\n",
       "      <td>41.1</td>\n",
       "    </tr>\n",
       "    <tr>\n",
       "      <th>3</th>\n",
       "      <td>кафе</td>\n",
       "      <td>4703</td>\n",
       "      <td>1396</td>\n",
       "      <td>6099</td>\n",
       "      <td>22.9</td>\n",
       "    </tr>\n",
       "  </tbody>\n",
       "</table>\n",
       "</div>"
      ],
      "text/plain": [
       "                 object_type  none_chain  chain  total  share of chain\n",
       "7                   столовая        2584      3   2587             0.1\n",
       "1                      буфет         574     11    585             1.9\n",
       "0                        бар         819     37    856             4.3\n",
       "4                  кафетерий         346     52    398            13.1\n",
       "2                 закусочная         304     56    360            15.6\n",
       "5  магазин (отдел кулинарии)         195     78    273            28.6\n",
       "6                   ресторан        1741    544   2285            23.8\n",
       "8                   фаст-фуд        1132    791   1923            41.1\n",
       "3                       кафе        4703   1396   6099            22.9"
      ]
     },
     "execution_count": 11,
     "metadata": {},
     "output_type": "execute_result"
    }
   ],
   "source": [
    "#Сначала создадим столбец с общим числом заведений\n",
    "data_network['total'] = data_network['chain'] + data_network['none_chain']\n",
    "#Теперь найдем процентное соотношение\n",
    "data_network['share of chain'] = round(data_network['chain'] / data_network['total'] * 100, 1)\n",
    "data_network = data_network.sort_values('chain')\n",
    "data_network.head(10)"
   ]
  },
  {
   "cell_type": "code",
   "execution_count": 12,
   "metadata": {},
   "outputs": [
    {
     "data": {
      "text/plain": [
       "Text(0.5, 1.0, 'Number of chain')"
      ]
     },
     "execution_count": 12,
     "metadata": {},
     "output_type": "execute_result"
    },
    {
     "data": {
      "image/png": "[encoded data removed]",
      "text/plain": [
       "<Figure size 1080x720 with 1 Axes>"
      ]
     },
     "metadata": {},
     "output_type": "display_data"
    }
   ],
   "source": [
    "#Используем столбчатую гистограмму библиотеки seaborn для отображения общего количества сетевых заведений каждого типа\n",
    "plt.figure(figsize=(15,10))\n",
    "ax = sns.barplot(x=data_network['object_type'], y=data_network['chain'])\n",
    "sns.set_palette('dark')\n",
    "ax.set_xticklabels(ax.get_xticklabels(),rotation = 30)\n",
    "ax.set_title('Number of chain', fontdict={'fontsize':18}, pad=12)"
   ]
  },
  {
   "cell_type": "markdown",
   "metadata": {},
   "source": [
    "Согласно общему количеству чаще всего к сетевым заведениям относятся кафе, фаст-фуды и рестораны"
   ]
  },
  {
   "cell_type": "code",
   "execution_count": 13,
   "metadata": {},
   "outputs": [],
   "source": [
    "data_network_share = data_network.sort_values('share of chain')"
   ]
  },
  {
   "cell_type": "code",
   "execution_count": 14,
   "metadata": {},
   "outputs": [
    {
     "data": {
      "text/plain": [
       "Text(0.5, 1.0, 'Share of chain')"
      ]
     },
     "execution_count": 14,
     "metadata": {},
     "output_type": "execute_result"
    },
    {
     "data": {
      "image/png": "[encoded data removed]",
      "text/plain": [
       "<Figure size 1080x720 with 1 Axes>"
      ]
     },
     "metadata": {},
     "output_type": "display_data"
    }
   ],
   "source": [
    "#Используем столбчатую гистограмму библиотеки seaborn для отображения процентного отношения сетевых заведений каждого типа\n",
    "plt.figure(figsize=(15,10))\n",
    "ax = sns.barplot(x=data_network_share['object_type'], y=data_network_share['share of chain'])\n",
    "sns.set_palette('dark')\n",
    "ax.set_xticklabels(ax.get_xticklabels(),rotation = 30)\n",
    "ax.set_title('Share of chain', fontdict={'fontsize':18}, pad=12)"
   ]
  },
  {
   "cell_type": "markdown",
   "metadata": {},
   "source": [
    "Исходя из показателей процентного соотношения характер сетевых заведений носят фаст-фуды(41%), магазины отдел кулинарии(29%), ресторан(24%) и кафе(23%). Те же результаты что и в предыдущем исследовании с той разницей, что магазинов хоть и немного они в 29% случаи являются сетевыми."
   ]
  },
  {
   "cell_type": "markdown",
   "metadata": {},
   "source": [
    "### Выясним что характерно для сетевых заведений: много заведений с небольшим числом посадочных мест в каждом или мало заведений с большим количеством посадочных мест?"
   ]
  },
  {
   "cell_type": "code",
   "execution_count": 15,
   "metadata": {},
   "outputs": [
    {
     "data": {
      "image/png": "[encoded data removed]",
      "text/plain": [
       "<Figure size 576x396 with 1 Axes>"
      ]
     },
     "metadata": {},
     "output_type": "display_data"
    }
   ],
   "source": [
    "# выборка сетевых заведений\n",
    " \n",
    "report = data.query('chain == True')\n",
    "report.head()\n",
    " \n",
    "#Для каждой сети посчитаем число заведений и среднее число посадочных мест.\n",
    "report = data.pivot_table(index=['object_name'], values = 'number', aggfunc = ['count','mean']).reset_index() \n",
    "report.columns = ['name','number_restaurant','number_place']\n",
    "report['number_place'] = report['number_place'].apply(round)\n",
    "report = report.sort_values(by = ['number_restaurant'], ascending= False)\n",
    "report.head()\n",
    "#Разобъем все сети на 4 группы по признакам много/мало ресторанов, много/мало посадочных мест. Для этого создадим функцию category и применим её к датафрейму\n",
    " \n",
    " \n",
    "# Функции для категоризации заведений - кол-ву мест \n",
    " \n",
    "def category (row):\n",
    "    # определение переменных\n",
    "    number_restaurant = row['number_restaurant']\n",
    "    number_place = row['number_place']\n",
    " \n",
    " \n",
    "    # условия для категоризации\n",
    " \n",
    "    if number_restaurant <= 3 and number_place <= 50:\n",
    "        return 'Мало заведений - мало мест'\n",
    " \n",
    "    elif number_restaurant > 3 and number_place <= 50:\n",
    "        return 'Много заведений - мало мест'  \n",
    " \n",
    "    elif number_restaurant <= 3 and number_place > 50:\n",
    "        return 'Мало заведений - много мест'\n",
    " \n",
    "    return 'Много заведений - много мест'\n",
    "# применение функции к датафрейму\n",
    "report ['category'] = report.apply(category, axis=1)\n",
    "report.head()\n",
    " \n",
    "# построение диаграммы рассеивания\n",
    "sns.scatterplot(x='number_restaurant', y='number_place', data=report, hue='category',alpha=0.3)\n",
    "plt.xlim (0,50) #Ранее был указан шаг, теперь сам размер\n",
    "plt.ylim (0,350)\n",
    "plt.show()       "
   ]
  },
  {
   "cell_type": "markdown",
   "metadata": {},
   "source": [
    "Согласно диаграмме рассеивания, характер сетевых заведений можно отнести в категорию: мало заведений-много мест"
   ]
  },
  {
   "cell_type": "code",
   "execution_count": 17,
   "metadata": {},
   "outputs": [
    {
     "data": {
      "text/html": [
       "<div>\n",
       "<style scoped>\n",
       "    .dataframe tbody tr th:only-of-type {\n",
       "        vertical-align: middle;\n",
       "    }\n",
       "\n",
       "    .dataframe tbody tr th {\n",
       "        vertical-align: top;\n",
       "    }\n",
       "\n",
       "    .dataframe thead th {\n",
       "        text-align: right;\n",
       "    }\n",
       "</style>\n",
       "<table border=\"1\" class=\"dataframe\">\n",
       "  <thead>\n",
       "    <tr style=\"text-align: right;\">\n",
       "      <th></th>\n",
       "      <th></th>\n",
       "      <th>objects_number</th>\n",
       "    </tr>\n",
       "    <tr>\n",
       "      <th>frequent</th>\n",
       "      <th>roomy</th>\n",
       "      <th></th>\n",
       "    </tr>\n",
       "  </thead>\n",
       "  <tbody>\n",
       "    <tr>\n",
       "      <th rowspan=\"2\" valign=\"top\">False</th>\n",
       "      <th>True</th>\n",
       "      <td>91</td>\n",
       "    </tr>\n",
       "    <tr>\n",
       "      <th>False</th>\n",
       "      <td>89</td>\n",
       "    </tr>\n",
       "    <tr>\n",
       "      <th rowspan=\"2\" valign=\"top\">True</th>\n",
       "      <th>False</th>\n",
       "      <td>47</td>\n",
       "    </tr>\n",
       "    <tr>\n",
       "      <th>True</th>\n",
       "      <td>43</td>\n",
       "    </tr>\n",
       "  </tbody>\n",
       "</table>\n",
       "</div>"
      ],
      "text/plain": [
       "                objects_number\n",
       "frequent roomy                \n",
       "False    True               91\n",
       "         False              89\n",
       "True     False              47\n",
       "         True               43"
      ]
     },
     "execution_count": 17,
     "metadata": {},
     "output_type": "execute_result"
    }
   ],
   "source": [
    "### КОД РЕВЬЮЕРА 2\n",
    "strip_series = lambda s: s.str.lower()\\\n",
    "                          .str.strip()\\\n",
    "                          .str.replace('[^\\w]','',regex=True)\\\n",
    "                          .str.replace(\"ё\",\"е\")\n",
    "\n",
    "def is_it_big(series:pd.Series) -> pd.Series:\n",
    "    # создали пустой массив той же длинны\n",
    "    new_series = pd.Series(index=series.index,dtype='object')\n",
    "    \n",
    "    # запомнили трети\n",
    "    t1, t2 = series.quantile([1/3,2/3])\n",
    "    \n",
    "    # поставили маленьким и большим соответствующие метки\n",
    "    new_series[series.le(t1)] = False\n",
    "    new_series[series.gt(t2)] = True\n",
    "    # вернули\n",
    "    return new_series\n",
    "\n",
    "network = data.assign(object_code = strip_series(data.object_name))\\\n",
    "    .groupby(\"object_code\")\\\n",
    "    .agg({\"id\":\"count\",\"chain\":np.any,\"number\":\"mean\"})\\\n",
    "    .query(\"chain\")\\\n",
    "    .drop(\"chain\",axis=1)\n",
    "\n",
    "network\\\n",
    "    .assign(\n",
    "        frequent = is_it_big(network.id),\n",
    "        roomy = is_it_big(network.number))\\\n",
    "    .rename(columns={\"id\":\"objects_number\",\"number\":\"seats\"})\\\n",
    "    .groupby(['frequent','roomy'])\\\n",
    "    .agg({\"objects_number\":\"count\"})\\\n",
    "    .sort_values(\"objects_number\",ascending=False)"
   ]
  },
  {
   "cell_type": "markdown",
   "metadata": {},
   "source": [
    "### Для каждого вида объекта общественного питания опишем среднее количество посадочных мест. Определим какой вид предоставляет в среднем самое большое количество посадочных мест?"
   ]
  },
  {
   "cell_type": "code",
   "execution_count": 18,
   "metadata": {},
   "outputs": [],
   "source": [
    "#Для среза возьмем количество сидячих мест 400, оно является выше чем все нормальное распределение всех типов и за \"бортом\" \n",
    "#останутся лишь выбросы. Добавим сортировку\n",
    "data_box = data.query('number <= 400')\n",
    "data_box = data_box.sort_values('number', ascending=False)"
   ]
  },
  {
   "cell_type": "code",
   "execution_count": 19,
   "metadata": {},
   "outputs": [
    {
     "data": {
      "text/plain": [
       "Text(0.5, 1.0, 'Distribution of seats')"
      ]
     },
     "execution_count": 19,
     "metadata": {},
     "output_type": "execute_result"
    },
    {
     "data": {
      "image/png": "[encoded data removed]",
      "text/plain": [
       "<Figure size 1080x1080 with 1 Axes>"
      ]
     },
     "metadata": {},
     "output_type": "display_data"
    }
   ],
   "source": [
    "#Построим ящик с усами и посмотрим на распределение посадочных мест в соответствиис типом заведения \n",
    "plt.figure(figsize=(15,15))\n",
    "ax = sns.boxplot(x=data_box['object_type'], y=data_box['number'], data=data_box)\n",
    "sns.set_palette('dark')\n",
    "ax.set_xticklabels(ax.get_xticklabels(),rotation = 30)\n",
    "ax.set_title('Distribution of seats', fontdict={'fontsize':18}, pad=12)"
   ]
  },
  {
   "cell_type": "markdown",
   "metadata": {},
   "source": [
    "Все медианные значения по типам не превышают 105 мест. Медианное значение по всем типам колеблится в районе 40 мест."
   ]
  },
  {
   "cell_type": "code",
   "execution_count": 20,
   "metadata": {},
   "outputs": [
    {
     "data": {
      "text/html": [
       "<div>\n",
       "<style scoped>\n",
       "    .dataframe tbody tr th:only-of-type {\n",
       "        vertical-align: middle;\n",
       "    }\n",
       "\n",
       "    .dataframe tbody tr th {\n",
       "        vertical-align: top;\n",
       "    }\n",
       "\n",
       "    .dataframe thead th {\n",
       "        text-align: right;\n",
       "    }\n",
       "</style>\n",
       "<table border=\"1\" class=\"dataframe\">\n",
       "  <thead>\n",
       "    <tr style=\"text-align: right;\">\n",
       "      <th></th>\n",
       "      <th>object_type</th>\n",
       "      <th>number</th>\n",
       "    </tr>\n",
       "  </thead>\n",
       "  <tbody>\n",
       "    <tr>\n",
       "      <th>0</th>\n",
       "      <td>закусочная</td>\n",
       "      <td>0</td>\n",
       "    </tr>\n",
       "    <tr>\n",
       "      <th>1</th>\n",
       "      <td>магазин (отдел кулинарии)</td>\n",
       "      <td>0</td>\n",
       "    </tr>\n",
       "    <tr>\n",
       "      <th>2</th>\n",
       "      <td>фаст-фуд</td>\n",
       "      <td>5</td>\n",
       "    </tr>\n",
       "    <tr>\n",
       "      <th>3</th>\n",
       "      <td>кафетерий</td>\n",
       "      <td>6</td>\n",
       "    </tr>\n",
       "    <tr>\n",
       "      <th>4</th>\n",
       "      <td>кафе</td>\n",
       "      <td>30</td>\n",
       "    </tr>\n",
       "    <tr>\n",
       "      <th>5</th>\n",
       "      <td>буфет</td>\n",
       "      <td>32</td>\n",
       "    </tr>\n",
       "    <tr>\n",
       "      <th>6</th>\n",
       "      <td>бар</td>\n",
       "      <td>35</td>\n",
       "    </tr>\n",
       "    <tr>\n",
       "      <th>7</th>\n",
       "      <td>ресторан</td>\n",
       "      <td>80</td>\n",
       "    </tr>\n",
       "    <tr>\n",
       "      <th>8</th>\n",
       "      <td>столовая</td>\n",
       "      <td>103</td>\n",
       "    </tr>\n",
       "  </tbody>\n",
       "</table>\n",
       "</div>"
      ],
      "text/plain": [
       "                 object_type  number\n",
       "0                 закусочная       0\n",
       "1  магазин (отдел кулинарии)       0\n",
       "2                   фаст-фуд       5\n",
       "3                  кафетерий       6\n",
       "4                       кафе      30\n",
       "5                      буфет      32\n",
       "6                        бар      35\n",
       "7                   ресторан      80\n",
       "8                   столовая     103"
      ]
     },
     "execution_count": 20,
     "metadata": {},
     "output_type": "execute_result"
    }
   ],
   "source": [
    "data_mean = data.groupby('object_type', as_index=False).agg({'number': 'median'}).sort_values('number').reset_index(inplace = False, drop = True)\n",
    "data_mean['number'] = round(data_mean['number'], 0).astype('int')\n",
    "data_mean.head(10)"
   ]
  },
  {
   "cell_type": "code",
   "execution_count": 21,
   "metadata": {},
   "outputs": [],
   "source": [
    "data_mean_null = data_mean"
   ]
  },
  {
   "cell_type": "code",
   "execution_count": 22,
   "metadata": {},
   "outputs": [
    {
     "data": {
      "text/plain": [
       "Text(0.5, 1.0, 'Distribution of seats')"
      ]
     },
     "execution_count": 22,
     "metadata": {},
     "output_type": "execute_result"
    },
    {
     "data": {
      "image/png": "[encoded data removed]",
      "text/plain": [
       "<Figure size 1080x720 with 1 Axes>"
      ]
     },
     "metadata": {},
     "output_type": "display_data"
    }
   ],
   "source": [
    "plt.figure(figsize=(15,10))\n",
    "ax = sns.barplot(x=data_mean['object_type'], y=data_mean['number'])\n",
    "sns.set_palette('dark')\n",
    "ax.set_xticklabels(ax.get_xticklabels(),rotation = 30)\n",
    "ax.set_title('Distribution of seats', fontdict={'fontsize':18}, pad=12)"
   ]
  },
  {
   "cell_type": "markdown",
   "metadata": {},
   "source": [
    "Уберем нулевые значения"
   ]
  },
  {
   "cell_type": "code",
   "execution_count": 23,
   "metadata": {},
   "outputs": [
    {
     "data": {
      "text/html": [
       "<div>\n",
       "<style scoped>\n",
       "    .dataframe tbody tr th:only-of-type {\n",
       "        vertical-align: middle;\n",
       "    }\n",
       "\n",
       "    .dataframe tbody tr th {\n",
       "        vertical-align: top;\n",
       "    }\n",
       "\n",
       "    .dataframe thead th {\n",
       "        text-align: right;\n",
       "    }\n",
       "</style>\n",
       "<table border=\"1\" class=\"dataframe\">\n",
       "  <thead>\n",
       "    <tr style=\"text-align: right;\">\n",
       "      <th></th>\n",
       "      <th>object_type</th>\n",
       "      <th>number</th>\n",
       "    </tr>\n",
       "  </thead>\n",
       "  <tbody>\n",
       "    <tr>\n",
       "      <th>0</th>\n",
       "      <td>фаст-фуд</td>\n",
       "      <td>5</td>\n",
       "    </tr>\n",
       "    <tr>\n",
       "      <th>1</th>\n",
       "      <td>кафетерий</td>\n",
       "      <td>6</td>\n",
       "    </tr>\n",
       "    <tr>\n",
       "      <th>2</th>\n",
       "      <td>кафе</td>\n",
       "      <td>30</td>\n",
       "    </tr>\n",
       "    <tr>\n",
       "      <th>3</th>\n",
       "      <td>буфет</td>\n",
       "      <td>32</td>\n",
       "    </tr>\n",
       "    <tr>\n",
       "      <th>4</th>\n",
       "      <td>бар</td>\n",
       "      <td>35</td>\n",
       "    </tr>\n",
       "    <tr>\n",
       "      <th>5</th>\n",
       "      <td>ресторан</td>\n",
       "      <td>80</td>\n",
       "    </tr>\n",
       "    <tr>\n",
       "      <th>6</th>\n",
       "      <td>столовая</td>\n",
       "      <td>103</td>\n",
       "    </tr>\n",
       "  </tbody>\n",
       "</table>\n",
       "</div>"
      ],
      "text/plain": [
       "  object_type  number\n",
       "0    фаст-фуд       5\n",
       "1   кафетерий       6\n",
       "2        кафе      30\n",
       "3       буфет      32\n",
       "4         бар      35\n",
       "5    ресторан      80\n",
       "6    столовая     103"
      ]
     },
     "execution_count": 23,
     "metadata": {},
     "output_type": "execute_result"
    }
   ],
   "source": [
    "data_mean_zero = data_mean[data_mean['number'] != 0]\n",
    "data_mean_zero = data_mean_zero.groupby('object_type')\\\n",
    ".agg({'number':'median'})\\\n",
    ".sort_values(by='number')\\\n",
    ".reset_index()\n",
    "data_mean_zero.head(10)"
   ]
  },
  {
   "cell_type": "code",
   "execution_count": 24,
   "metadata": {},
   "outputs": [
    {
     "data": {
      "text/plain": [
       "Text(0.5, 1.0, 'Distribution of seats')"
      ]
     },
     "execution_count": 24,
     "metadata": {},
     "output_type": "execute_result"
    },
    {
     "data": {
      "image/png": "[encoded data removed]",
      "text/plain": [
       "<Figure size 1080x720 with 1 Axes>"
      ]
     },
     "metadata": {},
     "output_type": "display_data"
    }
   ],
   "source": [
    "plt.figure(figsize=(15,10))\n",
    "ax = sns.barplot(x=data_mean_zero['object_type'], y=data_mean_zero['number'])\n",
    "sns.set_palette('dark')\n",
    "ax.set_xticklabels(ax.get_xticklabels(),rotation = 30)\n",
    "ax.set_title('Distribution of seats', fontdict={'fontsize':18}, pad=12)"
   ]
  },
  {
   "cell_type": "markdown",
   "metadata": {},
   "source": [
    "В топ-3 вида общественного питания по среднему показателю общего числа мест вошли: столовая, ресторан, бар. Здесь больше всего сидячих мест для посетителей.\n",
    "Результаты графиков и с учетом нулевого количества сидячих мест и без не отличаются."
   ]
  },
  {
   "cell_type": "markdown",
   "metadata": {},
   "source": [
    "### Выделим в отдельный столбец информацию об улице из столбца address."
   ]
  },
  {
   "cell_type": "markdown",
   "metadata": {},
   "source": [
    "Разделим информацию в столбце address по знаку ',' и создадим новый столбец street"
   ]
  },
  {
   "cell_type": "code",
   "execution_count": 25,
   "metadata": {},
   "outputs": [
    {
     "data": {
      "text/html": [
       "<div>\n",
       "<style scoped>\n",
       "    .dataframe tbody tr th:only-of-type {\n",
       "        vertical-align: middle;\n",
       "    }\n",
       "\n",
       "    .dataframe tbody tr th {\n",
       "        vertical-align: top;\n",
       "    }\n",
       "\n",
       "    .dataframe thead th {\n",
       "        text-align: right;\n",
       "    }\n",
       "</style>\n",
       "<table border=\"1\" class=\"dataframe\">\n",
       "  <thead>\n",
       "    <tr style=\"text-align: right;\">\n",
       "      <th></th>\n",
       "      <th>id</th>\n",
       "      <th>object_name</th>\n",
       "      <th>chain</th>\n",
       "      <th>object_type</th>\n",
       "      <th>address</th>\n",
       "      <th>number</th>\n",
       "      <th>street</th>\n",
       "    </tr>\n",
       "  </thead>\n",
       "  <tbody>\n",
       "    <tr>\n",
       "      <th>0</th>\n",
       "      <td>151635</td>\n",
       "      <td>сметана</td>\n",
       "      <td>False</td>\n",
       "      <td>кафе</td>\n",
       "      <td>город москва, улица егора абакумова, дом 9</td>\n",
       "      <td>48</td>\n",
       "      <td>улица егора абакумова</td>\n",
       "    </tr>\n",
       "    <tr>\n",
       "      <th>1</th>\n",
       "      <td>77874</td>\n",
       "      <td>родник</td>\n",
       "      <td>False</td>\n",
       "      <td>кафе</td>\n",
       "      <td>город москва, улица талалихина, дом 2/1, корпус 1</td>\n",
       "      <td>35</td>\n",
       "      <td>улица талалихина</td>\n",
       "    </tr>\n",
       "    <tr>\n",
       "      <th>2</th>\n",
       "      <td>24309</td>\n",
       "      <td>кафе «академия»</td>\n",
       "      <td>False</td>\n",
       "      <td>кафе</td>\n",
       "      <td>город москва, абельмановская улица, дом 6</td>\n",
       "      <td>95</td>\n",
       "      <td>абельмановская улица</td>\n",
       "    </tr>\n",
       "    <tr>\n",
       "      <th>3</th>\n",
       "      <td>21894</td>\n",
       "      <td>пиццетория</td>\n",
       "      <td>True</td>\n",
       "      <td>кафе</td>\n",
       "      <td>город москва, абрамцевская улица, дом 1</td>\n",
       "      <td>40</td>\n",
       "      <td>абрамцевская улица</td>\n",
       "    </tr>\n",
       "    <tr>\n",
       "      <th>4</th>\n",
       "      <td>119365</td>\n",
       "      <td>кафе «вишневая метель»</td>\n",
       "      <td>False</td>\n",
       "      <td>кафе</td>\n",
       "      <td>город москва, абрамцевская улица, дом 9, корпус 1</td>\n",
       "      <td>50</td>\n",
       "      <td>абрамцевская улица</td>\n",
       "    </tr>\n",
       "    <tr>\n",
       "      <th>5</th>\n",
       "      <td>27429</td>\n",
       "      <td>стол. при гоу сош № 1051</td>\n",
       "      <td>False</td>\n",
       "      <td>столовая</td>\n",
       "      <td>город москва, абрамцевская улица, дом 15, корп...</td>\n",
       "      <td>240</td>\n",
       "      <td>абрамцевская улица</td>\n",
       "    </tr>\n",
       "    <tr>\n",
       "      <th>6</th>\n",
       "      <td>148815</td>\n",
       "      <td>брусника</td>\n",
       "      <td>True</td>\n",
       "      <td>кафе</td>\n",
       "      <td>город москва, переулок сивцев вражек, дом 6/2</td>\n",
       "      <td>10</td>\n",
       "      <td>переулок сивцев вражек</td>\n",
       "    </tr>\n",
       "    <tr>\n",
       "      <th>7</th>\n",
       "      <td>20957</td>\n",
       "      <td>буфет мтуси</td>\n",
       "      <td>False</td>\n",
       "      <td>столовая</td>\n",
       "      <td>город москва, авиамоторная улица, дом 8, строе...</td>\n",
       "      <td>90</td>\n",
       "      <td>авиамоторная улица</td>\n",
       "    </tr>\n",
       "    <tr>\n",
       "      <th>8</th>\n",
       "      <td>20958</td>\n",
       "      <td>кпф семья-1</td>\n",
       "      <td>False</td>\n",
       "      <td>столовая</td>\n",
       "      <td>город москва, авиамоторная улица, дом 8, строе...</td>\n",
       "      <td>150</td>\n",
       "      <td>авиамоторная улица</td>\n",
       "    </tr>\n",
       "    <tr>\n",
       "      <th>9</th>\n",
       "      <td>28858</td>\n",
       "      <td>столовая мтуси</td>\n",
       "      <td>False</td>\n",
       "      <td>столовая</td>\n",
       "      <td>город москва, авиамоторная улица, дом 8, строе...</td>\n",
       "      <td>120</td>\n",
       "      <td>авиамоторная улица</td>\n",
       "    </tr>\n",
       "  </tbody>\n",
       "</table>\n",
       "</div>"
      ],
      "text/plain": [
       "       id               object_name  chain object_type  \\\n",
       "0  151635                   сметана  False        кафе   \n",
       "1   77874                    родник  False        кафе   \n",
       "2   24309           кафе «академия»  False        кафе   \n",
       "3   21894                пиццетория   True        кафе   \n",
       "4  119365    кафе «вишневая метель»  False        кафе   \n",
       "5   27429  стол. при гоу сош № 1051  False    столовая   \n",
       "6  148815                  брусника   True        кафе   \n",
       "7   20957               буфет мтуси  False    столовая   \n",
       "8   20958               кпф семья-1  False    столовая   \n",
       "9   28858            столовая мтуси  False    столовая   \n",
       "\n",
       "                                             address  number  \\\n",
       "0         город москва, улица егора абакумова, дом 9      48   \n",
       "1  город москва, улица талалихина, дом 2/1, корпус 1      35   \n",
       "2          город москва, абельмановская улица, дом 6      95   \n",
       "3            город москва, абрамцевская улица, дом 1      40   \n",
       "4  город москва, абрамцевская улица, дом 9, корпус 1      50   \n",
       "5  город москва, абрамцевская улица, дом 15, корп...     240   \n",
       "6      город москва, переулок сивцев вражек, дом 6/2      10   \n",
       "7  город москва, авиамоторная улица, дом 8, строе...      90   \n",
       "8  город москва, авиамоторная улица, дом 8, строе...     150   \n",
       "9  город москва, авиамоторная улица, дом 8, строе...     120   \n",
       "\n",
       "                   street  \n",
       "0   улица егора абакумова  \n",
       "1        улица талалихина  \n",
       "2    абельмановская улица  \n",
       "3      абрамцевская улица  \n",
       "4      абрамцевская улица  \n",
       "5      абрамцевская улица  \n",
       "6  переулок сивцев вражек  \n",
       "7      авиамоторная улица  \n",
       "8      авиамоторная улица  \n",
       "9      авиамоторная улица  "
      ]
     },
     "metadata": {},
     "output_type": "display_data"
    },
    {
     "data": {
      "text/plain": [
       "360"
      ]
     },
     "execution_count": 25,
     "metadata": {},
     "output_type": "execute_result"
    }
   ],
   "source": [
    "#Создадим функцию, которая будет проверять наличие ключевых слов из списка в столбце и возвращать адрес\n",
    "def add_street(df):\n",
    "    name_street = ['улица',\n",
    "                   'бульвар',\n",
    "                   'шоссе',\n",
    "                   'переулок',\n",
    "                   'проезд',\n",
    "                   'проспект',\n",
    "                   'набережная',\n",
    "                   'линия',\n",
    "                   'тупик',\n",
    "                   'километр',\n",
    "                   'аллея',\n",
    "                   'площадь']\n",
    "\n",
    "    for street in df:\n",
    "        for name in name_street:\n",
    "            if name in street:\n",
    "                return street\n",
    "\n",
    "data['street'] = data['address'].str.split(', ').apply(add_street)\n",
    "display(data.head(10))\n",
    "#Проверим наличие пропусков\n",
    "data['street'].isna().sum()"
   ]
  },
  {
   "cell_type": "markdown",
   "metadata": {},
   "source": [
    "Появились пропуски, потому как, не все названия адресов содержат то или иное обращение к улице"
   ]
  },
  {
   "cell_type": "code",
   "execution_count": 26,
   "metadata": {},
   "outputs": [
    {
     "data": {
      "text/html": [
       "<div>\n",
       "<style scoped>\n",
       "    .dataframe tbody tr th:only-of-type {\n",
       "        vertical-align: middle;\n",
       "    }\n",
       "\n",
       "    .dataframe tbody tr th {\n",
       "        vertical-align: top;\n",
       "    }\n",
       "\n",
       "    .dataframe thead th {\n",
       "        text-align: right;\n",
       "    }\n",
       "</style>\n",
       "<table border=\"1\" class=\"dataframe\">\n",
       "  <thead>\n",
       "    <tr style=\"text-align: right;\">\n",
       "      <th></th>\n",
       "      <th>id</th>\n",
       "      <th>object_name</th>\n",
       "      <th>chain</th>\n",
       "      <th>object_type</th>\n",
       "      <th>address</th>\n",
       "      <th>number</th>\n",
       "      <th>street</th>\n",
       "    </tr>\n",
       "  </thead>\n",
       "  <tbody>\n",
       "    <tr>\n",
       "      <th>0</th>\n",
       "      <td>151635</td>\n",
       "      <td>сметана</td>\n",
       "      <td>False</td>\n",
       "      <td>кафе</td>\n",
       "      <td>город москва, улица егора абакумова, дом 9</td>\n",
       "      <td>48</td>\n",
       "      <td>улица егора абакумова</td>\n",
       "    </tr>\n",
       "    <tr>\n",
       "      <th>1</th>\n",
       "      <td>77874</td>\n",
       "      <td>родник</td>\n",
       "      <td>False</td>\n",
       "      <td>кафе</td>\n",
       "      <td>город москва, улица талалихина, дом 2/1, корпус 1</td>\n",
       "      <td>35</td>\n",
       "      <td>улица талалихина</td>\n",
       "    </tr>\n",
       "    <tr>\n",
       "      <th>2</th>\n",
       "      <td>24309</td>\n",
       "      <td>кафе «академия»</td>\n",
       "      <td>False</td>\n",
       "      <td>кафе</td>\n",
       "      <td>город москва, абельмановская улица, дом 6</td>\n",
       "      <td>95</td>\n",
       "      <td>абельмановская улица</td>\n",
       "    </tr>\n",
       "    <tr>\n",
       "      <th>3</th>\n",
       "      <td>21894</td>\n",
       "      <td>пиццетория</td>\n",
       "      <td>True</td>\n",
       "      <td>кафе</td>\n",
       "      <td>город москва, абрамцевская улица, дом 1</td>\n",
       "      <td>40</td>\n",
       "      <td>абрамцевская улица</td>\n",
       "    </tr>\n",
       "    <tr>\n",
       "      <th>4</th>\n",
       "      <td>119365</td>\n",
       "      <td>кафе «вишневая метель»</td>\n",
       "      <td>False</td>\n",
       "      <td>кафе</td>\n",
       "      <td>город москва, абрамцевская улица, дом 9, корпус 1</td>\n",
       "      <td>50</td>\n",
       "      <td>абрамцевская улица</td>\n",
       "    </tr>\n",
       "    <tr>\n",
       "      <th>5</th>\n",
       "      <td>27429</td>\n",
       "      <td>стол. при гоу сош № 1051</td>\n",
       "      <td>False</td>\n",
       "      <td>столовая</td>\n",
       "      <td>город москва, абрамцевская улица, дом 15, корп...</td>\n",
       "      <td>240</td>\n",
       "      <td>абрамцевская улица</td>\n",
       "    </tr>\n",
       "    <tr>\n",
       "      <th>6</th>\n",
       "      <td>148815</td>\n",
       "      <td>брусника</td>\n",
       "      <td>True</td>\n",
       "      <td>кафе</td>\n",
       "      <td>город москва, переулок сивцев вражек, дом 6/2</td>\n",
       "      <td>10</td>\n",
       "      <td>переулок сивцев вражек</td>\n",
       "    </tr>\n",
       "    <tr>\n",
       "      <th>7</th>\n",
       "      <td>20957</td>\n",
       "      <td>буфет мтуси</td>\n",
       "      <td>False</td>\n",
       "      <td>столовая</td>\n",
       "      <td>город москва, авиамоторная улица, дом 8, строе...</td>\n",
       "      <td>90</td>\n",
       "      <td>авиамоторная улица</td>\n",
       "    </tr>\n",
       "    <tr>\n",
       "      <th>8</th>\n",
       "      <td>20958</td>\n",
       "      <td>кпф семья-1</td>\n",
       "      <td>False</td>\n",
       "      <td>столовая</td>\n",
       "      <td>город москва, авиамоторная улица, дом 8, строе...</td>\n",
       "      <td>150</td>\n",
       "      <td>авиамоторная улица</td>\n",
       "    </tr>\n",
       "    <tr>\n",
       "      <th>9</th>\n",
       "      <td>28858</td>\n",
       "      <td>столовая мтуси</td>\n",
       "      <td>False</td>\n",
       "      <td>столовая</td>\n",
       "      <td>город москва, авиамоторная улица, дом 8, строе...</td>\n",
       "      <td>120</td>\n",
       "      <td>авиамоторная улица</td>\n",
       "    </tr>\n",
       "  </tbody>\n",
       "</table>\n",
       "</div>"
      ],
      "text/plain": [
       "       id               object_name  chain object_type  \\\n",
       "0  151635                   сметана  False        кафе   \n",
       "1   77874                    родник  False        кафе   \n",
       "2   24309           кафе «академия»  False        кафе   \n",
       "3   21894                пиццетория   True        кафе   \n",
       "4  119365    кафе «вишневая метель»  False        кафе   \n",
       "5   27429  стол. при гоу сош № 1051  False    столовая   \n",
       "6  148815                  брусника   True        кафе   \n",
       "7   20957               буфет мтуси  False    столовая   \n",
       "8   20958               кпф семья-1  False    столовая   \n",
       "9   28858            столовая мтуси  False    столовая   \n",
       "\n",
       "                                             address  number  \\\n",
       "0         город москва, улица егора абакумова, дом 9      48   \n",
       "1  город москва, улица талалихина, дом 2/1, корпус 1      35   \n",
       "2          город москва, абельмановская улица, дом 6      95   \n",
       "3            город москва, абрамцевская улица, дом 1      40   \n",
       "4  город москва, абрамцевская улица, дом 9, корпус 1      50   \n",
       "5  город москва, абрамцевская улица, дом 15, корп...     240   \n",
       "6      город москва, переулок сивцев вражек, дом 6/2      10   \n",
       "7  город москва, авиамоторная улица, дом 8, строе...      90   \n",
       "8  город москва, авиамоторная улица, дом 8, строе...     150   \n",
       "9  город москва, авиамоторная улица, дом 8, строе...     120   \n",
       "\n",
       "                   street  \n",
       "0   улица егора абакумова  \n",
       "1        улица талалихина  \n",
       "2    абельмановская улица  \n",
       "3      абрамцевская улица  \n",
       "4      абрамцевская улица  \n",
       "5      абрамцевская улица  \n",
       "6  переулок сивцев вражек  \n",
       "7      авиамоторная улица  \n",
       "8      авиамоторная улица  \n",
       "9      авиамоторная улица  "
      ]
     },
     "metadata": {},
     "output_type": "display_data"
    },
    {
     "data": {
      "text/plain": [
       "0"
      ]
     },
     "execution_count": 26,
     "metadata": {},
     "output_type": "execute_result"
    }
   ],
   "source": [
    "#заполним пропуски в столбце street\n",
    "#создадим новую функцию и изменим ключевые слова в списке поиска \n",
    "def add_region(df):\n",
    "    name_region = ['посёлок',\n",
    "                   'село',\n",
    "                   'зеленоград',\n",
    "                   'деревня',\n",
    "                   'территория',\n",
    "                   'просек',\n",
    "                   'вблизи',\n",
    "                   'квартал',\n",
    "                   'микрорайон',\n",
    "                   'капотня',\n",
    "                   'площадь']\n",
    "\n",
    "    for street in df:\n",
    "        for name in name_region:\n",
    "            if name in street:\n",
    "                return street\n",
    "\n",
    "\n",
    "data.loc[data['street'].isna(), 'street'] = data['address'].str.split(', ').apply(add_region)\n",
    "display(data.head(10))\n",
    "data['street'].isna().sum() #Посмотрим остались ли пропуски"
   ]
  },
  {
   "cell_type": "markdown",
   "metadata": {},
   "source": [
    "### Построим график топ-10 улиц по количеству объектов общественного питания. Воспользуемся внешней информацией и выясним — в каких районах Москвы находятся эти улицы?"
   ]
  },
  {
   "cell_type": "code",
   "execution_count": 28,
   "metadata": {},
   "outputs": [
    {
     "data": {
      "text/html": [
       "<div>\n",
       "<style scoped>\n",
       "    .dataframe tbody tr th:only-of-type {\n",
       "        vertical-align: middle;\n",
       "    }\n",
       "\n",
       "    .dataframe tbody tr th {\n",
       "        vertical-align: top;\n",
       "    }\n",
       "\n",
       "    .dataframe thead th {\n",
       "        text-align: right;\n",
       "    }\n",
       "</style>\n",
       "<table border=\"1\" class=\"dataframe\">\n",
       "  <thead>\n",
       "    <tr style=\"text-align: right;\">\n",
       "      <th></th>\n",
       "      <th>id</th>\n",
       "      <th>object_name</th>\n",
       "      <th>chain</th>\n",
       "      <th>object_type</th>\n",
       "      <th>address</th>\n",
       "      <th>number</th>\n",
       "      <th>street</th>\n",
       "    </tr>\n",
       "  </thead>\n",
       "  <tbody>\n",
       "    <tr>\n",
       "      <th>0</th>\n",
       "      <td>151635</td>\n",
       "      <td>сметана</td>\n",
       "      <td>False</td>\n",
       "      <td>кафе</td>\n",
       "      <td>город москва, улица егора абакумова, дом 9</td>\n",
       "      <td>48</td>\n",
       "      <td>улица егора абакумова</td>\n",
       "    </tr>\n",
       "    <tr>\n",
       "      <th>1</th>\n",
       "      <td>77874</td>\n",
       "      <td>родник</td>\n",
       "      <td>False</td>\n",
       "      <td>кафе</td>\n",
       "      <td>город москва, улица талалихина, дом 2/1, корпус 1</td>\n",
       "      <td>35</td>\n",
       "      <td>улица талалихина</td>\n",
       "    </tr>\n",
       "    <tr>\n",
       "      <th>2</th>\n",
       "      <td>24309</td>\n",
       "      <td>кафе «академия»</td>\n",
       "      <td>False</td>\n",
       "      <td>кафе</td>\n",
       "      <td>город москва, абельмановская улица, дом 6</td>\n",
       "      <td>95</td>\n",
       "      <td>абельмановская улица</td>\n",
       "    </tr>\n",
       "    <tr>\n",
       "      <th>3</th>\n",
       "      <td>21894</td>\n",
       "      <td>пиццетория</td>\n",
       "      <td>True</td>\n",
       "      <td>кафе</td>\n",
       "      <td>город москва, абрамцевская улица, дом 1</td>\n",
       "      <td>40</td>\n",
       "      <td>абрамцевская улица</td>\n",
       "    </tr>\n",
       "    <tr>\n",
       "      <th>4</th>\n",
       "      <td>119365</td>\n",
       "      <td>кафе «вишневая метель»</td>\n",
       "      <td>False</td>\n",
       "      <td>кафе</td>\n",
       "      <td>город москва, абрамцевская улица, дом 9, корпус 1</td>\n",
       "      <td>50</td>\n",
       "      <td>абрамцевская улица</td>\n",
       "    </tr>\n",
       "  </tbody>\n",
       "</table>\n",
       "</div>"
      ],
      "text/plain": [
       "       id             object_name  chain object_type  \\\n",
       "0  151635                 сметана  False        кафе   \n",
       "1   77874                  родник  False        кафе   \n",
       "2   24309         кафе «академия»  False        кафе   \n",
       "3   21894              пиццетория   True        кафе   \n",
       "4  119365  кафе «вишневая метель»  False        кафе   \n",
       "\n",
       "                                             address  number  \\\n",
       "0         город москва, улица егора абакумова, дом 9      48   \n",
       "1  город москва, улица талалихина, дом 2/1, корпус 1      35   \n",
       "2          город москва, абельмановская улица, дом 6      95   \n",
       "3            город москва, абрамцевская улица, дом 1      40   \n",
       "4  город москва, абрамцевская улица, дом 9, корпус 1      50   \n",
       "\n",
       "                  street  \n",
       "0  улица егора абакумова  \n",
       "1       улица талалихина  \n",
       "2   абельмановская улица  \n",
       "3     абрамцевская улица  \n",
       "4     абрамцевская улица  "
      ]
     },
     "execution_count": 28,
     "metadata": {},
     "output_type": "execute_result"
    }
   ],
   "source": [
    "data.head()"
   ]
  },
  {
   "cell_type": "markdown",
   "metadata": {},
   "source": [
    "Сперва сгруппируем датафрейм по улицам и для каждой посчитаем количество заведений\n",
    "Выведем топ-10 улиц"
   ]
  },
  {
   "cell_type": "code",
   "execution_count": 29,
   "metadata": {},
   "outputs": [
    {
     "data": {
      "text/html": [
       "<div>\n",
       "<style scoped>\n",
       "    .dataframe tbody tr th:only-of-type {\n",
       "        vertical-align: middle;\n",
       "    }\n",
       "\n",
       "    .dataframe tbody tr th {\n",
       "        vertical-align: top;\n",
       "    }\n",
       "\n",
       "    .dataframe thead th {\n",
       "        text-align: right;\n",
       "    }\n",
       "</style>\n",
       "<table border=\"1\" class=\"dataframe\">\n",
       "  <thead>\n",
       "    <tr style=\"text-align: right;\">\n",
       "      <th></th>\n",
       "      <th>street</th>\n",
       "      <th>count</th>\n",
       "    </tr>\n",
       "  </thead>\n",
       "  <tbody>\n",
       "    <tr>\n",
       "      <th>0</th>\n",
       "      <td>проспект мира</td>\n",
       "      <td>204</td>\n",
       "    </tr>\n",
       "    <tr>\n",
       "      <th>1</th>\n",
       "      <td>профсоюзная улица</td>\n",
       "      <td>183</td>\n",
       "    </tr>\n",
       "    <tr>\n",
       "      <th>2</th>\n",
       "      <td>ленинградский проспект</td>\n",
       "      <td>173</td>\n",
       "    </tr>\n",
       "    <tr>\n",
       "      <th>3</th>\n",
       "      <td>пресненская набережная</td>\n",
       "      <td>167</td>\n",
       "    </tr>\n",
       "    <tr>\n",
       "      <th>4</th>\n",
       "      <td>варшавское шоссе</td>\n",
       "      <td>165</td>\n",
       "    </tr>\n",
       "    <tr>\n",
       "      <th>5</th>\n",
       "      <td>ленинский проспект</td>\n",
       "      <td>148</td>\n",
       "    </tr>\n",
       "    <tr>\n",
       "      <th>6</th>\n",
       "      <td>проспект вернадского</td>\n",
       "      <td>132</td>\n",
       "    </tr>\n",
       "    <tr>\n",
       "      <th>7</th>\n",
       "      <td>город зеленоград</td>\n",
       "      <td>129</td>\n",
       "    </tr>\n",
       "    <tr>\n",
       "      <th>8</th>\n",
       "      <td>кутузовский проспект</td>\n",
       "      <td>114</td>\n",
       "    </tr>\n",
       "    <tr>\n",
       "      <th>9</th>\n",
       "      <td>каширское шоссе</td>\n",
       "      <td>112</td>\n",
       "    </tr>\n",
       "  </tbody>\n",
       "</table>\n",
       "</div>"
      ],
      "text/plain": [
       "                   street  count\n",
       "0           проспект мира    204\n",
       "1       профсоюзная улица    183\n",
       "2  ленинградский проспект    173\n",
       "3  пресненская набережная    167\n",
       "4        варшавское шоссе    165\n",
       "5      ленинский проспект    148\n",
       "6    проспект вернадского    132\n",
       "7        город зеленоград    129\n",
       "8    кутузовский проспект    114\n",
       "9         каширское шоссе    112"
      ]
     },
     "metadata": {},
     "output_type": "display_data"
    }
   ],
   "source": [
    "data_street = data.groupby('street').agg({'id': 'count'}).sort_values(by='id', ascending=False).reset_index()\n",
    "data_streets = data_street.head(10)\n",
    "data_streets.columns = ['street', 'count']\n",
    "display(data_streets)"
   ]
  },
  {
   "cell_type": "code",
   "execution_count": 30,
   "metadata": {},
   "outputs": [
    {
     "data": {
      "text/plain": [
       "Text(0.5, 1.0, 'Distribution of seats')"
      ]
     },
     "execution_count": 30,
     "metadata": {},
     "output_type": "execute_result"
    },
    {
     "data": {
      "image/png": "[encoded data removed]",
      "text/plain": [
       "<Figure size 1080x720 with 1 Axes>"
      ]
     },
     "metadata": {},
     "output_type": "display_data"
    }
   ],
   "source": [
    "#Построим столбчатую гистограмму для топ-10 улиц по количеству заведений\n",
    "plt.figure(figsize=(15,10))\n",
    "ax = sns.barplot(x=data_streets['street'], y=data_streets['count'])\n",
    "sns.set_palette('dark')\n",
    "ax.set_xticklabels(ax.get_xticklabels(),rotation = 30)\n",
    "ax.set_title('Distribution of seats', fontdict={'fontsize':18}, pad=12)"
   ]
  },
  {
   "cell_type": "markdown",
   "metadata": {},
   "source": [
    "Свыше 200 заведений на Проспекте мира\n",
    "Более 150 заведений располагаются на уллицах: Профсоюзная улица, Ленинградский проспект, Пресненская набережная и Варшавское шоссе.\n",
    "Улицы входящие в топ-10 являются одними из самых больших по протяженности в Москве. Некоторые из них входят сразу в два административных округа, а то и в три как Ленинский проспект. На подобных улицах города логично большое скопление заведений. Исключением являются Зеленоград, т.к. это отдельный город в МО и Пресненская набережная - небольшая улица с юга огибающая район Москва-Сити, где очень большой трафик людей в день."
   ]
  },
  {
   "cell_type": "markdown",
   "metadata": {},
   "source": [
    "Теперь воспользуемся сторонней информацией и определим район и административный округ для каждой улицы из десятки лидеров"
   ]
  },
  {
   "cell_type": "code",
   "execution_count": 31,
   "metadata": {},
   "outputs": [
    {
     "data": {
      "text/html": [
       "<div>\n",
       "<style scoped>\n",
       "    .dataframe tbody tr th:only-of-type {\n",
       "        vertical-align: middle;\n",
       "    }\n",
       "\n",
       "    .dataframe tbody tr th {\n",
       "        vertical-align: top;\n",
       "    }\n",
       "\n",
       "    .dataframe thead th {\n",
       "        text-align: right;\n",
       "    }\n",
       "</style>\n",
       "<table border=\"1\" class=\"dataframe\">\n",
       "  <thead>\n",
       "    <tr style=\"text-align: right;\">\n",
       "      <th></th>\n",
       "      <th>street</th>\n",
       "      <th>areaid</th>\n",
       "      <th>okrug</th>\n",
       "      <th>area</th>\n",
       "    </tr>\n",
       "  </thead>\n",
       "  <tbody>\n",
       "    <tr>\n",
       "      <th>0</th>\n",
       "      <td>выставочный переулок</td>\n",
       "      <td>17</td>\n",
       "      <td>ЦАО</td>\n",
       "      <td>Пресненский район</td>\n",
       "    </tr>\n",
       "    <tr>\n",
       "      <th>1</th>\n",
       "      <td>улица гашека</td>\n",
       "      <td>17</td>\n",
       "      <td>ЦАО</td>\n",
       "      <td>Пресненский район</td>\n",
       "    </tr>\n",
       "    <tr>\n",
       "      <th>2</th>\n",
       "      <td>большая никитская улица</td>\n",
       "      <td>17</td>\n",
       "      <td>ЦАО</td>\n",
       "      <td>Пресненский район</td>\n",
       "    </tr>\n",
       "    <tr>\n",
       "      <th>3</th>\n",
       "      <td>глубокий переулок</td>\n",
       "      <td>17</td>\n",
       "      <td>ЦАО</td>\n",
       "      <td>Пресненский район</td>\n",
       "    </tr>\n",
       "    <tr>\n",
       "      <th>4</th>\n",
       "      <td>большой гнездниковский переулок</td>\n",
       "      <td>17</td>\n",
       "      <td>ЦАО</td>\n",
       "      <td>Пресненский район</td>\n",
       "    </tr>\n",
       "  </tbody>\n",
       "</table>\n",
       "</div>"
      ],
      "text/plain": [
       "                            street  areaid okrug               area\n",
       "0             выставочный переулок      17   ЦАО  Пресненский район\n",
       "1                     улица гашека      17   ЦАО  Пресненский район\n",
       "2          большая никитская улица      17   ЦАО  Пресненский район\n",
       "3                глубокий переулок      17   ЦАО  Пресненский район\n",
       "4  большой гнездниковский переулок      17   ЦАО  Пресненский район"
      ]
     },
     "metadata": {},
     "output_type": "display_data"
    }
   ],
   "source": [
    "# обращаемся к внешнему df\n",
    "spreadsheet_id = '1fGtfX_6otenOiCBRzt61bQe9l3gB7B8BEp-qPcWkRKA'\n",
    "file_name = 'https://docs.google.com/spreadsheets/d/{}/export?format=csv'.format(spreadsheet_id)\n",
    "r = requests.get(file_name)\n",
    "moscow_streets = pd.read_csv(BytesIO(r.content))\n",
    "moscow_streets['streetname'] = moscow_streets['streetname'].str.lower()\n",
    "moscow_streets = moscow_streets.rename(columns={'streetname': 'street'})\n",
    "display(moscow_streets.head())"
   ]
  },
  {
   "cell_type": "markdown",
   "metadata": {},
   "source": [
    "Соединим внешний датафрейм с нашим"
   ]
  },
  {
   "cell_type": "code",
   "execution_count": 32,
   "metadata": {},
   "outputs": [
    {
     "data": {
      "text/html": [
       "<div>\n",
       "<style scoped>\n",
       "    .dataframe tbody tr th:only-of-type {\n",
       "        vertical-align: middle;\n",
       "    }\n",
       "\n",
       "    .dataframe tbody tr th {\n",
       "        vertical-align: top;\n",
       "    }\n",
       "\n",
       "    .dataframe thead th {\n",
       "        text-align: right;\n",
       "    }\n",
       "</style>\n",
       "<table border=\"1\" class=\"dataframe\">\n",
       "  <thead>\n",
       "    <tr style=\"text-align: right;\">\n",
       "      <th></th>\n",
       "      <th>street</th>\n",
       "      <th>okrug</th>\n",
       "      <th>area</th>\n",
       "    </tr>\n",
       "  </thead>\n",
       "  <tbody>\n",
       "    <tr>\n",
       "      <th>0</th>\n",
       "      <td>проспект мира</td>\n",
       "      <td>СВАО</td>\n",
       "      <td>Алексеевский район</td>\n",
       "    </tr>\n",
       "    <tr>\n",
       "      <th>1</th>\n",
       "      <td>проспект мира</td>\n",
       "      <td>СВАО</td>\n",
       "      <td>Ярославский Район</td>\n",
       "    </tr>\n",
       "    <tr>\n",
       "      <th>2</th>\n",
       "      <td>проспект мира</td>\n",
       "      <td>СВАО</td>\n",
       "      <td>Район Марьина роща</td>\n",
       "    </tr>\n",
       "    <tr>\n",
       "      <th>3</th>\n",
       "      <td>проспект мира</td>\n",
       "      <td>СВАО</td>\n",
       "      <td>Останкинский район</td>\n",
       "    </tr>\n",
       "    <tr>\n",
       "      <th>4</th>\n",
       "      <td>проспект мира</td>\n",
       "      <td>СВАО</td>\n",
       "      <td>Район Ростокино</td>\n",
       "    </tr>\n",
       "    <tr>\n",
       "      <th>5</th>\n",
       "      <td>проспект мира</td>\n",
       "      <td>СВАО</td>\n",
       "      <td>Район Свиблово</td>\n",
       "    </tr>\n",
       "    <tr>\n",
       "      <th>6</th>\n",
       "      <td>проспект мира</td>\n",
       "      <td>ЦАО</td>\n",
       "      <td>Мещанский район</td>\n",
       "    </tr>\n",
       "    <tr>\n",
       "      <th>7</th>\n",
       "      <td>профсоюзная улица</td>\n",
       "      <td>ЮЗАО</td>\n",
       "      <td>Академический район</td>\n",
       "    </tr>\n",
       "    <tr>\n",
       "      <th>8</th>\n",
       "      <td>профсоюзная улица</td>\n",
       "      <td>ЮЗАО</td>\n",
       "      <td>Район Черемушки</td>\n",
       "    </tr>\n",
       "    <tr>\n",
       "      <th>9</th>\n",
       "      <td>профсоюзная улица</td>\n",
       "      <td>ЮЗАО</td>\n",
       "      <td>Район Ясенево</td>\n",
       "    </tr>\n",
       "    <tr>\n",
       "      <th>10</th>\n",
       "      <td>профсоюзная улица</td>\n",
       "      <td>ЮЗАО</td>\n",
       "      <td>Район Коньково</td>\n",
       "    </tr>\n",
       "    <tr>\n",
       "      <th>11</th>\n",
       "      <td>профсоюзная улица</td>\n",
       "      <td>ЮЗАО</td>\n",
       "      <td>Обручевский район</td>\n",
       "    </tr>\n",
       "    <tr>\n",
       "      <th>12</th>\n",
       "      <td>профсоюзная улица</td>\n",
       "      <td>ЮЗАО</td>\n",
       "      <td>Район Теплый Стан</td>\n",
       "    </tr>\n",
       "    <tr>\n",
       "      <th>13</th>\n",
       "      <td>ленинградский проспект</td>\n",
       "      <td>САО</td>\n",
       "      <td>Район Аэропорт</td>\n",
       "    </tr>\n",
       "    <tr>\n",
       "      <th>14</th>\n",
       "      <td>ленинградский проспект</td>\n",
       "      <td>САО</td>\n",
       "      <td>Район Беговой</td>\n",
       "    </tr>\n",
       "    <tr>\n",
       "      <th>15</th>\n",
       "      <td>ленинградский проспект</td>\n",
       "      <td>САО</td>\n",
       "      <td>Хорошевский район</td>\n",
       "    </tr>\n",
       "    <tr>\n",
       "      <th>16</th>\n",
       "      <td>ленинградский проспект</td>\n",
       "      <td>САО</td>\n",
       "      <td>Район Сокол</td>\n",
       "    </tr>\n",
       "    <tr>\n",
       "      <th>17</th>\n",
       "      <td>пресненская набережная</td>\n",
       "      <td>ЦАО</td>\n",
       "      <td>Пресненский район</td>\n",
       "    </tr>\n",
       "    <tr>\n",
       "      <th>18</th>\n",
       "      <td>варшавское шоссе</td>\n",
       "      <td>ЮАО</td>\n",
       "      <td>Район Чертаново Центральное</td>\n",
       "    </tr>\n",
       "    <tr>\n",
       "      <th>19</th>\n",
       "      <td>варшавское шоссе</td>\n",
       "      <td>ЮАО</td>\n",
       "      <td>Район Чертаново Северное</td>\n",
       "    </tr>\n",
       "    <tr>\n",
       "      <th>20</th>\n",
       "      <td>варшавское шоссе</td>\n",
       "      <td>ЮАО</td>\n",
       "      <td>Район Чертаново Южное</td>\n",
       "    </tr>\n",
       "    <tr>\n",
       "      <th>21</th>\n",
       "      <td>варшавское шоссе</td>\n",
       "      <td>ЮАО</td>\n",
       "      <td>Донской район</td>\n",
       "    </tr>\n",
       "    <tr>\n",
       "      <th>22</th>\n",
       "      <td>варшавское шоссе</td>\n",
       "      <td>ЮАО</td>\n",
       "      <td>Район Нагатино-Садовники</td>\n",
       "    </tr>\n",
       "    <tr>\n",
       "      <th>23</th>\n",
       "      <td>варшавское шоссе</td>\n",
       "      <td>ЮАО</td>\n",
       "      <td>Нагорный район</td>\n",
       "    </tr>\n",
       "    <tr>\n",
       "      <th>24</th>\n",
       "      <td>варшавское шоссе</td>\n",
       "      <td>ЮЗАО</td>\n",
       "      <td>Район Северное Бутово</td>\n",
       "    </tr>\n",
       "    <tr>\n",
       "      <th>25</th>\n",
       "      <td>варшавское шоссе</td>\n",
       "      <td>ЮЗАО</td>\n",
       "      <td>Район Южное Бутово</td>\n",
       "    </tr>\n",
       "    <tr>\n",
       "      <th>26</th>\n",
       "      <td>ленинский проспект</td>\n",
       "      <td>ЗАО</td>\n",
       "      <td>Район Проспект Вернадского</td>\n",
       "    </tr>\n",
       "    <tr>\n",
       "      <th>27</th>\n",
       "      <td>ленинский проспект</td>\n",
       "      <td>ЗАО</td>\n",
       "      <td>Район Тропарево-Никулино</td>\n",
       "    </tr>\n",
       "    <tr>\n",
       "      <th>28</th>\n",
       "      <td>ленинский проспект</td>\n",
       "      <td>ЮАО</td>\n",
       "      <td>Донской район</td>\n",
       "    </tr>\n",
       "    <tr>\n",
       "      <th>29</th>\n",
       "      <td>ленинский проспект</td>\n",
       "      <td>ЮЗАО</td>\n",
       "      <td>Район Гагаринский</td>\n",
       "    </tr>\n",
       "    <tr>\n",
       "      <th>30</th>\n",
       "      <td>ленинский проспект</td>\n",
       "      <td>ЮЗАО</td>\n",
       "      <td>Ломоносовский район</td>\n",
       "    </tr>\n",
       "    <tr>\n",
       "      <th>31</th>\n",
       "      <td>ленинский проспект</td>\n",
       "      <td>ЮЗАО</td>\n",
       "      <td>Обручевский район</td>\n",
       "    </tr>\n",
       "    <tr>\n",
       "      <th>32</th>\n",
       "      <td>ленинский проспект</td>\n",
       "      <td>ЮЗАО</td>\n",
       "      <td>Район Теплый Стан</td>\n",
       "    </tr>\n",
       "    <tr>\n",
       "      <th>33</th>\n",
       "      <td>ленинский проспект</td>\n",
       "      <td>ЦАО</td>\n",
       "      <td>Район Якиманка</td>\n",
       "    </tr>\n",
       "    <tr>\n",
       "      <th>34</th>\n",
       "      <td>проспект вернадского</td>\n",
       "      <td>ЗАО</td>\n",
       "      <td>Район Проспект Вернадского</td>\n",
       "    </tr>\n",
       "    <tr>\n",
       "      <th>35</th>\n",
       "      <td>проспект вернадского</td>\n",
       "      <td>ЗАО</td>\n",
       "      <td>Район Раменки</td>\n",
       "    </tr>\n",
       "    <tr>\n",
       "      <th>36</th>\n",
       "      <td>проспект вернадского</td>\n",
       "      <td>ЗАО</td>\n",
       "      <td>Район Тропарево-Никулино</td>\n",
       "    </tr>\n",
       "    <tr>\n",
       "      <th>37</th>\n",
       "      <td>проспект вернадского</td>\n",
       "      <td>ЮЗАО</td>\n",
       "      <td>Район Гагаринский</td>\n",
       "    </tr>\n",
       "    <tr>\n",
       "      <th>38</th>\n",
       "      <td>проспект вернадского</td>\n",
       "      <td>ЮЗАО</td>\n",
       "      <td>Ломоносовский район</td>\n",
       "    </tr>\n",
       "    <tr>\n",
       "      <th>39</th>\n",
       "      <td>город зеленоград</td>\n",
       "      <td>Зеленоград</td>\n",
       "      <td>Район Крюково</td>\n",
       "    </tr>\n",
       "    <tr>\n",
       "      <th>40</th>\n",
       "      <td>город зеленоград</td>\n",
       "      <td>Зеленоград</td>\n",
       "      <td>Район Матушкино-Савелки</td>\n",
       "    </tr>\n",
       "    <tr>\n",
       "      <th>41</th>\n",
       "      <td>город зеленоград</td>\n",
       "      <td>Зеленоград</td>\n",
       "      <td>Панфиловский район</td>\n",
       "    </tr>\n",
       "    <tr>\n",
       "      <th>42</th>\n",
       "      <td>кутузовский проспект</td>\n",
       "      <td>ЗАО</td>\n",
       "      <td>Район Дорогомилово</td>\n",
       "    </tr>\n",
       "    <tr>\n",
       "      <th>43</th>\n",
       "      <td>кутузовский проспект</td>\n",
       "      <td>ЗАО</td>\n",
       "      <td>Район Фили-Давыдково</td>\n",
       "    </tr>\n",
       "    <tr>\n",
       "      <th>44</th>\n",
       "      <td>каширское шоссе</td>\n",
       "      <td>ЮАО</td>\n",
       "      <td>Район Москворечье-Сабурово</td>\n",
       "    </tr>\n",
       "    <tr>\n",
       "      <th>45</th>\n",
       "      <td>каширское шоссе</td>\n",
       "      <td>ЮАО</td>\n",
       "      <td>Район Нагатино-Садовники</td>\n",
       "    </tr>\n",
       "    <tr>\n",
       "      <th>46</th>\n",
       "      <td>каширское шоссе</td>\n",
       "      <td>ЮАО</td>\n",
       "      <td>Район Орехово-Борисово Южное</td>\n",
       "    </tr>\n",
       "    <tr>\n",
       "      <th>47</th>\n",
       "      <td>каширское шоссе</td>\n",
       "      <td>ЮАО</td>\n",
       "      <td>Район Орехово-Борисово Северное</td>\n",
       "    </tr>\n",
       "  </tbody>\n",
       "</table>\n",
       "</div>"
      ],
      "text/plain": [
       "                    street       okrug                             area\n",
       "0            проспект мира        СВАО               Алексеевский район\n",
       "1            проспект мира        СВАО                Ярославский Район\n",
       "2            проспект мира        СВАО               Район Марьина роща\n",
       "3            проспект мира        СВАО               Останкинский район\n",
       "4            проспект мира        СВАО                  Район Ростокино\n",
       "5            проспект мира        СВАО                   Район Свиблово\n",
       "6            проспект мира         ЦАО                  Мещанский район\n",
       "7        профсоюзная улица        ЮЗАО              Академический район\n",
       "8        профсоюзная улица        ЮЗАО                  Район Черемушки\n",
       "9        профсоюзная улица        ЮЗАО                    Район Ясенево\n",
       "10       профсоюзная улица        ЮЗАО                   Район Коньково\n",
       "11       профсоюзная улица        ЮЗАО                Обручевский район\n",
       "12       профсоюзная улица        ЮЗАО                Район Теплый Стан\n",
       "13  ленинградский проспект         САО                   Район Аэропорт\n",
       "14  ленинградский проспект         САО                    Район Беговой\n",
       "15  ленинградский проспект         САО                Хорошевский район\n",
       "16  ленинградский проспект         САО                      Район Сокол\n",
       "17  пресненская набережная         ЦАО                Пресненский район\n",
       "18        варшавское шоссе         ЮАО      Район Чертаново Центральное\n",
       "19        варшавское шоссе         ЮАО         Район Чертаново Северное\n",
       "20        варшавское шоссе         ЮАО            Район Чертаново Южное\n",
       "21        варшавское шоссе         ЮАО                    Донской район\n",
       "22        варшавское шоссе         ЮАО         Район Нагатино-Садовники\n",
       "23        варшавское шоссе         ЮАО                   Нагорный район\n",
       "24        варшавское шоссе        ЮЗАО            Район Северное Бутово\n",
       "25        варшавское шоссе        ЮЗАО               Район Южное Бутово\n",
       "26      ленинский проспект         ЗАО       Район Проспект Вернадского\n",
       "27      ленинский проспект         ЗАО         Район Тропарево-Никулино\n",
       "28      ленинский проспект         ЮАО                    Донской район\n",
       "29      ленинский проспект        ЮЗАО                Район Гагаринский\n",
       "30      ленинский проспект        ЮЗАО              Ломоносовский район\n",
       "31      ленинский проспект        ЮЗАО                Обручевский район\n",
       "32      ленинский проспект        ЮЗАО                Район Теплый Стан\n",
       "33      ленинский проспект         ЦАО                   Район Якиманка\n",
       "34    проспект вернадского         ЗАО       Район Проспект Вернадского\n",
       "35    проспект вернадского         ЗАО                    Район Раменки\n",
       "36    проспект вернадского         ЗАО         Район Тропарево-Никулино\n",
       "37    проспект вернадского        ЮЗАО                Район Гагаринский\n",
       "38    проспект вернадского        ЮЗАО              Ломоносовский район\n",
       "39        город зеленоград  Зеленоград                    Район Крюково\n",
       "40        город зеленоград  Зеленоград          Район Матушкино-Савелки\n",
       "41        город зеленоград  Зеленоград               Панфиловский район\n",
       "42    кутузовский проспект         ЗАО               Район Дорогомилово\n",
       "43    кутузовский проспект         ЗАО             Район Фили-Давыдково\n",
       "44         каширское шоссе         ЮАО       Район Москворечье-Сабурово\n",
       "45         каширское шоссе         ЮАО         Район Нагатино-Садовники\n",
       "46         каширское шоссе         ЮАО     Район Орехово-Борисово Южное\n",
       "47         каширское шоссе         ЮАО  Район Орехово-Борисово Северное"
      ]
     },
     "execution_count": 32,
     "metadata": {},
     "output_type": "execute_result"
    }
   ],
   "source": [
    "moscow_result = data_streets.merge(moscow_streets, on='street', how='left')\n",
    "#Удалим ненужные столбцы\n",
    "del moscow_result['areaid']\n",
    "del moscow_result['count']\n",
    "moscow_result"
   ]
  },
  {
   "cell_type": "markdown",
   "metadata": {},
   "source": [
    "Топ улиц в основном располагается в южной, юго-западной и западной частях города. Административные округи обусловлены лишь географическим расположением столь длинных улиц города, их сосредоточие выпало на эти районы. А так все улицы являются главным сообщением области и самого города в своем направлении. Потому там всегда большой трафик людей."
   ]
  },
  {
   "cell_type": "markdown",
   "metadata": {},
   "source": [
    "### Найдем число улиц с одним объектом общественного питания. Воспользуемся внешней информацией и выясним — в каких районах Москвы находятся эти улицы?"
   ]
  },
  {
   "cell_type": "code",
   "execution_count": 33,
   "metadata": {},
   "outputs": [
    {
     "data": {
      "text/plain": [
       "593"
      ]
     },
     "metadata": {},
     "output_type": "display_data"
    },
    {
     "data": {
      "text/html": [
       "<div>\n",
       "<style scoped>\n",
       "    .dataframe tbody tr th:only-of-type {\n",
       "        vertical-align: middle;\n",
       "    }\n",
       "\n",
       "    .dataframe tbody tr th {\n",
       "        vertical-align: top;\n",
       "    }\n",
       "\n",
       "    .dataframe thead th {\n",
       "        text-align: right;\n",
       "    }\n",
       "</style>\n",
       "<table border=\"1\" class=\"dataframe\">\n",
       "  <thead>\n",
       "    <tr style=\"text-align: right;\">\n",
       "      <th></th>\n",
       "      <th>street</th>\n",
       "      <th>id</th>\n",
       "    </tr>\n",
       "  </thead>\n",
       "  <tbody>\n",
       "    <tr>\n",
       "      <th>1392</th>\n",
       "      <td>улица линии октябрьской железной дороги</td>\n",
       "      <td>1</td>\n",
       "    </tr>\n",
       "    <tr>\n",
       "      <th>1393</th>\n",
       "      <td>архангельский переулок</td>\n",
       "      <td>1</td>\n",
       "    </tr>\n",
       "    <tr>\n",
       "      <th>1394</th>\n",
       "      <td>астрадамский проезд</td>\n",
       "      <td>1</td>\n",
       "    </tr>\n",
       "    <tr>\n",
       "      <th>1395</th>\n",
       "      <td>улица лапина</td>\n",
       "      <td>1</td>\n",
       "    </tr>\n",
       "    <tr>\n",
       "      <th>1396</th>\n",
       "      <td>44-й километр</td>\n",
       "      <td>1</td>\n",
       "    </tr>\n",
       "  </tbody>\n",
       "</table>\n",
       "</div>"
      ],
      "text/plain": [
       "                                       street  id\n",
       "1392  улица линии октябрьской железной дороги   1\n",
       "1393                   архангельский переулок   1\n",
       "1394                      астрадамский проезд   1\n",
       "1395                             улица лапина   1\n",
       "1396                            44-й километр   1"
      ]
     },
     "metadata": {},
     "output_type": "display_data"
    }
   ],
   "source": [
    "#Сделаем срез в который войдут улицы только с одним заведением\n",
    "data_one_streets = data_street[data_street['id'] == 1]\n",
    "display(len(data_one_streets))\n",
    "display(data_one_streets.head())"
   ]
  },
  {
   "cell_type": "code",
   "execution_count": 34,
   "metadata": {},
   "outputs": [
    {
     "data": {
      "text/html": [
       "<div>\n",
       "<style scoped>\n",
       "    .dataframe tbody tr th:only-of-type {\n",
       "        vertical-align: middle;\n",
       "    }\n",
       "\n",
       "    .dataframe tbody tr th {\n",
       "        vertical-align: top;\n",
       "    }\n",
       "\n",
       "    .dataframe thead th {\n",
       "        text-align: right;\n",
       "    }\n",
       "</style>\n",
       "<table border=\"1\" class=\"dataframe\">\n",
       "  <thead>\n",
       "    <tr style=\"text-align: right;\">\n",
       "      <th></th>\n",
       "      <th>street</th>\n",
       "      <th>okrug</th>\n",
       "      <th>area</th>\n",
       "    </tr>\n",
       "  </thead>\n",
       "  <tbody>\n",
       "    <tr>\n",
       "      <th>0</th>\n",
       "      <td>улица линии октябрьской железной дороги</td>\n",
       "      <td>САО</td>\n",
       "      <td>Тимирязевский Район</td>\n",
       "    </tr>\n",
       "    <tr>\n",
       "      <th>1</th>\n",
       "      <td>архангельский переулок</td>\n",
       "      <td>ЦАО</td>\n",
       "      <td>Басманный район</td>\n",
       "    </tr>\n",
       "    <tr>\n",
       "      <th>2</th>\n",
       "      <td>астрадамский проезд</td>\n",
       "      <td>САО</td>\n",
       "      <td>Тимирязевский Район</td>\n",
       "    </tr>\n",
       "    <tr>\n",
       "      <th>3</th>\n",
       "      <td>улица лапина</td>\n",
       "      <td>ЮВАО</td>\n",
       "      <td>Район Лефортово</td>\n",
       "    </tr>\n",
       "    <tr>\n",
       "      <th>4</th>\n",
       "      <td>44-й километр</td>\n",
       "      <td>NaN</td>\n",
       "      <td>NaN</td>\n",
       "    </tr>\n",
       "    <tr>\n",
       "      <th>...</th>\n",
       "      <td>...</td>\n",
       "      <td>...</td>\n",
       "      <td>...</td>\n",
       "    </tr>\n",
       "    <tr>\n",
       "      <th>634</th>\n",
       "      <td>деревня бунчиха</td>\n",
       "      <td>NaN</td>\n",
       "      <td>NaN</td>\n",
       "    </tr>\n",
       "    <tr>\n",
       "      <th>635</th>\n",
       "      <td>деревня бабенки</td>\n",
       "      <td>NaN</td>\n",
       "      <td>NaN</td>\n",
       "    </tr>\n",
       "    <tr>\n",
       "      <th>636</th>\n",
       "      <td>улица 9 мая</td>\n",
       "      <td>ВАО</td>\n",
       "      <td>Район Восточный</td>\n",
       "    </tr>\n",
       "    <tr>\n",
       "      <th>637</th>\n",
       "      <td>улица авиаконструктора микояна</td>\n",
       "      <td>САО</td>\n",
       "      <td>Хорошевский район</td>\n",
       "    </tr>\n",
       "    <tr>\n",
       "      <th>638</th>\n",
       "      <td>яхромская улица</td>\n",
       "      <td>САО</td>\n",
       "      <td>Дмитровский район</td>\n",
       "    </tr>\n",
       "  </tbody>\n",
       "</table>\n",
       "<p>639 rows × 3 columns</p>\n",
       "</div>"
      ],
      "text/plain": [
       "                                      street okrug                 area\n",
       "0    улица линии октябрьской железной дороги   САО  Тимирязевский Район\n",
       "1                     архангельский переулок   ЦАО      Басманный район\n",
       "2                        астрадамский проезд   САО  Тимирязевский Район\n",
       "3                               улица лапина  ЮВАО      Район Лефортово\n",
       "4                              44-й километр   NaN                  NaN\n",
       "..                                       ...   ...                  ...\n",
       "634                          деревня бунчиха   NaN                  NaN\n",
       "635                          деревня бабенки   NaN                  NaN\n",
       "636                              улица 9 мая   ВАО      Район Восточный\n",
       "637           улица авиаконструктора микояна   САО    Хорошевский район\n",
       "638                          яхромская улица   САО    Дмитровский район\n",
       "\n",
       "[639 rows x 3 columns]"
      ]
     },
     "execution_count": 34,
     "metadata": {},
     "output_type": "execute_result"
    }
   ],
   "source": [
    "#Проведем сшивание нашего df и внешнего\n",
    "data_one_streets_result = data_one_streets.merge(moscow_streets, on='street', how='left')\n",
    "#Удаляем ненужные столбцы\n",
    "del data_one_streets_result['areaid']\n",
    "del data_one_streets_result['id']\n",
    "data_one_streets_result"
   ]
  },
  {
   "cell_type": "code",
   "execution_count": 35,
   "metadata": {},
   "outputs": [
    {
     "data": {
      "text/plain": [
       "ЦАО           186\n",
       "ВАО            72\n",
       "СВАО           66\n",
       "ЮВАО           55\n",
       "САО            55\n",
       "ЗАО            45\n",
       "ЮАО            29\n",
       "СЗАО           27\n",
       "ЮЗАО           27\n",
       "Зеленоград      5\n",
       "Name: okrug, dtype: int64"
      ]
     },
     "execution_count": 35,
     "metadata": {},
     "output_type": "execute_result"
    }
   ],
   "source": [
    "data_one_streets_result['okrug'].value_counts()"
   ]
  },
  {
   "cell_type": "markdown",
   "metadata": {},
   "source": [
    "Общее количество улиц с одним заведением равно 593\n",
    "По количеству заведений лидирует ЦАО (в 2,5 раза больше по сравнению с второй строчкой рейтинга), что вполне ожидаемо т.к. это центр города. Второе третье место у ВАО и СВАО, далее показатели плавно снижаются на величину до 50%. Меньше всего соответственно в Зеленограде в СЗАО, ЮЗАО и ЮАО Москвы."
   ]
  },
  {
   "cell_type": "markdown",
   "metadata": {},
   "source": [
    "Улицы сами по себе маленькие и географически охватывают лишь несколько кварталов, потому на них и не может быть физически много заведений."
   ]
  },
  {
   "cell_type": "markdown",
   "metadata": {},
   "source": [
    "## Общий вывод:"
   ]
  },
  {
   "cell_type": "markdown",
   "metadata": {},
   "source": [
    "Самое распространённое заведение - кафе. Далее Столовая, ресторан, фаст-фуд\n",
    "Доля сетевых заведений небольшая - 24%. Характерно сетевое распространение в основном для Фаст-фуда. Для большинства сетевых заведений так же характерно небольшое количество посадочных мест.\n",
    "В среднем наибольшее количество мест предоставляет столовая - 103. Ресторан - 80. Бар - 35.\n",
    "Большинство заведений располагаются на следующих улицах: проспект мира, профсоюзная улица, ленинградский проспект, пресненская набережная, варшавское шоссе, ленинский проспект, проспект вернадского, город зеленоград, кутузовский проспект, каширское шоссе. \n",
    "Количество единичных заведений расположенных на одну улицу - 593.\n",
    "Оптимальное количество посадочных мест 40 - 50."
   ]
  },
  {
   "cell_type": "markdown",
   "metadata": {},
   "source": [
    "## Рекомендации:\n",
    "\n",
    "Наиболее перспективным заведением будет фаст-фуд с оптимальным количеством мест 40-50. У заведений фаст-фуд наибольшая вероятность перерасти в сеть. \n",
    "Перспективные места: \n",
    "самым лучшим вариантом исходя из популярности места будет Пресненская набережная (район Москва-Сити, ЦАО) здесь очень высокий трафик людей(4-ое место в топ-10 по кол. заведений), да и потом высокие шансы на то что инновационную идею с роботами оценят, так же в ЦАО много туристов что соответствует стратегии оригинальности при привлечении все новых и новых клиентов; \n",
    "другим оптимальным вариантом будет выбор из топ-10 улиц ЮЗАО(Ленинский проспект, Профсоюзная улица и проспект Вернадского), здесь не так много заведений в аналогии с СЗАО и улицы обладают высоким трафиком людей, что даст неоспоримое преимущество, даже если риск конкуренции низок."
   ]
  },
  {
   "cell_type": "markdown",
   "metadata": {},
   "source": [
    "### Презентация: https://yadi.sk/i/nn6WXzmnvT51JQ"
   ]
  }
 ],
 "metadata": {
  "ExecuteTimeLog": [
   {
    "duration": 70,
    "start_time": "2022-05-21T08:06:32.360Z"
   },
   {
    "duration": 1511,
    "start_time": "2022-05-21T08:07:08.331Z"
   },
   {
    "duration": 92,
    "start_time": "2022-05-21T08:07:09.844Z"
   },
   {
    "duration": 109,
    "start_time": "2022-05-21T08:07:19.708Z"
   },
   {
    "duration": 69,
    "start_time": "2022-05-21T08:30:47.763Z"
   },
   {
    "duration": 107,
    "start_time": "2022-05-21T08:32:36.173Z"
   },
   {
    "duration": 143,
    "start_time": "2022-05-21T08:41:38.691Z"
   },
   {
    "duration": 90,
    "start_time": "2022-05-21T08:48:30.611Z"
   },
   {
    "duration": 666,
    "start_time": "2022-05-21T08:56:24.934Z"
   },
   {
    "duration": 8,
    "start_time": "2022-05-21T16:20:19.778Z"
   },
   {
    "duration": 9,
    "start_time": "2022-05-21T16:20:27.112Z"
   },
   {
    "duration": 4,
    "start_time": "2022-05-21T16:20:29.663Z"
   },
   {
    "duration": 89,
    "start_time": "2022-05-21T16:20:29.669Z"
   },
   {
    "duration": 473,
    "start_time": "2022-05-21T16:20:29.760Z"
   },
   {
    "duration": 466,
    "start_time": "2022-05-21T16:20:50.966Z"
   },
   {
    "duration": 445,
    "start_time": "2022-05-21T16:22:04.214Z"
   },
   {
    "duration": 447,
    "start_time": "2022-05-21T16:22:11.807Z"
   },
   {
    "duration": 148,
    "start_time": "2022-05-21T16:29:47.896Z"
   },
   {
    "duration": 149,
    "start_time": "2022-05-21T16:29:58.257Z"
   },
   {
    "duration": 130,
    "start_time": "2022-05-21T16:30:13.068Z"
   },
   {
    "duration": 163,
    "start_time": "2022-05-21T16:34:31.789Z"
   },
   {
    "duration": 129,
    "start_time": "2022-05-21T16:34:42.885Z"
   },
   {
    "duration": 135,
    "start_time": "2022-05-21T16:34:48.214Z"
   },
   {
    "duration": 4,
    "start_time": "2022-05-21T16:39:36.056Z"
   },
   {
    "duration": 106,
    "start_time": "2022-05-21T16:39:36.062Z"
   },
   {
    "duration": 165,
    "start_time": "2022-05-21T16:39:36.170Z"
   },
   {
    "duration": 134,
    "start_time": "2022-05-21T16:41:22.999Z"
   },
   {
    "duration": 9,
    "start_time": "2022-05-21T16:48:41.574Z"
   },
   {
    "duration": 9,
    "start_time": "2022-05-21T16:49:09.810Z"
   },
   {
    "duration": 1126,
    "start_time": "2022-05-21T16:49:31.504Z"
   },
   {
    "duration": 110,
    "start_time": "2022-05-21T16:49:32.632Z"
   },
   {
    "duration": 32,
    "start_time": "2022-05-21T16:49:32.749Z"
   },
   {
    "duration": 22196,
    "start_time": "2022-05-21T16:49:32.783Z"
   },
   {
    "duration": 32,
    "start_time": "2022-05-21T16:50:02.576Z"
   },
   {
    "duration": 23059,
    "start_time": "2022-05-21T16:51:46.685Z"
   },
   {
    "duration": 22927,
    "start_time": "2022-05-21T16:52:16.455Z"
   },
   {
    "duration": 23635,
    "start_time": "2022-05-21T16:52:57.262Z"
   },
   {
    "duration": 22758,
    "start_time": "2022-05-21T16:57:49.156Z"
   },
   {
    "duration": 518,
    "start_time": "2022-05-21T16:58:45.665Z"
   },
   {
    "duration": 483,
    "start_time": "2022-05-21T16:59:16.036Z"
   },
   {
    "duration": 18,
    "start_time": "2022-05-21T17:05:56.483Z"
   },
   {
    "duration": 19,
    "start_time": "2022-05-21T17:06:06.048Z"
   },
   {
    "duration": 544,
    "start_time": "2022-05-21T17:06:46.206Z"
   },
   {
    "duration": 853,
    "start_time": "2022-05-21T17:07:22.948Z"
   },
   {
    "duration": 17,
    "start_time": "2022-05-21T17:09:08.149Z"
   },
   {
    "duration": 13,
    "start_time": "2022-05-21T17:10:06.407Z"
   },
   {
    "duration": 483,
    "start_time": "2022-05-21T17:10:34.162Z"
   },
   {
    "duration": 1542,
    "start_time": "2022-05-21T17:11:13.248Z"
   },
   {
    "duration": 102,
    "start_time": "2022-05-21T17:12:18.528Z"
   },
   {
    "duration": 21,
    "start_time": "2022-05-21T17:13:48.034Z"
   },
   {
    "duration": 20,
    "start_time": "2022-05-21T17:15:04.027Z"
   },
   {
    "duration": 11,
    "start_time": "2022-05-21T17:15:22.266Z"
   },
   {
    "duration": 23,
    "start_time": "2022-05-21T17:15:44.025Z"
   },
   {
    "duration": 24,
    "start_time": "2022-05-21T17:17:52.200Z"
   },
   {
    "duration": 17,
    "start_time": "2022-05-21T17:18:01.369Z"
   },
   {
    "duration": 19,
    "start_time": "2022-05-21T17:18:28.278Z"
   },
   {
    "duration": 186,
    "start_time": "2022-05-21T17:19:03.913Z"
   },
   {
    "duration": 188,
    "start_time": "2022-05-21T17:20:03.552Z"
   },
   {
    "duration": 265,
    "start_time": "2022-05-21T17:20:35.158Z"
   },
   {
    "duration": 204,
    "start_time": "2022-05-21T17:20:44.078Z"
   },
   {
    "duration": 19,
    "start_time": "2022-05-21T17:25:33.698Z"
   },
   {
    "duration": 20,
    "start_time": "2022-05-21T17:25:50.486Z"
   },
   {
    "duration": 197,
    "start_time": "2022-05-21T17:25:54.423Z"
   },
   {
    "duration": 23,
    "start_time": "2022-05-21T17:26:02.502Z"
   },
   {
    "duration": 195,
    "start_time": "2022-05-21T17:26:04.735Z"
   },
   {
    "duration": 368,
    "start_time": "2022-05-21T17:26:42.060Z"
   },
   {
    "duration": 86,
    "start_time": "2022-05-21T17:26:42.430Z"
   },
   {
    "duration": 27,
    "start_time": "2022-05-21T17:26:43.476Z"
   },
   {
    "duration": 19,
    "start_time": "2022-05-21T17:26:44.500Z"
   },
   {
    "duration": 228,
    "start_time": "2022-05-21T17:26:45.076Z"
   },
   {
    "duration": 188,
    "start_time": "2022-05-21T17:26:48.988Z"
   },
   {
    "duration": 1911,
    "start_time": "2022-05-21T17:28:00.070Z"
   },
   {
    "duration": 101,
    "start_time": "2022-05-21T17:28:01.984Z"
   },
   {
    "duration": 27,
    "start_time": "2022-05-21T17:28:02.758Z"
   },
   {
    "duration": 19,
    "start_time": "2022-05-21T17:28:03.599Z"
   },
   {
    "duration": 215,
    "start_time": "2022-05-21T17:28:04.056Z"
   },
   {
    "duration": 91,
    "start_time": "2022-05-22T13:01:23.693Z"
   },
   {
    "duration": 1625,
    "start_time": "2022-05-22T13:01:31.121Z"
   },
   {
    "duration": 2368,
    "start_time": "2022-05-22T13:01:32.748Z"
   },
   {
    "duration": 201,
    "start_time": "2022-05-22T13:01:35.119Z"
   },
   {
    "duration": 53,
    "start_time": "2022-05-22T13:01:35.322Z"
   },
   {
    "duration": 23,
    "start_time": "2022-05-22T13:01:35.378Z"
   },
   {
    "duration": 433,
    "start_time": "2022-05-22T13:01:35.404Z"
   },
   {
    "duration": 245,
    "start_time": "2022-05-22T13:01:50.167Z"
   },
   {
    "duration": 16,
    "start_time": "2022-05-22T13:11:16.947Z"
   },
   {
    "duration": 23,
    "start_time": "2022-05-22T13:11:20.054Z"
   },
   {
    "duration": 260,
    "start_time": "2022-05-22T13:11:20.744Z"
   },
   {
    "duration": 30,
    "start_time": "2022-05-22T13:30:35.740Z"
   },
   {
    "duration": 31,
    "start_time": "2022-05-22T13:30:39.089Z"
   },
   {
    "duration": 37,
    "start_time": "2022-05-22T13:30:39.788Z"
   },
   {
    "duration": 22,
    "start_time": "2022-05-22T13:30:43.485Z"
   },
   {
    "duration": 251,
    "start_time": "2022-05-22T13:30:44.198Z"
   },
   {
    "duration": 43,
    "start_time": "2022-05-22T13:31:27.316Z"
   },
   {
    "duration": 47,
    "start_time": "2022-05-22T13:31:51.664Z"
   },
   {
    "duration": 22,
    "start_time": "2022-05-22T13:32:10.802Z"
   },
   {
    "duration": 45,
    "start_time": "2022-05-22T13:32:13.587Z"
   },
   {
    "duration": 44,
    "start_time": "2022-05-22T13:32:14.683Z"
   },
   {
    "duration": 9,
    "start_time": "2022-05-22T13:32:23.165Z"
   },
   {
    "duration": 2698,
    "start_time": "2022-05-22T13:32:23.176Z"
   },
   {
    "duration": 153,
    "start_time": "2022-05-22T13:32:25.877Z"
   },
   {
    "duration": 41,
    "start_time": "2022-05-22T13:32:26.032Z"
   },
   {
    "duration": 47,
    "start_time": "2022-05-22T13:32:26.075Z"
   },
   {
    "duration": 20,
    "start_time": "2022-05-22T13:32:26.124Z"
   },
   {
    "duration": 280,
    "start_time": "2022-05-22T13:32:26.145Z"
   },
   {
    "duration": 19,
    "start_time": "2022-05-22T14:09:07.438Z"
   },
   {
    "duration": 16,
    "start_time": "2022-05-22T14:11:15.835Z"
   },
   {
    "duration": 20,
    "start_time": "2022-05-22T14:11:20.248Z"
   },
   {
    "duration": 245,
    "start_time": "2022-05-22T14:11:20.768Z"
   },
   {
    "duration": 11,
    "start_time": "2022-05-22T14:13:49.446Z"
   },
   {
    "duration": 13,
    "start_time": "2022-05-22T14:13:59.379Z"
   },
   {
    "duration": 4,
    "start_time": "2022-05-22T14:14:03.179Z"
   },
   {
    "duration": 2475,
    "start_time": "2022-05-22T14:14:03.185Z"
   },
   {
    "duration": 112,
    "start_time": "2022-05-22T14:14:05.662Z"
   },
   {
    "duration": 31,
    "start_time": "2022-05-22T14:14:05.776Z"
   },
   {
    "duration": 17,
    "start_time": "2022-05-22T14:14:05.810Z"
   },
   {
    "duration": 51,
    "start_time": "2022-05-22T14:14:05.828Z"
   },
   {
    "duration": 237,
    "start_time": "2022-05-22T14:14:05.880Z"
   },
   {
    "duration": 50,
    "start_time": "2022-05-22T14:14:16.377Z"
   },
   {
    "duration": 16,
    "start_time": "2022-05-22T14:14:33.944Z"
   },
   {
    "duration": 5,
    "start_time": "2022-05-22T14:14:38.290Z"
   },
   {
    "duration": 2706,
    "start_time": "2022-05-22T14:14:38.297Z"
   },
   {
    "duration": 144,
    "start_time": "2022-05-22T14:14:41.007Z"
   },
   {
    "duration": 31,
    "start_time": "2022-05-22T14:14:41.165Z"
   },
   {
    "duration": 18,
    "start_time": "2022-05-22T14:14:41.199Z"
   },
   {
    "duration": 60,
    "start_time": "2022-05-22T14:14:41.219Z"
   },
   {
    "duration": 257,
    "start_time": "2022-05-22T14:14:41.282Z"
   },
   {
    "duration": 7,
    "start_time": "2022-05-22T14:16:01.063Z"
   },
   {
    "duration": 6,
    "start_time": "2022-05-22T14:16:45.725Z"
   },
   {
    "duration": 913,
    "start_time": "2022-05-22T14:17:11.331Z"
   },
   {
    "duration": 7,
    "start_time": "2022-05-22T14:18:22.275Z"
   },
   {
    "duration": 121,
    "start_time": "2022-05-22T14:18:46.478Z"
   },
   {
    "duration": 13,
    "start_time": "2022-05-22T14:19:58.288Z"
   },
   {
    "duration": 16,
    "start_time": "2022-05-22T14:20:24.739Z"
   },
   {
    "duration": 13,
    "start_time": "2022-05-22T14:20:31.980Z"
   },
   {
    "duration": 11,
    "start_time": "2022-05-22T14:20:39.349Z"
   },
   {
    "duration": 191,
    "start_time": "2022-05-22T14:21:07.896Z"
   },
   {
    "duration": 180,
    "start_time": "2022-05-22T14:22:06.360Z"
   },
   {
    "duration": 922,
    "start_time": "2022-05-22T14:25:18.752Z"
   },
   {
    "duration": 214,
    "start_time": "2022-05-22T14:25:29.427Z"
   },
   {
    "duration": 113,
    "start_time": "2022-05-22T14:26:03.407Z"
   },
   {
    "duration": 120,
    "start_time": "2022-05-22T14:27:08.087Z"
   },
   {
    "duration": 121,
    "start_time": "2022-05-22T14:27:45.758Z"
   },
   {
    "duration": 107,
    "start_time": "2022-05-22T14:50:34.584Z"
   },
   {
    "duration": 107,
    "start_time": "2022-05-22T14:50:40.097Z"
   },
   {
    "duration": 105,
    "start_time": "2022-05-22T14:50:46.641Z"
   },
   {
    "duration": 112,
    "start_time": "2022-05-22T14:51:23.110Z"
   },
   {
    "duration": 242,
    "start_time": "2022-05-22T14:52:10.292Z"
   },
   {
    "duration": 145,
    "start_time": "2022-05-22T14:52:54.417Z"
   },
   {
    "duration": 144,
    "start_time": "2022-05-22T14:54:07.018Z"
   },
   {
    "duration": 142,
    "start_time": "2022-05-22T14:54:22.853Z"
   },
   {
    "duration": 139,
    "start_time": "2022-05-22T14:54:26.829Z"
   },
   {
    "duration": 323,
    "start_time": "2022-05-22T15:24:48.950Z"
   },
   {
    "duration": 18,
    "start_time": "2022-05-22T15:25:44.218Z"
   },
   {
    "duration": 348,
    "start_time": "2022-05-22T15:46:54.972Z"
   },
   {
    "duration": 18,
    "start_time": "2022-05-22T15:47:17.952Z"
   },
   {
    "duration": 465,
    "start_time": "2022-05-22T15:47:46.188Z"
   },
   {
    "duration": 312,
    "start_time": "2022-05-22T15:49:01.036Z"
   },
   {
    "duration": 20,
    "start_time": "2022-05-22T15:49:40.074Z"
   },
   {
    "duration": 208,
    "start_time": "2022-05-22T15:50:01.676Z"
   },
   {
    "duration": 403,
    "start_time": "2022-05-22T15:50:13.551Z"
   },
   {
    "duration": 131,
    "start_time": "2022-05-22T15:50:33.811Z"
   },
   {
    "duration": 23,
    "start_time": "2022-05-22T15:51:06.092Z"
   },
   {
    "duration": 15,
    "start_time": "2022-05-22T15:51:17.990Z"
   },
   {
    "duration": 13,
    "start_time": "2022-05-22T15:51:29.399Z"
   },
   {
    "duration": 13,
    "start_time": "2022-05-22T15:51:47.546Z"
   },
   {
    "duration": 14,
    "start_time": "2022-05-22T15:55:41.775Z"
   },
   {
    "duration": 217,
    "start_time": "2022-05-22T15:55:44.519Z"
   },
   {
    "duration": 218,
    "start_time": "2022-05-22T15:57:27.035Z"
   },
   {
    "duration": 4,
    "start_time": "2022-05-22T15:58:57.535Z"
   },
   {
    "duration": 308,
    "start_time": "2022-05-22T15:58:58.176Z"
   },
   {
    "duration": 22,
    "start_time": "2022-05-22T16:00:40.341Z"
   },
   {
    "duration": 17,
    "start_time": "2022-05-22T16:00:41.924Z"
   },
   {
    "duration": 255,
    "start_time": "2022-05-22T16:00:44.476Z"
   },
   {
    "duration": 5,
    "start_time": "2022-05-22T16:00:44.908Z"
   },
   {
    "duration": 312,
    "start_time": "2022-05-22T16:00:45.556Z"
   },
   {
    "duration": 53,
    "start_time": "2022-05-23T13:20:48.072Z"
   },
   {
    "duration": 1578,
    "start_time": "2022-05-23T13:20:52.659Z"
   },
   {
    "duration": 2070,
    "start_time": "2022-05-23T13:20:54.238Z"
   },
   {
    "duration": 149,
    "start_time": "2022-05-23T13:20:56.310Z"
   },
   {
    "duration": 27,
    "start_time": "2022-05-23T13:20:56.460Z"
   },
   {
    "duration": 14,
    "start_time": "2022-05-23T13:20:56.490Z"
   },
   {
    "duration": 26,
    "start_time": "2022-05-23T13:20:56.506Z"
   },
   {
    "duration": 238,
    "start_time": "2022-05-23T13:20:56.559Z"
   },
   {
    "duration": 10,
    "start_time": "2022-05-23T13:20:56.799Z"
   },
   {
    "duration": 178,
    "start_time": "2022-05-23T13:20:56.811Z"
   },
   {
    "duration": 20,
    "start_time": "2022-05-23T13:20:56.991Z"
   },
   {
    "duration": 14,
    "start_time": "2022-05-23T13:20:57.012Z"
   },
   {
    "duration": 276,
    "start_time": "2022-05-23T13:20:57.028Z"
   },
   {
    "duration": 3,
    "start_time": "2022-05-23T13:20:57.306Z"
   },
   {
    "duration": 208,
    "start_time": "2022-05-23T13:20:57.312Z"
   },
   {
    "duration": 81,
    "start_time": "2022-05-23T13:20:57.521Z"
   },
   {
    "duration": 0,
    "start_time": "2022-05-23T13:20:57.604Z"
   },
   {
    "duration": 10,
    "start_time": "2022-05-23T13:21:27.492Z"
   },
   {
    "duration": 10,
    "start_time": "2022-05-23T13:21:31.420Z"
   },
   {
    "duration": 11,
    "start_time": "2022-05-23T13:26:47.353Z"
   },
   {
    "duration": 274,
    "start_time": "2022-05-23T13:26:52.602Z"
   },
   {
    "duration": 170,
    "start_time": "2022-05-23T13:40:37.907Z"
   },
   {
    "duration": 26,
    "start_time": "2022-05-23T14:05:50.984Z"
   },
   {
    "duration": 145,
    "start_time": "2022-05-23T15:00:04.504Z"
   },
   {
    "duration": 214,
    "start_time": "2022-05-23T15:00:30.799Z"
   },
   {
    "duration": 233,
    "start_time": "2022-05-23T15:00:55.863Z"
   },
   {
    "duration": 12,
    "start_time": "2022-05-23T15:00:58.500Z"
   },
   {
    "duration": 188,
    "start_time": "2022-05-23T15:00:58.812Z"
   },
   {
    "duration": 141,
    "start_time": "2022-05-23T15:01:30.377Z"
   },
   {
    "duration": 200,
    "start_time": "2022-05-23T15:02:05.349Z"
   },
   {
    "duration": 283,
    "start_time": "2022-05-23T15:02:37.237Z"
   },
   {
    "duration": 5,
    "start_time": "2022-05-23T15:02:39.993Z"
   },
   {
    "duration": 267,
    "start_time": "2022-05-23T15:02:40.185Z"
   },
   {
    "duration": 278,
    "start_time": "2022-05-23T15:09:39.939Z"
   },
   {
    "duration": 414,
    "start_time": "2022-05-23T15:09:48.242Z"
   },
   {
    "duration": 267,
    "start_time": "2022-05-23T15:09:56.547Z"
   },
   {
    "duration": 308,
    "start_time": "2022-05-23T15:10:08.284Z"
   },
   {
    "duration": 304,
    "start_time": "2022-05-23T15:10:46.669Z"
   },
   {
    "duration": 319,
    "start_time": "2022-05-23T15:10:53.554Z"
   },
   {
    "duration": 13,
    "start_time": "2022-05-23T15:11:27.905Z"
   },
   {
    "duration": 7,
    "start_time": "2022-05-23T15:11:32.594Z"
   },
   {
    "duration": 272,
    "start_time": "2022-05-23T15:11:32.951Z"
   },
   {
    "duration": 8,
    "start_time": "2022-05-23T15:12:06.390Z"
   },
   {
    "duration": 233,
    "start_time": "2022-05-23T15:12:07.048Z"
   },
   {
    "duration": 203,
    "start_time": "2022-05-23T15:12:13.852Z"
   },
   {
    "duration": 9,
    "start_time": "2022-05-23T15:14:20.145Z"
   },
   {
    "duration": 193,
    "start_time": "2022-05-23T15:14:21.574Z"
   },
   {
    "duration": 4,
    "start_time": "2022-05-23T15:15:35.047Z"
   },
   {
    "duration": 174,
    "start_time": "2022-05-23T15:15:35.440Z"
   },
   {
    "duration": 23,
    "start_time": "2022-05-23T15:16:04.277Z"
   },
   {
    "duration": 4,
    "start_time": "2022-05-23T15:16:13.454Z"
   },
   {
    "duration": 181,
    "start_time": "2022-05-23T15:16:13.861Z"
   },
   {
    "duration": 6,
    "start_time": "2022-05-23T15:17:27.247Z"
   },
   {
    "duration": 173,
    "start_time": "2022-05-23T15:17:27.815Z"
   },
   {
    "duration": 9,
    "start_time": "2022-05-23T15:18:33.594Z"
   },
   {
    "duration": 197,
    "start_time": "2022-05-23T15:18:34.247Z"
   },
   {
    "duration": 8,
    "start_time": "2022-05-23T15:18:44.618Z"
   },
   {
    "duration": 192,
    "start_time": "2022-05-23T15:18:45.060Z"
   },
   {
    "duration": 8,
    "start_time": "2022-05-23T15:19:21.009Z"
   },
   {
    "duration": 220,
    "start_time": "2022-05-23T15:19:21.510Z"
   },
   {
    "duration": 10,
    "start_time": "2022-05-23T15:19:25.963Z"
   },
   {
    "duration": 195,
    "start_time": "2022-05-23T15:19:26.376Z"
   },
   {
    "duration": 39,
    "start_time": "2022-05-23T17:06:01.072Z"
   },
   {
    "duration": 167,
    "start_time": "2022-05-23T17:06:12.199Z"
   },
   {
    "duration": 238,
    "start_time": "2022-05-23T17:21:35.499Z"
   },
   {
    "duration": 49,
    "start_time": "2022-05-23T17:23:14.120Z"
   },
   {
    "duration": 47,
    "start_time": "2022-05-23T17:23:21.263Z"
   },
   {
    "duration": 44,
    "start_time": "2022-05-23T17:26:45.803Z"
   },
   {
    "duration": 49,
    "start_time": "2022-05-23T17:28:01.206Z"
   },
   {
    "duration": 48,
    "start_time": "2022-05-23T17:28:35.355Z"
   },
   {
    "duration": 51,
    "start_time": "2022-05-23T17:28:44.344Z"
   },
   {
    "duration": 48,
    "start_time": "2022-05-23T17:28:51.266Z"
   },
   {
    "duration": 58,
    "start_time": "2022-05-23T17:29:37.090Z"
   },
   {
    "duration": 11,
    "start_time": "2022-05-23T17:30:29.352Z"
   },
   {
    "duration": 38,
    "start_time": "2022-05-23T17:30:47.160Z"
   },
   {
    "duration": 23,
    "start_time": "2022-05-23T17:30:56.753Z"
   },
   {
    "duration": 15,
    "start_time": "2022-05-23T17:31:01.994Z"
   },
   {
    "duration": 16,
    "start_time": "2022-05-23T17:31:12.588Z"
   },
   {
    "duration": 13,
    "start_time": "2022-05-23T18:53:52.244Z"
   },
   {
    "duration": 33,
    "start_time": "2022-05-23T18:54:12.203Z"
   },
   {
    "duration": 22,
    "start_time": "2022-05-23T18:54:22.028Z"
   },
   {
    "duration": 266,
    "start_time": "2022-05-23T18:57:14.563Z"
   },
   {
    "duration": 53,
    "start_time": "2022-05-23T18:57:24.122Z"
   },
   {
    "duration": 61,
    "start_time": "2022-05-23T18:57:30.156Z"
   },
   {
    "duration": 6,
    "start_time": "2022-05-23T18:59:46.539Z"
   },
   {
    "duration": 9,
    "start_time": "2022-05-23T18:59:58.406Z"
   },
   {
    "duration": 26,
    "start_time": "2022-05-23T19:00:20.785Z"
   },
   {
    "duration": 63,
    "start_time": "2022-05-23T19:29:52.603Z"
   },
   {
    "duration": 61,
    "start_time": "2022-05-24T09:24:14.524Z"
   },
   {
    "duration": 1603,
    "start_time": "2022-05-24T09:24:19.884Z"
   },
   {
    "duration": 2511,
    "start_time": "2022-05-24T09:24:21.489Z"
   },
   {
    "duration": 170,
    "start_time": "2022-05-24T09:24:24.002Z"
   },
   {
    "duration": 32,
    "start_time": "2022-05-24T09:24:24.174Z"
   },
   {
    "duration": 13,
    "start_time": "2022-05-24T09:24:24.208Z"
   },
   {
    "duration": 19,
    "start_time": "2022-05-24T09:24:24.223Z"
   },
   {
    "duration": 325,
    "start_time": "2022-05-24T09:24:24.243Z"
   },
   {
    "duration": 9,
    "start_time": "2022-05-24T09:24:24.569Z"
   },
   {
    "duration": 172,
    "start_time": "2022-05-24T09:24:24.579Z"
   },
   {
    "duration": 19,
    "start_time": "2022-05-24T09:24:24.753Z"
   },
   {
    "duration": 28,
    "start_time": "2022-05-24T09:24:24.774Z"
   },
   {
    "duration": 227,
    "start_time": "2022-05-24T09:24:24.804Z"
   },
   {
    "duration": 4,
    "start_time": "2022-05-24T09:24:25.033Z"
   },
   {
    "duration": 241,
    "start_time": "2022-05-24T09:24:25.039Z"
   },
   {
    "duration": 39,
    "start_time": "2022-05-24T09:24:25.281Z"
   },
   {
    "duration": 575,
    "start_time": "2022-05-24T09:24:25.322Z"
   },
   {
    "duration": 0,
    "start_time": "2022-05-24T09:24:25.899Z"
   },
   {
    "duration": 0,
    "start_time": "2022-05-24T09:24:25.900Z"
   },
   {
    "duration": 0,
    "start_time": "2022-05-24T09:24:25.901Z"
   },
   {
    "duration": 0,
    "start_time": "2022-05-24T09:24:25.903Z"
   },
   {
    "duration": 0,
    "start_time": "2022-05-24T09:24:25.904Z"
   },
   {
    "duration": 0,
    "start_time": "2022-05-24T09:24:25.905Z"
   },
   {
    "duration": 0,
    "start_time": "2022-05-24T09:24:25.907Z"
   },
   {
    "duration": 0,
    "start_time": "2022-05-24T09:24:25.908Z"
   },
   {
    "duration": 0,
    "start_time": "2022-05-24T09:24:25.910Z"
   },
   {
    "duration": 0,
    "start_time": "2022-05-24T09:24:25.911Z"
   },
   {
    "duration": 30,
    "start_time": "2022-05-24T09:25:02.368Z"
   },
   {
    "duration": 1391,
    "start_time": "2022-05-24T09:25:03.025Z"
   },
   {
    "duration": 3,
    "start_time": "2022-05-24T09:25:26.098Z"
   },
   {
    "duration": 531,
    "start_time": "2022-05-24T09:25:28.051Z"
   },
   {
    "duration": 32,
    "start_time": "2022-05-24T09:26:02.207Z"
   },
   {
    "duration": 2,
    "start_time": "2022-05-24T09:26:02.895Z"
   },
   {
    "duration": 569,
    "start_time": "2022-05-24T09:26:04.103Z"
   },
   {
    "duration": 23675,
    "start_time": "2022-05-24T09:26:16.441Z"
   },
   {
    "duration": 268,
    "start_time": "2022-05-24T09:26:41.042Z"
   },
   {
    "duration": 350,
    "start_time": "2022-05-24T09:26:41.312Z"
   },
   {
    "duration": 11,
    "start_time": "2022-05-24T09:26:41.664Z"
   },
   {
    "duration": 9,
    "start_time": "2022-05-24T09:26:46.341Z"
   },
   {
    "duration": 221,
    "start_time": "2022-05-24T09:26:46.996Z"
   },
   {
    "duration": 8,
    "start_time": "2022-05-24T09:26:50.086Z"
   },
   {
    "duration": 220,
    "start_time": "2022-05-24T09:26:50.549Z"
   },
   {
    "duration": 52,
    "start_time": "2022-05-24T09:26:54.310Z"
   },
   {
    "duration": 69,
    "start_time": "2022-05-24T09:26:55.006Z"
   },
   {
    "duration": 11,
    "start_time": "2022-05-24T09:26:57.021Z"
   },
   {
    "duration": 15,
    "start_time": "2022-05-24T09:27:34.361Z"
   },
   {
    "duration": 9,
    "start_time": "2022-05-24T09:28:00.606Z"
   },
   {
    "duration": 12,
    "start_time": "2022-05-24T09:28:09.160Z"
   },
   {
    "duration": 11,
    "start_time": "2022-05-24T09:30:38.465Z"
   },
   {
    "duration": 15,
    "start_time": "2022-05-24T09:30:48.171Z"
   },
   {
    "duration": 17,
    "start_time": "2022-05-24T09:31:28.329Z"
   },
   {
    "duration": 30,
    "start_time": "2022-05-24T09:35:08.396Z"
   },
   {
    "duration": 137,
    "start_time": "2022-05-24T09:35:26.871Z"
   },
   {
    "duration": 150,
    "start_time": "2022-05-24T09:36:05.290Z"
   },
   {
    "duration": 138,
    "start_time": "2022-05-24T09:36:09.852Z"
   },
   {
    "duration": 51,
    "start_time": "2022-05-24T10:08:57.680Z"
   },
   {
    "duration": 68,
    "start_time": "2022-05-24T10:09:07.506Z"
   },
   {
    "duration": 7,
    "start_time": "2022-05-24T10:11:12.511Z"
   },
   {
    "duration": 8,
    "start_time": "2022-05-24T10:11:21.653Z"
   },
   {
    "duration": 8,
    "start_time": "2022-05-24T10:11:30.959Z"
   },
   {
    "duration": 51,
    "start_time": "2022-05-24T10:11:34.392Z"
   },
   {
    "duration": 8,
    "start_time": "2022-05-24T10:11:35.498Z"
   },
   {
    "duration": 299,
    "start_time": "2022-05-24T10:21:56.984Z"
   },
   {
    "duration": 29,
    "start_time": "2022-05-24T10:22:17.193Z"
   },
   {
    "duration": 29,
    "start_time": "2022-05-24T10:26:18.240Z"
   },
   {
    "duration": 27,
    "start_time": "2022-05-24T10:26:50.858Z"
   },
   {
    "duration": 30,
    "start_time": "2022-05-24T10:27:43.401Z"
   },
   {
    "duration": 21,
    "start_time": "2022-05-24T10:27:55.347Z"
   },
   {
    "duration": 25,
    "start_time": "2022-05-24T10:28:09.348Z"
   },
   {
    "duration": 790,
    "start_time": "2022-05-24T10:29:08.789Z"
   },
   {
    "duration": 23,
    "start_time": "2022-05-24T10:29:26.038Z"
   },
   {
    "duration": 250,
    "start_time": "2022-05-24T10:35:20.700Z"
   },
   {
    "duration": 18,
    "start_time": "2022-05-24T10:37:25.684Z"
   },
   {
    "duration": 495,
    "start_time": "2022-05-24T10:37:26.803Z"
   },
   {
    "duration": 241,
    "start_time": "2022-05-24T10:37:34.598Z"
   },
   {
    "duration": 612,
    "start_time": "2022-05-24T10:51:28.366Z"
   },
   {
    "duration": 10,
    "start_time": "2022-05-24T10:51:44.095Z"
   },
   {
    "duration": 57,
    "start_time": "2022-05-24T16:31:48.783Z"
   },
   {
    "duration": 1572,
    "start_time": "2022-05-24T16:31:53.308Z"
   },
   {
    "duration": 2391,
    "start_time": "2022-05-24T16:31:54.882Z"
   },
   {
    "duration": 289,
    "start_time": "2022-05-24T16:31:57.276Z"
   },
   {
    "duration": 29,
    "start_time": "2022-05-24T16:31:57.566Z"
   },
   {
    "duration": 13,
    "start_time": "2022-05-24T16:31:57.597Z"
   },
   {
    "duration": 95,
    "start_time": "2022-05-24T16:31:57.612Z"
   },
   {
    "duration": 0,
    "start_time": "2022-05-24T16:31:57.710Z"
   },
   {
    "duration": 0,
    "start_time": "2022-05-24T16:31:57.711Z"
   },
   {
    "duration": 0,
    "start_time": "2022-05-24T16:31:57.712Z"
   },
   {
    "duration": 0,
    "start_time": "2022-05-24T16:31:57.713Z"
   },
   {
    "duration": 0,
    "start_time": "2022-05-24T16:31:57.714Z"
   },
   {
    "duration": 0,
    "start_time": "2022-05-24T16:31:57.715Z"
   },
   {
    "duration": 0,
    "start_time": "2022-05-24T16:31:57.716Z"
   },
   {
    "duration": 0,
    "start_time": "2022-05-24T16:31:57.718Z"
   },
   {
    "duration": 0,
    "start_time": "2022-05-24T16:31:57.718Z"
   },
   {
    "duration": 1,
    "start_time": "2022-05-24T16:31:57.719Z"
   },
   {
    "duration": 0,
    "start_time": "2022-05-24T16:31:57.720Z"
   },
   {
    "duration": 0,
    "start_time": "2022-05-24T16:31:57.722Z"
   },
   {
    "duration": 0,
    "start_time": "2022-05-24T16:31:57.723Z"
   },
   {
    "duration": 0,
    "start_time": "2022-05-24T16:31:57.724Z"
   },
   {
    "duration": 0,
    "start_time": "2022-05-24T16:31:57.725Z"
   },
   {
    "duration": 0,
    "start_time": "2022-05-24T16:31:57.725Z"
   },
   {
    "duration": 0,
    "start_time": "2022-05-24T16:31:57.726Z"
   },
   {
    "duration": 0,
    "start_time": "2022-05-24T16:31:57.760Z"
   },
   {
    "duration": 0,
    "start_time": "2022-05-24T16:31:57.761Z"
   },
   {
    "duration": 0,
    "start_time": "2022-05-24T16:31:57.763Z"
   },
   {
    "duration": 0,
    "start_time": "2022-05-24T16:31:57.764Z"
   },
   {
    "duration": 0,
    "start_time": "2022-05-24T16:31:57.766Z"
   },
   {
    "duration": 18,
    "start_time": "2022-05-24T16:32:18.325Z"
   },
   {
    "duration": 14,
    "start_time": "2022-05-24T16:32:26.128Z"
   },
   {
    "duration": 13,
    "start_time": "2022-05-24T16:32:58.596Z"
   },
   {
    "duration": 882,
    "start_time": "2022-05-24T16:33:03.620Z"
   },
   {
    "duration": 183,
    "start_time": "2022-05-24T16:33:09.679Z"
   },
   {
    "duration": 11,
    "start_time": "2022-05-24T16:41:43.245Z"
   },
   {
    "duration": 161,
    "start_time": "2022-05-24T16:41:44.109Z"
   },
   {
    "duration": 351,
    "start_time": "2022-05-24T16:47:58.491Z"
   },
   {
    "duration": 13,
    "start_time": "2022-05-24T16:47:59.277Z"
   },
   {
    "duration": 212,
    "start_time": "2022-05-24T16:47:59.731Z"
   },
   {
    "duration": 3,
    "start_time": "2022-05-24T16:48:00.071Z"
   },
   {
    "duration": 205,
    "start_time": "2022-05-24T16:48:01.620Z"
   },
   {
    "duration": 36,
    "start_time": "2022-05-24T16:48:03.460Z"
   },
   {
    "duration": 2,
    "start_time": "2022-05-24T16:48:03.836Z"
   },
   {
    "duration": 22913,
    "start_time": "2022-05-24T16:48:04.412Z"
   },
   {
    "duration": 8,
    "start_time": "2022-05-24T16:48:27.896Z"
   },
   {
    "duration": 748,
    "start_time": "2022-05-24T16:48:27.906Z"
   },
   {
    "duration": 9,
    "start_time": "2022-05-24T16:48:28.656Z"
   },
   {
    "duration": 230,
    "start_time": "2022-05-24T16:48:28.666Z"
   },
   {
    "duration": 3,
    "start_time": "2022-05-24T17:04:26.383Z"
   },
   {
    "duration": 243,
    "start_time": "2022-05-24T17:04:27.141Z"
   },
   {
    "duration": 10,
    "start_time": "2022-05-24T17:33:00.803Z"
   },
   {
    "duration": 244,
    "start_time": "2022-05-24T17:33:01.867Z"
   },
   {
    "duration": 80,
    "start_time": "2022-05-24T17:41:13.246Z"
   },
   {
    "duration": 65,
    "start_time": "2022-05-24T17:41:15.089Z"
   },
   {
    "duration": 9,
    "start_time": "2022-05-24T17:41:19.127Z"
   },
   {
    "duration": 16,
    "start_time": "2022-05-24T17:41:24.606Z"
   },
   {
    "duration": 265,
    "start_time": "2022-05-24T17:41:25.258Z"
   },
   {
    "duration": 10,
    "start_time": "2022-05-24T17:41:29.422Z"
   },
   {
    "duration": 33,
    "start_time": "2022-05-24T18:24:37.389Z"
   },
   {
    "duration": 31,
    "start_time": "2022-05-24T18:24:43.454Z"
   },
   {
    "duration": 26,
    "start_time": "2022-05-24T18:25:11.374Z"
   },
   {
    "duration": 17,
    "start_time": "2022-05-24T18:25:15.848Z"
   },
   {
    "duration": 13,
    "start_time": "2022-05-24T18:25:40.946Z"
   },
   {
    "duration": 25,
    "start_time": "2022-05-24T18:25:56.483Z"
   },
   {
    "duration": 8,
    "start_time": "2022-05-24T18:27:11.818Z"
   },
   {
    "duration": 211,
    "start_time": "2022-05-24T18:27:14.534Z"
   },
   {
    "duration": 11,
    "start_time": "2022-05-24T18:27:34.442Z"
   },
   {
    "duration": 12,
    "start_time": "2022-05-24T18:27:39.323Z"
   },
   {
    "duration": 16,
    "start_time": "2022-05-24T18:28:02.021Z"
   },
   {
    "duration": 215,
    "start_time": "2022-05-24T18:28:04.214Z"
   },
   {
    "duration": 20,
    "start_time": "2022-05-24T18:28:17.685Z"
   },
   {
    "duration": 237,
    "start_time": "2022-05-24T18:28:18.712Z"
   },
   {
    "duration": 3,
    "start_time": "2022-05-24T18:28:27.946Z"
   },
   {
    "duration": 2594,
    "start_time": "2022-05-24T18:28:27.951Z"
   },
   {
    "duration": 335,
    "start_time": "2022-05-24T18:28:30.548Z"
   },
   {
    "duration": 41,
    "start_time": "2022-05-24T18:28:30.886Z"
   },
   {
    "duration": 51,
    "start_time": "2022-05-24T18:28:30.930Z"
   },
   {
    "duration": 49,
    "start_time": "2022-05-24T18:28:30.987Z"
   },
   {
    "duration": 264,
    "start_time": "2022-05-24T18:28:31.037Z"
   },
   {
    "duration": 12,
    "start_time": "2022-05-24T18:28:31.302Z"
   },
   {
    "duration": 210,
    "start_time": "2022-05-24T18:28:31.316Z"
   },
   {
    "duration": 19,
    "start_time": "2022-05-24T18:28:31.528Z"
   },
   {
    "duration": 23,
    "start_time": "2022-05-24T18:28:31.568Z"
   },
   {
    "duration": 286,
    "start_time": "2022-05-24T18:28:31.593Z"
   },
   {
    "duration": 8,
    "start_time": "2022-05-24T18:28:31.884Z"
   },
   {
    "duration": 302,
    "start_time": "2022-05-24T18:28:31.895Z"
   },
   {
    "duration": 43,
    "start_time": "2022-05-24T18:28:32.202Z"
   },
   {
    "duration": 3,
    "start_time": "2022-05-24T18:28:32.246Z"
   },
   {
    "duration": 27352,
    "start_time": "2022-05-24T18:28:32.259Z"
   },
   {
    "duration": 229,
    "start_time": "2022-05-24T18:28:59.994Z"
   },
   {
    "duration": 14,
    "start_time": "2022-05-24T18:29:00.225Z"
   },
   {
    "duration": 252,
    "start_time": "2022-05-24T18:29:00.241Z"
   },
   {
    "duration": 74,
    "start_time": "2022-05-24T18:29:00.495Z"
   },
   {
    "duration": 84,
    "start_time": "2022-05-24T18:29:00.570Z"
   },
   {
    "duration": 18,
    "start_time": "2022-05-24T18:29:00.671Z"
   },
   {
    "duration": 36,
    "start_time": "2022-05-24T18:29:00.690Z"
   },
   {
    "duration": 268,
    "start_time": "2022-05-24T18:29:00.727Z"
   },
   {
    "duration": 10,
    "start_time": "2022-05-24T18:29:00.997Z"
   },
   {
    "duration": 370,
    "start_time": "2022-05-24T18:29:01.010Z"
   },
   {
    "duration": 20,
    "start_time": "2022-05-24T18:29:01.382Z"
   },
   {
    "duration": 3,
    "start_time": "2022-05-24T18:48:41.653Z"
   },
   {
    "duration": 2434,
    "start_time": "2022-05-24T18:48:41.658Z"
   },
   {
    "duration": 281,
    "start_time": "2022-05-24T18:48:44.094Z"
   },
   {
    "duration": 35,
    "start_time": "2022-05-24T18:48:44.376Z"
   },
   {
    "duration": 12,
    "start_time": "2022-05-24T18:48:44.412Z"
   },
   {
    "duration": 14,
    "start_time": "2022-05-24T18:48:44.426Z"
   },
   {
    "duration": 0,
    "start_time": "2022-05-24T18:48:44.459Z"
   },
   {
    "duration": 0,
    "start_time": "2022-05-24T18:48:44.460Z"
   },
   {
    "duration": 0,
    "start_time": "2022-05-24T18:48:44.461Z"
   },
   {
    "duration": 0,
    "start_time": "2022-05-24T18:48:44.461Z"
   },
   {
    "duration": 0,
    "start_time": "2022-05-24T18:48:44.462Z"
   },
   {
    "duration": 0,
    "start_time": "2022-05-24T18:48:44.463Z"
   },
   {
    "duration": 0,
    "start_time": "2022-05-24T18:48:44.464Z"
   },
   {
    "duration": 0,
    "start_time": "2022-05-24T18:48:44.465Z"
   },
   {
    "duration": 0,
    "start_time": "2022-05-24T18:48:44.468Z"
   },
   {
    "duration": 0,
    "start_time": "2022-05-24T18:48:44.469Z"
   },
   {
    "duration": 0,
    "start_time": "2022-05-24T18:48:44.470Z"
   },
   {
    "duration": 0,
    "start_time": "2022-05-24T18:48:44.471Z"
   },
   {
    "duration": 0,
    "start_time": "2022-05-24T18:48:44.472Z"
   },
   {
    "duration": 0,
    "start_time": "2022-05-24T18:48:44.473Z"
   },
   {
    "duration": 0,
    "start_time": "2022-05-24T18:48:44.473Z"
   },
   {
    "duration": 0,
    "start_time": "2022-05-24T18:48:44.474Z"
   },
   {
    "duration": 0,
    "start_time": "2022-05-24T18:48:44.475Z"
   },
   {
    "duration": 0,
    "start_time": "2022-05-24T18:48:44.476Z"
   },
   {
    "duration": 0,
    "start_time": "2022-05-24T18:48:44.477Z"
   },
   {
    "duration": 0,
    "start_time": "2022-05-24T18:48:44.478Z"
   },
   {
    "duration": 0,
    "start_time": "2022-05-24T18:48:44.478Z"
   },
   {
    "duration": 0,
    "start_time": "2022-05-24T18:48:44.479Z"
   },
   {
    "duration": 0,
    "start_time": "2022-05-24T18:48:44.480Z"
   },
   {
    "duration": 0,
    "start_time": "2022-05-24T18:48:44.481Z"
   },
   {
    "duration": 10,
    "start_time": "2022-05-24T18:49:52.693Z"
   },
   {
    "duration": 5,
    "start_time": "2022-05-24T18:49:56.643Z"
   },
   {
    "duration": 2401,
    "start_time": "2022-05-24T18:49:56.650Z"
   },
   {
    "duration": 145,
    "start_time": "2022-05-24T18:49:59.053Z"
   },
   {
    "duration": 34,
    "start_time": "2022-05-24T18:49:59.201Z"
   },
   {
    "duration": 31,
    "start_time": "2022-05-24T18:49:59.237Z"
   },
   {
    "duration": 16,
    "start_time": "2022-05-24T18:49:59.270Z"
   },
   {
    "duration": 24,
    "start_time": "2022-05-24T18:49:59.289Z"
   },
   {
    "duration": 231,
    "start_time": "2022-05-24T18:49:59.316Z"
   },
   {
    "duration": 24,
    "start_time": "2022-05-24T18:49:59.548Z"
   },
   {
    "duration": 176,
    "start_time": "2022-05-24T18:49:59.575Z"
   },
   {
    "duration": 35,
    "start_time": "2022-05-24T18:49:59.752Z"
   },
   {
    "duration": 13,
    "start_time": "2022-05-24T18:49:59.794Z"
   },
   {
    "duration": 213,
    "start_time": "2022-05-24T18:49:59.809Z"
   },
   {
    "duration": 4,
    "start_time": "2022-05-24T18:50:00.023Z"
   },
   {
    "duration": 255,
    "start_time": "2022-05-24T18:50:00.029Z"
   },
   {
    "duration": 32,
    "start_time": "2022-05-24T18:50:00.290Z"
   },
   {
    "duration": 3,
    "start_time": "2022-05-24T18:50:00.323Z"
   },
   {
    "duration": 24211,
    "start_time": "2022-05-24T18:50:00.328Z"
   },
   {
    "duration": 324,
    "start_time": "2022-05-24T18:50:24.541Z"
   },
   {
    "duration": 19,
    "start_time": "2022-05-24T18:50:24.866Z"
   },
   {
    "duration": 23,
    "start_time": "2022-05-24T18:50:24.887Z"
   },
   {
    "duration": 227,
    "start_time": "2022-05-24T18:50:24.912Z"
   },
   {
    "duration": 26,
    "start_time": "2022-05-24T18:50:25.141Z"
   },
   {
    "duration": 205,
    "start_time": "2022-05-24T18:50:25.175Z"
   },
   {
    "duration": 61,
    "start_time": "2022-05-24T18:50:25.382Z"
   },
   {
    "duration": 91,
    "start_time": "2022-05-24T18:50:25.444Z"
   },
   {
    "duration": 9,
    "start_time": "2022-05-24T18:50:25.537Z"
   },
   {
    "duration": 27,
    "start_time": "2022-05-24T18:50:25.560Z"
   },
   {
    "duration": 259,
    "start_time": "2022-05-24T18:50:25.589Z"
   },
   {
    "duration": 17,
    "start_time": "2022-05-24T18:50:25.850Z"
   },
   {
    "duration": 12,
    "start_time": "2022-05-24T19:04:02.633Z"
   },
   {
    "duration": 212,
    "start_time": "2022-05-24T19:07:00.121Z"
   },
   {
    "duration": 237,
    "start_time": "2022-05-24T19:07:09.139Z"
   },
   {
    "duration": 14,
    "start_time": "2022-05-24T19:07:27.608Z"
   },
   {
    "duration": 519,
    "start_time": "2022-05-24T19:07:47.908Z"
   },
   {
    "duration": 4,
    "start_time": "2022-05-24T19:07:51.129Z"
   },
   {
    "duration": 191,
    "start_time": "2022-05-24T19:07:54.803Z"
   },
   {
    "duration": 12,
    "start_time": "2022-05-24T19:08:05.027Z"
   },
   {
    "duration": 1689,
    "start_time": "2022-05-24T19:08:05.752Z"
   },
   {
    "duration": 3,
    "start_time": "2022-05-24T19:08:09.171Z"
   },
   {
    "duration": 212,
    "start_time": "2022-05-24T19:08:09.723Z"
   },
   {
    "duration": 3,
    "start_time": "2022-05-24T19:08:20.740Z"
   },
   {
    "duration": 2230,
    "start_time": "2022-05-24T19:08:20.745Z"
   },
   {
    "duration": 133,
    "start_time": "2022-05-24T19:08:22.977Z"
   },
   {
    "duration": 29,
    "start_time": "2022-05-24T19:08:23.113Z"
   },
   {
    "duration": 41,
    "start_time": "2022-05-24T19:08:23.144Z"
   },
   {
    "duration": 12,
    "start_time": "2022-05-24T19:08:23.186Z"
   },
   {
    "duration": 28,
    "start_time": "2022-05-24T19:08:23.199Z"
   },
   {
    "duration": 194,
    "start_time": "2022-05-24T19:08:23.229Z"
   },
   {
    "duration": 9,
    "start_time": "2022-05-24T19:08:23.426Z"
   },
   {
    "duration": 161,
    "start_time": "2022-05-24T19:08:23.436Z"
   },
   {
    "duration": 17,
    "start_time": "2022-05-24T19:08:23.599Z"
   },
   {
    "duration": 11,
    "start_time": "2022-05-24T19:08:23.617Z"
   },
   {
    "duration": 221,
    "start_time": "2022-05-24T19:08:23.629Z"
   },
   {
    "duration": 19,
    "start_time": "2022-05-24T19:08:23.852Z"
   },
   {
    "duration": 205,
    "start_time": "2022-05-24T19:08:23.873Z"
   },
   {
    "duration": 31,
    "start_time": "2022-05-24T19:08:24.079Z"
   },
   {
    "duration": 2,
    "start_time": "2022-05-24T19:08:24.112Z"
   },
   {
    "duration": 21931,
    "start_time": "2022-05-24T19:08:24.116Z"
   },
   {
    "duration": 324,
    "start_time": "2022-05-24T19:08:46.049Z"
   },
   {
    "duration": 13,
    "start_time": "2022-05-24T19:08:46.375Z"
   },
   {
    "duration": 3,
    "start_time": "2022-05-24T19:08:46.389Z"
   },
   {
    "duration": 214,
    "start_time": "2022-05-24T19:08:46.393Z"
   },
   {
    "duration": 12,
    "start_time": "2022-05-24T19:08:46.609Z"
   },
   {
    "duration": 192,
    "start_time": "2022-05-24T19:08:46.625Z"
   },
   {
    "duration": 78,
    "start_time": "2022-05-24T19:08:46.819Z"
   },
   {
    "duration": 89,
    "start_time": "2022-05-24T19:08:46.899Z"
   },
   {
    "duration": 9,
    "start_time": "2022-05-24T19:08:46.990Z"
   },
   {
    "duration": 24,
    "start_time": "2022-05-24T19:08:47.000Z"
   },
   {
    "duration": 253,
    "start_time": "2022-05-24T19:08:47.026Z"
   },
   {
    "duration": 12,
    "start_time": "2022-05-24T19:08:47.281Z"
   },
   {
    "duration": 3,
    "start_time": "2022-05-24T19:21:19.000Z"
   },
   {
    "duration": 2359,
    "start_time": "2022-05-24T19:21:19.005Z"
   },
   {
    "duration": 121,
    "start_time": "2022-05-24T19:21:21.367Z"
   },
   {
    "duration": 32,
    "start_time": "2022-05-24T19:21:21.490Z"
   },
   {
    "duration": 14,
    "start_time": "2022-05-24T19:21:21.525Z"
   },
   {
    "duration": 37,
    "start_time": "2022-05-24T19:21:21.541Z"
   },
   {
    "duration": 221,
    "start_time": "2022-05-24T19:21:21.583Z"
   },
   {
    "duration": 9,
    "start_time": "2022-05-24T19:21:21.805Z"
   },
   {
    "duration": 193,
    "start_time": "2022-05-24T19:21:21.816Z"
   },
   {
    "duration": 26,
    "start_time": "2022-05-24T19:21:22.011Z"
   },
   {
    "duration": 27,
    "start_time": "2022-05-24T19:21:22.039Z"
   },
   {
    "duration": 259,
    "start_time": "2022-05-24T19:21:22.068Z"
   },
   {
    "duration": 4,
    "start_time": "2022-05-24T19:21:22.328Z"
   },
   {
    "duration": 262,
    "start_time": "2022-05-24T19:21:22.335Z"
   },
   {
    "duration": 33,
    "start_time": "2022-05-24T19:21:22.599Z"
   },
   {
    "duration": 2,
    "start_time": "2022-05-24T19:21:22.634Z"
   },
   {
    "duration": 25589,
    "start_time": "2022-05-24T19:21:22.638Z"
   },
   {
    "duration": 313,
    "start_time": "2022-05-24T19:21:51.783Z"
   },
   {
    "duration": 12,
    "start_time": "2022-05-24T19:21:52.098Z"
   },
   {
    "duration": 2,
    "start_time": "2022-05-24T19:21:52.112Z"
   },
   {
    "duration": 230,
    "start_time": "2022-05-24T19:21:52.115Z"
   },
   {
    "duration": 12,
    "start_time": "2022-05-24T19:21:52.347Z"
   },
   {
    "duration": 207,
    "start_time": "2022-05-24T19:21:52.361Z"
   },
   {
    "duration": 58,
    "start_time": "2022-05-24T19:21:52.570Z"
   },
   {
    "duration": 88,
    "start_time": "2022-05-24T19:21:52.630Z"
   },
   {
    "duration": 9,
    "start_time": "2022-05-24T19:21:52.719Z"
   },
   {
    "duration": 29,
    "start_time": "2022-05-24T19:21:52.730Z"
   },
   {
    "duration": 280,
    "start_time": "2022-05-24T19:21:52.762Z"
   },
   {
    "duration": 10,
    "start_time": "2022-05-24T19:21:53.043Z"
   },
   {
    "duration": 627,
    "start_time": "2022-05-24T19:27:17.626Z"
   },
   {
    "duration": 4,
    "start_time": "2022-05-24T19:32:06.217Z"
   },
   {
    "duration": 2589,
    "start_time": "2022-05-24T19:32:06.224Z"
   },
   {
    "duration": 119,
    "start_time": "2022-05-24T19:32:08.815Z"
   },
   {
    "duration": 56,
    "start_time": "2022-05-24T19:32:08.937Z"
   },
   {
    "duration": 11,
    "start_time": "2022-05-24T19:32:08.995Z"
   },
   {
    "duration": 15,
    "start_time": "2022-05-24T19:32:09.008Z"
   },
   {
    "duration": 231,
    "start_time": "2022-05-24T19:32:09.024Z"
   },
   {
    "duration": 17,
    "start_time": "2022-05-24T19:32:09.259Z"
   },
   {
    "duration": 163,
    "start_time": "2022-05-24T19:32:09.278Z"
   },
   {
    "duration": 24,
    "start_time": "2022-05-24T19:32:09.443Z"
   },
   {
    "duration": 18,
    "start_time": "2022-05-24T19:32:09.469Z"
   },
   {
    "duration": 217,
    "start_time": "2022-05-24T19:32:09.489Z"
   },
   {
    "duration": 4,
    "start_time": "2022-05-24T19:32:09.708Z"
   },
   {
    "duration": 230,
    "start_time": "2022-05-24T19:32:09.713Z"
   },
   {
    "duration": 573,
    "start_time": "2022-05-24T19:32:09.945Z"
   },
   {
    "duration": 331,
    "start_time": "2022-05-24T19:32:10.520Z"
   },
   {
    "duration": 21,
    "start_time": "2022-05-24T19:32:10.853Z"
   },
   {
    "duration": 7,
    "start_time": "2022-05-24T19:32:10.876Z"
   },
   {
    "duration": 243,
    "start_time": "2022-05-24T19:32:10.886Z"
   },
   {
    "duration": 12,
    "start_time": "2022-05-24T19:32:11.131Z"
   },
   {
    "duration": 198,
    "start_time": "2022-05-24T19:32:11.145Z"
   },
   {
    "duration": 69,
    "start_time": "2022-05-24T19:32:11.345Z"
   },
   {
    "duration": 92,
    "start_time": "2022-05-24T19:32:11.416Z"
   },
   {
    "duration": 10,
    "start_time": "2022-05-24T19:32:11.510Z"
   },
   {
    "duration": 18,
    "start_time": "2022-05-24T19:32:11.521Z"
   },
   {
    "duration": 273,
    "start_time": "2022-05-24T19:32:11.541Z"
   },
   {
    "duration": 10,
    "start_time": "2022-05-24T19:32:11.816Z"
   },
   {
    "duration": 12,
    "start_time": "2022-05-24T19:39:46.739Z"
   },
   {
    "duration": 262,
    "start_time": "2022-05-24T19:39:47.324Z"
   },
   {
    "duration": 4,
    "start_time": "2022-05-24T19:40:10.894Z"
   },
   {
    "duration": 2736,
    "start_time": "2022-05-24T19:40:10.900Z"
   },
   {
    "duration": 152,
    "start_time": "2022-05-24T19:40:13.638Z"
   },
   {
    "duration": 34,
    "start_time": "2022-05-24T19:40:13.795Z"
   },
   {
    "duration": 13,
    "start_time": "2022-05-24T19:40:13.832Z"
   },
   {
    "duration": 72,
    "start_time": "2022-05-24T19:40:13.847Z"
   },
   {
    "duration": 299,
    "start_time": "2022-05-24T19:40:13.922Z"
   },
   {
    "duration": 9,
    "start_time": "2022-05-24T19:40:14.223Z"
   },
   {
    "duration": 198,
    "start_time": "2022-05-24T19:40:14.233Z"
   },
   {
    "duration": 38,
    "start_time": "2022-05-24T19:40:14.432Z"
   },
   {
    "duration": 16,
    "start_time": "2022-05-24T19:40:14.474Z"
   },
   {
    "duration": 250,
    "start_time": "2022-05-24T19:40:14.492Z"
   },
   {
    "duration": 5,
    "start_time": "2022-05-24T19:40:14.744Z"
   },
   {
    "duration": 300,
    "start_time": "2022-05-24T19:40:14.762Z"
   },
   {
    "duration": 688,
    "start_time": "2022-05-24T19:40:15.064Z"
   },
   {
    "duration": 385,
    "start_time": "2022-05-24T19:40:15.754Z"
   },
   {
    "duration": 18,
    "start_time": "2022-05-24T19:40:16.141Z"
   },
   {
    "duration": 3,
    "start_time": "2022-05-24T19:40:16.160Z"
   },
   {
    "duration": 238,
    "start_time": "2022-05-24T19:40:16.165Z"
   },
   {
    "duration": 11,
    "start_time": "2022-05-24T19:40:16.405Z"
   },
   {
    "duration": 209,
    "start_time": "2022-05-24T19:40:16.418Z"
   },
   {
    "duration": 66,
    "start_time": "2022-05-24T19:40:16.628Z"
   },
   {
    "duration": 85,
    "start_time": "2022-05-24T19:40:16.697Z"
   },
   {
    "duration": 18,
    "start_time": "2022-05-24T19:40:16.784Z"
   },
   {
    "duration": 23,
    "start_time": "2022-05-24T19:40:16.804Z"
   },
   {
    "duration": 264,
    "start_time": "2022-05-24T19:40:16.828Z"
   },
   {
    "duration": 10,
    "start_time": "2022-05-24T19:40:17.094Z"
   },
   {
    "duration": 57,
    "start_time": "2022-05-25T13:25:18.631Z"
   },
   {
    "duration": 1461,
    "start_time": "2022-05-25T13:25:43.732Z"
   },
   {
    "duration": 2400,
    "start_time": "2022-05-25T13:25:45.195Z"
   },
   {
    "duration": 326,
    "start_time": "2022-05-25T13:25:47.597Z"
   },
   {
    "duration": 30,
    "start_time": "2022-05-25T13:25:47.925Z"
   },
   {
    "duration": 17,
    "start_time": "2022-05-25T13:25:47.958Z"
   },
   {
    "duration": 18,
    "start_time": "2022-05-25T13:25:47.977Z"
   },
   {
    "duration": 318,
    "start_time": "2022-05-25T13:25:47.996Z"
   },
   {
    "duration": 9,
    "start_time": "2022-05-25T13:25:48.316Z"
   },
   {
    "duration": 178,
    "start_time": "2022-05-25T13:25:48.327Z"
   },
   {
    "duration": 20,
    "start_time": "2022-05-25T13:25:48.506Z"
   },
   {
    "duration": 13,
    "start_time": "2022-05-25T13:25:48.527Z"
   },
   {
    "duration": 238,
    "start_time": "2022-05-25T13:25:48.541Z"
   },
   {
    "duration": 4,
    "start_time": "2022-05-25T13:25:48.781Z"
   },
   {
    "duration": 281,
    "start_time": "2022-05-25T13:25:48.787Z"
   },
   {
    "duration": 698,
    "start_time": "2022-05-25T13:25:49.071Z"
   },
   {
    "duration": 423,
    "start_time": "2022-05-25T13:25:49.771Z"
   },
   {
    "duration": 13,
    "start_time": "2022-05-25T13:25:50.196Z"
   },
   {
    "duration": 2,
    "start_time": "2022-05-25T13:25:50.210Z"
   },
   {
    "duration": 219,
    "start_time": "2022-05-25T13:25:50.214Z"
   },
   {
    "duration": 12,
    "start_time": "2022-05-25T13:25:50.435Z"
   },
   {
    "duration": 205,
    "start_time": "2022-05-25T13:25:50.448Z"
   },
   {
    "duration": 51,
    "start_time": "2022-05-25T13:25:50.655Z"
   },
   {
    "duration": 171,
    "start_time": "2022-05-25T13:25:50.708Z"
   },
   {
    "duration": 9,
    "start_time": "2022-05-25T13:25:50.881Z"
   },
   {
    "duration": 19,
    "start_time": "2022-05-25T13:25:50.892Z"
   },
   {
    "duration": 252,
    "start_time": "2022-05-25T13:25:50.913Z"
   },
   {
    "duration": 68,
    "start_time": "2022-05-25T13:25:51.167Z"
   },
   {
    "duration": 0,
    "start_time": "2022-05-25T13:25:51.236Z"
   },
   {
    "duration": 9,
    "start_time": "2022-05-25T13:25:55.985Z"
   },
   {
    "duration": 15,
    "start_time": "2022-05-25T13:28:43.936Z"
   },
   {
    "duration": 410,
    "start_time": "2022-05-25T13:29:07.370Z"
   },
   {
    "duration": 2209,
    "start_time": "2022-05-25T13:29:07.782Z"
   },
   {
    "duration": 119,
    "start_time": "2022-05-25T13:29:09.993Z"
   },
   {
    "duration": 29,
    "start_time": "2022-05-25T13:29:10.114Z"
   },
   {
    "duration": 27,
    "start_time": "2022-05-25T13:29:10.144Z"
   },
   {
    "duration": 26,
    "start_time": "2022-05-25T13:29:10.173Z"
   },
   {
    "duration": 225,
    "start_time": "2022-05-25T13:29:10.200Z"
   },
   {
    "duration": 8,
    "start_time": "2022-05-25T13:29:10.427Z"
   },
   {
    "duration": 170,
    "start_time": "2022-05-25T13:29:10.437Z"
   },
   {
    "duration": 19,
    "start_time": "2022-05-25T13:29:10.610Z"
   },
   {
    "duration": 13,
    "start_time": "2022-05-25T13:29:10.631Z"
   },
   {
    "duration": 258,
    "start_time": "2022-05-25T13:29:10.645Z"
   },
   {
    "duration": 3,
    "start_time": "2022-05-25T13:29:10.905Z"
   },
   {
    "duration": 263,
    "start_time": "2022-05-25T13:29:10.910Z"
   },
   {
    "duration": 631,
    "start_time": "2022-05-25T13:29:11.176Z"
   },
   {
    "duration": 346,
    "start_time": "2022-05-25T13:29:11.808Z"
   },
   {
    "duration": 28,
    "start_time": "2022-05-25T13:29:12.156Z"
   },
   {
    "duration": 5,
    "start_time": "2022-05-25T13:29:12.186Z"
   },
   {
    "duration": 224,
    "start_time": "2022-05-25T13:29:12.193Z"
   },
   {
    "duration": 13,
    "start_time": "2022-05-25T13:29:12.419Z"
   },
   {
    "duration": 330,
    "start_time": "2022-05-25T13:29:12.433Z"
   },
   {
    "duration": 74,
    "start_time": "2022-05-25T13:29:12.765Z"
   },
   {
    "duration": 101,
    "start_time": "2022-05-25T13:29:12.840Z"
   },
   {
    "duration": 9,
    "start_time": "2022-05-25T13:29:12.943Z"
   },
   {
    "duration": 35,
    "start_time": "2022-05-25T13:29:12.954Z"
   },
   {
    "duration": 269,
    "start_time": "2022-05-25T13:29:12.991Z"
   },
   {
    "duration": 33,
    "start_time": "2022-05-25T13:29:13.262Z"
   },
   {
    "duration": 0,
    "start_time": "2022-05-25T13:29:13.297Z"
   },
   {
    "duration": 1165,
    "start_time": "2022-05-25T13:29:22.681Z"
   },
   {
    "duration": 872,
    "start_time": "2022-05-25T13:32:29.427Z"
   },
   {
    "duration": 16,
    "start_time": "2022-05-25T13:41:44.241Z"
   },
   {
    "duration": 1089,
    "start_time": "2022-05-25T13:43:25.397Z"
   },
   {
    "duration": 18,
    "start_time": "2022-05-25T13:43:29.855Z"
   },
   {
    "duration": 808,
    "start_time": "2022-05-25T13:44:23.989Z"
   },
   {
    "duration": 18,
    "start_time": "2022-05-25T13:44:27.757Z"
   },
   {
    "duration": 15,
    "start_time": "2022-05-25T13:44:36.447Z"
   },
   {
    "duration": 693,
    "start_time": "2022-05-25T13:44:39.982Z"
   },
   {
    "duration": 15,
    "start_time": "2022-05-25T13:44:41.878Z"
   },
   {
    "duration": 19,
    "start_time": "2022-05-25T13:45:06.658Z"
   },
   {
    "duration": 22,
    "start_time": "2022-05-25T13:45:38.407Z"
   },
   {
    "duration": 19,
    "start_time": "2022-05-25T13:45:46.639Z"
   },
   {
    "duration": 598,
    "start_time": "2022-05-25T13:46:14.539Z"
   },
   {
    "duration": 19,
    "start_time": "2022-05-25T13:46:32.013Z"
   },
   {
    "duration": 24,
    "start_time": "2022-05-25T13:46:42.183Z"
   },
   {
    "duration": 50,
    "start_time": "2022-05-25T13:49:04.664Z"
   },
   {
    "duration": 29,
    "start_time": "2022-05-25T13:49:52.791Z"
   },
   {
    "duration": 18,
    "start_time": "2022-05-25T13:50:56.415Z"
   },
   {
    "duration": 950,
    "start_time": "2022-05-25T13:52:11.046Z"
   },
   {
    "duration": 47,
    "start_time": "2022-05-25T13:52:13.680Z"
   },
   {
    "duration": 19,
    "start_time": "2022-05-25T13:52:20.416Z"
   },
   {
    "duration": 29,
    "start_time": "2022-05-25T13:52:29.058Z"
   },
   {
    "duration": 23,
    "start_time": "2022-05-25T13:52:50.087Z"
   },
   {
    "duration": 22,
    "start_time": "2022-05-25T13:52:58.797Z"
   },
   {
    "duration": 22,
    "start_time": "2022-05-25T13:53:09.950Z"
   },
   {
    "duration": 11,
    "start_time": "2022-05-25T13:54:32.877Z"
   },
   {
    "duration": 30,
    "start_time": "2022-05-25T13:55:22.911Z"
   },
   {
    "duration": 34,
    "start_time": "2022-05-25T13:56:03.004Z"
   },
   {
    "duration": 11,
    "start_time": "2022-05-25T13:56:36.792Z"
   },
   {
    "duration": 951,
    "start_time": "2022-05-25T13:57:41.897Z"
   },
   {
    "duration": 15,
    "start_time": "2022-05-25T13:57:47.057Z"
   },
   {
    "duration": 42,
    "start_time": "2022-05-25T13:57:48.965Z"
   },
   {
    "duration": 839,
    "start_time": "2022-05-25T13:59:27.367Z"
   },
   {
    "duration": 23,
    "start_time": "2022-05-25T13:59:47.680Z"
   },
   {
    "duration": 800,
    "start_time": "2022-05-25T14:00:13.180Z"
   },
   {
    "duration": 23,
    "start_time": "2022-05-25T14:01:11.396Z"
   },
   {
    "duration": 27,
    "start_time": "2022-05-25T14:01:32.549Z"
   },
   {
    "duration": 17,
    "start_time": "2022-05-25T14:01:52.432Z"
   },
   {
    "duration": 61,
    "start_time": "2022-05-25T14:02:15.755Z"
   },
   {
    "duration": 75,
    "start_time": "2022-05-25T14:02:18.323Z"
   },
   {
    "duration": 10,
    "start_time": "2022-05-25T14:02:21.659Z"
   },
   {
    "duration": 20,
    "start_time": "2022-05-25T14:02:25.579Z"
   },
   {
    "duration": 19,
    "start_time": "2022-05-25T14:02:45.822Z"
   },
   {
    "duration": 236,
    "start_time": "2022-05-25T14:02:49.282Z"
   },
   {
    "duration": 845,
    "start_time": "2022-05-25T14:02:51.760Z"
   },
   {
    "duration": 11,
    "start_time": "2022-05-25T14:02:57.719Z"
   },
   {
    "duration": 27,
    "start_time": "2022-05-25T14:03:04.808Z"
   },
   {
    "duration": 24,
    "start_time": "2022-05-25T14:03:50.807Z"
   },
   {
    "duration": 24,
    "start_time": "2022-05-25T14:04:06.600Z"
   },
   {
    "duration": 21,
    "start_time": "2022-05-25T14:04:36.844Z"
   },
   {
    "duration": 29,
    "start_time": "2022-05-25T14:04:53.678Z"
   },
   {
    "duration": 826,
    "start_time": "2022-05-25T14:05:34.315Z"
   },
   {
    "duration": 35,
    "start_time": "2022-05-25T14:05:35.143Z"
   },
   {
    "duration": 2,
    "start_time": "2022-05-25T14:05:43.949Z"
   },
   {
    "duration": 23,
    "start_time": "2022-05-25T14:05:45.884Z"
   },
   {
    "duration": 21,
    "start_time": "2022-05-25T14:05:55.239Z"
   },
   {
    "duration": 25,
    "start_time": "2022-05-25T14:06:09.216Z"
   },
   {
    "duration": 25,
    "start_time": "2022-05-25T14:06:19.386Z"
   },
   {
    "duration": 65,
    "start_time": "2022-05-25T14:07:00.525Z"
   },
   {
    "duration": 24,
    "start_time": "2022-05-25T14:07:20.834Z"
   },
   {
    "duration": 24,
    "start_time": "2022-05-25T14:07:32.746Z"
   },
   {
    "duration": 29,
    "start_time": "2022-05-25T14:07:44.052Z"
   },
   {
    "duration": 1336,
    "start_time": "2022-05-25T14:08:30.489Z"
   },
   {
    "duration": 4,
    "start_time": "2022-05-25T14:08:32.466Z"
   },
   {
    "duration": 22,
    "start_time": "2022-05-25T14:08:33.794Z"
   },
   {
    "duration": 21,
    "start_time": "2022-05-25T14:09:04.278Z"
   },
   {
    "duration": 28,
    "start_time": "2022-05-25T14:09:14.120Z"
   },
   {
    "duration": 43,
    "start_time": "2022-05-25T14:09:22.145Z"
   },
   {
    "duration": 25,
    "start_time": "2022-05-25T14:10:06.620Z"
   },
   {
    "duration": 16,
    "start_time": "2022-05-25T14:10:20.001Z"
   },
   {
    "duration": 9,
    "start_time": "2022-05-25T14:11:35.703Z"
   },
   {
    "duration": 8,
    "start_time": "2022-05-25T14:12:30.980Z"
   },
   {
    "duration": 18,
    "start_time": "2022-05-25T14:12:36.120Z"
   },
   {
    "duration": 18,
    "start_time": "2022-05-25T14:13:48.513Z"
   },
   {
    "duration": 9,
    "start_time": "2022-05-25T14:15:32.087Z"
   },
   {
    "duration": 22,
    "start_time": "2022-05-25T14:15:34.039Z"
   },
   {
    "duration": 11,
    "start_time": "2022-05-25T14:17:02.690Z"
   },
   {
    "duration": 5,
    "start_time": "2022-05-25T14:17:16.611Z"
   },
   {
    "duration": 56,
    "start_time": "2022-05-25T18:51:42.056Z"
   },
   {
    "duration": 1682,
    "start_time": "2022-05-25T18:51:48.070Z"
   },
   {
    "duration": 2366,
    "start_time": "2022-05-25T18:51:49.754Z"
   },
   {
    "duration": 212,
    "start_time": "2022-05-25T18:51:52.122Z"
   },
   {
    "duration": 27,
    "start_time": "2022-05-25T18:51:52.336Z"
   },
   {
    "duration": 13,
    "start_time": "2022-05-25T18:51:52.365Z"
   },
   {
    "duration": 23,
    "start_time": "2022-05-25T18:51:52.380Z"
   },
   {
    "duration": 216,
    "start_time": "2022-05-25T18:51:52.404Z"
   },
   {
    "duration": 8,
    "start_time": "2022-05-25T18:51:52.621Z"
   },
   {
    "duration": 160,
    "start_time": "2022-05-25T18:51:52.631Z"
   },
   {
    "duration": 20,
    "start_time": "2022-05-25T18:51:52.794Z"
   },
   {
    "duration": 27,
    "start_time": "2022-05-25T18:51:52.815Z"
   },
   {
    "duration": 204,
    "start_time": "2022-05-25T18:51:52.844Z"
   },
   {
    "duration": 3,
    "start_time": "2022-05-25T18:51:53.050Z"
   },
   {
    "duration": 229,
    "start_time": "2022-05-25T18:51:53.055Z"
   },
   {
    "duration": 547,
    "start_time": "2022-05-25T18:51:53.286Z"
   },
   {
    "duration": 309,
    "start_time": "2022-05-25T18:51:53.835Z"
   },
   {
    "duration": 15,
    "start_time": "2022-05-25T18:51:54.146Z"
   },
   {
    "duration": 3,
    "start_time": "2022-05-25T18:51:54.163Z"
   },
   {
    "duration": 223,
    "start_time": "2022-05-25T18:51:54.168Z"
   },
   {
    "duration": 13,
    "start_time": "2022-05-25T18:51:54.393Z"
   },
   {
    "duration": 194,
    "start_time": "2022-05-25T18:51:54.408Z"
   },
   {
    "duration": 146,
    "start_time": "2022-05-25T18:51:54.605Z"
   },
   {
    "duration": 65,
    "start_time": "2022-05-25T18:51:54.753Z"
   },
   {
    "duration": 30,
    "start_time": "2022-05-25T18:51:54.820Z"
   },
   {
    "duration": 21,
    "start_time": "2022-05-25T18:51:54.851Z"
   },
   {
    "duration": 238,
    "start_time": "2022-05-25T18:51:54.873Z"
   },
   {
    "duration": 1122,
    "start_time": "2022-05-25T18:51:55.112Z"
   },
   {
    "duration": 16,
    "start_time": "2022-05-25T18:51:56.237Z"
   },
   {
    "duration": 9,
    "start_time": "2022-05-25T18:51:56.254Z"
   },
   {
    "duration": 14,
    "start_time": "2022-05-25T18:51:56.265Z"
   },
   {
    "duration": 10,
    "start_time": "2022-05-25T18:51:56.280Z"
   },
   {
    "duration": 44,
    "start_time": "2022-05-25T18:52:47.320Z"
   },
   {
    "duration": 41,
    "start_time": "2022-05-25T18:53:10.450Z"
   },
   {
    "duration": 48,
    "start_time": "2022-05-25T18:53:22.595Z"
   },
   {
    "duration": 14,
    "start_time": "2022-05-25T18:54:23.012Z"
   },
   {
    "duration": 7,
    "start_time": "2022-05-25T18:54:51.119Z"
   },
   {
    "duration": 9,
    "start_time": "2022-05-25T18:56:06.807Z"
   },
   {
    "duration": 108,
    "start_time": "2022-05-25T18:59:24.505Z"
   },
   {
    "duration": 8,
    "start_time": "2022-05-25T18:59:54.340Z"
   },
   {
    "duration": 1432,
    "start_time": "2022-05-26T13:28:50.383Z"
   },
   {
    "duration": 2157,
    "start_time": "2022-05-26T13:28:51.817Z"
   },
   {
    "duration": 211,
    "start_time": "2022-05-26T13:28:53.976Z"
   },
   {
    "duration": 37,
    "start_time": "2022-05-26T13:28:54.190Z"
   },
   {
    "duration": 15,
    "start_time": "2022-05-26T13:28:54.229Z"
   },
   {
    "duration": 15,
    "start_time": "2022-05-26T13:28:54.246Z"
   },
   {
    "duration": 266,
    "start_time": "2022-05-26T13:28:54.263Z"
   },
   {
    "duration": 9,
    "start_time": "2022-05-26T13:28:54.531Z"
   },
   {
    "duration": 166,
    "start_time": "2022-05-26T13:28:54.541Z"
   },
   {
    "duration": 30,
    "start_time": "2022-05-26T13:28:54.709Z"
   },
   {
    "duration": 13,
    "start_time": "2022-05-26T13:28:54.741Z"
   },
   {
    "duration": 235,
    "start_time": "2022-05-26T13:28:54.756Z"
   },
   {
    "duration": 5,
    "start_time": "2022-05-26T13:28:54.993Z"
   },
   {
    "duration": 232,
    "start_time": "2022-05-26T13:28:55.000Z"
   },
   {
    "duration": 615,
    "start_time": "2022-05-26T13:28:55.234Z"
   },
   {
    "duration": 14,
    "start_time": "2022-05-26T13:29:00.244Z"
   },
   {
    "duration": 10,
    "start_time": "2022-05-26T13:29:32.240Z"
   },
   {
    "duration": 13,
    "start_time": "2022-05-26T13:32:26.820Z"
   },
   {
    "duration": 122,
    "start_time": "2022-05-26T13:32:33.492Z"
   },
   {
    "duration": 9,
    "start_time": "2022-05-26T13:32:44.164Z"
   },
   {
    "duration": 12,
    "start_time": "2022-05-26T13:32:53.856Z"
   },
   {
    "duration": 14,
    "start_time": "2022-05-26T13:32:58.178Z"
   },
   {
    "duration": 5,
    "start_time": "2022-05-26T13:33:03.146Z"
   },
   {
    "duration": 4,
    "start_time": "2022-05-26T13:34:56.252Z"
   },
   {
    "duration": 9,
    "start_time": "2022-05-26T13:35:04.745Z"
   },
   {
    "duration": 5,
    "start_time": "2022-05-26T13:35:21.750Z"
   },
   {
    "duration": 10,
    "start_time": "2022-05-26T13:36:49.349Z"
   },
   {
    "duration": 6,
    "start_time": "2022-05-26T13:38:28.246Z"
   },
   {
    "duration": 17,
    "start_time": "2022-05-26T13:38:56.191Z"
   },
   {
    "duration": 17,
    "start_time": "2022-05-26T13:39:05.346Z"
   },
   {
    "duration": 15,
    "start_time": "2022-05-26T13:39:08.229Z"
   },
   {
    "duration": 16,
    "start_time": "2022-05-26T13:39:17.834Z"
   },
   {
    "duration": 10,
    "start_time": "2022-05-26T13:39:21.949Z"
   },
   {
    "duration": 332,
    "start_time": "2022-05-26T13:40:30.439Z"
   },
   {
    "duration": 17,
    "start_time": "2022-05-26T13:40:33.360Z"
   },
   {
    "duration": 234,
    "start_time": "2022-05-26T13:40:47.951Z"
   },
   {
    "duration": 419,
    "start_time": "2022-05-26T13:41:01.696Z"
   },
   {
    "duration": 16,
    "start_time": "2022-05-26T13:41:45.897Z"
   },
   {
    "duration": 23,
    "start_time": "2022-05-26T13:44:43.924Z"
   },
   {
    "duration": 599,
    "start_time": "2022-05-26T13:46:45.050Z"
   },
   {
    "duration": 974,
    "start_time": "2022-05-26T13:50:14.423Z"
   },
   {
    "duration": 899,
    "start_time": "2022-05-26T13:50:27.382Z"
   },
   {
    "duration": 810,
    "start_time": "2022-05-26T13:50:50.163Z"
   },
   {
    "duration": 833,
    "start_time": "2022-05-26T13:52:11.326Z"
   },
   {
    "duration": 13,
    "start_time": "2022-05-26T14:10:27.675Z"
   },
   {
    "duration": 176,
    "start_time": "2022-05-26T14:10:35.821Z"
   },
   {
    "duration": 2337,
    "start_time": "2022-05-26T14:12:40.152Z"
   },
   {
    "duration": 2455,
    "start_time": "2022-05-26T14:14:21.888Z"
   },
   {
    "duration": 54,
    "start_time": "2022-05-26T14:15:27.869Z"
   },
   {
    "duration": 187,
    "start_time": "2022-05-26T14:15:57.740Z"
   },
   {
    "duration": 85,
    "start_time": "2022-05-26T14:18:15.732Z"
   },
   {
    "duration": 59,
    "start_time": "2022-05-26T14:18:28.916Z"
   },
   {
    "duration": 56,
    "start_time": "2022-05-26T14:18:42.547Z"
   },
   {
    "duration": 123,
    "start_time": "2022-05-26T14:19:54.922Z"
   },
   {
    "duration": 53,
    "start_time": "2022-05-26T23:13:15.469Z"
   },
   {
    "duration": 11,
    "start_time": "2022-05-26T23:13:16.173Z"
   },
   {
    "duration": 1703,
    "start_time": "2022-05-26T23:13:22.997Z"
   },
   {
    "duration": 2409,
    "start_time": "2022-05-26T23:13:24.702Z"
   },
   {
    "duration": 399,
    "start_time": "2022-05-26T23:13:27.114Z"
   },
   {
    "duration": 28,
    "start_time": "2022-05-26T23:13:27.515Z"
   },
   {
    "duration": 22,
    "start_time": "2022-05-26T23:13:27.546Z"
   },
   {
    "duration": 45,
    "start_time": "2022-05-26T23:13:27.570Z"
   },
   {
    "duration": 249,
    "start_time": "2022-05-26T23:13:27.617Z"
   },
   {
    "duration": 11,
    "start_time": "2022-05-26T23:13:27.868Z"
   },
   {
    "duration": 241,
    "start_time": "2022-05-26T23:13:27.881Z"
   },
   {
    "duration": 29,
    "start_time": "2022-05-26T23:13:28.124Z"
   },
   {
    "duration": 34,
    "start_time": "2022-05-26T23:13:28.156Z"
   },
   {
    "duration": 327,
    "start_time": "2022-05-26T23:13:28.192Z"
   },
   {
    "duration": 4,
    "start_time": "2022-05-26T23:13:28.521Z"
   },
   {
    "duration": 264,
    "start_time": "2022-05-26T23:13:28.538Z"
   },
   {
    "duration": 654,
    "start_time": "2022-05-26T23:13:28.805Z"
   },
   {
    "duration": 998,
    "start_time": "2022-05-26T23:13:29.461Z"
   },
   {
    "duration": 10,
    "start_time": "2022-05-26T23:13:30.461Z"
   },
   {
    "duration": 391,
    "start_time": "2022-05-26T23:13:30.473Z"
   },
   {
    "duration": 18,
    "start_time": "2022-05-26T23:13:30.866Z"
   },
   {
    "duration": 7,
    "start_time": "2022-05-26T23:13:30.887Z"
   },
   {
    "duration": 327,
    "start_time": "2022-05-26T23:13:30.896Z"
   },
   {
    "duration": 12,
    "start_time": "2022-05-26T23:13:31.225Z"
   },
   {
    "duration": 204,
    "start_time": "2022-05-26T23:13:31.239Z"
   },
   {
    "duration": 53,
    "start_time": "2022-05-26T23:13:31.444Z"
   },
   {
    "duration": 127,
    "start_time": "2022-05-26T23:13:31.499Z"
   },
   {
    "duration": 60,
    "start_time": "2022-05-26T23:13:31.628Z"
   },
   {
    "duration": 30,
    "start_time": "2022-05-26T23:13:31.690Z"
   },
   {
    "duration": 34,
    "start_time": "2022-05-26T23:13:31.723Z"
   },
   {
    "duration": 253,
    "start_time": "2022-05-26T23:13:31.759Z"
   },
   {
    "duration": 1135,
    "start_time": "2022-05-26T23:13:32.014Z"
   },
   {
    "duration": 18,
    "start_time": "2022-05-26T23:13:33.151Z"
   },
   {
    "duration": 11,
    "start_time": "2022-05-26T23:13:33.170Z"
   },
   {
    "duration": 19,
    "start_time": "2022-05-26T23:13:33.182Z"
   },
   {
    "duration": 6,
    "start_time": "2022-05-26T23:13:33.227Z"
   },
   {
    "duration": 3,
    "start_time": "2022-05-26T23:18:56.658Z"
   },
   {
    "duration": 2333,
    "start_time": "2022-05-26T23:18:56.663Z"
   },
   {
    "duration": 119,
    "start_time": "2022-05-26T23:18:58.999Z"
   },
   {
    "duration": 36,
    "start_time": "2022-05-26T23:18:59.133Z"
   },
   {
    "duration": 14,
    "start_time": "2022-05-26T23:18:59.171Z"
   },
   {
    "duration": 15,
    "start_time": "2022-05-26T23:18:59.187Z"
   },
   {
    "duration": 242,
    "start_time": "2022-05-26T23:18:59.204Z"
   },
   {
    "duration": 10,
    "start_time": "2022-05-26T23:18:59.450Z"
   },
   {
    "duration": 157,
    "start_time": "2022-05-26T23:18:59.463Z"
   },
   {
    "duration": 28,
    "start_time": "2022-05-26T23:18:59.621Z"
   },
   {
    "duration": 25,
    "start_time": "2022-05-26T23:18:59.652Z"
   },
   {
    "duration": 374,
    "start_time": "2022-05-26T23:18:59.679Z"
   },
   {
    "duration": 4,
    "start_time": "2022-05-26T23:19:00.055Z"
   },
   {
    "duration": 286,
    "start_time": "2022-05-26T23:19:00.060Z"
   },
   {
    "duration": 649,
    "start_time": "2022-05-26T23:19:00.350Z"
   },
   {
    "duration": 969,
    "start_time": "2022-05-26T23:19:01.002Z"
   },
   {
    "duration": 9,
    "start_time": "2022-05-26T23:19:01.973Z"
   },
   {
    "duration": 442,
    "start_time": "2022-05-26T23:19:01.984Z"
   },
   {
    "duration": 19,
    "start_time": "2022-05-26T23:19:02.428Z"
   },
   {
    "duration": 17,
    "start_time": "2022-05-26T23:19:02.449Z"
   },
   {
    "duration": 244,
    "start_time": "2022-05-26T23:19:02.468Z"
   },
   {
    "duration": 18,
    "start_time": "2022-05-26T23:19:02.713Z"
   },
   {
    "duration": 221,
    "start_time": "2022-05-26T23:19:02.739Z"
   },
   {
    "duration": 70,
    "start_time": "2022-05-26T23:19:02.964Z"
   },
   {
    "duration": 223,
    "start_time": "2022-05-26T23:19:03.036Z"
   },
   {
    "duration": 75,
    "start_time": "2022-05-26T23:19:03.261Z"
   },
   {
    "duration": 12,
    "start_time": "2022-05-26T23:19:03.338Z"
   },
   {
    "duration": 29,
    "start_time": "2022-05-26T23:19:03.353Z"
   },
   {
    "duration": 281,
    "start_time": "2022-05-26T23:19:03.384Z"
   },
   {
    "duration": 883,
    "start_time": "2022-05-26T23:19:03.667Z"
   },
   {
    "duration": 24,
    "start_time": "2022-05-26T23:19:04.552Z"
   },
   {
    "duration": 14,
    "start_time": "2022-05-26T23:19:04.578Z"
   },
   {
    "duration": 39,
    "start_time": "2022-05-26T23:19:04.593Z"
   },
   {
    "duration": 11,
    "start_time": "2022-05-26T23:19:04.638Z"
   },
   {
    "duration": 349,
    "start_time": "2022-05-26T23:23:31.753Z"
   },
   {
    "duration": 344,
    "start_time": "2022-05-26T23:23:48.844Z"
   },
   {
    "duration": 13,
    "start_time": "2022-05-26T23:26:21.005Z"
   },
   {
    "duration": 378,
    "start_time": "2022-05-26T23:26:21.513Z"
   },
   {
    "duration": 63,
    "start_time": "2022-05-27T16:05:05.190Z"
   },
   {
    "duration": 2001,
    "start_time": "2022-05-27T16:05:08.275Z"
   },
   {
    "duration": 2576,
    "start_time": "2022-05-27T16:05:10.278Z"
   },
   {
    "duration": 209,
    "start_time": "2022-05-27T16:05:12.857Z"
   },
   {
    "duration": 50,
    "start_time": "2022-05-27T16:05:13.068Z"
   },
   {
    "duration": 31,
    "start_time": "2022-05-27T16:05:13.125Z"
   },
   {
    "duration": 30,
    "start_time": "2022-05-27T16:05:13.158Z"
   },
   {
    "duration": 299,
    "start_time": "2022-05-27T16:05:13.196Z"
   },
   {
    "duration": 10,
    "start_time": "2022-05-27T16:05:13.496Z"
   },
   {
    "duration": 186,
    "start_time": "2022-05-27T16:05:13.508Z"
   },
   {
    "duration": 25,
    "start_time": "2022-05-27T16:05:13.696Z"
   },
   {
    "duration": 13,
    "start_time": "2022-05-27T16:05:13.724Z"
   },
   {
    "duration": 249,
    "start_time": "2022-05-27T16:05:13.739Z"
   },
   {
    "duration": 5,
    "start_time": "2022-05-27T16:05:13.989Z"
   },
   {
    "duration": 250,
    "start_time": "2022-05-27T16:05:14.003Z"
   },
   {
    "duration": 630,
    "start_time": "2022-05-27T16:05:14.255Z"
   },
   {
    "duration": 1010,
    "start_time": "2022-05-27T16:05:14.886Z"
   },
   {
    "duration": 11,
    "start_time": "2022-05-27T16:05:15.903Z"
   },
   {
    "duration": 448,
    "start_time": "2022-05-27T16:05:15.915Z"
   },
   {
    "duration": 46,
    "start_time": "2022-05-27T16:05:16.365Z"
   },
   {
    "duration": 16,
    "start_time": "2022-05-27T16:05:16.413Z"
   },
   {
    "duration": 215,
    "start_time": "2022-05-27T16:05:16.432Z"
   },
   {
    "duration": 11,
    "start_time": "2022-05-27T16:05:16.649Z"
   },
   {
    "duration": 240,
    "start_time": "2022-05-27T16:05:16.662Z"
   },
   {
    "duration": 52,
    "start_time": "2022-05-27T16:05:16.903Z"
   },
   {
    "duration": 95,
    "start_time": "2022-05-27T16:05:16.956Z"
   },
   {
    "duration": 75,
    "start_time": "2022-05-27T16:05:17.053Z"
   },
   {
    "duration": 9,
    "start_time": "2022-05-27T16:05:17.133Z"
   },
   {
    "duration": 17,
    "start_time": "2022-05-27T16:05:17.143Z"
   },
   {
    "duration": 256,
    "start_time": "2022-05-27T16:05:17.162Z"
   },
   {
    "duration": 1730,
    "start_time": "2022-05-27T16:05:17.420Z"
   },
   {
    "duration": 15,
    "start_time": "2022-05-27T16:05:19.151Z"
   },
   {
    "duration": 27,
    "start_time": "2022-05-27T16:05:19.167Z"
   },
   {
    "duration": 29,
    "start_time": "2022-05-27T16:05:19.197Z"
   },
   {
    "duration": 6,
    "start_time": "2022-05-27T16:05:19.228Z"
   },
   {
    "duration": 21,
    "start_time": "2022-05-27T17:53:35.476Z"
   },
   {
    "duration": 2683,
    "start_time": "2022-05-27T17:53:35.499Z"
   },
   {
    "duration": 155,
    "start_time": "2022-05-27T17:53:38.184Z"
   },
   {
    "duration": 42,
    "start_time": "2022-05-27T17:53:38.341Z"
   },
   {
    "duration": 20,
    "start_time": "2022-05-27T17:53:38.385Z"
   },
   {
    "duration": 49,
    "start_time": "2022-05-27T17:53:38.406Z"
   },
   {
    "duration": 237,
    "start_time": "2022-05-27T17:53:38.457Z"
   },
   {
    "duration": 9,
    "start_time": "2022-05-27T17:53:38.696Z"
   },
   {
    "duration": 219,
    "start_time": "2022-05-27T17:53:38.707Z"
   },
   {
    "duration": 22,
    "start_time": "2022-05-27T17:53:38.934Z"
   },
   {
    "duration": 11,
    "start_time": "2022-05-27T17:53:38.958Z"
   },
   {
    "duration": 268,
    "start_time": "2022-05-27T17:53:38.970Z"
   },
   {
    "duration": 3,
    "start_time": "2022-05-27T17:53:39.240Z"
   },
   {
    "duration": 250,
    "start_time": "2022-05-27T17:53:39.248Z"
   },
   {
    "duration": 691,
    "start_time": "2022-05-27T17:53:39.500Z"
   },
   {
    "duration": 1031,
    "start_time": "2022-05-27T17:53:40.193Z"
   },
   {
    "duration": 16,
    "start_time": "2022-05-27T17:53:41.225Z"
   },
   {
    "duration": 377,
    "start_time": "2022-05-27T17:53:41.242Z"
   },
   {
    "duration": 17,
    "start_time": "2022-05-27T17:53:41.624Z"
   },
   {
    "duration": 17,
    "start_time": "2022-05-27T17:53:41.643Z"
   },
   {
    "duration": 247,
    "start_time": "2022-05-27T17:53:41.661Z"
   },
   {
    "duration": 29,
    "start_time": "2022-05-27T17:53:41.909Z"
   },
   {
    "duration": 209,
    "start_time": "2022-05-27T17:53:41.939Z"
   },
   {
    "duration": 216,
    "start_time": "2022-05-27T17:53:42.150Z"
   },
   {
    "duration": 96,
    "start_time": "2022-05-27T17:53:42.367Z"
   },
   {
    "duration": 82,
    "start_time": "2022-05-27T17:53:42.464Z"
   },
   {
    "duration": 9,
    "start_time": "2022-05-27T17:53:42.548Z"
   },
   {
    "duration": 22,
    "start_time": "2022-05-27T17:53:42.558Z"
   },
   {
    "duration": 279,
    "start_time": "2022-05-27T17:53:42.590Z"
   },
   {
    "duration": 1628,
    "start_time": "2022-05-27T17:53:42.871Z"
   },
   {
    "duration": 30,
    "start_time": "2022-05-27T17:53:44.505Z"
   },
   {
    "duration": 12,
    "start_time": "2022-05-27T17:53:44.542Z"
   },
   {
    "duration": 18,
    "start_time": "2022-05-27T17:53:44.556Z"
   },
   {
    "duration": 5,
    "start_time": "2022-05-27T17:53:44.575Z"
   },
   {
    "duration": 4,
    "start_time": "2022-05-27T18:27:30.851Z"
   },
   {
    "duration": 2228,
    "start_time": "2022-05-27T18:27:30.857Z"
   },
   {
    "duration": 110,
    "start_time": "2022-05-27T18:27:33.088Z"
   },
   {
    "duration": 27,
    "start_time": "2022-05-27T18:27:33.199Z"
   },
   {
    "duration": 14,
    "start_time": "2022-05-27T18:27:33.228Z"
   },
   {
    "duration": 11,
    "start_time": "2022-05-27T18:27:33.243Z"
   },
   {
    "duration": 215,
    "start_time": "2022-05-27T18:27:33.256Z"
   },
   {
    "duration": 16,
    "start_time": "2022-05-27T18:27:33.476Z"
   },
   {
    "duration": 159,
    "start_time": "2022-05-27T18:27:33.493Z"
   },
   {
    "duration": 33,
    "start_time": "2022-05-27T18:27:33.653Z"
   },
   {
    "duration": 11,
    "start_time": "2022-05-27T18:27:33.688Z"
   },
   {
    "duration": 208,
    "start_time": "2022-05-27T18:27:33.701Z"
   },
   {
    "duration": 4,
    "start_time": "2022-05-27T18:27:33.910Z"
   },
   {
    "duration": 223,
    "start_time": "2022-05-27T18:27:33.916Z"
   },
   {
    "duration": 546,
    "start_time": "2022-05-27T18:27:34.141Z"
   },
   {
    "duration": 796,
    "start_time": "2022-05-27T18:27:34.689Z"
   },
   {
    "duration": 11,
    "start_time": "2022-05-27T18:27:35.487Z"
   },
   {
    "duration": 431,
    "start_time": "2022-05-27T18:27:35.499Z"
   },
   {
    "duration": 12,
    "start_time": "2022-05-27T18:27:35.932Z"
   },
   {
    "duration": 18,
    "start_time": "2022-05-27T18:27:35.945Z"
   },
   {
    "duration": 205,
    "start_time": "2022-05-27T18:27:35.964Z"
   },
   {
    "duration": 24,
    "start_time": "2022-05-27T18:27:36.170Z"
   },
   {
    "duration": 197,
    "start_time": "2022-05-27T18:27:36.196Z"
   },
   {
    "duration": 49,
    "start_time": "2022-05-27T18:27:36.395Z"
   },
   {
    "duration": 80,
    "start_time": "2022-05-27T18:27:36.446Z"
   },
   {
    "duration": 67,
    "start_time": "2022-05-27T18:27:36.528Z"
   },
   {
    "duration": 8,
    "start_time": "2022-05-27T18:27:36.597Z"
   },
   {
    "duration": 43,
    "start_time": "2022-05-27T18:27:36.606Z"
   },
   {
    "duration": 236,
    "start_time": "2022-05-27T18:27:36.652Z"
   },
   {
    "duration": 1201,
    "start_time": "2022-05-27T18:27:36.890Z"
   },
   {
    "duration": 17,
    "start_time": "2022-05-27T18:27:38.093Z"
   },
   {
    "duration": 11,
    "start_time": "2022-05-27T18:27:38.112Z"
   },
   {
    "duration": 15,
    "start_time": "2022-05-27T18:27:38.125Z"
   },
   {
    "duration": 14,
    "start_time": "2022-05-27T18:27:38.174Z"
   },
   {
    "duration": 59,
    "start_time": "2022-05-28T17:14:18.233Z"
   },
   {
    "duration": 1404,
    "start_time": "2022-05-28T17:14:22.019Z"
   },
   {
    "duration": 2004,
    "start_time": "2022-05-28T17:14:23.425Z"
   },
   {
    "duration": 189,
    "start_time": "2022-05-28T17:14:25.431Z"
   },
   {
    "duration": 31,
    "start_time": "2022-05-28T17:14:25.622Z"
   },
   {
    "duration": 13,
    "start_time": "2022-05-28T17:14:25.654Z"
   },
   {
    "duration": 14,
    "start_time": "2022-05-28T17:14:25.694Z"
   },
   {
    "duration": 216,
    "start_time": "2022-05-28T17:14:25.710Z"
   },
   {
    "duration": 9,
    "start_time": "2022-05-28T17:14:25.927Z"
   },
   {
    "duration": 166,
    "start_time": "2022-05-28T17:14:25.937Z"
   },
   {
    "duration": 29,
    "start_time": "2022-05-28T17:14:26.107Z"
   },
   {
    "duration": 16,
    "start_time": "2022-05-28T17:14:26.138Z"
   },
   {
    "duration": 251,
    "start_time": "2022-05-28T17:14:26.156Z"
   },
   {
    "duration": 4,
    "start_time": "2022-05-28T17:14:26.409Z"
   },
   {
    "duration": 231,
    "start_time": "2022-05-28T17:14:26.415Z"
   },
   {
    "duration": 555,
    "start_time": "2022-05-28T17:14:26.648Z"
   },
   {
    "duration": 903,
    "start_time": "2022-05-28T17:14:27.205Z"
   },
   {
    "duration": 17,
    "start_time": "2022-05-28T17:14:28.110Z"
   },
   {
    "duration": 48,
    "start_time": "2022-05-28T17:15:50.963Z"
   },
   {
    "duration": 57,
    "start_time": "2022-05-28T17:17:54.163Z"
   },
   {
    "duration": 15,
    "start_time": "2022-05-28T17:18:05.928Z"
   },
   {
    "duration": 61,
    "start_time": "2022-05-28T17:18:36.444Z"
   },
   {
    "duration": 64,
    "start_time": "2022-05-28T17:18:52.783Z"
   },
   {
    "duration": 67,
    "start_time": "2022-05-28T17:19:11.925Z"
   },
   {
    "duration": 64,
    "start_time": "2022-05-28T17:20:51.027Z"
   },
   {
    "duration": 76,
    "start_time": "2022-05-28T17:21:43.443Z"
   },
   {
    "duration": 65,
    "start_time": "2022-05-28T17:31:10.789Z"
   },
   {
    "duration": 1541,
    "start_time": "2022-05-28T17:31:15.187Z"
   },
   {
    "duration": 2594,
    "start_time": "2022-05-28T17:31:16.731Z"
   },
   {
    "duration": 286,
    "start_time": "2022-05-28T17:31:19.328Z"
   },
   {
    "duration": 43,
    "start_time": "2022-05-28T17:31:19.616Z"
   },
   {
    "duration": 16,
    "start_time": "2022-05-28T17:31:19.661Z"
   },
   {
    "duration": 16,
    "start_time": "2022-05-28T17:31:19.679Z"
   },
   {
    "duration": 250,
    "start_time": "2022-05-28T17:31:19.696Z"
   },
   {
    "duration": 20,
    "start_time": "2022-05-28T17:31:19.949Z"
   },
   {
    "duration": 214,
    "start_time": "2022-05-28T17:31:19.971Z"
   },
   {
    "duration": 20,
    "start_time": "2022-05-28T17:31:20.188Z"
   },
   {
    "duration": 12,
    "start_time": "2022-05-28T17:31:20.210Z"
   },
   {
    "duration": 242,
    "start_time": "2022-05-28T17:31:20.224Z"
   },
   {
    "duration": 4,
    "start_time": "2022-05-28T17:31:20.468Z"
   },
   {
    "duration": 246,
    "start_time": "2022-05-28T17:31:20.473Z"
   },
   {
    "duration": 663,
    "start_time": "2022-05-28T17:31:20.721Z"
   },
   {
    "duration": 940,
    "start_time": "2022-05-28T17:31:21.386Z"
   },
   {
    "duration": 205,
    "start_time": "2022-05-28T17:31:22.327Z"
   },
   {
    "duration": 10,
    "start_time": "2022-05-28T17:31:22.534Z"
   },
   {
    "duration": 367,
    "start_time": "2022-05-28T17:31:22.545Z"
   },
   {
    "duration": 18,
    "start_time": "2022-05-28T17:31:22.914Z"
   },
   {
    "duration": 25,
    "start_time": "2022-05-28T17:31:22.935Z"
   },
   {
    "duration": 235,
    "start_time": "2022-05-28T17:31:22.962Z"
   },
   {
    "duration": 20,
    "start_time": "2022-05-28T17:31:23.200Z"
   },
   {
    "duration": 241,
    "start_time": "2022-05-28T17:31:23.222Z"
   },
   {
    "duration": 61,
    "start_time": "2022-05-28T17:31:23.466Z"
   },
   {
    "duration": 112,
    "start_time": "2022-05-28T17:31:23.529Z"
   },
   {
    "duration": 54,
    "start_time": "2022-05-28T17:31:23.658Z"
   },
   {
    "duration": 16,
    "start_time": "2022-05-28T17:31:23.717Z"
   },
   {
    "duration": 43,
    "start_time": "2022-05-28T17:31:23.735Z"
   },
   {
    "duration": 265,
    "start_time": "2022-05-28T17:31:23.780Z"
   },
   {
    "duration": 1208,
    "start_time": "2022-05-28T17:31:24.048Z"
   },
   {
    "duration": 18,
    "start_time": "2022-05-28T17:31:25.258Z"
   },
   {
    "duration": 11,
    "start_time": "2022-05-28T17:31:25.278Z"
   },
   {
    "duration": 28,
    "start_time": "2022-05-28T17:31:25.291Z"
   },
   {
    "duration": 12,
    "start_time": "2022-05-28T17:31:25.321Z"
   },
   {
    "duration": 146,
    "start_time": "2022-05-28T17:31:43.791Z"
   },
   {
    "duration": 227,
    "start_time": "2022-05-28T17:31:55.104Z"
   },
   {
    "duration": 163,
    "start_time": "2022-05-28T17:32:02.129Z"
   },
   {
    "duration": 52,
    "start_time": "2022-05-30T20:22:28.103Z"
   },
   {
    "duration": 7,
    "start_time": "2022-05-30T20:22:29.259Z"
   },
   {
    "duration": 1624,
    "start_time": "2022-05-30T20:22:34.365Z"
   },
   {
    "duration": 2901,
    "start_time": "2022-05-30T20:22:35.992Z"
   },
   {
    "duration": 383,
    "start_time": "2022-05-30T20:22:38.895Z"
   },
   {
    "duration": 28,
    "start_time": "2022-05-30T20:22:39.280Z"
   },
   {
    "duration": 14,
    "start_time": "2022-05-30T20:22:39.311Z"
   },
   {
    "duration": 34,
    "start_time": "2022-05-30T20:22:39.326Z"
   },
   {
    "duration": 208,
    "start_time": "2022-05-30T20:22:39.362Z"
   },
   {
    "duration": 9,
    "start_time": "2022-05-30T20:22:39.572Z"
   },
   {
    "duration": 181,
    "start_time": "2022-05-30T20:22:39.582Z"
   },
   {
    "duration": 20,
    "start_time": "2022-05-30T20:22:39.765Z"
   },
   {
    "duration": 11,
    "start_time": "2022-05-30T20:22:39.787Z"
   },
   {
    "duration": 216,
    "start_time": "2022-05-30T20:22:39.800Z"
   },
   {
    "duration": 4,
    "start_time": "2022-05-30T20:22:40.017Z"
   },
   {
    "duration": 206,
    "start_time": "2022-05-30T20:22:40.024Z"
   },
   {
    "duration": 559,
    "start_time": "2022-05-30T20:22:40.231Z"
   },
   {
    "duration": 893,
    "start_time": "2022-05-30T20:22:40.792Z"
   },
   {
    "duration": 84,
    "start_time": "2022-05-30T20:22:41.686Z"
   },
   {
    "duration": 9,
    "start_time": "2022-05-30T20:22:41.771Z"
   },
   {
    "duration": 388,
    "start_time": "2022-05-30T20:22:41.781Z"
   },
   {
    "duration": 12,
    "start_time": "2022-05-30T20:22:42.171Z"
   },
   {
    "duration": 3,
    "start_time": "2022-05-30T20:22:42.184Z"
   },
   {
    "duration": 210,
    "start_time": "2022-05-30T20:22:42.188Z"
   },
   {
    "duration": 12,
    "start_time": "2022-05-30T20:22:42.399Z"
   },
   {
    "duration": 186,
    "start_time": "2022-05-30T20:22:42.412Z"
   },
   {
    "duration": 58,
    "start_time": "2022-05-30T20:22:42.599Z"
   },
   {
    "duration": 60,
    "start_time": "2022-05-30T20:22:42.658Z"
   },
   {
    "duration": 67,
    "start_time": "2022-05-30T20:22:42.720Z"
   },
   {
    "duration": 18,
    "start_time": "2022-05-30T20:22:42.789Z"
   },
   {
    "duration": 17,
    "start_time": "2022-05-30T20:22:42.808Z"
   },
   {
    "duration": 227,
    "start_time": "2022-05-30T20:22:42.827Z"
   },
   {
    "duration": 743,
    "start_time": "2022-05-30T20:22:43.056Z"
   },
   {
    "duration": 20,
    "start_time": "2022-05-30T20:22:43.801Z"
   },
   {
    "duration": 9,
    "start_time": "2022-05-30T20:22:43.822Z"
   },
   {
    "duration": 20,
    "start_time": "2022-05-30T20:22:43.833Z"
   },
   {
    "duration": 5,
    "start_time": "2022-05-30T20:22:43.855Z"
   },
   {
    "duration": 1136,
    "start_time": "2022-06-28T18:51:26.477Z"
   },
   {
    "duration": 1657,
    "start_time": "2022-06-28T18:51:27.615Z"
   },
   {
    "duration": 119,
    "start_time": "2022-06-28T18:51:29.274Z"
   },
   {
    "duration": 22,
    "start_time": "2022-06-28T18:51:29.394Z"
   },
   {
    "duration": 11,
    "start_time": "2022-06-28T18:51:29.418Z"
   },
   {
    "duration": 25,
    "start_time": "2022-06-28T18:51:29.430Z"
   },
   {
    "duration": 182,
    "start_time": "2022-06-28T18:51:29.456Z"
   },
   {
    "duration": 12,
    "start_time": "2022-06-28T18:51:29.639Z"
   },
   {
    "duration": 132,
    "start_time": "2022-06-28T18:51:29.652Z"
   },
   {
    "duration": 16,
    "start_time": "2022-06-28T18:51:29.785Z"
   },
   {
    "duration": 10,
    "start_time": "2022-06-28T18:51:29.802Z"
   },
   {
    "duration": 191,
    "start_time": "2022-06-28T18:51:29.813Z"
   },
   {
    "duration": 3,
    "start_time": "2022-06-28T18:51:30.005Z"
   },
   {
    "duration": 194,
    "start_time": "2022-06-28T18:51:30.010Z"
   },
   {
    "duration": 519,
    "start_time": "2022-06-28T18:51:30.206Z"
   },
   {
    "duration": 844,
    "start_time": "2022-06-28T18:51:30.727Z"
   },
   {
    "duration": 68,
    "start_time": "2022-06-28T18:51:31.572Z"
   },
   {
    "duration": 7,
    "start_time": "2022-06-28T18:51:31.651Z"
   },
   {
    "duration": 276,
    "start_time": "2022-06-28T18:51:31.660Z"
   },
   {
    "duration": 17,
    "start_time": "2022-06-28T18:51:31.938Z"
   },
   {
    "duration": 2,
    "start_time": "2022-06-28T18:51:31.957Z"
   },
   {
    "duration": 174,
    "start_time": "2022-06-28T18:51:31.960Z"
   },
   {
    "duration": 10,
    "start_time": "2022-06-28T18:51:32.135Z"
   },
   {
    "duration": 151,
    "start_time": "2022-06-28T18:51:32.151Z"
   },
   {
    "duration": 51,
    "start_time": "2022-06-28T18:51:32.304Z"
   },
   {
    "duration": 50,
    "start_time": "2022-06-28T18:51:32.357Z"
   },
   {
    "duration": 119,
    "start_time": "2022-06-28T18:51:32.409Z"
   },
   {
    "duration": 8,
    "start_time": "2022-06-28T18:51:32.530Z"
   },
   {
    "duration": 23,
    "start_time": "2022-06-28T18:51:32.539Z"
   },
   {
    "duration": 199,
    "start_time": "2022-06-28T18:51:32.563Z"
   },
   {
    "duration": 1207,
    "start_time": "2022-06-28T18:51:32.763Z"
   },
   {
    "duration": 12,
    "start_time": "2022-06-28T18:51:33.971Z"
   },
   {
    "duration": 7,
    "start_time": "2022-06-28T18:51:33.985Z"
   },
   {
    "duration": 12,
    "start_time": "2022-06-28T18:51:33.993Z"
   },
   {
    "duration": 4,
    "start_time": "2022-06-28T18:51:34.007Z"
   },
   {
    "duration": 1160,
    "start_time": "2022-07-02T18:07:54.657Z"
   },
   {
    "duration": 1998,
    "start_time": "2022-07-02T18:07:55.818Z"
   },
   {
    "duration": 325,
    "start_time": "2022-07-02T18:07:57.818Z"
   },
   {
    "duration": 41,
    "start_time": "2022-07-02T18:07:58.146Z"
   },
   {
    "duration": 15,
    "start_time": "2022-07-02T18:07:58.189Z"
   },
   {
    "duration": 36,
    "start_time": "2022-07-02T18:07:58.206Z"
   },
   {
    "duration": 216,
    "start_time": "2022-07-02T18:07:58.244Z"
   },
   {
    "duration": 9,
    "start_time": "2022-07-02T18:07:58.462Z"
   },
   {
    "duration": 170,
    "start_time": "2022-07-02T18:07:58.472Z"
   },
   {
    "duration": 19,
    "start_time": "2022-07-02T18:07:58.644Z"
   },
   {
    "duration": 12,
    "start_time": "2022-07-02T18:07:58.665Z"
   },
   {
    "duration": 248,
    "start_time": "2022-07-02T18:07:58.679Z"
   },
   {
    "duration": 4,
    "start_time": "2022-07-02T18:07:58.929Z"
   },
   {
    "duration": 219,
    "start_time": "2022-07-02T18:07:58.935Z"
   },
   {
    "duration": 681,
    "start_time": "2022-07-02T18:07:59.157Z"
   },
   {
    "duration": 1053,
    "start_time": "2022-07-02T18:07:59.840Z"
   },
   {
    "duration": 82,
    "start_time": "2022-07-02T18:08:00.894Z"
   },
   {
    "duration": 12,
    "start_time": "2022-07-02T18:08:00.978Z"
   },
   {
    "duration": 329,
    "start_time": "2022-07-02T18:08:00.991Z"
   },
   {
    "duration": 16,
    "start_time": "2022-07-02T18:08:01.322Z"
   },
   {
    "duration": 7,
    "start_time": "2022-07-02T18:08:01.340Z"
   },
   {
    "duration": 319,
    "start_time": "2022-07-02T18:08:01.349Z"
   },
   {
    "duration": 20,
    "start_time": "2022-07-02T18:08:01.670Z"
   },
   {
    "duration": 260,
    "start_time": "2022-07-02T18:08:01.728Z"
   },
   {
    "duration": 54,
    "start_time": "2022-07-02T18:08:01.990Z"
   },
   {
    "duration": 58,
    "start_time": "2022-07-02T18:08:02.046Z"
   },
   {
    "duration": 186,
    "start_time": "2022-07-02T18:08:02.106Z"
   },
   {
    "duration": 22,
    "start_time": "2022-07-02T18:08:02.295Z"
   },
   {
    "duration": 44,
    "start_time": "2022-07-02T18:08:02.319Z"
   },
   {
    "duration": 221,
    "start_time": "2022-07-02T18:08:02.365Z"
   },
   {
    "duration": 1385,
    "start_time": "2022-07-02T18:08:02.588Z"
   },
   {
    "duration": 16,
    "start_time": "2022-07-02T18:08:03.975Z"
   },
   {
    "duration": 9,
    "start_time": "2022-07-02T18:08:03.993Z"
   },
   {
    "duration": 16,
    "start_time": "2022-07-02T18:08:04.004Z"
   },
   {
    "duration": 8,
    "start_time": "2022-07-02T18:08:04.021Z"
   }
  ],
  "kernelspec": {
   "display_name": "Python 3 (ipykernel)",
   "language": "python",
   "name": "python3"
  },
  "language_info": {
   "codemirror_mode": {
    "name": "ipython",
    "version": 3
   },
   "file_extension": ".py",
   "mimetype": "text/x-python",
   "name": "python",
   "nbconvert_exporter": "python",
   "pygments_lexer": "ipython3",
   "version": "3.9.7"
  },
  "toc": {
   "base_numbering": 1,
   "nav_menu": {},
   "number_sections": true,
   "sideBar": true,
   "skip_h1_title": true,
   "title_cell": "Table of Contents",
   "title_sidebar": "Contents",
   "toc_cell": false,
   "toc_position": {},
   "toc_section_display": true,
   "toc_window_display": false
  }
 },
 "nbformat": 4,
 "nbformat_minor": 2
}
